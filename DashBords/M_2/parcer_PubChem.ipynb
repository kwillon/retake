{
  "nbformat": 4,
  "nbformat_minor": 0,
  "metadata": {
    "colab": {
      "provenance": [],
      "gpuType": "T4"
    },
    "kernelspec": {
      "name": "python3",
      "display_name": "Python 3"
    },
    "language_info": {
      "name": "python"
    },
    "accelerator": "GPU"
  },
  "cells": [
    {
      "cell_type": "code",
      "execution_count": null,
      "metadata": {
        "colab": {
          "base_uri": "https://localhost:8080/",
          "height": 1000
        },
        "id": "t4lkYSBc6lP3",
        "outputId": "2777a855-dc60-4764-fcdf-c18982d89d8c"
      },
      "outputs": [
        {
          "output_type": "stream",
          "name": "stderr",
          "text": [
            "Processing compounds:   0%|          | 1/2143 [00:00<16:30,  2.16it/s]"
          ]
        },
        {
          "output_type": "stream",
          "name": "stdout",
          "text": [
            "Ошибка при получении данных для формулы ZnO: 404\n",
            "Ошибка при получении данных для формулы CoFe2O4: 404\n"
          ]
        },
        {
          "output_type": "stream",
          "name": "stderr",
          "text": [
            "\rProcessing compounds:   0%|          | 2/2143 [00:00<15:08,  2.36it/s]"
          ]
        },
        {
          "output_type": "stream",
          "name": "stdout",
          "text": [
            "Сохранен и добавлен в архив: compound_14786_c1.json\n",
            "Ошибка при получении данных для формулы CoFe2O4: 404\n"
          ]
        },
        {
          "output_type": "stream",
          "name": "stderr",
          "text": [
            "\rProcessing compounds:   0%|          | 3/2143 [00:01<14:37,  2.44it/s]"
          ]
        },
        {
          "output_type": "stream",
          "name": "stdout",
          "text": [
            "Ошибка при получении данных для формулы Mn0.50Zn0.50Fe2O4: 404\n",
            "Ошибка при получении данных для формулы 0: 404\n"
          ]
        },
        {
          "output_type": "stream",
          "name": "stderr",
          "text": [
            "\rProcessing compounds:   0%|          | 4/2143 [00:01<14:27,  2.47it/s]"
          ]
        },
        {
          "output_type": "stream",
          "name": "stdout",
          "text": [
            "Ошибка при получении данных для формулы Mn0.50Zn0.50Fe2O4: 404\n",
            "Ошибка при получении данных для формулы 0: 404\n"
          ]
        },
        {
          "output_type": "stream",
          "name": "stderr",
          "text": [
            "\rProcessing compounds:   0%|          | 5/2143 [00:02<14:19,  2.49it/s]"
          ]
        },
        {
          "output_type": "stream",
          "name": "stdout",
          "text": [
            "Ошибка при получении данных для формулы Mn0.50Zn0.50Fe2O4: 404\n",
            "Ошибка при получении данных для формулы 0: 404\n"
          ]
        },
        {
          "output_type": "stream",
          "name": "stderr",
          "text": [
            "\rProcessing compounds:   0%|          | 6/2143 [00:02<14:13,  2.51it/s]"
          ]
        },
        {
          "output_type": "stream",
          "name": "stdout",
          "text": [
            "Ошибка при получении данных для формулы Mn0.50Zn0.50Fe2O4: 404\n",
            "Ошибка при получении данных для формулы 0: 404\n"
          ]
        },
        {
          "output_type": "stream",
          "name": "stderr",
          "text": [
            "\rProcessing compounds:   0%|          | 7/2143 [00:02<14:11,  2.51it/s]"
          ]
        },
        {
          "output_type": "stream",
          "name": "stdout",
          "text": [
            "Ошибка при получении данных для формулы Mn0.50Zn0.50Fe2O4: 404\n",
            "Ошибка при получении данных для формулы 0: 404\n"
          ]
        },
        {
          "output_type": "stream",
          "name": "stderr",
          "text": [
            "\rProcessing compounds:   0%|          | 8/2143 [00:03<14:06,  2.52it/s]"
          ]
        },
        {
          "output_type": "stream",
          "name": "stdout",
          "text": [
            "Ошибка при получении данных для формулы LaFeO3: 404\n",
            "Ошибка при получении данных для формулы 0: 404\n"
          ]
        },
        {
          "output_type": "stream",
          "name": "stderr",
          "text": [
            "\rProcessing compounds:   0%|          | 9/2143 [00:03<14:03,  2.53it/s]"
          ]
        },
        {
          "output_type": "stream",
          "name": "stdout",
          "text": [
            "Ошибка при получении данных для формулы LaFeO3: 404\n",
            "Ошибка при получении данных для формулы 0: 404\n"
          ]
        },
        {
          "output_type": "stream",
          "name": "stderr",
          "text": [
            "\rProcessing compounds:   0%|          | 10/2143 [00:04<14:00,  2.54it/s]"
          ]
        },
        {
          "output_type": "stream",
          "name": "stdout",
          "text": [
            "Ошибка при получении данных для формулы LaFeO3: 404\n",
            "Ошибка при получении данных для формулы 0: 404\n"
          ]
        },
        {
          "output_type": "stream",
          "name": "stderr",
          "text": [
            "\rProcessing compounds:   1%|          | 11/2143 [00:04<13:58,  2.54it/s]"
          ]
        },
        {
          "output_type": "stream",
          "name": "stdout",
          "text": [
            "Ошибка при получении данных для формулы LaFeO3: 404\n",
            "Ошибка при получении данных для формулы 0: 404\n"
          ]
        },
        {
          "output_type": "stream",
          "name": "stderr",
          "text": [
            "\rProcessing compounds:   1%|          | 12/2143 [00:04<14:07,  2.51it/s]"
          ]
        },
        {
          "output_type": "stream",
          "name": "stdout",
          "text": [
            "Ошибка при получении данных для формулы LaFeO3: 404\n",
            "Ошибка при получении данных для формулы 0: 404\n"
          ]
        },
        {
          "output_type": "stream",
          "name": "stderr",
          "text": [
            "\rProcessing compounds:   1%|          | 13/2143 [00:05<14:08,  2.51it/s]"
          ]
        },
        {
          "output_type": "stream",
          "name": "stdout",
          "text": [
            "Ошибка при получении данных для формулы LaFeO3: 404\n",
            "Ошибка при получении данных для формулы 0: 404\n"
          ]
        },
        {
          "output_type": "stream",
          "name": "stderr",
          "text": [
            "\rProcessing compounds:   1%|          | 14/2143 [00:05<14:04,  2.52it/s]"
          ]
        },
        {
          "output_type": "stream",
          "name": "stdout",
          "text": [
            "Ошибка при получении данных для формулы LaFeO3: 404\n",
            "Ошибка при получении данных для формулы 0: 404\n"
          ]
        },
        {
          "output_type": "stream",
          "name": "stderr",
          "text": [
            "\rProcessing compounds:   1%|          | 15/2143 [00:06<14:03,  2.52it/s]"
          ]
        },
        {
          "output_type": "stream",
          "name": "stdout",
          "text": [
            "Ошибка при получении данных для формулы LaFeO3: 404\n",
            "Ошибка при получении данных для формулы 0: 404\n"
          ]
        },
        {
          "output_type": "stream",
          "name": "stderr",
          "text": [
            "\rProcessing compounds:   1%|          | 16/2143 [00:06<14:02,  2.52it/s]"
          ]
        },
        {
          "output_type": "stream",
          "name": "stdout",
          "text": [
            "Ошибка при получении данных для формулы LaFeO3: 404\n",
            "Ошибка при получении данных для формулы 0: 404\n"
          ]
        },
        {
          "output_type": "stream",
          "name": "stderr",
          "text": [
            "\rProcessing compounds:   1%|          | 17/2143 [00:06<13:59,  2.53it/s]"
          ]
        },
        {
          "output_type": "stream",
          "name": "stdout",
          "text": [
            "Ошибка при получении данных для формулы LaFeO3: 404\n",
            "Ошибка при получении данных для формулы 0: 404\n",
            "Сохранен и добавлен в архив: compound_935_c1.json\n"
          ]
        },
        {
          "output_type": "stream",
          "name": "stderr",
          "text": [
            "\rProcessing compounds:   1%|          | 18/2143 [00:07<14:14,  2.49it/s]"
          ]
        },
        {
          "output_type": "stream",
          "name": "stdout",
          "text": [
            "Сохранен и добавлен в архив: compound_938_c2.json\n"
          ]
        },
        {
          "output_type": "stream",
          "name": "stderr",
          "text": [
            "/usr/lib/python3.11/zipfile.py:1567: UserWarning: Duplicate name: 'compound_935_c1.json'\n",
            "  return self._open_to_write(zinfo, force_zip64=force_zip64)\n"
          ]
        },
        {
          "output_type": "stream",
          "name": "stdout",
          "text": [
            "Сохранен и добавлен в архив: compound_935_c1.json\n"
          ]
        },
        {
          "output_type": "stream",
          "name": "stderr",
          "text": [
            "/usr/lib/python3.11/zipfile.py:1567: UserWarning: Duplicate name: 'compound_938_c2.json'\n",
            "  return self._open_to_write(zinfo, force_zip64=force_zip64)\n",
            "\rProcessing compounds:   1%|          | 19/2143 [00:07<14:25,  2.45it/s]"
          ]
        },
        {
          "output_type": "stream",
          "name": "stdout",
          "text": [
            "Сохранен и добавлен в архив: compound_938_c2.json\n",
            "Сохранен и добавлен в архив: compound_935_c1.json\n"
          ]
        },
        {
          "output_type": "stream",
          "name": "stderr",
          "text": [
            "\rProcessing compounds:   1%|          | 20/2143 [00:08<14:38,  2.42it/s]"
          ]
        },
        {
          "output_type": "stream",
          "name": "stdout",
          "text": [
            "Сохранен и добавлен в архив: compound_938_c2.json\n",
            "Сохранен и добавлен в архив: compound_935_c1.json\n"
          ]
        },
        {
          "output_type": "stream",
          "name": "stderr",
          "text": [
            "\rProcessing compounds:   1%|          | 21/2143 [00:08<14:47,  2.39it/s]"
          ]
        },
        {
          "output_type": "stream",
          "name": "stdout",
          "text": [
            "Сохранен и добавлен в архив: compound_938_c2.json\n",
            "Сохранен и добавлен в архив: compound_935_c1.json\n"
          ]
        },
        {
          "output_type": "stream",
          "name": "stderr",
          "text": [
            "\rProcessing compounds:   1%|          | 22/2143 [00:08<14:51,  2.38it/s]"
          ]
        },
        {
          "output_type": "stream",
          "name": "stdout",
          "text": [
            "Сохранен и добавлен в архив: compound_938_c2.json\n",
            "Сохранен и добавлен в архив: compound_935_c1.json\n"
          ]
        },
        {
          "output_type": "stream",
          "name": "stderr",
          "text": [
            "\rProcessing compounds:   1%|          | 23/2143 [00:09<14:53,  2.37it/s]"
          ]
        },
        {
          "output_type": "stream",
          "name": "stdout",
          "text": [
            "Сохранен и добавлен в архив: compound_938_c2.json\n"
          ]
        },
        {
          "output_type": "stream",
          "name": "stderr",
          "text": [
            "\rProcessing compounds:   1%|          | 24/2143 [00:09<14:39,  2.41it/s]"
          ]
        },
        {
          "output_type": "stream",
          "name": "stdout",
          "text": [
            "Сохранен и добавлен в архив: compound_61548_c1.json\n",
            "Ошибка при получении данных для формулы 0: 404\n"
          ]
        },
        {
          "output_type": "stream",
          "name": "stderr",
          "text": [
            "/usr/lib/python3.11/zipfile.py:1567: UserWarning: Duplicate name: 'compound_61548_c1.json'\n",
            "  return self._open_to_write(zinfo, force_zip64=force_zip64)\n",
            "Processing compounds:   1%|          | 25/2143 [00:10<14:26,  2.44it/s]"
          ]
        },
        {
          "output_type": "stream",
          "name": "stdout",
          "text": [
            "Сохранен и добавлен в архив: compound_61548_c1.json\n",
            "Ошибка при получении данных для формулы 0: 404\n"
          ]
        },
        {
          "output_type": "stream",
          "name": "stderr",
          "text": [
            "\rProcessing compounds:   1%|          | 26/2143 [00:10<14:17,  2.47it/s]"
          ]
        },
        {
          "output_type": "stream",
          "name": "stdout",
          "text": [
            "Сохранен и добавлен в архив: compound_61548_c1.json\n",
            "Ошибка при получении данных для формулы 0: 404\n"
          ]
        },
        {
          "output_type": "stream",
          "name": "stderr",
          "text": [
            "\rProcessing compounds:   1%|▏         | 27/2143 [00:10<14:11,  2.49it/s]"
          ]
        },
        {
          "output_type": "stream",
          "name": "stdout",
          "text": [
            "Сохранен и добавлен в архив: compound_61548_c1.json\n",
            "Ошибка при получении данных для формулы 0: 404\n"
          ]
        },
        {
          "output_type": "stream",
          "name": "stderr",
          "text": [
            "\rProcessing compounds:   1%|▏         | 28/2143 [00:11<14:05,  2.50it/s]"
          ]
        },
        {
          "output_type": "stream",
          "name": "stdout",
          "text": [
            "Ошибка при получении данных для формулы CoFe2O4: 404\n",
            "Ошибка при получении данных для формулы 0: 404\n"
          ]
        },
        {
          "output_type": "stream",
          "name": "stderr",
          "text": [
            "\rProcessing compounds:   1%|▏         | 29/2143 [00:11<14:01,  2.51it/s]"
          ]
        },
        {
          "output_type": "stream",
          "name": "stdout",
          "text": [
            "Ошибка при получении данных для формулы BiFeO3: 404\n",
            "Ошибка при получении данных для формулы 0: 404\n"
          ]
        },
        {
          "output_type": "stream",
          "name": "stderr",
          "text": [
            "\rProcessing compounds:   1%|▏         | 30/2143 [00:12<13:59,  2.52it/s]"
          ]
        },
        {
          "output_type": "stream",
          "name": "stdout",
          "text": [
            "Ошибка при получении данных для формулы CoFe2O4: 404\n",
            "Ошибка при получении данных для формулы BiFeO3: 404\n"
          ]
        },
        {
          "output_type": "stream",
          "name": "stderr",
          "text": [
            "\rProcessing compounds:   1%|▏         | 31/2143 [00:12<13:58,  2.52it/s]"
          ]
        },
        {
          "output_type": "stream",
          "name": "stdout",
          "text": [
            "Ошибка при получении данных для формулы CoFe2O4: 404\n",
            "Ошибка при получении данных для формулы BiFeO3: 404\n"
          ]
        },
        {
          "output_type": "stream",
          "name": "stderr",
          "text": [
            "\rProcessing compounds:   1%|▏         | 32/2143 [00:12<13:56,  2.52it/s]"
          ]
        },
        {
          "output_type": "stream",
          "name": "stdout",
          "text": [
            "Ошибка при получении данных для формулы CoFe2O4: 404\n",
            "Ошибка при получении данных для формулы BiFeO3: 404\n"
          ]
        },
        {
          "output_type": "stream",
          "name": "stderr",
          "text": [
            "\rProcessing compounds:   2%|▏         | 33/2143 [00:13<13:56,  2.52it/s]"
          ]
        },
        {
          "output_type": "stream",
          "name": "stdout",
          "text": [
            "Ошибка при получении данных для формулы CoFe2O4: 404\n",
            "Ошибка при получении данных для формулы BiFeO3: 404\n"
          ]
        },
        {
          "output_type": "stream",
          "name": "stderr",
          "text": [
            "\rProcessing compounds:   2%|▏         | 34/2143 [00:13<13:55,  2.53it/s]"
          ]
        },
        {
          "output_type": "stream",
          "name": "stdout",
          "text": [
            "Ошибка при получении данных для формулы CoFe2O4: 404\n",
            "Ошибка при получении данных для формулы BiFeO3: 404\n"
          ]
        },
        {
          "output_type": "stream",
          "name": "stderr",
          "text": [
            "\rProcessing compounds:   2%|▏         | 35/2143 [00:14<13:53,  2.53it/s]"
          ]
        },
        {
          "output_type": "stream",
          "name": "stdout",
          "text": [
            "Ошибка при получении данных для формулы CoFe2O4: 404\n",
            "Ошибка при получении данных для формулы BiFeO3: 404\n"
          ]
        },
        {
          "output_type": "stream",
          "name": "stderr",
          "text": [
            "\rProcessing compounds:   2%|▏         | 36/2143 [00:14<13:49,  2.54it/s]"
          ]
        },
        {
          "output_type": "stream",
          "name": "stdout",
          "text": [
            "Ошибка при получении данных для формулы CoFe2O4: 404\n",
            "Ошибка при получении данных для формулы BiFeO3: 404\n"
          ]
        },
        {
          "output_type": "stream",
          "name": "stderr",
          "text": [
            "\rProcessing compounds:   2%|▏         | 37/2143 [00:14<13:48,  2.54it/s]"
          ]
        },
        {
          "output_type": "stream",
          "name": "stdout",
          "text": [
            "Ошибка при получении данных для формулы CoFe2O4: 404\n",
            "Ошибка при получении данных для формулы BiFeO3: 404\n"
          ]
        },
        {
          "output_type": "stream",
          "name": "stderr",
          "text": [
            "\rProcessing compounds:   2%|▏         | 38/2143 [00:15<13:55,  2.52it/s]"
          ]
        },
        {
          "output_type": "stream",
          "name": "stdout",
          "text": [
            "Сохранен и добавлен в архив: compound_104730_c1.json\n",
            "Сохранен и добавлен в архив: compound_14786_c2.json\n"
          ]
        },
        {
          "output_type": "stream",
          "name": "stderr",
          "text": [
            "/usr/lib/python3.11/zipfile.py:1567: UserWarning: Duplicate name: 'compound_104730_c1.json'\n",
            "  return self._open_to_write(zinfo, force_zip64=force_zip64)\n",
            "/usr/lib/python3.11/zipfile.py:1567: UserWarning: Duplicate name: 'compound_14786_c2.json'\n",
            "  return self._open_to_write(zinfo, force_zip64=force_zip64)\n",
            "\rProcessing compounds:   2%|▏         | 39/2143 [00:15<14:02,  2.50it/s]"
          ]
        },
        {
          "output_type": "stream",
          "name": "stdout",
          "text": [
            "Сохранен и добавлен в архив: compound_104730_c1.json\n",
            "Сохранен и добавлен в архив: compound_14786_c2.json\n",
            "Сохранен и добавлен в архив: compound_104730_c1.json\n"
          ]
        },
        {
          "output_type": "stream",
          "name": "stderr",
          "text": [
            "\rProcessing compounds:   2%|▏         | 40/2143 [00:16<14:31,  2.41it/s]"
          ]
        },
        {
          "output_type": "stream",
          "name": "stdout",
          "text": [
            "Сохранен и добавлен в архив: compound_14786_c2.json\n"
          ]
        },
        {
          "output_type": "stream",
          "name": "stderr",
          "text": [
            "\rProcessing compounds:   2%|▏         | 41/2143 [00:16<15:53,  2.20it/s]"
          ]
        },
        {
          "output_type": "stream",
          "name": "stdout",
          "text": [
            "Сохранен и добавлен в архив: compound_104730_c1.json\n",
            "Сохранен и добавлен в архив: compound_14786_c2.json\n",
            "Ошибка при получении данных для формулы FeRh: 404\n"
          ]
        },
        {
          "output_type": "stream",
          "name": "stderr",
          "text": [
            "\rProcessing compounds:   2%|▏         | 42/2143 [00:17<16:04,  2.18it/s]"
          ]
        },
        {
          "output_type": "stream",
          "name": "stdout",
          "text": [
            "Ошибка при получении данных для формулы 0: 404\n",
            "Ошибка при получении данных для формулы FeRh: 404\n"
          ]
        },
        {
          "output_type": "stream",
          "name": "stderr",
          "text": [
            "\rProcessing compounds:   2%|▏         | 43/2143 [00:17<15:30,  2.26it/s]"
          ]
        },
        {
          "output_type": "stream",
          "name": "stdout",
          "text": [
            "Ошибка при получении данных для формулы 0: 404\n"
          ]
        },
        {
          "output_type": "stream",
          "name": "stderr",
          "text": [
            "\rProcessing compounds:   2%|▏         | 44/2143 [00:17<15:06,  2.32it/s]"
          ]
        },
        {
          "output_type": "stream",
          "name": "stdout",
          "text": [
            "Ошибка при получении данных для формулы FeRh: 404\n",
            "Ошибка при получении данных для формулы 0: 404\n"
          ]
        },
        {
          "output_type": "stream",
          "name": "stderr",
          "text": [
            "\rProcessing compounds:   2%|▏         | 45/2143 [00:18<14:44,  2.37it/s]"
          ]
        },
        {
          "output_type": "stream",
          "name": "stdout",
          "text": [
            "Ошибка при получении данных для формулы FeRh: 404\n",
            "Ошибка при получении данных для формулы 0: 404\n"
          ]
        },
        {
          "output_type": "stream",
          "name": "stderr",
          "text": [
            "\rProcessing compounds:   2%|▏         | 46/2143 [00:18<14:25,  2.42it/s]"
          ]
        },
        {
          "output_type": "stream",
          "name": "stdout",
          "text": [
            "Ошибка при получении данных для формулы FeRh: 404\n",
            "Ошибка при получении данных для формулы 0: 404\n",
            "Ошибка при получении данных для формулы FeRh: 404\n"
          ]
        },
        {
          "output_type": "stream",
          "name": "stderr",
          "text": [
            "\rProcessing compounds:   2%|▏         | 47/2143 [00:19<14:18,  2.44it/s]"
          ]
        },
        {
          "output_type": "stream",
          "name": "stdout",
          "text": [
            "Ошибка при получении данных для формулы 0: 404\n",
            "Ошибка при получении данных для формулы FeRh: 404\n"
          ]
        },
        {
          "output_type": "stream",
          "name": "stderr",
          "text": [
            "\rProcessing compounds:   2%|▏         | 48/2143 [00:19<14:08,  2.47it/s]"
          ]
        },
        {
          "output_type": "stream",
          "name": "stdout",
          "text": [
            "Ошибка при получении данных для формулы 0: 404\n",
            "Ошибка при получении данных для формулы FeRh: 404\n"
          ]
        },
        {
          "output_type": "stream",
          "name": "stderr",
          "text": [
            "\rProcessing compounds:   2%|▏         | 49/2143 [00:19<14:05,  2.48it/s]"
          ]
        },
        {
          "output_type": "stream",
          "name": "stdout",
          "text": [
            "Ошибка при получении данных для формулы 0: 404\n"
          ]
        },
        {
          "output_type": "stream",
          "name": "stderr",
          "text": [
            "\rProcessing compounds:   2%|▏         | 50/2143 [00:20<14:31,  2.40it/s]"
          ]
        },
        {
          "output_type": "stream",
          "name": "stdout",
          "text": [
            "Сохранен и добавлен в архив: compound_14801_c1.json\n",
            "Ошибка при получении данных для формулы 0: 404\n",
            "Сохранен и добавлен в архив: compound_23954_c1.json\n"
          ]
        },
        {
          "output_type": "stream",
          "name": "stderr",
          "text": [
            "\rProcessing compounds:   2%|▏         | 51/2143 [00:20<14:23,  2.42it/s]"
          ]
        },
        {
          "output_type": "stream",
          "name": "stdout",
          "text": [
            "Сохранен и добавлен в архив: compound_16211978_c2.json\n"
          ]
        },
        {
          "output_type": "stream",
          "name": "stderr",
          "text": [
            "/usr/lib/python3.11/zipfile.py:1567: UserWarning: Duplicate name: 'compound_23954_c1.json'\n",
            "  return self._open_to_write(zinfo, force_zip64=force_zip64)\n"
          ]
        },
        {
          "output_type": "stream",
          "name": "stdout",
          "text": [
            "Сохранен и добавлен в архив: compound_23954_c1.json\n"
          ]
        },
        {
          "output_type": "stream",
          "name": "stderr",
          "text": [
            "/usr/lib/python3.11/zipfile.py:1567: UserWarning: Duplicate name: 'compound_16211978_c2.json'\n",
            "  return self._open_to_write(zinfo, force_zip64=force_zip64)\n",
            "\rProcessing compounds:   2%|▏         | 52/2143 [00:21<14:21,  2.43it/s]"
          ]
        },
        {
          "output_type": "stream",
          "name": "stdout",
          "text": [
            "Сохранен и добавлен в архив: compound_16211978_c2.json\n"
          ]
        },
        {
          "output_type": "stream",
          "name": "stderr",
          "text": [
            "\rProcessing compounds:   2%|▏         | 53/2143 [00:21<14:24,  2.42it/s]"
          ]
        },
        {
          "output_type": "stream",
          "name": "stdout",
          "text": [
            "Сохранен и добавлен в архив: compound_23925_c1.json\n",
            "Ошибка при получении данных для формулы Fe2O3: 404\n"
          ]
        },
        {
          "output_type": "stream",
          "name": "stderr",
          "text": [
            "/usr/lib/python3.11/zipfile.py:1567: UserWarning: Duplicate name: 'compound_23925_c1.json'\n",
            "  return self._open_to_write(zinfo, force_zip64=force_zip64)\n",
            "\rProcessing compounds:   3%|▎         | 54/2143 [00:22<14:24,  2.42it/s]"
          ]
        },
        {
          "output_type": "stream",
          "name": "stdout",
          "text": [
            "Сохранен и добавлен в архив: compound_23925_c1.json\n",
            "Ошибка при получении данных для формулы Fe2O3: 404\n"
          ]
        },
        {
          "output_type": "stream",
          "name": "stderr",
          "text": [
            "\rProcessing compounds:   3%|▎         | 55/2143 [00:22<14:24,  2.42it/s]"
          ]
        },
        {
          "output_type": "stream",
          "name": "stdout",
          "text": [
            "Сохранен и добавлен в архив: compound_23925_c1.json\n",
            "Ошибка при получении данных для формулы Fe2O3: 404\n"
          ]
        },
        {
          "output_type": "stream",
          "name": "stderr",
          "text": [
            "\rProcessing compounds:   3%|▎         | 56/2143 [00:22<14:14,  2.44it/s]"
          ]
        },
        {
          "output_type": "stream",
          "name": "stdout",
          "text": [
            "Ошибка при получении данных для формулы FeO: 404\n",
            "Сохранен и добавлен в архив: compound_16211978_c2.json\n"
          ]
        },
        {
          "output_type": "stream",
          "name": "stderr",
          "text": [
            "\rProcessing compounds:   3%|▎         | 57/2143 [00:23<14:05,  2.47it/s]"
          ]
        },
        {
          "output_type": "stream",
          "name": "stdout",
          "text": [
            "Ошибка при получении данных для формулы FeO: 404\n",
            "Сохранен и добавлен в архив: compound_16211978_c2.json\n"
          ]
        },
        {
          "output_type": "stream",
          "name": "stderr",
          "text": [
            "\rProcessing compounds:   3%|▎         | 58/2143 [00:23<14:00,  2.48it/s]"
          ]
        },
        {
          "output_type": "stream",
          "name": "stdout",
          "text": [
            "Ошибка при получении данных для формулы FeO: 404\n",
            "Сохранен и добавлен в архив: compound_16211978_c2.json\n"
          ]
        },
        {
          "output_type": "stream",
          "name": "stderr",
          "text": [
            "\rProcessing compounds:   3%|▎         | 59/2143 [00:24<14:04,  2.47it/s]"
          ]
        },
        {
          "output_type": "stream",
          "name": "stdout",
          "text": [
            "Ошибка при получении данных для формулы FeO: 404\n",
            "Сохранен и добавлен в архив: compound_16211978_c2.json\n"
          ]
        },
        {
          "output_type": "stream",
          "name": "stderr",
          "text": [
            "\rProcessing compounds:   3%|▎         | 60/2143 [00:24<13:59,  2.48it/s]"
          ]
        },
        {
          "output_type": "stream",
          "name": "stdout",
          "text": [
            "Ошибка при получении данных для формулы FeO: 404\n",
            "Сохранен и добавлен в архив: compound_16211978_c2.json\n"
          ]
        },
        {
          "output_type": "stream",
          "name": "stderr",
          "text": [
            "\rProcessing compounds:   3%|▎         | 61/2143 [00:24<13:54,  2.49it/s]"
          ]
        },
        {
          "output_type": "stream",
          "name": "stdout",
          "text": [
            "Ошибка при получении данных для формулы FeO: 404\n",
            "Сохранен и добавлен в архив: compound_16211978_c2.json\n"
          ]
        },
        {
          "output_type": "stream",
          "name": "stderr",
          "text": [
            "\rProcessing compounds:   3%|▎         | 62/2143 [00:25<13:52,  2.50it/s]"
          ]
        },
        {
          "output_type": "stream",
          "name": "stdout",
          "text": [
            "Ошибка при получении данных для формулы FeO: 404\n",
            "Сохранен и добавлен в архив: compound_16211978_c2.json\n"
          ]
        },
        {
          "output_type": "stream",
          "name": "stderr",
          "text": [
            "\rProcessing compounds:   3%|▎         | 63/2143 [00:25<13:48,  2.51it/s]"
          ]
        },
        {
          "output_type": "stream",
          "name": "stdout",
          "text": [
            "Ошибка при получении данных для формулы FeO: 404\n",
            "Сохранен и добавлен в архив: compound_16211978_c2.json\n",
            "Ошибка при получении данных для формулы FeO: 404\n"
          ]
        },
        {
          "output_type": "stream",
          "name": "stderr",
          "text": [
            "\rProcessing compounds:   3%|▎         | 64/2143 [00:26<13:50,  2.50it/s]"
          ]
        },
        {
          "output_type": "stream",
          "name": "stdout",
          "text": [
            "Сохранен и добавлен в архив: compound_16211978_c2.json\n",
            "Ошибка при получении данных для формулы FeO: 404\n"
          ]
        },
        {
          "output_type": "stream",
          "name": "stderr",
          "text": [
            "\rProcessing compounds:   3%|▎         | 65/2143 [00:26<14:50,  2.33it/s]"
          ]
        },
        {
          "output_type": "stream",
          "name": "stdout",
          "text": [
            "Сохранен и добавлен в архив: compound_16211978_c2.json\n",
            "Ошибка при получении данных для формулы FeO: 404\n"
          ]
        },
        {
          "output_type": "stream",
          "name": "stderr",
          "text": [
            "\rProcessing compounds:   3%|▎         | 66/2143 [00:26<14:28,  2.39it/s]"
          ]
        },
        {
          "output_type": "stream",
          "name": "stdout",
          "text": [
            "Сохранен и добавлен в архив: compound_16211978_c2.json\n",
            "Сохранен и добавлен в архив: compound_938_c1.json\n"
          ]
        },
        {
          "output_type": "stream",
          "name": "stderr",
          "text": [
            "\rProcessing compounds:   3%|▎         | 67/2143 [00:27<15:14,  2.27it/s]"
          ]
        },
        {
          "output_type": "stream",
          "name": "stdout",
          "text": [
            "Ошибка при получении данных для формулы 0: 404\n"
          ]
        },
        {
          "output_type": "stream",
          "name": "stderr",
          "text": [
            "\rProcessing compounds:   3%|▎         | 68/2143 [00:27<14:50,  2.33it/s]"
          ]
        },
        {
          "output_type": "stream",
          "name": "stdout",
          "text": [
            "Сохранен и добавлен в архив: compound_16211978_c1.json\n",
            "Ошибка при получении данных для формулы 0: 404\n"
          ]
        },
        {
          "output_type": "stream",
          "name": "stderr",
          "text": [
            "/usr/lib/python3.11/zipfile.py:1567: UserWarning: Duplicate name: 'compound_16211978_c1.json'\n",
            "  return self._open_to_write(zinfo, force_zip64=force_zip64)\n",
            "\rProcessing compounds:   3%|▎         | 69/2143 [00:28<15:13,  2.27it/s]"
          ]
        },
        {
          "output_type": "stream",
          "name": "stdout",
          "text": [
            "Сохранен и добавлен в архив: compound_16211978_c1.json\n",
            "Сохранен и добавлен в архив: compound_938_c2.json\n"
          ]
        },
        {
          "output_type": "stream",
          "name": "stderr",
          "text": [
            "/usr/lib/python3.11/zipfile.py:1567: UserWarning: Duplicate name: 'compound_938_c1.json'\n",
            "  return self._open_to_write(zinfo, force_zip64=force_zip64)\n",
            "\rProcessing compounds:   3%|▎         | 70/2143 [00:28<14:57,  2.31it/s]"
          ]
        },
        {
          "output_type": "stream",
          "name": "stdout",
          "text": [
            "Сохранен и добавлен в архив: compound_938_c1.json\n",
            "Сохранен и добавлен в архив: compound_16211978_c2.json\n"
          ]
        },
        {
          "output_type": "stream",
          "name": "stderr",
          "text": [
            "\rProcessing compounds:   3%|▎         | 71/2143 [00:29<14:34,  2.37it/s]"
          ]
        },
        {
          "output_type": "stream",
          "name": "stdout",
          "text": [
            "Сохранен и добавлен в архив: compound_16211978_c1.json\n",
            "Сохранен и добавлен в архив: compound_938_c2.json\n"
          ]
        },
        {
          "output_type": "stream",
          "name": "stderr",
          "text": [
            "\rProcessing compounds:   3%|▎         | 72/2143 [00:29<14:35,  2.36it/s]"
          ]
        },
        {
          "output_type": "stream",
          "name": "stdout",
          "text": [
            "Сохранен и добавлен в архив: compound_938_c1.json\n",
            "Сохранен и добавлен в архив: compound_16211978_c2.json\n",
            "Ошибка при получении данных для формулы Bi2Fe4O9: 404\n"
          ]
        },
        {
          "output_type": "stream",
          "name": "stderr",
          "text": [
            "\rProcessing compounds:   3%|▎         | 73/2143 [00:29<15:02,  2.29it/s]"
          ]
        },
        {
          "output_type": "stream",
          "name": "stdout",
          "text": [
            "Ошибка при получении данных для формулы BiFeO3: 404\n",
            "Ошибка при получении данных для формулы BiFeO3: 404\n"
          ]
        },
        {
          "output_type": "stream",
          "name": "stderr",
          "text": [
            "\rProcessing compounds:   3%|▎         | 74/2143 [00:30<14:37,  2.36it/s]"
          ]
        },
        {
          "output_type": "stream",
          "name": "stdout",
          "text": [
            "Ошибка при получении данных для формулы Bi2Fe4O9: 404\n",
            "Ошибка при получении данных для формулы BiFeO3: 404\n"
          ]
        },
        {
          "output_type": "stream",
          "name": "stderr",
          "text": [
            "\rProcessing compounds:   3%|▎         | 75/2143 [00:30<14:21,  2.40it/s]"
          ]
        },
        {
          "output_type": "stream",
          "name": "stdout",
          "text": [
            "Ошибка при получении данных для формулы Bi2Fe4O9: 404\n",
            "Ошибка при получении данных для формулы BiFeO3: 404\n"
          ]
        },
        {
          "output_type": "stream",
          "name": "stderr",
          "text": [
            "\rProcessing compounds:   4%|▎         | 76/2143 [00:31<14:06,  2.44it/s]"
          ]
        },
        {
          "output_type": "stream",
          "name": "stdout",
          "text": [
            "Ошибка при получении данных для формулы Bi2Fe4O9: 404\n"
          ]
        },
        {
          "output_type": "stream",
          "name": "stderr",
          "text": [
            "\rProcessing compounds:   4%|▎         | 77/2143 [00:31<14:01,  2.46it/s]"
          ]
        },
        {
          "output_type": "stream",
          "name": "stdout",
          "text": [
            "Сохранен и добавлен в архив: compound_26042_c1.json\n",
            "Ошибка при получении данных для формулы Fe2O3: 404\n"
          ]
        },
        {
          "output_type": "stream",
          "name": "stderr",
          "text": [
            "/usr/lib/python3.11/zipfile.py:1567: UserWarning: Duplicate name: 'compound_26042_c1.json'\n",
            "  return self._open_to_write(zinfo, force_zip64=force_zip64)\n",
            "\rProcessing compounds:   4%|▎         | 78/2143 [00:31<13:58,  2.46it/s]"
          ]
        },
        {
          "output_type": "stream",
          "name": "stdout",
          "text": [
            "Сохранен и добавлен в архив: compound_26042_c1.json\n",
            "Ошибка при получении данных для формулы Fe2O3: 404\n"
          ]
        },
        {
          "output_type": "stream",
          "name": "stderr",
          "text": [
            "\rProcessing compounds:   4%|▎         | 79/2143 [00:32<13:55,  2.47it/s]"
          ]
        },
        {
          "output_type": "stream",
          "name": "stdout",
          "text": [
            "Сохранен и добавлен в архив: compound_26042_c1.json\n",
            "Ошибка при получении данных для формулы Fe2O3: 404\n"
          ]
        },
        {
          "output_type": "stream",
          "name": "stderr",
          "text": [
            "\rProcessing compounds:   4%|▎         | 80/2143 [00:32<15:11,  2.26it/s]"
          ]
        },
        {
          "output_type": "stream",
          "name": "stdout",
          "text": [
            "Сохранен и добавлен в архив: compound_26042_c1.json\n",
            "Ошибка при получении данных для формулы Fe2O3: 404\n",
            "Сохранен и добавлен в архив: compound_26042_c1.json\n"
          ]
        },
        {
          "output_type": "stream",
          "name": "stderr",
          "text": [
            "\rProcessing compounds:   4%|▍         | 81/2143 [00:33<15:37,  2.20it/s]"
          ]
        },
        {
          "output_type": "stream",
          "name": "stdout",
          "text": [
            "Ошибка при получении данных для формулы Fe2O3: 404\n"
          ]
        },
        {
          "output_type": "stream",
          "name": "stderr",
          "text": [
            "\rProcessing compounds:   4%|▍         | 82/2143 [00:33<15:03,  2.28it/s]"
          ]
        },
        {
          "output_type": "stream",
          "name": "stdout",
          "text": [
            "Сохранен и добавлен в архив: compound_26042_c1.json\n",
            "Ошибка при получении данных для формулы Fe2O3: 404\n"
          ]
        },
        {
          "output_type": "stream",
          "name": "stderr",
          "text": [
            "\rProcessing compounds:   4%|▍         | 83/2143 [00:34<14:47,  2.32it/s]"
          ]
        },
        {
          "output_type": "stream",
          "name": "stdout",
          "text": [
            "Сохранен и добавлен в архив: compound_26042_c1.json\n",
            "Ошибка при получении данных для формулы Fe2O3: 404\n"
          ]
        },
        {
          "output_type": "stream",
          "name": "stderr",
          "text": [
            "\rProcessing compounds:   4%|▍         | 84/2143 [00:34<14:26,  2.38it/s]"
          ]
        },
        {
          "output_type": "stream",
          "name": "stdout",
          "text": [
            "Сохранен и добавлен в архив: compound_26042_c1.json\n",
            "Ошибка при получении данных для формулы Fe2O3: 404\n"
          ]
        },
        {
          "output_type": "stream",
          "name": "stderr",
          "text": [
            "\rProcessing compounds:   4%|▍         | 85/2143 [00:35<14:10,  2.42it/s]"
          ]
        },
        {
          "output_type": "stream",
          "name": "stdout",
          "text": [
            "Сохранен и добавлен в архив: compound_26042_c1.json\n",
            "Ошибка при получении данных для формулы Fe2O3: 404\n"
          ]
        },
        {
          "output_type": "stream",
          "name": "stderr",
          "text": [
            "\rProcessing compounds:   4%|▍         | 86/2143 [00:35<13:59,  2.45it/s]"
          ]
        },
        {
          "output_type": "stream",
          "name": "stdout",
          "text": [
            "Сохранен и добавлен в архив: compound_26042_c1.json\n",
            "Ошибка при получении данных для формулы Fe2O3: 404\n"
          ]
        },
        {
          "output_type": "stream",
          "name": "stderr",
          "text": [
            "\rProcessing compounds:   4%|▍         | 87/2143 [00:35<14:14,  2.41it/s]"
          ]
        },
        {
          "output_type": "stream",
          "name": "stdout",
          "text": [
            "Сохранен и добавлен в архив: compound_26042_c1.json\n",
            "Ошибка при получении данных для формулы Fe2O3: 404\n"
          ]
        },
        {
          "output_type": "stream",
          "name": "stderr",
          "text": [
            "\rProcessing compounds:   4%|▍         | 88/2143 [00:36<14:19,  2.39it/s]"
          ]
        },
        {
          "output_type": "stream",
          "name": "stdout",
          "text": [
            "Сохранен и добавлен в архив: compound_26042_c1.json\n",
            "Ошибка при получении данных для формулы Fe2O3: 404\n"
          ]
        },
        {
          "output_type": "stream",
          "name": "stderr",
          "text": [
            "\rProcessing compounds:   4%|▍         | 89/2143 [00:36<14:06,  2.43it/s]"
          ]
        },
        {
          "output_type": "stream",
          "name": "stdout",
          "text": [
            "Сохранен и добавлен в архив: compound_26042_c1.json\n",
            "Ошибка при получении данных для формулы Fe2O3: 404\n"
          ]
        },
        {
          "output_type": "stream",
          "name": "stderr",
          "text": [
            "\rProcessing compounds:   4%|▍         | 90/2143 [00:37<13:57,  2.45it/s]"
          ]
        },
        {
          "output_type": "stream",
          "name": "stdout",
          "text": [
            "Сохранен и добавлен в архив: compound_16211978_c1.json\n",
            "Ошибка при получении данных для формулы 0: 404\n"
          ]
        },
        {
          "output_type": "stream",
          "name": "stderr",
          "text": [
            "\rProcessing compounds:   4%|▍         | 91/2143 [00:37<14:48,  2.31it/s]"
          ]
        },
        {
          "output_type": "stream",
          "name": "stdout",
          "text": [
            "Ошибка при получении данных для формулы Co0.4Fe2.6O4: 404\n",
            "Ошибка при получении данных для формулы 0: 404\n",
            "Ошибка при получении данных для формулы Co0.7Fe2.3O4: 404\n"
          ]
        },
        {
          "output_type": "stream",
          "name": "stderr",
          "text": [
            "\rProcessing compounds:   4%|▍         | 92/2143 [00:37<14:49,  2.31it/s]"
          ]
        },
        {
          "output_type": "stream",
          "name": "stdout",
          "text": [
            "Ошибка при получении данных для формулы 0: 404\n",
            "Ошибка при получении данных для формулы CoFe2O4: 404\n"
          ]
        },
        {
          "output_type": "stream",
          "name": "stderr",
          "text": [
            "\rProcessing compounds:   4%|▍         | 93/2143 [00:38<14:23,  2.37it/s]"
          ]
        },
        {
          "output_type": "stream",
          "name": "stdout",
          "text": [
            "Ошибка при получении данных для формулы 0: 404\n",
            "Ошибка при получении данных для формулы BiFeO3: 404\n"
          ]
        },
        {
          "output_type": "stream",
          "name": "stderr",
          "text": [
            "\rProcessing compounds:   4%|▍         | 94/2143 [00:38<14:10,  2.41it/s]"
          ]
        },
        {
          "output_type": "stream",
          "name": "stdout",
          "text": [
            "Ошибка при получении данных для формулы 0: 404\n",
            "Ошибка при получении данных для формулы BiFeO3: 404\n"
          ]
        },
        {
          "output_type": "stream",
          "name": "stderr",
          "text": [
            "\rProcessing compounds:   4%|▍         | 95/2143 [00:39<15:00,  2.27it/s]"
          ]
        },
        {
          "output_type": "stream",
          "name": "stdout",
          "text": [
            "Ошибка при получении данных для формулы 0: 404\n",
            "Ошибка при получении данных для формулы BiFeO3: 404\n"
          ]
        },
        {
          "output_type": "stream",
          "name": "stderr",
          "text": [
            "\rProcessing compounds:   4%|▍         | 96/2143 [00:39<16:14,  2.10it/s]"
          ]
        },
        {
          "output_type": "stream",
          "name": "stdout",
          "text": [
            "Ошибка при получении данных для формулы 0: 404\n",
            "Ошибка при получении данных для формулы BiFeO3: 404\n"
          ]
        },
        {
          "output_type": "stream",
          "name": "stderr",
          "text": [
            "\rProcessing compounds:   5%|▍         | 97/2143 [00:40<15:22,  2.22it/s]"
          ]
        },
        {
          "output_type": "stream",
          "name": "stdout",
          "text": [
            "Ошибка при получении данных для формулы 0: 404\n",
            "Ошибка при получении данных для формулы BiFeO3: 404\n"
          ]
        },
        {
          "output_type": "stream",
          "name": "stderr",
          "text": [
            "\rProcessing compounds:   5%|▍         | 98/2143 [00:40<14:49,  2.30it/s]"
          ]
        },
        {
          "output_type": "stream",
          "name": "stdout",
          "text": [
            "Ошибка при получении данных для формулы 0: 404\n",
            "Ошибка при получении данных для формулы BiFeO3: 404\n"
          ]
        },
        {
          "output_type": "stream",
          "name": "stderr",
          "text": [
            "\rProcessing compounds:   5%|▍         | 99/2143 [00:41<14:22,  2.37it/s]"
          ]
        },
        {
          "output_type": "stream",
          "name": "stdout",
          "text": [
            "Ошибка при получении данных для формулы 0: 404\n"
          ]
        },
        {
          "output_type": "stream",
          "name": "stderr",
          "text": [
            "\rProcessing compounds:   5%|▍         | 100/2143 [00:41<14:06,  2.41it/s]"
          ]
        },
        {
          "output_type": "stream",
          "name": "stdout",
          "text": [
            "Ошибка при получении данных для формулы Fe0.7Co0.3: 404\n",
            "Ошибка при получении данных для формулы 0: 404\n",
            "Ошибка при получении данных для формулы Fe0.7Co0.3: 404\n"
          ]
        },
        {
          "output_type": "stream",
          "name": "stderr",
          "text": [
            "\rProcessing compounds:   5%|▍         | 101/2143 [00:41<14:05,  2.41it/s]"
          ]
        },
        {
          "output_type": "stream",
          "name": "stdout",
          "text": [
            "Ошибка при получении данных для формулы 0: 404\n",
            "Ошибка при получении данных для формулы Fe0.7Co0.3: 404\n"
          ]
        },
        {
          "output_type": "stream",
          "name": "stderr",
          "text": [
            "\rProcessing compounds:   5%|▍         | 102/2143 [00:42<13:53,  2.45it/s]"
          ]
        },
        {
          "output_type": "stream",
          "name": "stdout",
          "text": [
            "Ошибка при получении данных для формулы 0: 404\n",
            "Ошибка при получении данных для формулы Fe0.5Co0.5: 404\n"
          ]
        },
        {
          "output_type": "stream",
          "name": "stderr",
          "text": [
            "\rProcessing compounds:   5%|▍         | 103/2143 [00:42<13:43,  2.48it/s]"
          ]
        },
        {
          "output_type": "stream",
          "name": "stdout",
          "text": [
            "Ошибка при получении данных для формулы 0: 404\n"
          ]
        },
        {
          "output_type": "stream",
          "name": "stderr",
          "text": [
            "\rProcessing compounds:   5%|▍         | 104/2143 [00:43<13:41,  2.48it/s]"
          ]
        },
        {
          "output_type": "stream",
          "name": "stdout",
          "text": [
            "Ошибка при получении данных для формулы Fe0.5Co0.5: 404\n",
            "Ошибка при получении данных для формулы 0: 404\n"
          ]
        },
        {
          "output_type": "stream",
          "name": "stderr",
          "text": [
            "\rProcessing compounds:   5%|▍         | 105/2143 [00:43<13:40,  2.49it/s]"
          ]
        },
        {
          "output_type": "stream",
          "name": "stdout",
          "text": [
            "Ошибка при получении данных для формулы Fe0.5Co0.5: 404\n",
            "Ошибка при получении данных для формулы 0: 404\n"
          ]
        },
        {
          "output_type": "stream",
          "name": "stderr",
          "text": [
            "\rProcessing compounds:   5%|▍         | 106/2143 [00:43<13:41,  2.48it/s]"
          ]
        },
        {
          "output_type": "stream",
          "name": "stdout",
          "text": [
            "Ошибка при получении данных для формулы Fe0.3Co0.7: 404\n",
            "Ошибка при получении данных для формулы 0: 404\n"
          ]
        },
        {
          "output_type": "stream",
          "name": "stderr",
          "text": [
            "\rProcessing compounds:   5%|▍         | 107/2143 [00:44<13:39,  2.49it/s]"
          ]
        },
        {
          "output_type": "stream",
          "name": "stdout",
          "text": [
            "Ошибка при получении данных для формулы Fe0.3Co0.7: 404\n",
            "Ошибка при получении данных для формулы 0: 404\n"
          ]
        },
        {
          "output_type": "stream",
          "name": "stderr",
          "text": [
            "\rProcessing compounds:   5%|▌         | 108/2143 [00:44<13:37,  2.49it/s]"
          ]
        },
        {
          "output_type": "stream",
          "name": "stdout",
          "text": [
            "Ошибка при получении данных для формулы Fe0.3Co0.7: 404\n",
            "Ошибка при получении данных для формулы 0: 404\n",
            "Ошибка при получении данных для формулы FeO: 404\n"
          ]
        },
        {
          "output_type": "stream",
          "name": "stderr",
          "text": [
            "\rProcessing compounds:   5%|▌         | 109/2143 [00:45<13:37,  2.49it/s]"
          ]
        },
        {
          "output_type": "stream",
          "name": "stdout",
          "text": [
            "Сохранен и добавлен в архив: compound_16211978_c2.json\n",
            "Ошибка при получении данных для формулы FeO: 404\n"
          ]
        },
        {
          "output_type": "stream",
          "name": "stderr",
          "text": [
            "\rProcessing compounds:   5%|▌         | 110/2143 [00:45<13:33,  2.50it/s]"
          ]
        },
        {
          "output_type": "stream",
          "name": "stdout",
          "text": [
            "Сохранен и добавлен в архив: compound_16211978_c2.json\n",
            "Ошибка при получении данных для формулы FeO: 404\n"
          ]
        },
        {
          "output_type": "stream",
          "name": "stderr",
          "text": [
            "\rProcessing compounds:   5%|▌         | 111/2143 [00:45<13:31,  2.50it/s]"
          ]
        },
        {
          "output_type": "stream",
          "name": "stdout",
          "text": [
            "Сохранен и добавлен в архив: compound_16211978_c2.json\n",
            "Ошибка при получении данных для формулы FeO: 404\n"
          ]
        },
        {
          "output_type": "stream",
          "name": "stderr",
          "text": [
            "\rProcessing compounds:   5%|▌         | 112/2143 [00:46<13:28,  2.51it/s]"
          ]
        },
        {
          "output_type": "stream",
          "name": "stdout",
          "text": [
            "Сохранен и добавлен в архив: compound_16211978_c2.json\n",
            "Ошибка при получении данных для формулы FeO: 404\n"
          ]
        },
        {
          "output_type": "stream",
          "name": "stderr",
          "text": [
            "\rProcessing compounds:   5%|▌         | 113/2143 [00:46<13:26,  2.52it/s]"
          ]
        },
        {
          "output_type": "stream",
          "name": "stdout",
          "text": [
            "Сохранен и добавлен в архив: compound_16211978_c2.json\n",
            "Ошибка при получении данных для формулы FeO: 404\n"
          ]
        },
        {
          "output_type": "stream",
          "name": "stderr",
          "text": [
            "\rProcessing compounds:   5%|▌         | 114/2143 [00:47<13:26,  2.52it/s]"
          ]
        },
        {
          "output_type": "stream",
          "name": "stdout",
          "text": [
            "Сохранен и добавлен в архив: compound_16211978_c2.json\n",
            "Ошибка при получении данных для формулы FeO: 404\n"
          ]
        },
        {
          "output_type": "stream",
          "name": "stderr",
          "text": [
            "\rProcessing compounds:   5%|▌         | 115/2143 [00:47<13:26,  2.52it/s]"
          ]
        },
        {
          "output_type": "stream",
          "name": "stdout",
          "text": [
            "Сохранен и добавлен в архив: compound_16211978_c2.json\n"
          ]
        },
        {
          "output_type": "stream",
          "name": "stderr",
          "text": [
            "\rProcessing compounds:   5%|▌         | 116/2143 [00:47<13:36,  2.48it/s]"
          ]
        },
        {
          "output_type": "stream",
          "name": "stdout",
          "text": [
            "Сохранен и добавлен в архив: compound_23925_c1.json\n",
            "Сохранен и добавлен в архив: compound_16211978_c2.json\n"
          ]
        },
        {
          "output_type": "stream",
          "name": "stderr",
          "text": [
            "\rProcessing compounds:   5%|▌         | 117/2143 [00:48<13:36,  2.48it/s]"
          ]
        },
        {
          "output_type": "stream",
          "name": "stdout",
          "text": [
            "Сохранен и добавлен в архив: compound_16211978_c1.json\n",
            "Ошибка при получении данных для формулы 0: 404\n"
          ]
        },
        {
          "output_type": "stream",
          "name": "stderr",
          "text": [
            "\rProcessing compounds:   6%|▌         | 118/2143 [00:48<13:40,  2.47it/s]"
          ]
        },
        {
          "output_type": "stream",
          "name": "stdout",
          "text": [
            "Сохранен и добавлен в архив: compound_23925_c1.json\n",
            "Ошибка при получении данных для формулы Fe2O3: 404\n"
          ]
        },
        {
          "output_type": "stream",
          "name": "stderr",
          "text": [
            "\rProcessing compounds:   6%|▌         | 119/2143 [00:49<13:43,  2.46it/s]"
          ]
        },
        {
          "output_type": "stream",
          "name": "stdout",
          "text": [
            "Сохранен и добавлен в архив: compound_23925_c1.json\n",
            "Ошибка при получении данных для формулы Fe2O3: 404\n"
          ]
        },
        {
          "output_type": "stream",
          "name": "stderr",
          "text": [
            "\rProcessing compounds:   6%|▌         | 120/2143 [00:49<13:44,  2.45it/s]"
          ]
        },
        {
          "output_type": "stream",
          "name": "stdout",
          "text": [
            "Сохранен и добавлен в архив: compound_23925_c1.json\n",
            "Ошибка при получении данных для формулы Fe2O3: 404\n"
          ]
        },
        {
          "output_type": "stream",
          "name": "stderr",
          "text": [
            "\rProcessing compounds:   6%|▌         | 121/2143 [00:49<13:46,  2.45it/s]"
          ]
        },
        {
          "output_type": "stream",
          "name": "stdout",
          "text": [
            "Сохранен и добавлен в архив: compound_23925_c1.json\n",
            "Ошибка при получении данных для формулы Fe2O3: 404\n"
          ]
        },
        {
          "output_type": "stream",
          "name": "stderr",
          "text": [
            "\rProcessing compounds:   6%|▌         | 122/2143 [00:50<13:45,  2.45it/s]"
          ]
        },
        {
          "output_type": "stream",
          "name": "stdout",
          "text": [
            "Сохранен и добавлен в архив: compound_23925_c1.json\n",
            "Ошибка при получении данных для формулы Fe2O3: 404\n"
          ]
        },
        {
          "output_type": "stream",
          "name": "stderr",
          "text": [
            "\rProcessing compounds:   6%|▌         | 123/2143 [00:50<13:36,  2.47it/s]"
          ]
        },
        {
          "output_type": "stream",
          "name": "stdout",
          "text": [
            "Ошибка при получении данных для формулы FeO: 404\n",
            "Сохранен и добавлен в архив: compound_16211978_c2.json\n",
            "Сохранен и добавлен в архив: compound_23925_c1.json\n"
          ]
        },
        {
          "output_type": "stream",
          "name": "stderr",
          "text": [
            "\rProcessing compounds:   6%|▌         | 124/2143 [00:51<13:53,  2.42it/s]"
          ]
        },
        {
          "output_type": "stream",
          "name": "stdout",
          "text": [
            "Ошибка при получении данных для формулы Fe2O3: 404\n",
            "Сохранен и добавлен в архив: compound_23925_c1.json\n"
          ]
        },
        {
          "output_type": "stream",
          "name": "stderr",
          "text": [
            "\rProcessing compounds:   6%|▌         | 125/2143 [00:51<14:07,  2.38it/s]"
          ]
        },
        {
          "output_type": "stream",
          "name": "stdout",
          "text": [
            "Ошибка при получении данных для формулы Fe2O3: 404\n"
          ]
        },
        {
          "output_type": "stream",
          "name": "stderr",
          "text": [
            "\rProcessing compounds:   6%|▌         | 126/2143 [00:51<14:03,  2.39it/s]"
          ]
        },
        {
          "output_type": "stream",
          "name": "stdout",
          "text": [
            "Сохранен и добавлен в архив: compound_23925_c1.json\n",
            "Ошибка при получении данных для формулы Fe2O3: 404\n"
          ]
        },
        {
          "output_type": "stream",
          "name": "stderr",
          "text": [
            "\rProcessing compounds:   6%|▌         | 127/2143 [00:52<13:55,  2.41it/s]"
          ]
        },
        {
          "output_type": "stream",
          "name": "stdout",
          "text": [
            "Сохранен и добавлен в архив: compound_23925_c1.json\n",
            "Ошибка при получении данных для формулы Fe2O3: 404\n",
            "Ошибка при получении данных для формулы La2FeMnO6: 404\n"
          ]
        },
        {
          "output_type": "stream",
          "name": "stderr",
          "text": [
            "\rProcessing compounds:   6%|▌         | 128/2143 [00:52<13:53,  2.42it/s]"
          ]
        },
        {
          "output_type": "stream",
          "name": "stdout",
          "text": [
            "Ошибка при получении данных для формулы 0: 404\n",
            "Ошибка при получении данных для формулы La2FeMnO6: 404\n"
          ]
        },
        {
          "output_type": "stream",
          "name": "stderr",
          "text": [
            "\rProcessing compounds:   6%|▌         | 129/2143 [00:53<13:39,  2.46it/s]"
          ]
        },
        {
          "output_type": "stream",
          "name": "stdout",
          "text": [
            "Ошибка при получении данных для формулы 0: 404\n"
          ]
        },
        {
          "output_type": "stream",
          "name": "stderr",
          "text": [
            "\rProcessing compounds:   6%|▌         | 130/2143 [00:53<13:44,  2.44it/s]"
          ]
        },
        {
          "output_type": "stream",
          "name": "stdout",
          "text": [
            "Ошибка при получении данных для формулы La2FeMnO6: 404\n",
            "Ошибка при получении данных для формулы 0: 404\n",
            "Ошибка при получении данных для формулы La2FeMnO6: 404\n"
          ]
        },
        {
          "output_type": "stream",
          "name": "stderr",
          "text": [
            "\rProcessing compounds:   6%|▌         | 131/2143 [00:54<14:19,  2.34it/s]"
          ]
        },
        {
          "output_type": "stream",
          "name": "stdout",
          "text": [
            "Ошибка при получении данных для формулы 0: 404\n",
            "Ошибка при получении данных для формулы FeVO4: 404\n"
          ]
        },
        {
          "output_type": "stream",
          "name": "stderr",
          "text": [
            "\rProcessing compounds:   6%|▌         | 132/2143 [00:54<14:01,  2.39it/s]"
          ]
        },
        {
          "output_type": "stream",
          "name": "stdout",
          "text": [
            "Сохранен и добавлен в архив: compound_16211978_c2.json\n",
            "Ошибка при получении данных для формулы FeVO4: 404\n"
          ]
        },
        {
          "output_type": "stream",
          "name": "stderr",
          "text": [
            "\rProcessing compounds:   6%|▌         | 133/2143 [00:54<13:47,  2.43it/s]"
          ]
        },
        {
          "output_type": "stream",
          "name": "stdout",
          "text": [
            "Сохранен и добавлен в архив: compound_16211978_c2.json\n"
          ]
        },
        {
          "output_type": "stream",
          "name": "stderr",
          "text": [
            "\rProcessing compounds:   6%|▋         | 134/2143 [00:55<13:39,  2.45it/s]"
          ]
        },
        {
          "output_type": "stream",
          "name": "stdout",
          "text": [
            "Ошибка при получении данных для формулы LaFeO3: 404\n",
            "Ошибка при получении данных для формулы 0: 404\n",
            "Ошибка при получении данных для формулы LaFeO3: 404\n",
            "Ошибка при получении данных для формулы 0: 404\n"
          ]
        },
        {
          "output_type": "stream",
          "name": "stderr",
          "text": [
            "Processing compounds:   6%|▋         | 136/2143 [00:56<13:31,  2.47it/s]"
          ]
        },
        {
          "output_type": "stream",
          "name": "stdout",
          "text": [
            "Ошибка при получении данных для формулы LaFeO3: 404\n",
            "Ошибка при получении данных для формулы 0: 404\n"
          ]
        },
        {
          "output_type": "stream",
          "name": "stderr",
          "text": [
            "\rProcessing compounds:   6%|▋         | 137/2143 [00:56<13:26,  2.49it/s]"
          ]
        },
        {
          "output_type": "stream",
          "name": "stdout",
          "text": [
            "Ошибка при получении данных для формулы LaFeO3: 404\n",
            "Ошибка при получении данных для формулы 0: 404\n"
          ]
        },
        {
          "output_type": "stream",
          "name": "stderr",
          "text": [
            "\rProcessing compounds:   6%|▋         | 138/2143 [00:56<13:23,  2.49it/s]"
          ]
        },
        {
          "output_type": "stream",
          "name": "stdout",
          "text": [
            "Ошибка при получении данных для формулы LaFeO3: 404\n",
            "Ошибка при получении данных для формулы 0: 404\n"
          ]
        },
        {
          "output_type": "stream",
          "name": "stderr",
          "text": [
            "\rProcessing compounds:   6%|▋         | 139/2143 [00:57<13:22,  2.50it/s]"
          ]
        },
        {
          "output_type": "stream",
          "name": "stdout",
          "text": [
            "Ошибка при получении данных для формулы LaFeO3: 404\n",
            "Ошибка при получении данных для формулы 0: 404\n"
          ]
        },
        {
          "output_type": "stream",
          "name": "stderr",
          "text": [
            "\rProcessing compounds:   7%|▋         | 140/2143 [00:57<13:19,  2.50it/s]"
          ]
        },
        {
          "output_type": "stream",
          "name": "stdout",
          "text": [
            "Ошибка при получении данных для формулы LaFeO3: 404\n",
            "Ошибка при получении данных для формулы 0: 404\n"
          ]
        },
        {
          "output_type": "stream",
          "name": "stderr",
          "text": [
            "\rProcessing compounds:   7%|▋         | 141/2143 [00:58<13:18,  2.51it/s]"
          ]
        },
        {
          "output_type": "stream",
          "name": "stdout",
          "text": [
            "Ошибка при получении данных для формулы LaFeO3: 404\n",
            "Ошибка при получении данных для формулы 0: 404\n"
          ]
        },
        {
          "output_type": "stream",
          "name": "stderr",
          "text": [
            "\rProcessing compounds:   7%|▋         | 142/2143 [00:58<13:18,  2.51it/s]"
          ]
        },
        {
          "output_type": "stream",
          "name": "stdout",
          "text": [
            "Сохранен и добавлен в архив: compound_23985_c1.json\n",
            "Сохранен и добавлен в архив: compound_16211978_c2.json\n"
          ]
        },
        {
          "output_type": "stream",
          "name": "stderr",
          "text": [
            "/usr/lib/python3.11/zipfile.py:1567: UserWarning: Duplicate name: 'compound_23985_c1.json'\n",
            "  return self._open_to_write(zinfo, force_zip64=force_zip64)\n",
            "\rProcessing compounds:   7%|▋         | 143/2143 [00:58<13:21,  2.50it/s]"
          ]
        },
        {
          "output_type": "stream",
          "name": "stdout",
          "text": [
            "Сохранен и добавлен в архив: compound_23985_c1.json\n",
            "Сохранен и добавлен в архив: compound_16211978_c2.json\n"
          ]
        },
        {
          "output_type": "stream",
          "name": "stderr",
          "text": [
            "\rProcessing compounds:   7%|▋         | 144/2143 [00:59<13:20,  2.50it/s]"
          ]
        },
        {
          "output_type": "stream",
          "name": "stdout",
          "text": [
            "Сохранен и добавлен в архив: compound_23985_c1.json\n",
            "Сохранен и добавлен в архив: compound_16211978_c2.json\n"
          ]
        },
        {
          "output_type": "stream",
          "name": "stderr",
          "text": [
            "\rProcessing compounds:   7%|▋         | 145/2143 [00:59<13:16,  2.51it/s]"
          ]
        },
        {
          "output_type": "stream",
          "name": "stdout",
          "text": [
            "Сохранен и добавлен в архив: compound_16211978_c1.json\n",
            "Ошибка при получении данных для формулы 0: 404\n",
            "Ошибка при получении данных для формулы Bi0.9Gd0.1Fe0.9Ti0.1O3: 404\n"
          ]
        },
        {
          "output_type": "stream",
          "name": "stderr",
          "text": [
            "\rProcessing compounds:   7%|▋         | 146/2143 [01:00<14:11,  2.35it/s]"
          ]
        },
        {
          "output_type": "stream",
          "name": "stdout",
          "text": [
            "Ошибка при получении данных для формулы 0: 404\n",
            "Ошибка при получении данных для формулы Nd0.78Sr0.22CoO3: 404\n"
          ]
        },
        {
          "output_type": "stream",
          "name": "stderr",
          "text": [
            "\rProcessing compounds:   7%|▋         | 147/2143 [01:00<13:50,  2.40it/s]"
          ]
        },
        {
          "output_type": "stream",
          "name": "stdout",
          "text": [
            "Ошибка при получении данных для формулы 0: 404\n",
            "Ошибка при получении данных для формулы Nd0.78Sr0.22CoO3: 404\n"
          ]
        },
        {
          "output_type": "stream",
          "name": "stderr",
          "text": [
            "\rProcessing compounds:   7%|▋         | 148/2143 [01:00<13:46,  2.41it/s]"
          ]
        },
        {
          "output_type": "stream",
          "name": "stdout",
          "text": [
            "Ошибка при получении данных для формулы 0: 404\n",
            "Ошибка при получении данных для формулы Nd0.78Sr0.22CoO3: 404\n"
          ]
        },
        {
          "output_type": "stream",
          "name": "stderr",
          "text": [
            "\rProcessing compounds:   7%|▋         | 149/2143 [01:01<13:32,  2.45it/s]"
          ]
        },
        {
          "output_type": "stream",
          "name": "stdout",
          "text": [
            "Ошибка при получении данных для формулы 0: 404\n",
            "Ошибка при получении данных для формулы Nd0.78Sr0.22CoO3: 404\n"
          ]
        },
        {
          "output_type": "stream",
          "name": "stderr",
          "text": [
            "\rProcessing compounds:   7%|▋         | 150/2143 [01:01<14:03,  2.36it/s]"
          ]
        },
        {
          "output_type": "stream",
          "name": "stdout",
          "text": [
            "Ошибка при получении данных для формулы 0: 404\n",
            "Ошибка при получении данных для формулы Nd0.78Sr0.22CoO3: 404\n"
          ]
        },
        {
          "output_type": "stream",
          "name": "stderr",
          "text": [
            "\rProcessing compounds:   7%|▋         | 151/2143 [01:02<13:50,  2.40it/s]"
          ]
        },
        {
          "output_type": "stream",
          "name": "stdout",
          "text": [
            "Ошибка при получении данных для формулы 0: 404\n"
          ]
        },
        {
          "output_type": "stream",
          "name": "stderr",
          "text": [
            "\rProcessing compounds:   7%|▋         | 152/2143 [01:02<13:39,  2.43it/s]"
          ]
        },
        {
          "output_type": "stream",
          "name": "stdout",
          "text": [
            "Ошибка при получении данных для формулы Nd0.78Sr0.22CoO3: 404\n",
            "Ошибка при получении данных для формулы 0: 404\n"
          ]
        },
        {
          "output_type": "stream",
          "name": "stderr",
          "text": [
            "\rProcessing compounds:   7%|▋         | 153/2143 [01:03<14:10,  2.34it/s]"
          ]
        },
        {
          "output_type": "stream",
          "name": "stdout",
          "text": [
            "Сохранен и добавлен в архив: compound_16211978_c1.json\n",
            "Сохранен и добавлен в архив: compound_14786_c2.json\n"
          ]
        },
        {
          "output_type": "stream",
          "name": "stderr",
          "text": [
            "\rProcessing compounds:   7%|▋         | 154/2143 [01:03<13:51,  2.39it/s]"
          ]
        },
        {
          "output_type": "stream",
          "name": "stdout",
          "text": [
            "Сохранен и добавлен в архив: compound_16211978_c1.json\n",
            "Сохранен и добавлен в архив: compound_14786_c2.json\n"
          ]
        },
        {
          "output_type": "stream",
          "name": "stderr",
          "text": [
            "\rProcessing compounds:   7%|▋         | 155/2143 [01:03<13:35,  2.44it/s]"
          ]
        },
        {
          "output_type": "stream",
          "name": "stdout",
          "text": [
            "Ошибка при получении данных для формулы CoFe2O4: 404\n",
            "Ошибка при получении данных для формулы 0: 404\n",
            "Ошибка при получении данных для формулы CoFe2O4: 404\n"
          ]
        },
        {
          "output_type": "stream",
          "name": "stderr",
          "text": [
            "\rProcessing compounds:   7%|▋         | 156/2143 [01:04<13:33,  2.44it/s]"
          ]
        },
        {
          "output_type": "stream",
          "name": "stdout",
          "text": [
            "Сохранен и добавлен в архив: compound_14786_c2.json\n",
            "Ошибка при получении данных для формулы CoFe2O4: 404\n"
          ]
        },
        {
          "output_type": "stream",
          "name": "stderr",
          "text": [
            "\rProcessing compounds:   7%|▋         | 157/2143 [01:04<13:22,  2.48it/s]"
          ]
        },
        {
          "output_type": "stream",
          "name": "stdout",
          "text": [
            "Ошибка при получении данных для формулы 0: 404\n",
            "Ошибка при получении данных для формулы CoFe2O4: 404\n"
          ]
        },
        {
          "output_type": "stream",
          "name": "stderr",
          "text": [
            "\rProcessing compounds:   7%|▋         | 158/2143 [01:05<13:16,  2.49it/s]"
          ]
        },
        {
          "output_type": "stream",
          "name": "stdout",
          "text": [
            "Сохранен и добавлен в архив: compound_14786_c2.json\n",
            "Ошибка при получении данных для формулы Cu0.98: 404\n"
          ]
        },
        {
          "output_type": "stream",
          "name": "stderr",
          "text": [
            "\rProcessing compounds:   7%|▋         | 159/2143 [01:05<13:16,  2.49it/s]"
          ]
        },
        {
          "output_type": "stream",
          "name": "stdout",
          "text": [
            "Ошибка при получении данных для формулы Fe0.02O: 404\n"
          ]
        },
        {
          "output_type": "stream",
          "name": "stderr",
          "text": [
            "\rProcessing compounds:   7%|▋         | 160/2143 [01:05<13:17,  2.49it/s]"
          ]
        },
        {
          "output_type": "stream",
          "name": "stdout",
          "text": [
            "Ошибка при получении данных для формулы Cu0.96: 404\n",
            "Ошибка при получении данных для формулы Fe0.04O: 404\n"
          ]
        },
        {
          "output_type": "stream",
          "name": "stderr",
          "text": [
            "\rProcessing compounds:   8%|▊         | 161/2143 [01:06<13:15,  2.49it/s]"
          ]
        },
        {
          "output_type": "stream",
          "name": "stdout",
          "text": [
            "Ошибка при получении данных для формулы Cu0.98: 404\n",
            "Ошибка при получении данных для формулы Fe0.02O: 404\n"
          ]
        },
        {
          "output_type": "stream",
          "name": "stderr",
          "text": [
            "\rProcessing compounds:   8%|▊         | 162/2143 [01:06<13:12,  2.50it/s]"
          ]
        },
        {
          "output_type": "stream",
          "name": "stdout",
          "text": [
            "Ошибка при получении данных для формулы Cu0.96: 404\n",
            "Ошибка при получении данных для формулы Fe0.04O: 404\n"
          ]
        },
        {
          "output_type": "stream",
          "name": "stderr",
          "text": [
            "\rProcessing compounds:   8%|▊         | 163/2143 [01:07<13:10,  2.51it/s]"
          ]
        },
        {
          "output_type": "stream",
          "name": "stdout",
          "text": [
            "Ошибка при получении данных для формулы Cu0.98: 404\n",
            "Ошибка при получении данных для формулы Fe0.02O: 404\n"
          ]
        },
        {
          "output_type": "stream",
          "name": "stderr",
          "text": [
            "\rProcessing compounds:   8%|▊         | 164/2143 [01:07<13:07,  2.51it/s]"
          ]
        },
        {
          "output_type": "stream",
          "name": "stdout",
          "text": [
            "Ошибка при получении данных для формулы Cu0.96: 404\n",
            "Ошибка при получении данных для формулы Fe0.04O: 404\n"
          ]
        },
        {
          "output_type": "stream",
          "name": "stderr",
          "text": [
            "\rProcessing compounds:   8%|▊         | 165/2143 [01:07<13:08,  2.51it/s]"
          ]
        },
        {
          "output_type": "stream",
          "name": "stdout",
          "text": [
            "Ошибка при получении данных для формулы Cu0.98: 404\n",
            "Ошибка при получении данных для формулы Fe0.02O: 404\n",
            "Ошибка при получении данных для формулы Cu0.96: 404\n",
            "Ошибка при получении данных для формулы Fe0.04O: 404\n"
          ]
        },
        {
          "output_type": "stream",
          "name": "stderr",
          "text": [
            "Processing compounds:   8%|▊         | 167/2143 [01:08<13:08,  2.50it/s]"
          ]
        },
        {
          "output_type": "stream",
          "name": "stdout",
          "text": [
            "Ошибка при получении данных для формулы Fe2O3: 404\n",
            "Ошибка при получении данных для формулы 0: 404\n"
          ]
        },
        {
          "output_type": "stream",
          "name": "stderr",
          "text": [
            "\rProcessing compounds:   8%|▊         | 168/2143 [01:09<13:08,  2.50it/s]"
          ]
        },
        {
          "output_type": "stream",
          "name": "stdout",
          "text": [
            "Ошибка при получении данных для формулы Fe2O3: 404\n",
            "Ошибка при получении данных для формулы 0: 404\n"
          ]
        },
        {
          "output_type": "stream",
          "name": "stderr",
          "text": [
            "\rProcessing compounds:   8%|▊         | 169/2143 [01:09<13:08,  2.50it/s]"
          ]
        },
        {
          "output_type": "stream",
          "name": "stdout",
          "text": [
            "Ошибка при получении данных для формулы Fe2O3: 404\n",
            "Ошибка при получении данных для формулы 0: 404\n"
          ]
        },
        {
          "output_type": "stream",
          "name": "stderr",
          "text": [
            "\rProcessing compounds:   8%|▊         | 170/2143 [01:09<13:04,  2.51it/s]"
          ]
        },
        {
          "output_type": "stream",
          "name": "stdout",
          "text": [
            "Ошибка при получении данных для формулы Fe2O3: 404\n",
            "Ошибка при получении данных для формулы 0: 404\n"
          ]
        },
        {
          "output_type": "stream",
          "name": "stderr",
          "text": [
            "\rProcessing compounds:   8%|▊         | 171/2143 [01:10<13:04,  2.51it/s]"
          ]
        },
        {
          "output_type": "stream",
          "name": "stdout",
          "text": [
            "Сохранен и добавлен в архив: compound_938_c1.json\n",
            "Ошибка при получении данных для формулы 0: 404\n"
          ]
        },
        {
          "output_type": "stream",
          "name": "stderr",
          "text": [
            "\rProcessing compounds:   8%|▊         | 172/2143 [01:10<13:04,  2.51it/s]"
          ]
        },
        {
          "output_type": "stream",
          "name": "stdout",
          "text": [
            "Сохранен и добавлен в архив: compound_938_c1.json\n",
            "Ошибка при получении данных для формулы 0: 404\n"
          ]
        },
        {
          "output_type": "stream",
          "name": "stderr",
          "text": [
            "\rProcessing compounds:   8%|▊         | 173/2143 [01:10<13:01,  2.52it/s]"
          ]
        },
        {
          "output_type": "stream",
          "name": "stdout",
          "text": [
            "Ошибка при получении данных для формулы BiFeO3: 404\n",
            "Ошибка при получении данных для формулы 0: 404\n"
          ]
        },
        {
          "output_type": "stream",
          "name": "stderr",
          "text": [
            "\rProcessing compounds:   8%|▊         | 174/2143 [01:11<12:58,  2.53it/s]"
          ]
        },
        {
          "output_type": "stream",
          "name": "stdout",
          "text": [
            "Ошибка при получении данных для формулы BiFeO3: 404\n",
            "Ошибка при получении данных для формулы 0: 404\n",
            "Ошибка при получении данных для формулы BiFeO3: 404\n"
          ]
        },
        {
          "output_type": "stream",
          "name": "stderr",
          "text": [
            "\rProcessing compounds:   8%|▊         | 175/2143 [01:11<13:20,  2.46it/s]"
          ]
        },
        {
          "output_type": "stream",
          "name": "stdout",
          "text": [
            "Ошибка при получении данных для формулы 0: 404\n"
          ]
        },
        {
          "output_type": "stream",
          "name": "stderr",
          "text": [
            "\rProcessing compounds:   8%|▊         | 176/2143 [01:12<13:17,  2.47it/s]"
          ]
        },
        {
          "output_type": "stream",
          "name": "stdout",
          "text": [
            "Ошибка при получении данных для формулы La0.85Sr0.15FeO3: 404\n",
            "Ошибка при получении данных для формулы 0: 404\n"
          ]
        },
        {
          "output_type": "stream",
          "name": "stderr",
          "text": [
            "\rProcessing compounds:   8%|▊         | 177/2143 [01:12<13:16,  2.47it/s]"
          ]
        },
        {
          "output_type": "stream",
          "name": "stdout",
          "text": [
            "Сохранен и добавлен в архив: compound_104730_c1.json\n",
            "Ошибка при получении данных для формулы Co3O4: 404\n"
          ]
        },
        {
          "output_type": "stream",
          "name": "stderr",
          "text": [
            "\rProcessing compounds:   8%|▊         | 178/2143 [01:13<13:14,  2.47it/s]"
          ]
        },
        {
          "output_type": "stream",
          "name": "stdout",
          "text": [
            "Сохранен и добавлен в архив: compound_104730_c1.json\n",
            "Ошибка при получении данных для формулы Co3O4: 404\n"
          ]
        },
        {
          "output_type": "stream",
          "name": "stderr",
          "text": [
            "\rProcessing compounds:   8%|▊         | 179/2143 [01:13<13:14,  2.47it/s]"
          ]
        },
        {
          "output_type": "stream",
          "name": "stdout",
          "text": [
            "Сохранен и добавлен в архив: compound_104730_c1.json\n",
            "Ошибка при получении данных для формулы Co3O4: 404\n"
          ]
        },
        {
          "output_type": "stream",
          "name": "stderr",
          "text": [
            "\rProcessing compounds:   8%|▊         | 180/2143 [01:13<13:19,  2.45it/s]"
          ]
        },
        {
          "output_type": "stream",
          "name": "stdout",
          "text": [
            "Сохранен и добавлен в архив: compound_104730_c1.json\n",
            "Ошибка при получении данных для формулы Co3O4: 404\n"
          ]
        },
        {
          "output_type": "stream",
          "name": "stderr",
          "text": [
            "\rProcessing compounds:   8%|▊         | 181/2143 [01:14<13:16,  2.46it/s]"
          ]
        },
        {
          "output_type": "stream",
          "name": "stdout",
          "text": [
            "Сохранен и добавлен в архив: compound_104730_c1.json\n",
            "Ошибка при получении данных для формулы Co3O4: 404\n"
          ]
        },
        {
          "output_type": "stream",
          "name": "stderr",
          "text": [
            "\rProcessing compounds:   8%|▊         | 182/2143 [01:14<13:13,  2.47it/s]"
          ]
        },
        {
          "output_type": "stream",
          "name": "stdout",
          "text": [
            "Сохранен и добавлен в архив: compound_104730_c1.json\n",
            "Ошибка при получении данных для формулы Co3O4: 404\n",
            "Сохранен и добавлен в архив: compound_104730_c1.json\n"
          ]
        },
        {
          "output_type": "stream",
          "name": "stderr",
          "text": [
            "\rProcessing compounds:   9%|▊         | 183/2143 [01:15<13:46,  2.37it/s]"
          ]
        },
        {
          "output_type": "stream",
          "name": "stdout",
          "text": [
            "Ошибка при получении данных для формулы Co3O4: 404\n"
          ]
        },
        {
          "output_type": "stream",
          "name": "stderr",
          "text": [
            "\rProcessing compounds:   9%|▊         | 184/2143 [01:15<13:35,  2.40it/s]"
          ]
        },
        {
          "output_type": "stream",
          "name": "stdout",
          "text": [
            "Сохранен и добавлен в архив: compound_104730_c1.json\n",
            "Ошибка при получении данных для формулы Co3O4: 404\n"
          ]
        },
        {
          "output_type": "stream",
          "name": "stderr",
          "text": [
            "\rProcessing compounds:   9%|▊         | 185/2143 [01:15<13:26,  2.43it/s]"
          ]
        },
        {
          "output_type": "stream",
          "name": "stdout",
          "text": [
            "Сохранен и добавлен в архив: compound_104730_c1.json\n",
            "Ошибка при получении данных для формулы Co3O4: 404\n"
          ]
        },
        {
          "output_type": "stream",
          "name": "stderr",
          "text": [
            "\rProcessing compounds:   9%|▊         | 186/2143 [01:16<13:40,  2.39it/s]"
          ]
        },
        {
          "output_type": "stream",
          "name": "stdout",
          "text": [
            "Ошибка при получении данных для формулы Mn3O4: 404\n",
            "Ошибка при получении данных для формулы 0: 404\n"
          ]
        },
        {
          "output_type": "stream",
          "name": "stderr",
          "text": [
            "\rProcessing compounds:   9%|▊         | 187/2143 [01:16<13:23,  2.43it/s]"
          ]
        },
        {
          "output_type": "stream",
          "name": "stdout",
          "text": [
            "Ошибка при получении данных для формулы Mn3O4: 404\n",
            "Ошибка при получении данных для формулы 0: 404\n"
          ]
        },
        {
          "output_type": "stream",
          "name": "stderr",
          "text": [
            "\rProcessing compounds:   9%|▉         | 188/2143 [01:17<13:14,  2.46it/s]"
          ]
        },
        {
          "output_type": "stream",
          "name": "stdout",
          "text": [
            "Ошибка при получении данных для формулы Mn3O4: 404\n",
            "Ошибка при получении данных для формулы 0: 404\n"
          ]
        },
        {
          "output_type": "stream",
          "name": "stderr",
          "text": [
            "\rProcessing compounds:   9%|▉         | 189/2143 [01:17<15:09,  2.15it/s]"
          ]
        },
        {
          "output_type": "stream",
          "name": "stdout",
          "text": [
            "Сохранен и добавлен в архив: compound_16211978_c1.json\n",
            "Сохранен и добавлен в архив: compound_14786_c2.json\n"
          ]
        },
        {
          "output_type": "stream",
          "name": "stderr",
          "text": [
            "\rProcessing compounds:   9%|▉         | 190/2143 [01:18<17:59,  1.81it/s]"
          ]
        },
        {
          "output_type": "stream",
          "name": "stdout",
          "text": [
            "Сохранен и добавлен в архив: compound_16211978_c1.json\n",
            "Сохранен и добавлен в архив: compound_14786_c2.json\n",
            "Сохранен и добавлен в архив: compound_16211978_c1.json\n"
          ]
        },
        {
          "output_type": "stream",
          "name": "stderr",
          "text": [
            "\rProcessing compounds:   9%|▉         | 191/2143 [01:19<18:42,  1.74it/s]"
          ]
        },
        {
          "output_type": "stream",
          "name": "stdout",
          "text": [
            "Сохранен и добавлен в архив: compound_14786_c2.json\n",
            "Сохранен и добавлен в архив: compound_16211978_c1.json\n"
          ]
        },
        {
          "output_type": "stream",
          "name": "stderr",
          "text": [
            "\rProcessing compounds:   9%|▉         | 192/2143 [01:19<18:07,  1.79it/s]"
          ]
        },
        {
          "output_type": "stream",
          "name": "stdout",
          "text": [
            "Сохранен и добавлен в архив: compound_14786_c2.json\n",
            "Сохранен и добавлен в архив: compound_104730_c1.json\n"
          ]
        },
        {
          "output_type": "stream",
          "name": "stderr",
          "text": [
            "\rProcessing compounds:   9%|▉         | 193/2143 [01:20<16:40,  1.95it/s]"
          ]
        },
        {
          "output_type": "stream",
          "name": "stdout",
          "text": [
            "Сохранен и добавлен в архив: compound_14786_c2.json\n",
            "Сохранен и добавлен в архив: compound_104730_c1.json\n"
          ]
        },
        {
          "output_type": "stream",
          "name": "stderr",
          "text": [
            "\rProcessing compounds:   9%|▉         | 194/2143 [01:20<15:39,  2.07it/s]"
          ]
        },
        {
          "output_type": "stream",
          "name": "stdout",
          "text": [
            "Сохранен и добавлен в архив: compound_14786_c2.json\n",
            "Сохранен и добавлен в архив: compound_104730_c1.json\n"
          ]
        },
        {
          "output_type": "stream",
          "name": "stderr",
          "text": [
            "\rProcessing compounds:   9%|▉         | 195/2143 [01:20<14:58,  2.17it/s]"
          ]
        },
        {
          "output_type": "stream",
          "name": "stdout",
          "text": [
            "Сохранен и добавлен в архив: compound_14786_c2.json\n",
            "Сохранен и добавлен в архив: compound_104730_c1.json\n"
          ]
        },
        {
          "output_type": "stream",
          "name": "stderr",
          "text": [
            "\rProcessing compounds:   9%|▉         | 196/2143 [01:21<14:31,  2.23it/s]"
          ]
        },
        {
          "output_type": "stream",
          "name": "stdout",
          "text": [
            "Сохранен и добавлен в архив: compound_14786_c2.json\n"
          ]
        },
        {
          "output_type": "stream",
          "name": "stderr",
          "text": [
            "\rProcessing compounds:   9%|▉         | 197/2143 [01:21<14:07,  2.30it/s]"
          ]
        },
        {
          "output_type": "stream",
          "name": "stdout",
          "text": [
            "Сохранен и добавлен в архив: compound_104730_c1.json\n",
            "Сохранен и добавлен в архив: compound_14786_c2.json\n",
            "Сохранен и добавлен в архив: compound_104730_c1.json\n"
          ]
        },
        {
          "output_type": "stream",
          "name": "stderr",
          "text": [
            "\rProcessing compounds:   9%|▉         | 198/2143 [01:22<14:07,  2.30it/s]"
          ]
        },
        {
          "output_type": "stream",
          "name": "stdout",
          "text": [
            "Сохранен и добавлен в архив: compound_14786_c2.json\n"
          ]
        },
        {
          "output_type": "stream",
          "name": "stderr",
          "text": [
            "\rProcessing compounds:   9%|▉         | 199/2143 [01:22<13:48,  2.35it/s]"
          ]
        },
        {
          "output_type": "stream",
          "name": "stdout",
          "text": [
            "Сохранен и добавлен в архив: compound_104730_c1.json\n",
            "Сохранен и добавлен в архив: compound_14786_c2.json\n"
          ]
        },
        {
          "output_type": "stream",
          "name": "stderr",
          "text": [
            "\rProcessing compounds:   9%|▉         | 200/2143 [01:22<13:36,  2.38it/s]"
          ]
        },
        {
          "output_type": "stream",
          "name": "stdout",
          "text": [
            "Сохранен и добавлен в архив: compound_104730_c1.json\n",
            "Сохранен и добавлен в архив: compound_14786_c2.json\n"
          ]
        },
        {
          "output_type": "stream",
          "name": "stderr",
          "text": [
            "\rProcessing compounds:   9%|▉         | 201/2143 [01:23<13:28,  2.40it/s]"
          ]
        },
        {
          "output_type": "stream",
          "name": "stdout",
          "text": [
            "Сохранен и добавлен в архив: compound_104730_c1.json\n",
            "Сохранен и добавлен в архив: compound_14786_c2.json\n"
          ]
        },
        {
          "output_type": "stream",
          "name": "stderr",
          "text": [
            "\rProcessing compounds:   9%|▉         | 202/2143 [01:23<13:18,  2.43it/s]"
          ]
        },
        {
          "output_type": "stream",
          "name": "stdout",
          "text": [
            "Ошибка при получении данных для формулы La0.67Sr0.33MnO3: 404\n",
            "Ошибка при получении данных для формулы 0: 404\n"
          ]
        },
        {
          "output_type": "stream",
          "name": "stderr",
          "text": [
            "\rProcessing compounds:   9%|▉         | 203/2143 [01:24<13:07,  2.46it/s]"
          ]
        },
        {
          "output_type": "stream",
          "name": "stdout",
          "text": [
            "Ошибка при получении данных для формулы La0.67Sr0.33MnO3: 404\n",
            "Ошибка при получении данных для формулы 0: 404\n"
          ]
        },
        {
          "output_type": "stream",
          "name": "stderr",
          "text": [
            "\rProcessing compounds:  10%|▉         | 204/2143 [01:24<12:59,  2.49it/s]"
          ]
        },
        {
          "output_type": "stream",
          "name": "stdout",
          "text": [
            "Ошибка при получении данных для формулы La0.67Sr0.33MnO3: 404\n",
            "Ошибка при получении данных для формулы 0: 404\n"
          ]
        },
        {
          "output_type": "stream",
          "name": "stderr",
          "text": [
            "\rProcessing compounds:  10%|▉         | 205/2143 [01:24<12:53,  2.51it/s]"
          ]
        },
        {
          "output_type": "stream",
          "name": "stdout",
          "text": [
            "Ошибка при получении данных для формулы La0.67Sr0.33MnO3: 404\n",
            "Ошибка при получении данных для формулы 0: 404\n"
          ]
        },
        {
          "output_type": "stream",
          "name": "stderr",
          "text": [
            "\rProcessing compounds:  10%|▉         | 206/2143 [01:25<12:49,  2.52it/s]"
          ]
        },
        {
          "output_type": "stream",
          "name": "stdout",
          "text": [
            "Ошибка при получении данных для формулы La0.67Sr0.33MnO3: 404\n",
            "Ошибка при получении данных для формулы 0: 404\n"
          ]
        },
        {
          "output_type": "stream",
          "name": "stderr",
          "text": [
            "\rProcessing compounds:  10%|▉         | 207/2143 [01:25<12:47,  2.52it/s]"
          ]
        },
        {
          "output_type": "stream",
          "name": "stdout",
          "text": [
            "Ошибка при получении данных для формулы La0.67Sr0.33MnO3: 404\n",
            "Ошибка при получении данных для формулы 0: 404\n"
          ]
        },
        {
          "output_type": "stream",
          "name": "stderr",
          "text": [
            "\rProcessing compounds:  10%|▉         | 208/2143 [01:26<12:47,  2.52it/s]"
          ]
        },
        {
          "output_type": "stream",
          "name": "stdout",
          "text": [
            "Ошибка при получении данных для формулы La0.67Sr0.33MnO3: 404\n",
            "Ошибка при получении данных для формулы 0: 404\n"
          ]
        },
        {
          "output_type": "stream",
          "name": "stderr",
          "text": [
            "\rProcessing compounds:  10%|▉         | 209/2143 [01:26<12:47,  2.52it/s]"
          ]
        },
        {
          "output_type": "stream",
          "name": "stdout",
          "text": [
            "Сохранен и добавлен в архив: compound_938_c1.json\n",
            "Ошибка при получении данных для формулы 0: 404\n"
          ]
        },
        {
          "output_type": "stream",
          "name": "stderr",
          "text": [
            "\rProcessing compounds:  10%|▉         | 210/2143 [01:26<12:47,  2.52it/s]"
          ]
        },
        {
          "output_type": "stream",
          "name": "stdout",
          "text": [
            "Сохранен и добавлен в архив: compound_938_c1.json\n",
            "Ошибка при получении данных для формулы 0: 404\n"
          ]
        },
        {
          "output_type": "stream",
          "name": "stderr",
          "text": [
            "\rProcessing compounds:  10%|▉         | 211/2143 [01:27<12:48,  2.51it/s]"
          ]
        },
        {
          "output_type": "stream",
          "name": "stdout",
          "text": [
            "Сохранен и добавлен в архив: compound_938_c1.json\n",
            "Ошибка при получении данных для формулы 0: 404\n"
          ]
        },
        {
          "output_type": "stream",
          "name": "stderr",
          "text": [
            "\rProcessing compounds:  10%|▉         | 212/2143 [01:27<12:48,  2.51it/s]"
          ]
        },
        {
          "output_type": "stream",
          "name": "stdout",
          "text": [
            "Сохранен и добавлен в архив: compound_938_c1.json\n",
            "Ошибка при получении данных для формулы 0: 404\n"
          ]
        },
        {
          "output_type": "stream",
          "name": "stderr",
          "text": [
            "\rProcessing compounds:  10%|▉         | 213/2143 [01:28<12:46,  2.52it/s]"
          ]
        },
        {
          "output_type": "stream",
          "name": "stdout",
          "text": [
            "Сохранен и добавлен в архив: compound_938_c1.json\n",
            "Ошибка при получении данных для формулы 0: 404\n"
          ]
        },
        {
          "output_type": "stream",
          "name": "stderr",
          "text": [
            "\rProcessing compounds:  10%|▉         | 214/2143 [01:28<12:45,  2.52it/s]"
          ]
        },
        {
          "output_type": "stream",
          "name": "stdout",
          "text": [
            "Сохранен и добавлен в архив: compound_938_c1.json\n",
            "Ошибка при получении данных для формулы 0: 404\n"
          ]
        },
        {
          "output_type": "stream",
          "name": "stderr",
          "text": [
            "\rProcessing compounds:  10%|█         | 215/2143 [01:28<12:45,  2.52it/s]"
          ]
        },
        {
          "output_type": "stream",
          "name": "stdout",
          "text": [
            "Сохранен и добавлен в архив: compound_444604_c1.json\n",
            "Ошибка при получении данных для формулы Mn3O4: 404\n"
          ]
        },
        {
          "output_type": "stream",
          "name": "stderr",
          "text": [
            "/usr/lib/python3.11/zipfile.py:1567: UserWarning: Duplicate name: 'compound_444604_c1.json'\n",
            "  return self._open_to_write(zinfo, force_zip64=force_zip64)\n",
            "Processing compounds:  10%|█         | 216/2143 [01:29<12:45,  2.52it/s]"
          ]
        },
        {
          "output_type": "stream",
          "name": "stdout",
          "text": [
            "Сохранен и добавлен в архив: compound_444604_c1.json\n",
            "Ошибка при получении данных для формулы Mn3O4: 404\n"
          ]
        },
        {
          "output_type": "stream",
          "name": "stderr",
          "text": [
            "\rProcessing compounds:  10%|█         | 217/2143 [01:29<12:44,  2.52it/s]"
          ]
        },
        {
          "output_type": "stream",
          "name": "stdout",
          "text": [
            "Сохранен и добавлен в архив: compound_16211978_c1.json\n",
            "Ошибка при получении данных для формулы Fe2O3: 404\n"
          ]
        },
        {
          "output_type": "stream",
          "name": "stderr",
          "text": [
            "\rProcessing compounds:  10%|█         | 218/2143 [01:30<12:43,  2.52it/s]"
          ]
        },
        {
          "output_type": "stream",
          "name": "stdout",
          "text": [
            "Сохранен и добавлен в архив: compound_16211978_c1.json\n",
            "Ошибка при получении данных для формулы Fe2O3: 404\n"
          ]
        },
        {
          "output_type": "stream",
          "name": "stderr",
          "text": [
            "\rProcessing compounds:  10%|█         | 219/2143 [01:30<12:43,  2.52it/s]"
          ]
        },
        {
          "output_type": "stream",
          "name": "stdout",
          "text": [
            "Сохранен и добавлен в архив: compound_16211978_c1.json\n",
            "Ошибка при получении данных для формулы Fe2O3: 404\n"
          ]
        },
        {
          "output_type": "stream",
          "name": "stderr",
          "text": [
            "\rProcessing compounds:  10%|█         | 220/2143 [01:30<12:44,  2.52it/s]"
          ]
        },
        {
          "output_type": "stream",
          "name": "stdout",
          "text": [
            "Сохранен и добавлен в архив: compound_16211978_c1.json\n",
            "Ошибка при получении данных для формулы Fe2O3: 404\n"
          ]
        },
        {
          "output_type": "stream",
          "name": "stderr",
          "text": [
            "\rProcessing compounds:  10%|█         | 221/2143 [01:31<12:43,  2.52it/s]"
          ]
        },
        {
          "output_type": "stream",
          "name": "stdout",
          "text": [
            "Ошибка при получении данных для формулы Co3O4: 404\n",
            "Ошибка при получении данных для формулы 0: 404\n",
            "Ошибка при получении данных для формулы Co3O4: 404\n",
            "Ошибка при получении данных для формулы 0: 404\n"
          ]
        },
        {
          "output_type": "stream",
          "name": "stderr",
          "text": [
            "Processing compounds:  10%|█         | 223/2143 [01:32<12:45,  2.51it/s]"
          ]
        },
        {
          "output_type": "stream",
          "name": "stdout",
          "text": [
            "Ошибка при получении данных для формулы Co3O4: 404\n",
            "Ошибка при получении данных для формулы 0: 404\n"
          ]
        },
        {
          "output_type": "stream",
          "name": "stderr",
          "text": [
            "\rProcessing compounds:  10%|█         | 224/2143 [01:32<12:44,  2.51it/s]"
          ]
        },
        {
          "output_type": "stream",
          "name": "stdout",
          "text": [
            "Ошибка при получении данных для формулы LaFeO3: 404\n",
            "Ошибка при получении данных для формулы 0: 404\n"
          ]
        },
        {
          "output_type": "stream",
          "name": "stderr",
          "text": [
            "\rProcessing compounds:  10%|█         | 225/2143 [01:32<13:23,  2.39it/s]"
          ]
        },
        {
          "output_type": "stream",
          "name": "stdout",
          "text": [
            "Сохранен и добавлен в архив: compound_938_c1.json\n",
            "Ошибка при получении данных для формулы 0: 404\n"
          ]
        },
        {
          "output_type": "stream",
          "name": "stderr",
          "text": [
            "\rProcessing compounds:  11%|█         | 226/2143 [01:33<13:13,  2.41it/s]"
          ]
        },
        {
          "output_type": "stream",
          "name": "stdout",
          "text": [
            "Ошибка при получении данных для формулы Ni0.99Fe0.01O: 404\n",
            "Ошибка при получении данных для формулы 0: 404\n"
          ]
        },
        {
          "output_type": "stream",
          "name": "stderr",
          "text": [
            "\rProcessing compounds:  11%|█         | 227/2143 [01:33<13:06,  2.44it/s]"
          ]
        },
        {
          "output_type": "stream",
          "name": "stdout",
          "text": [
            "Ошибка при получении данных для формулы Ni0.98Fe0.02O: 404\n",
            "Ошибка при получении данных для формулы 0: 404\n"
          ]
        },
        {
          "output_type": "stream",
          "name": "stderr",
          "text": [
            "\rProcessing compounds:  11%|█         | 228/2143 [01:34<12:55,  2.47it/s]"
          ]
        },
        {
          "output_type": "stream",
          "name": "stdout",
          "text": [
            "Ошибка при получении данных для формулы Ni0.96Fe0.04O: 404\n",
            "Ошибка при получении данных для формулы 0: 404\n"
          ]
        },
        {
          "output_type": "stream",
          "name": "stderr",
          "text": [
            "\rProcessing compounds:  11%|█         | 229/2143 [01:34<12:52,  2.48it/s]"
          ]
        },
        {
          "output_type": "stream",
          "name": "stdout",
          "text": [
            "Ошибка при получении данных для формулы Ni0.97Fe0.03O: 404\n",
            "Ошибка при получении данных для формулы 0: 404\n",
            "Сохранен и добавлен в архив: compound_104730_c1.json\n"
          ]
        },
        {
          "output_type": "stream",
          "name": "stderr",
          "text": [
            "\rProcessing compounds:  11%|█         | 230/2143 [01:34<12:55,  2.47it/s]"
          ]
        },
        {
          "output_type": "stream",
          "name": "stdout",
          "text": [
            "Сохранен и добавлен в архив: compound_14786_c2.json\n"
          ]
        },
        {
          "output_type": "stream",
          "name": "stderr",
          "text": [
            "\rProcessing compounds:  11%|█         | 231/2143 [01:35<12:55,  2.46it/s]"
          ]
        },
        {
          "output_type": "stream",
          "name": "stdout",
          "text": [
            "Сохранен и добавлен в архив: compound_104730_c1.json\n",
            "Сохранен и добавлен в архив: compound_14786_c2.json\n"
          ]
        },
        {
          "output_type": "stream",
          "name": "stderr",
          "text": [
            "\rProcessing compounds:  11%|█         | 232/2143 [01:35<12:57,  2.46it/s]"
          ]
        },
        {
          "output_type": "stream",
          "name": "stdout",
          "text": [
            "Сохранен и добавлен в архив: compound_104730_c1.json\n",
            "Сохранен и добавлен в архив: compound_14786_c2.json\n"
          ]
        },
        {
          "output_type": "stream",
          "name": "stderr",
          "text": [
            "\rProcessing compounds:  11%|█         | 233/2143 [01:36<12:49,  2.48it/s]"
          ]
        },
        {
          "output_type": "stream",
          "name": "stdout",
          "text": [
            "Ошибка при получении данных для формулы Ag0.5Cr2.5O4: 404\n",
            "Ошибка при получении данных для формулы 0: 404\n"
          ]
        },
        {
          "output_type": "stream",
          "name": "stderr",
          "text": [
            "\rProcessing compounds:  11%|█         | 234/2143 [01:36<12:48,  2.49it/s]"
          ]
        },
        {
          "output_type": "stream",
          "name": "stdout",
          "text": [
            "Ошибка при получении данных для формулы Ag0.5Cr2.5O4: 404\n",
            "Ошибка при получении данных для формулы 0: 404\n"
          ]
        },
        {
          "output_type": "stream",
          "name": "stderr",
          "text": [
            "\rProcessing compounds:  11%|█         | 235/2143 [01:36<12:42,  2.50it/s]"
          ]
        },
        {
          "output_type": "stream",
          "name": "stdout",
          "text": [
            "Ошибка при получении данных для формулы Ag0.5Cr2.5O4: 404\n",
            "Ошибка при получении данных для формулы 0: 404\n"
          ]
        },
        {
          "output_type": "stream",
          "name": "stderr",
          "text": [
            "\rProcessing compounds:  11%|█         | 236/2143 [01:37<12:41,  2.51it/s]"
          ]
        },
        {
          "output_type": "stream",
          "name": "stdout",
          "text": [
            "Ошибка при получении данных для формулы AgCrO2: 404\n",
            "Ошибка при получении данных для формулы 0: 404\n"
          ]
        },
        {
          "output_type": "stream",
          "name": "stderr",
          "text": [
            "\rProcessing compounds:  11%|█         | 237/2143 [01:37<12:38,  2.51it/s]"
          ]
        },
        {
          "output_type": "stream",
          "name": "stdout",
          "text": [
            "Ошибка при получении данных для формулы AgCrO2: 404\n",
            "Ошибка при получении данных для формулы 0: 404\n"
          ]
        },
        {
          "output_type": "stream",
          "name": "stderr",
          "text": [
            "\rProcessing compounds:  11%|█         | 238/2143 [01:38<12:37,  2.52it/s]"
          ]
        },
        {
          "output_type": "stream",
          "name": "stdout",
          "text": [
            "Ошибка при получении данных для формулы AgCrO2: 404\n",
            "Ошибка при получении данных для формулы 0: 404\n",
            "Ошибка при получении данных для формулы CoFe2O4: 404\n"
          ]
        },
        {
          "output_type": "stream",
          "name": "stderr",
          "text": [
            "\rProcessing compounds:  11%|█         | 239/2143 [01:38<12:59,  2.44it/s]"
          ]
        },
        {
          "output_type": "stream",
          "name": "stdout",
          "text": [
            "Ошибка при получении данных для формулы 0: 404\n",
            "Ошибка при получении данных для формулы CoFe2O4: 404\n"
          ]
        },
        {
          "output_type": "stream",
          "name": "stderr",
          "text": [
            "\rProcessing compounds:  11%|█         | 240/2143 [01:38<12:50,  2.47it/s]"
          ]
        },
        {
          "output_type": "stream",
          "name": "stdout",
          "text": [
            "Сохранен и добавлен в архив: compound_14786_c2.json\n",
            "Ошибка при получении данных для формулы CoFe2O4: 404\n"
          ]
        },
        {
          "output_type": "stream",
          "name": "stderr",
          "text": [
            "\rProcessing compounds:  11%|█         | 241/2143 [01:39<12:43,  2.49it/s]"
          ]
        },
        {
          "output_type": "stream",
          "name": "stdout",
          "text": [
            "Сохранен и добавлен в архив: compound_14786_c2.json\n",
            "Ошибка при получении данных для формулы CoFe2O4: 404\n"
          ]
        },
        {
          "output_type": "stream",
          "name": "stderr",
          "text": [
            "\rProcessing compounds:  11%|█▏        | 242/2143 [01:39<12:39,  2.50it/s]"
          ]
        },
        {
          "output_type": "stream",
          "name": "stdout",
          "text": [
            "Сохранен и добавлен в архив: compound_14786_c2.json\n",
            "Ошибка при получении данных для формулы CoFe2O4: 404\n"
          ]
        },
        {
          "output_type": "stream",
          "name": "stderr",
          "text": [
            "\rProcessing compounds:  11%|█▏        | 243/2143 [01:40<14:24,  2.20it/s]"
          ]
        },
        {
          "output_type": "stream",
          "name": "stdout",
          "text": [
            "Сохранен и добавлен в архив: compound_14786_c2.json\n"
          ]
        },
        {
          "output_type": "stream",
          "name": "stderr",
          "text": [
            "\rProcessing compounds:  11%|█▏        | 244/2143 [01:40<14:14,  2.22it/s]"
          ]
        },
        {
          "output_type": "stream",
          "name": "stdout",
          "text": [
            "Ошибка при получении данных для формулы CoFe2O4: 404\n",
            "Сохранен и добавлен в архив: compound_14786_c2.json\n"
          ]
        },
        {
          "output_type": "stream",
          "name": "stderr",
          "text": [
            "\rProcessing compounds:  11%|█▏        | 245/2143 [01:41<13:43,  2.31it/s]"
          ]
        },
        {
          "output_type": "stream",
          "name": "stdout",
          "text": [
            "Ошибка при получении данных для формулы CoFe2O4: 404\n",
            "Сохранен и добавлен в архив: compound_14786_c2.json\n"
          ]
        },
        {
          "output_type": "stream",
          "name": "stderr",
          "text": [
            "\rProcessing compounds:  11%|█▏        | 246/2143 [01:41<13:23,  2.36it/s]"
          ]
        },
        {
          "output_type": "stream",
          "name": "stdout",
          "text": [
            "Сохранен и добавлен в архив: compound_938_c1.json\n",
            "Ошибка при получении данных для формулы 0: 404\n"
          ]
        },
        {
          "output_type": "stream",
          "name": "stderr",
          "text": [
            "\rProcessing compounds:  12%|█▏        | 247/2143 [01:41<13:07,  2.41it/s]"
          ]
        },
        {
          "output_type": "stream",
          "name": "stdout",
          "text": [
            "Сохранен и добавлен в архив: compound_938_c1.json\n",
            "Ошибка при получении данных для формулы 0: 404\n"
          ]
        },
        {
          "output_type": "stream",
          "name": "stderr",
          "text": [
            "\rProcessing compounds:  12%|█▏        | 248/2143 [01:42<12:57,  2.44it/s]"
          ]
        },
        {
          "output_type": "stream",
          "name": "stdout",
          "text": [
            "Сохранен и добавлен в архив: compound_938_c1.json\n",
            "Ошибка при получении данных для формулы 0: 404\n"
          ]
        },
        {
          "output_type": "stream",
          "name": "stderr",
          "text": [
            "\rProcessing compounds:  12%|█▏        | 249/2143 [01:42<12:50,  2.46it/s]"
          ]
        },
        {
          "output_type": "stream",
          "name": "stdout",
          "text": [
            "Сохранен и добавлен в архив: compound_938_c1.json\n",
            "Ошибка при получении данных для формулы 0: 404\n"
          ]
        },
        {
          "output_type": "stream",
          "name": "stderr",
          "text": [
            "\rProcessing compounds:  12%|█▏        | 250/2143 [01:43<12:45,  2.47it/s]"
          ]
        },
        {
          "output_type": "stream",
          "name": "stdout",
          "text": [
            "Сохранен и добавлен в архив: compound_938_c1.json\n",
            "Ошибка при получении данных для формулы 0: 404\n"
          ]
        },
        {
          "output_type": "stream",
          "name": "stderr",
          "text": [
            "\rProcessing compounds:  12%|█▏        | 251/2143 [01:43<12:44,  2.48it/s]"
          ]
        },
        {
          "output_type": "stream",
          "name": "stdout",
          "text": [
            "Сохранен и добавлен в архив: compound_938_c1.json\n",
            "Ошибка при получении данных для формулы 0: 404\n",
            "Сохранен и добавлен в архив: compound_938_c1.json\n"
          ]
        },
        {
          "output_type": "stream",
          "name": "stderr",
          "text": [
            "\rProcessing compounds:  12%|█▏        | 252/2143 [01:44<12:52,  2.45it/s]"
          ]
        },
        {
          "output_type": "stream",
          "name": "stdout",
          "text": [
            "Ошибка при получении данных для формулы 0: 404\n",
            "Сохранен и добавлен в архив: compound_938_c1.json\n",
            "Ошибка при получении данных для формулы 0: 404\n"
          ]
        },
        {
          "output_type": "stream",
          "name": "stderr",
          "text": [
            "Processing compounds:  12%|█▏        | 254/2143 [01:44<12:43,  2.47it/s]"
          ]
        },
        {
          "output_type": "stream",
          "name": "stdout",
          "text": [
            "Сохранен и добавлен в архив: compound_938_c1.json\n",
            "Ошибка при получении данных для формулы 0: 404\n"
          ]
        },
        {
          "output_type": "stream",
          "name": "stderr",
          "text": [
            "\rProcessing compounds:  12%|█▏        | 255/2143 [01:45<12:41,  2.48it/s]"
          ]
        },
        {
          "output_type": "stream",
          "name": "stdout",
          "text": [
            "Сохранен и добавлен в архив: compound_938_c1.json\n",
            "Ошибка при получении данных для формулы 0: 404\n"
          ]
        },
        {
          "output_type": "stream",
          "name": "stderr",
          "text": [
            "/usr/lib/python3.11/zipfile.py:1567: UserWarning: Duplicate name: 'compound_14786_c1.json'\n",
            "  return self._open_to_write(zinfo, force_zip64=force_zip64)\n",
            "\rProcessing compounds:  12%|█▏        | 256/2143 [01:45<12:40,  2.48it/s]"
          ]
        },
        {
          "output_type": "stream",
          "name": "stdout",
          "text": [
            "Сохранен и добавлен в архив: compound_14786_c1.json\n",
            "Сохранен и добавлен в архив: compound_122164822_c2.json\n",
            "Сохранен и добавлен в архив: compound_14786_c1.json\n"
          ]
        },
        {
          "output_type": "stream",
          "name": "stderr",
          "text": [
            "/usr/lib/python3.11/zipfile.py:1567: UserWarning: Duplicate name: 'compound_122164822_c2.json'\n",
            "  return self._open_to_write(zinfo, force_zip64=force_zip64)\n",
            "\rProcessing compounds:  12%|█▏        | 257/2143 [01:46<12:44,  2.47it/s]"
          ]
        },
        {
          "output_type": "stream",
          "name": "stdout",
          "text": [
            "Сохранен и добавлен в архив: compound_122164822_c2.json\n",
            "Сохранен и добавлен в архив: compound_14786_c1.json\n"
          ]
        },
        {
          "output_type": "stream",
          "name": "stderr",
          "text": [
            "\rProcessing compounds:  12%|█▏        | 258/2143 [01:46<13:12,  2.38it/s]"
          ]
        },
        {
          "output_type": "stream",
          "name": "stdout",
          "text": [
            "Сохранен и добавлен в архив: compound_122164822_c2.json\n",
            "Сохранен и добавлен в архив: compound_938_c1.json\n"
          ]
        },
        {
          "output_type": "stream",
          "name": "stderr",
          "text": [
            "\rProcessing compounds:  12%|█▏        | 259/2143 [01:47<14:18,  2.19it/s]"
          ]
        },
        {
          "output_type": "stream",
          "name": "stdout",
          "text": [
            "Ошибка при получении данных для формулы 0: 404\n",
            "Сохранен и добавлен в архив: compound_938_c1.json\n"
          ]
        },
        {
          "output_type": "stream",
          "name": "stderr",
          "text": [
            "\rProcessing compounds:  12%|█▏        | 260/2143 [01:47<13:51,  2.26it/s]"
          ]
        },
        {
          "output_type": "stream",
          "name": "stdout",
          "text": [
            "Ошибка при получении данных для формулы 0: 404\n"
          ]
        },
        {
          "output_type": "stream",
          "name": "stderr",
          "text": [
            "\rProcessing compounds:  12%|█▏        | 261/2143 [01:47<13:27,  2.33it/s]"
          ]
        },
        {
          "output_type": "stream",
          "name": "stdout",
          "text": [
            "Сохранен и добавлен в архив: compound_938_c1.json\n",
            "Ошибка при получении данных для формулы 0: 404\n"
          ]
        },
        {
          "output_type": "stream",
          "name": "stderr",
          "text": [
            "\rProcessing compounds:  12%|█▏        | 262/2143 [01:48<13:21,  2.35it/s]"
          ]
        },
        {
          "output_type": "stream",
          "name": "stdout",
          "text": [
            "Сохранен и добавлен в архив: compound_938_c1.json\n",
            "Ошибка при получении данных для формулы 0: 404\n",
            "Сохранен и добавлен в архив: compound_938_c1.json\n"
          ]
        },
        {
          "output_type": "stream",
          "name": "stderr",
          "text": [
            "\rProcessing compounds:  12%|█▏        | 263/2143 [01:48<13:09,  2.38it/s]"
          ]
        },
        {
          "output_type": "stream",
          "name": "stdout",
          "text": [
            "Ошибка при получении данных для формулы 0: 404\n",
            "Сохранен и добавлен в архив: compound_938_c1.json\n"
          ]
        },
        {
          "output_type": "stream",
          "name": "stderr",
          "text": [
            "\rProcessing compounds:  12%|█▏        | 264/2143 [01:49<14:38,  2.14it/s]"
          ]
        },
        {
          "output_type": "stream",
          "name": "stdout",
          "text": [
            "Ошибка при получении данных для формулы 0: 404\n",
            "Сохранен и добавлен в архив: compound_938_c1.json\n"
          ]
        },
        {
          "output_type": "stream",
          "name": "stderr",
          "text": [
            "\rProcessing compounds:  12%|█▏        | 265/2143 [01:49<16:13,  1.93it/s]"
          ]
        },
        {
          "output_type": "stream",
          "name": "stdout",
          "text": [
            "Ошибка при получении данных для формулы 0: 404\n",
            "Сохранен и добавлен в архив: compound_938_c1.json\n"
          ]
        },
        {
          "output_type": "stream",
          "name": "stderr",
          "text": [
            "\rProcessing compounds:  12%|█▏        | 266/2143 [01:50<18:37,  1.68it/s]"
          ]
        },
        {
          "output_type": "stream",
          "name": "stdout",
          "text": [
            "Ошибка при получении данных для формулы 0: 404\n",
            "Сохранен и добавлен в архив: compound_938_c1.json\n"
          ]
        },
        {
          "output_type": "stream",
          "name": "stderr",
          "text": [
            "\rProcessing compounds:  12%|█▏        | 267/2143 [01:51<19:59,  1.56it/s]"
          ]
        },
        {
          "output_type": "stream",
          "name": "stdout",
          "text": [
            "Ошибка при получении данных для формулы 0: 404\n"
          ]
        },
        {
          "output_type": "stream",
          "name": "stderr",
          "text": [
            "\rProcessing compounds:  13%|█▎        | 268/2143 [01:52<20:03,  1.56it/s]"
          ]
        },
        {
          "output_type": "stream",
          "name": "stdout",
          "text": [
            "Сохранен и добавлен в архив: compound_938_c1.json\n",
            "Ошибка при получении данных для формулы 0: 404\n",
            "Сохранен и добавлен в архив: compound_938_c1.json\n"
          ]
        },
        {
          "output_type": "stream",
          "name": "stderr",
          "text": [
            "\rProcessing compounds:  13%|█▎        | 269/2143 [01:52<19:03,  1.64it/s]"
          ]
        },
        {
          "output_type": "stream",
          "name": "stdout",
          "text": [
            "Ошибка при получении данных для формулы 0: 404\n"
          ]
        },
        {
          "output_type": "stream",
          "name": "stderr",
          "text": [
            "\rProcessing compounds:  13%|█▎        | 270/2143 [01:52<17:04,  1.83it/s]"
          ]
        },
        {
          "output_type": "stream",
          "name": "stdout",
          "text": [
            "Сохранен и добавлен в архив: compound_938_c1.json\n",
            "Ошибка при получении данных для формулы 0: 404\n"
          ]
        },
        {
          "output_type": "stream",
          "name": "stderr",
          "text": [
            "\rProcessing compounds:  13%|█▎        | 271/2143 [01:53<15:41,  1.99it/s]"
          ]
        },
        {
          "output_type": "stream",
          "name": "stdout",
          "text": [
            "Сохранен и добавлен в архив: compound_938_c1.json\n",
            "Ошибка при получении данных для формулы 0: 404\n"
          ]
        },
        {
          "output_type": "stream",
          "name": "stderr",
          "text": [
            "\rProcessing compounds:  13%|█▎        | 272/2143 [01:53<14:42,  2.12it/s]"
          ]
        },
        {
          "output_type": "stream",
          "name": "stdout",
          "text": [
            "Сохранен и добавлен в архив: compound_938_c1.json\n",
            "Ошибка при получении данных для формулы 0: 404\n"
          ]
        },
        {
          "output_type": "stream",
          "name": "stderr",
          "text": [
            "\rProcessing compounds:  13%|█▎        | 273/2143 [01:54<14:01,  2.22it/s]"
          ]
        },
        {
          "output_type": "stream",
          "name": "stdout",
          "text": [
            "Сохранен и добавлен в архив: compound_938_c1.json\n",
            "Ошибка при получении данных для формулы 0: 404\n"
          ]
        },
        {
          "output_type": "stream",
          "name": "stderr",
          "text": [
            "\rProcessing compounds:  13%|█▎        | 274/2143 [01:54<13:33,  2.30it/s]"
          ]
        },
        {
          "output_type": "stream",
          "name": "stdout",
          "text": [
            "Сохранен и добавлен в архив: compound_938_c1.json\n",
            "Ошибка при получении данных для формулы 0: 404\n"
          ]
        },
        {
          "output_type": "stream",
          "name": "stderr",
          "text": [
            "\rProcessing compounds:  13%|█▎        | 275/2143 [01:54<13:22,  2.33it/s]"
          ]
        },
        {
          "output_type": "stream",
          "name": "stdout",
          "text": [
            "Сохранен и добавлен в архив: compound_935_c1.json\n",
            "Сохранен и добавлен в архив: compound_938_c2.json\n",
            "Сохранен и добавлен в архив: compound_935_c1.json\n"
          ]
        },
        {
          "output_type": "stream",
          "name": "stderr",
          "text": [
            "\rProcessing compounds:  13%|█▎        | 276/2143 [01:55<13:19,  2.33it/s]"
          ]
        },
        {
          "output_type": "stream",
          "name": "stdout",
          "text": [
            "Сохранен и добавлен в архив: compound_938_c2.json\n",
            "Сохранен и добавлен в архив: compound_935_c1.json\n"
          ]
        },
        {
          "output_type": "stream",
          "name": "stderr",
          "text": [
            "\rProcessing compounds:  13%|█▎        | 277/2143 [01:55<13:17,  2.34it/s]"
          ]
        },
        {
          "output_type": "stream",
          "name": "stdout",
          "text": [
            "Сохранен и добавлен в архив: compound_938_c2.json\n"
          ]
        },
        {
          "output_type": "stream",
          "name": "stderr",
          "text": [
            "\rProcessing compounds:  13%|█▎        | 278/2143 [01:56<13:16,  2.34it/s]"
          ]
        },
        {
          "output_type": "stream",
          "name": "stdout",
          "text": [
            "Сохранен и добавлен в архив: compound_935_c1.json\n",
            "Сохранен и добавлен в архив: compound_938_c2.json\n",
            "Сохранен и добавлен в архив: compound_935_c1.json\n"
          ]
        },
        {
          "output_type": "stream",
          "name": "stderr",
          "text": [
            "\rProcessing compounds:  13%|█▎        | 279/2143 [01:56<13:14,  2.35it/s]"
          ]
        },
        {
          "output_type": "stream",
          "name": "stdout",
          "text": [
            "Сохранен и добавлен в архив: compound_938_c2.json\n",
            "Сохранен и добавлен в архив: compound_935_c1.json\n"
          ]
        },
        {
          "output_type": "stream",
          "name": "stderr",
          "text": [
            "\rProcessing compounds:  13%|█▎        | 280/2143 [01:57<13:19,  2.33it/s]"
          ]
        },
        {
          "output_type": "stream",
          "name": "stdout",
          "text": [
            "Сохранен и добавлен в архив: compound_938_c2.json\n",
            "Сохранен и добавлен в архив: compound_935_c1.json\n"
          ]
        },
        {
          "output_type": "stream",
          "name": "stderr",
          "text": [
            "\rProcessing compounds:  13%|█▎        | 281/2143 [01:57<13:59,  2.22it/s]"
          ]
        },
        {
          "output_type": "stream",
          "name": "stdout",
          "text": [
            "Сохранен и добавлен в архив: compound_938_c2.json\n",
            "Сохранен и добавлен в архив: compound_935_c1.json\n"
          ]
        },
        {
          "output_type": "stream",
          "name": "stderr",
          "text": [
            "\rProcessing compounds:  13%|█▎        | 282/2143 [01:58<13:59,  2.22it/s]"
          ]
        },
        {
          "output_type": "stream",
          "name": "stdout",
          "text": [
            "Сохранен и добавлен в архив: compound_938_c2.json\n",
            "Сохранен и добавлен в архив: compound_935_c1.json\n"
          ]
        },
        {
          "output_type": "stream",
          "name": "stderr",
          "text": [
            "\rProcessing compounds:  13%|█▎        | 283/2143 [01:58<15:54,  1.95it/s]"
          ]
        },
        {
          "output_type": "stream",
          "name": "stdout",
          "text": [
            "Сохранен и добавлен в архив: compound_938_c2.json\n"
          ]
        },
        {
          "output_type": "stream",
          "name": "stderr",
          "text": [
            "\rProcessing compounds:  13%|█▎        | 284/2143 [01:59<15:00,  2.07it/s]"
          ]
        },
        {
          "output_type": "stream",
          "name": "stdout",
          "text": [
            "Сохранен и добавлен в архив: compound_935_c1.json\n",
            "Сохранен и добавлен в архив: compound_938_c2.json\n"
          ]
        },
        {
          "output_type": "stream",
          "name": "stderr",
          "text": [
            "\rProcessing compounds:  13%|█▎        | 285/2143 [01:59<14:09,  2.19it/s]"
          ]
        },
        {
          "output_type": "stream",
          "name": "stdout",
          "text": [
            "Ошибка при получении данных для формулы MnFe2O4: 404\n",
            "Ошибка при получении данных для формулы 0: 404\n"
          ]
        },
        {
          "output_type": "stream",
          "name": "stderr",
          "text": [
            "\rProcessing compounds:  13%|█▎        | 286/2143 [01:59<13:37,  2.27it/s]"
          ]
        },
        {
          "output_type": "stream",
          "name": "stdout",
          "text": [
            "Ошибка при получении данных для формулы MnFe2O4: 404\n",
            "Сохранен и добавлен в архив: compound_16211978_c2.json\n",
            "Ошибка при получении данных для формулы MnFe2O4: 404\n"
          ]
        },
        {
          "output_type": "stream",
          "name": "stderr",
          "text": [
            "\rProcessing compounds:  13%|█▎        | 287/2143 [02:00<13:20,  2.32it/s]"
          ]
        },
        {
          "output_type": "stream",
          "name": "stdout",
          "text": [
            "Сохранен и добавлен в архив: compound_16211978_c2.json\n"
          ]
        },
        {
          "output_type": "stream",
          "name": "stderr",
          "text": [
            "\rProcessing compounds:  13%|█▎        | 288/2143 [02:00<13:12,  2.34it/s]"
          ]
        },
        {
          "output_type": "stream",
          "name": "stdout",
          "text": [
            "Сохранен и добавлен в архив: compound_935_c1.json\n",
            "Сохранен и добавлен в архив: compound_938_c2.json\n"
          ]
        },
        {
          "output_type": "stream",
          "name": "stderr",
          "text": [
            "\rProcessing compounds:  13%|█▎        | 289/2143 [02:01<13:06,  2.36it/s]"
          ]
        },
        {
          "output_type": "stream",
          "name": "stdout",
          "text": [
            "Сохранен и добавлен в архив: compound_935_c1.json\n",
            "Сохранен и добавлен в архив: compound_938_c2.json\n",
            "Сохранен и добавлен в архив: compound_935_c1.json\n"
          ]
        },
        {
          "output_type": "stream",
          "name": "stderr",
          "text": [
            "\rProcessing compounds:  14%|█▎        | 290/2143 [02:01<13:38,  2.27it/s]"
          ]
        },
        {
          "output_type": "stream",
          "name": "stdout",
          "text": [
            "Сохранен и добавлен в архив: compound_938_c2.json\n"
          ]
        },
        {
          "output_type": "stream",
          "name": "stderr",
          "text": [
            "\rProcessing compounds:  14%|█▎        | 291/2143 [02:02<13:23,  2.31it/s]"
          ]
        },
        {
          "output_type": "stream",
          "name": "stdout",
          "text": [
            "Сохранен и добавлен в архив: compound_935_c1.json\n",
            "Сохранен и добавлен в архив: compound_938_c2.json\n"
          ]
        },
        {
          "output_type": "stream",
          "name": "stderr",
          "text": [
            "\rProcessing compounds:  14%|█▎        | 292/2143 [02:02<13:12,  2.34it/s]"
          ]
        },
        {
          "output_type": "stream",
          "name": "stdout",
          "text": [
            "Сохранен и добавлен в архив: compound_935_c1.json\n",
            "Сохранен и добавлен в архив: compound_938_c2.json\n",
            "Сохранен и добавлен в архив: compound_935_c1.json\n"
          ]
        },
        {
          "output_type": "stream",
          "name": "stderr",
          "text": [
            "\rProcessing compounds:  14%|█▎        | 293/2143 [02:03<14:57,  2.06it/s]"
          ]
        },
        {
          "output_type": "stream",
          "name": "stdout",
          "text": [
            "Сохранен и добавлен в архив: compound_938_c2.json\n"
          ]
        },
        {
          "output_type": "stream",
          "name": "stderr",
          "text": [
            "\rProcessing compounds:  14%|█▎        | 294/2143 [02:03<14:17,  2.16it/s]"
          ]
        },
        {
          "output_type": "stream",
          "name": "stdout",
          "text": [
            "Сохранен и добавлен в архив: compound_935_c1.json\n",
            "Сохранен и добавлен в архив: compound_938_c2.json\n"
          ]
        },
        {
          "output_type": "stream",
          "name": "stderr",
          "text": [
            "\rProcessing compounds:  14%|█▍        | 295/2143 [02:03<14:00,  2.20it/s]"
          ]
        },
        {
          "output_type": "stream",
          "name": "stdout",
          "text": [
            "Ошибка при получении данных для формулы BiFeO3: 404\n",
            "Ошибка при получении данных для формулы 0: 404\n",
            "Ошибка при получении данных для формулы Bi0.9La0.1FeO3: 404\n"
          ]
        },
        {
          "output_type": "stream",
          "name": "stderr",
          "text": [
            "\rProcessing compounds:  14%|█▍        | 296/2143 [02:04<14:29,  2.12it/s]"
          ]
        },
        {
          "output_type": "stream",
          "name": "stdout",
          "text": [
            "Ошибка при получении данных для формулы 0: 404\n"
          ]
        },
        {
          "output_type": "stream",
          "name": "stderr",
          "text": [
            "\rProcessing compounds:  14%|█▍        | 297/2143 [02:05<15:04,  2.04it/s]"
          ]
        },
        {
          "output_type": "stream",
          "name": "stdout",
          "text": [
            "Ошибка при получении данных для формулы BiFeO3: 404\n",
            "Ошибка при получении данных для формулы 0: 404\n"
          ]
        },
        {
          "output_type": "stream",
          "name": "stderr",
          "text": [
            "\rProcessing compounds:  14%|█▍        | 298/2143 [02:05<14:12,  2.16it/s]"
          ]
        },
        {
          "output_type": "stream",
          "name": "stdout",
          "text": [
            "Ошибка при получении данных для формулы Bi0.9La0.1FeO3: 404\n",
            "Ошибка при получении данных для формулы 0: 404\n",
            "Ошибка при получении данных для формулы NdFeO3: 404\n"
          ]
        },
        {
          "output_type": "stream",
          "name": "stderr",
          "text": [
            "\rProcessing compounds:  14%|█▍        | 299/2143 [02:05<14:10,  2.17it/s]"
          ]
        },
        {
          "output_type": "stream",
          "name": "stdout",
          "text": [
            "Ошибка при получении данных для формулы 0: 404\n",
            "Ошибка при получении данных для формулы CoFe2O4: 404\n"
          ]
        },
        {
          "output_type": "stream",
          "name": "stderr",
          "text": [
            "\rProcessing compounds:  14%|█▍        | 300/2143 [02:06<13:33,  2.26it/s]"
          ]
        },
        {
          "output_type": "stream",
          "name": "stdout",
          "text": [
            "Ошибка при получении данных для формулы 0: 404\n",
            "Ошибка при получении данных для формулы CoFe2O4: 404\n"
          ]
        },
        {
          "output_type": "stream",
          "name": "stderr",
          "text": [
            "\rProcessing compounds:  14%|█▍        | 301/2143 [02:06<13:07,  2.34it/s]"
          ]
        },
        {
          "output_type": "stream",
          "name": "stdout",
          "text": [
            "Сохранен и добавлен в архив: compound_16211978_c2.json\n",
            "Ошибка при получении данных для формулы CoFe2O4: 404\n"
          ]
        },
        {
          "output_type": "stream",
          "name": "stderr",
          "text": [
            "\rProcessing compounds:  14%|█▍        | 302/2143 [02:07<12:50,  2.39it/s]"
          ]
        },
        {
          "output_type": "stream",
          "name": "stdout",
          "text": [
            "Сохранен и добавлен в архив: compound_16211978_c2.json\n",
            "Ошибка при получении данных для формулы CoFe2O4: 404\n"
          ]
        },
        {
          "output_type": "stream",
          "name": "stderr",
          "text": [
            "\rProcessing compounds:  14%|█▍        | 303/2143 [02:07<12:41,  2.42it/s]"
          ]
        },
        {
          "output_type": "stream",
          "name": "stdout",
          "text": [
            "Сохранен и добавлен в архив: compound_16211978_c2.json\n",
            "Ошибка при получении данных для формулы CoFe2O4: 404\n"
          ]
        },
        {
          "output_type": "stream",
          "name": "stderr",
          "text": [
            "\rProcessing compounds:  14%|█▍        | 304/2143 [02:08<14:57,  2.05it/s]"
          ]
        },
        {
          "output_type": "stream",
          "name": "stdout",
          "text": [
            "Сохранен и добавлен в архив: compound_16211978_c2.json\n",
            "Ошибка при получении данных для формулы CoFe2O4: 404\n"
          ]
        },
        {
          "output_type": "stream",
          "name": "stderr",
          "text": [
            "\rProcessing compounds:  14%|█▍        | 305/2143 [02:08<14:19,  2.14it/s]"
          ]
        },
        {
          "output_type": "stream",
          "name": "stdout",
          "text": [
            "Сохранен и добавлен в архив: compound_16211978_c2.json\n",
            "Ошибка при получении данных для формулы CoFe2O4: 404\n"
          ]
        },
        {
          "output_type": "stream",
          "name": "stderr",
          "text": [
            "\rProcessing compounds:  14%|█▍        | 306/2143 [02:08<13:45,  2.22it/s]"
          ]
        },
        {
          "output_type": "stream",
          "name": "stdout",
          "text": [
            "Сохранен и добавлен в архив: compound_16211978_c2.json\n",
            "Ошибка при получении данных для формулы CoFe2O4: 404\n"
          ]
        },
        {
          "output_type": "stream",
          "name": "stderr",
          "text": [
            "\rProcessing compounds:  14%|█▍        | 307/2143 [02:09<13:15,  2.31it/s]"
          ]
        },
        {
          "output_type": "stream",
          "name": "stdout",
          "text": [
            "Сохранен и добавлен в архив: compound_16211978_c2.json\n",
            "Ошибка при получении данных для формулы CoFe2O4: 404\n"
          ]
        },
        {
          "output_type": "stream",
          "name": "stderr",
          "text": [
            "\rProcessing compounds:  14%|█▍        | 308/2143 [02:09<12:54,  2.37it/s]"
          ]
        },
        {
          "output_type": "stream",
          "name": "stdout",
          "text": [
            "Сохранен и добавлен в архив: compound_16211978_c2.json\n",
            "Ошибка при получении данных для формулы CoFe2O4: 404\n"
          ]
        },
        {
          "output_type": "stream",
          "name": "stderr",
          "text": [
            "\rProcessing compounds:  14%|█▍        | 309/2143 [02:10<12:49,  2.38it/s]"
          ]
        },
        {
          "output_type": "stream",
          "name": "stdout",
          "text": [
            "Сохранен и добавлен в архив: compound_16211978_c2.json\n",
            "Ошибка при получении данных для формулы CoFe2O4: 404\n"
          ]
        },
        {
          "output_type": "stream",
          "name": "stderr",
          "text": [
            "\rProcessing compounds:  14%|█▍        | 310/2143 [02:10<12:35,  2.43it/s]"
          ]
        },
        {
          "output_type": "stream",
          "name": "stdout",
          "text": [
            "Сохранен и добавлен в архив: compound_16211978_c2.json\n",
            "Ошибка при получении данных для формулы CoFe2O4: 404\n"
          ]
        },
        {
          "output_type": "stream",
          "name": "stderr",
          "text": [
            "\rProcessing compounds:  15%|█▍        | 311/2143 [02:10<12:27,  2.45it/s]"
          ]
        },
        {
          "output_type": "stream",
          "name": "stdout",
          "text": [
            "Сохранен и добавлен в архив: compound_16211978_c2.json\n",
            "Ошибка при получении данных для формулы CoFe2O4: 404\n"
          ]
        },
        {
          "output_type": "stream",
          "name": "stderr",
          "text": [
            "\rProcessing compounds:  15%|█▍        | 312/2143 [02:11<12:20,  2.47it/s]"
          ]
        },
        {
          "output_type": "stream",
          "name": "stdout",
          "text": [
            "Сохранен и добавлен в архив: compound_16211978_c2.json\n",
            "Ошибка при получении данных для формулы CoFe2O4: 404\n"
          ]
        },
        {
          "output_type": "stream",
          "name": "stderr",
          "text": [
            "\rProcessing compounds:  15%|█▍        | 313/2143 [02:11<12:15,  2.49it/s]"
          ]
        },
        {
          "output_type": "stream",
          "name": "stdout",
          "text": [
            "Сохранен и добавлен в архив: compound_16211978_c2.json\n",
            "Ошибка при получении данных для формулы CoFe2O4: 404\n"
          ]
        },
        {
          "output_type": "stream",
          "name": "stderr",
          "text": [
            "\rProcessing compounds:  15%|█▍        | 314/2143 [02:12<12:14,  2.49it/s]"
          ]
        },
        {
          "output_type": "stream",
          "name": "stdout",
          "text": [
            "Сохранен и добавлен в архив: compound_16211978_c2.json\n"
          ]
        },
        {
          "output_type": "stream",
          "name": "stderr",
          "text": [
            "\rProcessing compounds:  15%|█▍        | 315/2143 [02:12<12:32,  2.43it/s]"
          ]
        },
        {
          "output_type": "stream",
          "name": "stdout",
          "text": [
            "Ошибка при получении данных для формулы CoFe2O4: 404\n",
            "Сохранен и добавлен в архив: compound_16211978_c2.json\n"
          ]
        },
        {
          "output_type": "stream",
          "name": "stderr",
          "text": [
            "\rProcessing compounds:  15%|█▍        | 316/2143 [02:13<13:15,  2.30it/s]"
          ]
        },
        {
          "output_type": "stream",
          "name": "stdout",
          "text": [
            "Ошибка при получении данных для формулы DyCrTiO5: 404\n",
            "Ошибка при получении данных для формулы 0: 404\n"
          ]
        },
        {
          "output_type": "stream",
          "name": "stderr",
          "text": [
            "\rProcessing compounds:  15%|█▍        | 317/2143 [02:13<12:53,  2.36it/s]"
          ]
        },
        {
          "output_type": "stream",
          "name": "stdout",
          "text": [
            "Ошибка при получении данных для формулы DyCrTiO5: 404\n",
            "Ошибка при получении данных для формулы 0: 404\n",
            "Сохранен и добавлен в архив: compound_104730_c1.json\n"
          ]
        },
        {
          "output_type": "stream",
          "name": "stderr",
          "text": [
            "\rProcessing compounds:  15%|█▍        | 318/2143 [02:13<12:45,  2.38it/s]"
          ]
        },
        {
          "output_type": "stream",
          "name": "stdout",
          "text": [
            "Сохранен и добавлен в архив: compound_14786_c2.json\n",
            "Сохранен и добавлен в архив: compound_104730_c1.json\n"
          ]
        },
        {
          "output_type": "stream",
          "name": "stderr",
          "text": [
            "\rProcessing compounds:  15%|█▍        | 319/2143 [02:14<12:47,  2.38it/s]"
          ]
        },
        {
          "output_type": "stream",
          "name": "stdout",
          "text": [
            "Сохранен и добавлен в архив: compound_14786_c2.json\n"
          ]
        },
        {
          "output_type": "stream",
          "name": "stderr",
          "text": [
            "\rProcessing compounds:  15%|█▍        | 320/2143 [02:14<12:38,  2.40it/s]"
          ]
        },
        {
          "output_type": "stream",
          "name": "stdout",
          "text": [
            "Сохранен и добавлен в архив: compound_104730_c1.json\n",
            "Сохранен и добавлен в архив: compound_14786_c2.json\n"
          ]
        },
        {
          "output_type": "stream",
          "name": "stderr",
          "text": [
            "\rProcessing compounds:  15%|█▍        | 321/2143 [02:15<12:33,  2.42it/s]"
          ]
        },
        {
          "output_type": "stream",
          "name": "stdout",
          "text": [
            "Сохранен и добавлен в архив: compound_104730_c1.json\n",
            "Сохранен и добавлен в архив: compound_14786_c2.json\n"
          ]
        },
        {
          "output_type": "stream",
          "name": "stderr",
          "text": [
            "\rProcessing compounds:  15%|█▌        | 322/2143 [02:15<13:12,  2.30it/s]"
          ]
        },
        {
          "output_type": "stream",
          "name": "stdout",
          "text": [
            "Сохранен и добавлен в архив: compound_104730_c1.json\n",
            "Сохранен и добавлен в архив: compound_14786_c2.json\n",
            "Сохранен и добавлен в архив: compound_104730_c1.json\n"
          ]
        },
        {
          "output_type": "stream",
          "name": "stderr",
          "text": [
            "\rProcessing compounds:  15%|█▌        | 323/2143 [02:16<13:05,  2.32it/s]"
          ]
        },
        {
          "output_type": "stream",
          "name": "stdout",
          "text": [
            "Сохранен и добавлен в архив: compound_14786_c2.json\n",
            "Сохранен и добавлен в архив: compound_104730_c1.json\n"
          ]
        },
        {
          "output_type": "stream",
          "name": "stderr",
          "text": [
            "\rProcessing compounds:  15%|█▌        | 324/2143 [02:16<13:20,  2.27it/s]"
          ]
        },
        {
          "output_type": "stream",
          "name": "stdout",
          "text": [
            "Сохранен и добавлен в архив: compound_14786_c2.json\n"
          ]
        },
        {
          "output_type": "stream",
          "name": "stderr",
          "text": [
            "\rProcessing compounds:  15%|█▌        | 325/2143 [02:16<13:04,  2.32it/s]"
          ]
        },
        {
          "output_type": "stream",
          "name": "stdout",
          "text": [
            "Сохранен и добавлен в архив: compound_104730_c1.json\n",
            "Сохранен и добавлен в архив: compound_14786_c2.json\n"
          ]
        },
        {
          "output_type": "stream",
          "name": "stderr",
          "text": [
            "\rProcessing compounds:  15%|█▌        | 326/2143 [02:17<13:06,  2.31it/s]"
          ]
        },
        {
          "output_type": "stream",
          "name": "stdout",
          "text": [
            "Сохранен и добавлен в архив: compound_104730_c1.json\n",
            "Сохранен и добавлен в архив: compound_14786_c2.json\n"
          ]
        },
        {
          "output_type": "stream",
          "name": "stderr",
          "text": [
            "\rProcessing compounds:  15%|█▌        | 327/2143 [02:17<12:53,  2.35it/s]"
          ]
        },
        {
          "output_type": "stream",
          "name": "stdout",
          "text": [
            "Сохранен и добавлен в архив: compound_104730_c1.json\n",
            "Сохранен и добавлен в архив: compound_14786_c2.json\n"
          ]
        },
        {
          "output_type": "stream",
          "name": "stderr",
          "text": [
            "\rProcessing compounds:  15%|█▌        | 328/2143 [02:18<12:41,  2.38it/s]"
          ]
        },
        {
          "output_type": "stream",
          "name": "stdout",
          "text": [
            "Сохранен и добавлен в архив: compound_104730_c1.json\n",
            "Сохранен и добавлен в архив: compound_14786_c2.json\n"
          ]
        },
        {
          "output_type": "stream",
          "name": "stderr",
          "text": [
            "\rProcessing compounds:  15%|█▌        | 329/2143 [02:18<12:35,  2.40it/s]"
          ]
        },
        {
          "output_type": "stream",
          "name": "stdout",
          "text": [
            "Сохранен и добавлен в архив: compound_104730_c1.json\n",
            "Сохранен и добавлен в архив: compound_14786_c2.json\n"
          ]
        },
        {
          "output_type": "stream",
          "name": "stderr",
          "text": [
            "\rProcessing compounds:  15%|█▌        | 330/2143 [02:18<12:29,  2.42it/s]"
          ]
        },
        {
          "output_type": "stream",
          "name": "stdout",
          "text": [
            "Сохранен и добавлен в архив: compound_104730_c1.json\n",
            "Сохранен и добавлен в архив: compound_14786_c2.json\n",
            "Сохранен и добавлен в архив: compound_104730_c1.json\n"
          ]
        },
        {
          "output_type": "stream",
          "name": "stderr",
          "text": [
            "\rProcessing compounds:  15%|█▌        | 331/2143 [02:19<12:37,  2.39it/s]"
          ]
        },
        {
          "output_type": "stream",
          "name": "stdout",
          "text": [
            "Сохранен и добавлен в архив: compound_14786_c2.json\n",
            "Сохранен и добавлен в архив: compound_104730_c1.json\n"
          ]
        },
        {
          "output_type": "stream",
          "name": "stderr",
          "text": [
            "\rProcessing compounds:  15%|█▌        | 332/2143 [02:19<12:47,  2.36it/s]"
          ]
        },
        {
          "output_type": "stream",
          "name": "stdout",
          "text": [
            "Сохранен и добавлен в архив: compound_14786_c2.json\n",
            "Сохранен и добавлен в архив: compound_104730_c1.json\n"
          ]
        },
        {
          "output_type": "stream",
          "name": "stderr",
          "text": [
            "\rProcessing compounds:  16%|█▌        | 333/2143 [02:20<13:04,  2.31it/s]"
          ]
        },
        {
          "output_type": "stream",
          "name": "stdout",
          "text": [
            "Сохранен и добавлен в архив: compound_14786_c2.json\n",
            "Сохранен и добавлен в архив: compound_104730_c1.json\n"
          ]
        },
        {
          "output_type": "stream",
          "name": "stderr",
          "text": [
            "\rProcessing compounds:  16%|█▌        | 334/2143 [02:20<13:57,  2.16it/s]"
          ]
        },
        {
          "output_type": "stream",
          "name": "stdout",
          "text": [
            "Сохранен и добавлен в архив: compound_14786_c2.json\n"
          ]
        },
        {
          "output_type": "stream",
          "name": "stderr",
          "text": [
            "\rProcessing compounds:  16%|█▌        | 335/2143 [02:21<14:08,  2.13it/s]"
          ]
        },
        {
          "output_type": "stream",
          "name": "stdout",
          "text": [
            "Сохранен и добавлен в архив: compound_104730_c1.json\n",
            "Сохранен и добавлен в архив: compound_14786_c2.json\n"
          ]
        },
        {
          "output_type": "stream",
          "name": "stderr",
          "text": [
            "\rProcessing compounds:  16%|█▌        | 336/2143 [02:21<13:40,  2.20it/s]"
          ]
        },
        {
          "output_type": "stream",
          "name": "stdout",
          "text": [
            "Ошибка при получении данных для формулы GdCrTiO5: 404\n",
            "Ошибка при получении данных для формулы 0: 404\n"
          ]
        },
        {
          "output_type": "stream",
          "name": "stderr",
          "text": [
            "\rProcessing compounds:  16%|█▌        | 337/2143 [02:22<13:08,  2.29it/s]"
          ]
        },
        {
          "output_type": "stream",
          "name": "stdout",
          "text": [
            "Ошибка при получении данных для формулы GdCrTiO5: 404\n",
            "Ошибка при получении данных для формулы 0: 404\n"
          ]
        },
        {
          "output_type": "stream",
          "name": "stderr",
          "text": [
            "\rProcessing compounds:  16%|█▌        | 338/2143 [02:22<12:45,  2.36it/s]"
          ]
        },
        {
          "output_type": "stream",
          "name": "stdout",
          "text": [
            "Ошибка при получении данных для формулы GdCrTiO5: 404\n",
            "Ошибка при получении данных для формулы 0: 404\n"
          ]
        },
        {
          "output_type": "stream",
          "name": "stderr",
          "text": [
            "\rProcessing compounds:  16%|█▌        | 339/2143 [02:22<12:31,  2.40it/s]"
          ]
        },
        {
          "output_type": "stream",
          "name": "stdout",
          "text": [
            "Сохранен и добавлен в архив: compound_938_c1.json\n",
            "Ошибка при получении данных для формулы CoMn2O4: 404\n",
            "Сохранен и добавлен в архив: compound_938_c1.json\n"
          ]
        },
        {
          "output_type": "stream",
          "name": "stderr",
          "text": [
            "\rProcessing compounds:  16%|█▌        | 340/2143 [02:23<12:28,  2.41it/s]"
          ]
        },
        {
          "output_type": "stream",
          "name": "stdout",
          "text": [
            "Ошибка при получении данных для формулы CoMn2O4: 404\n",
            "Сохранен и добавлен в архив: compound_938_c1.json\n"
          ]
        },
        {
          "output_type": "stream",
          "name": "stderr",
          "text": [
            "\rProcessing compounds:  16%|█▌        | 341/2143 [02:23<12:22,  2.43it/s]"
          ]
        },
        {
          "output_type": "stream",
          "name": "stdout",
          "text": [
            "Ошибка при получении данных для формулы CoMn2O4: 404\n",
            "Сохранен и добавлен в архив: compound_938_c1.json\n"
          ]
        },
        {
          "output_type": "stream",
          "name": "stderr",
          "text": [
            "\rProcessing compounds:  16%|█▌        | 342/2143 [02:24<12:16,  2.45it/s]"
          ]
        },
        {
          "output_type": "stream",
          "name": "stdout",
          "text": [
            "Ошибка при получении данных для формулы CoMn2O4: 404\n",
            "Ошибка при получении данных для формулы Fe2O3: 404\n"
          ]
        },
        {
          "output_type": "stream",
          "name": "stderr",
          "text": [
            "\rProcessing compounds:  16%|█▌        | 343/2143 [02:24<12:08,  2.47it/s]"
          ]
        },
        {
          "output_type": "stream",
          "name": "stdout",
          "text": [
            "Ошибка при получении данных для формулы 0: 404\n",
            "Ошибка при получении данных для формулы Fe2O3: 404\n"
          ]
        },
        {
          "output_type": "stream",
          "name": "stderr",
          "text": [
            "\rProcessing compounds:  16%|█▌        | 344/2143 [02:24<12:03,  2.49it/s]"
          ]
        },
        {
          "output_type": "stream",
          "name": "stdout",
          "text": [
            "Ошибка при получении данных для формулы 0: 404\n",
            "Ошибка при получении данных для формулы Fe2O3: 404\n"
          ]
        },
        {
          "output_type": "stream",
          "name": "stderr",
          "text": [
            "\rProcessing compounds:  16%|█▌        | 345/2143 [02:25<11:59,  2.50it/s]"
          ]
        },
        {
          "output_type": "stream",
          "name": "stdout",
          "text": [
            "Ошибка при получении данных для формулы 0: 404\n",
            "Ошибка при получении данных для формулы Fe2O3: 404\n"
          ]
        },
        {
          "output_type": "stream",
          "name": "stderr",
          "text": [
            "\rProcessing compounds:  16%|█▌        | 346/2143 [02:25<12:10,  2.46it/s]"
          ]
        },
        {
          "output_type": "stream",
          "name": "stdout",
          "text": [
            "Ошибка при получении данных для формулы 0: 404\n",
            "Ошибка при получении данных для формулы Fe2O3: 404\n"
          ]
        },
        {
          "output_type": "stream",
          "name": "stderr",
          "text": [
            "\rProcessing compounds:  16%|█▌        | 347/2143 [02:26<12:02,  2.49it/s]"
          ]
        },
        {
          "output_type": "stream",
          "name": "stdout",
          "text": [
            "Ошибка при получении данных для формулы 0: 404\n",
            "Ошибка при получении данных для формулы Fe2O3: 404\n"
          ]
        },
        {
          "output_type": "stream",
          "name": "stderr",
          "text": [
            "\rProcessing compounds:  16%|█▌        | 348/2143 [02:26<11:58,  2.50it/s]"
          ]
        },
        {
          "output_type": "stream",
          "name": "stdout",
          "text": [
            "Ошибка при получении данных для формулы 0: 404\n",
            "Ошибка при получении данных для формулы Fe2O3: 404\n"
          ]
        },
        {
          "output_type": "stream",
          "name": "stderr",
          "text": [
            "\rProcessing compounds:  16%|█▋        | 349/2143 [02:26<11:55,  2.51it/s]"
          ]
        },
        {
          "output_type": "stream",
          "name": "stdout",
          "text": [
            "Ошибка при получении данных для формулы 0: 404\n",
            "Ошибка при получении данных для формулы Fe2O3: 404\n"
          ]
        },
        {
          "output_type": "stream",
          "name": "stderr",
          "text": [
            "\rProcessing compounds:  16%|█▋        | 350/2143 [02:27<11:51,  2.52it/s]"
          ]
        },
        {
          "output_type": "stream",
          "name": "stdout",
          "text": [
            "Ошибка при получении данных для формулы 0: 404\n",
            "Ошибка при получении данных для формулы Fe2O3: 404\n"
          ]
        },
        {
          "output_type": "stream",
          "name": "stderr",
          "text": [
            "\rProcessing compounds:  16%|█▋        | 351/2143 [02:27<11:49,  2.52it/s]"
          ]
        },
        {
          "output_type": "stream",
          "name": "stdout",
          "text": [
            "Ошибка при получении данных для формулы 0: 404\n",
            "Ошибка при получении данных для формулы Fe2O3: 404\n"
          ]
        },
        {
          "output_type": "stream",
          "name": "stderr",
          "text": [
            "\rProcessing compounds:  16%|█▋        | 352/2143 [02:28<11:49,  2.53it/s]"
          ]
        },
        {
          "output_type": "stream",
          "name": "stdout",
          "text": [
            "Ошибка при получении данных для формулы 0: 404\n",
            "Ошибка при получении данных для формулы Fe2O3: 404\n"
          ]
        },
        {
          "output_type": "stream",
          "name": "stderr",
          "text": [
            "\rProcessing compounds:  16%|█▋        | 353/2143 [02:28<11:46,  2.53it/s]"
          ]
        },
        {
          "output_type": "stream",
          "name": "stdout",
          "text": [
            "Ошибка при получении данных для формулы 0: 404\n",
            "Ошибка при получении данных для формулы Fe2O3: 404\n"
          ]
        },
        {
          "output_type": "stream",
          "name": "stderr",
          "text": [
            "\rProcessing compounds:  17%|█▋        | 354/2143 [02:28<11:45,  2.54it/s]"
          ]
        },
        {
          "output_type": "stream",
          "name": "stdout",
          "text": [
            "Ошибка при получении данных для формулы 0: 404\n",
            "Ошибка при получении данных для формулы BaFe12O19: 404\n"
          ]
        },
        {
          "output_type": "stream",
          "name": "stderr",
          "text": [
            "\rProcessing compounds:  17%|█▋        | 355/2143 [02:29<12:15,  2.43it/s]"
          ]
        },
        {
          "output_type": "stream",
          "name": "stdout",
          "text": [
            "Сохранен и добавлен в архив: compound_16211978_c2.json\n",
            "Ошибка при получении данных для формулы BaFe12O19: 404\n"
          ]
        },
        {
          "output_type": "stream",
          "name": "stderr",
          "text": [
            "\rProcessing compounds:  17%|█▋        | 356/2143 [02:29<12:08,  2.45it/s]"
          ]
        },
        {
          "output_type": "stream",
          "name": "stdout",
          "text": [
            "Сохранен и добавлен в архив: compound_16211978_c2.json\n"
          ]
        },
        {
          "output_type": "stream",
          "name": "stderr",
          "text": [
            "\rProcessing compounds:  17%|█▋        | 357/2143 [02:30<12:20,  2.41it/s]"
          ]
        },
        {
          "output_type": "stream",
          "name": "stdout",
          "text": [
            "Ошибка при получении данных для формулы BaFe12O19: 404\n",
            "Сохранен и добавлен в архив: compound_16211978_c2.json\n"
          ]
        },
        {
          "output_type": "stream",
          "name": "stderr",
          "text": [
            "\rProcessing compounds:  17%|█▋        | 358/2143 [02:30<12:11,  2.44it/s]"
          ]
        },
        {
          "output_type": "stream",
          "name": "stdout",
          "text": [
            "Ошибка при получении данных для формулы BaFe12O19: 404\n",
            "Сохранен и добавлен в архив: compound_16211978_c2.json\n",
            "Сохранен и добавлен в архив: compound_16211978_c1.json\n"
          ]
        },
        {
          "output_type": "stream",
          "name": "stderr",
          "text": [
            "\rProcessing compounds:  17%|█▋        | 359/2143 [02:30<12:16,  2.42it/s]"
          ]
        },
        {
          "output_type": "stream",
          "name": "stdout",
          "text": [
            "Сохранен и добавлен в архив: compound_938_c2.json\n",
            "Сохранен и добавлен в архив: compound_938_c1.json\n"
          ]
        },
        {
          "output_type": "stream",
          "name": "stderr",
          "text": [
            "\rProcessing compounds:  17%|█▋        | 360/2143 [02:31<12:12,  2.43it/s]"
          ]
        },
        {
          "output_type": "stream",
          "name": "stdout",
          "text": [
            "Сохранен и добавлен в архив: compound_16211978_c2.json\n",
            "Сохранен и добавлен в архив: compound_122164822_c1.json\n"
          ]
        },
        {
          "output_type": "stream",
          "name": "stderr",
          "text": [
            "\rProcessing compounds:  17%|█▋        | 361/2143 [02:31<12:25,  2.39it/s]"
          ]
        },
        {
          "output_type": "stream",
          "name": "stdout",
          "text": [
            "Сохранен и добавлен в архив: compound_14786_c2.json\n"
          ]
        },
        {
          "output_type": "stream",
          "name": "stderr",
          "text": [
            "/usr/lib/python3.11/zipfile.py:1567: UserWarning: Duplicate name: 'compound_122164822_c1.json'\n",
            "  return self._open_to_write(zinfo, force_zip64=force_zip64)\n"
          ]
        },
        {
          "output_type": "stream",
          "name": "stdout",
          "text": [
            "Сохранен и добавлен в архив: compound_122164822_c1.json\n"
          ]
        },
        {
          "output_type": "stream",
          "name": "stderr",
          "text": [
            "\rProcessing compounds:  17%|█▋        | 362/2143 [02:32<12:29,  2.38it/s]"
          ]
        },
        {
          "output_type": "stream",
          "name": "stdout",
          "text": [
            "Сохранен и добавлен в архив: compound_14786_c2.json\n",
            "Сохранен и добавлен в архив: compound_122164822_c1.json\n"
          ]
        },
        {
          "output_type": "stream",
          "name": "stderr",
          "text": [
            "\rProcessing compounds:  17%|█▋        | 363/2143 [02:32<12:52,  2.30it/s]"
          ]
        },
        {
          "output_type": "stream",
          "name": "stdout",
          "text": [
            "Сохранен и добавлен в архив: compound_14786_c2.json\n"
          ]
        },
        {
          "output_type": "stream",
          "name": "stderr",
          "text": [
            "\rProcessing compounds:  17%|█▋        | 364/2143 [02:33<12:48,  2.31it/s]"
          ]
        },
        {
          "output_type": "stream",
          "name": "stdout",
          "text": [
            "Сохранен и добавлен в архив: compound_122164822_c1.json\n",
            "Сохранен и добавлен в архив: compound_14786_c2.json\n",
            "Сохранен и добавлен в архив: compound_122164822_c1.json\n"
          ]
        },
        {
          "output_type": "stream",
          "name": "stderr",
          "text": [
            "\rProcessing compounds:  17%|█▋        | 365/2143 [02:33<13:15,  2.24it/s]"
          ]
        },
        {
          "output_type": "stream",
          "name": "stdout",
          "text": [
            "Сохранен и добавлен в архив: compound_14786_c2.json\n"
          ]
        },
        {
          "output_type": "stream",
          "name": "stderr",
          "text": [
            "\rProcessing compounds:  17%|█▋        | 366/2143 [02:34<12:50,  2.31it/s]"
          ]
        },
        {
          "output_type": "stream",
          "name": "stdout",
          "text": [
            "Сохранен и добавлен в архив: compound_122164822_c1.json\n",
            "Сохранен и добавлен в архив: compound_14786_c2.json\n",
            "Сохранен и добавлен в архив: compound_104730_c1.json\n"
          ]
        },
        {
          "output_type": "stream",
          "name": "stderr",
          "text": [
            "\rProcessing compounds:  17%|█▋        | 367/2143 [02:34<12:39,  2.34it/s]"
          ]
        },
        {
          "output_type": "stream",
          "name": "stdout",
          "text": [
            "Сохранен и добавлен в архив: compound_14786_c2.json\n"
          ]
        },
        {
          "output_type": "stream",
          "name": "stderr",
          "text": [
            "\rProcessing compounds:  17%|█▋        | 368/2143 [02:34<12:28,  2.37it/s]"
          ]
        },
        {
          "output_type": "stream",
          "name": "stdout",
          "text": [
            "Сохранен и добавлен в архив: compound_104730_c1.json\n",
            "Сохранен и добавлен в архив: compound_14786_c2.json\n"
          ]
        },
        {
          "output_type": "stream",
          "name": "stderr",
          "text": [
            "\rProcessing compounds:  17%|█▋        | 369/2143 [02:35<12:22,  2.39it/s]"
          ]
        },
        {
          "output_type": "stream",
          "name": "stdout",
          "text": [
            "Сохранен и добавлен в архив: compound_104730_c1.json\n",
            "Сохранен и добавлен в архив: compound_14786_c2.json\n",
            "Сохранен и добавлен в архив: compound_104730_c1.json\n",
            "Сохранен и добавлен в архив: compound_14786_c2.json\n"
          ]
        },
        {
          "output_type": "stream",
          "name": "stderr",
          "text": [
            "Processing compounds:  17%|█▋        | 371/2143 [02:36<12:11,  2.42it/s]"
          ]
        },
        {
          "output_type": "stream",
          "name": "stdout",
          "text": [
            "Сохранен и добавлен в архив: compound_104730_c1.json\n",
            "Сохранен и добавлен в архив: compound_14786_c2.json\n"
          ]
        },
        {
          "output_type": "stream",
          "name": "stderr",
          "text": [
            "\rProcessing compounds:  17%|█▋        | 372/2143 [02:36<12:08,  2.43it/s]"
          ]
        },
        {
          "output_type": "stream",
          "name": "stdout",
          "text": [
            "Сохранен и добавлен в архив: compound_104730_c1.json\n",
            "Сохранен и добавлен в архив: compound_14786_c2.json\n"
          ]
        },
        {
          "output_type": "stream",
          "name": "stderr",
          "text": [
            "\rProcessing compounds:  17%|█▋        | 373/2143 [02:36<12:06,  2.44it/s]"
          ]
        },
        {
          "output_type": "stream",
          "name": "stdout",
          "text": [
            "Сохранен и добавлен в архив: compound_104730_c1.json\n",
            "Сохранен и добавлен в архив: compound_14786_c2.json\n"
          ]
        },
        {
          "output_type": "stream",
          "name": "stderr",
          "text": [
            "\rProcessing compounds:  17%|█▋        | 374/2143 [02:37<12:11,  2.42it/s]"
          ]
        },
        {
          "output_type": "stream",
          "name": "stdout",
          "text": [
            "Сохранен и добавлен в архив: compound_104730_c1.json\n",
            "Сохранен и добавлен в архив: compound_14786_c2.json\n"
          ]
        },
        {
          "output_type": "stream",
          "name": "stderr",
          "text": [
            "\rProcessing compounds:  17%|█▋        | 375/2143 [02:37<12:00,  2.45it/s]"
          ]
        },
        {
          "output_type": "stream",
          "name": "stdout",
          "text": [
            "Ошибка при получении данных для формулы CoCr2O4: 404\n",
            "Ошибка при получении данных для формулы 0: 404\n"
          ]
        },
        {
          "output_type": "stream",
          "name": "stderr",
          "text": [
            "\rProcessing compounds:  18%|█▊        | 376/2143 [02:38<11:51,  2.48it/s]"
          ]
        },
        {
          "output_type": "stream",
          "name": "stdout",
          "text": [
            "Ошибка при получении данных для формулы CoCr2O4: 404\n",
            "Ошибка при получении данных для формулы 0: 404\n"
          ]
        },
        {
          "output_type": "stream",
          "name": "stderr",
          "text": [
            "\rProcessing compounds:  18%|█▊        | 377/2143 [02:38<11:48,  2.49it/s]"
          ]
        },
        {
          "output_type": "stream",
          "name": "stdout",
          "text": [
            "Ошибка при получении данных для формулы CoCr2O4: 404\n",
            "Ошибка при получении данных для формулы 0: 404\n",
            "Ошибка при получении данных для формулы CoCr2O4: 404\n"
          ]
        },
        {
          "output_type": "stream",
          "name": "stderr",
          "text": [
            "\rProcessing compounds:  18%|█▊        | 378/2143 [02:38<12:19,  2.39it/s]"
          ]
        },
        {
          "output_type": "stream",
          "name": "stdout",
          "text": [
            "Ошибка при получении данных для формулы 0: 404\n",
            "Ошибка при получении данных для формулы CoCr2O4: 404\n"
          ]
        },
        {
          "output_type": "stream",
          "name": "stderr",
          "text": [
            "\rProcessing compounds:  18%|█▊        | 379/2143 [02:39<12:07,  2.43it/s]"
          ]
        },
        {
          "output_type": "stream",
          "name": "stdout",
          "text": [
            "Ошибка при получении данных для формулы 0: 404\n",
            "Ошибка при получении данных для формулы CoCr2O4: 404\n"
          ]
        },
        {
          "output_type": "stream",
          "name": "stderr",
          "text": [
            "\rProcessing compounds:  18%|█▊        | 380/2143 [02:39<11:57,  2.46it/s]"
          ]
        },
        {
          "output_type": "stream",
          "name": "stdout",
          "text": [
            "Ошибка при получении данных для формулы 0: 404\n",
            "Ошибка при получении данных для формулы CoCr2O4: 404\n"
          ]
        },
        {
          "output_type": "stream",
          "name": "stderr",
          "text": [
            "\rProcessing compounds:  18%|█▊        | 381/2143 [02:40<11:51,  2.48it/s]"
          ]
        },
        {
          "output_type": "stream",
          "name": "stdout",
          "text": [
            "Ошибка при получении данных для формулы 0: 404\n",
            "Ошибка при получении данных для формулы CoCr2O4: 404\n"
          ]
        },
        {
          "output_type": "stream",
          "name": "stderr",
          "text": [
            "\rProcessing compounds:  18%|█▊        | 382/2143 [02:40<12:02,  2.44it/s]"
          ]
        },
        {
          "output_type": "stream",
          "name": "stdout",
          "text": [
            "Ошибка при получении данных для формулы 0: 404\n",
            "Ошибка при получении данных для формулы CoCr2O4: 404\n"
          ]
        },
        {
          "output_type": "stream",
          "name": "stderr",
          "text": [
            "\rProcessing compounds:  18%|█▊        | 383/2143 [02:40<11:55,  2.46it/s]"
          ]
        },
        {
          "output_type": "stream",
          "name": "stdout",
          "text": [
            "Ошибка при получении данных для формулы 0: 404\n",
            "Ошибка при получении данных для формулы CoCr2O4: 404\n"
          ]
        },
        {
          "output_type": "stream",
          "name": "stderr",
          "text": [
            "\rProcessing compounds:  18%|█▊        | 384/2143 [02:41<11:47,  2.49it/s]"
          ]
        },
        {
          "output_type": "stream",
          "name": "stdout",
          "text": [
            "Ошибка при получении данных для формулы 0: 404\n",
            "Ошибка при получении данных для формулы CoCr2O4: 404\n"
          ]
        },
        {
          "output_type": "stream",
          "name": "stderr",
          "text": [
            "\rProcessing compounds:  18%|█▊        | 385/2143 [02:41<11:43,  2.50it/s]"
          ]
        },
        {
          "output_type": "stream",
          "name": "stdout",
          "text": [
            "Ошибка при получении данных для формулы 0: 404\n",
            "Ошибка при получении данных для формулы CoCr2O4: 404\n"
          ]
        },
        {
          "output_type": "stream",
          "name": "stderr",
          "text": [
            "\rProcessing compounds:  18%|█▊        | 386/2143 [02:42<11:39,  2.51it/s]"
          ]
        },
        {
          "output_type": "stream",
          "name": "stdout",
          "text": [
            "Ошибка при получении данных для формулы 0: 404\n"
          ]
        },
        {
          "output_type": "stream",
          "name": "stderr",
          "text": [
            "\rProcessing compounds:  18%|█▊        | 387/2143 [02:42<11:40,  2.51it/s]"
          ]
        },
        {
          "output_type": "stream",
          "name": "stdout",
          "text": [
            "Ошибка при получении данных для формулы FeNi: 404\n",
            "Ошибка при получении данных для формулы 0: 404\n"
          ]
        },
        {
          "output_type": "stream",
          "name": "stderr",
          "text": [
            "\rProcessing compounds:  18%|█▊        | 388/2143 [02:42<11:37,  2.52it/s]"
          ]
        },
        {
          "output_type": "stream",
          "name": "stdout",
          "text": [
            "Ошибка при получении данных для формулы FeNi: 404\n",
            "Ошибка при получении данных для формулы 0: 404\n"
          ]
        },
        {
          "output_type": "stream",
          "name": "stderr",
          "text": [
            "\rProcessing compounds:  18%|█▊        | 389/2143 [02:43<11:37,  2.51it/s]"
          ]
        },
        {
          "output_type": "stream",
          "name": "stdout",
          "text": [
            "Ошибка при получении данных для формулы FeNi: 404\n",
            "Ошибка при получении данных для формулы 0: 404\n"
          ]
        },
        {
          "output_type": "stream",
          "name": "stderr",
          "text": [
            "\rProcessing compounds:  18%|█▊        | 390/2143 [02:43<11:53,  2.46it/s]"
          ]
        },
        {
          "output_type": "stream",
          "name": "stdout",
          "text": [
            "Сохранен и добавлен в архив: compound_23930_c1.json\n",
            "Ошибка при получении данных для формулы Mn3O4: 404\n"
          ]
        },
        {
          "output_type": "stream",
          "name": "stderr",
          "text": [
            "/usr/lib/python3.11/zipfile.py:1567: UserWarning: Duplicate name: 'compound_23930_c1.json'\n",
            "  return self._open_to_write(zinfo, force_zip64=force_zip64)\n",
            "\rProcessing compounds:  18%|█▊        | 391/2143 [02:44<12:04,  2.42it/s]"
          ]
        },
        {
          "output_type": "stream",
          "name": "stdout",
          "text": [
            "Сохранен и добавлен в архив: compound_23930_c1.json\n",
            "Ошибка при получении данных для формулы Mn3O4: 404\n"
          ]
        },
        {
          "output_type": "stream",
          "name": "stderr",
          "text": [
            "\rProcessing compounds:  18%|█▊        | 392/2143 [02:44<12:29,  2.34it/s]"
          ]
        },
        {
          "output_type": "stream",
          "name": "stdout",
          "text": [
            "Сохранен и добавлен в архив: compound_23930_c1.json\n",
            "Ошибка при получении данных для формулы Mn3O4: 404\n"
          ]
        },
        {
          "output_type": "stream",
          "name": "stderr",
          "text": [
            "\rProcessing compounds:  18%|█▊        | 393/2143 [02:45<12:15,  2.38it/s]"
          ]
        },
        {
          "output_type": "stream",
          "name": "stdout",
          "text": [
            "Сохранен и добавлен в архив: compound_16211978_c1.json\n",
            "Ошибка при получении данных для формулы CoFe2O4: 404\n"
          ]
        },
        {
          "output_type": "stream",
          "name": "stderr",
          "text": [
            "\rProcessing compounds:  18%|█▊        | 394/2143 [02:45<12:02,  2.42it/s]"
          ]
        },
        {
          "output_type": "stream",
          "name": "stdout",
          "text": [
            "Сохранен и добавлен в архив: compound_16211978_c1.json\n",
            "Ошибка при получении данных для формулы CoFe2O4: 404\n"
          ]
        },
        {
          "output_type": "stream",
          "name": "stderr",
          "text": [
            "\rProcessing compounds:  18%|█▊        | 395/2143 [02:45<11:55,  2.44it/s]"
          ]
        },
        {
          "output_type": "stream",
          "name": "stdout",
          "text": [
            "Сохранен и добавлен в архив: compound_16211978_c1.json\n",
            "Ошибка при получении данных для формулы 0: 404\n"
          ]
        },
        {
          "output_type": "stream",
          "name": "stderr",
          "text": [
            "\rProcessing compounds:  18%|█▊        | 396/2143 [02:46<11:44,  2.48it/s]"
          ]
        },
        {
          "output_type": "stream",
          "name": "stdout",
          "text": [
            "Ошибка при получении данных для формулы CoFe2O4: 404\n",
            "Ошибка при получении данных для формулы 0: 404\n"
          ]
        },
        {
          "output_type": "stream",
          "name": "stderr",
          "text": [
            "\rProcessing compounds:  19%|█▊        | 397/2143 [02:46<11:41,  2.49it/s]"
          ]
        },
        {
          "output_type": "stream",
          "name": "stdout",
          "text": [
            "Сохранен и добавлен в архив: compound_16211978_c1.json\n",
            "Сохранен и добавлен в архив: compound_444604_c2.json\n"
          ]
        },
        {
          "output_type": "stream",
          "name": "stderr",
          "text": [
            "/usr/lib/python3.11/zipfile.py:1567: UserWarning: Duplicate name: 'compound_444604_c2.json'\n",
            "  return self._open_to_write(zinfo, force_zip64=force_zip64)\n",
            "\rProcessing compounds:  19%|█▊        | 398/2143 [02:47<11:41,  2.49it/s]"
          ]
        },
        {
          "output_type": "stream",
          "name": "stdout",
          "text": [
            "Сохранен и добавлен в архив: compound_16211978_c1.json\n",
            "Сохранен и добавлен в архив: compound_444604_c2.json\n",
            "Сохранен и добавлен в архив: compound_16211978_c1.json\n"
          ]
        },
        {
          "output_type": "stream",
          "name": "stderr",
          "text": [
            "\rProcessing compounds:  19%|█▊        | 399/2143 [02:47<11:48,  2.46it/s]"
          ]
        },
        {
          "output_type": "stream",
          "name": "stdout",
          "text": [
            "Сохранен и добавлен в архив: compound_444604_c2.json\n",
            "Сохранен и добавлен в архив: compound_16211978_c1.json\n"
          ]
        },
        {
          "output_type": "stream",
          "name": "stderr",
          "text": [
            "\rProcessing compounds:  19%|█▊        | 400/2143 [02:47<11:45,  2.47it/s]"
          ]
        },
        {
          "output_type": "stream",
          "name": "stdout",
          "text": [
            "Сохранен и добавлен в архив: compound_444604_c2.json\n",
            "Сохранен и добавлен в архив: compound_16211978_c1.json\n"
          ]
        },
        {
          "output_type": "stream",
          "name": "stderr",
          "text": [
            "\rProcessing compounds:  19%|█▊        | 401/2143 [02:48<11:43,  2.48it/s]"
          ]
        },
        {
          "output_type": "stream",
          "name": "stdout",
          "text": [
            "Сохранен и добавлен в архив: compound_444604_c2.json\n"
          ]
        },
        {
          "output_type": "stream",
          "name": "stderr",
          "text": [
            "\rProcessing compounds:  19%|█▉        | 402/2143 [02:48<11:41,  2.48it/s]"
          ]
        },
        {
          "output_type": "stream",
          "name": "stdout",
          "text": [
            "Сохранен и добавлен в архив: compound_16211978_c1.json\n",
            "Сохранен и добавлен в архив: compound_444604_c2.json\n"
          ]
        },
        {
          "output_type": "stream",
          "name": "stderr",
          "text": [
            "\rProcessing compounds:  19%|█▉        | 403/2143 [02:49<11:39,  2.49it/s]"
          ]
        },
        {
          "output_type": "stream",
          "name": "stdout",
          "text": [
            "Сохранен и добавлен в архив: compound_16211978_c1.json\n",
            "Сохранен и добавлен в архив: compound_444604_c2.json\n",
            "Сохранен и добавлен в архив: compound_16211978_c1.json\n"
          ]
        },
        {
          "output_type": "stream",
          "name": "stderr",
          "text": [
            "\rProcessing compounds:  19%|█▉        | 404/2143 [02:49<11:50,  2.45it/s]"
          ]
        },
        {
          "output_type": "stream",
          "name": "stdout",
          "text": [
            "Сохранен и добавлен в архив: compound_444604_c2.json\n"
          ]
        },
        {
          "output_type": "stream",
          "name": "stderr",
          "text": [
            "\rProcessing compounds:  19%|█▉        | 405/2143 [02:49<11:53,  2.44it/s]"
          ]
        },
        {
          "output_type": "stream",
          "name": "stdout",
          "text": [
            "Сохранен и добавлен в архив: compound_23925_c1.json\n",
            "Ошибка при получении данных для формулы Fe3C: 404\n"
          ]
        },
        {
          "output_type": "stream",
          "name": "stderr",
          "text": [
            "\rProcessing compounds:  19%|█▉        | 406/2143 [02:50<11:54,  2.43it/s]"
          ]
        },
        {
          "output_type": "stream",
          "name": "stdout",
          "text": [
            "Сохранен и добавлен в архив: compound_23925_c1.json\n",
            "Ошибка при получении данных для формулы Fe3C: 404\n",
            "Сохранен и добавлен в архив: compound_23925_c1.json\n"
          ]
        },
        {
          "output_type": "stream",
          "name": "stderr",
          "text": [
            "\rProcessing compounds:  19%|█▉        | 407/2143 [02:50<11:58,  2.42it/s]"
          ]
        },
        {
          "output_type": "stream",
          "name": "stdout",
          "text": [
            "Ошибка при получении данных для формулы Fe3C: 404\n"
          ]
        },
        {
          "output_type": "stream",
          "name": "stderr",
          "text": [
            "\rProcessing compounds:  19%|█▉        | 408/2143 [02:51<12:29,  2.31it/s]"
          ]
        },
        {
          "output_type": "stream",
          "name": "stdout",
          "text": [
            "Сохранен и добавлен в архив: compound_23925_c1.json\n",
            "Сохранен и добавлен в архив: compound_16211978_c2.json\n"
          ]
        },
        {
          "output_type": "stream",
          "name": "stderr",
          "text": [
            "\rProcessing compounds:  19%|█▉        | 409/2143 [02:51<12:21,  2.34it/s]"
          ]
        },
        {
          "output_type": "stream",
          "name": "stdout",
          "text": [
            "Сохранен и добавлен в архив: compound_23925_c1.json\n",
            "Сохранен и добавлен в архив: compound_16211978_c2.json\n",
            "Сохранен и добавлен в архив: compound_23925_c1.json\n"
          ]
        },
        {
          "output_type": "stream",
          "name": "stderr",
          "text": [
            "\rProcessing compounds:  19%|█▉        | 410/2143 [02:52<12:37,  2.29it/s]"
          ]
        },
        {
          "output_type": "stream",
          "name": "stdout",
          "text": [
            "Сохранен и добавлен в архив: compound_16211978_c2.json\n"
          ]
        },
        {
          "output_type": "stream",
          "name": "stderr",
          "text": [
            "\rProcessing compounds:  19%|█▉        | 411/2143 [02:52<12:24,  2.33it/s]"
          ]
        },
        {
          "output_type": "stream",
          "name": "stdout",
          "text": [
            "Сохранен и добавлен в архив: compound_23925_c1.json\n",
            "Сохранен и добавлен в архив: compound_16211978_c2.json\n"
          ]
        },
        {
          "output_type": "stream",
          "name": "stderr",
          "text": [
            "\rProcessing compounds:  19%|█▉        | 412/2143 [02:52<12:16,  2.35it/s]"
          ]
        },
        {
          "output_type": "stream",
          "name": "stdout",
          "text": [
            "Сохранен и добавлен в архив: compound_23925_c1.json\n",
            "Сохранен и добавлен в архив: compound_16211978_c2.json\n"
          ]
        },
        {
          "output_type": "stream",
          "name": "stderr",
          "text": [
            "\rProcessing compounds:  19%|█▉        | 413/2143 [02:53<12:10,  2.37it/s]"
          ]
        },
        {
          "output_type": "stream",
          "name": "stdout",
          "text": [
            "Сохранен и добавлен в архив: compound_23925_c1.json\n",
            "Сохранен и добавлен в архив: compound_16211978_c2.json\n"
          ]
        },
        {
          "output_type": "stream",
          "name": "stderr",
          "text": [
            "\rProcessing compounds:  19%|█▉        | 414/2143 [02:53<11:57,  2.41it/s]"
          ]
        },
        {
          "output_type": "stream",
          "name": "stdout",
          "text": [
            "Ошибка при получении данных для формулы CoFe2O4: 404\n",
            "Сохранен и добавлен в архив: compound_938_c2.json\n"
          ]
        },
        {
          "output_type": "stream",
          "name": "stderr",
          "text": [
            "\rProcessing compounds:  19%|█▉        | 415/2143 [02:54<11:47,  2.44it/s]"
          ]
        },
        {
          "output_type": "stream",
          "name": "stdout",
          "text": [
            "Ошибка при получении данных для формулы CoFe2O4: 404\n",
            "Сохранен и добавлен в архив: compound_938_c2.json\n",
            "Ошибка при получении данных для формулы CoFe2O4: 404\n"
          ]
        },
        {
          "output_type": "stream",
          "name": "stderr",
          "text": [
            "\rProcessing compounds:  19%|█▉        | 416/2143 [02:54<11:53,  2.42it/s]"
          ]
        },
        {
          "output_type": "stream",
          "name": "stdout",
          "text": [
            "Сохранен и добавлен в архив: compound_938_c2.json\n",
            "Ошибка при получении данных для формулы CoFe2O4: 404\n"
          ]
        },
        {
          "output_type": "stream",
          "name": "stderr",
          "text": [
            "\rProcessing compounds:  19%|█▉        | 417/2143 [02:54<11:44,  2.45it/s]"
          ]
        },
        {
          "output_type": "stream",
          "name": "stdout",
          "text": [
            "Сохранен и добавлен в архив: compound_938_c2.json\n",
            "Ошибка при получении данных для формулы CoFe2O4: 404\n"
          ]
        },
        {
          "output_type": "stream",
          "name": "stderr",
          "text": [
            "\rProcessing compounds:  20%|█▉        | 418/2143 [02:55<11:40,  2.46it/s]"
          ]
        },
        {
          "output_type": "stream",
          "name": "stdout",
          "text": [
            "Сохранен и добавлен в архив: compound_938_c2.json\n",
            "Ошибка при получении данных для формулы CoFe2O4: 404\n"
          ]
        },
        {
          "output_type": "stream",
          "name": "stderr",
          "text": [
            "\rProcessing compounds:  20%|█▉        | 419/2143 [02:55<11:37,  2.47it/s]"
          ]
        },
        {
          "output_type": "stream",
          "name": "stdout",
          "text": [
            "Сохранен и добавлен в архив: compound_938_c2.json\n",
            "Ошибка при получении данных для формулы CoFe2O4: 404\n"
          ]
        },
        {
          "output_type": "stream",
          "name": "stderr",
          "text": [
            "\rProcessing compounds:  20%|█▉        | 420/2143 [02:56<11:37,  2.47it/s]"
          ]
        },
        {
          "output_type": "stream",
          "name": "stdout",
          "text": [
            "Сохранен и добавлен в архив: compound_938_c2.json\n",
            "Ошибка при получении данных для формулы CoFe2O4: 404\n"
          ]
        },
        {
          "output_type": "stream",
          "name": "stderr",
          "text": [
            "\rProcessing compounds:  20%|█▉        | 421/2143 [02:56<11:43,  2.45it/s]"
          ]
        },
        {
          "output_type": "stream",
          "name": "stdout",
          "text": [
            "Сохранен и добавлен в архив: compound_938_c2.json\n"
          ]
        },
        {
          "output_type": "stream",
          "name": "stderr",
          "text": [
            "\rProcessing compounds:  20%|█▉        | 422/2143 [02:56<11:40,  2.46it/s]"
          ]
        },
        {
          "output_type": "stream",
          "name": "stdout",
          "text": [
            "Ошибка при получении данных для формулы CoFe2O4: 404\n",
            "Сохранен и добавлен в архив: compound_938_c2.json\n"
          ]
        },
        {
          "output_type": "stream",
          "name": "stderr",
          "text": [
            "\rProcessing compounds:  20%|█▉        | 423/2143 [02:57<11:35,  2.47it/s]"
          ]
        },
        {
          "output_type": "stream",
          "name": "stdout",
          "text": [
            "Ошибка при получении данных для формулы CoFe2O4: 404\n",
            "Сохранен и добавлен в архив: compound_938_c2.json\n"
          ]
        },
        {
          "output_type": "stream",
          "name": "stderr",
          "text": [
            "\rProcessing compounds:  20%|█▉        | 424/2143 [02:57<11:30,  2.49it/s]"
          ]
        },
        {
          "output_type": "stream",
          "name": "stdout",
          "text": [
            "Сохранен и добавлен в архив: compound_16211978_c1.json\n",
            "Ошибка при получении данных для формулы MgO: 404\n"
          ]
        },
        {
          "output_type": "stream",
          "name": "stderr",
          "text": [
            "\rProcessing compounds:  20%|█▉        | 425/2143 [02:58<11:27,  2.50it/s]"
          ]
        },
        {
          "output_type": "stream",
          "name": "stdout",
          "text": [
            "Сохранен и добавлен в архив: compound_16211978_c1.json\n",
            "Ошибка при получении данных для формулы MgO: 404\n"
          ]
        },
        {
          "output_type": "stream",
          "name": "stderr",
          "text": [
            "\rProcessing compounds:  20%|█▉        | 426/2143 [02:58<11:28,  2.49it/s]"
          ]
        },
        {
          "output_type": "stream",
          "name": "stdout",
          "text": [
            "Сохранен и добавлен в архив: compound_16211978_c1.json\n",
            "Ошибка при получении данных для формулы MgO: 404\n"
          ]
        },
        {
          "output_type": "stream",
          "name": "stderr",
          "text": [
            "\rProcessing compounds:  20%|█▉        | 427/2143 [02:58<11:25,  2.50it/s]"
          ]
        },
        {
          "output_type": "stream",
          "name": "stdout",
          "text": [
            "Сохранен и добавлен в архив: compound_16211978_c1.json\n",
            "Ошибка при получении данных для формулы MgO: 404\n"
          ]
        },
        {
          "output_type": "stream",
          "name": "stderr",
          "text": [
            "\rProcessing compounds:  20%|█▉        | 428/2143 [02:59<11:31,  2.48it/s]"
          ]
        },
        {
          "output_type": "stream",
          "name": "stdout",
          "text": [
            "Сохранен и добавлен в архив: compound_16211978_c1.json\n",
            "Ошибка при получении данных для формулы MgO: 404\n"
          ]
        },
        {
          "output_type": "stream",
          "name": "stderr",
          "text": [
            "\rProcessing compounds:  20%|██        | 429/2143 [02:59<11:39,  2.45it/s]"
          ]
        },
        {
          "output_type": "stream",
          "name": "stdout",
          "text": [
            "Сохранен и добавлен в архив: compound_16211978_c1.json\n",
            "Ошибка при получении данных для формулы MgO: 404\n"
          ]
        },
        {
          "output_type": "stream",
          "name": "stderr",
          "text": [
            "\rProcessing compounds:  20%|██        | 430/2143 [03:00<11:34,  2.47it/s]"
          ]
        },
        {
          "output_type": "stream",
          "name": "stdout",
          "text": [
            "Сохранен и добавлен в архив: compound_16211978_c1.json\n",
            "Ошибка при получении данных для формулы MgO: 404\n"
          ]
        },
        {
          "output_type": "stream",
          "name": "stderr",
          "text": [
            "\rProcessing compounds:  20%|██        | 431/2143 [03:00<11:29,  2.48it/s]"
          ]
        },
        {
          "output_type": "stream",
          "name": "stdout",
          "text": [
            "Сохранен и добавлен в архив: compound_16211978_c1.json\n",
            "Ошибка при получении данных для формулы MgO: 404\n",
            "Сохранен и добавлен в архив: compound_16211978_c1.json\n"
          ]
        },
        {
          "output_type": "stream",
          "name": "stderr",
          "text": [
            "\rProcessing compounds:  20%|██        | 432/2143 [03:00<11:35,  2.46it/s]"
          ]
        },
        {
          "output_type": "stream",
          "name": "stdout",
          "text": [
            "Ошибка при получении данных для формулы MgO: 404\n"
          ]
        },
        {
          "output_type": "stream",
          "name": "stderr",
          "text": [
            "\rProcessing compounds:  20%|██        | 433/2143 [03:02<20:33,  1.39it/s]"
          ]
        },
        {
          "output_type": "stream",
          "name": "stdout",
          "text": [
            "Сохранен и добавлен в архив: compound_16211978_c1.json\n",
            "Ошибка при получении данных для формулы MgO: 404\n"
          ]
        },
        {
          "output_type": "stream",
          "name": "stderr",
          "text": [
            "\rProcessing compounds:  20%|██        | 434/2143 [03:02<17:47,  1.60it/s]"
          ]
        },
        {
          "output_type": "stream",
          "name": "stdout",
          "text": [
            "Сохранен и добавлен в архив: compound_16211978_c1.json\n",
            "Ошибка при получении данных для формулы MgO: 404\n"
          ]
        },
        {
          "output_type": "stream",
          "name": "stderr",
          "text": [
            "\rProcessing compounds:  20%|██        | 435/2143 [03:03<15:51,  1.79it/s]"
          ]
        },
        {
          "output_type": "stream",
          "name": "stdout",
          "text": [
            "Сохранен и добавлен в архив: compound_16211978_c1.json\n",
            "Ошибка при получении данных для формулы MgO: 404\n",
            "Сохранен и добавлен в архив: compound_16211978_c1.json\n"
          ]
        },
        {
          "output_type": "stream",
          "name": "stderr",
          "text": [
            "\rProcessing compounds:  20%|██        | 436/2143 [03:03<15:06,  1.88it/s]"
          ]
        },
        {
          "output_type": "stream",
          "name": "stdout",
          "text": [
            "Ошибка при получении данных для формулы MgO: 404\n"
          ]
        },
        {
          "output_type": "stream",
          "name": "stderr",
          "text": [
            "\rProcessing compounds:  20%|██        | 437/2143 [03:04<13:57,  2.04it/s]"
          ]
        },
        {
          "output_type": "stream",
          "name": "stdout",
          "text": [
            "Сохранен и добавлен в архив: compound_16211978_c1.json\n",
            "Ошибка при получении данных для формулы MgO: 404\n"
          ]
        },
        {
          "output_type": "stream",
          "name": "stderr",
          "text": [
            "\rProcessing compounds:  20%|██        | 438/2143 [03:04<13:09,  2.16it/s]"
          ]
        },
        {
          "output_type": "stream",
          "name": "stdout",
          "text": [
            "Сохранен и добавлен в архив: compound_16211978_c1.json\n",
            "Ошибка при получении данных для формулы MgO: 404\n"
          ]
        },
        {
          "output_type": "stream",
          "name": "stderr",
          "text": [
            "\rProcessing compounds:  20%|██        | 439/2143 [03:04<12:34,  2.26it/s]"
          ]
        },
        {
          "output_type": "stream",
          "name": "stdout",
          "text": [
            "Сохранен и добавлен в архив: compound_16211978_c1.json\n",
            "Ошибка при получении данных для формулы MgO: 404\n"
          ]
        },
        {
          "output_type": "stream",
          "name": "stderr",
          "text": [
            "\rProcessing compounds:  21%|██        | 440/2143 [03:05<12:10,  2.33it/s]"
          ]
        },
        {
          "output_type": "stream",
          "name": "stdout",
          "text": [
            "Сохранен и добавлен в архив: compound_16211978_c1.json\n",
            "Ошибка при получении данных для формулы MgO: 404\n"
          ]
        },
        {
          "output_type": "stream",
          "name": "stderr",
          "text": [
            "\rProcessing compounds:  21%|██        | 441/2143 [03:05<11:52,  2.39it/s]"
          ]
        },
        {
          "output_type": "stream",
          "name": "stdout",
          "text": [
            "Сохранен и добавлен в архив: compound_16211978_c1.json\n",
            "Ошибка при получении данных для формулы MgO: 404\n"
          ]
        },
        {
          "output_type": "stream",
          "name": "stderr",
          "text": [
            "\rProcessing compounds:  21%|██        | 442/2143 [03:06<11:39,  2.43it/s]"
          ]
        },
        {
          "output_type": "stream",
          "name": "stdout",
          "text": [
            "Сохранен и добавлен в архив: compound_16211978_c1.json\n",
            "Ошибка при получении данных для формулы MgO: 404\n"
          ]
        },
        {
          "output_type": "stream",
          "name": "stderr",
          "text": [
            "\rProcessing compounds:  21%|██        | 443/2143 [03:06<11:30,  2.46it/s]"
          ]
        },
        {
          "output_type": "stream",
          "name": "stdout",
          "text": [
            "Ошибка при получении данных для формулы Fe2O3: 404\n",
            "Ошибка при получении данных для формулы 0: 404\n"
          ]
        },
        {
          "output_type": "stream",
          "name": "stderr",
          "text": [
            "\rProcessing compounds:  21%|██        | 444/2143 [03:06<11:27,  2.47it/s]"
          ]
        },
        {
          "output_type": "stream",
          "name": "stdout",
          "text": [
            "Сохранен и добавлен в архив: compound_104730_c1.json\n",
            "Ошибка при получении данных для формулы Fe2O3: 404\n"
          ]
        },
        {
          "output_type": "stream",
          "name": "stderr",
          "text": [
            "\rProcessing compounds:  21%|██        | 445/2143 [03:07<11:27,  2.47it/s]"
          ]
        },
        {
          "output_type": "stream",
          "name": "stdout",
          "text": [
            "Сохранен и добавлен в архив: compound_104730_c1.json\n",
            "Ошибка при получении данных для формулы Fe2O3: 404\n"
          ]
        },
        {
          "output_type": "stream",
          "name": "stderr",
          "text": [
            "\rProcessing compounds:  21%|██        | 446/2143 [03:07<11:36,  2.44it/s]"
          ]
        },
        {
          "output_type": "stream",
          "name": "stdout",
          "text": [
            "Сохранен и добавлен в архив: compound_104730_c1.json\n",
            "Ошибка при получении данных для формулы Fe2O3: 404\n"
          ]
        },
        {
          "output_type": "stream",
          "name": "stderr",
          "text": [
            "\rProcessing compounds:  21%|██        | 447/2143 [03:08<11:30,  2.45it/s]"
          ]
        },
        {
          "output_type": "stream",
          "name": "stdout",
          "text": [
            "Сохранен и добавлен в архив: compound_16211978_c1.json\n",
            "Ошибка при получении данных для формулы CoFe2O4: 404\n",
            "Сохранен и добавлен в архив: compound_16211978_c1.json\n"
          ]
        },
        {
          "output_type": "stream",
          "name": "stderr",
          "text": [
            "\rProcessing compounds:  21%|██        | 448/2143 [03:08<12:27,  2.27it/s]"
          ]
        },
        {
          "output_type": "stream",
          "name": "stdout",
          "text": [
            "Ошибка при получении данных для формулы CoFe2O4: 404\n",
            "Сохранен и добавлен в архив: compound_16211978_c1.json\n"
          ]
        },
        {
          "output_type": "stream",
          "name": "stderr",
          "text": [
            "\rProcessing compounds:  21%|██        | 449/2143 [03:09<12:28,  2.26it/s]"
          ]
        },
        {
          "output_type": "stream",
          "name": "stdout",
          "text": [
            "Сохранен и добавлен в архив: compound_14786_c2.json\n"
          ]
        },
        {
          "output_type": "stream",
          "name": "stderr",
          "text": [
            "\rProcessing compounds:  21%|██        | 450/2143 [03:09<12:14,  2.30it/s]"
          ]
        },
        {
          "output_type": "stream",
          "name": "stdout",
          "text": [
            "Ошибка при получении данных для формулы CoFe2O4: 404\n",
            "Ошибка при получении данных для формулы 0: 404\n"
          ]
        },
        {
          "output_type": "stream",
          "name": "stderr",
          "text": [
            "\rProcessing compounds:  21%|██        | 451/2143 [03:09<11:55,  2.37it/s]"
          ]
        },
        {
          "output_type": "stream",
          "name": "stdout",
          "text": [
            "Ошибка при получении данных для формулы CoFe2O4: 404\n",
            "Сохранен и добавлен в архив: compound_122164822_c2.json\n"
          ]
        },
        {
          "output_type": "stream",
          "name": "stderr",
          "text": [
            "\rProcessing compounds:  21%|██        | 452/2143 [03:10<11:42,  2.41it/s]"
          ]
        },
        {
          "output_type": "stream",
          "name": "stdout",
          "text": [
            "Сохранен и добавлен в архив: compound_122164822_c1.json\n",
            "Ошибка при получении данных для формулы 0: 404\n"
          ]
        },
        {
          "output_type": "stream",
          "name": "stderr",
          "text": [
            "\rProcessing compounds:  21%|██        | 453/2143 [03:10<11:33,  2.44it/s]"
          ]
        },
        {
          "output_type": "stream",
          "name": "stdout",
          "text": [
            "Сохранен и добавлен в архив: compound_122164822_c1.json\n",
            "Ошибка при получении данных для формулы CoFe2O4: 404\n"
          ]
        },
        {
          "output_type": "stream",
          "name": "stderr",
          "text": [
            "\rProcessing compounds:  21%|██        | 454/2143 [03:11<11:25,  2.47it/s]"
          ]
        },
        {
          "output_type": "stream",
          "name": "stdout",
          "text": [
            "Ошибка при получении данных для формулы MnFe2O4: 404\n",
            "Ошибка при получении данных для формулы Fe2O3: 404\n"
          ]
        },
        {
          "output_type": "stream",
          "name": "stderr",
          "text": [
            "\rProcessing compounds:  21%|██        | 455/2143 [03:11<11:19,  2.48it/s]"
          ]
        },
        {
          "output_type": "stream",
          "name": "stdout",
          "text": [
            "Ошибка при получении данных для формулы MnFe2O4: 404\n",
            "Ошибка при получении данных для формулы Fe2O3: 404\n",
            "Ошибка при получении данных для формулы MnFe2O4: 404\n"
          ]
        },
        {
          "output_type": "stream",
          "name": "stderr",
          "text": [
            "\rProcessing compounds:  21%|██▏       | 456/2143 [03:11<11:35,  2.42it/s]"
          ]
        },
        {
          "output_type": "stream",
          "name": "stdout",
          "text": [
            "Ошибка при получении данных для формулы Fe2O3: 404\n",
            "Ошибка при получении данных для формулы MnFe2O4: 404\n"
          ]
        },
        {
          "output_type": "stream",
          "name": "stderr",
          "text": [
            "\rProcessing compounds:  21%|██▏       | 457/2143 [03:12<11:36,  2.42it/s]"
          ]
        },
        {
          "output_type": "stream",
          "name": "stdout",
          "text": [
            "Ошибка при получении данных для формулы Fe2O3: 404\n"
          ]
        },
        {
          "output_type": "stream",
          "name": "stderr",
          "text": [
            "\rProcessing compounds:  21%|██▏       | 458/2143 [03:12<11:30,  2.44it/s]"
          ]
        },
        {
          "output_type": "stream",
          "name": "stdout",
          "text": [
            "Ошибка при получении данных для формулы MnFe2O4: 404\n",
            "Ошибка при получении данных для формулы Fe2O3: 404\n"
          ]
        },
        {
          "output_type": "stream",
          "name": "stderr",
          "text": [
            "\rProcessing compounds:  21%|██▏       | 459/2143 [03:13<11:22,  2.47it/s]"
          ]
        },
        {
          "output_type": "stream",
          "name": "stdout",
          "text": [
            "Ошибка при получении данных для формулы MnFe2O4: 404\n",
            "Ошибка при получении данных для формулы Fe2O3: 404\n"
          ]
        },
        {
          "output_type": "stream",
          "name": "stderr",
          "text": [
            "\rProcessing compounds:  21%|██▏       | 460/2143 [03:13<11:15,  2.49it/s]"
          ]
        },
        {
          "output_type": "stream",
          "name": "stdout",
          "text": [
            "Ошибка при получении данных для формулы MnFe2O4: 404\n",
            "Ошибка при получении данных для формулы Fe2O3: 404\n"
          ]
        },
        {
          "output_type": "stream",
          "name": "stderr",
          "text": [
            "\rProcessing compounds:  22%|██▏       | 461/2143 [03:13<11:12,  2.50it/s]"
          ]
        },
        {
          "output_type": "stream",
          "name": "stdout",
          "text": [
            "Ошибка при получении данных для формулы MnFe2O4: 404\n",
            "Ошибка при получении данных для формулы Fe2O3: 404\n"
          ]
        },
        {
          "output_type": "stream",
          "name": "stderr",
          "text": [
            "\rProcessing compounds:  22%|██▏       | 462/2143 [03:14<11:43,  2.39it/s]"
          ]
        },
        {
          "output_type": "stream",
          "name": "stdout",
          "text": [
            "Сохранен и добавлен в архив: compound_16211978_c1.json\n",
            "Ошибка при получении данных для формулы 0: 404\n"
          ]
        },
        {
          "output_type": "stream",
          "name": "stderr",
          "text": [
            "\rProcessing compounds:  22%|██▏       | 463/2143 [03:14<11:45,  2.38it/s]"
          ]
        },
        {
          "output_type": "stream",
          "name": "stdout",
          "text": [
            "Ошибка при получении данных для формулы Fe5C2: 404\n",
            "Сохранен и добавлен в архив: compound_16211978_c2.json\n"
          ]
        },
        {
          "output_type": "stream",
          "name": "stderr",
          "text": [
            "\rProcessing compounds:  22%|██▏       | 464/2143 [03:15<11:30,  2.43it/s]"
          ]
        },
        {
          "output_type": "stream",
          "name": "stdout",
          "text": [
            "Ошибка при получении данных для формулы Fe5C2: 404\n",
            "Ошибка при получении данных для формулы 0: 404\n"
          ]
        },
        {
          "output_type": "stream",
          "name": "stderr",
          "text": [
            "\rProcessing compounds:  22%|██▏       | 465/2143 [03:15<12:03,  2.32it/s]"
          ]
        },
        {
          "output_type": "stream",
          "name": "stdout",
          "text": [
            "Сохранен и добавлен в архив: compound_16211978_c1.json\n",
            "Ошибка при получении данных для формулы 0: 404\n",
            "Ошибка при получении данных для формулы Fe5C2: 404\n"
          ]
        },
        {
          "output_type": "stream",
          "name": "stderr",
          "text": [
            "\rProcessing compounds:  22%|██▏       | 466/2143 [03:16<12:17,  2.27it/s]"
          ]
        },
        {
          "output_type": "stream",
          "name": "stdout",
          "text": [
            "Сохранен и добавлен в архив: compound_16211978_c2.json\n",
            "Ошибка при получении данных для формулы Fe5C2: 404\n"
          ]
        },
        {
          "output_type": "stream",
          "name": "stderr",
          "text": [
            "\rProcessing compounds:  22%|██▏       | 467/2143 [03:16<14:37,  1.91it/s]"
          ]
        },
        {
          "output_type": "stream",
          "name": "stdout",
          "text": [
            "Ошибка при получении данных для формулы 0: 404\n",
            "Ошибка при получении данных для формулы FeNi3: 404\n"
          ]
        },
        {
          "output_type": "stream",
          "name": "stderr",
          "text": [
            "\rProcessing compounds:  22%|██▏       | 468/2143 [03:17<14:23,  1.94it/s]"
          ]
        },
        {
          "output_type": "stream",
          "name": "stdout",
          "text": [
            "Ошибка при получении данных для формулы 0: 404\n",
            "Ошибка при получении данных для формулы FeNi3: 404\n"
          ]
        },
        {
          "output_type": "stream",
          "name": "stderr",
          "text": [
            "\rProcessing compounds:  22%|██▏       | 469/2143 [03:17<14:01,  1.99it/s]"
          ]
        },
        {
          "output_type": "stream",
          "name": "stdout",
          "text": [
            "Сохранен и добавлен в архив: compound_23932_c2.json\n",
            "Ошибка при получении данных для формулы Fe2.2C: 404\n"
          ]
        },
        {
          "output_type": "stream",
          "name": "stderr",
          "text": [
            "\rProcessing compounds:  22%|██▏       | 470/2143 [03:18<13:05,  2.13it/s]"
          ]
        },
        {
          "output_type": "stream",
          "name": "stdout",
          "text": [
            "Ошибка при получении данных для формулы 0: 404\n",
            "Ошибка при получении данных для формулы Fe2.2C: 404\n"
          ]
        },
        {
          "output_type": "stream",
          "name": "stderr",
          "text": [
            "/usr/lib/python3.11/zipfile.py:1567: UserWarning: Duplicate name: 'compound_23932_c2.json'\n",
            "  return self._open_to_write(zinfo, force_zip64=force_zip64)\n",
            "\rProcessing compounds:  22%|██▏       | 471/2143 [03:18<12:37,  2.21it/s]"
          ]
        },
        {
          "output_type": "stream",
          "name": "stdout",
          "text": [
            "Сохранен и добавлен в архив: compound_23932_c2.json\n",
            "Ошибка при получении данных для формулы Fe2.2C: 404\n"
          ]
        },
        {
          "output_type": "stream",
          "name": "stderr",
          "text": [
            "\rProcessing compounds:  22%|██▏       | 472/2143 [03:19<12:07,  2.30it/s]"
          ]
        },
        {
          "output_type": "stream",
          "name": "stdout",
          "text": [
            "Ошибка при получении данных для формулы 0: 404\n",
            "Ошибка при получении данных для формулы Fe2.2C: 404\n"
          ]
        },
        {
          "output_type": "stream",
          "name": "stderr",
          "text": [
            "\rProcessing compounds:  22%|██▏       | 473/2143 [03:19<11:51,  2.35it/s]"
          ]
        },
        {
          "output_type": "stream",
          "name": "stdout",
          "text": [
            "Сохранен и добавлен в архив: compound_23932_c2.json\n",
            "Сохранен и добавлен в архив: compound_104730_c1.json\n",
            "Сохранен и добавлен в архив: compound_14786_c2.json\n"
          ]
        },
        {
          "output_type": "stream",
          "name": "stderr",
          "text": [
            "Processing compounds:  22%|██▏       | 475/2143 [03:20<11:36,  2.39it/s]"
          ]
        },
        {
          "output_type": "stream",
          "name": "stdout",
          "text": [
            "Сохранен и добавлен в архив: compound_104730_c1.json\n",
            "Сохранен и добавлен в архив: compound_14786_c2.json\n",
            "Сохранен и добавлен в архив: compound_104730_c1.json\n",
            "Сохранен и добавлен в архив: compound_14786_c2.json\n"
          ]
        },
        {
          "output_type": "stream",
          "name": "stderr",
          "text": [
            "Processing compounds:  22%|██▏       | 477/2143 [03:21<11:35,  2.40it/s]"
          ]
        },
        {
          "output_type": "stream",
          "name": "stdout",
          "text": [
            "Сохранен и добавлен в архив: compound_104730_c1.json\n",
            "Сохранен и добавлен в архив: compound_14786_c2.json\n",
            "Сохранен и добавлен в архив: compound_104730_c1.json\n"
          ]
        },
        {
          "output_type": "stream",
          "name": "stderr",
          "text": [
            "\rProcessing compounds:  22%|██▏       | 478/2143 [03:21<11:33,  2.40it/s]"
          ]
        },
        {
          "output_type": "stream",
          "name": "stdout",
          "text": [
            "Сохранен и добавлен в архив: compound_14786_c2.json\n"
          ]
        },
        {
          "output_type": "stream",
          "name": "stderr",
          "text": [
            "\rProcessing compounds:  22%|██▏       | 479/2143 [03:21<11:29,  2.42it/s]"
          ]
        },
        {
          "output_type": "stream",
          "name": "stdout",
          "text": [
            "Сохранен и добавлен в архив: compound_104730_c1.json\n",
            "Сохранен и добавлен в архив: compound_14786_c2.json\n"
          ]
        },
        {
          "output_type": "stream",
          "name": "stderr",
          "text": [
            "\rProcessing compounds:  22%|██▏       | 480/2143 [03:22<11:21,  2.44it/s]"
          ]
        },
        {
          "output_type": "stream",
          "name": "stdout",
          "text": [
            "Ошибка при получении данных для формулы La2Fe2O6: 404\n",
            "Ошибка при получении данных для формулы CoFe2O4: 404\n"
          ]
        },
        {
          "output_type": "stream",
          "name": "stderr",
          "text": [
            "\rProcessing compounds:  22%|██▏       | 481/2143 [03:22<11:14,  2.46it/s]"
          ]
        },
        {
          "output_type": "stream",
          "name": "stdout",
          "text": [
            "Ошибка при получении данных для формулы La2Fe2O6: 404\n",
            "Ошибка при получении данных для формулы CoFe2O4: 404\n"
          ]
        },
        {
          "output_type": "stream",
          "name": "stderr",
          "text": [
            "\rProcessing compounds:  22%|██▏       | 482/2143 [03:23<11:08,  2.48it/s]"
          ]
        },
        {
          "output_type": "stream",
          "name": "stdout",
          "text": [
            "Ошибка при получении данных для формулы La2Fe2O6: 404\n",
            "Ошибка при получении данных для формулы CoFe2O4: 404\n",
            "Сохранен и добавлен в архив: compound_14786_c1.json\n"
          ]
        },
        {
          "output_type": "stream",
          "name": "stderr",
          "text": [
            "\rProcessing compounds:  23%|██▎       | 483/2143 [03:23<11:10,  2.47it/s]"
          ]
        },
        {
          "output_type": "stream",
          "name": "stdout",
          "text": [
            "Сохранен и добавлен в архив: compound_104730_c2.json\n",
            "Сохранен и добавлен в архив: compound_104730_c1.json\n"
          ]
        },
        {
          "output_type": "stream",
          "name": "stderr",
          "text": [
            "\rProcessing compounds:  23%|██▎       | 484/2143 [03:23<11:41,  2.36it/s]"
          ]
        },
        {
          "output_type": "stream",
          "name": "stdout",
          "text": [
            "Сохранен и добавлен в архив: compound_14786_c2.json\n",
            "Сохранен и добавлен в архив: compound_14786_c1.json\n"
          ]
        },
        {
          "output_type": "stream",
          "name": "stderr",
          "text": [
            "/usr/lib/python3.11/zipfile.py:1567: UserWarning: Duplicate name: 'compound_104730_c2.json'\n",
            "  return self._open_to_write(zinfo, force_zip64=force_zip64)\n",
            "\rProcessing compounds:  23%|██▎       | 485/2143 [03:24<11:34,  2.39it/s]"
          ]
        },
        {
          "output_type": "stream",
          "name": "stdout",
          "text": [
            "Сохранен и добавлен в архив: compound_104730_c2.json\n"
          ]
        },
        {
          "output_type": "stream",
          "name": "stderr",
          "text": [
            "\rProcessing compounds:  23%|██▎       | 486/2143 [03:24<11:29,  2.40it/s]"
          ]
        },
        {
          "output_type": "stream",
          "name": "stdout",
          "text": [
            "Сохранен и добавлен в архив: compound_104730_c1.json\n",
            "Сохранен и добавлен в архив: compound_14786_c2.json\n",
            "Сохранен и добавлен в архив: compound_14786_c1.json\n"
          ]
        },
        {
          "output_type": "stream",
          "name": "stderr",
          "text": [
            "\rProcessing compounds:  23%|██▎       | 487/2143 [03:25<11:23,  2.42it/s]"
          ]
        },
        {
          "output_type": "stream",
          "name": "stdout",
          "text": [
            "Сохранен и добавлен в архив: compound_104730_c2.json\n"
          ]
        },
        {
          "output_type": "stream",
          "name": "stderr",
          "text": [
            "\rProcessing compounds:  23%|██▎       | 488/2143 [03:25<11:18,  2.44it/s]"
          ]
        },
        {
          "output_type": "stream",
          "name": "stdout",
          "text": [
            "Сохранен и добавлен в архив: compound_104730_c1.json\n",
            "Сохранен и добавлен в архив: compound_14786_c2.json\n"
          ]
        },
        {
          "output_type": "stream",
          "name": "stderr",
          "text": [
            "\rProcessing compounds:  23%|██▎       | 489/2143 [03:25<11:11,  2.46it/s]"
          ]
        },
        {
          "output_type": "stream",
          "name": "stdout",
          "text": [
            "Сохранен и добавлен в архив: compound_16211978_c1.json\n",
            "Сохранен и добавлен в архив: compound_14786_c2.json\n"
          ]
        },
        {
          "output_type": "stream",
          "name": "stderr",
          "text": [
            "\rProcessing compounds:  23%|██▎       | 490/2143 [03:26<11:06,  2.48it/s]"
          ]
        },
        {
          "output_type": "stream",
          "name": "stdout",
          "text": [
            "Сохранен и добавлен в архив: compound_16211978_c1.json\n",
            "Сохранен и добавлен в архив: compound_14786_c2.json\n"
          ]
        },
        {
          "output_type": "stream",
          "name": "stderr",
          "text": [
            "\rProcessing compounds:  23%|██▎       | 491/2143 [03:26<11:03,  2.49it/s]"
          ]
        },
        {
          "output_type": "stream",
          "name": "stdout",
          "text": [
            "Сохранен и добавлен в архив: compound_16211978_c1.json\n",
            "Сохранен и добавлен в архив: compound_14786_c2.json\n"
          ]
        },
        {
          "output_type": "stream",
          "name": "stderr",
          "text": [
            "\rProcessing compounds:  23%|██▎       | 492/2143 [03:27<11:03,  2.49it/s]"
          ]
        },
        {
          "output_type": "stream",
          "name": "stdout",
          "text": [
            "Сохранен и добавлен в архив: compound_16211978_c1.json\n",
            "Сохранен и добавлен в архив: compound_14786_c2.json\n"
          ]
        },
        {
          "output_type": "stream",
          "name": "stderr",
          "text": [
            "\rProcessing compounds:  23%|██▎       | 493/2143 [03:27<11:01,  2.50it/s]"
          ]
        },
        {
          "output_type": "stream",
          "name": "stdout",
          "text": [
            "Сохранен и добавлен в архив: compound_16211978_c1.json\n",
            "Сохранен и добавлен в архив: compound_14786_c2.json\n"
          ]
        },
        {
          "output_type": "stream",
          "name": "stderr",
          "text": [
            "\rProcessing compounds:  23%|██▎       | 494/2143 [03:27<11:01,  2.49it/s]"
          ]
        },
        {
          "output_type": "stream",
          "name": "stdout",
          "text": [
            "Сохранен и добавлен в архив: compound_16211978_c1.json\n",
            "Сохранен и добавлен в архив: compound_14786_c2.json\n",
            "Сохранен и добавлен в архив: compound_16211978_c1.json\n"
          ]
        },
        {
          "output_type": "stream",
          "name": "stderr",
          "text": [
            "\rProcessing compounds:  23%|██▎       | 495/2143 [03:28<12:13,  2.25it/s]"
          ]
        },
        {
          "output_type": "stream",
          "name": "stdout",
          "text": [
            "Сохранен и добавлен в архив: compound_14786_c2.json\n",
            "Сохранен и добавлен в архив: compound_16211978_c1.json\n"
          ]
        },
        {
          "output_type": "stream",
          "name": "stderr",
          "text": [
            "\rProcessing compounds:  23%|██▎       | 496/2143 [03:28<11:49,  2.32it/s]"
          ]
        },
        {
          "output_type": "stream",
          "name": "stdout",
          "text": [
            "Сохранен и добавлен в архив: compound_14786_c2.json\n",
            "Ошибка при получении данных для формулы LaFeO3: 404\n"
          ]
        },
        {
          "output_type": "stream",
          "name": "stderr",
          "text": [
            "\rProcessing compounds:  23%|██▎       | 497/2143 [03:29<11:29,  2.39it/s]"
          ]
        },
        {
          "output_type": "stream",
          "name": "stdout",
          "text": [
            "Ошибка при получении данных для формулы 0: 404\n",
            "Ошибка при получении данных для формулы LaFeO3: 404\n"
          ]
        },
        {
          "output_type": "stream",
          "name": "stderr",
          "text": [
            "\rProcessing compounds:  23%|██▎       | 498/2143 [03:29<11:16,  2.43it/s]"
          ]
        },
        {
          "output_type": "stream",
          "name": "stdout",
          "text": [
            "Ошибка при получении данных для формулы 0: 404\n",
            "Ошибка при получении данных для формулы LaFeO3: 404\n"
          ]
        },
        {
          "output_type": "stream",
          "name": "stderr",
          "text": [
            "\rProcessing compounds:  23%|██▎       | 499/2143 [03:30<11:06,  2.47it/s]"
          ]
        },
        {
          "output_type": "stream",
          "name": "stdout",
          "text": [
            "Ошибка при получении данных для формулы 0: 404\n",
            "Ошибка при получении данных для формулы LaFeO3: 404\n"
          ]
        },
        {
          "output_type": "stream",
          "name": "stderr",
          "text": [
            "\rProcessing compounds:  23%|██▎       | 500/2143 [03:30<11:00,  2.49it/s]"
          ]
        },
        {
          "output_type": "stream",
          "name": "stdout",
          "text": [
            "Ошибка при получении данных для формулы 0: 404\n",
            "Ошибка при получении данных для формулы LaFeO3: 404\n"
          ]
        },
        {
          "output_type": "stream",
          "name": "stderr",
          "text": [
            "\rProcessing compounds:  23%|██▎       | 501/2143 [03:30<10:56,  2.50it/s]"
          ]
        },
        {
          "output_type": "stream",
          "name": "stdout",
          "text": [
            "Ошибка при получении данных для формулы 0: 404\n",
            "Ошибка при получении данных для формулы LaFeO3: 404\n"
          ]
        },
        {
          "output_type": "stream",
          "name": "stderr",
          "text": [
            "\rProcessing compounds:  23%|██▎       | 502/2143 [03:31<10:56,  2.50it/s]"
          ]
        },
        {
          "output_type": "stream",
          "name": "stdout",
          "text": [
            "Ошибка при получении данных для формулы 0: 404\n",
            "Ошибка при получении данных для формулы LaFeO3: 404\n"
          ]
        },
        {
          "output_type": "stream",
          "name": "stderr",
          "text": [
            "\rProcessing compounds:  23%|██▎       | 503/2143 [03:31<10:55,  2.50it/s]"
          ]
        },
        {
          "output_type": "stream",
          "name": "stdout",
          "text": [
            "Ошибка при получении данных для формулы 0: 404\n",
            "Ошибка при получении данных для формулы LaFeO3: 404\n"
          ]
        },
        {
          "output_type": "stream",
          "name": "stderr",
          "text": [
            "\rProcessing compounds:  24%|██▎       | 504/2143 [03:32<11:05,  2.46it/s]"
          ]
        },
        {
          "output_type": "stream",
          "name": "stdout",
          "text": [
            "Ошибка при получении данных для формулы 0: 404\n",
            "Ошибка при получении данных для формулы LaFeO3: 404\n"
          ]
        },
        {
          "output_type": "stream",
          "name": "stderr",
          "text": [
            "\rProcessing compounds:  24%|██▎       | 505/2143 [03:32<13:03,  2.09it/s]"
          ]
        },
        {
          "output_type": "stream",
          "name": "stdout",
          "text": [
            "Ошибка при получении данных для формулы 0: 404\n",
            "Ошибка при получении данных для формулы LaFeO3: 404\n"
          ]
        },
        {
          "output_type": "stream",
          "name": "stderr",
          "text": [
            "\rProcessing compounds:  24%|██▎       | 506/2143 [03:33<14:01,  1.95it/s]"
          ]
        },
        {
          "output_type": "stream",
          "name": "stdout",
          "text": [
            "Ошибка при получении данных для формулы 0: 404\n"
          ]
        },
        {
          "output_type": "stream",
          "name": "stderr",
          "text": [
            "\rProcessing compounds:  24%|██▎       | 507/2143 [03:33<13:42,  1.99it/s]"
          ]
        },
        {
          "output_type": "stream",
          "name": "stdout",
          "text": [
            "Ошибка при получении данных для формулы LaFeO3: 404\n",
            "Ошибка при получении данных для формулы 0: 404\n",
            "Сохранен и добавлен в архив: compound_522690_c1.json\n"
          ]
        },
        {
          "output_type": "stream",
          "name": "stderr",
          "text": [
            "\rProcessing compounds:  24%|██▎       | 508/2143 [03:34<13:05,  2.08it/s]"
          ]
        },
        {
          "output_type": "stream",
          "name": "stdout",
          "text": [
            "Сохранен и добавлен в архив: compound_23925_c2.json\n"
          ]
        },
        {
          "output_type": "stream",
          "name": "stderr",
          "text": [
            "/usr/lib/python3.11/zipfile.py:1567: UserWarning: Duplicate name: 'compound_522690_c1.json'\n",
            "  return self._open_to_write(zinfo, force_zip64=force_zip64)\n"
          ]
        },
        {
          "output_type": "stream",
          "name": "stdout",
          "text": [
            "Сохранен и добавлен в архив: compound_522690_c1.json\n"
          ]
        },
        {
          "output_type": "stream",
          "name": "stderr",
          "text": [
            "/usr/lib/python3.11/zipfile.py:1567: UserWarning: Duplicate name: 'compound_23925_c2.json'\n",
            "  return self._open_to_write(zinfo, force_zip64=force_zip64)\n",
            "\rProcessing compounds:  24%|██▍       | 509/2143 [03:34<12:56,  2.11it/s]"
          ]
        },
        {
          "output_type": "stream",
          "name": "stdout",
          "text": [
            "Сохранен и добавлен в архив: compound_23925_c2.json\n",
            "Сохранен и добавлен в архив: compound_23342_c1.json\n"
          ]
        },
        {
          "output_type": "stream",
          "name": "stderr",
          "text": [
            "\rProcessing compounds:  24%|██▍       | 510/2143 [03:35<12:32,  2.17it/s]"
          ]
        },
        {
          "output_type": "stream",
          "name": "stdout",
          "text": [
            "Ошибка при получении данных для формулы 0: 404\n"
          ]
        },
        {
          "output_type": "stream",
          "name": "stderr",
          "text": [
            "/usr/lib/python3.11/zipfile.py:1567: UserWarning: Duplicate name: 'compound_23342_c1.json'\n",
            "  return self._open_to_write(zinfo, force_zip64=force_zip64)\n",
            "Processing compounds:  24%|██▍       | 511/2143 [03:35<12:00,  2.27it/s]"
          ]
        },
        {
          "output_type": "stream",
          "name": "stdout",
          "text": [
            "Сохранен и добавлен в архив: compound_23342_c1.json\n",
            "Ошибка при получении данных для формулы 0: 404\n"
          ]
        },
        {
          "output_type": "stream",
          "name": "stderr",
          "text": [
            "\rProcessing compounds:  24%|██▍       | 512/2143 [03:35<11:56,  2.28it/s]"
          ]
        },
        {
          "output_type": "stream",
          "name": "stdout",
          "text": [
            "Сохранен и добавлен в архив: compound_23342_c1.json\n",
            "Ошибка при получении данных для формулы 0: 404\n"
          ]
        },
        {
          "output_type": "stream",
          "name": "stderr",
          "text": [
            "\rProcessing compounds:  24%|██▍       | 513/2143 [03:36<11:45,  2.31it/s]"
          ]
        },
        {
          "output_type": "stream",
          "name": "stdout",
          "text": [
            "Сохранен и добавлен в архив: compound_23342_c1.json\n",
            "Ошибка при получении данных для формулы 0: 404\n"
          ]
        },
        {
          "output_type": "stream",
          "name": "stderr",
          "text": [
            "\rProcessing compounds:  24%|██▍       | 514/2143 [03:36<11:28,  2.37it/s]"
          ]
        },
        {
          "output_type": "stream",
          "name": "stdout",
          "text": [
            "Сохранен и добавлен в архив: compound_23342_c1.json\n",
            "Ошибка при получении данных для формулы 0: 404\n",
            "Сохранен и добавлен в архив: compound_16211978_c1.json\n"
          ]
        },
        {
          "output_type": "stream",
          "name": "stderr",
          "text": [
            "\rProcessing compounds:  24%|██▍       | 515/2143 [03:37<11:24,  2.38it/s]"
          ]
        },
        {
          "output_type": "stream",
          "name": "stdout",
          "text": [
            "Сохранен и добавлен в архив: compound_938_c2.json\n",
            "Сохранен и добавлен в архив: compound_16211978_c1.json\n"
          ]
        },
        {
          "output_type": "stream",
          "name": "stderr",
          "text": [
            "\rProcessing compounds:  24%|██▍       | 516/2143 [03:37<11:17,  2.40it/s]"
          ]
        },
        {
          "output_type": "stream",
          "name": "stdout",
          "text": [
            "Сохранен и добавлен в архив: compound_938_c2.json\n",
            "Сохранен и добавлен в архив: compound_16211978_c1.json\n"
          ]
        },
        {
          "output_type": "stream",
          "name": "stderr",
          "text": [
            "\rProcessing compounds:  24%|██▍       | 517/2143 [03:38<11:15,  2.41it/s]"
          ]
        },
        {
          "output_type": "stream",
          "name": "stdout",
          "text": [
            "Сохранен и добавлен в архив: compound_938_c2.json\n",
            "Сохранен и добавлен в архив: compound_16211978_c1.json\n"
          ]
        },
        {
          "output_type": "stream",
          "name": "stderr",
          "text": [
            "\rProcessing compounds:  24%|██▍       | 518/2143 [03:38<11:07,  2.43it/s]"
          ]
        },
        {
          "output_type": "stream",
          "name": "stdout",
          "text": [
            "Сохранен и добавлен в архив: compound_938_c2.json\n"
          ]
        },
        {
          "output_type": "stream",
          "name": "stderr",
          "text": [
            "\rProcessing compounds:  24%|██▍       | 519/2143 [03:38<11:08,  2.43it/s]"
          ]
        },
        {
          "output_type": "stream",
          "name": "stdout",
          "text": [
            "Сохранен и добавлен в архив: compound_16211978_c1.json\n",
            "Сохранен и добавлен в архив: compound_938_c2.json\n",
            "Сохранен и добавлен в архив: compound_16211978_c1.json\n"
          ]
        },
        {
          "output_type": "stream",
          "name": "stderr",
          "text": [
            "\rProcessing compounds:  24%|██▍       | 520/2143 [03:39<11:04,  2.44it/s]"
          ]
        },
        {
          "output_type": "stream",
          "name": "stdout",
          "text": [
            "Сохранен и добавлен в архив: compound_938_c2.json\n",
            "Сохранен и добавлен в архив: compound_16211978_c1.json\n"
          ]
        },
        {
          "output_type": "stream",
          "name": "stderr",
          "text": [
            "\rProcessing compounds:  24%|██▍       | 521/2143 [03:39<11:01,  2.45it/s]"
          ]
        },
        {
          "output_type": "stream",
          "name": "stdout",
          "text": [
            "Сохранен и добавлен в архив: compound_938_c2.json\n",
            "Ошибка при получении данных для формулы LaFeO3: 404\n"
          ]
        },
        {
          "output_type": "stream",
          "name": "stderr",
          "text": [
            "\rProcessing compounds:  24%|██▍       | 522/2143 [03:40<11:00,  2.45it/s]"
          ]
        },
        {
          "output_type": "stream",
          "name": "stdout",
          "text": [
            "Сохранен и добавлен в архив: compound_938_c2.json\n",
            "Ошибка при получении данных для формулы LaFeO3: 404\n"
          ]
        },
        {
          "output_type": "stream",
          "name": "stderr",
          "text": [
            "\rProcessing compounds:  24%|██▍       | 523/2143 [03:40<10:54,  2.47it/s]"
          ]
        },
        {
          "output_type": "stream",
          "name": "stdout",
          "text": [
            "Сохранен и добавлен в архив: compound_938_c2.json\n",
            "Ошибка при получении данных для формулы LaFeO3: 404\n"
          ]
        },
        {
          "output_type": "stream",
          "name": "stderr",
          "text": [
            "\rProcessing compounds:  24%|██▍       | 524/2143 [03:40<10:51,  2.48it/s]"
          ]
        },
        {
          "output_type": "stream",
          "name": "stdout",
          "text": [
            "Сохранен и добавлен в архив: compound_938_c2.json\n"
          ]
        },
        {
          "output_type": "stream",
          "name": "stderr",
          "text": [
            "\rProcessing compounds:  24%|██▍       | 525/2143 [03:41<10:54,  2.47it/s]"
          ]
        },
        {
          "output_type": "stream",
          "name": "stdout",
          "text": [
            "Ошибка при получении данных для формулы LaFeO3: 404\n",
            "Сохранен и добавлен в архив: compound_938_c2.json\n"
          ]
        },
        {
          "output_type": "stream",
          "name": "stderr",
          "text": [
            "\rProcessing compounds:  25%|██▍       | 526/2143 [03:41<10:49,  2.49it/s]"
          ]
        },
        {
          "output_type": "stream",
          "name": "stdout",
          "text": [
            "Ошибка при получении данных для формулы LaFeO3: 404\n",
            "Ошибка при получении данных для формулы 0: 404\n"
          ]
        },
        {
          "output_type": "stream",
          "name": "stderr",
          "text": [
            "\rProcessing compounds:  25%|██▍       | 527/2143 [03:42<10:48,  2.49it/s]"
          ]
        },
        {
          "output_type": "stream",
          "name": "stdout",
          "text": [
            "Сохранен и добавлен в архив: compound_938_c1.json\n",
            "Ошибка при получении данных для формулы 0: 404\n",
            "Ошибка при получении данных для формулы LaFeO3: 404\n"
          ]
        },
        {
          "output_type": "stream",
          "name": "stderr",
          "text": [
            "\rProcessing compounds:  25%|██▍       | 528/2143 [03:42<11:47,  2.28it/s]"
          ]
        },
        {
          "output_type": "stream",
          "name": "stdout",
          "text": [
            "Сохранен и добавлен в архив: compound_938_c2.json\n",
            "Ошибка при получении данных для формулы LaFeO3: 404\n"
          ]
        },
        {
          "output_type": "stream",
          "name": "stderr",
          "text": [
            "\rProcessing compounds:  25%|██▍       | 529/2143 [03:43<11:48,  2.28it/s]"
          ]
        },
        {
          "output_type": "stream",
          "name": "stdout",
          "text": [
            "Сохранен и добавлен в архив: compound_938_c2.json\n",
            "Ошибка при получении данных для формулы LaFeO3: 404\n"
          ]
        },
        {
          "output_type": "stream",
          "name": "stderr",
          "text": [
            "\rProcessing compounds:  25%|██▍       | 530/2143 [03:43<11:36,  2.31it/s]"
          ]
        },
        {
          "output_type": "stream",
          "name": "stdout",
          "text": [
            "Сохранен и добавлен в архив: compound_938_c2.json\n",
            "Ошибка при получении данных для формулы LaFeO3: 404\n"
          ]
        },
        {
          "output_type": "stream",
          "name": "stderr",
          "text": [
            "\rProcessing compounds:  25%|██▍       | 531/2143 [03:43<11:21,  2.36it/s]"
          ]
        },
        {
          "output_type": "stream",
          "name": "stdout",
          "text": [
            "Сохранен и добавлен в архив: compound_938_c2.json\n",
            "Ошибка при получении данных для формулы LaFeO3: 404\n"
          ]
        },
        {
          "output_type": "stream",
          "name": "stderr",
          "text": [
            "\rProcessing compounds:  25%|██▍       | 532/2143 [03:44<11:27,  2.34it/s]"
          ]
        },
        {
          "output_type": "stream",
          "name": "stdout",
          "text": [
            "Сохранен и добавлен в архив: compound_938_c2.json\n",
            "Ошибка при получении данных для формулы LaFeO3: 404\n"
          ]
        },
        {
          "output_type": "stream",
          "name": "stderr",
          "text": [
            "\rProcessing compounds:  25%|██▍       | 533/2143 [03:44<11:18,  2.37it/s]"
          ]
        },
        {
          "output_type": "stream",
          "name": "stdout",
          "text": [
            "Сохранен и добавлен в архив: compound_938_c2.json\n"
          ]
        },
        {
          "output_type": "stream",
          "name": "stderr",
          "text": [
            "\rProcessing compounds:  25%|██▍       | 534/2143 [03:45<11:07,  2.41it/s]"
          ]
        },
        {
          "output_type": "stream",
          "name": "stdout",
          "text": [
            "Ошибка при получении данных для формулы AuFe2O3: 404\n",
            "Ошибка при получении данных для формулы 0: 404\n"
          ]
        },
        {
          "output_type": "stream",
          "name": "stderr",
          "text": [
            "\rProcessing compounds:  25%|██▍       | 535/2143 [03:45<10:59,  2.44it/s]"
          ]
        },
        {
          "output_type": "stream",
          "name": "stdout",
          "text": [
            "Ошибка при получении данных для формулы Co0.03Fe0.97Fe2O4: 404\n",
            "Ошибка при получении данных для формулы 0: 404\n"
          ]
        },
        {
          "output_type": "stream",
          "name": "stderr",
          "text": [
            "\rProcessing compounds:  25%|██▌       | 536/2143 [03:45<10:54,  2.46it/s]"
          ]
        },
        {
          "output_type": "stream",
          "name": "stdout",
          "text": [
            "Ошибка при получении данных для формулы Co0.05Fe0.95Fe2O4: 404\n",
            "Ошибка при получении данных для формулы 0: 404\n"
          ]
        },
        {
          "output_type": "stream",
          "name": "stderr",
          "text": [
            "\rProcessing compounds:  25%|██▌       | 537/2143 [03:46<10:47,  2.48it/s]"
          ]
        },
        {
          "output_type": "stream",
          "name": "stdout",
          "text": [
            "Ошибка при получении данных для формулы Co0.1Fe0.9Fe2O4: 404\n",
            "Ошибка при получении данных для формулы 0: 404\n"
          ]
        },
        {
          "output_type": "stream",
          "name": "stderr",
          "text": [
            "\rProcessing compounds:  25%|██▌       | 538/2143 [03:46<10:43,  2.49it/s]"
          ]
        },
        {
          "output_type": "stream",
          "name": "stdout",
          "text": [
            "Ошибка при получении данных для формулы Co0.1Fe0.9Fe2O4: 404\n",
            "Ошибка при получении данных для формулы 0: 404\n"
          ]
        },
        {
          "output_type": "stream",
          "name": "stderr",
          "text": [
            "\rProcessing compounds:  25%|██▌       | 539/2143 [03:47<10:41,  2.50it/s]"
          ]
        },
        {
          "output_type": "stream",
          "name": "stdout",
          "text": [
            "Ошибка при получении данных для формулы Co0.1Fe0.9Fe2O4: 404\n",
            "Ошибка при получении данных для формулы 0: 404\n"
          ]
        },
        {
          "output_type": "stream",
          "name": "stderr",
          "text": [
            "\rProcessing compounds:  25%|██▌       | 540/2143 [03:47<10:40,  2.50it/s]"
          ]
        },
        {
          "output_type": "stream",
          "name": "stdout",
          "text": [
            "Ошибка при получении данных для формулы Co0.1Fe0.9Fe2O4: 404\n",
            "Ошибка при получении данных для формулы 0: 404\n"
          ]
        },
        {
          "output_type": "stream",
          "name": "stderr",
          "text": [
            "\rProcessing compounds:  25%|██▌       | 541/2143 [03:47<10:38,  2.51it/s]"
          ]
        },
        {
          "output_type": "stream",
          "name": "stdout",
          "text": [
            "Ошибка при получении данных для формулы Co0.1Fe0.9Fe2O4: 404\n",
            "Ошибка при получении данных для формулы 0: 404\n"
          ]
        },
        {
          "output_type": "stream",
          "name": "stderr",
          "text": [
            "\rProcessing compounds:  25%|██▌       | 542/2143 [03:48<10:37,  2.51it/s]"
          ]
        },
        {
          "output_type": "stream",
          "name": "stdout",
          "text": [
            "Ошибка при получении данных для формулы Co0.1Fe0.9Fe2O4: 404\n",
            "Ошибка при получении данных для формулы 0: 404\n"
          ]
        },
        {
          "output_type": "stream",
          "name": "stderr",
          "text": [
            "\rProcessing compounds:  25%|██▌       | 543/2143 [03:48<10:38,  2.51it/s]"
          ]
        },
        {
          "output_type": "stream",
          "name": "stdout",
          "text": [
            "Ошибка при получении данных для формулы Co0.24Mn0.15Fe0.61Fe2O4: 404\n",
            "Ошибка при получении данных для формулы 0: 404\n"
          ]
        },
        {
          "output_type": "stream",
          "name": "stderr",
          "text": [
            "\rProcessing compounds:  25%|██▌       | 544/2143 [03:49<11:01,  2.42it/s]"
          ]
        },
        {
          "output_type": "stream",
          "name": "stdout",
          "text": [
            "Ошибка при получении данных для формулы Co0.3Fe0.7Fe2O4: 404\n",
            "Ошибка при получении данных для формулы 0: 404\n"
          ]
        },
        {
          "output_type": "stream",
          "name": "stderr",
          "text": [
            "\rProcessing compounds:  25%|██▌       | 545/2143 [03:49<10:52,  2.45it/s]"
          ]
        },
        {
          "output_type": "stream",
          "name": "stdout",
          "text": [
            "Ошибка при получении данных для формулы Co0.3Fe0.7Fe2O4: 404\n",
            "Ошибка при получении данных для формулы 0: 404\n",
            "Ошибка при получении данных для формулы Co0.3Fe0.7Fe2O4: 404\n"
          ]
        },
        {
          "output_type": "stream",
          "name": "stderr",
          "text": [
            "\rProcessing compounds:  25%|██▌       | 546/2143 [03:50<12:09,  2.19it/s]"
          ]
        },
        {
          "output_type": "stream",
          "name": "stdout",
          "text": [
            "Ошибка при получении данных для формулы 0: 404\n"
          ]
        },
        {
          "output_type": "stream",
          "name": "stderr",
          "text": [
            "\rProcessing compounds:  26%|██▌       | 547/2143 [03:50<11:41,  2.28it/s]"
          ]
        },
        {
          "output_type": "stream",
          "name": "stdout",
          "text": [
            "Ошибка при получении данных для формулы Co0.3Fe0.7Fe2O4: 404\n",
            "Ошибка при получении данных для формулы 0: 404\n",
            "Ошибка при получении данных для формулы Co0.3Fe0.7Fe2O4: 404\n"
          ]
        },
        {
          "output_type": "stream",
          "name": "stderr",
          "text": [
            "\rProcessing compounds:  26%|██▌       | 548/2143 [03:51<12:52,  2.06it/s]"
          ]
        },
        {
          "output_type": "stream",
          "name": "stdout",
          "text": [
            "Ошибка при получении данных для формулы 0: 404\n",
            "Ошибка при получении данных для формулы Co0.5Fe0.5Fe2O4: 404\n"
          ]
        },
        {
          "output_type": "stream",
          "name": "stderr",
          "text": [
            "\rProcessing compounds:  26%|██▌       | 549/2143 [03:51<12:09,  2.19it/s]"
          ]
        },
        {
          "output_type": "stream",
          "name": "stdout",
          "text": [
            "Ошибка при получении данных для формулы 0: 404\n",
            "Ошибка при получении данных для формулы Co0.5Fe0.5Fe2O4: 404\n"
          ]
        },
        {
          "output_type": "stream",
          "name": "stderr",
          "text": [
            "\rProcessing compounds:  26%|██▌       | 550/2143 [03:51<11:38,  2.28it/s]"
          ]
        },
        {
          "output_type": "stream",
          "name": "stdout",
          "text": [
            "Ошибка при получении данных для формулы 0: 404\n",
            "Ошибка при получении данных для формулы Co0.5Fe0.5Fe2O4: 404\n"
          ]
        },
        {
          "output_type": "stream",
          "name": "stderr",
          "text": [
            "\rProcessing compounds:  26%|██▌       | 551/2143 [03:52<11:15,  2.36it/s]"
          ]
        },
        {
          "output_type": "stream",
          "name": "stdout",
          "text": [
            "Ошибка при получении данных для формулы 0: 404\n",
            "Ошибка при получении данных для формулы Co0.5Fe0.5Fe2O4: 404\n"
          ]
        },
        {
          "output_type": "stream",
          "name": "stderr",
          "text": [
            "\rProcessing compounds:  26%|██▌       | 552/2143 [03:52<11:02,  2.40it/s]"
          ]
        },
        {
          "output_type": "stream",
          "name": "stdout",
          "text": [
            "Ошибка при получении данных для формулы 0: 404\n",
            "Ошибка при получении данных для формулы Co0.5Fe0.5Fe2O4: 404\n"
          ]
        },
        {
          "output_type": "stream",
          "name": "stderr",
          "text": [
            "\rProcessing compounds:  26%|██▌       | 553/2143 [03:53<10:50,  2.44it/s]"
          ]
        },
        {
          "output_type": "stream",
          "name": "stdout",
          "text": [
            "Ошибка при получении данных для формулы 0: 404\n",
            "Ошибка при получении данных для формулы Co0.5Fe0.5Fe2O4: 404\n"
          ]
        },
        {
          "output_type": "stream",
          "name": "stderr",
          "text": [
            "\rProcessing compounds:  26%|██▌       | 554/2143 [03:53<10:41,  2.48it/s]"
          ]
        },
        {
          "output_type": "stream",
          "name": "stdout",
          "text": [
            "Ошибка при получении данных для формулы 0: 404\n",
            "Ошибка при получении данных для формулы Co0.5Fe0.5Fe2O4: 404\n"
          ]
        },
        {
          "output_type": "stream",
          "name": "stderr",
          "text": [
            "\rProcessing compounds:  26%|██▌       | 555/2143 [03:53<10:37,  2.49it/s]"
          ]
        },
        {
          "output_type": "stream",
          "name": "stdout",
          "text": [
            "Ошибка при получении данных для формулы 0: 404\n",
            "Ошибка при получении данных для формулы Co0.5Fe0.5Fe2O4: 404\n"
          ]
        },
        {
          "output_type": "stream",
          "name": "stderr",
          "text": [
            "\rProcessing compounds:  26%|██▌       | 556/2143 [03:54<10:32,  2.51it/s]"
          ]
        },
        {
          "output_type": "stream",
          "name": "stdout",
          "text": [
            "Ошибка при получении данных для формулы 0: 404\n",
            "Ошибка при получении данных для формулы Co0.5Fe0.5Fe2O4: 404\n"
          ]
        },
        {
          "output_type": "stream",
          "name": "stderr",
          "text": [
            "\rProcessing compounds:  26%|██▌       | 557/2143 [03:54<10:31,  2.51it/s]"
          ]
        },
        {
          "output_type": "stream",
          "name": "stdout",
          "text": [
            "Ошибка при получении данных для формулы 0: 404\n",
            "Ошибка при получении данных для формулы Co0.5Fe0.5Fe2O4: 404\n"
          ]
        },
        {
          "output_type": "stream",
          "name": "stderr",
          "text": [
            "\rProcessing compounds:  26%|██▌       | 558/2143 [03:55<10:30,  2.52it/s]"
          ]
        },
        {
          "output_type": "stream",
          "name": "stdout",
          "text": [
            "Ошибка при получении данных для формулы 0: 404\n"
          ]
        },
        {
          "output_type": "stream",
          "name": "stderr",
          "text": [
            "\rProcessing compounds:  26%|██▌       | 559/2143 [03:55<10:30,  2.51it/s]"
          ]
        },
        {
          "output_type": "stream",
          "name": "stdout",
          "text": [
            "Ошибка при получении данных для формулы Co0.5Fe0.5Fe2O4: 404\n",
            "Ошибка при получении данных для формулы 0: 404\n"
          ]
        },
        {
          "output_type": "stream",
          "name": "stderr",
          "text": [
            "\rProcessing compounds:  26%|██▌       | 560/2143 [03:55<10:29,  2.51it/s]"
          ]
        },
        {
          "output_type": "stream",
          "name": "stdout",
          "text": [
            "Ошибка при получении данных для формулы Co0.5Fe0.5Fe2O4: 404\n",
            "Ошибка при получении данных для формулы 0: 404\n"
          ]
        },
        {
          "output_type": "stream",
          "name": "stderr",
          "text": [
            "\rProcessing compounds:  26%|██▌       | 561/2143 [03:56<10:29,  2.51it/s]"
          ]
        },
        {
          "output_type": "stream",
          "name": "stdout",
          "text": [
            "Ошибка при получении данных для формулы Co0.5Fe0.5Fe2O4: 404\n",
            "Ошибка при получении данных для формулы 0: 404\n"
          ]
        },
        {
          "output_type": "stream",
          "name": "stderr",
          "text": [
            "\rProcessing compounds:  26%|██▌       | 562/2143 [03:56<10:28,  2.52it/s]"
          ]
        },
        {
          "output_type": "stream",
          "name": "stdout",
          "text": [
            "Ошибка при получении данных для формулы Co0.5Fe0.5Fe2O4: 404\n",
            "Ошибка при получении данных для формулы 0: 404\n"
          ]
        },
        {
          "output_type": "stream",
          "name": "stderr",
          "text": [
            "\rProcessing compounds:  26%|██▋       | 563/2143 [03:57<10:27,  2.52it/s]"
          ]
        },
        {
          "output_type": "stream",
          "name": "stdout",
          "text": [
            "Ошибка при получении данных для формулы Co0.5Fe0.5Fe2O4: 404\n",
            "Ошибка при получении данных для формулы 0: 404\n"
          ]
        },
        {
          "output_type": "stream",
          "name": "stderr",
          "text": [
            "\rProcessing compounds:  26%|██▋       | 564/2143 [03:57<10:26,  2.52it/s]"
          ]
        },
        {
          "output_type": "stream",
          "name": "stdout",
          "text": [
            "Ошибка при получении данных для формулы Co0.5Fe0.5Fe2O4: 404\n",
            "Ошибка при получении данных для формулы 0: 404\n"
          ]
        },
        {
          "output_type": "stream",
          "name": "stderr",
          "text": [
            "\rProcessing compounds:  26%|██▋       | 565/2143 [03:57<10:36,  2.48it/s]"
          ]
        },
        {
          "output_type": "stream",
          "name": "stdout",
          "text": [
            "Ошибка при получении данных для формулы Co0.7Fe0.3Fe2O4: 404\n",
            "Ошибка при получении данных для формулы 0: 404\n"
          ]
        },
        {
          "output_type": "stream",
          "name": "stderr",
          "text": [
            "\rProcessing compounds:  26%|██▋       | 566/2143 [03:58<10:31,  2.50it/s]"
          ]
        },
        {
          "output_type": "stream",
          "name": "stdout",
          "text": [
            "Ошибка при получении данных для формулы Co0.7Fe0.3Fe2O4: 404\n",
            "Ошибка при получении данных для формулы 0: 404\n"
          ]
        },
        {
          "output_type": "stream",
          "name": "stderr",
          "text": [
            "\rProcessing compounds:  26%|██▋       | 567/2143 [03:58<10:29,  2.50it/s]"
          ]
        },
        {
          "output_type": "stream",
          "name": "stdout",
          "text": [
            "Ошибка при получении данных для формулы Co0.7Fe0.3Fe2O4: 404\n",
            "Ошибка при получении данных для формулы 0: 404\n"
          ]
        },
        {
          "output_type": "stream",
          "name": "stderr",
          "text": [
            "\rProcessing compounds:  27%|██▋       | 568/2143 [03:59<10:27,  2.51it/s]"
          ]
        },
        {
          "output_type": "stream",
          "name": "stdout",
          "text": [
            "Ошибка при получении данных для формулы Co0.7Fe0.3Fe2O4: 404\n",
            "Ошибка при получении данных для формулы 0: 404\n"
          ]
        },
        {
          "output_type": "stream",
          "name": "stderr",
          "text": [
            "\rProcessing compounds:  27%|██▋       | 569/2143 [03:59<10:25,  2.52it/s]"
          ]
        },
        {
          "output_type": "stream",
          "name": "stdout",
          "text": [
            "Ошибка при получении данных для формулы Co0.7Fe0.3Fe2O4: 404\n",
            "Ошибка при получении данных для формулы 0: 404\n",
            "Ошибка при получении данных для формулы Co0.7Fe0.3Fe2O4: 404\n"
          ]
        },
        {
          "output_type": "stream",
          "name": "stderr",
          "text": [
            "\rProcessing compounds:  27%|██▋       | 570/2143 [03:59<10:27,  2.51it/s]"
          ]
        },
        {
          "output_type": "stream",
          "name": "stdout",
          "text": [
            "Ошибка при получении данных для формулы 0: 404\n",
            "Ошибка при получении данных для формулы Co0.7Fe0.3Fe2O4: 404\n"
          ]
        },
        {
          "output_type": "stream",
          "name": "stderr",
          "text": [
            "\rProcessing compounds:  27%|██▋       | 571/2143 [04:00<10:24,  2.52it/s]"
          ]
        },
        {
          "output_type": "stream",
          "name": "stdout",
          "text": [
            "Ошибка при получении данных для формулы 0: 404\n",
            "Ошибка при получении данных для формулы Co0.7Fe0.3Fe2O4: 404\n"
          ]
        },
        {
          "output_type": "stream",
          "name": "stderr",
          "text": [
            "\rProcessing compounds:  27%|██▋       | 572/2143 [04:00<10:21,  2.53it/s]"
          ]
        },
        {
          "output_type": "stream",
          "name": "stdout",
          "text": [
            "Ошибка при получении данных для формулы 0: 404\n",
            "Ошибка при получении данных для формулы Co0.7Fe0.3Fe2O4: 404\n"
          ]
        },
        {
          "output_type": "stream",
          "name": "stderr",
          "text": [
            "\rProcessing compounds:  27%|██▋       | 573/2143 [04:00<10:20,  2.53it/s]"
          ]
        },
        {
          "output_type": "stream",
          "name": "stdout",
          "text": [
            "Ошибка при получении данных для формулы 0: 404\n",
            "Ошибка при получении данных для формулы Co0.7Fe0.3Fe2O4: 404\n"
          ]
        },
        {
          "output_type": "stream",
          "name": "stderr",
          "text": [
            "\rProcessing compounds:  27%|██▋       | 574/2143 [04:01<10:19,  2.53it/s]"
          ]
        },
        {
          "output_type": "stream",
          "name": "stdout",
          "text": [
            "Ошибка при получении данных для формулы 0: 404\n",
            "Ошибка при получении данных для формулы Co0.7Fe0.3Fe2O4: 404\n"
          ]
        },
        {
          "output_type": "stream",
          "name": "stderr",
          "text": [
            "\rProcessing compounds:  27%|██▋       | 575/2143 [04:01<10:18,  2.54it/s]"
          ]
        },
        {
          "output_type": "stream",
          "name": "stdout",
          "text": [
            "Ошибка при получении данных для формулы 0: 404\n",
            "Ошибка при получении данных для формулы Co0.7Fe0.3Fe2O4: 404\n"
          ]
        },
        {
          "output_type": "stream",
          "name": "stderr",
          "text": [
            "\rProcessing compounds:  27%|██▋       | 576/2143 [04:02<10:17,  2.54it/s]"
          ]
        },
        {
          "output_type": "stream",
          "name": "stdout",
          "text": [
            "Ошибка при получении данных для формулы 0: 404\n",
            "Ошибка при получении данных для формулы Co0.7Fe0.3Fe2O4: 404\n"
          ]
        },
        {
          "output_type": "stream",
          "name": "stderr",
          "text": [
            "\rProcessing compounds:  27%|██▋       | 577/2143 [04:02<10:17,  2.54it/s]"
          ]
        },
        {
          "output_type": "stream",
          "name": "stdout",
          "text": [
            "Ошибка при получении данных для формулы 0: 404\n",
            "Ошибка при получении данных для формулы Co0.7Fe0.3Fe2O4: 404\n"
          ]
        },
        {
          "output_type": "stream",
          "name": "stderr",
          "text": [
            "\rProcessing compounds:  27%|██▋       | 578/2143 [04:02<10:17,  2.54it/s]"
          ]
        },
        {
          "output_type": "stream",
          "name": "stdout",
          "text": [
            "Ошибка при получении данных для формулы 0: 404\n"
          ]
        },
        {
          "output_type": "stream",
          "name": "stderr",
          "text": [
            "\rProcessing compounds:  27%|██▋       | 579/2143 [04:03<10:45,  2.42it/s]"
          ]
        },
        {
          "output_type": "stream",
          "name": "stdout",
          "text": [
            "Ошибка при получении данных для формулы Co0.7Fe0.3Fe2O4: 404\n",
            "Ошибка при получении данных для формулы 0: 404\n",
            "Ошибка при получении данных для формулы Co0.7Fe0.3Fe2O4: 404\n"
          ]
        },
        {
          "output_type": "stream",
          "name": "stderr",
          "text": [
            "\rProcessing compounds:  27%|██▋       | 580/2143 [04:03<11:01,  2.36it/s]"
          ]
        },
        {
          "output_type": "stream",
          "name": "stdout",
          "text": [
            "Ошибка при получении данных для формулы 0: 404\n"
          ]
        },
        {
          "output_type": "stream",
          "name": "stderr",
          "text": [
            "\rProcessing compounds:  27%|██▋       | 581/2143 [04:04<12:33,  2.07it/s]"
          ]
        },
        {
          "output_type": "stream",
          "name": "stdout",
          "text": [
            "Ошибка при получении данных для формулы Co0.7Fe0.3Fe2O4: 404\n",
            "Ошибка при получении данных для формулы 0: 404\n"
          ]
        },
        {
          "output_type": "stream",
          "name": "stderr",
          "text": [
            "\rProcessing compounds:  27%|██▋       | 582/2143 [04:04<12:30,  2.08it/s]"
          ]
        },
        {
          "output_type": "stream",
          "name": "stdout",
          "text": [
            "Ошибка при получении данных для формулы Co0.7Fe0.3Fe2O4: 404\n",
            "Ошибка при получении данных для формулы 0: 404\n"
          ]
        },
        {
          "output_type": "stream",
          "name": "stderr",
          "text": [
            "\rProcessing compounds:  27%|██▋       | 583/2143 [04:05<11:50,  2.20it/s]"
          ]
        },
        {
          "output_type": "stream",
          "name": "stdout",
          "text": [
            "Ошибка при получении данных для формулы Co0.7Fe0.3Fe2O4: 404\n",
            "Ошибка при получении данных для формулы 0: 404\n"
          ]
        },
        {
          "output_type": "stream",
          "name": "stderr",
          "text": [
            "\rProcessing compounds:  27%|██▋       | 584/2143 [04:05<11:21,  2.29it/s]"
          ]
        },
        {
          "output_type": "stream",
          "name": "stdout",
          "text": [
            "Ошибка при получении данных для формулы Co0.7Fe0.3Fe2O4: 404\n",
            "Ошибка при получении данных для формулы 0: 404\n"
          ]
        },
        {
          "output_type": "stream",
          "name": "stderr",
          "text": [
            "\rProcessing compounds:  27%|██▋       | 585/2143 [04:06<11:01,  2.35it/s]"
          ]
        },
        {
          "output_type": "stream",
          "name": "stdout",
          "text": [
            "Ошибка при получении данных для формулы Co0.7Fe0.3Fe2O4: 404\n",
            "Ошибка при получении данных для формулы 0: 404\n"
          ]
        },
        {
          "output_type": "stream",
          "name": "stderr",
          "text": [
            "\rProcessing compounds:  27%|██▋       | 586/2143 [04:06<10:46,  2.41it/s]"
          ]
        },
        {
          "output_type": "stream",
          "name": "stdout",
          "text": [
            "Ошибка при получении данных для формулы Co0.7Fe0.3Fe2O4: 404\n",
            "Ошибка при получении данных для формулы 0: 404\n",
            "Ошибка при получении данных для формулы Co0.7Fe0.3Fe2O4: 404\n"
          ]
        },
        {
          "output_type": "stream",
          "name": "stderr",
          "text": [
            "\rProcessing compounds:  27%|██▋       | 587/2143 [04:07<11:30,  2.25it/s]"
          ]
        },
        {
          "output_type": "stream",
          "name": "stdout",
          "text": [
            "Ошибка при получении данных для формулы 0: 404\n"
          ]
        },
        {
          "output_type": "stream",
          "name": "stderr",
          "text": [
            "\rProcessing compounds:  27%|██▋       | 588/2143 [04:07<11:09,  2.32it/s]"
          ]
        },
        {
          "output_type": "stream",
          "name": "stdout",
          "text": [
            "Ошибка при получении данных для формулы Co0.7Fe0.3Fe2O4: 404\n",
            "Ошибка при получении данных для формулы 0: 404\n"
          ]
        },
        {
          "output_type": "stream",
          "name": "stderr",
          "text": [
            "\rProcessing compounds:  27%|██▋       | 589/2143 [04:07<10:54,  2.38it/s]"
          ]
        },
        {
          "output_type": "stream",
          "name": "stdout",
          "text": [
            "Ошибка при получении данных для формулы Co0.7Fe0.3Fe2O4: 404\n",
            "Ошибка при получении данных для формулы 0: 404\n"
          ]
        },
        {
          "output_type": "stream",
          "name": "stderr",
          "text": [
            "\rProcessing compounds:  28%|██▊       | 590/2143 [04:08<11:05,  2.33it/s]"
          ]
        },
        {
          "output_type": "stream",
          "name": "stdout",
          "text": [
            "Ошибка при получении данных для формулы Co0.7Fe0.3Fe2O4: 404\n",
            "Ошибка при получении данных для формулы 0: 404\n",
            "Ошибка при получении данных для формулы Co0.7Fe0.3Fe2O4: 404\n"
          ]
        },
        {
          "output_type": "stream",
          "name": "stderr",
          "text": [
            "\rProcessing compounds:  28%|██▊       | 591/2143 [04:08<13:02,  1.98it/s]"
          ]
        },
        {
          "output_type": "stream",
          "name": "stdout",
          "text": [
            "Ошибка при получении данных для формулы 0: 404\n",
            "Ошибка при получении данных для формулы Co0.7Fe0.3Fe2O4: 404\n"
          ]
        },
        {
          "output_type": "stream",
          "name": "stderr",
          "text": [
            "\rProcessing compounds:  28%|██▊       | 592/2143 [04:09<12:11,  2.12it/s]"
          ]
        },
        {
          "output_type": "stream",
          "name": "stdout",
          "text": [
            "Ошибка при получении данных для формулы 0: 404\n",
            "Ошибка при получении данных для формулы Co0.7Fe0.3Fe2O4: 404\n"
          ]
        },
        {
          "output_type": "stream",
          "name": "stderr",
          "text": [
            "\rProcessing compounds:  28%|██▊       | 593/2143 [04:09<11:35,  2.23it/s]"
          ]
        },
        {
          "output_type": "stream",
          "name": "stdout",
          "text": [
            "Ошибка при получении данных для формулы 0: 404\n",
            "Ошибка при получении данных для формулы Co0.7Fe0.3Fe2O4: 404\n"
          ]
        },
        {
          "output_type": "stream",
          "name": "stderr",
          "text": [
            "\rProcessing compounds:  28%|██▊       | 594/2143 [04:10<11:09,  2.31it/s]"
          ]
        },
        {
          "output_type": "stream",
          "name": "stdout",
          "text": [
            "Ошибка при получении данных для формулы 0: 404\n",
            "Ошибка при получении данных для формулы Co0.7Fe0.3Fe2O4: 404\n"
          ]
        },
        {
          "output_type": "stream",
          "name": "stderr",
          "text": [
            "\rProcessing compounds:  28%|██▊       | 595/2143 [04:10<10:49,  2.38it/s]"
          ]
        },
        {
          "output_type": "stream",
          "name": "stdout",
          "text": [
            "Ошибка при получении данных для формулы 0: 404\n",
            "Ошибка при получении данных для формулы Co0.7Fe0.3Fe2O4: 404\n"
          ]
        },
        {
          "output_type": "stream",
          "name": "stderr",
          "text": [
            "\rProcessing compounds:  28%|██▊       | 596/2143 [04:10<10:38,  2.42it/s]"
          ]
        },
        {
          "output_type": "stream",
          "name": "stdout",
          "text": [
            "Ошибка при получении данных для формулы 0: 404\n",
            "Ошибка при получении данных для формулы Co0.7Fe0.3Fe2O4: 404\n"
          ]
        },
        {
          "output_type": "stream",
          "name": "stderr",
          "text": [
            "\rProcessing compounds:  28%|██▊       | 597/2143 [04:11<10:38,  2.42it/s]"
          ]
        },
        {
          "output_type": "stream",
          "name": "stdout",
          "text": [
            "Ошибка при получении данных для формулы 0: 404\n",
            "Ошибка при получении данных для формулы CoFe2O4: 404\n"
          ]
        },
        {
          "output_type": "stream",
          "name": "stderr",
          "text": [
            "\rProcessing compounds:  28%|██▊       | 598/2143 [04:11<10:30,  2.45it/s]"
          ]
        },
        {
          "output_type": "stream",
          "name": "stdout",
          "text": [
            "Ошибка при получении данных для формулы 0: 404\n",
            "Ошибка при получении данных для формулы CoFe2O4: 404\n"
          ]
        },
        {
          "output_type": "stream",
          "name": "stderr",
          "text": [
            "\rProcessing compounds:  28%|██▊       | 599/2143 [04:12<10:24,  2.47it/s]"
          ]
        },
        {
          "output_type": "stream",
          "name": "stdout",
          "text": [
            "Ошибка при получении данных для формулы 0: 404\n"
          ]
        },
        {
          "output_type": "stream",
          "name": "stderr",
          "text": [
            "\rProcessing compounds:  28%|██▊       | 600/2143 [04:12<10:21,  2.48it/s]"
          ]
        },
        {
          "output_type": "stream",
          "name": "stdout",
          "text": [
            "Ошибка при получении данных для формулы CoFe2O4: 404\n",
            "Ошибка при получении данных для формулы 0: 404\n"
          ]
        },
        {
          "output_type": "stream",
          "name": "stderr",
          "text": [
            "\rProcessing compounds:  28%|██▊       | 601/2143 [04:12<10:16,  2.50it/s]"
          ]
        },
        {
          "output_type": "stream",
          "name": "stdout",
          "text": [
            "Ошибка при получении данных для формулы CoFe2O4: 404\n",
            "Ошибка при получении данных для формулы 0: 404\n"
          ]
        },
        {
          "output_type": "stream",
          "name": "stderr",
          "text": [
            "\rProcessing compounds:  28%|██▊       | 602/2143 [04:13<10:18,  2.49it/s]"
          ]
        },
        {
          "output_type": "stream",
          "name": "stdout",
          "text": [
            "Ошибка при получении данных для формулы CoFe2O4: 404\n",
            "Ошибка при получении данных для формулы 0: 404\n"
          ]
        },
        {
          "output_type": "stream",
          "name": "stderr",
          "text": [
            "\rProcessing compounds:  28%|██▊       | 603/2143 [04:13<10:16,  2.50it/s]"
          ]
        },
        {
          "output_type": "stream",
          "name": "stdout",
          "text": [
            "Ошибка при получении данных для формулы CoFe2O4: 404\n",
            "Ошибка при получении данных для формулы 0: 404\n"
          ]
        },
        {
          "output_type": "stream",
          "name": "stderr",
          "text": [
            "\rProcessing compounds:  28%|██▊       | 604/2143 [04:14<10:15,  2.50it/s]"
          ]
        },
        {
          "output_type": "stream",
          "name": "stdout",
          "text": [
            "Ошибка при получении данных для формулы CoFe2O4: 404\n",
            "Ошибка при получении данных для формулы 0: 404\n"
          ]
        },
        {
          "output_type": "stream",
          "name": "stderr",
          "text": [
            "\rProcessing compounds:  28%|██▊       | 605/2143 [04:14<10:12,  2.51it/s]"
          ]
        },
        {
          "output_type": "stream",
          "name": "stdout",
          "text": [
            "Ошибка при получении данных для формулы CoFe2O4: 404\n",
            "Ошибка при получении данных для формулы 0: 404\n"
          ]
        },
        {
          "output_type": "stream",
          "name": "stderr",
          "text": [
            "\rProcessing compounds:  28%|██▊       | 606/2143 [04:15<10:58,  2.33it/s]"
          ]
        },
        {
          "output_type": "stream",
          "name": "stdout",
          "text": [
            "Ошибка при получении данных для формулы CoFe2O4: 404\n",
            "Ошибка при получении данных для формулы 0: 404\n"
          ]
        },
        {
          "output_type": "stream",
          "name": "stderr",
          "text": [
            "\rProcessing compounds:  28%|██▊       | 607/2143 [04:15<10:41,  2.40it/s]"
          ]
        },
        {
          "output_type": "stream",
          "name": "stdout",
          "text": [
            "Ошибка при получении данных для формулы CoFe2O4: 404\n",
            "Ошибка при получении данных для формулы 0: 404\n"
          ]
        },
        {
          "output_type": "stream",
          "name": "stderr",
          "text": [
            "\rProcessing compounds:  28%|██▊       | 608/2143 [04:15<10:29,  2.44it/s]"
          ]
        },
        {
          "output_type": "stream",
          "name": "stdout",
          "text": [
            "Ошибка при получении данных для формулы CoFe2O4: 404\n",
            "Ошибка при получении данных для формулы 0: 404\n"
          ]
        },
        {
          "output_type": "stream",
          "name": "stderr",
          "text": [
            "\rProcessing compounds:  28%|██▊       | 609/2143 [04:16<10:22,  2.46it/s]"
          ]
        },
        {
          "output_type": "stream",
          "name": "stdout",
          "text": [
            "Ошибка при получении данных для формулы CoFe2O4: 404\n",
            "Ошибка при получении данных для формулы 0: 404\n"
          ]
        },
        {
          "output_type": "stream",
          "name": "stderr",
          "text": [
            "\rProcessing compounds:  28%|██▊       | 610/2143 [04:16<10:17,  2.48it/s]"
          ]
        },
        {
          "output_type": "stream",
          "name": "stdout",
          "text": [
            "Ошибка при получении данных для формулы CoFe2O4: 404\n",
            "Ошибка при получении данных для формулы 0: 404\n"
          ]
        },
        {
          "output_type": "stream",
          "name": "stderr",
          "text": [
            "\rProcessing compounds:  29%|██▊       | 611/2143 [04:17<10:12,  2.50it/s]"
          ]
        },
        {
          "output_type": "stream",
          "name": "stdout",
          "text": [
            "Ошибка при получении данных для формулы CoFe2O4: 404\n",
            "Ошибка при получении данных для формулы 0: 404\n"
          ]
        },
        {
          "output_type": "stream",
          "name": "stderr",
          "text": [
            "\rProcessing compounds:  29%|██▊       | 612/2143 [04:17<10:08,  2.51it/s]"
          ]
        },
        {
          "output_type": "stream",
          "name": "stdout",
          "text": [
            "Ошибка при получении данных для формулы CoFe2O4: 404\n",
            "Ошибка при получении данных для формулы 0: 404\n"
          ]
        },
        {
          "output_type": "stream",
          "name": "stderr",
          "text": [
            "\rProcessing compounds:  29%|██▊       | 613/2143 [04:17<10:19,  2.47it/s]"
          ]
        },
        {
          "output_type": "stream",
          "name": "stdout",
          "text": [
            "Ошибка при получении данных для формулы CoFe2O4: 404\n",
            "Ошибка при получении данных для формулы 0: 404\n"
          ]
        },
        {
          "output_type": "stream",
          "name": "stderr",
          "text": [
            "\rProcessing compounds:  29%|██▊       | 614/2143 [04:18<10:19,  2.47it/s]"
          ]
        },
        {
          "output_type": "stream",
          "name": "stdout",
          "text": [
            "Ошибка при получении данных для формулы CoFe2O4: 404\n",
            "Ошибка при получении данных для формулы 0: 404\n",
            "Ошибка при получении данных для формулы CoFe2O4: 404\n"
          ]
        },
        {
          "output_type": "stream",
          "name": "stderr",
          "text": [
            "\rProcessing compounds:  29%|██▊       | 615/2143 [04:18<10:34,  2.41it/s]"
          ]
        },
        {
          "output_type": "stream",
          "name": "stdout",
          "text": [
            "Ошибка при получении данных для формулы 0: 404\n",
            "Ошибка при получении данных для формулы CoFe2O4: 404\n"
          ]
        },
        {
          "output_type": "stream",
          "name": "stderr",
          "text": [
            "\rProcessing compounds:  29%|██▊       | 616/2143 [04:19<10:25,  2.44it/s]"
          ]
        },
        {
          "output_type": "stream",
          "name": "stdout",
          "text": [
            "Ошибка при получении данных для формулы 0: 404\n"
          ]
        },
        {
          "output_type": "stream",
          "name": "stderr",
          "text": [
            "\rProcessing compounds:  29%|██▉       | 617/2143 [04:19<10:19,  2.46it/s]"
          ]
        },
        {
          "output_type": "stream",
          "name": "stdout",
          "text": [
            "Ошибка при получении данных для формулы CoFe2O4: 404\n",
            "Ошибка при получении данных для формулы 0: 404\n"
          ]
        },
        {
          "output_type": "stream",
          "name": "stderr",
          "text": [
            "\rProcessing compounds:  29%|██▉       | 618/2143 [04:19<10:17,  2.47it/s]"
          ]
        },
        {
          "output_type": "stream",
          "name": "stdout",
          "text": [
            "Ошибка при получении данных для формулы CoFe2O4: 404\n",
            "Ошибка при получении данных для формулы 0: 404\n"
          ]
        },
        {
          "output_type": "stream",
          "name": "stderr",
          "text": [
            "\rProcessing compounds:  29%|██▉       | 619/2143 [04:20<11:23,  2.23it/s]"
          ]
        },
        {
          "output_type": "stream",
          "name": "stdout",
          "text": [
            "Ошибка при получении данных для формулы CoFe2O4: 404\n",
            "Ошибка при получении данных для формулы 0: 404\n"
          ]
        },
        {
          "output_type": "stream",
          "name": "stderr",
          "text": [
            "\rProcessing compounds:  29%|██▉       | 620/2143 [04:20<11:00,  2.31it/s]"
          ]
        },
        {
          "output_type": "stream",
          "name": "stdout",
          "text": [
            "Ошибка при получении данных для формулы CoFe2O4: 404\n",
            "Ошибка при получении данных для формулы 0: 404\n"
          ]
        },
        {
          "output_type": "stream",
          "name": "stderr",
          "text": [
            "\rProcessing compounds:  29%|██▉       | 621/2143 [04:21<10:40,  2.37it/s]"
          ]
        },
        {
          "output_type": "stream",
          "name": "stdout",
          "text": [
            "Ошибка при получении данных для формулы CoFe2O4: 404\n",
            "Ошибка при получении данных для формулы 0: 404\n",
            "Ошибка при получении данных для формулы CoFe2O4: 404\n"
          ]
        },
        {
          "output_type": "stream",
          "name": "stderr",
          "text": [
            "\rProcessing compounds:  29%|██▉       | 622/2143 [04:21<11:37,  2.18it/s]"
          ]
        },
        {
          "output_type": "stream",
          "name": "stdout",
          "text": [
            "Ошибка при получении данных для формулы 0: 404\n"
          ]
        },
        {
          "output_type": "stream",
          "name": "stderr",
          "text": [
            "\rProcessing compounds:  29%|██▉       | 623/2143 [04:22<11:44,  2.16it/s]"
          ]
        },
        {
          "output_type": "stream",
          "name": "stdout",
          "text": [
            "Ошибка при получении данных для формулы CoFe2O4: 404\n",
            "Ошибка при получении данных для формулы 0: 404\n",
            "Ошибка при получении данных для формулы CoFe2O4: 404\n"
          ]
        },
        {
          "output_type": "stream",
          "name": "stderr",
          "text": [
            "\rProcessing compounds:  29%|██▉       | 624/2143 [04:22<12:58,  1.95it/s]"
          ]
        },
        {
          "output_type": "stream",
          "name": "stdout",
          "text": [
            "Ошибка при получении данных для формулы 0: 404\n",
            "Ошибка при получении данных для формулы CoFe2O4: 404\n"
          ]
        },
        {
          "output_type": "stream",
          "name": "stderr",
          "text": [
            "\rProcessing compounds:  29%|██▉       | 625/2143 [04:23<12:03,  2.10it/s]"
          ]
        },
        {
          "output_type": "stream",
          "name": "stdout",
          "text": [
            "Ошибка при получении данных для формулы 0: 404\n",
            "Ошибка при получении данных для формулы CoFe2O4: 404\n"
          ]
        },
        {
          "output_type": "stream",
          "name": "stderr",
          "text": [
            "\rProcessing compounds:  29%|██▉       | 626/2143 [04:23<11:42,  2.16it/s]"
          ]
        },
        {
          "output_type": "stream",
          "name": "stdout",
          "text": [
            "Ошибка при получении данных для формулы 0: 404\n",
            "Ошибка при получении данных для формулы CoFe2O4: 404\n"
          ]
        },
        {
          "output_type": "stream",
          "name": "stderr",
          "text": [
            "\rProcessing compounds:  29%|██▉       | 627/2143 [04:24<13:48,  1.83it/s]"
          ]
        },
        {
          "output_type": "stream",
          "name": "stdout",
          "text": [
            "Ошибка при получении данных для формулы 0: 404\n",
            "Ошибка при получении данных для формулы CoFe2O4: 404\n"
          ]
        },
        {
          "output_type": "stream",
          "name": "stderr",
          "text": [
            "\rProcessing compounds:  29%|██▉       | 628/2143 [04:25<14:46,  1.71it/s]"
          ]
        },
        {
          "output_type": "stream",
          "name": "stdout",
          "text": [
            "Ошибка при получении данных для формулы 0: 404\n",
            "Ошибка при получении данных для формулы CoFe2O4: 404\n"
          ]
        },
        {
          "output_type": "stream",
          "name": "stderr",
          "text": [
            "\rProcessing compounds:  29%|██▉       | 629/2143 [04:25<15:05,  1.67it/s]"
          ]
        },
        {
          "output_type": "stream",
          "name": "stdout",
          "text": [
            "Ошибка при получении данных для формулы 0: 404\n",
            "Ошибка при получении данных для формулы CoFe2O4: 404\n"
          ]
        },
        {
          "output_type": "stream",
          "name": "stderr",
          "text": [
            "\rProcessing compounds:  29%|██▉       | 630/2143 [04:26<14:19,  1.76it/s]"
          ]
        },
        {
          "output_type": "stream",
          "name": "stdout",
          "text": [
            "Ошибка при получении данных для формулы 0: 404\n"
          ]
        },
        {
          "output_type": "stream",
          "name": "stderr",
          "text": [
            "\rProcessing compounds:  29%|██▉       | 631/2143 [04:26<13:37,  1.85it/s]"
          ]
        },
        {
          "output_type": "stream",
          "name": "stdout",
          "text": [
            "Ошибка при получении данных для формулы CoFe2O4: 404\n",
            "Ошибка при получении данных для формулы 0: 404\n",
            "Ошибка при получении данных для формулы CoFe2O4: 404\n"
          ]
        },
        {
          "output_type": "stream",
          "name": "stderr",
          "text": [
            "\rProcessing compounds:  29%|██▉       | 632/2143 [04:27<12:45,  1.97it/s]"
          ]
        },
        {
          "output_type": "stream",
          "name": "stdout",
          "text": [
            "Ошибка при получении данных для формулы 0: 404\n",
            "Ошибка при получении данных для формулы CoFe2O4: 404\n"
          ]
        },
        {
          "output_type": "stream",
          "name": "stderr",
          "text": [
            "\rProcessing compounds:  30%|██▉       | 633/2143 [04:27<11:54,  2.11it/s]"
          ]
        },
        {
          "output_type": "stream",
          "name": "stdout",
          "text": [
            "Ошибка при получении данных для формулы 0: 404\n",
            "Ошибка при получении данных для формулы CoFe2O4: 404\n"
          ]
        },
        {
          "output_type": "stream",
          "name": "stderr",
          "text": [
            "\rProcessing compounds:  30%|██▉       | 634/2143 [04:27<11:18,  2.22it/s]"
          ]
        },
        {
          "output_type": "stream",
          "name": "stdout",
          "text": [
            "Ошибка при получении данных для формулы 0: 404\n",
            "Ошибка при получении данных для формулы CoFe2O4: 404\n"
          ]
        },
        {
          "output_type": "stream",
          "name": "stderr",
          "text": [
            "\rProcessing compounds:  30%|██▉       | 635/2143 [04:28<10:52,  2.31it/s]"
          ]
        },
        {
          "output_type": "stream",
          "name": "stdout",
          "text": [
            "Ошибка при получении данных для формулы 0: 404\n",
            "Ошибка при получении данных для формулы CoFe2O4: 404\n"
          ]
        },
        {
          "output_type": "stream",
          "name": "stderr",
          "text": [
            "\rProcessing compounds:  30%|██▉       | 636/2143 [04:28<10:35,  2.37it/s]"
          ]
        },
        {
          "output_type": "stream",
          "name": "stdout",
          "text": [
            "Ошибка при получении данных для формулы 0: 404\n",
            "Ошибка при получении данных для формулы CoFe2O4: 404\n"
          ]
        },
        {
          "output_type": "stream",
          "name": "stderr",
          "text": [
            "\rProcessing compounds:  30%|██▉       | 637/2143 [04:29<10:23,  2.41it/s]"
          ]
        },
        {
          "output_type": "stream",
          "name": "stdout",
          "text": [
            "Ошибка при получении данных для формулы 0: 404\n",
            "Ошибка при получении данных для формулы CoFe2O4: 404\n"
          ]
        },
        {
          "output_type": "stream",
          "name": "stderr",
          "text": [
            "\rProcessing compounds:  30%|██▉       | 638/2143 [04:29<10:14,  2.45it/s]"
          ]
        },
        {
          "output_type": "stream",
          "name": "stdout",
          "text": [
            "Ошибка при получении данных для формулы 0: 404\n",
            "Ошибка при получении данных для формулы CoFe2O4: 404\n"
          ]
        },
        {
          "output_type": "stream",
          "name": "stderr",
          "text": [
            "\rProcessing compounds:  30%|██▉       | 639/2143 [04:29<10:06,  2.48it/s]"
          ]
        },
        {
          "output_type": "stream",
          "name": "stdout",
          "text": [
            "Ошибка при получении данных для формулы 0: 404\n",
            "Ошибка при получении данных для формулы CoFe2O4: 404\n"
          ]
        },
        {
          "output_type": "stream",
          "name": "stderr",
          "text": [
            "\rProcessing compounds:  30%|██▉       | 640/2143 [04:30<10:00,  2.50it/s]"
          ]
        },
        {
          "output_type": "stream",
          "name": "stdout",
          "text": [
            "Ошибка при получении данных для формулы 0: 404\n",
            "Ошибка при получении данных для формулы CoFe2O4: 404\n"
          ]
        },
        {
          "output_type": "stream",
          "name": "stderr",
          "text": [
            "\rProcessing compounds:  30%|██▉       | 641/2143 [04:30<09:57,  2.51it/s]"
          ]
        },
        {
          "output_type": "stream",
          "name": "stdout",
          "text": [
            "Ошибка при получении данных для формулы 0: 404\n",
            "Ошибка при получении данных для формулы CoFe2O4: 404\n"
          ]
        },
        {
          "output_type": "stream",
          "name": "stderr",
          "text": [
            "\rProcessing compounds:  30%|██▉       | 642/2143 [04:31<09:58,  2.51it/s]"
          ]
        },
        {
          "output_type": "stream",
          "name": "stdout",
          "text": [
            "Ошибка при получении данных для формулы 0: 404\n"
          ]
        },
        {
          "output_type": "stream",
          "name": "stderr",
          "text": [
            "\rProcessing compounds:  30%|███       | 643/2143 [04:31<09:59,  2.50it/s]"
          ]
        },
        {
          "output_type": "stream",
          "name": "stdout",
          "text": [
            "Ошибка при получении данных для формулы CoFe2O4: 404\n",
            "Ошибка при получении данных для формулы 0: 404\n"
          ]
        },
        {
          "output_type": "stream",
          "name": "stderr",
          "text": [
            "\rProcessing compounds:  30%|███       | 644/2143 [04:31<09:57,  2.51it/s]"
          ]
        },
        {
          "output_type": "stream",
          "name": "stdout",
          "text": [
            "Ошибка при получении данных для формулы CoFe2O4: 404\n",
            "Ошибка при получении данных для формулы 0: 404\n"
          ]
        },
        {
          "output_type": "stream",
          "name": "stderr",
          "text": [
            "\rProcessing compounds:  30%|███       | 645/2143 [04:32<09:58,  2.50it/s]"
          ]
        },
        {
          "output_type": "stream",
          "name": "stdout",
          "text": [
            "Ошибка при получении данных для формулы CoFe2O4: 404\n",
            "Ошибка при получении данных для формулы 0: 404\n"
          ]
        },
        {
          "output_type": "stream",
          "name": "stderr",
          "text": [
            "\rProcessing compounds:  30%|███       | 646/2143 [04:32<09:59,  2.50it/s]"
          ]
        },
        {
          "output_type": "stream",
          "name": "stdout",
          "text": [
            "Ошибка при получении данных для формулы CoFe2O4: 404\n",
            "Ошибка при получении данных для формулы 0: 404\n",
            "Ошибка при получении данных для формулы CoFe2O4: 404\n"
          ]
        },
        {
          "output_type": "stream",
          "name": "stderr",
          "text": [
            "\rProcessing compounds:  30%|███       | 647/2143 [04:33<10:32,  2.36it/s]"
          ]
        },
        {
          "output_type": "stream",
          "name": "stdout",
          "text": [
            "Ошибка при получении данных для формулы 0: 404\n",
            "Ошибка при получении данных для формулы CoFe2O4: 404\n"
          ]
        },
        {
          "output_type": "stream",
          "name": "stderr",
          "text": [
            "\rProcessing compounds:  30%|███       | 648/2143 [04:33<10:19,  2.41it/s]"
          ]
        },
        {
          "output_type": "stream",
          "name": "stdout",
          "text": [
            "Ошибка при получении данных для формулы 0: 404\n",
            "Ошибка при получении данных для формулы CoFe2O4: 404\n"
          ]
        },
        {
          "output_type": "stream",
          "name": "stderr",
          "text": [
            "\rProcessing compounds:  30%|███       | 649/2143 [04:33<10:09,  2.45it/s]"
          ]
        },
        {
          "output_type": "stream",
          "name": "stdout",
          "text": [
            "Ошибка при получении данных для формулы 0: 404\n"
          ]
        },
        {
          "output_type": "stream",
          "name": "stderr",
          "text": [
            "\rProcessing compounds:  30%|███       | 650/2143 [04:34<10:07,  2.46it/s]"
          ]
        },
        {
          "output_type": "stream",
          "name": "stdout",
          "text": [
            "Сохранен и добавлен в архив: compound_16217788_c1.json\n",
            "Ошибка при получении данных для формулы 0: 404\n"
          ]
        },
        {
          "output_type": "stream",
          "name": "stderr",
          "text": [
            "/usr/lib/python3.11/zipfile.py:1567: UserWarning: Duplicate name: 'compound_16217788_c1.json'\n",
            "  return self._open_to_write(zinfo, force_zip64=force_zip64)\n",
            "\rProcessing compounds:  30%|███       | 651/2143 [04:34<10:14,  2.43it/s]"
          ]
        },
        {
          "output_type": "stream",
          "name": "stdout",
          "text": [
            "Сохранен и добавлен в архив: compound_16217788_c1.json\n",
            "Ошибка при получении данных для формулы 0: 404\n"
          ]
        },
        {
          "output_type": "stream",
          "name": "stderr",
          "text": [
            "\rProcessing compounds:  30%|███       | 652/2143 [04:35<10:07,  2.45it/s]"
          ]
        },
        {
          "output_type": "stream",
          "name": "stdout",
          "text": [
            "Сохранен и добавлен в архив: compound_16217788_c1.json\n",
            "Ошибка при получении данных для формулы 0: 404\n"
          ]
        },
        {
          "output_type": "stream",
          "name": "stderr",
          "text": [
            "\rProcessing compounds:  30%|███       | 653/2143 [04:35<10:15,  2.42it/s]"
          ]
        },
        {
          "output_type": "stream",
          "name": "stdout",
          "text": [
            "Сохранен и добавлен в архив: compound_23978_c1.json\n",
            "Сохранен и добавлен в архив: compound_16217788_c2.json\n"
          ]
        },
        {
          "output_type": "stream",
          "name": "stderr",
          "text": [
            "/usr/lib/python3.11/zipfile.py:1567: UserWarning: Duplicate name: 'compound_23978_c1.json'\n",
            "  return self._open_to_write(zinfo, force_zip64=force_zip64)\n",
            "/usr/lib/python3.11/zipfile.py:1567: UserWarning: Duplicate name: 'compound_16217788_c2.json'\n",
            "  return self._open_to_write(zinfo, force_zip64=force_zip64)\n",
            "\rProcessing compounds:  31%|███       | 654/2143 [04:35<10:13,  2.43it/s]"
          ]
        },
        {
          "output_type": "stream",
          "name": "stdout",
          "text": [
            "Сохранен и добавлен в архив: compound_23978_c1.json\n",
            "Сохранен и добавлен в архив: compound_16217788_c2.json\n",
            "Сохранен и добавлен в архив: compound_23978_c1.json\n"
          ]
        },
        {
          "output_type": "stream",
          "name": "stderr",
          "text": [
            "\rProcessing compounds:  31%|███       | 655/2143 [04:36<10:23,  2.39it/s]"
          ]
        },
        {
          "output_type": "stream",
          "name": "stdout",
          "text": [
            "Сохранен и добавлен в архив: compound_16217788_c2.json\n"
          ]
        },
        {
          "output_type": "stream",
          "name": "stderr",
          "text": [
            "\rProcessing compounds:  31%|███       | 656/2143 [04:36<10:19,  2.40it/s]"
          ]
        },
        {
          "output_type": "stream",
          "name": "stdout",
          "text": [
            "Сохранен и добавлен в архив: compound_23978_c1.json\n",
            "Сохранен и добавлен в архив: compound_16217788_c2.json\n",
            "Ошибка при получении данных для формулы Fe0.5Mn0.5: 404\n",
            "Ошибка при получении данных для формулы Fe2O4: 404\n"
          ]
        },
        {
          "output_type": "stream",
          "name": "stderr",
          "text": [
            "Processing compounds:  31%|███       | 658/2143 [04:37<10:06,  2.45it/s]"
          ]
        },
        {
          "output_type": "stream",
          "name": "stdout",
          "text": [
            "Ошибка при получении данных для формулы Fe0.5Mn0.5: 404\n",
            "Ошибка при получении данных для формулы Fe2O4: 404\n"
          ]
        },
        {
          "output_type": "stream",
          "name": "stderr",
          "text": [
            "\rProcessing compounds:  31%|███       | 659/2143 [04:38<10:00,  2.47it/s]"
          ]
        },
        {
          "output_type": "stream",
          "name": "stdout",
          "text": [
            "Сохранен и добавлен в архив: compound_16211978_c1.json\n",
            "Ошибка при получении данных для формулы 0: 404\n",
            "Сохранен и добавлен в архив: compound_16211978_c1.json\n"
          ]
        },
        {
          "output_type": "stream",
          "name": "stderr",
          "text": [
            "\rProcessing compounds:  31%|███       | 660/2143 [04:38<10:04,  2.45it/s]"
          ]
        },
        {
          "output_type": "stream",
          "name": "stdout",
          "text": [
            "Ошибка при получении данных для формулы 0: 404\n",
            "Сохранен и добавлен в архив: compound_16211978_c1.json\n"
          ]
        },
        {
          "output_type": "stream",
          "name": "stderr",
          "text": [
            "\rProcessing compounds:  31%|███       | 661/2143 [04:38<09:58,  2.48it/s]"
          ]
        },
        {
          "output_type": "stream",
          "name": "stdout",
          "text": [
            "Ошибка при получении данных для формулы 0: 404\n",
            "Сохранен и добавлен в архив: compound_16211978_c1.json\n"
          ]
        },
        {
          "output_type": "stream",
          "name": "stderr",
          "text": [
            "\rProcessing compounds:  31%|███       | 662/2143 [04:39<10:10,  2.42it/s]"
          ]
        },
        {
          "output_type": "stream",
          "name": "stdout",
          "text": [
            "Ошибка при получении данных для формулы 0: 404\n",
            "Сохранен и добавлен в архив: compound_16211978_c1.json\n"
          ]
        },
        {
          "output_type": "stream",
          "name": "stderr",
          "text": [
            "\rProcessing compounds:  31%|███       | 663/2143 [04:39<10:03,  2.45it/s]"
          ]
        },
        {
          "output_type": "stream",
          "name": "stdout",
          "text": [
            "Ошибка при получении данных для формулы 0: 404\n",
            "Сохранен и добавлен в архив: compound_16211978_c1.json\n"
          ]
        },
        {
          "output_type": "stream",
          "name": "stderr",
          "text": [
            "\rProcessing compounds:  31%|███       | 664/2143 [04:40<09:57,  2.48it/s]"
          ]
        },
        {
          "output_type": "stream",
          "name": "stdout",
          "text": [
            "Ошибка при получении данных для формулы 0: 404\n",
            "Сохранен и добавлен в архив: compound_16211978_c1.json\n"
          ]
        },
        {
          "output_type": "stream",
          "name": "stderr",
          "text": [
            "\rProcessing compounds:  31%|███       | 665/2143 [04:40<09:53,  2.49it/s]"
          ]
        },
        {
          "output_type": "stream",
          "name": "stdout",
          "text": [
            "Ошибка при получении данных для формулы 0: 404\n"
          ]
        },
        {
          "output_type": "stream",
          "name": "stderr",
          "text": [
            "\rProcessing compounds:  31%|███       | 666/2143 [04:40<09:52,  2.49it/s]"
          ]
        },
        {
          "output_type": "stream",
          "name": "stdout",
          "text": [
            "Сохранен и добавлен в архив: compound_16211978_c1.json\n",
            "Ошибка при получении данных для формулы 0: 404\n"
          ]
        },
        {
          "output_type": "stream",
          "name": "stderr",
          "text": [
            "\rProcessing compounds:  31%|███       | 667/2143 [04:41<09:48,  2.51it/s]"
          ]
        },
        {
          "output_type": "stream",
          "name": "stdout",
          "text": [
            "Сохранен и добавлен в архив: compound_16211978_c1.json\n",
            "Ошибка при получении данных для формулы 0: 404\n"
          ]
        },
        {
          "output_type": "stream",
          "name": "stderr",
          "text": [
            "\rProcessing compounds:  31%|███       | 668/2143 [04:41<09:47,  2.51it/s]"
          ]
        },
        {
          "output_type": "stream",
          "name": "stdout",
          "text": [
            "Сохранен и добавлен в архив: compound_16211978_c1.json\n",
            "Ошибка при получении данных для формулы 0: 404\n"
          ]
        },
        {
          "output_type": "stream",
          "name": "stderr",
          "text": [
            "\rProcessing compounds:  31%|███       | 669/2143 [04:42<09:44,  2.52it/s]"
          ]
        },
        {
          "output_type": "stream",
          "name": "stdout",
          "text": [
            "Сохранен и добавлен в архив: compound_16211978_c1.json\n",
            "Ошибка при получении данных для формулы 0: 404\n"
          ]
        },
        {
          "output_type": "stream",
          "name": "stderr",
          "text": [
            "\rProcessing compounds:  31%|███▏      | 670/2143 [04:42<09:45,  2.52it/s]"
          ]
        },
        {
          "output_type": "stream",
          "name": "stdout",
          "text": [
            "Сохранен и добавлен в архив: compound_16211978_c1.json\n",
            "Ошибка при получении данных для формулы 0: 404\n"
          ]
        },
        {
          "output_type": "stream",
          "name": "stderr",
          "text": [
            "\rProcessing compounds:  31%|███▏      | 671/2143 [04:42<09:46,  2.51it/s]"
          ]
        },
        {
          "output_type": "stream",
          "name": "stdout",
          "text": [
            "Сохранен и добавлен в архив: compound_16211978_c1.json\n",
            "Ошибка при получении данных для формулы 0: 404\n",
            "Сохранен и добавлен в архив: compound_16211978_c1.json\n"
          ]
        },
        {
          "output_type": "stream",
          "name": "stderr",
          "text": [
            "\rProcessing compounds:  31%|███▏      | 672/2143 [04:43<10:04,  2.43it/s]"
          ]
        },
        {
          "output_type": "stream",
          "name": "stdout",
          "text": [
            "Ошибка при получении данных для формулы 0: 404\n",
            "Сохранен и добавлен в архив: compound_16211978_c1.json\n"
          ]
        },
        {
          "output_type": "stream",
          "name": "stderr",
          "text": [
            "\rProcessing compounds:  31%|███▏      | 673/2143 [04:43<10:39,  2.30it/s]"
          ]
        },
        {
          "output_type": "stream",
          "name": "stdout",
          "text": [
            "Ошибка при получении данных для формулы 0: 404\n"
          ]
        },
        {
          "output_type": "stream",
          "name": "stderr",
          "text": [
            "\rProcessing compounds:  31%|███▏      | 674/2143 [04:44<10:26,  2.35it/s]"
          ]
        },
        {
          "output_type": "stream",
          "name": "stdout",
          "text": [
            "Сохранен и добавлен в архив: compound_16211978_c1.json\n",
            "Ошибка при получении данных для формулы 0: 404\n"
          ]
        },
        {
          "output_type": "stream",
          "name": "stderr",
          "text": [
            "\rProcessing compounds:  31%|███▏      | 675/2143 [04:44<10:16,  2.38it/s]"
          ]
        },
        {
          "output_type": "stream",
          "name": "stdout",
          "text": [
            "Сохранен и добавлен в архив: compound_16211978_c1.json\n",
            "Ошибка при получении данных для формулы 0: 404\n"
          ]
        },
        {
          "output_type": "stream",
          "name": "stderr",
          "text": [
            "\rProcessing compounds:  32%|███▏      | 676/2143 [04:44<10:06,  2.42it/s]"
          ]
        },
        {
          "output_type": "stream",
          "name": "stdout",
          "text": [
            "Сохранен и добавлен в архив: compound_16211978_c1.json\n",
            "Ошибка при получении данных для формулы 0: 404\n"
          ]
        },
        {
          "output_type": "stream",
          "name": "stderr",
          "text": [
            "\rProcessing compounds:  32%|███▏      | 677/2143 [04:45<09:59,  2.45it/s]"
          ]
        },
        {
          "output_type": "stream",
          "name": "stdout",
          "text": [
            "Сохранен и добавлен в архив: compound_16211978_c1.json\n",
            "Ошибка при получении данных для формулы 0: 404\n"
          ]
        },
        {
          "output_type": "stream",
          "name": "stderr",
          "text": [
            "\rProcessing compounds:  32%|███▏      | 678/2143 [04:45<09:53,  2.47it/s]"
          ]
        },
        {
          "output_type": "stream",
          "name": "stdout",
          "text": [
            "Сохранен и добавлен в архив: compound_16211978_c1.json\n",
            "Ошибка при получении данных для формулы 0: 404\n"
          ]
        },
        {
          "output_type": "stream",
          "name": "stderr",
          "text": [
            "\rProcessing compounds:  32%|███▏      | 679/2143 [04:46<09:48,  2.49it/s]"
          ]
        },
        {
          "output_type": "stream",
          "name": "stdout",
          "text": [
            "Сохранен и добавлен в архив: compound_16211978_c1.json\n",
            "Ошибка при получении данных для формулы 0: 404\n"
          ]
        },
        {
          "output_type": "stream",
          "name": "stderr",
          "text": [
            "\rProcessing compounds:  32%|███▏      | 680/2143 [04:46<09:46,  2.49it/s]"
          ]
        },
        {
          "output_type": "stream",
          "name": "stdout",
          "text": [
            "Сохранен и добавлен в архив: compound_16211978_c1.json\n",
            "Ошибка при получении данных для формулы 0: 404\n"
          ]
        },
        {
          "output_type": "stream",
          "name": "stderr",
          "text": [
            "\rProcessing compounds:  32%|███▏      | 681/2143 [04:46<09:43,  2.51it/s]"
          ]
        },
        {
          "output_type": "stream",
          "name": "stdout",
          "text": [
            "Сохранен и добавлен в архив: compound_16211978_c1.json\n",
            "Ошибка при получении данных для формулы 0: 404\n"
          ]
        },
        {
          "output_type": "stream",
          "name": "stderr",
          "text": [
            "\rProcessing compounds:  32%|███▏      | 682/2143 [04:47<09:42,  2.51it/s]"
          ]
        },
        {
          "output_type": "stream",
          "name": "stdout",
          "text": [
            "Сохранен и добавлен в архив: compound_16211978_c1.json\n",
            "Ошибка при получении данных для формулы 0: 404\n",
            "Сохранен и добавлен в архив: compound_16211978_c1.json\n"
          ]
        },
        {
          "output_type": "stream",
          "name": "stderr",
          "text": [
            "\rProcessing compounds:  32%|███▏      | 683/2143 [04:47<10:00,  2.43it/s]"
          ]
        },
        {
          "output_type": "stream",
          "name": "stdout",
          "text": [
            "Ошибка при получении данных для формулы 0: 404\n",
            "Сохранен и добавлен в архив: compound_16211978_c1.json\n"
          ]
        },
        {
          "output_type": "stream",
          "name": "stderr",
          "text": [
            "\rProcessing compounds:  32%|███▏      | 684/2143 [04:48<09:53,  2.46it/s]"
          ]
        },
        {
          "output_type": "stream",
          "name": "stdout",
          "text": [
            "Ошибка при получении данных для формулы 0: 404\n"
          ]
        },
        {
          "output_type": "stream",
          "name": "stderr",
          "text": [
            "\rProcessing compounds:  32%|███▏      | 685/2143 [04:48<09:48,  2.48it/s]"
          ]
        },
        {
          "output_type": "stream",
          "name": "stdout",
          "text": [
            "Сохранен и добавлен в архив: compound_16211978_c1.json\n",
            "Ошибка при получении данных для формулы 0: 404\n"
          ]
        },
        {
          "output_type": "stream",
          "name": "stderr",
          "text": [
            "\rProcessing compounds:  32%|███▏      | 686/2143 [04:49<09:46,  2.49it/s]"
          ]
        },
        {
          "output_type": "stream",
          "name": "stdout",
          "text": [
            "Сохранен и добавлен в архив: compound_16211978_c1.json\n",
            "Ошибка при получении данных для формулы 0: 404\n"
          ]
        },
        {
          "output_type": "stream",
          "name": "stderr",
          "text": [
            "\rProcessing compounds:  32%|███▏      | 687/2143 [04:49<09:43,  2.50it/s]"
          ]
        },
        {
          "output_type": "stream",
          "name": "stdout",
          "text": [
            "Сохранен и добавлен в архив: compound_16211978_c1.json\n",
            "Ошибка при получении данных для формулы 0: 404\n"
          ]
        },
        {
          "output_type": "stream",
          "name": "stderr",
          "text": [
            "\rProcessing compounds:  32%|███▏      | 688/2143 [04:49<09:41,  2.50it/s]"
          ]
        },
        {
          "output_type": "stream",
          "name": "stdout",
          "text": [
            "Сохранен и добавлен в архив: compound_16211978_c1.json\n",
            "Ошибка при получении данных для формулы 0: 404\n",
            "Сохранен и добавлен в архив: compound_16211978_c1.json\n"
          ]
        },
        {
          "output_type": "stream",
          "name": "stderr",
          "text": [
            "\rProcessing compounds:  32%|███▏      | 689/2143 [04:50<09:48,  2.47it/s]"
          ]
        },
        {
          "output_type": "stream",
          "name": "stdout",
          "text": [
            "Ошибка при получении данных для формулы 0: 404\n"
          ]
        },
        {
          "output_type": "stream",
          "name": "stderr",
          "text": [
            "\rProcessing compounds:  32%|███▏      | 690/2143 [04:50<09:49,  2.47it/s]"
          ]
        },
        {
          "output_type": "stream",
          "name": "stdout",
          "text": [
            "Сохранен и добавлен в архив: compound_16211978_c1.json\n",
            "Ошибка при получении данных для формулы 0: 404\n"
          ]
        },
        {
          "output_type": "stream",
          "name": "stderr",
          "text": [
            "\rProcessing compounds:  32%|███▏      | 691/2143 [04:51<09:45,  2.48it/s]"
          ]
        },
        {
          "output_type": "stream",
          "name": "stdout",
          "text": [
            "Сохранен и добавлен в архив: compound_16211978_c1.json\n",
            "Ошибка при получении данных для формулы 0: 404\n"
          ]
        },
        {
          "output_type": "stream",
          "name": "stderr",
          "text": [
            "\rProcessing compounds:  32%|███▏      | 692/2143 [04:51<09:42,  2.49it/s]"
          ]
        },
        {
          "output_type": "stream",
          "name": "stdout",
          "text": [
            "Сохранен и добавлен в архив: compound_16211978_c1.json\n",
            "Ошибка при получении данных для формулы 0: 404\n"
          ]
        },
        {
          "output_type": "stream",
          "name": "stderr",
          "text": [
            "\rProcessing compounds:  32%|███▏      | 693/2143 [04:51<09:40,  2.50it/s]"
          ]
        },
        {
          "output_type": "stream",
          "name": "stdout",
          "text": [
            "Сохранен и добавлен в архив: compound_16211978_c1.json\n",
            "Ошибка при получении данных для формулы 0: 404\n"
          ]
        },
        {
          "output_type": "stream",
          "name": "stderr",
          "text": [
            "\rProcessing compounds:  32%|███▏      | 694/2143 [04:52<09:38,  2.50it/s]"
          ]
        },
        {
          "output_type": "stream",
          "name": "stdout",
          "text": [
            "Сохранен и добавлен в архив: compound_16211978_c1.json\n",
            "Ошибка при получении данных для формулы 0: 404\n"
          ]
        },
        {
          "output_type": "stream",
          "name": "stderr",
          "text": [
            "\rProcessing compounds:  32%|███▏      | 695/2143 [04:52<09:42,  2.49it/s]"
          ]
        },
        {
          "output_type": "stream",
          "name": "stdout",
          "text": [
            "Сохранен и добавлен в архив: compound_16211978_c1.json\n",
            "Ошибка при получении данных для формулы 0: 404\n",
            "Сохранен и добавлен в архив: compound_16211978_c1.json\n"
          ]
        },
        {
          "output_type": "stream",
          "name": "stderr",
          "text": [
            "\rProcessing compounds:  32%|███▏      | 696/2143 [04:53<11:17,  2.13it/s]"
          ]
        },
        {
          "output_type": "stream",
          "name": "stdout",
          "text": [
            "Ошибка при получении данных для формулы 0: 404\n"
          ]
        },
        {
          "output_type": "stream",
          "name": "stderr",
          "text": [
            "\rProcessing compounds:  33%|███▎      | 697/2143 [04:53<10:47,  2.23it/s]"
          ]
        },
        {
          "output_type": "stream",
          "name": "stdout",
          "text": [
            "Сохранен и добавлен в архив: compound_16211978_c1.json\n",
            "Ошибка при получении данных для формулы 0: 404\n"
          ]
        },
        {
          "output_type": "stream",
          "name": "stderr",
          "text": [
            "\rProcessing compounds:  33%|███▎      | 698/2143 [04:54<10:24,  2.31it/s]"
          ]
        },
        {
          "output_type": "stream",
          "name": "stdout",
          "text": [
            "Сохранен и добавлен в архив: compound_16211978_c1.json\n",
            "Ошибка при получении данных для формулы 0: 404\n"
          ]
        },
        {
          "output_type": "stream",
          "name": "stderr",
          "text": [
            "\rProcessing compounds:  33%|███▎      | 699/2143 [04:54<10:08,  2.37it/s]"
          ]
        },
        {
          "output_type": "stream",
          "name": "stdout",
          "text": [
            "Сохранен и добавлен в архив: compound_16211978_c1.json\n",
            "Ошибка при получении данных для формулы 0: 404\n"
          ]
        },
        {
          "output_type": "stream",
          "name": "stderr",
          "text": [
            "\rProcessing compounds:  33%|███▎      | 700/2143 [04:54<10:08,  2.37it/s]"
          ]
        },
        {
          "output_type": "stream",
          "name": "stdout",
          "text": [
            "Сохранен и добавлен в архив: compound_16211978_c1.json\n",
            "Ошибка при получении данных для формулы 0: 404\n",
            "Сохранен и добавлен в архив: compound_16211978_c1.json\n"
          ]
        },
        {
          "output_type": "stream",
          "name": "stderr",
          "text": [
            "\rProcessing compounds:  33%|███▎      | 701/2143 [04:55<10:33,  2.27it/s]"
          ]
        },
        {
          "output_type": "stream",
          "name": "stdout",
          "text": [
            "Ошибка при получении данных для формулы 0: 404\n",
            "Сохранен и добавлен в архив: compound_16211978_c1.json\n",
            "Ошибка при получении данных для формулы 0: 404\n"
          ]
        },
        {
          "output_type": "stream",
          "name": "stderr",
          "text": [
            "Processing compounds:  33%|███▎      | 703/2143 [04:56<10:13,  2.35it/s]"
          ]
        },
        {
          "output_type": "stream",
          "name": "stdout",
          "text": [
            "Сохранен и добавлен в архив: compound_16211978_c1.json\n",
            "Ошибка при получении данных для формулы 0: 404\n"
          ]
        },
        {
          "output_type": "stream",
          "name": "stderr",
          "text": [
            "\rProcessing compounds:  33%|███▎      | 704/2143 [04:56<10:02,  2.39it/s]"
          ]
        },
        {
          "output_type": "stream",
          "name": "stdout",
          "text": [
            "Сохранен и добавлен в архив: compound_16211978_c1.json\n",
            "Ошибка при получении данных для формулы 0: 404\n"
          ]
        },
        {
          "output_type": "stream",
          "name": "stderr",
          "text": [
            "\rProcessing compounds:  33%|███▎      | 705/2143 [04:56<09:53,  2.42it/s]"
          ]
        },
        {
          "output_type": "stream",
          "name": "stdout",
          "text": [
            "Сохранен и добавлен в архив: compound_16211978_c1.json\n",
            "Ошибка при получении данных для формулы 0: 404\n"
          ]
        },
        {
          "output_type": "stream",
          "name": "stderr",
          "text": [
            "\rProcessing compounds:  33%|███▎      | 706/2143 [04:57<09:47,  2.45it/s]"
          ]
        },
        {
          "output_type": "stream",
          "name": "stdout",
          "text": [
            "Сохранен и добавлен в архив: compound_16211978_c1.json\n",
            "Ошибка при получении данных для формулы 0: 404\n"
          ]
        },
        {
          "output_type": "stream",
          "name": "stderr",
          "text": [
            "\rProcessing compounds:  33%|███▎      | 707/2143 [04:57<09:43,  2.46it/s]"
          ]
        },
        {
          "output_type": "stream",
          "name": "stdout",
          "text": [
            "Сохранен и добавлен в архив: compound_16211978_c1.json\n",
            "Ошибка при получении данных для формулы 0: 404\n"
          ]
        },
        {
          "output_type": "stream",
          "name": "stderr",
          "text": [
            "\rProcessing compounds:  33%|███▎      | 708/2143 [04:58<10:02,  2.38it/s]"
          ]
        },
        {
          "output_type": "stream",
          "name": "stdout",
          "text": [
            "Сохранен и добавлен в архив: compound_16211978_c1.json\n",
            "Ошибка при получении данных для формулы 0: 404\n"
          ]
        },
        {
          "output_type": "stream",
          "name": "stderr",
          "text": [
            "\rProcessing compounds:  33%|███▎      | 709/2143 [04:58<09:53,  2.42it/s]"
          ]
        },
        {
          "output_type": "stream",
          "name": "stdout",
          "text": [
            "Сохранен и добавлен в архив: compound_16211978_c1.json\n",
            "Ошибка при получении данных для формулы 0: 404\n"
          ]
        },
        {
          "output_type": "stream",
          "name": "stderr",
          "text": [
            "\rProcessing compounds:  33%|███▎      | 710/2143 [04:59<09:46,  2.44it/s]"
          ]
        },
        {
          "output_type": "stream",
          "name": "stdout",
          "text": [
            "Сохранен и добавлен в архив: compound_16211978_c1.json\n",
            "Ошибка при получении данных для формулы 0: 404\n"
          ]
        },
        {
          "output_type": "stream",
          "name": "stderr",
          "text": [
            "\rProcessing compounds:  33%|███▎      | 711/2143 [04:59<09:40,  2.47it/s]"
          ]
        },
        {
          "output_type": "stream",
          "name": "stdout",
          "text": [
            "Сохранен и добавлен в архив: compound_16211978_c1.json\n",
            "Ошибка при получении данных для формулы 0: 404\n"
          ]
        },
        {
          "output_type": "stream",
          "name": "stderr",
          "text": [
            "\rProcessing compounds:  33%|███▎      | 712/2143 [04:59<09:35,  2.49it/s]"
          ]
        },
        {
          "output_type": "stream",
          "name": "stdout",
          "text": [
            "Сохранен и добавлен в архив: compound_16211978_c1.json\n",
            "Ошибка при получении данных для формулы 0: 404\n"
          ]
        },
        {
          "output_type": "stream",
          "name": "stderr",
          "text": [
            "\rProcessing compounds:  33%|███▎      | 713/2143 [05:00<09:33,  2.49it/s]"
          ]
        },
        {
          "output_type": "stream",
          "name": "stdout",
          "text": [
            "Сохранен и добавлен в архив: compound_16211978_c1.json\n",
            "Ошибка при получении данных для формулы 0: 404\n"
          ]
        },
        {
          "output_type": "stream",
          "name": "stderr",
          "text": [
            "\rProcessing compounds:  33%|███▎      | 714/2143 [05:00<09:31,  2.50it/s]"
          ]
        },
        {
          "output_type": "stream",
          "name": "stdout",
          "text": [
            "Сохранен и добавлен в архив: compound_16211978_c1.json\n",
            "Ошибка при получении данных для формулы 0: 404\n"
          ]
        },
        {
          "output_type": "stream",
          "name": "stderr",
          "text": [
            "\rProcessing compounds:  33%|███▎      | 715/2143 [05:01<09:58,  2.39it/s]"
          ]
        },
        {
          "output_type": "stream",
          "name": "stdout",
          "text": [
            "Сохранен и добавлен в архив: compound_16211978_c1.json\n",
            "Ошибка при получении данных для формулы 0: 404\n",
            "Сохранен и добавлен в архив: compound_16211978_c1.json\n"
          ]
        },
        {
          "output_type": "stream",
          "name": "stderr",
          "text": [
            "\rProcessing compounds:  33%|███▎      | 716/2143 [05:01<10:35,  2.24it/s]"
          ]
        },
        {
          "output_type": "stream",
          "name": "stdout",
          "text": [
            "Ошибка при получении данных для формулы 0: 404\n"
          ]
        },
        {
          "output_type": "stream",
          "name": "stderr",
          "text": [
            "\rProcessing compounds:  33%|███▎      | 717/2143 [05:02<10:33,  2.25it/s]"
          ]
        },
        {
          "output_type": "stream",
          "name": "stdout",
          "text": [
            "Сохранен и добавлен в архив: compound_16211978_c1.json\n",
            "Ошибка при получении данных для формулы 0: 404\n"
          ]
        },
        {
          "output_type": "stream",
          "name": "stderr",
          "text": [
            "\rProcessing compounds:  34%|███▎      | 718/2143 [05:02<10:13,  2.32it/s]"
          ]
        },
        {
          "output_type": "stream",
          "name": "stdout",
          "text": [
            "Сохранен и добавлен в архив: compound_16211978_c1.json\n",
            "Ошибка при получении данных для формулы 0: 404\n",
            "Сохранен и добавлен в архив: compound_16211978_c1.json\n"
          ]
        },
        {
          "output_type": "stream",
          "name": "stderr",
          "text": [
            "\rProcessing compounds:  34%|███▎      | 719/2143 [05:02<10:58,  2.16it/s]"
          ]
        },
        {
          "output_type": "stream",
          "name": "stdout",
          "text": [
            "Ошибка при получении данных для формулы 0: 404\n"
          ]
        },
        {
          "output_type": "stream",
          "name": "stderr",
          "text": [
            "\rProcessing compounds:  34%|███▎      | 720/2143 [05:03<10:30,  2.26it/s]"
          ]
        },
        {
          "output_type": "stream",
          "name": "stdout",
          "text": [
            "Сохранен и добавлен в архив: compound_16211978_c1.json\n",
            "Ошибка при получении данных для формулы 0: 404\n"
          ]
        },
        {
          "output_type": "stream",
          "name": "stderr",
          "text": [
            "\rProcessing compounds:  34%|███▎      | 721/2143 [05:03<10:11,  2.33it/s]"
          ]
        },
        {
          "output_type": "stream",
          "name": "stdout",
          "text": [
            "Сохранен и добавлен в архив: compound_16211978_c1.json\n",
            "Ошибка при получении данных для формулы 0: 404\n"
          ]
        },
        {
          "output_type": "stream",
          "name": "stderr",
          "text": [
            "\rProcessing compounds:  34%|███▎      | 722/2143 [05:04<09:56,  2.38it/s]"
          ]
        },
        {
          "output_type": "stream",
          "name": "stdout",
          "text": [
            "Сохранен и добавлен в архив: compound_16211978_c1.json\n",
            "Ошибка при получении данных для формулы 0: 404\n"
          ]
        },
        {
          "output_type": "stream",
          "name": "stderr",
          "text": [
            "\rProcessing compounds:  34%|███▎      | 723/2143 [05:04<09:46,  2.42it/s]"
          ]
        },
        {
          "output_type": "stream",
          "name": "stdout",
          "text": [
            "Сохранен и добавлен в архив: compound_16211978_c1.json\n",
            "Ошибка при получении данных для формулы 0: 404\n"
          ]
        },
        {
          "output_type": "stream",
          "name": "stderr",
          "text": [
            "\rProcessing compounds:  34%|███▍      | 724/2143 [05:04<09:39,  2.45it/s]"
          ]
        },
        {
          "output_type": "stream",
          "name": "stdout",
          "text": [
            "Сохранен и добавлен в архив: compound_16211978_c1.json\n",
            "Ошибка при получении данных для формулы 0: 404\n",
            "Сохранен и добавлен в архив: compound_16211978_c1.json\n"
          ]
        },
        {
          "output_type": "stream",
          "name": "stderr",
          "text": [
            "\rProcessing compounds:  34%|███▍      | 725/2143 [05:05<09:55,  2.38it/s]"
          ]
        },
        {
          "output_type": "stream",
          "name": "stdout",
          "text": [
            "Ошибка при получении данных для формулы 0: 404\n"
          ]
        },
        {
          "output_type": "stream",
          "name": "stderr",
          "text": [
            "\rProcessing compounds:  34%|███▍      | 726/2143 [05:05<09:49,  2.41it/s]"
          ]
        },
        {
          "output_type": "stream",
          "name": "stdout",
          "text": [
            "Сохранен и добавлен в архив: compound_16211978_c1.json\n",
            "Ошибка при получении данных для формулы 0: 404\n"
          ]
        },
        {
          "output_type": "stream",
          "name": "stderr",
          "text": [
            "\rProcessing compounds:  34%|███▍      | 727/2143 [05:06<09:48,  2.41it/s]"
          ]
        },
        {
          "output_type": "stream",
          "name": "stdout",
          "text": [
            "Сохранен и добавлен в архив: compound_16211978_c1.json\n",
            "Ошибка при получении данных для формулы 0: 404\n"
          ]
        },
        {
          "output_type": "stream",
          "name": "stderr",
          "text": [
            "\rProcessing compounds:  34%|███▍      | 728/2143 [05:06<09:39,  2.44it/s]"
          ]
        },
        {
          "output_type": "stream",
          "name": "stdout",
          "text": [
            "Сохранен и добавлен в архив: compound_16211978_c1.json\n",
            "Ошибка при получении данных для формулы 0: 404\n"
          ]
        },
        {
          "output_type": "stream",
          "name": "stderr",
          "text": [
            "\rProcessing compounds:  34%|███▍      | 729/2143 [05:07<09:37,  2.45it/s]"
          ]
        },
        {
          "output_type": "stream",
          "name": "stdout",
          "text": [
            "Сохранен и добавлен в архив: compound_16211978_c1.json\n",
            "Ошибка при получении данных для формулы 0: 404\n"
          ]
        },
        {
          "output_type": "stream",
          "name": "stderr",
          "text": [
            "\rProcessing compounds:  34%|███▍      | 730/2143 [05:07<09:34,  2.46it/s]"
          ]
        },
        {
          "output_type": "stream",
          "name": "stdout",
          "text": [
            "Сохранен и добавлен в архив: compound_16211978_c1.json\n",
            "Ошибка при получении данных для формулы 0: 404\n"
          ]
        },
        {
          "output_type": "stream",
          "name": "stderr",
          "text": [
            "\rProcessing compounds:  34%|███▍      | 731/2143 [05:07<09:33,  2.46it/s]"
          ]
        },
        {
          "output_type": "stream",
          "name": "stdout",
          "text": [
            "Сохранен и добавлен в архив: compound_16211978_c1.json\n",
            "Ошибка при получении данных для формулы 0: 404\n"
          ]
        },
        {
          "output_type": "stream",
          "name": "stderr",
          "text": [
            "\rProcessing compounds:  34%|███▍      | 732/2143 [05:08<09:39,  2.44it/s]"
          ]
        },
        {
          "output_type": "stream",
          "name": "stdout",
          "text": [
            "Сохранен и добавлен в архив: compound_16211978_c1.json\n",
            "Ошибка при получении данных для формулы 0: 404\n"
          ]
        },
        {
          "output_type": "stream",
          "name": "stderr",
          "text": [
            "\rProcessing compounds:  34%|███▍      | 733/2143 [05:08<09:41,  2.42it/s]"
          ]
        },
        {
          "output_type": "stream",
          "name": "stdout",
          "text": [
            "Сохранен и добавлен в архив: compound_16211978_c1.json\n",
            "Ошибка при получении данных для формулы 0: 404\n"
          ]
        },
        {
          "output_type": "stream",
          "name": "stderr",
          "text": [
            "\rProcessing compounds:  34%|███▍      | 734/2143 [05:09<09:45,  2.41it/s]"
          ]
        },
        {
          "output_type": "stream",
          "name": "stdout",
          "text": [
            "Сохранен и добавлен в архив: compound_16211978_c1.json\n",
            "Ошибка при получении данных для формулы 0: 404\n"
          ]
        },
        {
          "output_type": "stream",
          "name": "stderr",
          "text": [
            "\rProcessing compounds:  34%|███▍      | 735/2143 [05:09<10:15,  2.29it/s]"
          ]
        },
        {
          "output_type": "stream",
          "name": "stdout",
          "text": [
            "Сохранен и добавлен в архив: compound_16211978_c1.json\n",
            "Ошибка при получении данных для формулы 0: 404\n"
          ]
        },
        {
          "output_type": "stream",
          "name": "stderr",
          "text": [
            "\rProcessing compounds:  34%|███▍      | 736/2143 [05:09<09:57,  2.35it/s]"
          ]
        },
        {
          "output_type": "stream",
          "name": "stdout",
          "text": [
            "Сохранен и добавлен в архив: compound_16211978_c1.json\n",
            "Ошибка при получении данных для формулы 0: 404\n"
          ]
        },
        {
          "output_type": "stream",
          "name": "stderr",
          "text": [
            "\rProcessing compounds:  34%|███▍      | 737/2143 [05:10<09:45,  2.40it/s]"
          ]
        },
        {
          "output_type": "stream",
          "name": "stdout",
          "text": [
            "Сохранен и добавлен в архив: compound_16211978_c1.json\n",
            "Ошибка при получении данных для формулы 0: 404\n"
          ]
        },
        {
          "output_type": "stream",
          "name": "stderr",
          "text": [
            "\rProcessing compounds:  34%|███▍      | 738/2143 [05:10<09:35,  2.44it/s]"
          ]
        },
        {
          "output_type": "stream",
          "name": "stdout",
          "text": [
            "Сохранен и добавлен в архив: compound_16211978_c1.json\n",
            "Ошибка при получении данных для формулы 0: 404\n"
          ]
        },
        {
          "output_type": "stream",
          "name": "stderr",
          "text": [
            "\rProcessing compounds:  34%|███▍      | 739/2143 [05:11<09:32,  2.45it/s]"
          ]
        },
        {
          "output_type": "stream",
          "name": "stdout",
          "text": [
            "Сохранен и добавлен в архив: compound_16211978_c1.json\n",
            "Ошибка при получении данных для формулы 0: 404\n"
          ]
        },
        {
          "output_type": "stream",
          "name": "stderr",
          "text": [
            "\rProcessing compounds:  35%|███▍      | 740/2143 [05:11<09:26,  2.48it/s]"
          ]
        },
        {
          "output_type": "stream",
          "name": "stdout",
          "text": [
            "Сохранен и добавлен в архив: compound_16211978_c1.json\n",
            "Ошибка при получении данных для формулы 0: 404\n"
          ]
        },
        {
          "output_type": "stream",
          "name": "stderr",
          "text": [
            "\rProcessing compounds:  35%|███▍      | 741/2143 [05:11<09:23,  2.49it/s]"
          ]
        },
        {
          "output_type": "stream",
          "name": "stdout",
          "text": [
            "Сохранен и добавлен в архив: compound_16211978_c1.json\n",
            "Ошибка при получении данных для формулы 0: 404\n"
          ]
        },
        {
          "output_type": "stream",
          "name": "stderr",
          "text": [
            "\rProcessing compounds:  35%|███▍      | 742/2143 [05:12<09:20,  2.50it/s]"
          ]
        },
        {
          "output_type": "stream",
          "name": "stdout",
          "text": [
            "Сохранен и добавлен в архив: compound_16211978_c1.json\n",
            "Ошибка при получении данных для формулы 0: 404\n"
          ]
        },
        {
          "output_type": "stream",
          "name": "stderr",
          "text": [
            "\rProcessing compounds:  35%|███▍      | 743/2143 [05:12<09:20,  2.50it/s]"
          ]
        },
        {
          "output_type": "stream",
          "name": "stdout",
          "text": [
            "Сохранен и добавлен в архив: compound_16211978_c1.json\n",
            "Ошибка при получении данных для формулы 0: 404\n"
          ]
        },
        {
          "output_type": "stream",
          "name": "stderr",
          "text": [
            "\rProcessing compounds:  35%|███▍      | 744/2143 [05:13<09:18,  2.51it/s]"
          ]
        },
        {
          "output_type": "stream",
          "name": "stdout",
          "text": [
            "Сохранен и добавлен в архив: compound_16211978_c1.json\n",
            "Ошибка при получении данных для формулы 0: 404\n"
          ]
        },
        {
          "output_type": "stream",
          "name": "stderr",
          "text": [
            "\rProcessing compounds:  35%|███▍      | 745/2143 [05:13<09:21,  2.49it/s]"
          ]
        },
        {
          "output_type": "stream",
          "name": "stdout",
          "text": [
            "Сохранен и добавлен в архив: compound_16211978_c1.json\n",
            "Ошибка при получении данных для формулы 0: 404\n",
            "Сохранен и добавлен в архив: compound_16211978_c1.json\n"
          ]
        },
        {
          "output_type": "stream",
          "name": "stderr",
          "text": [
            "\rProcessing compounds:  35%|███▍      | 746/2143 [05:14<09:55,  2.35it/s]"
          ]
        },
        {
          "output_type": "stream",
          "name": "stdout",
          "text": [
            "Ошибка при получении данных для формулы 0: 404\n",
            "Сохранен и добавлен в архив: compound_16211978_c1.json\n"
          ]
        },
        {
          "output_type": "stream",
          "name": "stderr",
          "text": [
            "\rProcessing compounds:  35%|███▍      | 747/2143 [05:14<09:42,  2.40it/s]"
          ]
        },
        {
          "output_type": "stream",
          "name": "stdout",
          "text": [
            "Ошибка при получении данных для формулы 0: 404\n",
            "Сохранен и добавлен в архив: compound_16211978_c1.json\n"
          ]
        },
        {
          "output_type": "stream",
          "name": "stderr",
          "text": [
            "\rProcessing compounds:  35%|███▍      | 748/2143 [05:14<09:33,  2.43it/s]"
          ]
        },
        {
          "output_type": "stream",
          "name": "stdout",
          "text": [
            "Ошибка при получении данных для формулы 0: 404\n",
            "Сохранен и добавлен в архив: compound_16211978_c1.json\n"
          ]
        },
        {
          "output_type": "stream",
          "name": "stderr",
          "text": [
            "\rProcessing compounds:  35%|███▍      | 749/2143 [05:15<10:30,  2.21it/s]"
          ]
        },
        {
          "output_type": "stream",
          "name": "stdout",
          "text": [
            "Ошибка при получении данных для формулы 0: 404\n"
          ]
        },
        {
          "output_type": "stream",
          "name": "stderr",
          "text": [
            "\rProcessing compounds:  35%|███▍      | 750/2143 [05:15<10:21,  2.24it/s]"
          ]
        },
        {
          "output_type": "stream",
          "name": "stdout",
          "text": [
            "Сохранен и добавлен в архив: compound_16211978_c1.json\n",
            "Ошибка при получении данных для формулы 0: 404\n"
          ]
        },
        {
          "output_type": "stream",
          "name": "stderr",
          "text": [
            "\rProcessing compounds:  35%|███▌      | 751/2143 [05:16<10:00,  2.32it/s]"
          ]
        },
        {
          "output_type": "stream",
          "name": "stdout",
          "text": [
            "Сохранен и добавлен в архив: compound_16211978_c1.json\n",
            "Ошибка при получении данных для формулы 0: 404\n",
            "Сохранен и добавлен в архив: compound_16211978_c1.json\n"
          ]
        },
        {
          "output_type": "stream",
          "name": "stderr",
          "text": [
            "\rProcessing compounds:  35%|███▌      | 752/2143 [05:16<10:29,  2.21it/s]"
          ]
        },
        {
          "output_type": "stream",
          "name": "stdout",
          "text": [
            "Ошибка при получении данных для формулы 0: 404\n"
          ]
        },
        {
          "output_type": "stream",
          "name": "stderr",
          "text": [
            "\rProcessing compounds:  35%|███▌      | 753/2143 [05:17<10:06,  2.29it/s]"
          ]
        },
        {
          "output_type": "stream",
          "name": "stdout",
          "text": [
            "Сохранен и добавлен в архив: compound_16211978_c1.json\n",
            "Ошибка при получении данных для формулы 0: 404\n"
          ]
        },
        {
          "output_type": "stream",
          "name": "stderr",
          "text": [
            "\rProcessing compounds:  35%|███▌      | 754/2143 [05:17<09:49,  2.36it/s]"
          ]
        },
        {
          "output_type": "stream",
          "name": "stdout",
          "text": [
            "Сохранен и добавлен в архив: compound_16211978_c1.json\n",
            "Ошибка при получении данных для формулы 0: 404\n"
          ]
        },
        {
          "output_type": "stream",
          "name": "stderr",
          "text": [
            "\rProcessing compounds:  35%|███▌      | 755/2143 [05:17<09:36,  2.41it/s]"
          ]
        },
        {
          "output_type": "stream",
          "name": "stdout",
          "text": [
            "Сохранен и добавлен в архив: compound_16211978_c1.json\n",
            "Ошибка при получении данных для формулы 0: 404\n"
          ]
        },
        {
          "output_type": "stream",
          "name": "stderr",
          "text": [
            "\rProcessing compounds:  35%|███▌      | 756/2143 [05:18<09:28,  2.44it/s]"
          ]
        },
        {
          "output_type": "stream",
          "name": "stdout",
          "text": [
            "Сохранен и добавлен в архив: compound_16211978_c1.json\n",
            "Ошибка при получении данных для формулы 0: 404\n"
          ]
        },
        {
          "output_type": "stream",
          "name": "stderr",
          "text": [
            "\rProcessing compounds:  35%|███▌      | 757/2143 [05:18<09:22,  2.46it/s]"
          ]
        },
        {
          "output_type": "stream",
          "name": "stdout",
          "text": [
            "Сохранен и добавлен в архив: compound_16211978_c1.json\n",
            "Ошибка при получении данных для формулы 0: 404\n"
          ]
        },
        {
          "output_type": "stream",
          "name": "stderr",
          "text": [
            "\rProcessing compounds:  35%|███▌      | 758/2143 [05:19<09:20,  2.47it/s]"
          ]
        },
        {
          "output_type": "stream",
          "name": "stdout",
          "text": [
            "Сохранен и добавлен в архив: compound_16211978_c1.json\n",
            "Ошибка при получении данных для формулы 0: 404\n"
          ]
        },
        {
          "output_type": "stream",
          "name": "stderr",
          "text": [
            "\rProcessing compounds:  35%|███▌      | 759/2143 [05:19<09:20,  2.47it/s]"
          ]
        },
        {
          "output_type": "stream",
          "name": "stdout",
          "text": [
            "Сохранен и добавлен в архив: compound_16211978_c1.json\n",
            "Ошибка при получении данных для формулы 0: 404\n",
            "Сохранен и добавлен в архив: compound_16211978_c1.json\n"
          ]
        },
        {
          "output_type": "stream",
          "name": "stderr",
          "text": [
            "\rProcessing compounds:  35%|███▌      | 760/2143 [05:19<09:49,  2.34it/s]"
          ]
        },
        {
          "output_type": "stream",
          "name": "stdout",
          "text": [
            "Ошибка при получении данных для формулы 0: 404\n",
            "Сохранен и добавлен в архив: compound_16211978_c1.json\n"
          ]
        },
        {
          "output_type": "stream",
          "name": "stderr",
          "text": [
            "\rProcessing compounds:  36%|███▌      | 761/2143 [05:20<09:48,  2.35it/s]"
          ]
        },
        {
          "output_type": "stream",
          "name": "stdout",
          "text": [
            "Ошибка при получении данных для формулы 0: 404\n",
            "Сохранен и добавлен в архив: compound_16211978_c1.json\n"
          ]
        },
        {
          "output_type": "stream",
          "name": "stderr",
          "text": [
            "\rProcessing compounds:  36%|███▌      | 762/2143 [05:20<09:51,  2.33it/s]"
          ]
        },
        {
          "output_type": "stream",
          "name": "stdout",
          "text": [
            "Ошибка при получении данных для формулы 0: 404\n",
            "Сохранен и добавлен в архив: compound_16211978_c1.json\n"
          ]
        },
        {
          "output_type": "stream",
          "name": "stderr",
          "text": [
            "\rProcessing compounds:  36%|███▌      | 763/2143 [05:21<09:38,  2.39it/s]"
          ]
        },
        {
          "output_type": "stream",
          "name": "stdout",
          "text": [
            "Ошибка при получении данных для формулы 0: 404\n",
            "Сохранен и добавлен в архив: compound_16211978_c1.json\n"
          ]
        },
        {
          "output_type": "stream",
          "name": "stderr",
          "text": [
            "\rProcessing compounds:  36%|███▌      | 764/2143 [05:21<09:28,  2.43it/s]"
          ]
        },
        {
          "output_type": "stream",
          "name": "stdout",
          "text": [
            "Ошибка при получении данных для формулы 0: 404\n"
          ]
        },
        {
          "output_type": "stream",
          "name": "stderr",
          "text": [
            "\rProcessing compounds:  36%|███▌      | 765/2143 [05:22<09:22,  2.45it/s]"
          ]
        },
        {
          "output_type": "stream",
          "name": "stdout",
          "text": [
            "Сохранен и добавлен в архив: compound_16211978_c1.json\n",
            "Ошибка при получении данных для формулы 0: 404\n"
          ]
        },
        {
          "output_type": "stream",
          "name": "stderr",
          "text": [
            "\rProcessing compounds:  36%|███▌      | 766/2143 [05:22<09:17,  2.47it/s]"
          ]
        },
        {
          "output_type": "stream",
          "name": "stdout",
          "text": [
            "Сохранен и добавлен в архив: compound_16211978_c1.json\n",
            "Ошибка при получении данных для формулы 0: 404\n"
          ]
        },
        {
          "output_type": "stream",
          "name": "stderr",
          "text": [
            "\rProcessing compounds:  36%|███▌      | 767/2143 [05:22<09:12,  2.49it/s]"
          ]
        },
        {
          "output_type": "stream",
          "name": "stdout",
          "text": [
            "Сохранен и добавлен в архив: compound_16211978_c1.json\n",
            "Ошибка при получении данных для формулы 0: 404\n"
          ]
        },
        {
          "output_type": "stream",
          "name": "stderr",
          "text": [
            "\rProcessing compounds:  36%|███▌      | 768/2143 [05:23<09:09,  2.50it/s]"
          ]
        },
        {
          "output_type": "stream",
          "name": "stdout",
          "text": [
            "Сохранен и добавлен в архив: compound_16211978_c1.json\n",
            "Ошибка при получении данных для формулы 0: 404\n"
          ]
        },
        {
          "output_type": "stream",
          "name": "stderr",
          "text": [
            "\rProcessing compounds:  36%|███▌      | 769/2143 [05:23<09:08,  2.51it/s]"
          ]
        },
        {
          "output_type": "stream",
          "name": "stdout",
          "text": [
            "Сохранен и добавлен в архив: compound_16211978_c1.json\n",
            "Ошибка при получении данных для формулы 0: 404\n"
          ]
        },
        {
          "output_type": "stream",
          "name": "stderr",
          "text": [
            "\rProcessing compounds:  36%|███▌      | 770/2143 [05:24<09:07,  2.51it/s]"
          ]
        },
        {
          "output_type": "stream",
          "name": "stdout",
          "text": [
            "Сохранен и добавлен в архив: compound_16211978_c1.json\n",
            "Ошибка при получении данных для формулы 0: 404\n"
          ]
        },
        {
          "output_type": "stream",
          "name": "stderr",
          "text": [
            "\rProcessing compounds:  36%|███▌      | 771/2143 [05:24<09:06,  2.51it/s]"
          ]
        },
        {
          "output_type": "stream",
          "name": "stdout",
          "text": [
            "Сохранен и добавлен в архив: compound_16211978_c1.json\n",
            "Ошибка при получении данных для формулы 0: 404\n",
            "Сохранен и добавлен в архив: compound_16211978_c1.json\n"
          ]
        },
        {
          "output_type": "stream",
          "name": "stderr",
          "text": [
            "\rProcessing compounds:  36%|███▌      | 772/2143 [05:24<10:05,  2.27it/s]"
          ]
        },
        {
          "output_type": "stream",
          "name": "stdout",
          "text": [
            "Ошибка при получении данных для формулы 0: 404\n",
            "Сохранен и добавлен в архив: compound_16211978_c1.json\n"
          ]
        },
        {
          "output_type": "stream",
          "name": "stderr",
          "text": [
            "\rProcessing compounds:  36%|███▌      | 773/2143 [05:25<10:03,  2.27it/s]"
          ]
        },
        {
          "output_type": "stream",
          "name": "stdout",
          "text": [
            "Ошибка при получении данных для формулы 0: 404\n"
          ]
        },
        {
          "output_type": "stream",
          "name": "stderr",
          "text": [
            "\rProcessing compounds:  36%|███▌      | 774/2143 [05:25<09:45,  2.34it/s]"
          ]
        },
        {
          "output_type": "stream",
          "name": "stdout",
          "text": [
            "Сохранен и добавлен в архив: compound_16211978_c1.json\n",
            "Ошибка при получении данных для формулы 0: 404\n"
          ]
        },
        {
          "output_type": "stream",
          "name": "stderr",
          "text": [
            "\rProcessing compounds:  36%|███▌      | 775/2143 [05:26<09:56,  2.29it/s]"
          ]
        },
        {
          "output_type": "stream",
          "name": "stdout",
          "text": [
            "Сохранен и добавлен в архив: compound_16211978_c1.json\n",
            "Ошибка при получении данных для формулы 0: 404\n"
          ]
        },
        {
          "output_type": "stream",
          "name": "stderr",
          "text": [
            "\rProcessing compounds:  36%|███▌      | 776/2143 [05:26<09:43,  2.34it/s]"
          ]
        },
        {
          "output_type": "stream",
          "name": "stdout",
          "text": [
            "Сохранен и добавлен в архив: compound_16211978_c1.json\n",
            "Ошибка при получении данных для формулы 0: 404\n"
          ]
        },
        {
          "output_type": "stream",
          "name": "stderr",
          "text": [
            "\rProcessing compounds:  36%|███▋      | 777/2143 [05:27<09:30,  2.40it/s]"
          ]
        },
        {
          "output_type": "stream",
          "name": "stdout",
          "text": [
            "Сохранен и добавлен в архив: compound_16211978_c1.json\n",
            "Ошибка при получении данных для формулы 0: 404\n"
          ]
        },
        {
          "output_type": "stream",
          "name": "stderr",
          "text": [
            "\rProcessing compounds:  36%|███▋      | 778/2143 [05:27<09:20,  2.44it/s]"
          ]
        },
        {
          "output_type": "stream",
          "name": "stdout",
          "text": [
            "Сохранен и добавлен в архив: compound_16211978_c1.json\n",
            "Ошибка при получении данных для формулы 0: 404\n"
          ]
        },
        {
          "output_type": "stream",
          "name": "stderr",
          "text": [
            "\rProcessing compounds:  36%|███▋      | 779/2143 [05:27<09:13,  2.46it/s]"
          ]
        },
        {
          "output_type": "stream",
          "name": "stdout",
          "text": [
            "Сохранен и добавлен в архив: compound_16211978_c1.json\n",
            "Ошибка при получении данных для формулы 0: 404\n"
          ]
        },
        {
          "output_type": "stream",
          "name": "stderr",
          "text": [
            "\rProcessing compounds:  36%|███▋      | 780/2143 [05:28<09:08,  2.48it/s]"
          ]
        },
        {
          "output_type": "stream",
          "name": "stdout",
          "text": [
            "Сохранен и добавлен в архив: compound_16211978_c1.json\n",
            "Ошибка при получении данных для формулы 0: 404\n"
          ]
        },
        {
          "output_type": "stream",
          "name": "stderr",
          "text": [
            "\rProcessing compounds:  36%|███▋      | 781/2143 [05:28<09:10,  2.48it/s]"
          ]
        },
        {
          "output_type": "stream",
          "name": "stdout",
          "text": [
            "Сохранен и добавлен в архив: compound_16211978_c1.json\n",
            "Ошибка при получении данных для формулы 0: 404\n"
          ]
        },
        {
          "output_type": "stream",
          "name": "stderr",
          "text": [
            "\rProcessing compounds:  36%|███▋      | 782/2143 [05:29<09:06,  2.49it/s]"
          ]
        },
        {
          "output_type": "stream",
          "name": "stdout",
          "text": [
            "Сохранен и добавлен в архив: compound_16211978_c1.json\n",
            "Ошибка при получении данных для формулы 0: 404\n"
          ]
        },
        {
          "output_type": "stream",
          "name": "stderr",
          "text": [
            "\rProcessing compounds:  37%|███▋      | 783/2143 [05:29<09:05,  2.49it/s]"
          ]
        },
        {
          "output_type": "stream",
          "name": "stdout",
          "text": [
            "Сохранен и добавлен в архив: compound_16211978_c1.json\n",
            "Ошибка при получении данных для формулы 0: 404\n"
          ]
        },
        {
          "output_type": "stream",
          "name": "stderr",
          "text": [
            "\rProcessing compounds:  37%|███▋      | 784/2143 [05:29<09:04,  2.50it/s]"
          ]
        },
        {
          "output_type": "stream",
          "name": "stdout",
          "text": [
            "Сохранен и добавлен в архив: compound_16211978_c1.json\n",
            "Ошибка при получении данных для формулы 0: 404\n"
          ]
        },
        {
          "output_type": "stream",
          "name": "stderr",
          "text": [
            "\rProcessing compounds:  37%|███▋      | 785/2143 [05:30<09:03,  2.50it/s]"
          ]
        },
        {
          "output_type": "stream",
          "name": "stdout",
          "text": [
            "Сохранен и добавлен в архив: compound_16211978_c1.json\n",
            "Ошибка при получении данных для формулы 0: 404\n"
          ]
        },
        {
          "output_type": "stream",
          "name": "stderr",
          "text": [
            "\rProcessing compounds:  37%|███▋      | 786/2143 [05:30<09:02,  2.50it/s]"
          ]
        },
        {
          "output_type": "stream",
          "name": "stdout",
          "text": [
            "Сохранен и добавлен в архив: compound_16211978_c1.json\n",
            "Ошибка при получении данных для формулы 0: 404\n"
          ]
        },
        {
          "output_type": "stream",
          "name": "stderr",
          "text": [
            "\rProcessing compounds:  37%|███▋      | 787/2143 [05:31<09:01,  2.50it/s]"
          ]
        },
        {
          "output_type": "stream",
          "name": "stdout",
          "text": [
            "Сохранен и добавлен в архив: compound_16211978_c1.json\n",
            "Ошибка при получении данных для формулы 0: 404\n"
          ]
        },
        {
          "output_type": "stream",
          "name": "stderr",
          "text": [
            "\rProcessing compounds:  37%|███▋      | 788/2143 [05:31<09:02,  2.50it/s]"
          ]
        },
        {
          "output_type": "stream",
          "name": "stdout",
          "text": [
            "Сохранен и добавлен в архив: compound_16211978_c1.json\n",
            "Ошибка при получении данных для формулы 0: 404\n"
          ]
        },
        {
          "output_type": "stream",
          "name": "stderr",
          "text": [
            "\rProcessing compounds:  37%|███▋      | 789/2143 [05:31<09:03,  2.49it/s]"
          ]
        },
        {
          "output_type": "stream",
          "name": "stdout",
          "text": [
            "Сохранен и добавлен в архив: compound_16211978_c1.json\n",
            "Ошибка при получении данных для формулы 0: 404\n"
          ]
        },
        {
          "output_type": "stream",
          "name": "stderr",
          "text": [
            "\rProcessing compounds:  37%|███▋      | 790/2143 [05:32<09:14,  2.44it/s]"
          ]
        },
        {
          "output_type": "stream",
          "name": "stdout",
          "text": [
            "Сохранен и добавлен в архив: compound_16211978_c1.json\n",
            "Ошибка при получении данных для формулы 0: 404\n"
          ]
        },
        {
          "output_type": "stream",
          "name": "stderr",
          "text": [
            "\rProcessing compounds:  37%|███▋      | 791/2143 [05:32<09:11,  2.45it/s]"
          ]
        },
        {
          "output_type": "stream",
          "name": "stdout",
          "text": [
            "Сохранен и добавлен в архив: compound_16211978_c1.json\n",
            "Ошибка при получении данных для формулы 0: 404\n"
          ]
        },
        {
          "output_type": "stream",
          "name": "stderr",
          "text": [
            "\rProcessing compounds:  37%|███▋      | 792/2143 [05:33<09:31,  2.36it/s]"
          ]
        },
        {
          "output_type": "stream",
          "name": "stdout",
          "text": [
            "Сохранен и добавлен в архив: compound_16211978_c1.json\n",
            "Ошибка при получении данных для формулы 0: 404\n"
          ]
        },
        {
          "output_type": "stream",
          "name": "stderr",
          "text": [
            "\rProcessing compounds:  37%|███▋      | 793/2143 [05:33<09:18,  2.42it/s]"
          ]
        },
        {
          "output_type": "stream",
          "name": "stdout",
          "text": [
            "Сохранен и добавлен в архив: compound_16211978_c1.json\n",
            "Ошибка при получении данных для формулы 0: 404\n"
          ]
        },
        {
          "output_type": "stream",
          "name": "stderr",
          "text": [
            "\rProcessing compounds:  37%|███▋      | 794/2143 [05:33<09:13,  2.44it/s]"
          ]
        },
        {
          "output_type": "stream",
          "name": "stdout",
          "text": [
            "Сохранен и добавлен в архив: compound_16211978_c1.json\n",
            "Ошибка при получении данных для формулы 0: 404\n",
            "Сохранен и добавлен в архив: compound_16211978_c1.json\n"
          ]
        },
        {
          "output_type": "stream",
          "name": "stderr",
          "text": [
            "\rProcessing compounds:  37%|███▋      | 795/2143 [05:34<09:46,  2.30it/s]"
          ]
        },
        {
          "output_type": "stream",
          "name": "stdout",
          "text": [
            "Ошибка при получении данных для формулы 0: 404\n",
            "Сохранен и добавлен в архив: compound_16211978_c1.json\n"
          ]
        },
        {
          "output_type": "stream",
          "name": "stderr",
          "text": [
            "\rProcessing compounds:  37%|███▋      | 796/2143 [05:34<09:30,  2.36it/s]"
          ]
        },
        {
          "output_type": "stream",
          "name": "stdout",
          "text": [
            "Ошибка при получении данных для формулы 0: 404\n",
            "Сохранен и добавлен в архив: compound_16211978_c1.json\n"
          ]
        },
        {
          "output_type": "stream",
          "name": "stderr",
          "text": [
            "\rProcessing compounds:  37%|███▋      | 797/2143 [05:35<09:18,  2.41it/s]"
          ]
        },
        {
          "output_type": "stream",
          "name": "stdout",
          "text": [
            "Ошибка при получении данных для формулы 0: 404\n",
            "Сохранен и добавлен в архив: compound_16211978_c1.json\n"
          ]
        },
        {
          "output_type": "stream",
          "name": "stderr",
          "text": [
            "\rProcessing compounds:  37%|███▋      | 798/2143 [05:35<09:09,  2.45it/s]"
          ]
        },
        {
          "output_type": "stream",
          "name": "stdout",
          "text": [
            "Ошибка при получении данных для формулы 0: 404\n",
            "Сохранен и добавлен в архив: compound_16211978_c1.json\n"
          ]
        },
        {
          "output_type": "stream",
          "name": "stderr",
          "text": [
            "\rProcessing compounds:  37%|███▋      | 799/2143 [05:35<09:04,  2.47it/s]"
          ]
        },
        {
          "output_type": "stream",
          "name": "stdout",
          "text": [
            "Ошибка при получении данных для формулы 0: 404\n",
            "Сохранен и добавлен в архив: compound_16211978_c1.json\n"
          ]
        },
        {
          "output_type": "stream",
          "name": "stderr",
          "text": [
            "\rProcessing compounds:  37%|███▋      | 800/2143 [05:36<09:00,  2.49it/s]"
          ]
        },
        {
          "output_type": "stream",
          "name": "stdout",
          "text": [
            "Ошибка при получении данных для формулы 0: 404\n"
          ]
        },
        {
          "output_type": "stream",
          "name": "stderr",
          "text": [
            "\rProcessing compounds:  37%|███▋      | 801/2143 [05:36<08:58,  2.49it/s]"
          ]
        },
        {
          "output_type": "stream",
          "name": "stdout",
          "text": [
            "Сохранен и добавлен в архив: compound_16211978_c1.json\n",
            "Ошибка при получении данных для формулы 0: 404\n"
          ]
        },
        {
          "output_type": "stream",
          "name": "stderr",
          "text": [
            "\rProcessing compounds:  37%|███▋      | 802/2143 [05:37<08:56,  2.50it/s]"
          ]
        },
        {
          "output_type": "stream",
          "name": "stdout",
          "text": [
            "Сохранен и добавлен в архив: compound_16211978_c1.json\n",
            "Ошибка при получении данных для формулы 0: 404\n"
          ]
        },
        {
          "output_type": "stream",
          "name": "stderr",
          "text": [
            "\rProcessing compounds:  37%|███▋      | 803/2143 [05:37<08:55,  2.50it/s]"
          ]
        },
        {
          "output_type": "stream",
          "name": "stdout",
          "text": [
            "Сохранен и добавлен в архив: compound_16211978_c1.json\n",
            "Ошибка при получении данных для формулы 0: 404\n"
          ]
        },
        {
          "output_type": "stream",
          "name": "stderr",
          "text": [
            "\rProcessing compounds:  38%|███▊      | 804/2143 [05:37<08:54,  2.51it/s]"
          ]
        },
        {
          "output_type": "stream",
          "name": "stdout",
          "text": [
            "Сохранен и добавлен в архив: compound_16211978_c1.json\n",
            "Ошибка при получении данных для формулы 0: 404\n"
          ]
        },
        {
          "output_type": "stream",
          "name": "stderr",
          "text": [
            "\rProcessing compounds:  38%|███▊      | 805/2143 [05:38<08:52,  2.51it/s]"
          ]
        },
        {
          "output_type": "stream",
          "name": "stdout",
          "text": [
            "Сохранен и добавлен в архив: compound_16211978_c1.json\n",
            "Ошибка при получении данных для формулы 0: 404\n"
          ]
        },
        {
          "output_type": "stream",
          "name": "stderr",
          "text": [
            "\rProcessing compounds:  38%|███▊      | 806/2143 [05:38<08:51,  2.52it/s]"
          ]
        },
        {
          "output_type": "stream",
          "name": "stdout",
          "text": [
            "Сохранен и добавлен в архив: compound_16211978_c1.json\n",
            "Ошибка при получении данных для формулы 0: 404\n"
          ]
        },
        {
          "output_type": "stream",
          "name": "stderr",
          "text": [
            "\rProcessing compounds:  38%|███▊      | 807/2143 [05:39<08:50,  2.52it/s]"
          ]
        },
        {
          "output_type": "stream",
          "name": "stdout",
          "text": [
            "Сохранен и добавлен в архив: compound_16211978_c1.json\n",
            "Ошибка при получении данных для формулы 0: 404\n"
          ]
        },
        {
          "output_type": "stream",
          "name": "stderr",
          "text": [
            "\rProcessing compounds:  38%|███▊      | 808/2143 [05:39<08:50,  2.52it/s]"
          ]
        },
        {
          "output_type": "stream",
          "name": "stdout",
          "text": [
            "Сохранен и добавлен в архив: compound_16211978_c1.json\n",
            "Ошибка при получении данных для формулы 0: 404\n"
          ]
        },
        {
          "output_type": "stream",
          "name": "stderr",
          "text": [
            "\rProcessing compounds:  38%|███▊      | 809/2143 [05:39<08:50,  2.52it/s]"
          ]
        },
        {
          "output_type": "stream",
          "name": "stdout",
          "text": [
            "Сохранен и добавлен в архив: compound_16211978_c1.json\n",
            "Ошибка при получении данных для формулы 0: 404\n"
          ]
        },
        {
          "output_type": "stream",
          "name": "stderr",
          "text": [
            "\rProcessing compounds:  38%|███▊      | 810/2143 [05:40<08:50,  2.51it/s]"
          ]
        },
        {
          "output_type": "stream",
          "name": "stdout",
          "text": [
            "Сохранен и добавлен в архив: compound_16211978_c1.json\n",
            "Ошибка при получении данных для формулы 0: 404\n"
          ]
        },
        {
          "output_type": "stream",
          "name": "stderr",
          "text": [
            "\rProcessing compounds:  38%|███▊      | 811/2143 [05:40<08:49,  2.52it/s]"
          ]
        },
        {
          "output_type": "stream",
          "name": "stdout",
          "text": [
            "Сохранен и добавлен в архив: compound_16211978_c1.json\n",
            "Ошибка при получении данных для формулы 0: 404\n"
          ]
        },
        {
          "output_type": "stream",
          "name": "stderr",
          "text": [
            "\rProcessing compounds:  38%|███▊      | 812/2143 [05:41<08:50,  2.51it/s]"
          ]
        },
        {
          "output_type": "stream",
          "name": "stdout",
          "text": [
            "Сохранен и добавлен в архив: compound_16211978_c1.json\n",
            "Ошибка при получении данных для формулы 0: 404\n"
          ]
        },
        {
          "output_type": "stream",
          "name": "stderr",
          "text": [
            "\rProcessing compounds:  38%|███▊      | 813/2143 [05:41<08:49,  2.51it/s]"
          ]
        },
        {
          "output_type": "stream",
          "name": "stdout",
          "text": [
            "Сохранен и добавлен в архив: compound_16211978_c1.json\n",
            "Ошибка при получении данных для формулы 0: 404\n"
          ]
        },
        {
          "output_type": "stream",
          "name": "stderr",
          "text": [
            "\rProcessing compounds:  38%|███▊      | 814/2143 [05:41<09:02,  2.45it/s]"
          ]
        },
        {
          "output_type": "stream",
          "name": "stdout",
          "text": [
            "Сохранен и добавлен в архив: compound_16211978_c1.json\n",
            "Ошибка при получении данных для формулы 0: 404\n",
            "Сохранен и добавлен в архив: compound_16211978_c1.json\n"
          ]
        },
        {
          "output_type": "stream",
          "name": "stderr",
          "text": [
            "\rProcessing compounds:  38%|███▊      | 815/2143 [05:42<09:14,  2.40it/s]"
          ]
        },
        {
          "output_type": "stream",
          "name": "stdout",
          "text": [
            "Ошибка при получении данных для формулы 0: 404\n"
          ]
        },
        {
          "output_type": "stream",
          "name": "stderr",
          "text": [
            "\rProcessing compounds:  38%|███▊      | 816/2143 [05:42<09:06,  2.43it/s]"
          ]
        },
        {
          "output_type": "stream",
          "name": "stdout",
          "text": [
            "Сохранен и добавлен в архив: compound_16211978_c1.json\n",
            "Ошибка при получении данных для формулы 0: 404\n"
          ]
        },
        {
          "output_type": "stream",
          "name": "stderr",
          "text": [
            "\rProcessing compounds:  38%|███▊      | 817/2143 [05:43<09:55,  2.23it/s]"
          ]
        },
        {
          "output_type": "stream",
          "name": "stdout",
          "text": [
            "Сохранен и добавлен в архив: compound_16211978_c1.json\n",
            "Ошибка при получении данных для формулы 0: 404\n"
          ]
        },
        {
          "output_type": "stream",
          "name": "stderr",
          "text": [
            "\rProcessing compounds:  38%|███▊      | 818/2143 [05:43<09:36,  2.30it/s]"
          ]
        },
        {
          "output_type": "stream",
          "name": "stdout",
          "text": [
            "Сохранен и добавлен в архив: compound_16211978_c1.json\n",
            "Ошибка при получении данных для формулы 0: 404\n"
          ]
        },
        {
          "output_type": "stream",
          "name": "stderr",
          "text": [
            "\rProcessing compounds:  38%|███▊      | 819/2143 [05:44<10:30,  2.10it/s]"
          ]
        },
        {
          "output_type": "stream",
          "name": "stdout",
          "text": [
            "Сохранен и добавлен в архив: compound_16211978_c1.json\n",
            "Ошибка при получении данных для формулы 0: 404\n",
            "Сохранен и добавлен в архив: compound_16211978_c1.json\n"
          ]
        },
        {
          "output_type": "stream",
          "name": "stderr",
          "text": [
            "\rProcessing compounds:  38%|███▊      | 820/2143 [05:44<10:05,  2.19it/s]"
          ]
        },
        {
          "output_type": "stream",
          "name": "stdout",
          "text": [
            "Ошибка при получении данных для формулы 0: 404\n"
          ]
        },
        {
          "output_type": "stream",
          "name": "stderr",
          "text": [
            "\rProcessing compounds:  38%|███▊      | 821/2143 [05:45<09:41,  2.27it/s]"
          ]
        },
        {
          "output_type": "stream",
          "name": "stdout",
          "text": [
            "Сохранен и добавлен в архив: compound_16211978_c1.json\n",
            "Ошибка при получении данных для формулы 0: 404\n"
          ]
        },
        {
          "output_type": "stream",
          "name": "stderr",
          "text": [
            "\rProcessing compounds:  38%|███▊      | 822/2143 [05:45<09:23,  2.34it/s]"
          ]
        },
        {
          "output_type": "stream",
          "name": "stdout",
          "text": [
            "Сохранен и добавлен в архив: compound_16211978_c1.json\n",
            "Ошибка при получении данных для формулы 0: 404\n"
          ]
        },
        {
          "output_type": "stream",
          "name": "stderr",
          "text": [
            "\rProcessing compounds:  38%|███▊      | 823/2143 [05:45<09:11,  2.39it/s]"
          ]
        },
        {
          "output_type": "stream",
          "name": "stdout",
          "text": [
            "Сохранен и добавлен в архив: compound_16211978_c1.json\n",
            "Ошибка при получении данных для формулы 0: 404\n"
          ]
        },
        {
          "output_type": "stream",
          "name": "stderr",
          "text": [
            "\rProcessing compounds:  38%|███▊      | 824/2143 [05:46<09:02,  2.43it/s]"
          ]
        },
        {
          "output_type": "stream",
          "name": "stdout",
          "text": [
            "Сохранен и добавлен в архив: compound_16211978_c1.json\n",
            "Ошибка при получении данных для формулы 0: 404\n",
            "Сохранен и добавлен в архив: compound_16211978_c1.json\n"
          ]
        },
        {
          "output_type": "stream",
          "name": "stderr",
          "text": [
            "\rProcessing compounds:  38%|███▊      | 825/2143 [05:46<09:21,  2.35it/s]"
          ]
        },
        {
          "output_type": "stream",
          "name": "stdout",
          "text": [
            "Ошибка при получении данных для формулы 0: 404\n",
            "Сохранен и добавлен в архив: compound_16211978_c1.json\n"
          ]
        },
        {
          "output_type": "stream",
          "name": "stderr",
          "text": [
            "\rProcessing compounds:  39%|███▊      | 826/2143 [05:47<09:09,  2.40it/s]"
          ]
        },
        {
          "output_type": "stream",
          "name": "stdout",
          "text": [
            "Ошибка при получении данных для формулы 0: 404\n"
          ]
        },
        {
          "output_type": "stream",
          "name": "stderr",
          "text": [
            "\rProcessing compounds:  39%|███▊      | 827/2143 [05:47<09:01,  2.43it/s]"
          ]
        },
        {
          "output_type": "stream",
          "name": "stdout",
          "text": [
            "Сохранен и добавлен в архив: compound_16211978_c1.json\n",
            "Ошибка при получении данных для формулы 0: 404\n"
          ]
        },
        {
          "output_type": "stream",
          "name": "stderr",
          "text": [
            "\rProcessing compounds:  39%|███▊      | 828/2143 [05:47<08:57,  2.45it/s]"
          ]
        },
        {
          "output_type": "stream",
          "name": "stdout",
          "text": [
            "Сохранен и добавлен в архив: compound_16211978_c1.json\n",
            "Ошибка при получении данных для формулы 0: 404\n"
          ]
        },
        {
          "output_type": "stream",
          "name": "stderr",
          "text": [
            "\rProcessing compounds:  39%|███▊      | 829/2143 [05:48<08:52,  2.47it/s]"
          ]
        },
        {
          "output_type": "stream",
          "name": "stdout",
          "text": [
            "Сохранен и добавлен в архив: compound_16211978_c1.json\n",
            "Ошибка при получении данных для формулы 0: 404\n",
            "Сохранен и добавлен в архив: compound_16211978_c1.json\n"
          ]
        },
        {
          "output_type": "stream",
          "name": "stderr",
          "text": [
            "\rProcessing compounds:  39%|███▊      | 830/2143 [05:48<09:39,  2.27it/s]"
          ]
        },
        {
          "output_type": "stream",
          "name": "stdout",
          "text": [
            "Ошибка при получении данных для формулы 0: 404\n",
            "Сохранен и добавлен в архив: compound_16211978_c1.json\n"
          ]
        },
        {
          "output_type": "stream",
          "name": "stderr",
          "text": [
            "\rProcessing compounds:  39%|███▉      | 831/2143 [05:49<09:34,  2.28it/s]"
          ]
        },
        {
          "output_type": "stream",
          "name": "stdout",
          "text": [
            "Ошибка при получении данных для формулы 0: 404\n",
            "Сохранен и добавлен в архив: compound_16211978_c1.json\n"
          ]
        },
        {
          "output_type": "stream",
          "name": "stderr",
          "text": [
            "\rProcessing compounds:  39%|███▉      | 832/2143 [05:49<09:18,  2.35it/s]"
          ]
        },
        {
          "output_type": "stream",
          "name": "stdout",
          "text": [
            "Ошибка при получении данных для формулы 0: 404\n"
          ]
        },
        {
          "output_type": "stream",
          "name": "stderr",
          "text": [
            "\rProcessing compounds:  39%|███▉      | 833/2143 [05:50<09:06,  2.40it/s]"
          ]
        },
        {
          "output_type": "stream",
          "name": "stdout",
          "text": [
            "Сохранен и добавлен в архив: compound_16211978_c1.json\n",
            "Ошибка при получении данных для формулы 0: 404\n"
          ]
        },
        {
          "output_type": "stream",
          "name": "stderr",
          "text": [
            "\rProcessing compounds:  39%|███▉      | 834/2143 [05:50<08:57,  2.43it/s]"
          ]
        },
        {
          "output_type": "stream",
          "name": "stdout",
          "text": [
            "Сохранен и добавлен в архив: compound_16211978_c1.json\n",
            "Ошибка при получении данных для формулы 0: 404\n"
          ]
        },
        {
          "output_type": "stream",
          "name": "stderr",
          "text": [
            "\rProcessing compounds:  39%|███▉      | 835/2143 [05:50<08:53,  2.45it/s]"
          ]
        },
        {
          "output_type": "stream",
          "name": "stdout",
          "text": [
            "Сохранен и добавлен в архив: compound_16211978_c1.json\n",
            "Ошибка при получении данных для формулы 0: 404\n"
          ]
        },
        {
          "output_type": "stream",
          "name": "stderr",
          "text": [
            "\rProcessing compounds:  39%|███▉      | 836/2143 [05:51<08:48,  2.47it/s]"
          ]
        },
        {
          "output_type": "stream",
          "name": "stdout",
          "text": [
            "Сохранен и добавлен в архив: compound_16211978_c1.json\n",
            "Ошибка при получении данных для формулы 0: 404\n"
          ]
        },
        {
          "output_type": "stream",
          "name": "stderr",
          "text": [
            "\rProcessing compounds:  39%|███▉      | 837/2143 [05:51<08:44,  2.49it/s]"
          ]
        },
        {
          "output_type": "stream",
          "name": "stdout",
          "text": [
            "Сохранен и добавлен в архив: compound_16211978_c1.json\n",
            "Ошибка при получении данных для формулы 0: 404\n"
          ]
        },
        {
          "output_type": "stream",
          "name": "stderr",
          "text": [
            "\rProcessing compounds:  39%|███▉      | 838/2143 [05:52<08:42,  2.50it/s]"
          ]
        },
        {
          "output_type": "stream",
          "name": "stdout",
          "text": [
            "Сохранен и добавлен в архив: compound_16211978_c1.json\n",
            "Ошибка при получении данных для формулы 0: 404\n"
          ]
        },
        {
          "output_type": "stream",
          "name": "stderr",
          "text": [
            "\rProcessing compounds:  39%|███▉      | 839/2143 [05:52<08:48,  2.47it/s]"
          ]
        },
        {
          "output_type": "stream",
          "name": "stdout",
          "text": [
            "Сохранен и добавлен в архив: compound_16211978_c1.json\n",
            "Ошибка при получении данных для формулы 0: 404\n"
          ]
        },
        {
          "output_type": "stream",
          "name": "stderr",
          "text": [
            "\rProcessing compounds:  39%|███▉      | 840/2143 [05:52<08:44,  2.49it/s]"
          ]
        },
        {
          "output_type": "stream",
          "name": "stdout",
          "text": [
            "Сохранен и добавлен в архив: compound_16211978_c1.json\n",
            "Ошибка при получении данных для формулы 0: 404\n"
          ]
        },
        {
          "output_type": "stream",
          "name": "stderr",
          "text": [
            "\rProcessing compounds:  39%|███▉      | 841/2143 [05:53<08:59,  2.41it/s]"
          ]
        },
        {
          "output_type": "stream",
          "name": "stdout",
          "text": [
            "Сохранен и добавлен в архив: compound_16211978_c1.json\n",
            "Ошибка при получении данных для формулы 0: 404\n",
            "Сохранен и добавлен в архив: compound_16211978_c1.json\n"
          ]
        },
        {
          "output_type": "stream",
          "name": "stderr",
          "text": [
            "\rProcessing compounds:  39%|███▉      | 842/2143 [05:53<09:03,  2.39it/s]"
          ]
        },
        {
          "output_type": "stream",
          "name": "stdout",
          "text": [
            "Ошибка при получении данных для формулы 0: 404\n"
          ]
        },
        {
          "output_type": "stream",
          "name": "stderr",
          "text": [
            "\rProcessing compounds:  39%|███▉      | 843/2143 [05:54<08:55,  2.43it/s]"
          ]
        },
        {
          "output_type": "stream",
          "name": "stdout",
          "text": [
            "Сохранен и добавлен в архив: compound_16211978_c1.json\n",
            "Ошибка при получении данных для формулы 0: 404\n"
          ]
        },
        {
          "output_type": "stream",
          "name": "stderr",
          "text": [
            "\rProcessing compounds:  39%|███▉      | 844/2143 [05:54<08:56,  2.42it/s]"
          ]
        },
        {
          "output_type": "stream",
          "name": "stdout",
          "text": [
            "Сохранен и добавлен в архив: compound_16211978_c1.json\n",
            "Ошибка при получении данных для формулы 0: 404\n"
          ]
        },
        {
          "output_type": "stream",
          "name": "stderr",
          "text": [
            "\rProcessing compounds:  39%|███▉      | 845/2143 [05:55<08:50,  2.45it/s]"
          ]
        },
        {
          "output_type": "stream",
          "name": "stdout",
          "text": [
            "Сохранен и добавлен в архив: compound_16211978_c1.json\n",
            "Ошибка при получении данных для формулы 0: 404\n"
          ]
        },
        {
          "output_type": "stream",
          "name": "stderr",
          "text": [
            "\rProcessing compounds:  39%|███▉      | 846/2143 [05:55<08:46,  2.46it/s]"
          ]
        },
        {
          "output_type": "stream",
          "name": "stdout",
          "text": [
            "Сохранен и добавлен в архив: compound_16211978_c1.json\n",
            "Ошибка при получении данных для формулы 0: 404\n"
          ]
        },
        {
          "output_type": "stream",
          "name": "stderr",
          "text": [
            "\rProcessing compounds:  40%|███▉      | 847/2143 [05:55<08:44,  2.47it/s]"
          ]
        },
        {
          "output_type": "stream",
          "name": "stdout",
          "text": [
            "Сохранен и добавлен в архив: compound_16211978_c1.json\n",
            "Ошибка при получении данных для формулы 0: 404\n"
          ]
        },
        {
          "output_type": "stream",
          "name": "stderr",
          "text": [
            "\rProcessing compounds:  40%|███▉      | 848/2143 [05:56<08:42,  2.48it/s]"
          ]
        },
        {
          "output_type": "stream",
          "name": "stdout",
          "text": [
            "Сохранен и добавлен в архив: compound_16211978_c1.json\n",
            "Ошибка при получении данных для формулы 0: 404\n"
          ]
        },
        {
          "output_type": "stream",
          "name": "stderr",
          "text": [
            "\rProcessing compounds:  40%|███▉      | 849/2143 [05:56<08:41,  2.48it/s]"
          ]
        },
        {
          "output_type": "stream",
          "name": "stdout",
          "text": [
            "Сохранен и добавлен в архив: compound_16211978_c1.json\n",
            "Ошибка при получении данных для формулы 0: 404\n"
          ]
        },
        {
          "output_type": "stream",
          "name": "stderr",
          "text": [
            "\rProcessing compounds:  40%|███▉      | 850/2143 [05:57<08:39,  2.49it/s]"
          ]
        },
        {
          "output_type": "stream",
          "name": "stdout",
          "text": [
            "Сохранен и добавлен в архив: compound_16211978_c1.json\n",
            "Ошибка при получении данных для формулы 0: 404\n"
          ]
        },
        {
          "output_type": "stream",
          "name": "stderr",
          "text": [
            "\rProcessing compounds:  40%|███▉      | 851/2143 [05:57<08:37,  2.50it/s]"
          ]
        },
        {
          "output_type": "stream",
          "name": "stdout",
          "text": [
            "Сохранен и добавлен в архив: compound_16211978_c1.json\n",
            "Ошибка при получении данных для формулы 0: 404\n"
          ]
        },
        {
          "output_type": "stream",
          "name": "stderr",
          "text": [
            "\rProcessing compounds:  40%|███▉      | 852/2143 [05:57<08:34,  2.51it/s]"
          ]
        },
        {
          "output_type": "stream",
          "name": "stdout",
          "text": [
            "Сохранен и добавлен в архив: compound_16211978_c1.json\n",
            "Ошибка при получении данных для формулы 0: 404\n"
          ]
        },
        {
          "output_type": "stream",
          "name": "stderr",
          "text": [
            "\rProcessing compounds:  40%|███▉      | 853/2143 [05:58<08:33,  2.51it/s]"
          ]
        },
        {
          "output_type": "stream",
          "name": "stdout",
          "text": [
            "Сохранен и добавлен в архив: compound_16211978_c1.json\n",
            "Ошибка при получении данных для формулы 0: 404\n",
            "Сохранен и добавлен в архив: compound_16211978_c1.json\n"
          ]
        },
        {
          "output_type": "stream",
          "name": "stderr",
          "text": [
            "\rProcessing compounds:  40%|███▉      | 854/2143 [05:58<08:36,  2.50it/s]"
          ]
        },
        {
          "output_type": "stream",
          "name": "stdout",
          "text": [
            "Ошибка при получении данных для формулы 0: 404\n",
            "Сохранен и добавлен в архив: compound_16211978_c1.json\n"
          ]
        },
        {
          "output_type": "stream",
          "name": "stderr",
          "text": [
            "\rProcessing compounds:  40%|███▉      | 855/2143 [05:59<08:34,  2.50it/s]"
          ]
        },
        {
          "output_type": "stream",
          "name": "stdout",
          "text": [
            "Ошибка при получении данных для формулы 0: 404\n",
            "Сохранен и добавлен в архив: compound_16211978_c1.json\n"
          ]
        },
        {
          "output_type": "stream",
          "name": "stderr",
          "text": [
            "\rProcessing compounds:  40%|███▉      | 856/2143 [05:59<08:33,  2.51it/s]"
          ]
        },
        {
          "output_type": "stream",
          "name": "stdout",
          "text": [
            "Ошибка при получении данных для формулы 0: 404\n",
            "Сохранен и добавлен в архив: compound_16211978_c1.json\n"
          ]
        },
        {
          "output_type": "stream",
          "name": "stderr",
          "text": [
            "\rProcessing compounds:  40%|███▉      | 857/2143 [05:59<08:32,  2.51it/s]"
          ]
        },
        {
          "output_type": "stream",
          "name": "stdout",
          "text": [
            "Ошибка при получении данных для формулы 0: 404\n"
          ]
        },
        {
          "output_type": "stream",
          "name": "stderr",
          "text": [
            "\rProcessing compounds:  40%|████      | 858/2143 [06:00<08:31,  2.51it/s]"
          ]
        },
        {
          "output_type": "stream",
          "name": "stdout",
          "text": [
            "Сохранен и добавлен в архив: compound_16211978_c1.json\n",
            "Ошибка при получении данных для формулы 0: 404\n"
          ]
        },
        {
          "output_type": "stream",
          "name": "stderr",
          "text": [
            "\rProcessing compounds:  40%|████      | 859/2143 [06:00<08:29,  2.52it/s]"
          ]
        },
        {
          "output_type": "stream",
          "name": "stdout",
          "text": [
            "Сохранен и добавлен в архив: compound_16211978_c1.json\n",
            "Ошибка при получении данных для формулы 0: 404\n"
          ]
        },
        {
          "output_type": "stream",
          "name": "stderr",
          "text": [
            "\rProcessing compounds:  40%|████      | 860/2143 [06:00<08:29,  2.52it/s]"
          ]
        },
        {
          "output_type": "stream",
          "name": "stdout",
          "text": [
            "Сохранен и добавлен в архив: compound_16211978_c1.json\n",
            "Ошибка при получении данных для формулы 0: 404\n",
            "Сохранен и добавлен в архив: compound_16211978_c1.json\n"
          ]
        },
        {
          "output_type": "stream",
          "name": "stderr",
          "text": [
            "\rProcessing compounds:  40%|████      | 861/2143 [06:01<08:34,  2.49it/s]"
          ]
        },
        {
          "output_type": "stream",
          "name": "stdout",
          "text": [
            "Ошибка при получении данных для формулы 0: 404\n"
          ]
        },
        {
          "output_type": "stream",
          "name": "stderr",
          "text": [
            "\rProcessing compounds:  40%|████      | 862/2143 [06:01<08:34,  2.49it/s]"
          ]
        },
        {
          "output_type": "stream",
          "name": "stdout",
          "text": [
            "Сохранен и добавлен в архив: compound_16211978_c1.json\n",
            "Ошибка при получении данных для формулы 0: 404\n"
          ]
        },
        {
          "output_type": "stream",
          "name": "stderr",
          "text": [
            "\rProcessing compounds:  40%|████      | 863/2143 [06:02<08:32,  2.50it/s]"
          ]
        },
        {
          "output_type": "stream",
          "name": "stdout",
          "text": [
            "Сохранен и добавлен в архив: compound_16211978_c1.json\n",
            "Ошибка при получении данных для формулы 0: 404\n"
          ]
        },
        {
          "output_type": "stream",
          "name": "stderr",
          "text": [
            "\rProcessing compounds:  40%|████      | 864/2143 [06:02<08:31,  2.50it/s]"
          ]
        },
        {
          "output_type": "stream",
          "name": "stdout",
          "text": [
            "Сохранен и добавлен в архив: compound_16211978_c1.json\n",
            "Ошибка при получении данных для формулы 0: 404\n",
            "Сохранен и добавлен в архив: compound_16211978_c1.json\n"
          ]
        },
        {
          "output_type": "stream",
          "name": "stderr",
          "text": [
            "\rProcessing compounds:  40%|████      | 865/2143 [06:03<08:54,  2.39it/s]"
          ]
        },
        {
          "output_type": "stream",
          "name": "stdout",
          "text": [
            "Ошибка при получении данных для формулы 0: 404\n",
            "Сохранен и добавлен в архив: compound_16211978_c1.json\n"
          ]
        },
        {
          "output_type": "stream",
          "name": "stderr",
          "text": [
            "\rProcessing compounds:  40%|████      | 866/2143 [06:03<08:45,  2.43it/s]"
          ]
        },
        {
          "output_type": "stream",
          "name": "stdout",
          "text": [
            "Ошибка при получении данных для формулы 0: 404\n"
          ]
        },
        {
          "output_type": "stream",
          "name": "stderr",
          "text": [
            "\rProcessing compounds:  40%|████      | 867/2143 [06:03<08:41,  2.45it/s]"
          ]
        },
        {
          "output_type": "stream",
          "name": "stdout",
          "text": [
            "Сохранен и добавлен в архив: compound_16211978_c1.json\n",
            "Ошибка при получении данных для формулы 0: 404\n"
          ]
        },
        {
          "output_type": "stream",
          "name": "stderr",
          "text": [
            "\rProcessing compounds:  41%|████      | 868/2143 [06:04<08:37,  2.46it/s]"
          ]
        },
        {
          "output_type": "stream",
          "name": "stdout",
          "text": [
            "Сохранен и добавлен в архив: compound_16211978_c1.json\n",
            "Ошибка при получении данных для формулы 0: 404\n"
          ]
        },
        {
          "output_type": "stream",
          "name": "stderr",
          "text": [
            "\rProcessing compounds:  41%|████      | 869/2143 [06:04<08:33,  2.48it/s]"
          ]
        },
        {
          "output_type": "stream",
          "name": "stdout",
          "text": [
            "Сохранен и добавлен в архив: compound_16211978_c1.json\n",
            "Ошибка при получении данных для формулы 0: 404\n"
          ]
        },
        {
          "output_type": "stream",
          "name": "stderr",
          "text": [
            "\rProcessing compounds:  41%|████      | 870/2143 [06:05<08:32,  2.49it/s]"
          ]
        },
        {
          "output_type": "stream",
          "name": "stdout",
          "text": [
            "Сохранен и добавлен в архив: compound_16211978_c1.json\n",
            "Ошибка при получении данных для формулы 0: 404\n"
          ]
        },
        {
          "output_type": "stream",
          "name": "stderr",
          "text": [
            "\rProcessing compounds:  41%|████      | 871/2143 [06:05<08:29,  2.50it/s]"
          ]
        },
        {
          "output_type": "stream",
          "name": "stdout",
          "text": [
            "Сохранен и добавлен в архив: compound_16211978_c1.json\n",
            "Ошибка при получении данных для формулы 0: 404\n"
          ]
        },
        {
          "output_type": "stream",
          "name": "stderr",
          "text": [
            "\rProcessing compounds:  41%|████      | 872/2143 [06:05<08:28,  2.50it/s]"
          ]
        },
        {
          "output_type": "stream",
          "name": "stdout",
          "text": [
            "Сохранен и добавлен в архив: compound_16211978_c1.json\n",
            "Ошибка при получении данных для формулы 0: 404\n"
          ]
        },
        {
          "output_type": "stream",
          "name": "stderr",
          "text": [
            "\rProcessing compounds:  41%|████      | 873/2143 [06:06<08:25,  2.51it/s]"
          ]
        },
        {
          "output_type": "stream",
          "name": "stdout",
          "text": [
            "Сохранен и добавлен в архив: compound_16211978_c1.json\n",
            "Ошибка при получении данных для формулы 0: 404\n"
          ]
        },
        {
          "output_type": "stream",
          "name": "stderr",
          "text": [
            "\rProcessing compounds:  41%|████      | 874/2143 [06:06<08:24,  2.51it/s]"
          ]
        },
        {
          "output_type": "stream",
          "name": "stdout",
          "text": [
            "Сохранен и добавлен в архив: compound_16211978_c1.json\n",
            "Ошибка при получении данных для формулы 0: 404\n"
          ]
        },
        {
          "output_type": "stream",
          "name": "stderr",
          "text": [
            "\rProcessing compounds:  41%|████      | 875/2143 [06:07<08:25,  2.51it/s]"
          ]
        },
        {
          "output_type": "stream",
          "name": "stdout",
          "text": [
            "Сохранен и добавлен в архив: compound_16211978_c1.json\n",
            "Ошибка при получении данных для формулы 0: 404\n"
          ]
        },
        {
          "output_type": "stream",
          "name": "stderr",
          "text": [
            "\rProcessing compounds:  41%|████      | 876/2143 [06:07<08:32,  2.47it/s]"
          ]
        },
        {
          "output_type": "stream",
          "name": "stdout",
          "text": [
            "Сохранен и добавлен в архив: compound_16211978_c1.json\n",
            "Ошибка при получении данных для формулы 0: 404\n"
          ]
        },
        {
          "output_type": "stream",
          "name": "stderr",
          "text": [
            "\rProcessing compounds:  41%|████      | 877/2143 [06:07<08:43,  2.42it/s]"
          ]
        },
        {
          "output_type": "stream",
          "name": "stdout",
          "text": [
            "Сохранен и добавлен в архив: compound_16211978_c1.json\n",
            "Ошибка при получении данных для формулы 0: 404\n",
            "Сохранен и добавлен в архив: compound_16211978_c1.json\n"
          ]
        },
        {
          "output_type": "stream",
          "name": "stderr",
          "text": [
            "\rProcessing compounds:  41%|████      | 878/2143 [06:08<08:45,  2.41it/s]"
          ]
        },
        {
          "output_type": "stream",
          "name": "stdout",
          "text": [
            "Ошибка при получении данных для формулы 0: 404\n",
            "Сохранен и добавлен в архив: compound_16211978_c1.json\n"
          ]
        },
        {
          "output_type": "stream",
          "name": "stderr",
          "text": [
            "\rProcessing compounds:  41%|████      | 879/2143 [06:08<09:19,  2.26it/s]"
          ]
        },
        {
          "output_type": "stream",
          "name": "stdout",
          "text": [
            "Ошибка при получении данных для формулы 0: 404\n"
          ]
        },
        {
          "output_type": "stream",
          "name": "stderr",
          "text": [
            "\rProcessing compounds:  41%|████      | 880/2143 [06:09<09:02,  2.33it/s]"
          ]
        },
        {
          "output_type": "stream",
          "name": "stdout",
          "text": [
            "Сохранен и добавлен в архив: compound_16211978_c1.json\n",
            "Ошибка при получении данных для формулы 0: 404\n"
          ]
        },
        {
          "output_type": "stream",
          "name": "stderr",
          "text": [
            "\rProcessing compounds:  41%|████      | 881/2143 [06:09<08:49,  2.38it/s]"
          ]
        },
        {
          "output_type": "stream",
          "name": "stdout",
          "text": [
            "Сохранен и добавлен в архив: compound_16211978_c1.json\n",
            "Ошибка при получении данных для формулы 0: 404\n",
            "Сохранен и добавлен в архив: compound_16211978_c1.json\n"
          ]
        },
        {
          "output_type": "stream",
          "name": "stderr",
          "text": [
            "\rProcessing compounds:  41%|████      | 882/2143 [06:10<08:42,  2.41it/s]"
          ]
        },
        {
          "output_type": "stream",
          "name": "stdout",
          "text": [
            "Ошибка при получении данных для формулы 0: 404\n"
          ]
        },
        {
          "output_type": "stream",
          "name": "stderr",
          "text": [
            "\rProcessing compounds:  41%|████      | 883/2143 [06:10<08:35,  2.45it/s]"
          ]
        },
        {
          "output_type": "stream",
          "name": "stdout",
          "text": [
            "Сохранен и добавлен в архив: compound_16211978_c1.json\n",
            "Ошибка при получении данных для формулы 0: 404\n"
          ]
        },
        {
          "output_type": "stream",
          "name": "stderr",
          "text": [
            "\rProcessing compounds:  41%|████▏     | 884/2143 [06:10<08:30,  2.46it/s]"
          ]
        },
        {
          "output_type": "stream",
          "name": "stdout",
          "text": [
            "Сохранен и добавлен в архив: compound_16211978_c1.json\n",
            "Ошибка при получении данных для формулы 0: 404\n"
          ]
        },
        {
          "output_type": "stream",
          "name": "stderr",
          "text": [
            "\rProcessing compounds:  41%|████▏     | 885/2143 [06:11<08:26,  2.49it/s]"
          ]
        },
        {
          "output_type": "stream",
          "name": "stdout",
          "text": [
            "Сохранен и добавлен в архив: compound_16211978_c1.json\n",
            "Ошибка при получении данных для формулы 0: 404\n"
          ]
        },
        {
          "output_type": "stream",
          "name": "stderr",
          "text": [
            "\rProcessing compounds:  41%|████▏     | 886/2143 [06:11<08:23,  2.50it/s]"
          ]
        },
        {
          "output_type": "stream",
          "name": "stdout",
          "text": [
            "Сохранен и добавлен в архив: compound_16211978_c1.json\n",
            "Ошибка при получении данных для формулы 0: 404\n"
          ]
        },
        {
          "output_type": "stream",
          "name": "stderr",
          "text": [
            "\rProcessing compounds:  41%|████▏     | 887/2143 [06:12<08:20,  2.51it/s]"
          ]
        },
        {
          "output_type": "stream",
          "name": "stdout",
          "text": [
            "Сохранен и добавлен в архив: compound_16211978_c1.json\n",
            "Ошибка при получении данных для формулы 0: 404\n"
          ]
        },
        {
          "output_type": "stream",
          "name": "stderr",
          "text": [
            "\rProcessing compounds:  41%|████▏     | 888/2143 [06:12<08:18,  2.52it/s]"
          ]
        },
        {
          "output_type": "stream",
          "name": "stdout",
          "text": [
            "Сохранен и добавлен в архив: compound_16211978_c1.json\n",
            "Ошибка при получении данных для формулы 0: 404\n",
            "Сохранен и добавлен в архив: compound_16211978_c1.json\n"
          ]
        },
        {
          "output_type": "stream",
          "name": "stderr",
          "text": [
            "\rProcessing compounds:  41%|████▏     | 889/2143 [06:12<09:08,  2.29it/s]"
          ]
        },
        {
          "output_type": "stream",
          "name": "stdout",
          "text": [
            "Ошибка при получении данных для формулы 0: 404\n"
          ]
        },
        {
          "output_type": "stream",
          "name": "stderr",
          "text": [
            "\rProcessing compounds:  42%|████▏     | 890/2143 [06:13<08:53,  2.35it/s]"
          ]
        },
        {
          "output_type": "stream",
          "name": "stdout",
          "text": [
            "Сохранен и добавлен в архив: compound_16211978_c1.json\n",
            "Ошибка при получении данных для формулы 0: 404\n"
          ]
        },
        {
          "output_type": "stream",
          "name": "stderr",
          "text": [
            "\rProcessing compounds:  42%|████▏     | 891/2143 [06:13<08:42,  2.40it/s]"
          ]
        },
        {
          "output_type": "stream",
          "name": "stdout",
          "text": [
            "Сохранен и добавлен в архив: compound_16211978_c1.json\n",
            "Ошибка при получении данных для формулы 0: 404\n"
          ]
        },
        {
          "output_type": "stream",
          "name": "stderr",
          "text": [
            "\rProcessing compounds:  42%|████▏     | 892/2143 [06:14<08:34,  2.43it/s]"
          ]
        },
        {
          "output_type": "stream",
          "name": "stdout",
          "text": [
            "Сохранен и добавлен в архив: compound_16211978_c1.json\n",
            "Ошибка при получении данных для формулы 0: 404\n"
          ]
        },
        {
          "output_type": "stream",
          "name": "stderr",
          "text": [
            "\rProcessing compounds:  42%|████▏     | 893/2143 [06:14<08:27,  2.46it/s]"
          ]
        },
        {
          "output_type": "stream",
          "name": "stdout",
          "text": [
            "Сохранен и добавлен в архив: compound_16211978_c1.json\n",
            "Ошибка при получении данных для формулы 0: 404\n"
          ]
        },
        {
          "output_type": "stream",
          "name": "stderr",
          "text": [
            "\rProcessing compounds:  42%|████▏     | 894/2143 [06:14<08:24,  2.48it/s]"
          ]
        },
        {
          "output_type": "stream",
          "name": "stdout",
          "text": [
            "Сохранен и добавлен в архив: compound_16211978_c1.json\n",
            "Ошибка при получении данных для формулы 0: 404\n"
          ]
        },
        {
          "output_type": "stream",
          "name": "stderr",
          "text": [
            "\rProcessing compounds:  42%|████▏     | 895/2143 [06:15<08:22,  2.49it/s]"
          ]
        },
        {
          "output_type": "stream",
          "name": "stdout",
          "text": [
            "Сохранен и добавлен в архив: compound_16211978_c1.json\n",
            "Ошибка при получении данных для формулы 0: 404\n"
          ]
        },
        {
          "output_type": "stream",
          "name": "stderr",
          "text": [
            "\rProcessing compounds:  42%|████▏     | 896/2143 [06:15<08:19,  2.50it/s]"
          ]
        },
        {
          "output_type": "stream",
          "name": "stdout",
          "text": [
            "Сохранен и добавлен в архив: compound_16211978_c1.json\n",
            "Ошибка при получении данных для формулы 0: 404\n"
          ]
        },
        {
          "output_type": "stream",
          "name": "stderr",
          "text": [
            "\rProcessing compounds:  42%|████▏     | 897/2143 [06:16<08:18,  2.50it/s]"
          ]
        },
        {
          "output_type": "stream",
          "name": "stdout",
          "text": [
            "Сохранен и добавлен в архив: compound_16211978_c1.json\n",
            "Ошибка при получении данных для формулы 0: 404\n"
          ]
        },
        {
          "output_type": "stream",
          "name": "stderr",
          "text": [
            "\rProcessing compounds:  42%|████▏     | 898/2143 [06:16<08:16,  2.51it/s]"
          ]
        },
        {
          "output_type": "stream",
          "name": "stdout",
          "text": [
            "Сохранен и добавлен в архив: compound_16211978_c1.json\n",
            "Ошибка при получении данных для формулы 0: 404\n"
          ]
        },
        {
          "output_type": "stream",
          "name": "stderr",
          "text": [
            "\rProcessing compounds:  42%|████▏     | 899/2143 [06:16<08:15,  2.51it/s]"
          ]
        },
        {
          "output_type": "stream",
          "name": "stdout",
          "text": [
            "Сохранен и добавлен в архив: compound_16211978_c1.json\n",
            "Ошибка при получении данных для формулы 0: 404\n",
            "Сохранен и добавлен в архив: compound_16211978_c1.json\n"
          ]
        },
        {
          "output_type": "stream",
          "name": "stderr",
          "text": [
            "\rProcessing compounds:  42%|████▏     | 900/2143 [06:17<08:59,  2.30it/s]"
          ]
        },
        {
          "output_type": "stream",
          "name": "stdout",
          "text": [
            "Ошибка при получении данных для формулы 0: 404\n",
            "Сохранен и добавлен в архив: compound_16211978_c1.json\n"
          ]
        },
        {
          "output_type": "stream",
          "name": "stderr",
          "text": [
            "\rProcessing compounds:  42%|████▏     | 901/2143 [06:18<10:23,  1.99it/s]"
          ]
        },
        {
          "output_type": "stream",
          "name": "stdout",
          "text": [
            "Ошибка при получении данных для формулы 0: 404\n",
            "Сохранен и добавлен в архив: compound_16211978_c1.json\n"
          ]
        },
        {
          "output_type": "stream",
          "name": "stderr",
          "text": [
            "\rProcessing compounds:  42%|████▏     | 902/2143 [06:18<09:50,  2.10it/s]"
          ]
        },
        {
          "output_type": "stream",
          "name": "stdout",
          "text": [
            "Ошибка при получении данных для формулы 0: 404\n",
            "Ошибка при получении данных для формулы Fe2.2C: 404\n"
          ]
        },
        {
          "output_type": "stream",
          "name": "stderr",
          "text": [
            "\rProcessing compounds:  42%|████▏     | 903/2143 [06:18<09:41,  2.13it/s]"
          ]
        },
        {
          "output_type": "stream",
          "name": "stdout",
          "text": [
            "Ошибка при получении данных для формулы Fe5C2: 404\n",
            "Ошибка при получении данных для формулы Fe2.2C: 404\n"
          ]
        },
        {
          "output_type": "stream",
          "name": "stderr",
          "text": [
            "\rProcessing compounds:  42%|████▏     | 904/2143 [06:19<09:15,  2.23it/s]"
          ]
        },
        {
          "output_type": "stream",
          "name": "stdout",
          "text": [
            "Ошибка при получении данных для формулы Fe5C2: 404\n",
            "Ошибка при получении данных для формулы Fe2.2C: 404\n"
          ]
        },
        {
          "output_type": "stream",
          "name": "stderr",
          "text": [
            "\rProcessing compounds:  42%|████▏     | 905/2143 [06:19<08:58,  2.30it/s]"
          ]
        },
        {
          "output_type": "stream",
          "name": "stdout",
          "text": [
            "Ошибка при получении данных для формулы Fe5C2: 404\n",
            "Ошибка при получении данных для формулы Fe2.2C: 404\n"
          ]
        },
        {
          "output_type": "stream",
          "name": "stderr",
          "text": [
            "\rProcessing compounds:  42%|████▏     | 906/2143 [06:20<08:45,  2.35it/s]"
          ]
        },
        {
          "output_type": "stream",
          "name": "stdout",
          "text": [
            "Ошибка при получении данных для формулы Fe5C2: 404\n"
          ]
        },
        {
          "output_type": "stream",
          "name": "stderr",
          "text": [
            "\rProcessing compounds:  42%|████▏     | 907/2143 [06:20<08:45,  2.35it/s]"
          ]
        },
        {
          "output_type": "stream",
          "name": "stdout",
          "text": [
            "Ошибка при получении данных для формулы Fe2.2C: 404\n",
            "Ошибка при получении данных для формулы Fe5C2: 404\n"
          ]
        },
        {
          "output_type": "stream",
          "name": "stderr",
          "text": [
            "\rProcessing compounds:  42%|████▏     | 908/2143 [06:20<08:33,  2.41it/s]"
          ]
        },
        {
          "output_type": "stream",
          "name": "stdout",
          "text": [
            "Ошибка при получении данных для формулы Fe2.2C: 404\n",
            "Ошибка при получении данных для формулы Fe5C2: 404\n"
          ]
        },
        {
          "output_type": "stream",
          "name": "stderr",
          "text": [
            "\rProcessing compounds:  42%|████▏     | 909/2143 [06:21<08:24,  2.44it/s]"
          ]
        },
        {
          "output_type": "stream",
          "name": "stdout",
          "text": [
            "Ошибка при получении данных для формулы Fe2O3: 404\n",
            "Ошибка при получении данных для формулы 0: 404\n"
          ]
        },
        {
          "output_type": "stream",
          "name": "stderr",
          "text": [
            "\rProcessing compounds:  42%|████▏     | 910/2143 [06:21<08:18,  2.47it/s]"
          ]
        },
        {
          "output_type": "stream",
          "name": "stdout",
          "text": [
            "Ошибка при получении данных для формулы Fe2O3: 404\n",
            "Ошибка при получении данных для формулы 0: 404\n"
          ]
        },
        {
          "output_type": "stream",
          "name": "stderr",
          "text": [
            "\rProcessing compounds:  43%|████▎     | 911/2143 [06:22<08:14,  2.49it/s]"
          ]
        },
        {
          "output_type": "stream",
          "name": "stdout",
          "text": [
            "Ошибка при получении данных для формулы Fe2O3: 404\n",
            "Ошибка при получении данных для формулы 0: 404\n"
          ]
        },
        {
          "output_type": "stream",
          "name": "stderr",
          "text": [
            "\rProcessing compounds:  43%|████▎     | 912/2143 [06:22<08:10,  2.51it/s]"
          ]
        },
        {
          "output_type": "stream",
          "name": "stdout",
          "text": [
            "Ошибка при получении данных для формулы Fe2O3: 404\n",
            "Ошибка при получении данных для формулы 0: 404\n"
          ]
        },
        {
          "output_type": "stream",
          "name": "stderr",
          "text": [
            "\rProcessing compounds:  43%|████▎     | 913/2143 [06:22<08:09,  2.51it/s]"
          ]
        },
        {
          "output_type": "stream",
          "name": "stdout",
          "text": [
            "Ошибка при получении данных для формулы Fe2O3: 404\n",
            "Ошибка при получении данных для формулы 0: 404\n"
          ]
        },
        {
          "output_type": "stream",
          "name": "stderr",
          "text": [
            "\rProcessing compounds:  43%|████▎     | 914/2143 [06:23<08:08,  2.52it/s]"
          ]
        },
        {
          "output_type": "stream",
          "name": "stdout",
          "text": [
            "Ошибка при получении данных для формулы Fe2O3: 404\n",
            "Ошибка при получении данных для формулы 0: 404\n"
          ]
        },
        {
          "output_type": "stream",
          "name": "stderr",
          "text": [
            "\rProcessing compounds:  43%|████▎     | 915/2143 [06:23<08:06,  2.52it/s]"
          ]
        },
        {
          "output_type": "stream",
          "name": "stdout",
          "text": [
            "Ошибка при получении данных для формулы Fe2O3: 404\n",
            "Ошибка при получении данных для формулы 0: 404\n",
            "Ошибка при получении данных для формулы Fe2O3: 404\n"
          ]
        },
        {
          "output_type": "stream",
          "name": "stderr",
          "text": [
            "\rProcessing compounds:  43%|████▎     | 916/2143 [06:24<08:34,  2.39it/s]"
          ]
        },
        {
          "output_type": "stream",
          "name": "stdout",
          "text": [
            "Ошибка при получении данных для формулы 0: 404\n",
            "Ошибка при получении данных для формулы Fe2O3: 404\n"
          ]
        },
        {
          "output_type": "stream",
          "name": "stderr",
          "text": [
            "\rProcessing compounds:  43%|████▎     | 917/2143 [06:24<08:25,  2.43it/s]"
          ]
        },
        {
          "output_type": "stream",
          "name": "stdout",
          "text": [
            "Ошибка при получении данных для формулы 0: 404\n",
            "Ошибка при получении данных для формулы Fe2O3: 404\n"
          ]
        },
        {
          "output_type": "stream",
          "name": "stderr",
          "text": [
            "\rProcessing compounds:  43%|████▎     | 918/2143 [06:24<08:19,  2.45it/s]"
          ]
        },
        {
          "output_type": "stream",
          "name": "stdout",
          "text": [
            "Ошибка при получении данных для формулы 0: 404\n",
            "Ошибка при получении данных для формулы Fe2O3: 404\n"
          ]
        },
        {
          "output_type": "stream",
          "name": "stderr",
          "text": [
            "\rProcessing compounds:  43%|████▎     | 919/2143 [06:25<08:13,  2.48it/s]"
          ]
        },
        {
          "output_type": "stream",
          "name": "stdout",
          "text": [
            "Ошибка при получении данных для формулы 0: 404\n",
            "Ошибка при получении данных для формулы Fe2O3: 404\n"
          ]
        },
        {
          "output_type": "stream",
          "name": "stderr",
          "text": [
            "\rProcessing compounds:  43%|████▎     | 920/2143 [06:25<08:08,  2.50it/s]"
          ]
        },
        {
          "output_type": "stream",
          "name": "stdout",
          "text": [
            "Ошибка при получении данных для формулы 0: 404\n",
            "Ошибка при получении данных для формулы Fe2O3: 404\n"
          ]
        },
        {
          "output_type": "stream",
          "name": "stderr",
          "text": [
            "\rProcessing compounds:  43%|████▎     | 921/2143 [06:26<08:06,  2.51it/s]"
          ]
        },
        {
          "output_type": "stream",
          "name": "stdout",
          "text": [
            "Ошибка при получении данных для формулы 0: 404\n",
            "Ошибка при получении данных для формулы Fe2O3: 404\n"
          ]
        },
        {
          "output_type": "stream",
          "name": "stderr",
          "text": [
            "\rProcessing compounds:  43%|████▎     | 922/2143 [06:26<08:04,  2.52it/s]"
          ]
        },
        {
          "output_type": "stream",
          "name": "stdout",
          "text": [
            "Ошибка при получении данных для формулы 0: 404\n",
            "Ошибка при получении данных для формулы Fe2O3: 404\n"
          ]
        },
        {
          "output_type": "stream",
          "name": "stderr",
          "text": [
            "\rProcessing compounds:  43%|████▎     | 923/2143 [06:26<08:02,  2.53it/s]"
          ]
        },
        {
          "output_type": "stream",
          "name": "stdout",
          "text": [
            "Ошибка при получении данных для формулы 0: 404\n",
            "Ошибка при получении данных для формулы Fe2O3: 404\n"
          ]
        },
        {
          "output_type": "stream",
          "name": "stderr",
          "text": [
            "\rProcessing compounds:  43%|████▎     | 924/2143 [06:27<08:03,  2.52it/s]"
          ]
        },
        {
          "output_type": "stream",
          "name": "stdout",
          "text": [
            "Ошибка при получении данных для формулы Fe4(Fe(CN)6)3: 404\n",
            "Ошибка при получении данных для формулы Fe2O3: 404\n"
          ]
        },
        {
          "output_type": "stream",
          "name": "stderr",
          "text": [
            "\rProcessing compounds:  43%|████▎     | 925/2143 [06:27<08:03,  2.52it/s]"
          ]
        },
        {
          "output_type": "stream",
          "name": "stdout",
          "text": [
            "Ошибка при получении данных для формулы Fe4(Fe(CN)6)4: 404\n"
          ]
        },
        {
          "output_type": "stream",
          "name": "stderr",
          "text": [
            "\rProcessing compounds:  43%|████▎     | 926/2143 [06:28<08:03,  2.52it/s]"
          ]
        },
        {
          "output_type": "stream",
          "name": "stdout",
          "text": [
            "Сохранен и добавлен в архив: compound_16211978_c1.json\n",
            "Ошибка при получении данных для формулы 0: 404\n"
          ]
        },
        {
          "output_type": "stream",
          "name": "stderr",
          "text": [
            "\rProcessing compounds:  43%|████▎     | 927/2143 [06:28<08:01,  2.52it/s]"
          ]
        },
        {
          "output_type": "stream",
          "name": "stdout",
          "text": [
            "Сохранен и добавлен в архив: compound_16211978_c1.json\n",
            "Ошибка при получении данных для формулы 0: 404\n"
          ]
        },
        {
          "output_type": "stream",
          "name": "stderr",
          "text": [
            "\rProcessing compounds:  43%|████▎     | 928/2143 [06:28<08:01,  2.52it/s]"
          ]
        },
        {
          "output_type": "stream",
          "name": "stdout",
          "text": [
            "Сохранен и добавлен в архив: compound_16211978_c1.json\n",
            "Ошибка при получении данных для формулы 0: 404\n"
          ]
        },
        {
          "output_type": "stream",
          "name": "stderr",
          "text": [
            "\rProcessing compounds:  43%|████▎     | 929/2143 [06:29<08:00,  2.52it/s]"
          ]
        },
        {
          "output_type": "stream",
          "name": "stdout",
          "text": [
            "Сохранен и добавлен в архив: compound_16211978_c1.json\n",
            "Ошибка при получении данных для формулы 0: 404\n"
          ]
        },
        {
          "output_type": "stream",
          "name": "stderr",
          "text": [
            "\rProcessing compounds:  43%|████▎     | 930/2143 [06:29<08:00,  2.52it/s]"
          ]
        },
        {
          "output_type": "stream",
          "name": "stdout",
          "text": [
            "Сохранен и добавлен в архив: compound_16211978_c1.json\n",
            "Ошибка при получении данных для формулы 0: 404\n"
          ]
        },
        {
          "output_type": "stream",
          "name": "stderr",
          "text": [
            "\rProcessing compounds:  43%|████▎     | 931/2143 [06:30<08:06,  2.49it/s]"
          ]
        },
        {
          "output_type": "stream",
          "name": "stdout",
          "text": [
            "Сохранен и добавлен в архив: compound_16211978_c1.json\n",
            "Ошибка при получении данных для формулы 0: 404\n"
          ]
        },
        {
          "output_type": "stream",
          "name": "stderr",
          "text": [
            "\rProcessing compounds:  43%|████▎     | 932/2143 [06:30<08:03,  2.50it/s]"
          ]
        },
        {
          "output_type": "stream",
          "name": "stdout",
          "text": [
            "Сохранен и добавлен в архив: compound_16211978_c1.json\n",
            "Ошибка при получении данных для формулы 0: 404\n"
          ]
        },
        {
          "output_type": "stream",
          "name": "stderr",
          "text": [
            "\rProcessing compounds:  44%|████▎     | 933/2143 [06:30<08:04,  2.50it/s]"
          ]
        },
        {
          "output_type": "stream",
          "name": "stdout",
          "text": [
            "Сохранен и добавлен в архив: compound_16211978_c1.json\n",
            "Ошибка при получении данных для формулы 0: 404\n",
            "Сохранен и добавлен в архив: compound_16211978_c1.json\n"
          ]
        },
        {
          "output_type": "stream",
          "name": "stderr",
          "text": [
            "\rProcessing compounds:  44%|████▎     | 934/2143 [06:31<08:46,  2.30it/s]"
          ]
        },
        {
          "output_type": "stream",
          "name": "stdout",
          "text": [
            "Ошибка при получении данных для формулы 0: 404\n",
            "Сохранен и добавлен в архив: compound_16211978_c1.json\n"
          ]
        },
        {
          "output_type": "stream",
          "name": "stderr",
          "text": [
            "\rProcessing compounds:  44%|████▎     | 935/2143 [06:32<09:46,  2.06it/s]"
          ]
        },
        {
          "output_type": "stream",
          "name": "stdout",
          "text": [
            "Ошибка при получении данных для формулы 0: 404\n",
            "Сохранен и добавлен в архив: compound_16211978_c1.json\n"
          ]
        },
        {
          "output_type": "stream",
          "name": "stderr",
          "text": [
            "\rProcessing compounds:  44%|████▎     | 936/2143 [06:32<09:50,  2.04it/s]"
          ]
        },
        {
          "output_type": "stream",
          "name": "stdout",
          "text": [
            "Ошибка при получении данных для формулы 0: 404\n",
            "Сохранен и добавлен в архив: compound_16211978_c1.json\n"
          ]
        },
        {
          "output_type": "stream",
          "name": "stderr",
          "text": [
            "\rProcessing compounds:  44%|████▎     | 937/2143 [06:33<10:09,  1.98it/s]"
          ]
        },
        {
          "output_type": "stream",
          "name": "stdout",
          "text": [
            "Ошибка при получении данных для формулы 0: 404\n"
          ]
        },
        {
          "output_type": "stream",
          "name": "stderr",
          "text": [
            "\rProcessing compounds:  44%|████▍     | 938/2143 [06:33<09:34,  2.10it/s]"
          ]
        },
        {
          "output_type": "stream",
          "name": "stdout",
          "text": [
            "Сохранен и добавлен в архив: compound_16211978_c1.json\n",
            "Ошибка при получении данных для формулы 0: 404\n",
            "Сохранен и добавлен в архив: compound_16211978_c1.json\n"
          ]
        },
        {
          "output_type": "stream",
          "name": "stderr",
          "text": [
            "\rProcessing compounds:  44%|████▍     | 939/2143 [06:33<09:23,  2.14it/s]"
          ]
        },
        {
          "output_type": "stream",
          "name": "stdout",
          "text": [
            "Ошибка при получении данных для формулы 0: 404\n",
            "Сохранен и добавлен в архив: compound_16211978_c1.json\n"
          ]
        },
        {
          "output_type": "stream",
          "name": "stderr",
          "text": [
            "\rProcessing compounds:  44%|████▍     | 940/2143 [06:34<09:14,  2.17it/s]"
          ]
        },
        {
          "output_type": "stream",
          "name": "stdout",
          "text": [
            "Ошибка при получении данных для формулы 0: 404\n",
            "Сохранен и добавлен в архив: compound_16211978_c1.json\n"
          ]
        },
        {
          "output_type": "stream",
          "name": "stderr",
          "text": [
            "\rProcessing compounds:  44%|████▍     | 941/2143 [06:34<08:53,  2.25it/s]"
          ]
        },
        {
          "output_type": "stream",
          "name": "stdout",
          "text": [
            "Ошибка при получении данных для формулы 0: 404\n"
          ]
        },
        {
          "output_type": "stream",
          "name": "stderr",
          "text": [
            "\rProcessing compounds:  44%|████▍     | 942/2143 [06:35<08:38,  2.32it/s]"
          ]
        },
        {
          "output_type": "stream",
          "name": "stdout",
          "text": [
            "Сохранен и добавлен в архив: compound_16211978_c1.json\n",
            "Ошибка при получении данных для формулы 0: 404\n",
            "Сохранен и добавлен в архив: compound_16211978_c1.json\n"
          ]
        },
        {
          "output_type": "stream",
          "name": "stderr",
          "text": [
            "\rProcessing compounds:  44%|████▍     | 943/2143 [06:35<10:31,  1.90it/s]"
          ]
        },
        {
          "output_type": "stream",
          "name": "stdout",
          "text": [
            "Сохранен и добавлен в архив: compound_73963_c2.json\n",
            "Сохранен и добавлен в архив: compound_16211978_c1.json\n"
          ]
        },
        {
          "output_type": "stream",
          "name": "stderr",
          "text": [
            "/usr/lib/python3.11/zipfile.py:1567: UserWarning: Duplicate name: 'compound_73963_c2.json'\n",
            "  return self._open_to_write(zinfo, force_zip64=force_zip64)\n",
            "\rProcessing compounds:  44%|████▍     | 944/2143 [06:36<10:39,  1.88it/s]"
          ]
        },
        {
          "output_type": "stream",
          "name": "stdout",
          "text": [
            "Сохранен и добавлен в архив: compound_73963_c2.json\n",
            "Сохранен и добавлен в архив: compound_16211978_c1.json\n"
          ]
        },
        {
          "output_type": "stream",
          "name": "stderr",
          "text": [
            "\rProcessing compounds:  44%|████▍     | 945/2143 [06:36<09:53,  2.02it/s]"
          ]
        },
        {
          "output_type": "stream",
          "name": "stdout",
          "text": [
            "Сохранен и добавлен в архив: compound_14801_c2.json\n",
            "Сохранен и добавлен в архив: compound_16211978_c1.json\n"
          ]
        },
        {
          "output_type": "stream",
          "name": "stderr",
          "text": [
            "/usr/lib/python3.11/zipfile.py:1567: UserWarning: Duplicate name: 'compound_14801_c2.json'\n",
            "  return self._open_to_write(zinfo, force_zip64=force_zip64)\n",
            "\rProcessing compounds:  44%|████▍     | 946/2143 [06:37<09:18,  2.14it/s]"
          ]
        },
        {
          "output_type": "stream",
          "name": "stdout",
          "text": [
            "Сохранен и добавлен в архив: compound_14801_c2.json\n",
            "Сохранен и добавлен в архив: compound_16211978_c1.json\n"
          ]
        },
        {
          "output_type": "stream",
          "name": "stderr",
          "text": [
            "\rProcessing compounds:  44%|████▍     | 947/2143 [06:37<08:55,  2.23it/s]"
          ]
        },
        {
          "output_type": "stream",
          "name": "stdout",
          "text": [
            "Сохранен и добавлен в архив: compound_5461123_c2.json\n",
            "Сохранен и добавлен в архив: compound_16211978_c1.json\n"
          ]
        },
        {
          "output_type": "stream",
          "name": "stderr",
          "text": [
            "/usr/lib/python3.11/zipfile.py:1567: UserWarning: Duplicate name: 'compound_5461123_c2.json'\n",
            "  return self._open_to_write(zinfo, force_zip64=force_zip64)\n",
            "\rProcessing compounds:  44%|████▍     | 948/2143 [06:38<08:49,  2.26it/s]"
          ]
        },
        {
          "output_type": "stream",
          "name": "stdout",
          "text": [
            "Сохранен и добавлен в архив: compound_5461123_c2.json\n"
          ]
        },
        {
          "output_type": "stream",
          "name": "stderr",
          "text": [
            "\rProcessing compounds:  44%|████▍     | 949/2143 [06:38<08:34,  2.32it/s]"
          ]
        },
        {
          "output_type": "stream",
          "name": "stdout",
          "text": [
            "Ошибка при получении данных для формулы FeV2O4: 404\n",
            "Ошибка при получении данных для формулы 0: 404\n"
          ]
        },
        {
          "output_type": "stream",
          "name": "stderr",
          "text": [
            "\rProcessing compounds:  44%|████▍     | 950/2143 [06:38<08:21,  2.38it/s]"
          ]
        },
        {
          "output_type": "stream",
          "name": "stdout",
          "text": [
            "Ошибка при получении данных для формулы FeV2O4: 404\n",
            "Ошибка при получении данных для формулы 0: 404\n"
          ]
        },
        {
          "output_type": "stream",
          "name": "stderr",
          "text": [
            "\rProcessing compounds:  44%|████▍     | 951/2143 [06:39<08:13,  2.42it/s]"
          ]
        },
        {
          "output_type": "stream",
          "name": "stdout",
          "text": [
            "Ошибка при получении данных для формулы Mg0.1Mn0.9Fe2O4: 404\n",
            "Ошибка при получении данных для формулы 0: 404\n"
          ]
        },
        {
          "output_type": "stream",
          "name": "stderr",
          "text": [
            "\rProcessing compounds:  44%|████▍     | 952/2143 [06:39<08:06,  2.45it/s]"
          ]
        },
        {
          "output_type": "stream",
          "name": "stdout",
          "text": [
            "Ошибка при получении данных для формулы Mg0.1Mn0.9Fe2O4: 404\n",
            "Ошибка при получении данных для формулы 0: 404\n",
            "Ошибка при получении данных для формулы Mg0.3Mn0.7Fe2O4: 404\n"
          ]
        },
        {
          "output_type": "stream",
          "name": "stderr",
          "text": [
            "\rProcessing compounds:  44%|████▍     | 953/2143 [06:40<08:15,  2.40it/s]"
          ]
        },
        {
          "output_type": "stream",
          "name": "stdout",
          "text": [
            "Ошибка при получении данных для формулы 0: 404\n"
          ]
        },
        {
          "output_type": "stream",
          "name": "stderr",
          "text": [
            "\rProcessing compounds:  45%|████▍     | 954/2143 [06:40<08:10,  2.42it/s]"
          ]
        },
        {
          "output_type": "stream",
          "name": "stdout",
          "text": [
            "Ошибка при получении данных для формулы Mg0.3Mn0.7Fe2O4: 404\n",
            "Ошибка при получении данных для формулы 0: 404\n"
          ]
        },
        {
          "output_type": "stream",
          "name": "stderr",
          "text": [
            "\rProcessing compounds:  45%|████▍     | 955/2143 [06:40<08:06,  2.44it/s]"
          ]
        },
        {
          "output_type": "stream",
          "name": "stdout",
          "text": [
            "Ошибка при получении данных для формулы Mg0.4Mn0.6Fe2O4: 404\n",
            "Ошибка при получении данных для формулы 0: 404\n"
          ]
        },
        {
          "output_type": "stream",
          "name": "stderr",
          "text": [
            "\rProcessing compounds:  45%|████▍     | 956/2143 [06:41<08:09,  2.43it/s]"
          ]
        },
        {
          "output_type": "stream",
          "name": "stdout",
          "text": [
            "Ошибка при получении данных для формулы Mg0.4Mn0.6Fe2O4: 404\n",
            "Ошибка при получении данных для формулы 0: 404\n"
          ]
        },
        {
          "output_type": "stream",
          "name": "stderr",
          "text": [
            "\rProcessing compounds:  45%|████▍     | 957/2143 [06:41<08:04,  2.45it/s]"
          ]
        },
        {
          "output_type": "stream",
          "name": "stdout",
          "text": [
            "Ошибка при получении данных для формулы Mg0.5Mn0.5Fe2O4: 404\n",
            "Ошибка при получении данных для формулы 0: 404\n"
          ]
        },
        {
          "output_type": "stream",
          "name": "stderr",
          "text": [
            "\rProcessing compounds:  45%|████▍     | 958/2143 [06:42<07:58,  2.48it/s]"
          ]
        },
        {
          "output_type": "stream",
          "name": "stdout",
          "text": [
            "Ошибка при получении данных для формулы Mg0.5Mn0.5Fe2O4: 404\n",
            "Ошибка при получении данных для формулы 0: 404\n"
          ]
        },
        {
          "output_type": "stream",
          "name": "stderr",
          "text": [
            "\rProcessing compounds:  45%|████▍     | 959/2143 [06:42<07:58,  2.47it/s]"
          ]
        },
        {
          "output_type": "stream",
          "name": "stdout",
          "text": [
            "Сохранен и добавлен в архив: compound_61548_c1.json\n",
            "Ошибка при получении данных для формулы 0: 404\n"
          ]
        },
        {
          "output_type": "stream",
          "name": "stderr",
          "text": [
            "\rProcessing compounds:  45%|████▍     | 960/2143 [06:43<07:58,  2.47it/s]"
          ]
        },
        {
          "output_type": "stream",
          "name": "stdout",
          "text": [
            "Сохранен и добавлен в архив: compound_61548_c1.json\n",
            "Ошибка при получении данных для формулы 0: 404\n"
          ]
        },
        {
          "output_type": "stream",
          "name": "stderr",
          "text": [
            "\rProcessing compounds:  45%|████▍     | 961/2143 [06:43<07:57,  2.47it/s]"
          ]
        },
        {
          "output_type": "stream",
          "name": "stdout",
          "text": [
            "Сохранен и добавлен в архив: compound_61548_c1.json\n",
            "Ошибка при получении данных для формулы 0: 404\n",
            "Ошибка при получении данных для формулы Mn0.5Zn0.5Fe2O4: 404\n"
          ]
        },
        {
          "output_type": "stream",
          "name": "stderr",
          "text": [
            "\rProcessing compounds:  45%|████▍     | 962/2143 [06:43<08:42,  2.26it/s]"
          ]
        },
        {
          "output_type": "stream",
          "name": "stdout",
          "text": [
            "Ошибка при получении данных для формулы 0: 404\n",
            "Ошибка при получении данных для формулы MnFe2O4: 404\n"
          ]
        },
        {
          "output_type": "stream",
          "name": "stderr",
          "text": [
            "\rProcessing compounds:  45%|████▍     | 963/2143 [06:44<08:33,  2.30it/s]"
          ]
        },
        {
          "output_type": "stream",
          "name": "stdout",
          "text": [
            "Ошибка при получении данных для формулы 0: 404\n",
            "Ошибка при получении данных для формулы MnFe2O4: 404\n"
          ]
        },
        {
          "output_type": "stream",
          "name": "stderr",
          "text": [
            "\rProcessing compounds:  45%|████▍     | 964/2143 [06:44<08:19,  2.36it/s]"
          ]
        },
        {
          "output_type": "stream",
          "name": "stdout",
          "text": [
            "Ошибка при получении данных для формулы 0: 404\n",
            "Ошибка при получении данных для формулы MnFe2O4: 404\n"
          ]
        },
        {
          "output_type": "stream",
          "name": "stderr",
          "text": [
            "\rProcessing compounds:  45%|████▌     | 965/2143 [06:45<08:09,  2.41it/s]"
          ]
        },
        {
          "output_type": "stream",
          "name": "stdout",
          "text": [
            "Ошибка при получении данных для формулы 0: 404\n",
            "Ошибка при получении данных для формулы MnFe2O4: 404\n"
          ]
        },
        {
          "output_type": "stream",
          "name": "stderr",
          "text": [
            "\rProcessing compounds:  45%|████▌     | 966/2143 [06:45<08:01,  2.44it/s]"
          ]
        },
        {
          "output_type": "stream",
          "name": "stdout",
          "text": [
            "Ошибка при получении данных для формулы 0: 404\n",
            "Ошибка при получении данных для формулы MnFe2O4: 404\n"
          ]
        },
        {
          "output_type": "stream",
          "name": "stderr",
          "text": [
            "\rProcessing compounds:  45%|████▌     | 967/2143 [06:45<08:06,  2.42it/s]"
          ]
        },
        {
          "output_type": "stream",
          "name": "stdout",
          "text": [
            "Ошибка при получении данных для формулы 0: 404\n",
            "Ошибка при получении данных для формулы MnFe2O4: 404\n"
          ]
        },
        {
          "output_type": "stream",
          "name": "stderr",
          "text": [
            "\rProcessing compounds:  45%|████▌     | 968/2143 [06:46<07:59,  2.45it/s]"
          ]
        },
        {
          "output_type": "stream",
          "name": "stdout",
          "text": [
            "Ошибка при получении данных для формулы 0: 404\n"
          ]
        },
        {
          "output_type": "stream",
          "name": "stderr",
          "text": [
            "\rProcessing compounds:  45%|████▌     | 969/2143 [06:46<07:56,  2.46it/s]"
          ]
        },
        {
          "output_type": "stream",
          "name": "stdout",
          "text": [
            "Ошибка при получении данных для формулы MnFe2O4: 404\n",
            "Ошибка при получении данных для формулы 0: 404\n"
          ]
        },
        {
          "output_type": "stream",
          "name": "stderr",
          "text": [
            "\rProcessing compounds:  45%|████▌     | 970/2143 [06:47<07:53,  2.48it/s]"
          ]
        },
        {
          "output_type": "stream",
          "name": "stdout",
          "text": [
            "Ошибка при получении данных для формулы MnFe2O4: 404\n",
            "Ошибка при получении данных для формулы 0: 404\n"
          ]
        },
        {
          "output_type": "stream",
          "name": "stderr",
          "text": [
            "\rProcessing compounds:  45%|████▌     | 971/2143 [06:47<07:48,  2.50it/s]"
          ]
        },
        {
          "output_type": "stream",
          "name": "stdout",
          "text": [
            "Ошибка при получении данных для формулы MnFe2O4: 404\n",
            "Ошибка при получении данных для формулы 0: 404\n"
          ]
        },
        {
          "output_type": "stream",
          "name": "stderr",
          "text": [
            "\rProcessing compounds:  45%|████▌     | 972/2143 [06:47<07:46,  2.51it/s]"
          ]
        },
        {
          "output_type": "stream",
          "name": "stdout",
          "text": [
            "Ошибка при получении данных для формулы MnFe2O4: 404\n",
            "Ошибка при получении данных для формулы 0: 404\n"
          ]
        },
        {
          "output_type": "stream",
          "name": "stderr",
          "text": [
            "\rProcessing compounds:  45%|████▌     | 973/2143 [06:48<07:45,  2.52it/s]"
          ]
        },
        {
          "output_type": "stream",
          "name": "stdout",
          "text": [
            "Ошибка при получении данных для формулы MnFe2O4: 404\n",
            "Ошибка при получении данных для формулы 0: 404\n"
          ]
        },
        {
          "output_type": "stream",
          "name": "stderr",
          "text": [
            "\rProcessing compounds:  45%|████▌     | 974/2143 [06:48<07:45,  2.51it/s]"
          ]
        },
        {
          "output_type": "stream",
          "name": "stdout",
          "text": [
            "Ошибка при получении данных для формулы MnFe2O4: 404\n",
            "Ошибка при получении данных для формулы 0: 404\n"
          ]
        },
        {
          "output_type": "stream",
          "name": "stderr",
          "text": [
            "\rProcessing compounds:  45%|████▌     | 975/2143 [06:49<07:43,  2.52it/s]"
          ]
        },
        {
          "output_type": "stream",
          "name": "stdout",
          "text": [
            "Ошибка при получении данных для формулы MnFe2O4: 404\n",
            "Ошибка при получении данных для формулы 0: 404\n",
            "Ошибка при получении данных для формулы MnFe2O4: 404\n"
          ]
        },
        {
          "output_type": "stream",
          "name": "stderr",
          "text": [
            "\rProcessing compounds:  46%|████▌     | 976/2143 [06:49<08:24,  2.31it/s]"
          ]
        },
        {
          "output_type": "stream",
          "name": "stdout",
          "text": [
            "Ошибка при получении данных для формулы 0: 404\n",
            "Ошибка при получении данных для формулы MnFe2O4: 404\n"
          ]
        },
        {
          "output_type": "stream",
          "name": "stderr",
          "text": [
            "\rProcessing compounds:  46%|████▌     | 977/2143 [06:50<08:12,  2.37it/s]"
          ]
        },
        {
          "output_type": "stream",
          "name": "stdout",
          "text": [
            "Ошибка при получении данных для формулы 0: 404\n",
            "Ошибка при получении данных для формулы MnFe2O4: 404\n"
          ]
        },
        {
          "output_type": "stream",
          "name": "stderr",
          "text": [
            "\rProcessing compounds:  46%|████▌     | 978/2143 [06:50<08:38,  2.25it/s]"
          ]
        },
        {
          "output_type": "stream",
          "name": "stdout",
          "text": [
            "Ошибка при получении данных для формулы 0: 404\n",
            "Ошибка при получении данных для формулы MnFe2O4: 404\n"
          ]
        },
        {
          "output_type": "stream",
          "name": "stderr",
          "text": [
            "\rProcessing compounds:  46%|████▌     | 979/2143 [06:50<08:19,  2.33it/s]"
          ]
        },
        {
          "output_type": "stream",
          "name": "stdout",
          "text": [
            "Ошибка при получении данных для формулы 0: 404\n",
            "Ошибка при получении данных для формулы Ni0.5Zn0.5Fe2O4: 404\n"
          ]
        },
        {
          "output_type": "stream",
          "name": "stderr",
          "text": [
            "\rProcessing compounds:  46%|████▌     | 980/2143 [06:51<08:13,  2.36it/s]"
          ]
        },
        {
          "output_type": "stream",
          "name": "stdout",
          "text": [
            "Ошибка при получении данных для формулы 0: 404\n"
          ]
        },
        {
          "output_type": "stream",
          "name": "stderr",
          "text": [
            "\rProcessing compounds:  46%|████▌     | 981/2143 [06:51<08:04,  2.40it/s]"
          ]
        },
        {
          "output_type": "stream",
          "name": "stdout",
          "text": [
            "Ошибка при получении данных для формулы Ni0.65Zn0.35Fe0.05Fe2O4: 404\n",
            "Ошибка при получении данных для формулы 0: 404\n"
          ]
        },
        {
          "output_type": "stream",
          "name": "stderr",
          "text": [
            "\rProcessing compounds:  46%|████▌     | 982/2143 [06:52<07:58,  2.43it/s]"
          ]
        },
        {
          "output_type": "stream",
          "name": "stdout",
          "text": [
            "Ошибка при получении данных для формулы Ni0.65Zn0.35Fe0.05Fe2O5: 404\n",
            "Ошибка при получении данных для формулы 0: 404\n"
          ]
        },
        {
          "output_type": "stream",
          "name": "stderr",
          "text": [
            "\rProcessing compounds:  46%|████▌     | 983/2143 [06:52<07:53,  2.45it/s]"
          ]
        },
        {
          "output_type": "stream",
          "name": "stdout",
          "text": [
            "Ошибка при получении данных для формулы Ni0.65Zn0.35Fe0.05Fe2O6: 404\n",
            "Ошибка при получении данных для формулы 0: 404\n"
          ]
        },
        {
          "output_type": "stream",
          "name": "stderr",
          "text": [
            "\rProcessing compounds:  46%|████▌     | 984/2143 [06:52<07:49,  2.47it/s]"
          ]
        },
        {
          "output_type": "stream",
          "name": "stdout",
          "text": [
            "Ошибка при получении данных для формулы Ni0.65Zn0.35Fe0.05Fe2O7: 404\n",
            "Ошибка при получении данных для формулы 0: 404\n"
          ]
        },
        {
          "output_type": "stream",
          "name": "stderr",
          "text": [
            "\rProcessing compounds:  46%|████▌     | 985/2143 [06:53<07:47,  2.48it/s]"
          ]
        },
        {
          "output_type": "stream",
          "name": "stdout",
          "text": [
            "Сохранен и добавлен в архив: compound_122164822_c1.json\n",
            "Ошибка при получении данных для формулы 0: 404\n"
          ]
        },
        {
          "output_type": "stream",
          "name": "stderr",
          "text": [
            "\rProcessing compounds:  46%|████▌     | 986/2143 [06:53<07:44,  2.49it/s]"
          ]
        },
        {
          "output_type": "stream",
          "name": "stdout",
          "text": [
            "Сохранен и добавлен в архив: compound_122164822_c1.json\n",
            "Ошибка при получении данных для формулы 0: 404\n"
          ]
        },
        {
          "output_type": "stream",
          "name": "stderr",
          "text": [
            "\rProcessing compounds:  46%|████▌     | 987/2143 [06:54<07:41,  2.51it/s]"
          ]
        },
        {
          "output_type": "stream",
          "name": "stdout",
          "text": [
            "Сохранен и добавлен в архив: compound_122164822_c1.json\n",
            "Ошибка при получении данных для формулы 0: 404\n"
          ]
        },
        {
          "output_type": "stream",
          "name": "stderr",
          "text": [
            "\rProcessing compounds:  46%|████▌     | 988/2143 [06:54<07:40,  2.51it/s]"
          ]
        },
        {
          "output_type": "stream",
          "name": "stdout",
          "text": [
            "Сохранен и добавлен в архив: compound_122164822_c1.json\n",
            "Ошибка при получении данных для формулы 0: 404\n"
          ]
        },
        {
          "output_type": "stream",
          "name": "stderr",
          "text": [
            "\rProcessing compounds:  46%|████▌     | 989/2143 [06:54<07:44,  2.49it/s]"
          ]
        },
        {
          "output_type": "stream",
          "name": "stdout",
          "text": [
            "Сохранен и добавлен в архив: compound_122164822_c1.json\n",
            "Ошибка при получении данных для формулы 0: 404\n"
          ]
        },
        {
          "output_type": "stream",
          "name": "stderr",
          "text": [
            "\rProcessing compounds:  46%|████▌     | 990/2143 [06:55<07:43,  2.49it/s]"
          ]
        },
        {
          "output_type": "stream",
          "name": "stdout",
          "text": [
            "Сохранен и добавлен в архив: compound_122164822_c1.json\n",
            "Ошибка при получении данных для формулы 0: 404\n"
          ]
        },
        {
          "output_type": "stream",
          "name": "stderr",
          "text": [
            "\rProcessing compounds:  46%|████▌     | 991/2143 [06:55<07:44,  2.48it/s]"
          ]
        },
        {
          "output_type": "stream",
          "name": "stdout",
          "text": [
            "Сохранен и добавлен в архив: compound_122164822_c1.json\n",
            "Ошибка при получении данных для формулы 0: 404\n"
          ]
        },
        {
          "output_type": "stream",
          "name": "stderr",
          "text": [
            "\rProcessing compounds:  46%|████▋     | 992/2143 [06:56<07:44,  2.48it/s]"
          ]
        },
        {
          "output_type": "stream",
          "name": "stdout",
          "text": [
            "Сохранен и добавлен в архив: compound_122164822_c1.json\n",
            "Ошибка при получении данных для формулы 0: 404\n"
          ]
        },
        {
          "output_type": "stream",
          "name": "stderr",
          "text": [
            "\rProcessing compounds:  46%|████▋     | 993/2143 [06:56<07:43,  2.48it/s]"
          ]
        },
        {
          "output_type": "stream",
          "name": "stdout",
          "text": [
            "Сохранен и добавлен в архив: compound_23985_c1.json\n",
            "Ошибка при получении данных для формулы NiCo2O4: 404\n"
          ]
        },
        {
          "output_type": "stream",
          "name": "stderr",
          "text": [
            "\rProcessing compounds:  46%|████▋     | 994/2143 [06:56<07:41,  2.49it/s]"
          ]
        },
        {
          "output_type": "stream",
          "name": "stdout",
          "text": [
            "Сохранен и добавлен в архив: compound_23985_c1.json\n",
            "Ошибка при получении данных для формулы NiCo2O4: 404\n"
          ]
        },
        {
          "output_type": "stream",
          "name": "stderr",
          "text": [
            "\rProcessing compounds:  46%|████▋     | 995/2143 [06:57<07:40,  2.49it/s]"
          ]
        },
        {
          "output_type": "stream",
          "name": "stdout",
          "text": [
            "Сохранен и добавлен в архив: compound_23985_c1.json\n",
            "Ошибка при получении данных для формулы NiCo2O4: 404\n"
          ]
        },
        {
          "output_type": "stream",
          "name": "stderr",
          "text": [
            "\rProcessing compounds:  46%|████▋     | 996/2143 [06:57<07:43,  2.47it/s]"
          ]
        },
        {
          "output_type": "stream",
          "name": "stdout",
          "text": [
            "Сохранен и добавлен в архив: compound_122164822_c1.json\n",
            "Ошибка при получении данных для формулы 0: 404\n",
            "Сохранен и добавлен в архив: compound_122164822_c1.json\n"
          ]
        },
        {
          "output_type": "stream",
          "name": "stderr",
          "text": [
            "\rProcessing compounds:  47%|████▋     | 997/2143 [06:58<07:50,  2.44it/s]"
          ]
        },
        {
          "output_type": "stream",
          "name": "stdout",
          "text": [
            "Ошибка при получении данных для формулы 0: 404\n"
          ]
        },
        {
          "output_type": "stream",
          "name": "stderr",
          "text": [
            "\rProcessing compounds:  47%|████▋     | 998/2143 [06:58<07:47,  2.45it/s]"
          ]
        },
        {
          "output_type": "stream",
          "name": "stdout",
          "text": [
            "Сохранен и добавлен в архив: compound_122164822_c1.json\n",
            "Ошибка при получении данных для формулы 0: 404\n",
            "Ошибка при получении данных для формулы NiTe: 404\n"
          ]
        },
        {
          "output_type": "stream",
          "name": "stderr",
          "text": [
            "\rProcessing compounds:  47%|████▋     | 999/2143 [06:59<07:46,  2.45it/s]"
          ]
        },
        {
          "output_type": "stream",
          "name": "stdout",
          "text": [
            "Ошибка при получении данных для формулы 0: 404\n",
            "Сохранен и добавлен в архив: compound_23938_c1.json\n"
          ]
        },
        {
          "output_type": "stream",
          "name": "stderr",
          "text": [
            "\rProcessing compounds:  47%|████▋     | 1000/2143 [06:59<07:42,  2.47it/s]"
          ]
        },
        {
          "output_type": "stream",
          "name": "stdout",
          "text": [
            "Ошибка при получении данных для формулы Fe2O3: 404\n"
          ]
        },
        {
          "output_type": "stream",
          "name": "stderr",
          "text": [
            "/usr/lib/python3.11/zipfile.py:1567: UserWarning: Duplicate name: 'compound_23938_c1.json'\n",
            "  return self._open_to_write(zinfo, force_zip64=force_zip64)\n",
            "\rProcessing compounds:  47%|████▋     | 1001/2143 [06:59<07:42,  2.47it/s]"
          ]
        },
        {
          "output_type": "stream",
          "name": "stdout",
          "text": [
            "Сохранен и добавлен в архив: compound_23938_c1.json\n",
            "Ошибка при получении данных для формулы Fe2O3: 404\n"
          ]
        },
        {
          "output_type": "stream",
          "name": "stderr",
          "text": [
            "\rProcessing compounds:  47%|████▋     | 1002/2143 [07:00<07:39,  2.48it/s]"
          ]
        },
        {
          "output_type": "stream",
          "name": "stdout",
          "text": [
            "Сохранен и добавлен в архив: compound_23938_c1.json\n",
            "Ошибка при получении данных для формулы Fe2O3: 404\n"
          ]
        },
        {
          "output_type": "stream",
          "name": "stderr",
          "text": [
            "\rProcessing compounds:  47%|████▋     | 1003/2143 [07:00<07:36,  2.49it/s]"
          ]
        },
        {
          "output_type": "stream",
          "name": "stdout",
          "text": [
            "Ошибка при получении данных для формулы Tb0.22Fe0.78Fe2O4: 404\n",
            "Ошибка при получении данных для формулы 0: 404\n"
          ]
        },
        {
          "output_type": "stream",
          "name": "stderr",
          "text": [
            "\rProcessing compounds:  47%|████▋     | 1004/2143 [07:01<07:35,  2.50it/s]"
          ]
        },
        {
          "output_type": "stream",
          "name": "stdout",
          "text": [
            "Ошибка при получении данных для формулы Tb0.22Fe0.78Fe2O4: 404\n",
            "Ошибка при получении данных для формулы 0: 404\n"
          ]
        },
        {
          "output_type": "stream",
          "name": "stderr",
          "text": [
            "\rProcessing compounds:  47%|████▋     | 1005/2143 [07:01<07:35,  2.50it/s]"
          ]
        },
        {
          "output_type": "stream",
          "name": "stdout",
          "text": [
            "Ошибка при получении данных для формулы Tb0.22Fe0.78Fe2O4: 404\n",
            "Ошибка при получении данных для формулы 0: 404\n"
          ]
        },
        {
          "output_type": "stream",
          "name": "stderr",
          "text": [
            "\rProcessing compounds:  47%|████▋     | 1006/2143 [07:01<07:34,  2.50it/s]"
          ]
        },
        {
          "output_type": "stream",
          "name": "stdout",
          "text": [
            "Ошибка при получении данных для формулы Tb0.5Fe0.5Fe2O4: 404\n",
            "Ошибка при получении данных для формулы 0: 404\n"
          ]
        },
        {
          "output_type": "stream",
          "name": "stderr",
          "text": [
            "\rProcessing compounds:  47%|████▋     | 1007/2143 [07:02<07:33,  2.50it/s]"
          ]
        },
        {
          "output_type": "stream",
          "name": "stdout",
          "text": [
            "Ошибка при получении данных для формулы Tb0.5Fe0.5Fe2O4: 404\n",
            "Ошибка при получении данных для формулы 0: 404\n",
            "Ошибка при получении данных для формулы Tb0.5Fe0.5Fe2O4: 404\n"
          ]
        },
        {
          "output_type": "stream",
          "name": "stderr",
          "text": [
            "\rProcessing compounds:  47%|████▋     | 1008/2143 [07:02<08:15,  2.29it/s]"
          ]
        },
        {
          "output_type": "stream",
          "name": "stdout",
          "text": [
            "Ошибка при получении данных для формулы 0: 404\n"
          ]
        },
        {
          "output_type": "stream",
          "name": "stderr",
          "text": [
            "\rProcessing compounds:  47%|████▋     | 1009/2143 [07:03<08:01,  2.35it/s]"
          ]
        },
        {
          "output_type": "stream",
          "name": "stdout",
          "text": [
            "Ошибка при получении данных для формулы Tb0.75Fe0.25Fe2O4: 404\n",
            "Ошибка при получении данных для формулы 0: 404\n"
          ]
        },
        {
          "output_type": "stream",
          "name": "stderr",
          "text": [
            "\rProcessing compounds:  47%|████▋     | 1010/2143 [07:03<07:52,  2.40it/s]"
          ]
        },
        {
          "output_type": "stream",
          "name": "stdout",
          "text": [
            "Ошибка при получении данных для формулы Tb0.75Fe0.25Fe2O4: 404\n",
            "Ошибка при получении данных для формулы 0: 404\n"
          ]
        },
        {
          "output_type": "stream",
          "name": "stderr",
          "text": [
            "\rProcessing compounds:  47%|████▋     | 1011/2143 [07:03<08:02,  2.35it/s]"
          ]
        },
        {
          "output_type": "stream",
          "name": "stdout",
          "text": [
            "Ошибка при получении данных для формулы Tb0.75Fe0.25Fe2O4: 404\n",
            "Ошибка при получении данных для формулы 0: 404\n"
          ]
        },
        {
          "output_type": "stream",
          "name": "stderr",
          "text": [
            "\rProcessing compounds:  47%|████▋     | 1012/2143 [07:04<07:54,  2.39it/s]"
          ]
        },
        {
          "output_type": "stream",
          "name": "stdout",
          "text": [
            "Ошибка при получении данных для формулы Zn0.1Mn0.9Fe2O4: 404\n",
            "Ошибка при получении данных для формулы 0: 404\n"
          ]
        },
        {
          "output_type": "stream",
          "name": "stderr",
          "text": [
            "\rProcessing compounds:  47%|████▋     | 1013/2143 [07:04<07:44,  2.43it/s]"
          ]
        },
        {
          "output_type": "stream",
          "name": "stdout",
          "text": [
            "Ошибка при получении данных для формулы Zn0.1Mn0.9Fe2O4: 404\n",
            "Ошибка при получении данных для формулы 0: 404\n"
          ]
        },
        {
          "output_type": "stream",
          "name": "stderr",
          "text": [
            "\rProcessing compounds:  47%|████▋     | 1014/2143 [07:05<07:38,  2.46it/s]"
          ]
        },
        {
          "output_type": "stream",
          "name": "stdout",
          "text": [
            "Ошибка при получении данных для формулы Zn0.1Mn0.9Fe2O4: 404\n",
            "Ошибка при получении данных для формулы 0: 404\n"
          ]
        },
        {
          "output_type": "stream",
          "name": "stderr",
          "text": [
            "\rProcessing compounds:  47%|████▋     | 1015/2143 [07:05<07:36,  2.47it/s]"
          ]
        },
        {
          "output_type": "stream",
          "name": "stdout",
          "text": [
            "Ошибка при получении данных для формулы Zn0.1Mn0.9Fe2O4: 404\n",
            "Ошибка при получении данных для формулы 0: 404\n",
            "Ошибка при получении данных для формулы Zn0.2Mn0.8Fe2O4: 404\n"
          ]
        },
        {
          "output_type": "stream",
          "name": "stderr",
          "text": [
            "\rProcessing compounds:  47%|████▋     | 1016/2143 [07:06<07:52,  2.38it/s]"
          ]
        },
        {
          "output_type": "stream",
          "name": "stdout",
          "text": [
            "Ошибка при получении данных для формулы 0: 404\n"
          ]
        },
        {
          "output_type": "stream",
          "name": "stderr",
          "text": [
            "\rProcessing compounds:  47%|████▋     | 1017/2143 [07:06<08:14,  2.28it/s]"
          ]
        },
        {
          "output_type": "stream",
          "name": "stdout",
          "text": [
            "Ошибка при получении данных для формулы Zn0.2Mn0.8Fe2O4: 404\n",
            "Ошибка при получении данных для формулы 0: 404\n"
          ]
        },
        {
          "output_type": "stream",
          "name": "stderr",
          "text": [
            "\rProcessing compounds:  48%|████▊     | 1018/2143 [07:06<08:01,  2.34it/s]"
          ]
        },
        {
          "output_type": "stream",
          "name": "stdout",
          "text": [
            "Ошибка при получении данных для формулы Zn0.2Mn0.8Fe2O4: 404\n",
            "Ошибка при получении данных для формулы 0: 404\n",
            "Ошибка при получении данных для формулы Zn0.2Mn0.8Fe2O4: 404\n"
          ]
        },
        {
          "output_type": "stream",
          "name": "stderr",
          "text": [
            "\rProcessing compounds:  48%|████▊     | 1019/2143 [07:07<09:34,  1.96it/s]"
          ]
        },
        {
          "output_type": "stream",
          "name": "stdout",
          "text": [
            "Ошибка при получении данных для формулы 0: 404\n",
            "Ошибка при получении данных для формулы Zn0.3Co0.7Fe2O4: 404\n",
            "Ошибка при получении данных для формулы 0: 404\n"
          ]
        },
        {
          "output_type": "stream",
          "name": "stderr",
          "text": [
            "Processing compounds:  48%|████▊     | 1021/2143 [07:08<08:49,  2.12it/s]"
          ]
        },
        {
          "output_type": "stream",
          "name": "stdout",
          "text": [
            "Ошибка при получении данных для формулы Zn0.3Mn0.7Fe2O4: 404\n",
            "Ошибка при получении данных для формулы 0: 404\n"
          ]
        },
        {
          "output_type": "stream",
          "name": "stderr",
          "text": [
            "\rProcessing compounds:  48%|████▊     | 1022/2143 [07:08<08:23,  2.22it/s]"
          ]
        },
        {
          "output_type": "stream",
          "name": "stdout",
          "text": [
            "Ошибка при получении данных для формулы Zn0.3Mn0.7Fe2O4: 404\n",
            "Ошибка при получении данных для формулы 0: 404\n"
          ]
        },
        {
          "output_type": "stream",
          "name": "stderr",
          "text": [
            "\rProcessing compounds:  48%|████▊     | 1023/2143 [07:09<08:05,  2.31it/s]"
          ]
        },
        {
          "output_type": "stream",
          "name": "stdout",
          "text": [
            "Ошибка при получении данных для формулы Zn0.3Mn0.7Fe2O4: 404\n",
            "Ошибка при получении данных для формулы 0: 404\n"
          ]
        },
        {
          "output_type": "stream",
          "name": "stderr",
          "text": [
            "\rProcessing compounds:  48%|████▊     | 1024/2143 [07:09<08:01,  2.32it/s]"
          ]
        },
        {
          "output_type": "stream",
          "name": "stdout",
          "text": [
            "Ошибка при получении данных для формулы Zn0.3Mn0.7Fe2O4: 404\n",
            "Ошибка при получении данных для формулы 0: 404\n"
          ]
        },
        {
          "output_type": "stream",
          "name": "stderr",
          "text": [
            "\rProcessing compounds:  48%|████▊     | 1025/2143 [07:10<07:50,  2.38it/s]"
          ]
        },
        {
          "output_type": "stream",
          "name": "stdout",
          "text": [
            "Ошибка при получении данных для формулы Zn0.4Mn0.6Fe2O4: 404\n",
            "Ошибка при получении данных для формулы 0: 404\n"
          ]
        },
        {
          "output_type": "stream",
          "name": "stderr",
          "text": [
            "\rProcessing compounds:  48%|████▊     | 1026/2143 [07:10<07:40,  2.43it/s]"
          ]
        },
        {
          "output_type": "stream",
          "name": "stdout",
          "text": [
            "Ошибка при получении данных для формулы Zn0.4Mn0.6Fe2O4: 404\n",
            "Ошибка при получении данных для формулы 0: 404\n"
          ]
        },
        {
          "output_type": "stream",
          "name": "stderr",
          "text": [
            "\rProcessing compounds:  48%|████▊     | 1027/2143 [07:10<07:35,  2.45it/s]"
          ]
        },
        {
          "output_type": "stream",
          "name": "stdout",
          "text": [
            "Ошибка при получении данных для формулы Zn0.4Mn0.6Fe2O4: 404\n",
            "Ошибка при получении данных для формулы 0: 404\n"
          ]
        },
        {
          "output_type": "stream",
          "name": "stderr",
          "text": [
            "\rProcessing compounds:  48%|████▊     | 1028/2143 [07:11<07:29,  2.48it/s]"
          ]
        },
        {
          "output_type": "stream",
          "name": "stdout",
          "text": [
            "Ошибка при получении данных для формулы Zn0.4Mn0.6Fe2O4: 404\n",
            "Ошибка при получении данных для формулы 0: 404\n"
          ]
        },
        {
          "output_type": "stream",
          "name": "stderr",
          "text": [
            "\rProcessing compounds:  48%|████▊     | 1029/2143 [07:11<07:36,  2.44it/s]"
          ]
        },
        {
          "output_type": "stream",
          "name": "stdout",
          "text": [
            "Ошибка при получении данных для формулы Zn0.5Mn0.5Fe2O4: 404\n",
            "Ошибка при получении данных для формулы 0: 404\n",
            "Ошибка при получении данных для формулы Zn0.5Mn0.5Fe2O4: 404\n"
          ]
        },
        {
          "output_type": "stream",
          "name": "stderr",
          "text": [
            "\rProcessing compounds:  48%|████▊     | 1030/2143 [07:12<07:45,  2.39it/s]"
          ]
        },
        {
          "output_type": "stream",
          "name": "stdout",
          "text": [
            "Ошибка при получении данных для формулы 0: 404\n"
          ]
        },
        {
          "output_type": "stream",
          "name": "stderr",
          "text": [
            "\rProcessing compounds:  48%|████▊     | 1031/2143 [07:12<07:53,  2.35it/s]"
          ]
        },
        {
          "output_type": "stream",
          "name": "stdout",
          "text": [
            "Ошибка при получении данных для формулы Zn0.5Mn0.5Fe2O4: 404\n",
            "Ошибка при получении данных для формулы 0: 404\n"
          ]
        },
        {
          "output_type": "stream",
          "name": "stderr",
          "text": [
            "\rProcessing compounds:  48%|████▊     | 1032/2143 [07:13<07:42,  2.40it/s]"
          ]
        },
        {
          "output_type": "stream",
          "name": "stdout",
          "text": [
            "Ошибка при получении данных для формулы Zn0.5Mn0.5Fe2O4: 404\n",
            "Ошибка при получении данных для формулы 0: 404\n"
          ]
        },
        {
          "output_type": "stream",
          "name": "stderr",
          "text": [
            "\rProcessing compounds:  48%|████▊     | 1033/2143 [07:13<07:44,  2.39it/s]"
          ]
        },
        {
          "output_type": "stream",
          "name": "stdout",
          "text": [
            "Ошибка при получении данных для формулы Zn0.6Mn0.4Fe2O4: 404\n",
            "Ошибка при получении данных для формулы 0: 404\n"
          ]
        },
        {
          "output_type": "stream",
          "name": "stderr",
          "text": [
            "\rProcessing compounds:  48%|████▊     | 1034/2143 [07:13<07:52,  2.35it/s]"
          ]
        },
        {
          "output_type": "stream",
          "name": "stdout",
          "text": [
            "Ошибка при получении данных для формулы Zn0.6Mn0.4Fe2O4: 404\n",
            "Ошибка при получении данных для формулы 0: 404\n"
          ]
        },
        {
          "output_type": "stream",
          "name": "stderr",
          "text": [
            "\rProcessing compounds:  48%|████▊     | 1035/2143 [07:14<07:41,  2.40it/s]"
          ]
        },
        {
          "output_type": "stream",
          "name": "stdout",
          "text": [
            "Ошибка при получении данных для формулы Zn0.6Mn0.4Fe2O4: 404\n",
            "Ошибка при получении данных для формулы 0: 404\n"
          ]
        },
        {
          "output_type": "stream",
          "name": "stderr",
          "text": [
            "\rProcessing compounds:  48%|████▊     | 1036/2143 [07:14<07:35,  2.43it/s]"
          ]
        },
        {
          "output_type": "stream",
          "name": "stdout",
          "text": [
            "Ошибка при получении данных для формулы Zn0.6Mn0.4Fe2O4: 404\n",
            "Ошибка при получении данных для формулы 0: 404\n"
          ]
        },
        {
          "output_type": "stream",
          "name": "stderr",
          "text": [
            "\rProcessing compounds:  48%|████▊     | 1037/2143 [07:15<07:29,  2.46it/s]"
          ]
        },
        {
          "output_type": "stream",
          "name": "stdout",
          "text": [
            "Ошибка при получении данных для формулы Zn0.7Mn0.3Fe2O4: 404\n",
            "Ошибка при получении данных для формулы 0: 404\n",
            "Ошибка при получении данных для формулы Zn0.7Mn0.3Fe2O4: 404\n"
          ]
        },
        {
          "output_type": "stream",
          "name": "stderr",
          "text": [
            "\rProcessing compounds:  48%|████▊     | 1038/2143 [07:15<07:27,  2.47it/s]"
          ]
        },
        {
          "output_type": "stream",
          "name": "stdout",
          "text": [
            "Ошибка при получении данных для формулы 0: 404\n"
          ]
        },
        {
          "output_type": "stream",
          "name": "stderr",
          "text": [
            "\rProcessing compounds:  48%|████▊     | 1039/2143 [07:15<07:25,  2.48it/s]"
          ]
        },
        {
          "output_type": "stream",
          "name": "stdout",
          "text": [
            "Ошибка при получении данных для формулы Zn0.7Mn0.3Fe2O4: 404\n",
            "Ошибка при получении данных для формулы 0: 404\n"
          ]
        },
        {
          "output_type": "stream",
          "name": "stderr",
          "text": [
            "\rProcessing compounds:  49%|████▊     | 1040/2143 [07:16<07:22,  2.49it/s]"
          ]
        },
        {
          "output_type": "stream",
          "name": "stdout",
          "text": [
            "Ошибка при получении данных для формулы Zn0.7Mn0.3Fe2O4: 404\n",
            "Ошибка при получении данных для формулы 0: 404\n"
          ]
        },
        {
          "output_type": "stream",
          "name": "stderr",
          "text": [
            "\rProcessing compounds:  49%|████▊     | 1041/2143 [07:16<07:21,  2.50it/s]"
          ]
        },
        {
          "output_type": "stream",
          "name": "stdout",
          "text": [
            "Ошибка при получении данных для формулы Zn0.8Mn0.2Fe2O4: 404\n",
            "Ошибка при получении данных для формулы 0: 404\n"
          ]
        },
        {
          "output_type": "stream",
          "name": "stderr",
          "text": [
            "\rProcessing compounds:  49%|████▊     | 1042/2143 [07:17<07:21,  2.49it/s]"
          ]
        },
        {
          "output_type": "stream",
          "name": "stdout",
          "text": [
            "Ошибка при получении данных для формулы Zn0.8Mn0.2Fe2O4: 404\n",
            "Ошибка при получении данных для формулы 0: 404\n",
            "Ошибка при получении данных для формулы Zn0.8Mn0.2Fe2O4: 404\n"
          ]
        },
        {
          "output_type": "stream",
          "name": "stderr",
          "text": [
            "\rProcessing compounds:  49%|████▊     | 1043/2143 [07:17<07:26,  2.46it/s]"
          ]
        },
        {
          "output_type": "stream",
          "name": "stdout",
          "text": [
            "Ошибка при получении данных для формулы 0: 404\n",
            "Ошибка при получении данных для формулы Zn0.8Mn0.2Fe2O4: 404\n"
          ]
        },
        {
          "output_type": "stream",
          "name": "stderr",
          "text": [
            "\rProcessing compounds:  49%|████▊     | 1044/2143 [07:17<07:22,  2.48it/s]"
          ]
        },
        {
          "output_type": "stream",
          "name": "stdout",
          "text": [
            "Ошибка при получении данных для формулы 0: 404\n"
          ]
        },
        {
          "output_type": "stream",
          "name": "stderr",
          "text": [
            "\rProcessing compounds:  49%|████▉     | 1045/2143 [07:18<07:21,  2.49it/s]"
          ]
        },
        {
          "output_type": "stream",
          "name": "stdout",
          "text": [
            "Ошибка при получении данных для формулы Zn0.9Mn0.1Fe2O4: 404\n",
            "Ошибка при получении данных для формулы 0: 404\n",
            "Ошибка при получении данных для формулы Zn0.9Mn0.1Fe2O4: 404\n"
          ]
        },
        {
          "output_type": "stream",
          "name": "stderr",
          "text": [
            "\rProcessing compounds:  49%|████▉     | 1046/2143 [07:18<07:51,  2.32it/s]"
          ]
        },
        {
          "output_type": "stream",
          "name": "stdout",
          "text": [
            "Ошибка при получении данных для формулы 0: 404\n"
          ]
        },
        {
          "output_type": "stream",
          "name": "stderr",
          "text": [
            "\rProcessing compounds:  49%|████▉     | 1047/2143 [07:19<07:53,  2.31it/s]"
          ]
        },
        {
          "output_type": "stream",
          "name": "stdout",
          "text": [
            "Ошибка при получении данных для формулы Zn0.9Mn0.1Fe2O4: 404\n",
            "Ошибка при получении данных для формулы 0: 404\n"
          ]
        },
        {
          "output_type": "stream",
          "name": "stderr",
          "text": [
            "\rProcessing compounds:  49%|████▉     | 1048/2143 [07:19<07:44,  2.36it/s]"
          ]
        },
        {
          "output_type": "stream",
          "name": "stdout",
          "text": [
            "Ошибка при получении данных для формулы Zn0.9Mn0.1Fe2O4: 404\n",
            "Ошибка при получении данных для формулы 0: 404\n"
          ]
        },
        {
          "output_type": "stream",
          "name": "stderr",
          "text": [
            "\rProcessing compounds:  49%|████▉     | 1049/2143 [07:20<07:37,  2.39it/s]"
          ]
        },
        {
          "output_type": "stream",
          "name": "stdout",
          "text": [
            "Сохранен и добавлен в архив: compound_11831558_c1.json\n",
            "Ошибка при получении данных для формулы 0: 404\n"
          ]
        },
        {
          "output_type": "stream",
          "name": "stderr",
          "text": [
            "/usr/lib/python3.11/zipfile.py:1567: UserWarning: Duplicate name: 'compound_11831558_c1.json'\n",
            "  return self._open_to_write(zinfo, force_zip64=force_zip64)\n"
          ]
        },
        {
          "output_type": "stream",
          "name": "stdout",
          "text": [
            "Сохранен и добавлен в архив: compound_11831558_c1.json\n"
          ]
        },
        {
          "output_type": "stream",
          "name": "stderr",
          "text": [
            "\rProcessing compounds:  49%|████▉     | 1050/2143 [07:20<08:51,  2.06it/s]"
          ]
        },
        {
          "output_type": "stream",
          "name": "stdout",
          "text": [
            "Ошибка при получении данных для формулы 0: 404\n"
          ]
        },
        {
          "output_type": "stream",
          "name": "stderr",
          "text": [
            "\rProcessing compounds:  49%|████▉     | 1051/2143 [07:21<08:23,  2.17it/s]"
          ]
        },
        {
          "output_type": "stream",
          "name": "stdout",
          "text": [
            "Сохранен и добавлен в архив: compound_11831558_c1.json\n",
            "Ошибка при получении данных для формулы 0: 404\n"
          ]
        },
        {
          "output_type": "stream",
          "name": "stderr",
          "text": [
            "\rProcessing compounds:  49%|████▉     | 1052/2143 [07:21<08:02,  2.26it/s]"
          ]
        },
        {
          "output_type": "stream",
          "name": "stdout",
          "text": [
            "Сохранен и добавлен в архив: compound_11831558_c1.json\n",
            "Ошибка при получении данных для формулы 0: 404\n"
          ]
        },
        {
          "output_type": "stream",
          "name": "stderr",
          "text": [
            "\rProcessing compounds:  49%|████▉     | 1053/2143 [07:21<07:46,  2.34it/s]"
          ]
        },
        {
          "output_type": "stream",
          "name": "stdout",
          "text": [
            "Сохранен и добавлен в архив: compound_11831558_c1.json\n",
            "Ошибка при получении данных для формулы 0: 404\n",
            "Сохранен и добавлен в архив: compound_11831558_c1.json\n"
          ]
        },
        {
          "output_type": "stream",
          "name": "stderr",
          "text": [
            "\rProcessing compounds:  49%|████▉     | 1054/2143 [07:22<07:45,  2.34it/s]"
          ]
        },
        {
          "output_type": "stream",
          "name": "stdout",
          "text": [
            "Ошибка при получении данных для формулы 0: 404\n",
            "Сохранен и добавлен в архив: compound_11831558_c1.json\n"
          ]
        },
        {
          "output_type": "stream",
          "name": "stderr",
          "text": [
            "\rProcessing compounds:  49%|████▉     | 1055/2143 [07:22<07:53,  2.30it/s]"
          ]
        },
        {
          "output_type": "stream",
          "name": "stdout",
          "text": [
            "Ошибка при получении данных для формулы 0: 404\n",
            "Сохранен и добавлен в архив: compound_11831558_c1.json\n"
          ]
        },
        {
          "output_type": "stream",
          "name": "stderr",
          "text": [
            "\rProcessing compounds:  49%|████▉     | 1056/2143 [07:23<08:10,  2.22it/s]"
          ]
        },
        {
          "output_type": "stream",
          "name": "stdout",
          "text": [
            "Ошибка при получении данных для формулы 0: 404\n"
          ]
        },
        {
          "output_type": "stream",
          "name": "stderr",
          "text": [
            "\rProcessing compounds:  49%|████▉     | 1057/2143 [07:23<07:53,  2.29it/s]"
          ]
        },
        {
          "output_type": "stream",
          "name": "stdout",
          "text": [
            "Сохранен и добавлен в архив: compound_11831558_c1.json\n",
            "Ошибка при получении данных для формулы 0: 404\n"
          ]
        },
        {
          "output_type": "stream",
          "name": "stderr",
          "text": [
            "\rProcessing compounds:  49%|████▉     | 1058/2143 [07:24<07:39,  2.36it/s]"
          ]
        },
        {
          "output_type": "stream",
          "name": "stdout",
          "text": [
            "Сохранен и добавлен в архив: compound_11831558_c1.json\n",
            "Ошибка при получении данных для формулы 0: 404\n"
          ]
        },
        {
          "output_type": "stream",
          "name": "stderr",
          "text": [
            "\rProcessing compounds:  49%|████▉     | 1059/2143 [07:24<07:30,  2.41it/s]"
          ]
        },
        {
          "output_type": "stream",
          "name": "stdout",
          "text": [
            "Сохранен и добавлен в архив: compound_11831558_c1.json\n",
            "Ошибка при получении данных для формулы 0: 404\n"
          ]
        },
        {
          "output_type": "stream",
          "name": "stderr",
          "text": [
            "\rProcessing compounds:  49%|████▉     | 1060/2143 [07:24<07:24,  2.44it/s]"
          ]
        },
        {
          "output_type": "stream",
          "name": "stdout",
          "text": [
            "Сохранен и добавлен в архив: compound_11831558_c1.json\n",
            "Ошибка при получении данных для формулы 0: 404\n"
          ]
        },
        {
          "output_type": "stream",
          "name": "stderr",
          "text": [
            "\rProcessing compounds:  50%|████▉     | 1061/2143 [07:25<07:20,  2.46it/s]"
          ]
        },
        {
          "output_type": "stream",
          "name": "stdout",
          "text": [
            "Сохранен и добавлен в архив: compound_11831558_c1.json\n",
            "Ошибка при получении данных для формулы 0: 404\n",
            "Сохранен и добавлен в архив: compound_11831558_c1.json\n"
          ]
        },
        {
          "output_type": "stream",
          "name": "stderr",
          "text": [
            "\rProcessing compounds:  50%|████▉     | 1062/2143 [07:25<07:20,  2.46it/s]"
          ]
        },
        {
          "output_type": "stream",
          "name": "stdout",
          "text": [
            "Ошибка при получении данных для формулы 0: 404\n",
            "Сохранен и добавлен в архив: compound_11831558_c1.json\n"
          ]
        },
        {
          "output_type": "stream",
          "name": "stderr",
          "text": [
            "\rProcessing compounds:  50%|████▉     | 1063/2143 [07:26<07:19,  2.46it/s]"
          ]
        },
        {
          "output_type": "stream",
          "name": "stdout",
          "text": [
            "Ошибка при получении данных для формулы 0: 404\n",
            "Сохранен и добавлен в архив: compound_11831558_c1.json\n"
          ]
        },
        {
          "output_type": "stream",
          "name": "stderr",
          "text": [
            "\rProcessing compounds:  50%|████▉     | 1064/2143 [07:26<07:18,  2.46it/s]"
          ]
        },
        {
          "output_type": "stream",
          "name": "stdout",
          "text": [
            "Ошибка при получении данных для формулы 0: 404\n"
          ]
        },
        {
          "output_type": "stream",
          "name": "stderr",
          "text": [
            "\rProcessing compounds:  50%|████▉     | 1065/2143 [07:26<07:17,  2.47it/s]"
          ]
        },
        {
          "output_type": "stream",
          "name": "stdout",
          "text": [
            "Сохранен и добавлен в архив: compound_11831558_c1.json\n",
            "Ошибка при получении данных для формулы 0: 404\n"
          ]
        },
        {
          "output_type": "stream",
          "name": "stderr",
          "text": [
            "\rProcessing compounds:  50%|████▉     | 1066/2143 [07:27<07:13,  2.49it/s]"
          ]
        },
        {
          "output_type": "stream",
          "name": "stdout",
          "text": [
            "Сохранен и добавлен в архив: compound_11831558_c1.json\n",
            "Ошибка при получении данных для формулы 0: 404\n"
          ]
        },
        {
          "output_type": "stream",
          "name": "stderr",
          "text": [
            "\rProcessing compounds:  50%|████▉     | 1067/2143 [07:27<07:11,  2.49it/s]"
          ]
        },
        {
          "output_type": "stream",
          "name": "stdout",
          "text": [
            "Сохранен и добавлен в архив: compound_11831558_c1.json\n",
            "Ошибка при получении данных для формулы 0: 404\n"
          ]
        },
        {
          "output_type": "stream",
          "name": "stderr",
          "text": [
            "\rProcessing compounds:  50%|████▉     | 1068/2143 [07:28<07:09,  2.50it/s]"
          ]
        },
        {
          "output_type": "stream",
          "name": "stdout",
          "text": [
            "Сохранен и добавлен в архив: compound_11831558_c1.json\n",
            "Ошибка при получении данных для формулы 0: 404\n"
          ]
        },
        {
          "output_type": "stream",
          "name": "stderr",
          "text": [
            "\rProcessing compounds:  50%|████▉     | 1069/2143 [07:28<07:06,  2.52it/s]"
          ]
        },
        {
          "output_type": "stream",
          "name": "stdout",
          "text": [
            "Сохранен и добавлен в архив: compound_11831558_c1.json\n",
            "Ошибка при получении данных для формулы 0: 404\n"
          ]
        },
        {
          "output_type": "stream",
          "name": "stderr",
          "text": [
            "\rProcessing compounds:  50%|████▉     | 1070/2143 [07:28<07:06,  2.51it/s]"
          ]
        },
        {
          "output_type": "stream",
          "name": "stdout",
          "text": [
            "Сохранен и добавлен в архив: compound_11831558_c1.json\n",
            "Ошибка при получении данных для формулы 0: 404\n"
          ]
        },
        {
          "output_type": "stream",
          "name": "stderr",
          "text": [
            "\rProcessing compounds:  50%|████▉     | 1071/2143 [07:29<07:04,  2.52it/s]"
          ]
        },
        {
          "output_type": "stream",
          "name": "stdout",
          "text": [
            "Сохранен и добавлен в архив: compound_11831558_c1.json\n",
            "Ошибка при получении данных для формулы 0: 404\n"
          ]
        },
        {
          "output_type": "stream",
          "name": "stderr",
          "text": [
            "\rProcessing compounds:  50%|█████     | 1072/2143 [07:29<07:03,  2.53it/s]"
          ]
        },
        {
          "output_type": "stream",
          "name": "stdout",
          "text": [
            "Сохранен и добавлен в архив: compound_11831558_c1.json\n",
            "Ошибка при получении данных для формулы 0: 404\n"
          ]
        },
        {
          "output_type": "stream",
          "name": "stderr",
          "text": [
            "\rProcessing compounds:  50%|█████     | 1073/2143 [07:29<07:04,  2.52it/s]"
          ]
        },
        {
          "output_type": "stream",
          "name": "stdout",
          "text": [
            "Сохранен и добавлен в архив: compound_11831558_c1.json\n",
            "Ошибка при получении данных для формулы 0: 404\n"
          ]
        },
        {
          "output_type": "stream",
          "name": "stderr",
          "text": [
            "\rProcessing compounds:  50%|█████     | 1074/2143 [07:30<07:03,  2.52it/s]"
          ]
        },
        {
          "output_type": "stream",
          "name": "stdout",
          "text": [
            "Сохранен и добавлен в архив: compound_11831558_c1.json\n",
            "Ошибка при получении данных для формулы 0: 404\n"
          ]
        },
        {
          "output_type": "stream",
          "name": "stderr",
          "text": [
            "\rProcessing compounds:  50%|█████     | 1075/2143 [07:30<07:04,  2.51it/s]"
          ]
        },
        {
          "output_type": "stream",
          "name": "stdout",
          "text": [
            "Сохранен и добавлен в архив: compound_11831558_c1.json\n",
            "Ошибка при получении данных для формулы 0: 404\n"
          ]
        },
        {
          "output_type": "stream",
          "name": "stderr",
          "text": [
            "\rProcessing compounds:  50%|█████     | 1076/2143 [07:31<07:23,  2.41it/s]"
          ]
        },
        {
          "output_type": "stream",
          "name": "stdout",
          "text": [
            "Сохранен и добавлен в архив: compound_11831558_c1.json\n",
            "Ошибка при получении данных для формулы 0: 404\n"
          ]
        },
        {
          "output_type": "stream",
          "name": "stderr",
          "text": [
            "\rProcessing compounds:  50%|█████     | 1077/2143 [07:31<07:20,  2.42it/s]"
          ]
        },
        {
          "output_type": "stream",
          "name": "stdout",
          "text": [
            "Сохранен и добавлен в архив: compound_11831558_c1.json\n",
            "Ошибка при получении данных для формулы 0: 404\n",
            "Сохранен и добавлен в архив: compound_11831558_c1.json\n",
            "Ошибка при получении данных для формулы 0: 404\n"
          ]
        },
        {
          "output_type": "stream",
          "name": "stderr",
          "text": [
            "Processing compounds:  50%|█████     | 1079/2143 [07:32<07:15,  2.44it/s]"
          ]
        },
        {
          "output_type": "stream",
          "name": "stdout",
          "text": [
            "Сохранен и добавлен в архив: compound_11831558_c1.json\n",
            "Ошибка при получении данных для формулы 0: 404\n",
            "Сохранен и добавлен в архив: compound_11831558_c1.json\n"
          ]
        },
        {
          "output_type": "stream",
          "name": "stderr",
          "text": [
            "\rProcessing compounds:  50%|█████     | 1080/2143 [07:33<07:58,  2.22it/s]"
          ]
        },
        {
          "output_type": "stream",
          "name": "stdout",
          "text": [
            "Ошибка при получении данных для формулы 0: 404\n"
          ]
        },
        {
          "output_type": "stream",
          "name": "stderr",
          "text": [
            "\rProcessing compounds:  50%|█████     | 1081/2143 [07:33<07:41,  2.30it/s]"
          ]
        },
        {
          "output_type": "stream",
          "name": "stdout",
          "text": [
            "Сохранен и добавлен в архив: compound_16211978_c1.json\n",
            "Ошибка при получении данных для формулы 0: 404\n",
            "Сохранен и добавлен в архив: compound_16211978_c1.json\n"
          ]
        },
        {
          "output_type": "stream",
          "name": "stderr",
          "text": [
            "\rProcessing compounds:  50%|█████     | 1082/2143 [07:33<07:50,  2.25it/s]"
          ]
        },
        {
          "output_type": "stream",
          "name": "stdout",
          "text": [
            "Ошибка при получении данных для формулы 0: 404\n",
            "Сохранен и добавлен в архив: compound_16211978_c1.json\n"
          ]
        },
        {
          "output_type": "stream",
          "name": "stderr",
          "text": [
            "\rProcessing compounds:  51%|█████     | 1083/2143 [07:34<07:34,  2.33it/s]"
          ]
        },
        {
          "output_type": "stream",
          "name": "stdout",
          "text": [
            "Ошибка при получении данных для формулы 0: 404\n",
            "Сохранен и добавлен в архив: compound_23925_c1.json\n"
          ]
        },
        {
          "output_type": "stream",
          "name": "stderr",
          "text": [
            "\rProcessing compounds:  51%|█████     | 1084/2143 [07:34<07:32,  2.34it/s]"
          ]
        },
        {
          "output_type": "stream",
          "name": "stdout",
          "text": [
            "Ошибка при получении данных для формулы 0: 404\n"
          ]
        },
        {
          "output_type": "stream",
          "name": "stderr",
          "text": [
            "\rProcessing compounds:  51%|█████     | 1085/2143 [07:35<07:26,  2.37it/s]"
          ]
        },
        {
          "output_type": "stream",
          "name": "stdout",
          "text": [
            "Сохранен и добавлен в архив: compound_23925_c1.json\n",
            "Ошибка при получении данных для формулы 0: 404\n"
          ]
        },
        {
          "output_type": "stream",
          "name": "stderr",
          "text": [
            "\rProcessing compounds:  51%|█████     | 1086/2143 [07:35<07:21,  2.39it/s]"
          ]
        },
        {
          "output_type": "stream",
          "name": "stdout",
          "text": [
            "Сохранен и добавлен в архив: compound_23925_c1.json\n",
            "Ошибка при получении данных для формулы 0: 404\n"
          ]
        },
        {
          "output_type": "stream",
          "name": "stderr",
          "text": [
            "\rProcessing compounds:  51%|█████     | 1087/2143 [07:35<07:13,  2.43it/s]"
          ]
        },
        {
          "output_type": "stream",
          "name": "stdout",
          "text": [
            "Ошибка при получении данных для формулы Fe16N2: 404\n",
            "Ошибка при получении данных для формулы 0: 404\n"
          ]
        },
        {
          "output_type": "stream",
          "name": "stderr",
          "text": [
            "\rProcessing compounds:  51%|█████     | 1088/2143 [07:36<07:07,  2.47it/s]"
          ]
        },
        {
          "output_type": "stream",
          "name": "stdout",
          "text": [
            "Ошибка при получении данных для формулы Fe16N2: 404\n",
            "Ошибка при получении данных для формулы 0: 404\n"
          ]
        },
        {
          "output_type": "stream",
          "name": "stderr",
          "text": [
            "\rProcessing compounds:  51%|█████     | 1089/2143 [07:36<07:04,  2.48it/s]"
          ]
        },
        {
          "output_type": "stream",
          "name": "stdout",
          "text": [
            "Ошибка при получении данных для формулы Fe16N2: 404\n",
            "Ошибка при получении данных для формулы 0: 404\n"
          ]
        },
        {
          "output_type": "stream",
          "name": "stderr",
          "text": [
            "\rProcessing compounds:  51%|█████     | 1090/2143 [07:37<07:02,  2.49it/s]"
          ]
        },
        {
          "output_type": "stream",
          "name": "stdout",
          "text": [
            "Ошибка при получении данных для формулы Co0.4Fe2.6O4: 404\n",
            "Ошибка при получении данных для формулы 0: 404\n",
            "Ошибка при получении данных для формулы Co0.4Fe2.6O4: 404\n"
          ]
        },
        {
          "output_type": "stream",
          "name": "stderr",
          "text": [
            "\rProcessing compounds:  51%|█████     | 1091/2143 [07:37<07:45,  2.26it/s]"
          ]
        },
        {
          "output_type": "stream",
          "name": "stdout",
          "text": [
            "Ошибка при получении данных для формулы 0: 404\n",
            "Ошибка при получении данных для формулы Co0.4Fe2.6O4: 404\n"
          ]
        },
        {
          "output_type": "stream",
          "name": "stderr",
          "text": [
            "\rProcessing compounds:  51%|█████     | 1092/2143 [07:38<07:29,  2.34it/s]"
          ]
        },
        {
          "output_type": "stream",
          "name": "stdout",
          "text": [
            "Ошибка при получении данных для формулы 0: 404\n",
            "Ошибка при получении данных для формулы Co0.4Fe2.6O4: 404\n"
          ]
        },
        {
          "output_type": "stream",
          "name": "stderr",
          "text": [
            "\rProcessing compounds:  51%|█████     | 1093/2143 [07:38<07:19,  2.39it/s]"
          ]
        },
        {
          "output_type": "stream",
          "name": "stdout",
          "text": [
            "Ошибка при получении данных для формулы 0: 404\n",
            "Ошибка при получении данных для формулы Co0.4Fe2.6O4: 404\n"
          ]
        },
        {
          "output_type": "stream",
          "name": "stderr",
          "text": [
            "\rProcessing compounds:  51%|█████     | 1094/2143 [07:38<07:12,  2.42it/s]"
          ]
        },
        {
          "output_type": "stream",
          "name": "stdout",
          "text": [
            "Ошибка при получении данных для формулы 0: 404\n"
          ]
        },
        {
          "output_type": "stream",
          "name": "stderr",
          "text": [
            "\rProcessing compounds:  51%|█████     | 1095/2143 [07:39<07:08,  2.45it/s]"
          ]
        },
        {
          "output_type": "stream",
          "name": "stdout",
          "text": [
            "Ошибка при получении данных для формулы Co0.4Fe2.6O4: 404\n",
            "Ошибка при получении данных для формулы 0: 404\n",
            "Ошибка при получении данных для формулы Co0.4Fe2.6O4: 404\n"
          ]
        },
        {
          "output_type": "stream",
          "name": "stderr",
          "text": [
            "\rProcessing compounds:  51%|█████     | 1096/2143 [07:39<07:22,  2.37it/s]"
          ]
        },
        {
          "output_type": "stream",
          "name": "stdout",
          "text": [
            "Ошибка при получении данных для формулы 0: 404\n",
            "Ошибка при получении данных для формулы Co0.4Fe2.6O4: 404\n"
          ]
        },
        {
          "output_type": "stream",
          "name": "stderr",
          "text": [
            "\rProcessing compounds:  51%|█████     | 1097/2143 [07:40<07:21,  2.37it/s]"
          ]
        },
        {
          "output_type": "stream",
          "name": "stdout",
          "text": [
            "Ошибка при получении данных для формулы 0: 404\n",
            "Ошибка при получении данных для формулы Co0.4Fe2.6O4: 404\n"
          ]
        },
        {
          "output_type": "stream",
          "name": "stderr",
          "text": [
            "\rProcessing compounds:  51%|█████     | 1098/2143 [07:40<07:13,  2.41it/s]"
          ]
        },
        {
          "output_type": "stream",
          "name": "stdout",
          "text": [
            "Ошибка при получении данных для формулы 0: 404\n",
            "Ошибка при получении данных для формулы Co0.4Fe2.6O4: 404\n"
          ]
        },
        {
          "output_type": "stream",
          "name": "stderr",
          "text": [
            "\rProcessing compounds:  51%|█████▏    | 1099/2143 [07:40<07:08,  2.44it/s]"
          ]
        },
        {
          "output_type": "stream",
          "name": "stdout",
          "text": [
            "Ошибка при получении данных для формулы 0: 404\n"
          ]
        },
        {
          "output_type": "stream",
          "name": "stderr",
          "text": [
            "\rProcessing compounds:  51%|█████▏    | 1100/2143 [07:41<07:06,  2.45it/s]"
          ]
        },
        {
          "output_type": "stream",
          "name": "stdout",
          "text": [
            "Ошибка при получении данных для формулы Co0.4Fe2.6O4: 404\n",
            "Ошибка при получении данных для формулы 0: 404\n"
          ]
        },
        {
          "output_type": "stream",
          "name": "stderr",
          "text": [
            "\rProcessing compounds:  51%|█████▏    | 1101/2143 [07:41<07:02,  2.46it/s]"
          ]
        },
        {
          "output_type": "stream",
          "name": "stdout",
          "text": [
            "Ошибка при получении данных для формулы Co0.4Fe2.6O4: 404\n",
            "Ошибка при получении данных для формулы 0: 404\n",
            "Ошибка при получении данных для формулы BaFe12O19: 404\n"
          ]
        },
        {
          "output_type": "stream",
          "name": "stderr",
          "text": [
            "\rProcessing compounds:  51%|█████▏    | 1102/2143 [07:42<07:05,  2.44it/s]"
          ]
        },
        {
          "output_type": "stream",
          "name": "stdout",
          "text": [
            "Ошибка при получении данных для формулы 0: 404\n"
          ]
        },
        {
          "output_type": "stream",
          "name": "stderr",
          "text": [
            "\rProcessing compounds:  51%|█████▏    | 1103/2143 [07:42<07:01,  2.46it/s]"
          ]
        },
        {
          "output_type": "stream",
          "name": "stdout",
          "text": [
            "Сохранен и добавлен в архив: compound_16211978_c1.json\n",
            "Ошибка при получении данных для формулы 0: 404\n",
            "Ошибка при получении данных для формулы BaFe12O19: 404\n"
          ]
        },
        {
          "output_type": "stream",
          "name": "stderr",
          "text": [
            "\rProcessing compounds:  52%|█████▏    | 1104/2143 [07:42<07:10,  2.41it/s]"
          ]
        },
        {
          "output_type": "stream",
          "name": "stdout",
          "text": [
            "Сохранен и добавлен в архив: compound_16211978_c2.json\n",
            "Ошибка при получении данных для формулы BaFe12O19: 404\n"
          ]
        },
        {
          "output_type": "stream",
          "name": "stderr",
          "text": [
            "\rProcessing compounds:  52%|█████▏    | 1105/2143 [07:43<07:05,  2.44it/s]"
          ]
        },
        {
          "output_type": "stream",
          "name": "stdout",
          "text": [
            "Сохранен и добавлен в архив: compound_16211978_c2.json\n",
            "Ошибка при получении данных для формулы BaFe12O19: 404\n"
          ]
        },
        {
          "output_type": "stream",
          "name": "stderr",
          "text": [
            "\rProcessing compounds:  52%|█████▏    | 1106/2143 [07:43<07:03,  2.45it/s]"
          ]
        },
        {
          "output_type": "stream",
          "name": "stdout",
          "text": [
            "Сохранен и добавлен в архив: compound_16211978_c2.json\n",
            "Сохранен и добавлен в архив: compound_16211978_c1.json\n"
          ]
        },
        {
          "output_type": "stream",
          "name": "stderr",
          "text": [
            "\rProcessing compounds:  52%|█████▏    | 1107/2143 [07:44<07:07,  2.42it/s]"
          ]
        },
        {
          "output_type": "stream",
          "name": "stdout",
          "text": [
            "Ошибка при получении данных для формулы 0: 404\n",
            "Ошибка при получении данных для формулы BaFe12O19: 404\n"
          ]
        },
        {
          "output_type": "stream",
          "name": "stderr",
          "text": [
            "\rProcessing compounds:  52%|█████▏    | 1108/2143 [07:44<07:38,  2.26it/s]"
          ]
        },
        {
          "output_type": "stream",
          "name": "stdout",
          "text": [
            "Ошибка при получении данных для формулы 0: 404\n"
          ]
        },
        {
          "output_type": "stream",
          "name": "stderr",
          "text": [
            "\rProcessing compounds:  52%|█████▏    | 1109/2143 [07:45<07:31,  2.29it/s]"
          ]
        },
        {
          "output_type": "stream",
          "name": "stdout",
          "text": [
            "Ошибка при получении данных для формулы BaFe12O19: 404\n",
            "Сохранен и добавлен в архив: compound_16211978_c2.json\n",
            "Ошибка при получении данных для формулы Fe16N2: 404\n"
          ]
        },
        {
          "output_type": "stream",
          "name": "stderr",
          "text": [
            "\rProcessing compounds:  52%|█████▏    | 1110/2143 [07:45<07:22,  2.34it/s]"
          ]
        },
        {
          "output_type": "stream",
          "name": "stdout",
          "text": [
            "Ошибка при получении данных для формулы Al2O3: 404\n",
            "Ошибка при получении данных для формулы Fe16N2: 404\n"
          ]
        },
        {
          "output_type": "stream",
          "name": "stderr",
          "text": [
            "\rProcessing compounds:  52%|█████▏    | 1111/2143 [07:45<07:12,  2.39it/s]"
          ]
        },
        {
          "output_type": "stream",
          "name": "stdout",
          "text": [
            "Ошибка при получении данных для формулы Al2O3: 404\n"
          ]
        },
        {
          "output_type": "stream",
          "name": "stderr",
          "text": [
            "\rProcessing compounds:  52%|█████▏    | 1112/2143 [07:46<07:10,  2.40it/s]"
          ]
        },
        {
          "output_type": "stream",
          "name": "stdout",
          "text": [
            "Ошибка при получении данных для формулы Fe16N2: 404\n",
            "Ошибка при получении данных для формулы Al2O3: 404\n",
            "Ошибка при получении данных для формулы Co0.7Fe2.3O4: 404\n"
          ]
        },
        {
          "output_type": "stream",
          "name": "stderr",
          "text": [
            "\rProcessing compounds:  52%|█████▏    | 1113/2143 [07:46<07:12,  2.38it/s]"
          ]
        },
        {
          "output_type": "stream",
          "name": "stdout",
          "text": [
            "Ошибка при получении данных для формулы 0: 404\n",
            "Ошибка при получении данных для формулы Co0.7Fe2.3O4: 404\n"
          ]
        },
        {
          "output_type": "stream",
          "name": "stderr",
          "text": [
            "\rProcessing compounds:  52%|█████▏    | 1114/2143 [07:47<07:12,  2.38it/s]"
          ]
        },
        {
          "output_type": "stream",
          "name": "stdout",
          "text": [
            "Ошибка при получении данных для формулы 0: 404\n",
            "Ошибка при получении данных для формулы Co0.6Fe2.4O4: 404\n"
          ]
        },
        {
          "output_type": "stream",
          "name": "stderr",
          "text": [
            "\rProcessing compounds:  52%|█████▏    | 1115/2143 [07:47<07:18,  2.34it/s]"
          ]
        },
        {
          "output_type": "stream",
          "name": "stdout",
          "text": [
            "Ошибка при получении данных для формулы 0: 404\n",
            "Ошибка при получении данных для формулы Co0.7Fe2.3O4: 404\n"
          ]
        },
        {
          "output_type": "stream",
          "name": "stderr",
          "text": [
            "\rProcessing compounds:  52%|█████▏    | 1116/2143 [07:48<07:09,  2.39it/s]"
          ]
        },
        {
          "output_type": "stream",
          "name": "stdout",
          "text": [
            "Ошибка при получении данных для формулы 0: 404\n",
            "Ошибка при получении данных для формулы Co0.6Fe2.4O4: 404\n"
          ]
        },
        {
          "output_type": "stream",
          "name": "stderr",
          "text": [
            "\rProcessing compounds:  52%|█████▏    | 1117/2143 [07:48<07:00,  2.44it/s]"
          ]
        },
        {
          "output_type": "stream",
          "name": "stdout",
          "text": [
            "Ошибка при получении данных для формулы 0: 404\n",
            "Ошибка при получении данных для формулы Co0.6Fe2.4O4: 404\n"
          ]
        },
        {
          "output_type": "stream",
          "name": "stderr",
          "text": [
            "\rProcessing compounds:  52%|█████▏    | 1118/2143 [07:48<06:56,  2.46it/s]"
          ]
        },
        {
          "output_type": "stream",
          "name": "stdout",
          "text": [
            "Ошибка при получении данных для формулы 0: 404\n"
          ]
        },
        {
          "output_type": "stream",
          "name": "stderr",
          "text": [
            "\rProcessing compounds:  52%|█████▏    | 1119/2143 [07:49<06:57,  2.45it/s]"
          ]
        },
        {
          "output_type": "stream",
          "name": "stdout",
          "text": [
            "Ошибка при получении данных для формулы MnBi: 404\n",
            "Ошибка при получении данных для формулы 0: 404\n"
          ]
        },
        {
          "output_type": "stream",
          "name": "stderr",
          "text": [
            "\rProcessing compounds:  52%|█████▏    | 1120/2143 [07:49<06:53,  2.47it/s]"
          ]
        },
        {
          "output_type": "stream",
          "name": "stdout",
          "text": [
            "Ошибка при получении данных для формулы MnBi: 404\n",
            "Ошибка при получении данных для формулы 0: 404\n",
            "Ошибка при получении данных для формулы BaFe12O19: 404\n"
          ]
        },
        {
          "output_type": "stream",
          "name": "stderr",
          "text": [
            "\rProcessing compounds:  52%|█████▏    | 1121/2143 [07:50<06:59,  2.44it/s]"
          ]
        },
        {
          "output_type": "stream",
          "name": "stdout",
          "text": [
            "Ошибка при получении данных для формулы 0: 404\n"
          ]
        },
        {
          "output_type": "stream",
          "name": "stderr",
          "text": [
            "\rProcessing compounds:  52%|█████▏    | 1122/2143 [07:50<06:55,  2.46it/s]"
          ]
        },
        {
          "output_type": "stream",
          "name": "stdout",
          "text": [
            "Ошибка при получении данных для формулы BaNi0.2Fe11.8O19: 404\n",
            "Ошибка при получении данных для формулы 0: 404\n"
          ]
        },
        {
          "output_type": "stream",
          "name": "stderr",
          "text": [
            "\rProcessing compounds:  52%|█████▏    | 1123/2143 [07:50<06:52,  2.47it/s]"
          ]
        },
        {
          "output_type": "stream",
          "name": "stdout",
          "text": [
            "Ошибка при получении данных для формулы BaNi0.5Fe11.5O19: 404\n",
            "Ошибка при получении данных для формулы 0: 404\n"
          ]
        },
        {
          "output_type": "stream",
          "name": "stderr",
          "text": [
            "\rProcessing compounds:  52%|█████▏    | 1124/2143 [07:51<06:49,  2.49it/s]"
          ]
        },
        {
          "output_type": "stream",
          "name": "stdout",
          "text": [
            "Ошибка при получении данных для формулы BaNi0.8Fe11.2O19: 404\n",
            "Ошибка при получении данных для формулы 0: 404\n"
          ]
        },
        {
          "output_type": "stream",
          "name": "stderr",
          "text": [
            "\rProcessing compounds:  52%|█████▏    | 1125/2143 [07:51<06:50,  2.48it/s]"
          ]
        },
        {
          "output_type": "stream",
          "name": "stdout",
          "text": [
            "Ошибка при получении данных для формулы BaNiFe11O19: 404\n",
            "Ошибка при получении данных для формулы 0: 404\n"
          ]
        },
        {
          "output_type": "stream",
          "name": "stderr",
          "text": [
            "\rProcessing compounds:  53%|█████▎    | 1126/2143 [07:52<06:49,  2.49it/s]"
          ]
        },
        {
          "output_type": "stream",
          "name": "stdout",
          "text": [
            "Ошибка при получении данных для формулы BaFe12O19: 404\n",
            "Ошибка при получении данных для формулы 0: 404\n"
          ]
        },
        {
          "output_type": "stream",
          "name": "stderr",
          "text": [
            "\rProcessing compounds:  53%|█████▎    | 1127/2143 [07:52<07:34,  2.24it/s]"
          ]
        },
        {
          "output_type": "stream",
          "name": "stdout",
          "text": [
            "Ошибка при получении данных для формулы BaNi0.2Fe11.8O19: 404\n",
            "Ошибка при получении данных для формулы 0: 404\n"
          ]
        },
        {
          "output_type": "stream",
          "name": "stderr",
          "text": [
            "\rProcessing compounds:  53%|█████▎    | 1128/2143 [07:52<07:18,  2.32it/s]"
          ]
        },
        {
          "output_type": "stream",
          "name": "stdout",
          "text": [
            "Ошибка при получении данных для формулы BaNi0.5Fe11.5O19: 404\n",
            "Ошибка при получении данных для формулы 0: 404\n"
          ]
        },
        {
          "output_type": "stream",
          "name": "stderr",
          "text": [
            "\rProcessing compounds:  53%|█████▎    | 1129/2143 [07:53<07:07,  2.37it/s]"
          ]
        },
        {
          "output_type": "stream",
          "name": "stdout",
          "text": [
            "Ошибка при получении данных для формулы BaNi0.8Fe11.2O19: 404\n",
            "Ошибка при получении данных для формулы 0: 404\n"
          ]
        },
        {
          "output_type": "stream",
          "name": "stderr",
          "text": [
            "\rProcessing compounds:  53%|█████▎    | 1130/2143 [07:53<07:00,  2.41it/s]"
          ]
        },
        {
          "output_type": "stream",
          "name": "stdout",
          "text": [
            "Ошибка при получении данных для формулы BaNiFe11O19: 404\n",
            "Ошибка при получении данных для формулы 0: 404\n"
          ]
        },
        {
          "output_type": "stream",
          "name": "stderr",
          "text": [
            "\rProcessing compounds:  53%|█████▎    | 1131/2143 [07:54<06:53,  2.45it/s]"
          ]
        },
        {
          "output_type": "stream",
          "name": "stdout",
          "text": [
            "Ошибка при получении данных для формулы SrFe12O19: 404\n",
            "Ошибка при получении данных для формулы 0: 404\n"
          ]
        },
        {
          "output_type": "stream",
          "name": "stderr",
          "text": [
            "\rProcessing compounds:  53%|█████▎    | 1132/2143 [07:54<06:48,  2.47it/s]"
          ]
        },
        {
          "output_type": "stream",
          "name": "stdout",
          "text": [
            "Ошибка при получении данных для формулы SrFe12O19: 404\n",
            "Ошибка при получении данных для формулы 0: 404\n"
          ]
        },
        {
          "output_type": "stream",
          "name": "stderr",
          "text": [
            "\rProcessing compounds:  53%|█████▎    | 1133/2143 [07:54<06:47,  2.48it/s]"
          ]
        },
        {
          "output_type": "stream",
          "name": "stdout",
          "text": [
            "Ошибка при получении данных для формулы SrFe12O19: 404\n",
            "Ошибка при получении данных для формулы 0: 404\n"
          ]
        },
        {
          "output_type": "stream",
          "name": "stderr",
          "text": [
            "\rProcessing compounds:  53%|█████▎    | 1134/2143 [07:55<06:45,  2.49it/s]"
          ]
        },
        {
          "output_type": "stream",
          "name": "stdout",
          "text": [
            "Ошибка при получении данных для формулы SrFe12O19: 404\n",
            "Ошибка при получении данных для формулы 0: 404\n"
          ]
        },
        {
          "output_type": "stream",
          "name": "stderr",
          "text": [
            "\rProcessing compounds:  53%|█████▎    | 1135/2143 [07:55<06:43,  2.50it/s]"
          ]
        },
        {
          "output_type": "stream",
          "name": "stdout",
          "text": [
            "Ошибка при получении данных для формулы SrFe12O19: 404\n",
            "Ошибка при получении данных для формулы 0: 404\n"
          ]
        },
        {
          "output_type": "stream",
          "name": "stderr",
          "text": [
            "\rProcessing compounds:  53%|█████▎    | 1136/2143 [07:56<06:42,  2.50it/s]"
          ]
        },
        {
          "output_type": "stream",
          "name": "stdout",
          "text": [
            "Ошибка при получении данных для формулы SrFe12O19: 404\n",
            "Ошибка при получении данных для формулы 0: 404\n",
            "Ошибка при получении данных для формулы SrFe12O19: 404\n"
          ]
        },
        {
          "output_type": "stream",
          "name": "stderr",
          "text": [
            "\rProcessing compounds:  53%|█████▎    | 1137/2143 [07:56<06:45,  2.48it/s]"
          ]
        },
        {
          "output_type": "stream",
          "name": "stdout",
          "text": [
            "Сохранен и добавлен в архив: compound_16211978_c2.json\n",
            "Ошибка при получении данных для формулы SrFe12O19: 404\n"
          ]
        },
        {
          "output_type": "stream",
          "name": "stderr",
          "text": [
            "\rProcessing compounds:  53%|█████▎    | 1138/2143 [07:56<06:43,  2.49it/s]"
          ]
        },
        {
          "output_type": "stream",
          "name": "stdout",
          "text": [
            "Сохранен и добавлен в архив: compound_16211978_c2.json\n",
            "Ошибка при получении данных для формулы SrFe12O19: 404\n"
          ]
        },
        {
          "output_type": "stream",
          "name": "stderr",
          "text": [
            "\rProcessing compounds:  53%|█████▎    | 1139/2143 [07:57<06:41,  2.50it/s]"
          ]
        },
        {
          "output_type": "stream",
          "name": "stdout",
          "text": [
            "Сохранен и добавлен в архив: compound_16211978_c2.json\n",
            "Ошибка при получении данных для формулы SrFe12O19: 404\n"
          ]
        },
        {
          "output_type": "stream",
          "name": "stderr",
          "text": [
            "\rProcessing compounds:  53%|█████▎    | 1140/2143 [07:57<06:40,  2.51it/s]"
          ]
        },
        {
          "output_type": "stream",
          "name": "stdout",
          "text": [
            "Сохранен и добавлен в архив: compound_16211978_c2.json\n",
            "Ошибка при получении данных для формулы SrFe12O19: 404\n"
          ]
        },
        {
          "output_type": "stream",
          "name": "stderr",
          "text": [
            "\rProcessing compounds:  53%|█████▎    | 1141/2143 [07:58<06:39,  2.51it/s]"
          ]
        },
        {
          "output_type": "stream",
          "name": "stdout",
          "text": [
            "Сохранен и добавлен в архив: compound_16211978_c2.json\n",
            "Ошибка при получении данных для формулы SrFe12O19: 404\n"
          ]
        },
        {
          "output_type": "stream",
          "name": "stderr",
          "text": [
            "\rProcessing compounds:  53%|█████▎    | 1142/2143 [07:58<06:39,  2.51it/s]"
          ]
        },
        {
          "output_type": "stream",
          "name": "stdout",
          "text": [
            "Сохранен и добавлен в архив: compound_16211978_c2.json\n"
          ]
        },
        {
          "output_type": "stream",
          "name": "stderr",
          "text": [
            "\rProcessing compounds:  53%|█████▎    | 1143/2143 [07:58<06:39,  2.50it/s]"
          ]
        },
        {
          "output_type": "stream",
          "name": "stdout",
          "text": [
            "Ошибка при получении данных для формулы SrFe11.99Ni0.01O19: 404\n",
            "Ошибка при получении данных для формулы 0: 404\n",
            "Ошибка при получении данных для формулы SrFe11AlO19: 404\n"
          ]
        },
        {
          "output_type": "stream",
          "name": "stderr",
          "text": [
            "\rProcessing compounds:  53%|█████▎    | 1144/2143 [07:59<07:01,  2.37it/s]"
          ]
        },
        {
          "output_type": "stream",
          "name": "stdout",
          "text": [
            "Ошибка при получении данных для формулы 0: 404\n",
            "Ошибка при получении данных для формулы SrFe10.995Ni0.005AlO19: 404\n"
          ]
        },
        {
          "output_type": "stream",
          "name": "stderr",
          "text": [
            "\rProcessing compounds:  53%|█████▎    | 1145/2143 [08:00<08:24,  1.98it/s]"
          ]
        },
        {
          "output_type": "stream",
          "name": "stdout",
          "text": [
            "Ошибка при получении данных для формулы 0: 404\n"
          ]
        },
        {
          "output_type": "stream",
          "name": "stderr",
          "text": [
            "\rProcessing compounds:  53%|█████▎    | 1146/2143 [08:00<07:52,  2.11it/s]"
          ]
        },
        {
          "output_type": "stream",
          "name": "stdout",
          "text": [
            "Ошибка при получении данных для формулы SrFe9.99Ni0.01Al2O19: 404\n",
            "Ошибка при получении данных для формулы 0: 404\n",
            "Ошибка при получении данных для формулы SrFe8.985Ni0.015Al3O19: 404\n"
          ]
        },
        {
          "output_type": "stream",
          "name": "stderr",
          "text": [
            "\rProcessing compounds:  54%|█████▎    | 1147/2143 [08:00<07:34,  2.19it/s]"
          ]
        },
        {
          "output_type": "stream",
          "name": "stdout",
          "text": [
            "Ошибка при получении данных для формулы 0: 404\n",
            "Ошибка при получении данных для формулы SrFe7.98Ni0.02Al4O19: 404\n"
          ]
        },
        {
          "output_type": "stream",
          "name": "stderr",
          "text": [
            "\rProcessing compounds:  54%|█████▎    | 1148/2143 [08:01<07:36,  2.18it/s]"
          ]
        },
        {
          "output_type": "stream",
          "name": "stdout",
          "text": [
            "Ошибка при получении данных для формулы 0: 404\n"
          ]
        },
        {
          "output_type": "stream",
          "name": "stderr",
          "text": [
            "\rProcessing compounds:  54%|█████▎    | 1149/2143 [08:02<08:11,  2.02it/s]"
          ]
        },
        {
          "output_type": "stream",
          "name": "stdout",
          "text": [
            "Ошибка при получении данных для формулы SrFe12O19: 404\n",
            "Ошибка при получении данных для формулы 0: 404\n"
          ]
        },
        {
          "output_type": "stream",
          "name": "stderr",
          "text": [
            "\rProcessing compounds:  54%|█████▎    | 1150/2143 [08:02<07:40,  2.16it/s]"
          ]
        },
        {
          "output_type": "stream",
          "name": "stdout",
          "text": [
            "Ошибка при получении данных для формулы SrFe12O19: 404\n",
            "Ошибка при получении данных для формулы 0: 404\n",
            "Ошибка при получении данных для формулы SrFe11.5Al0.5O19: 404\n",
            "Ошибка при получении данных для формулы 0: 404\n"
          ]
        },
        {
          "output_type": "stream",
          "name": "stderr",
          "text": [
            "Processing compounds:  54%|█████▍    | 1152/2143 [08:03<07:08,  2.32it/s]"
          ]
        },
        {
          "output_type": "stream",
          "name": "stdout",
          "text": [
            "Ошибка при получении данных для формулы SrFe11.5Al0.5O19: 404\n",
            "Ошибка при получении данных для формулы 0: 404\n"
          ]
        },
        {
          "output_type": "stream",
          "name": "stderr",
          "text": [
            "\rProcessing compounds:  54%|█████▍    | 1153/2143 [08:03<07:14,  2.28it/s]"
          ]
        },
        {
          "output_type": "stream",
          "name": "stdout",
          "text": [
            "Ошибка при получении данных для формулы Fe15.68Co0.32N2: 404\n",
            "Ошибка при получении данных для формулы 0: 404\n"
          ]
        },
        {
          "output_type": "stream",
          "name": "stderr",
          "text": [
            "\rProcessing compounds:  54%|█████▍    | 1154/2143 [08:04<07:02,  2.34it/s]"
          ]
        },
        {
          "output_type": "stream",
          "name": "stdout",
          "text": [
            "Ошибка при получении данных для формулы Fe15.2Al0.8N2: 404\n",
            "Ошибка при получении данных для формулы 0: 404\n",
            "Ошибка при получении данных для формулы Fe15.2Co0.32Al0.48N2: 404\n"
          ]
        },
        {
          "output_type": "stream",
          "name": "stderr",
          "text": [
            "\rProcessing compounds:  54%|█████▍    | 1155/2143 [08:04<06:56,  2.37it/s]"
          ]
        },
        {
          "output_type": "stream",
          "name": "stdout",
          "text": [
            "Ошибка при получении данных для формулы 0: 404\n",
            "Ошибка при получении данных для формулы FePt: 404\n"
          ]
        },
        {
          "output_type": "stream",
          "name": "stderr",
          "text": [
            "\rProcessing compounds:  54%|█████▍    | 1156/2143 [08:04<07:17,  2.25it/s]"
          ]
        },
        {
          "output_type": "stream",
          "name": "stdout",
          "text": [
            "Ошибка при получении данных для формулы 0: 404\n",
            "Ошибка при получении данных для формулы FePt: 404\n"
          ]
        },
        {
          "output_type": "stream",
          "name": "stderr",
          "text": [
            "\rProcessing compounds:  54%|█████▍    | 1157/2143 [08:05<07:17,  2.25it/s]"
          ]
        },
        {
          "output_type": "stream",
          "name": "stdout",
          "text": [
            "Ошибка при получении данных для формулы 0: 404\n"
          ]
        },
        {
          "output_type": "stream",
          "name": "stderr",
          "text": [
            "\rProcessing compounds:  54%|█████▍    | 1158/2143 [08:05<07:04,  2.32it/s]"
          ]
        },
        {
          "output_type": "stream",
          "name": "stdout",
          "text": [
            "Ошибка при получении данных для формулы FePt: 404\n",
            "Ошибка при получении данных для формулы 0: 404\n"
          ]
        },
        {
          "output_type": "stream",
          "name": "stderr",
          "text": [
            "\rProcessing compounds:  54%|█████▍    | 1159/2143 [08:06<06:53,  2.38it/s]"
          ]
        },
        {
          "output_type": "stream",
          "name": "stdout",
          "text": [
            "Ошибка при получении данных для формулы Fe3Se4: 404\n",
            "Ошибка при получении данных для формулы 0: 404\n"
          ]
        },
        {
          "output_type": "stream",
          "name": "stderr",
          "text": [
            "\rProcessing compounds:  54%|█████▍    | 1160/2143 [08:06<06:47,  2.41it/s]"
          ]
        },
        {
          "output_type": "stream",
          "name": "stdout",
          "text": [
            "Ошибка при получении данных для формулы Fe3Se4: 404\n",
            "Ошибка при получении данных для формулы 0: 404\n"
          ]
        },
        {
          "output_type": "stream",
          "name": "stderr",
          "text": [
            "\rProcessing compounds:  54%|█████▍    | 1161/2143 [08:06<06:42,  2.44it/s]"
          ]
        },
        {
          "output_type": "stream",
          "name": "stdout",
          "text": [
            "Ошибка при получении данных для формулы Fe3Se4: 404\n",
            "Ошибка при получении данных для формулы 0: 404\n"
          ]
        },
        {
          "output_type": "stream",
          "name": "stderr",
          "text": [
            "\rProcessing compounds:  54%|█████▍    | 1162/2143 [08:07<06:39,  2.46it/s]"
          ]
        },
        {
          "output_type": "stream",
          "name": "stdout",
          "text": [
            "Ошибка при получении данных для формулы Fe3Se4: 404\n",
            "Ошибка при получении данных для формулы 0: 404\n"
          ]
        },
        {
          "output_type": "stream",
          "name": "stderr",
          "text": [
            "\rProcessing compounds:  54%|█████▍    | 1163/2143 [08:07<06:38,  2.46it/s]"
          ]
        },
        {
          "output_type": "stream",
          "name": "stdout",
          "text": [
            "Ошибка при получении данных для формулы Fe3Se4: 404\n",
            "Ошибка при получении данных для формулы 0: 404\n"
          ]
        },
        {
          "output_type": "stream",
          "name": "stderr",
          "text": [
            "\rProcessing compounds:  54%|█████▍    | 1164/2143 [08:08<06:37,  2.47it/s]"
          ]
        },
        {
          "output_type": "stream",
          "name": "stdout",
          "text": [
            "Ошибка при получении данных для формулы Fe3Se4: 404\n",
            "Ошибка при получении данных для формулы 0: 404\n"
          ]
        },
        {
          "output_type": "stream",
          "name": "stderr",
          "text": [
            "\rProcessing compounds:  54%|█████▍    | 1165/2143 [08:08<06:35,  2.48it/s]"
          ]
        },
        {
          "output_type": "stream",
          "name": "stdout",
          "text": [
            "Ошибка при получении данных для формулы CoFe2Se4: 404\n",
            "Ошибка при получении данных для формулы 0: 404\n"
          ]
        },
        {
          "output_type": "stream",
          "name": "stderr",
          "text": [
            "\rProcessing compounds:  54%|█████▍    | 1166/2143 [08:09<06:32,  2.49it/s]"
          ]
        },
        {
          "output_type": "stream",
          "name": "stdout",
          "text": [
            "Ошибка при получении данных для формулы Co0.2Fe2.8Se4: 404\n",
            "Ошибка при получении данных для формулы 0: 404\n"
          ]
        },
        {
          "output_type": "stream",
          "name": "stderr",
          "text": [
            "\rProcessing compounds:  54%|█████▍    | 1167/2143 [08:09<06:29,  2.51it/s]"
          ]
        },
        {
          "output_type": "stream",
          "name": "stdout",
          "text": [
            "Ошибка при получении данных для формулы Co3C: 404\n",
            "Ошибка при получении данных для формулы 0: 404\n"
          ]
        },
        {
          "output_type": "stream",
          "name": "stderr",
          "text": [
            "\rProcessing compounds:  55%|█████▍    | 1168/2143 [08:09<06:28,  2.51it/s]"
          ]
        },
        {
          "output_type": "stream",
          "name": "stdout",
          "text": [
            "Ошибка при получении данных для формулы Co3C: 404\n",
            "Ошибка при получении данных для формулы 0: 404\n"
          ]
        },
        {
          "output_type": "stream",
          "name": "stderr",
          "text": [
            "\rProcessing compounds:  55%|█████▍    | 1169/2143 [08:10<06:26,  2.52it/s]"
          ]
        },
        {
          "output_type": "stream",
          "name": "stdout",
          "text": [
            "Ошибка при получении данных для формулы Co3C: 404\n",
            "Ошибка при получении данных для формулы 0: 404\n"
          ]
        },
        {
          "output_type": "stream",
          "name": "stderr",
          "text": [
            "\rProcessing compounds:  55%|█████▍    | 1170/2143 [08:10<06:26,  2.52it/s]"
          ]
        },
        {
          "output_type": "stream",
          "name": "stdout",
          "text": [
            "Ошибка при получении данных для формулы Co3C: 404\n",
            "Ошибка при получении данных для формулы 0: 404\n"
          ]
        },
        {
          "output_type": "stream",
          "name": "stderr",
          "text": [
            "\rProcessing compounds:  55%|█████▍    | 1171/2143 [08:10<06:25,  2.52it/s]"
          ]
        },
        {
          "output_type": "stream",
          "name": "stdout",
          "text": [
            "Ошибка при получении данных для формулы Co3C: 404\n",
            "Ошибка при получении данных для формулы 0: 404\n"
          ]
        },
        {
          "output_type": "stream",
          "name": "stderr",
          "text": [
            "\rProcessing compounds:  55%|█████▍    | 1172/2143 [08:11<06:25,  2.52it/s]"
          ]
        },
        {
          "output_type": "stream",
          "name": "stdout",
          "text": [
            "Ошибка при получении данных для формулы Co3C: 404\n",
            "Ошибка при получении данных для формулы 0: 404\n"
          ]
        },
        {
          "output_type": "stream",
          "name": "stderr",
          "text": [
            "\rProcessing compounds:  55%|█████▍    | 1173/2143 [08:11<06:23,  2.53it/s]"
          ]
        },
        {
          "output_type": "stream",
          "name": "stdout",
          "text": [
            "Ошибка при получении данных для формулы Co3C: 404\n",
            "Ошибка при получении данных для формулы 0: 404\n",
            "Ошибка при получении данных для формулы FePt: 404\n"
          ]
        },
        {
          "output_type": "stream",
          "name": "stderr",
          "text": [
            "\rProcessing compounds:  55%|█████▍    | 1174/2143 [08:12<06:25,  2.51it/s]"
          ]
        },
        {
          "output_type": "stream",
          "name": "stdout",
          "text": [
            "Ошибка при получении данных для формулы 0: 404\n",
            "Ошибка при получении данных для формулы FePt: 404\n"
          ]
        },
        {
          "output_type": "stream",
          "name": "stderr",
          "text": [
            "\rProcessing compounds:  55%|█████▍    | 1175/2143 [08:12<06:34,  2.45it/s]"
          ]
        },
        {
          "output_type": "stream",
          "name": "stdout",
          "text": [
            "Ошибка при получении данных для формулы 0: 404\n",
            "Ошибка при получении данных для формулы FePt: 404\n"
          ]
        },
        {
          "output_type": "stream",
          "name": "stderr",
          "text": [
            "\rProcessing compounds:  55%|█████▍    | 1176/2143 [08:13<07:18,  2.20it/s]"
          ]
        },
        {
          "output_type": "stream",
          "name": "stdout",
          "text": [
            "Ошибка при получении данных для формулы 0: 404\n",
            "Ошибка при получении данных для формулы FePt: 404\n"
          ]
        },
        {
          "output_type": "stream",
          "name": "stderr",
          "text": [
            "\rProcessing compounds:  55%|█████▍    | 1177/2143 [08:13<07:01,  2.29it/s]"
          ]
        },
        {
          "output_type": "stream",
          "name": "stdout",
          "text": [
            "Ошибка при получении данных для формулы 0: 404\n",
            "Ошибка при получении данных для формулы FeCo: 404\n"
          ]
        },
        {
          "output_type": "stream",
          "name": "stderr",
          "text": [
            "\rProcessing compounds:  55%|█████▍    | 1178/2143 [08:13<06:57,  2.31it/s]"
          ]
        },
        {
          "output_type": "stream",
          "name": "stdout",
          "text": [
            "Ошибка при получении данных для формулы 0: 404\n",
            "Ошибка при получении данных для формулы FeCo: 404\n"
          ]
        },
        {
          "output_type": "stream",
          "name": "stderr",
          "text": [
            "\rProcessing compounds:  55%|█████▌    | 1179/2143 [08:14<06:46,  2.37it/s]"
          ]
        },
        {
          "output_type": "stream",
          "name": "stdout",
          "text": [
            "Ошибка при получении данных для формулы 0: 404\n"
          ]
        },
        {
          "output_type": "stream",
          "name": "stderr",
          "text": [
            "\rProcessing compounds:  55%|█████▌    | 1180/2143 [08:14<06:41,  2.40it/s]"
          ]
        },
        {
          "output_type": "stream",
          "name": "stdout",
          "text": [
            "Ошибка при получении данных для формулы CoFe2O4: 404\n",
            "Ошибка при получении данных для формулы 0: 404\n"
          ]
        },
        {
          "output_type": "stream",
          "name": "stderr",
          "text": [
            "\rProcessing compounds:  55%|█████▌    | 1181/2143 [08:15<06:36,  2.43it/s]"
          ]
        },
        {
          "output_type": "stream",
          "name": "stdout",
          "text": [
            "Ошибка при получении данных для формулы CoFe2O4: 404\n",
            "Ошибка при получении данных для формулы 0: 404\n"
          ]
        },
        {
          "output_type": "stream",
          "name": "stderr",
          "text": [
            "\rProcessing compounds:  55%|█████▌    | 1182/2143 [08:15<06:31,  2.46it/s]"
          ]
        },
        {
          "output_type": "stream",
          "name": "stdout",
          "text": [
            "Ошибка при получении данных для формулы FeCo: 404\n",
            "Ошибка при получении данных для формулы CoFe2O4: 404\n",
            "Ошибка при получении данных для формулы FeCo: 404\n"
          ]
        },
        {
          "output_type": "stream",
          "name": "stderr",
          "text": [
            "\rProcessing compounds:  55%|█████▌    | 1183/2143 [08:15<06:32,  2.45it/s]"
          ]
        },
        {
          "output_type": "stream",
          "name": "stdout",
          "text": [
            "Ошибка при получении данных для формулы CoFe2O4: 404\n",
            "Ошибка при получении данных для формулы FeCo: 404\n"
          ]
        },
        {
          "output_type": "stream",
          "name": "stderr",
          "text": [
            "\rProcessing compounds:  55%|█████▌    | 1184/2143 [08:16<06:27,  2.48it/s]"
          ]
        },
        {
          "output_type": "stream",
          "name": "stdout",
          "text": [
            "Ошибка при получении данных для формулы CoFe2O4: 404\n",
            "Ошибка при получении данных для формулы FeCo: 404\n"
          ]
        },
        {
          "output_type": "stream",
          "name": "stderr",
          "text": [
            "\rProcessing compounds:  55%|█████▌    | 1185/2143 [08:16<06:24,  2.49it/s]"
          ]
        },
        {
          "output_type": "stream",
          "name": "stdout",
          "text": [
            "Ошибка при получении данных для формулы CoFe2O4: 404\n",
            "Ошибка при получении данных для формулы FeCo: 404\n"
          ]
        },
        {
          "output_type": "stream",
          "name": "stderr",
          "text": [
            "\rProcessing compounds:  55%|█████▌    | 1186/2143 [08:17<06:22,  2.50it/s]"
          ]
        },
        {
          "output_type": "stream",
          "name": "stdout",
          "text": [
            "Ошибка при получении данных для формулы CoFe2O4: 404\n",
            "Ошибка при получении данных для формулы FeCo: 404\n"
          ]
        },
        {
          "output_type": "stream",
          "name": "stderr",
          "text": [
            "\rProcessing compounds:  55%|█████▌    | 1187/2143 [08:17<06:39,  2.39it/s]"
          ]
        },
        {
          "output_type": "stream",
          "name": "stdout",
          "text": [
            "Ошибка при получении данных для формулы CoFe2O4: 404\n"
          ]
        },
        {
          "output_type": "stream",
          "name": "stderr",
          "text": [
            "\rProcessing compounds:  55%|█████▌    | 1188/2143 [08:18<06:42,  2.37it/s]"
          ]
        },
        {
          "output_type": "stream",
          "name": "stdout",
          "text": [
            "Ошибка при получении данных для формулы FeCo: 404\n",
            "Ошибка при получении данных для формулы CoFe2O4: 404\n"
          ]
        },
        {
          "output_type": "stream",
          "name": "stderr",
          "text": [
            "\rProcessing compounds:  55%|█████▌    | 1189/2143 [08:18<06:35,  2.41it/s]"
          ]
        },
        {
          "output_type": "stream",
          "name": "stdout",
          "text": [
            "Ошибка при получении данных для формулы FeCo: 404\n",
            "Ошибка при получении данных для формулы CoFe2O4: 404\n"
          ]
        },
        {
          "output_type": "stream",
          "name": "stderr",
          "text": [
            "\rProcessing compounds:  56%|█████▌    | 1190/2143 [08:18<06:28,  2.45it/s]"
          ]
        },
        {
          "output_type": "stream",
          "name": "stdout",
          "text": [
            "Ошибка при получении данных для формулы FeCo: 404\n",
            "Ошибка при получении данных для формулы CoFe2O4: 404\n"
          ]
        },
        {
          "output_type": "stream",
          "name": "stderr",
          "text": [
            "\rProcessing compounds:  56%|█████▌    | 1191/2143 [08:19<06:30,  2.44it/s]"
          ]
        },
        {
          "output_type": "stream",
          "name": "stdout",
          "text": [
            "Ошибка при получении данных для формулы FeCo: 404\n",
            "Ошибка при получении данных для формулы CoFe2O4: 404\n"
          ]
        },
        {
          "output_type": "stream",
          "name": "stderr",
          "text": [
            "\rProcessing compounds:  56%|█████▌    | 1192/2143 [08:19<06:26,  2.46it/s]"
          ]
        },
        {
          "output_type": "stream",
          "name": "stdout",
          "text": [
            "Ошибка при получении данных для формулы FeCo: 404\n",
            "Ошибка при получении данных для формулы CoFe2O4: 404\n",
            "Сохранен и добавлен в архив: compound_104730_c1.json\n"
          ]
        },
        {
          "output_type": "stream",
          "name": "stderr",
          "text": [
            "\rProcessing compounds:  56%|█████▌    | 1193/2143 [08:20<07:42,  2.05it/s]"
          ]
        },
        {
          "output_type": "stream",
          "name": "stdout",
          "text": [
            "Ошибка при получении данных для формулы 0: 404\n",
            "Сохранен и добавлен в архив: compound_104730_c1.json\n"
          ]
        },
        {
          "output_type": "stream",
          "name": "stderr",
          "text": [
            "\rProcessing compounds:  56%|█████▌    | 1194/2143 [08:20<08:05,  1.95it/s]"
          ]
        },
        {
          "output_type": "stream",
          "name": "stdout",
          "text": [
            "Ошибка при получении данных для формулы 0: 404\n"
          ]
        },
        {
          "output_type": "stream",
          "name": "stderr",
          "text": [
            "\rProcessing compounds:  56%|█████▌    | 1195/2143 [08:21<07:50,  2.02it/s]"
          ]
        },
        {
          "output_type": "stream",
          "name": "stdout",
          "text": [
            "Сохранен и добавлен в архив: compound_104730_c1.json\n",
            "Ошибка при получении данных для формулы 0: 404\n"
          ]
        },
        {
          "output_type": "stream",
          "name": "stderr",
          "text": [
            "\rProcessing compounds:  56%|█████▌    | 1196/2143 [08:21<07:23,  2.14it/s]"
          ]
        },
        {
          "output_type": "stream",
          "name": "stdout",
          "text": [
            "Сохранен и добавлен в архив: compound_104730_c1.json\n",
            "Ошибка при получении данных для формулы 0: 404\n",
            "Сохранен и добавлен в архив: compound_104730_c1.json\n"
          ]
        },
        {
          "output_type": "stream",
          "name": "stderr",
          "text": [
            "\rProcessing compounds:  56%|█████▌    | 1197/2143 [08:22<07:24,  2.13it/s]"
          ]
        },
        {
          "output_type": "stream",
          "name": "stdout",
          "text": [
            "Ошибка при получении данных для формулы 0: 404\n"
          ]
        },
        {
          "output_type": "stream",
          "name": "stderr",
          "text": [
            "\rProcessing compounds:  56%|█████▌    | 1198/2143 [08:22<07:05,  2.22it/s]"
          ]
        },
        {
          "output_type": "stream",
          "name": "stdout",
          "text": [
            "Сохранен и добавлен в архив: compound_104730_c1.json\n",
            "Ошибка при получении данных для формулы 0: 404\n"
          ]
        },
        {
          "output_type": "stream",
          "name": "stderr",
          "text": [
            "\rProcessing compounds:  56%|█████▌    | 1199/2143 [08:23<06:51,  2.29it/s]"
          ]
        },
        {
          "output_type": "stream",
          "name": "stdout",
          "text": [
            "Сохранен и добавлен в архив: compound_104730_c1.json\n",
            "Ошибка при получении данных для формулы 0: 404\n"
          ]
        },
        {
          "output_type": "stream",
          "name": "stderr",
          "text": [
            "\rProcessing compounds:  56%|█████▌    | 1200/2143 [08:23<06:39,  2.36it/s]"
          ]
        },
        {
          "output_type": "stream",
          "name": "stdout",
          "text": [
            "Ошибка при получении данных для формулы CoNi: 404\n",
            "Ошибка при получении данных для формулы 0: 404\n"
          ]
        },
        {
          "output_type": "stream",
          "name": "stderr",
          "text": [
            "\rProcessing compounds:  56%|█████▌    | 1201/2143 [08:23<06:31,  2.41it/s]"
          ]
        },
        {
          "output_type": "stream",
          "name": "stdout",
          "text": [
            "Ошибка при получении данных для формулы CoNi: 404\n",
            "Ошибка при получении данных для формулы 0: 404\n"
          ]
        },
        {
          "output_type": "stream",
          "name": "stderr",
          "text": [
            "\rProcessing compounds:  56%|█████▌    | 1202/2143 [08:24<06:24,  2.45it/s]"
          ]
        },
        {
          "output_type": "stream",
          "name": "stdout",
          "text": [
            "Ошибка при получении данных для формулы CoNi: 404\n",
            "Ошибка при получении данных для формулы 0: 404\n",
            "Ошибка при получении данных для формулы CoNi: 404\n"
          ]
        },
        {
          "output_type": "stream",
          "name": "stderr",
          "text": [
            "\rProcessing compounds:  56%|█████▌    | 1203/2143 [08:24<06:22,  2.46it/s]"
          ]
        },
        {
          "output_type": "stream",
          "name": "stdout",
          "text": [
            "Сохранен и добавлен в архив: compound_14786_c2.json\n",
            "Ошибка при получении данных для формулы CoNi: 404\n"
          ]
        },
        {
          "output_type": "stream",
          "name": "stderr",
          "text": [
            "\rProcessing compounds:  56%|█████▌    | 1204/2143 [08:25<06:19,  2.47it/s]"
          ]
        },
        {
          "output_type": "stream",
          "name": "stdout",
          "text": [
            "Сохранен и добавлен в архив: compound_14786_c2.json\n",
            "Ошибка при получении данных для формулы CoNi: 404\n"
          ]
        },
        {
          "output_type": "stream",
          "name": "stderr",
          "text": [
            "\rProcessing compounds:  56%|█████▌    | 1205/2143 [08:25<06:18,  2.48it/s]"
          ]
        },
        {
          "output_type": "stream",
          "name": "stdout",
          "text": [
            "Сохранен и добавлен в архив: compound_14786_c2.json\n",
            "Ошибка при получении данных для формулы CoNi: 404\n"
          ]
        },
        {
          "output_type": "stream",
          "name": "stderr",
          "text": [
            "\rProcessing compounds:  56%|█████▋    | 1206/2143 [08:26<07:07,  2.19it/s]"
          ]
        },
        {
          "output_type": "stream",
          "name": "stdout",
          "text": [
            "Сохранен и добавлен в архив: compound_14786_c2.json\n",
            "Ошибка при получении данных для формулы CoNi: 404\n"
          ]
        },
        {
          "output_type": "stream",
          "name": "stderr",
          "text": [
            "\rProcessing compounds:  56%|█████▋    | 1207/2143 [08:26<08:49,  1.77it/s]"
          ]
        },
        {
          "output_type": "stream",
          "name": "stdout",
          "text": [
            "Сохранен и добавлен в архив: compound_14786_c2.json\n",
            "Ошибка при получении данных для формулы FeCo: 404\n"
          ]
        },
        {
          "output_type": "stream",
          "name": "stderr",
          "text": [
            "\rProcessing compounds:  56%|█████▋    | 1208/2143 [08:27<10:01,  1.56it/s]"
          ]
        },
        {
          "output_type": "stream",
          "name": "stdout",
          "text": [
            "Ошибка при получении данных для формулы 0: 404\n",
            "Ошибка при получении данных для формулы FeCo: 404\n"
          ]
        },
        {
          "output_type": "stream",
          "name": "stderr",
          "text": [
            "\rProcessing compounds:  56%|█████▋    | 1209/2143 [08:28<11:16,  1.38it/s]"
          ]
        },
        {
          "output_type": "stream",
          "name": "stdout",
          "text": [
            "Ошибка при получении данных для формулы 0: 404\n",
            "Ошибка при получении данных для формулы SrFe12O19: 404\n"
          ]
        },
        {
          "output_type": "stream",
          "name": "stderr",
          "text": [
            "\rProcessing compounds:  56%|█████▋    | 1210/2143 [08:29<10:57,  1.42it/s]"
          ]
        },
        {
          "output_type": "stream",
          "name": "stdout",
          "text": [
            "Ошибка при получении данных для формулы 0: 404\n"
          ]
        },
        {
          "output_type": "stream",
          "name": "stderr",
          "text": [
            "\rProcessing compounds:  57%|█████▋    | 1211/2143 [08:29<09:49,  1.58it/s]"
          ]
        },
        {
          "output_type": "stream",
          "name": "stdout",
          "text": [
            "Ошибка при получении данных для формулы SrFe12O19: 404\n",
            "Ошибка при получении данных для формулы 0: 404\n"
          ]
        },
        {
          "output_type": "stream",
          "name": "stderr",
          "text": [
            "\rProcessing compounds:  57%|█████▋    | 1212/2143 [08:30<08:49,  1.76it/s]"
          ]
        },
        {
          "output_type": "stream",
          "name": "stdout",
          "text": [
            "Ошибка при получении данных для формулы SrFe12O19: 404\n",
            "Ошибка при получении данных для формулы 0: 404\n",
            "Ошибка при получении данных для формулы BaFe12O19: 404\n"
          ]
        },
        {
          "output_type": "stream",
          "name": "stderr",
          "text": [
            "\rProcessing compounds:  57%|█████▋    | 1213/2143 [08:30<08:06,  1.91it/s]"
          ]
        },
        {
          "output_type": "stream",
          "name": "stdout",
          "text": [
            "Ошибка при получении данных для формулы 0: 404\n",
            "Ошибка при получении данных для формулы BaFe12O19: 404\n",
            "Ошибка при получении данных для формулы 0: 404\n"
          ]
        },
        {
          "output_type": "stream",
          "name": "stderr",
          "text": [
            "\rProcessing compounds:  57%|█████▋    | 1214/2143 [08:30<07:32,  2.05it/s]"
          ]
        },
        {
          "output_type": "stream",
          "name": "stdout",
          "text": [
            "Ошибка при получении данных для формулы BaFe12O19: 404\n",
            "Ошибка при получении данных для формулы 0: 404\n"
          ]
        },
        {
          "output_type": "stream",
          "name": "stderr",
          "text": [
            "Processing compounds:  57%|█████▋    | 1216/2143 [08:31<07:16,  2.13it/s]"
          ]
        },
        {
          "output_type": "stream",
          "name": "stdout",
          "text": [
            "Ошибка при получении данных для формулы BaFe12O19: 404\n",
            "Ошибка при получении данных для формулы 0: 404\n"
          ]
        },
        {
          "output_type": "stream",
          "name": "stderr",
          "text": [
            "\rProcessing compounds:  57%|█████▋    | 1217/2143 [08:32<06:57,  2.22it/s]"
          ]
        },
        {
          "output_type": "stream",
          "name": "stdout",
          "text": [
            "Ошибка при получении данных для формулы SrMg0.5Zr0.5Fe11O19: 404\n",
            "Ошибка при получении данных для формулы 0: 404\n"
          ]
        },
        {
          "output_type": "stream",
          "name": "stderr",
          "text": [
            "\rProcessing compounds:  57%|█████▋    | 1218/2143 [08:32<06:44,  2.29it/s]"
          ]
        },
        {
          "output_type": "stream",
          "name": "stdout",
          "text": [
            "Ошибка при получении данных для формулы SrMgZrFe10O19: 404\n",
            "Ошибка при получении данных для формулы 0: 404\n"
          ]
        },
        {
          "output_type": "stream",
          "name": "stderr",
          "text": [
            "\rProcessing compounds:  57%|█████▋    | 1219/2143 [08:33<06:52,  2.24it/s]"
          ]
        },
        {
          "output_type": "stream",
          "name": "stdout",
          "text": [
            "Ошибка при получении данных для формулы SrMg1.5Zr1.5Fe9O19: 404\n",
            "Ошибка при получении данных для формулы 0: 404\n"
          ]
        },
        {
          "output_type": "stream",
          "name": "stderr",
          "text": [
            "\rProcessing compounds:  57%|█████▋    | 1220/2143 [08:33<06:38,  2.32it/s]"
          ]
        },
        {
          "output_type": "stream",
          "name": "stdout",
          "text": [
            "Ошибка при получении данных для формулы Co2C: 404\n",
            "Ошибка при получении данных для формулы 0: 404\n"
          ]
        },
        {
          "output_type": "stream",
          "name": "stderr",
          "text": [
            "\rProcessing compounds:  57%|█████▋    | 1221/2143 [08:33<06:28,  2.37it/s]"
          ]
        },
        {
          "output_type": "stream",
          "name": "stdout",
          "text": [
            "Ошибка при получении данных для формулы Co2C: 404\n",
            "Ошибка при получении данных для формулы 0: 404\n"
          ]
        },
        {
          "output_type": "stream",
          "name": "stderr",
          "text": [
            "\rProcessing compounds:  57%|█████▋    | 1222/2143 [08:34<06:21,  2.42it/s]"
          ]
        },
        {
          "output_type": "stream",
          "name": "stdout",
          "text": [
            "Ошибка при получении данных для формулы Co2C: 404\n",
            "Ошибка при получении данных для формулы 0: 404\n",
            "Ошибка при получении данных для формулы Co2C: 404\n"
          ]
        },
        {
          "output_type": "stream",
          "name": "stderr",
          "text": [
            "\rProcessing compounds:  57%|█████▋    | 1223/2143 [08:34<06:21,  2.41it/s]"
          ]
        },
        {
          "output_type": "stream",
          "name": "stdout",
          "text": [
            "Ошибка при получении данных для формулы 0: 404\n",
            "Ошибка при получении данных для формулы Co2C: 404\n"
          ]
        },
        {
          "output_type": "stream",
          "name": "stderr",
          "text": [
            "\rProcessing compounds:  57%|█████▋    | 1224/2143 [08:35<06:24,  2.39it/s]"
          ]
        },
        {
          "output_type": "stream",
          "name": "stdout",
          "text": [
            "Ошибка при получении данных для формулы 0: 404\n",
            "Ошибка при получении данных для формулы SrFe12O19: 404\n"
          ]
        },
        {
          "output_type": "stream",
          "name": "stderr",
          "text": [
            "\rProcessing compounds:  57%|█████▋    | 1225/2143 [08:35<06:17,  2.43it/s]"
          ]
        },
        {
          "output_type": "stream",
          "name": "stdout",
          "text": [
            "Ошибка при получении данных для формулы 0: 404\n"
          ]
        },
        {
          "output_type": "stream",
          "name": "stderr",
          "text": [
            "\rProcessing compounds:  57%|█████▋    | 1226/2143 [08:35<06:13,  2.45it/s]"
          ]
        },
        {
          "output_type": "stream",
          "name": "stdout",
          "text": [
            "Ошибка при получении данных для формулы SrFe11AlO19: 404\n",
            "Ошибка при получении данных для формулы 0: 404\n"
          ]
        },
        {
          "output_type": "stream",
          "name": "stderr",
          "text": [
            "\rProcessing compounds:  57%|█████▋    | 1227/2143 [08:36<06:11,  2.47it/s]"
          ]
        },
        {
          "output_type": "stream",
          "name": "stdout",
          "text": [
            "Ошибка при получении данных для формулы SrFe10Al2O19: 404\n",
            "Ошибка при получении данных для формулы 0: 404\n"
          ]
        },
        {
          "output_type": "stream",
          "name": "stderr",
          "text": [
            "\rProcessing compounds:  57%|█████▋    | 1228/2143 [08:36<06:07,  2.49it/s]"
          ]
        },
        {
          "output_type": "stream",
          "name": "stdout",
          "text": [
            "Ошибка при получении данных для формулы SrFe8Al4O19: 404\n",
            "Ошибка при получении данных для формулы 0: 404\n"
          ]
        },
        {
          "output_type": "stream",
          "name": "stderr",
          "text": [
            "\rProcessing compounds:  57%|█████▋    | 1229/2143 [08:37<06:05,  2.50it/s]"
          ]
        },
        {
          "output_type": "stream",
          "name": "stdout",
          "text": [
            "Ошибка при получении данных для формулы SrFe12O19: 404\n",
            "Ошибка при получении данных для формулы 0: 404\n"
          ]
        },
        {
          "output_type": "stream",
          "name": "stderr",
          "text": [
            "\rProcessing compounds:  57%|█████▋    | 1230/2143 [08:37<06:03,  2.51it/s]"
          ]
        },
        {
          "output_type": "stream",
          "name": "stdout",
          "text": [
            "Ошибка при получении данных для формулы SrFe8Al4O19: 404\n",
            "Ошибка при получении данных для формулы 0: 404\n"
          ]
        },
        {
          "output_type": "stream",
          "name": "stderr",
          "text": [
            "\rProcessing compounds:  57%|█████▋    | 1231/2143 [08:37<06:02,  2.52it/s]"
          ]
        },
        {
          "output_type": "stream",
          "name": "stdout",
          "text": [
            "Ошибка при получении данных для формулы SrFe12O19: 404\n",
            "Ошибка при получении данных для формулы 0: 404\n"
          ]
        },
        {
          "output_type": "stream",
          "name": "stderr",
          "text": [
            "\rProcessing compounds:  57%|█████▋    | 1232/2143 [08:38<06:00,  2.53it/s]"
          ]
        },
        {
          "output_type": "stream",
          "name": "stdout",
          "text": [
            "Ошибка при получении данных для формулы SrFe8Al4O19: 404\n",
            "Ошибка при получении данных для формулы 0: 404\n",
            "Ошибка при получении данных для формулы Fe30Cu70: 404\n"
          ]
        },
        {
          "output_type": "stream",
          "name": "stderr",
          "text": [
            "\rProcessing compounds:  58%|█████▊    | 1233/2143 [08:38<06:08,  2.47it/s]"
          ]
        },
        {
          "output_type": "stream",
          "name": "stdout",
          "text": [
            "Ошибка при получении данных для формулы 0: 404\n",
            "Ошибка при получении данных для формулы Fe30Cu70: 404\n"
          ]
        },
        {
          "output_type": "stream",
          "name": "stderr",
          "text": [
            "\rProcessing compounds:  58%|█████▊    | 1234/2143 [08:39<06:19,  2.40it/s]"
          ]
        },
        {
          "output_type": "stream",
          "name": "stdout",
          "text": [
            "Ошибка при получении данных для формулы 0: 404\n"
          ]
        },
        {
          "output_type": "stream",
          "name": "stderr",
          "text": [
            "\rProcessing compounds:  58%|█████▊    | 1235/2143 [08:39<06:14,  2.43it/s]"
          ]
        },
        {
          "output_type": "stream",
          "name": "stdout",
          "text": [
            "Ошибка при получении данных для формулы Fe32Cu68: 404\n",
            "Ошибка при получении данных для формулы 0: 404\n"
          ]
        },
        {
          "output_type": "stream",
          "name": "stderr",
          "text": [
            "\rProcessing compounds:  58%|█████▊    | 1236/2143 [08:39<06:10,  2.45it/s]"
          ]
        },
        {
          "output_type": "stream",
          "name": "stdout",
          "text": [
            "Ошибка при получении данных для формулы Fe32Cu68: 404\n",
            "Ошибка при получении данных для формулы 0: 404\n"
          ]
        },
        {
          "output_type": "stream",
          "name": "stderr",
          "text": [
            "\rProcessing compounds:  58%|█████▊    | 1237/2143 [08:40<06:07,  2.47it/s]"
          ]
        },
        {
          "output_type": "stream",
          "name": "stdout",
          "text": [
            "Ошибка при получении данных для формулы Fe33Cu67: 404\n",
            "Ошибка при получении данных для формулы 0: 404\n"
          ]
        },
        {
          "output_type": "stream",
          "name": "stderr",
          "text": [
            "\rProcessing compounds:  58%|█████▊    | 1238/2143 [08:40<06:03,  2.49it/s]"
          ]
        },
        {
          "output_type": "stream",
          "name": "stdout",
          "text": [
            "Ошибка при получении данных для формулы Fe33Cu67: 404\n",
            "Ошибка при получении данных для формулы 0: 404\n"
          ]
        },
        {
          "output_type": "stream",
          "name": "stderr",
          "text": [
            "\rProcessing compounds:  58%|█████▊    | 1239/2143 [08:41<06:01,  2.50it/s]"
          ]
        },
        {
          "output_type": "stream",
          "name": "stdout",
          "text": [
            "Ошибка при получении данных для формулы Fe35Cu65: 404\n",
            "Ошибка при получении данных для формулы 0: 404\n"
          ]
        },
        {
          "output_type": "stream",
          "name": "stderr",
          "text": [
            "\rProcessing compounds:  58%|█████▊    | 1240/2143 [08:41<06:00,  2.51it/s]"
          ]
        },
        {
          "output_type": "stream",
          "name": "stdout",
          "text": [
            "Ошибка при получении данных для формулы Fe35Cu65: 404\n",
            "Ошибка при получении данных для формулы 0: 404\n"
          ]
        },
        {
          "output_type": "stream",
          "name": "stderr",
          "text": [
            "\rProcessing compounds:  58%|█████▊    | 1241/2143 [08:41<06:04,  2.47it/s]"
          ]
        },
        {
          "output_type": "stream",
          "name": "stdout",
          "text": [
            "Ошибка при получении данных для формулы Zr18Co82: 404\n",
            "Ошибка при получении данных для формулы 0: 404\n",
            "Ошибка при получении данных для формулы Zr18Co82: 404\n"
          ]
        },
        {
          "output_type": "stream",
          "name": "stderr",
          "text": [
            "\rProcessing compounds:  58%|█████▊    | 1242/2143 [08:42<06:09,  2.44it/s]"
          ]
        },
        {
          "output_type": "stream",
          "name": "stdout",
          "text": [
            "Ошибка при получении данных для формулы 0: 404\n",
            "Ошибка при получении данных для формулы Zr18Co82: 404\n"
          ]
        },
        {
          "output_type": "stream",
          "name": "stderr",
          "text": [
            "\rProcessing compounds:  58%|█████▊    | 1243/2143 [08:42<06:05,  2.46it/s]"
          ]
        },
        {
          "output_type": "stream",
          "name": "stdout",
          "text": [
            "Ошибка при получении данных для формулы 0: 404\n"
          ]
        },
        {
          "output_type": "stream",
          "name": "stderr",
          "text": [
            "\rProcessing compounds:  58%|█████▊    | 1244/2143 [08:43<06:08,  2.44it/s]"
          ]
        },
        {
          "output_type": "stream",
          "name": "stdout",
          "text": [
            "Ошибка при получении данных для формулы Zr18Co82: 404\n",
            "Ошибка при получении данных для формулы 0: 404\n"
          ]
        },
        {
          "output_type": "stream",
          "name": "stderr",
          "text": [
            "\rProcessing compounds:  58%|█████▊    | 1245/2143 [08:43<06:04,  2.46it/s]"
          ]
        },
        {
          "output_type": "stream",
          "name": "stdout",
          "text": [
            "Ошибка при получении данных для формулы Zr18Co82: 404\n",
            "Ошибка при получении данных для формулы 0: 404\n"
          ]
        },
        {
          "output_type": "stream",
          "name": "stderr",
          "text": [
            "\rProcessing compounds:  58%|█████▊    | 1246/2143 [08:44<06:06,  2.45it/s]"
          ]
        },
        {
          "output_type": "stream",
          "name": "stdout",
          "text": [
            "Сохранен и добавлен в архив: compound_104730_c1.json\n",
            "Ошибка при получении данных для формулы 0: 404\n"
          ]
        },
        {
          "output_type": "stream",
          "name": "stderr",
          "text": [
            "\rProcessing compounds:  58%|█████▊    | 1247/2143 [08:44<06:06,  2.44it/s]"
          ]
        },
        {
          "output_type": "stream",
          "name": "stdout",
          "text": [
            "Сохранен и добавлен в архив: compound_104730_c1.json\n",
            "Ошибка при получении данных для формулы 0: 404\n"
          ]
        },
        {
          "output_type": "stream",
          "name": "stderr",
          "text": [
            "\rProcessing compounds:  58%|█████▊    | 1248/2143 [08:44<06:06,  2.44it/s]"
          ]
        },
        {
          "output_type": "stream",
          "name": "stdout",
          "text": [
            "Сохранен и добавлен в архив: compound_104730_c1.json\n",
            "Ошибка при получении данных для формулы 0: 404\n"
          ]
        },
        {
          "output_type": "stream",
          "name": "stderr",
          "text": [
            "\rProcessing compounds:  58%|█████▊    | 1249/2143 [08:45<06:04,  2.45it/s]"
          ]
        },
        {
          "output_type": "stream",
          "name": "stdout",
          "text": [
            "Сохранен и добавлен в архив: compound_104730_c1.json\n",
            "Ошибка при получении данных для формулы 0: 404\n"
          ]
        },
        {
          "output_type": "stream",
          "name": "stderr",
          "text": [
            "\rProcessing compounds:  58%|█████▊    | 1250/2143 [08:45<06:04,  2.45it/s]"
          ]
        },
        {
          "output_type": "stream",
          "name": "stdout",
          "text": [
            "Сохранен и добавлен в архив: compound_104730_c1.json\n",
            "Ошибка при получении данных для формулы 0: 404\n"
          ]
        },
        {
          "output_type": "stream",
          "name": "stderr",
          "text": [
            "\rProcessing compounds:  58%|█████▊    | 1251/2143 [08:46<06:03,  2.45it/s]"
          ]
        },
        {
          "output_type": "stream",
          "name": "stdout",
          "text": [
            "Сохранен и добавлен в архив: compound_104730_c1.json\n",
            "Ошибка при получении данных для формулы 0: 404\n"
          ]
        },
        {
          "output_type": "stream",
          "name": "stderr",
          "text": [
            "\rProcessing compounds:  58%|█████▊    | 1252/2143 [08:46<06:01,  2.46it/s]"
          ]
        },
        {
          "output_type": "stream",
          "name": "stdout",
          "text": [
            "Сохранен и добавлен в архив: compound_104730_c1.json\n",
            "Ошибка при получении данных для формулы 0: 404\n"
          ]
        },
        {
          "output_type": "stream",
          "name": "stderr",
          "text": [
            "\rProcessing compounds:  58%|█████▊    | 1253/2143 [08:46<06:01,  2.46it/s]"
          ]
        },
        {
          "output_type": "stream",
          "name": "stdout",
          "text": [
            "Сохранен и добавлен в архив: compound_104730_c1.json\n",
            "Ошибка при получении данных для формулы 0: 404\n"
          ]
        },
        {
          "output_type": "stream",
          "name": "stderr",
          "text": [
            "\rProcessing compounds:  59%|█████▊    | 1254/2143 [08:47<06:00,  2.47it/s]"
          ]
        },
        {
          "output_type": "stream",
          "name": "stdout",
          "text": [
            "Сохранен и добавлен в архив: compound_104730_c1.json\n",
            "Ошибка при получении данных для формулы 0: 404\n"
          ]
        },
        {
          "output_type": "stream",
          "name": "stderr",
          "text": [
            "\rProcessing compounds:  59%|█████▊    | 1255/2143 [08:47<05:59,  2.47it/s]"
          ]
        },
        {
          "output_type": "stream",
          "name": "stdout",
          "text": [
            "Сохранен и добавлен в архив: compound_104730_c1.json\n",
            "Ошибка при получении данных для формулы 0: 404\n"
          ]
        },
        {
          "output_type": "stream",
          "name": "stderr",
          "text": [
            "\rProcessing compounds:  59%|█████▊    | 1256/2143 [08:48<05:58,  2.47it/s]"
          ]
        },
        {
          "output_type": "stream",
          "name": "stdout",
          "text": [
            "Сохранен и добавлен в архив: compound_104730_c1.json\n",
            "Ошибка при получении данных для формулы 0: 404\n"
          ]
        },
        {
          "output_type": "stream",
          "name": "stderr",
          "text": [
            "\rProcessing compounds:  59%|█████▊    | 1257/2143 [08:48<05:58,  2.47it/s]"
          ]
        },
        {
          "output_type": "stream",
          "name": "stdout",
          "text": [
            "Сохранен и добавлен в архив: compound_104730_c1.json\n",
            "Ошибка при получении данных для формулы 0: 404\n"
          ]
        },
        {
          "output_type": "stream",
          "name": "stderr",
          "text": [
            "\rProcessing compounds:  59%|█████▊    | 1258/2143 [08:48<05:57,  2.48it/s]"
          ]
        },
        {
          "output_type": "stream",
          "name": "stdout",
          "text": [
            "Сохранен и добавлен в архив: compound_104730_c1.json\n",
            "Ошибка при получении данных для формулы 0: 404\n"
          ]
        },
        {
          "output_type": "stream",
          "name": "stderr",
          "text": [
            "\rProcessing compounds:  59%|█████▊    | 1259/2143 [08:49<05:56,  2.48it/s]"
          ]
        },
        {
          "output_type": "stream",
          "name": "stdout",
          "text": [
            "Сохранен и добавлен в архив: compound_104730_c1.json\n",
            "Ошибка при получении данных для формулы 0: 404\n",
            "Сохранен и добавлен в архив: compound_104730_c1.json\n"
          ]
        },
        {
          "output_type": "stream",
          "name": "stderr",
          "text": [
            "\rProcessing compounds:  59%|█████▉    | 1260/2143 [08:49<06:01,  2.44it/s]"
          ]
        },
        {
          "output_type": "stream",
          "name": "stdout",
          "text": [
            "Ошибка при получении данных для формулы 0: 404\n"
          ]
        },
        {
          "output_type": "stream",
          "name": "stderr",
          "text": [
            "\rProcessing compounds:  59%|█████▉    | 1261/2143 [08:50<06:00,  2.45it/s]"
          ]
        },
        {
          "output_type": "stream",
          "name": "stdout",
          "text": [
            "Сохранен и добавлен в архив: compound_104730_c1.json\n",
            "Ошибка при получении данных для формулы 0: 404\n"
          ]
        },
        {
          "output_type": "stream",
          "name": "stderr",
          "text": [
            "\rProcessing compounds:  59%|█████▉    | 1262/2143 [08:50<06:01,  2.44it/s]"
          ]
        },
        {
          "output_type": "stream",
          "name": "stdout",
          "text": [
            "Сохранен и добавлен в архив: compound_104730_c1.json\n",
            "Ошибка при получении данных для формулы 0: 404\n",
            "Сохранен и добавлен в архив: compound_104730_c1.json\n"
          ]
        },
        {
          "output_type": "stream",
          "name": "stderr",
          "text": [
            "\rProcessing compounds:  59%|█████▉    | 1263/2143 [08:50<06:02,  2.43it/s]"
          ]
        },
        {
          "output_type": "stream",
          "name": "stdout",
          "text": [
            "Ошибка при получении данных для формулы 0: 404\n"
          ]
        },
        {
          "output_type": "stream",
          "name": "stderr",
          "text": [
            "\rProcessing compounds:  59%|█████▉    | 1264/2143 [08:51<06:00,  2.44it/s]"
          ]
        },
        {
          "output_type": "stream",
          "name": "stdout",
          "text": [
            "Сохранен и добавлен в архив: compound_104730_c1.json\n",
            "Ошибка при получении данных для формулы 0: 404\n"
          ]
        },
        {
          "output_type": "stream",
          "name": "stderr",
          "text": [
            "\rProcessing compounds:  59%|█████▉    | 1265/2143 [08:51<05:58,  2.45it/s]"
          ]
        },
        {
          "output_type": "stream",
          "name": "stdout",
          "text": [
            "Сохранен и добавлен в архив: compound_104730_c1.json\n",
            "Ошибка при получении данных для формулы 0: 404\n"
          ]
        },
        {
          "output_type": "stream",
          "name": "stderr",
          "text": [
            "\rProcessing compounds:  59%|█████▉    | 1266/2143 [08:52<05:57,  2.46it/s]"
          ]
        },
        {
          "output_type": "stream",
          "name": "stdout",
          "text": [
            "Ошибка при получении данных для формулы FeNi: 404\n",
            "Сохранен и добавлен в архив: compound_5462310_c2.json\n",
            "Ошибка при получении данных для формулы FeNi: 404\n"
          ]
        },
        {
          "output_type": "stream",
          "name": "stderr",
          "text": [
            "/usr/lib/python3.11/zipfile.py:1567: UserWarning: Duplicate name: 'compound_5462310_c2.json'\n",
            "  return self._open_to_write(zinfo, force_zip64=force_zip64)\n",
            "\rProcessing compounds:  59%|█████▉    | 1267/2143 [08:52<05:56,  2.46it/s]"
          ]
        },
        {
          "output_type": "stream",
          "name": "stdout",
          "text": [
            "Сохранен и добавлен в архив: compound_5462310_c2.json\n"
          ]
        },
        {
          "output_type": "stream",
          "name": "stderr",
          "text": [
            "\rProcessing compounds:  59%|█████▉    | 1268/2143 [08:52<05:54,  2.47it/s]"
          ]
        },
        {
          "output_type": "stream",
          "name": "stdout",
          "text": [
            "Ошибка при получении данных для формулы CoBi0.1Fe1.9O4: 404\n",
            "Ошибка при получении данных для формулы 0: 404\n"
          ]
        },
        {
          "output_type": "stream",
          "name": "stderr",
          "text": [
            "\rProcessing compounds:  59%|█████▉    | 1269/2143 [08:53<05:50,  2.49it/s]"
          ]
        },
        {
          "output_type": "stream",
          "name": "stdout",
          "text": [
            "Ошибка при получении данных для формулы CoFe2O4: 404\n",
            "Ошибка при получении данных для формулы 0: 404\n"
          ]
        },
        {
          "output_type": "stream",
          "name": "stderr",
          "text": [
            "\rProcessing compounds:  59%|█████▉    | 1270/2143 [08:53<05:51,  2.48it/s]"
          ]
        },
        {
          "output_type": "stream",
          "name": "stdout",
          "text": [
            "Ошибка при получении данных для формулы CoAl0.1Fe1.9O4: 404\n",
            "Ошибка при получении данных для формулы 0: 404\n"
          ]
        },
        {
          "output_type": "stream",
          "name": "stderr",
          "text": [
            "\rProcessing compounds:  59%|█████▉    | 1271/2143 [08:54<05:49,  2.49it/s]"
          ]
        },
        {
          "output_type": "stream",
          "name": "stdout",
          "text": [
            "Ошибка при получении данных для формулы Fe52Pt48: 404\n",
            "Ошибка при получении данных для формулы 0: 404\n"
          ]
        },
        {
          "output_type": "stream",
          "name": "stderr",
          "text": [
            "\rProcessing compounds:  59%|█████▉    | 1272/2143 [08:54<05:46,  2.51it/s]"
          ]
        },
        {
          "output_type": "stream",
          "name": "stdout",
          "text": [
            "Ошибка при получении данных для формулы Fe52Pt48: 404\n",
            "Ошибка при получении данных для формулы 0: 404\n",
            "Ошибка при получении данных для формулы Fe47.0Pt40.3Cu12.7: 404\n",
            "Ошибка при получении данных для формулы 0: 404\n"
          ]
        },
        {
          "output_type": "stream",
          "name": "stderr",
          "text": [
            "\rProcessing compounds:  59%|█████▉    | 1273/2143 [08:54<05:48,  2.50it/s]"
          ]
        },
        {
          "output_type": "stream",
          "name": "stdout",
          "text": [
            "Ошибка при получении данных для формулы Fe47.0Pt40.3Cu12.7: 404\n",
            "Ошибка при получении данных для формулы 0: 404\n"
          ]
        },
        {
          "output_type": "stream",
          "name": "stderr",
          "text": [
            "Processing compounds:  59%|█████▉    | 1275/2143 [08:55<06:04,  2.38it/s]"
          ]
        },
        {
          "output_type": "stream",
          "name": "stdout",
          "text": [
            "Ошибка при получении данных для формулы Fe35.5Pt37.9Cu26.6: 404\n",
            "Ошибка при получении данных для формулы 0: 404\n"
          ]
        },
        {
          "output_type": "stream",
          "name": "stderr",
          "text": [
            "\rProcessing compounds:  60%|█████▉    | 1276/2143 [08:56<05:58,  2.42it/s]"
          ]
        },
        {
          "output_type": "stream",
          "name": "stdout",
          "text": [
            "Ошибка при получении данных для формулы Fe35.5Pt37.9Cu26.6: 404\n",
            "Ошибка при получении данных для формулы 0: 404\n"
          ]
        },
        {
          "output_type": "stream",
          "name": "stderr",
          "text": [
            "\rProcessing compounds:  60%|█████▉    | 1277/2143 [08:56<05:55,  2.44it/s]"
          ]
        },
        {
          "output_type": "stream",
          "name": "stdout",
          "text": [
            "Ошибка при получении данных для формулы Fe34.7Pt32.8Cu32.5: 404\n",
            "Ошибка при получении данных для формулы 0: 404\n"
          ]
        },
        {
          "output_type": "stream",
          "name": "stderr",
          "text": [
            "\rProcessing compounds:  60%|█████▉    | 1278/2143 [08:57<05:52,  2.45it/s]"
          ]
        },
        {
          "output_type": "stream",
          "name": "stdout",
          "text": [
            "Ошибка при получении данных для формулы Fe34.7Pt32.8Cu32.5: 404\n",
            "Ошибка при получении данных для формулы 0: 404\n"
          ]
        },
        {
          "output_type": "stream",
          "name": "stderr",
          "text": [
            "\rProcessing compounds:  60%|█████▉    | 1279/2143 [08:57<05:54,  2.44it/s]"
          ]
        },
        {
          "output_type": "stream",
          "name": "stdout",
          "text": [
            "Ошибка при получении данных для формулы Fe55.8Pt44.2: 404\n",
            "Ошибка при получении данных для формулы 0: 404\n"
          ]
        },
        {
          "output_type": "stream",
          "name": "stderr",
          "text": [
            "\rProcessing compounds:  60%|█████▉    | 1280/2143 [08:57<05:50,  2.46it/s]"
          ]
        },
        {
          "output_type": "stream",
          "name": "stdout",
          "text": [
            "Ошибка при получении данных для формулы Fe55Pt45: 404\n",
            "Ошибка при получении данных для формулы 0: 404\n"
          ]
        },
        {
          "output_type": "stream",
          "name": "stderr",
          "text": [
            "\rProcessing compounds:  60%|█████▉    | 1281/2143 [08:58<05:48,  2.47it/s]"
          ]
        },
        {
          "output_type": "stream",
          "name": "stdout",
          "text": [
            "Ошибка при получении данных для формулы Fe54Pt46: 404\n",
            "Ошибка при получении данных для формулы 0: 404\n"
          ]
        },
        {
          "output_type": "stream",
          "name": "stderr",
          "text": [
            "\rProcessing compounds:  60%|█████▉    | 1282/2143 [08:58<05:45,  2.49it/s]"
          ]
        },
        {
          "output_type": "stream",
          "name": "stdout",
          "text": [
            "Ошибка при получении данных для формулы Fe54Pt46: 404\n",
            "Ошибка при получении данных для формулы 0: 404\n"
          ]
        },
        {
          "output_type": "stream",
          "name": "stderr",
          "text": [
            "\rProcessing compounds:  60%|█████▉    | 1283/2143 [08:59<05:45,  2.49it/s]"
          ]
        },
        {
          "output_type": "stream",
          "name": "stdout",
          "text": [
            "Ошибка при получении данных для формулы Fe54Pt46: 404\n",
            "Ошибка при получении данных для формулы 0: 404\n",
            "Ошибка при получении данных для формулы Fe58Pt42: 404\n"
          ]
        },
        {
          "output_type": "stream",
          "name": "stderr",
          "text": [
            "\rProcessing compounds:  60%|█████▉    | 1284/2143 [08:59<05:49,  2.46it/s]"
          ]
        },
        {
          "output_type": "stream",
          "name": "stdout",
          "text": [
            "Ошибка при получении данных для формулы 0: 404\n"
          ]
        },
        {
          "output_type": "stream",
          "name": "stderr",
          "text": [
            "\rProcessing compounds:  60%|█████▉    | 1285/2143 [08:59<06:04,  2.36it/s]"
          ]
        },
        {
          "output_type": "stream",
          "name": "stdout",
          "text": [
            "Ошибка при получении данных для формулы Fe58Pt42: 404\n",
            "Ошибка при получении данных для формулы 0: 404\n"
          ]
        },
        {
          "output_type": "stream",
          "name": "stderr",
          "text": [
            "\rProcessing compounds:  60%|██████    | 1286/2143 [09:00<05:56,  2.40it/s]"
          ]
        },
        {
          "output_type": "stream",
          "name": "stdout",
          "text": [
            "Ошибка при получении данных для формулы Fe58Pt42: 404\n",
            "Ошибка при получении данных для формулы 0: 404\n",
            "Ошибка при получении данных для формулы FePt: 404\n"
          ]
        },
        {
          "output_type": "stream",
          "name": "stderr",
          "text": [
            "\rProcessing compounds:  60%|██████    | 1287/2143 [09:00<05:53,  2.42it/s]"
          ]
        },
        {
          "output_type": "stream",
          "name": "stdout",
          "text": [
            "Ошибка при получении данных для формулы 0: 404\n",
            "Ошибка при получении данных для формулы FePt: 404\n"
          ]
        },
        {
          "output_type": "stream",
          "name": "stderr",
          "text": [
            "\rProcessing compounds:  60%|██████    | 1288/2143 [09:01<05:47,  2.46it/s]"
          ]
        },
        {
          "output_type": "stream",
          "name": "stdout",
          "text": [
            "Ошибка при получении данных для формулы 0: 404\n"
          ]
        },
        {
          "output_type": "stream",
          "name": "stderr",
          "text": [
            "\rProcessing compounds:  60%|██████    | 1289/2143 [09:01<05:54,  2.41it/s]"
          ]
        },
        {
          "output_type": "stream",
          "name": "stdout",
          "text": [
            "Ошибка при получении данных для формулы FePt: 404\n",
            "Ошибка при получении данных для формулы 0: 404\n",
            "Ошибка при получении данных для формулы FePt: 404\n"
          ]
        },
        {
          "output_type": "stream",
          "name": "stderr",
          "text": [
            "\rProcessing compounds:  60%|██████    | 1290/2143 [09:02<06:14,  2.28it/s]"
          ]
        },
        {
          "output_type": "stream",
          "name": "stdout",
          "text": [
            "Ошибка при получении данных для формулы 0: 404\n",
            "Ошибка при получении данных для формулы FePt: 404\n"
          ]
        },
        {
          "output_type": "stream",
          "name": "stderr",
          "text": [
            "\rProcessing compounds:  60%|██████    | 1291/2143 [09:02<06:15,  2.27it/s]"
          ]
        },
        {
          "output_type": "stream",
          "name": "stdout",
          "text": [
            "Ошибка при получении данных для формулы 0: 404\n"
          ]
        },
        {
          "output_type": "stream",
          "name": "stderr",
          "text": [
            "\rProcessing compounds:  60%|██████    | 1292/2143 [09:03<06:26,  2.20it/s]"
          ]
        },
        {
          "output_type": "stream",
          "name": "stdout",
          "text": [
            "Ошибка при получении данных для формулы FePt: 404\n",
            "Ошибка при получении данных для формулы 0: 404\n"
          ]
        },
        {
          "output_type": "stream",
          "name": "stderr",
          "text": [
            "\rProcessing compounds:  60%|██████    | 1293/2143 [09:03<06:11,  2.29it/s]"
          ]
        },
        {
          "output_type": "stream",
          "name": "stdout",
          "text": [
            "Ошибка при получении данных для формулы FePt: 404\n",
            "Ошибка при получении данных для формулы 0: 404\n"
          ]
        },
        {
          "output_type": "stream",
          "name": "stderr",
          "text": [
            "\rProcessing compounds:  60%|██████    | 1294/2143 [09:03<06:01,  2.35it/s]"
          ]
        },
        {
          "output_type": "stream",
          "name": "stdout",
          "text": [
            "Ошибка при получении данных для формулы FePt: 404\n",
            "Ошибка при получении данных для формулы 0: 404\n"
          ]
        },
        {
          "output_type": "stream",
          "name": "stderr",
          "text": [
            "\rProcessing compounds:  60%|██████    | 1295/2143 [09:04<05:54,  2.39it/s]"
          ]
        },
        {
          "output_type": "stream",
          "name": "stdout",
          "text": [
            "Ошибка при получении данных для формулы FePt: 404\n",
            "Ошибка при получении данных для формулы 0: 404\n"
          ]
        },
        {
          "output_type": "stream",
          "name": "stderr",
          "text": [
            "\rProcessing compounds:  60%|██████    | 1296/2143 [09:04<05:47,  2.44it/s]"
          ]
        },
        {
          "output_type": "stream",
          "name": "stdout",
          "text": [
            "Ошибка при получении данных для формулы FePt: 404\n",
            "Ошибка при получении данных для формулы 0: 404\n"
          ]
        },
        {
          "output_type": "stream",
          "name": "stderr",
          "text": [
            "\rProcessing compounds:  61%|██████    | 1297/2143 [09:05<05:43,  2.47it/s]"
          ]
        },
        {
          "output_type": "stream",
          "name": "stdout",
          "text": [
            "Ошибка при получении данных для формулы FePt: 404\n",
            "Ошибка при получении данных для формулы 0: 404\n"
          ]
        },
        {
          "output_type": "stream",
          "name": "stderr",
          "text": [
            "\rProcessing compounds:  61%|██████    | 1298/2143 [09:05<05:59,  2.35it/s]"
          ]
        },
        {
          "output_type": "stream",
          "name": "stdout",
          "text": [
            "Ошибка при получении данных для формулы FePt: 404\n",
            "Ошибка при получении данных для формулы 0: 404\n"
          ]
        },
        {
          "output_type": "stream",
          "name": "stderr",
          "text": [
            "\rProcessing compounds:  61%|██████    | 1299/2143 [09:05<05:51,  2.40it/s]"
          ]
        },
        {
          "output_type": "stream",
          "name": "stdout",
          "text": [
            "Ошибка при получении данных для формулы CoPt: 404\n",
            "Ошибка при получении данных для формулы 0: 404\n",
            "Ошибка при получении данных для формулы CoPt: 404\n"
          ]
        },
        {
          "output_type": "stream",
          "name": "stderr",
          "text": [
            "\rProcessing compounds:  61%|██████    | 1300/2143 [09:06<05:49,  2.41it/s]"
          ]
        },
        {
          "output_type": "stream",
          "name": "stdout",
          "text": [
            "Сохранен и добавлен в архив: compound_23978_c2.json\n",
            "Ошибка при получении данных для формулы FePd: 404\n"
          ]
        },
        {
          "output_type": "stream",
          "name": "stderr",
          "text": [
            "\rProcessing compounds:  61%|██████    | 1301/2143 [09:06<05:44,  2.44it/s]"
          ]
        },
        {
          "output_type": "stream",
          "name": "stdout",
          "text": [
            "Ошибка при получении данных для формулы 0: 404\n",
            "Ошибка при получении данных для формулы FePd: 404\n"
          ]
        },
        {
          "output_type": "stream",
          "name": "stderr",
          "text": [
            "\rProcessing compounds:  61%|██████    | 1302/2143 [09:07<05:43,  2.45it/s]"
          ]
        },
        {
          "output_type": "stream",
          "name": "stdout",
          "text": [
            "Ошибка при получении данных для формулы 0: 404\n"
          ]
        },
        {
          "output_type": "stream",
          "name": "stderr",
          "text": [
            "\rProcessing compounds:  61%|██████    | 1303/2143 [09:07<05:41,  2.46it/s]"
          ]
        },
        {
          "output_type": "stream",
          "name": "stdout",
          "text": [
            "Ошибка при получении данных для формулы FePd: 404\n",
            "Ошибка при получении данных для формулы 0: 404\n"
          ]
        },
        {
          "output_type": "stream",
          "name": "stderr",
          "text": [
            "\rProcessing compounds:  61%|██████    | 1304/2143 [09:07<05:38,  2.48it/s]"
          ]
        },
        {
          "output_type": "stream",
          "name": "stdout",
          "text": [
            "Ошибка при получении данных для формулы FePd: 404\n",
            "Ошибка при получении данных для формулы 0: 404\n"
          ]
        },
        {
          "output_type": "stream",
          "name": "stderr",
          "text": [
            "\rProcessing compounds:  61%|██████    | 1305/2143 [09:08<05:38,  2.48it/s]"
          ]
        },
        {
          "output_type": "stream",
          "name": "stdout",
          "text": [
            "Ошибка при получении данных для формулы FePd: 404\n",
            "Ошибка при получении данных для формулы 0: 404\n"
          ]
        },
        {
          "output_type": "stream",
          "name": "stderr",
          "text": [
            "\rProcessing compounds:  61%|██████    | 1306/2143 [09:08<05:37,  2.48it/s]"
          ]
        },
        {
          "output_type": "stream",
          "name": "stdout",
          "text": [
            "Ошибка при получении данных для формулы FePd: 404\n",
            "Ошибка при получении данных для формулы 0: 404\n"
          ]
        },
        {
          "output_type": "stream",
          "name": "stderr",
          "text": [
            "\rProcessing compounds:  61%|██████    | 1307/2143 [09:09<05:36,  2.49it/s]"
          ]
        },
        {
          "output_type": "stream",
          "name": "stdout",
          "text": [
            "Ошибка при получении данных для формулы FePd: 404\n",
            "Ошибка при получении данных для формулы 0: 404\n"
          ]
        },
        {
          "output_type": "stream",
          "name": "stderr",
          "text": [
            "\rProcessing compounds:  61%|██████    | 1308/2143 [09:09<05:44,  2.43it/s]"
          ]
        },
        {
          "output_type": "stream",
          "name": "stdout",
          "text": [
            "Ошибка при получении данных для формулы FePd: 404\n",
            "Ошибка при получении данных для формулы 0: 404\n"
          ]
        },
        {
          "output_type": "stream",
          "name": "stderr",
          "text": [
            "\rProcessing compounds:  61%|██████    | 1309/2143 [09:09<05:39,  2.45it/s]"
          ]
        },
        {
          "output_type": "stream",
          "name": "stdout",
          "text": [
            "Ошибка при получении данных для формулы FePd: 404\n",
            "Ошибка при получении данных для формулы 0: 404\n"
          ]
        },
        {
          "output_type": "stream",
          "name": "stderr",
          "text": [
            "\rProcessing compounds:  61%|██████    | 1310/2143 [09:10<05:36,  2.48it/s]"
          ]
        },
        {
          "output_type": "stream",
          "name": "stdout",
          "text": [
            "Ошибка при получении данных для формулы FePd: 404\n",
            "Ошибка при получении данных для формулы 0: 404\n"
          ]
        },
        {
          "output_type": "stream",
          "name": "stderr",
          "text": [
            "\rProcessing compounds:  61%|██████    | 1311/2143 [09:10<05:34,  2.49it/s]"
          ]
        },
        {
          "output_type": "stream",
          "name": "stdout",
          "text": [
            "Ошибка при получении данных для формулы FePd: 404\n",
            "Ошибка при получении данных для формулы 0: 404\n"
          ]
        },
        {
          "output_type": "stream",
          "name": "stderr",
          "text": [
            "\rProcessing compounds:  61%|██████    | 1312/2143 [09:11<05:31,  2.51it/s]"
          ]
        },
        {
          "output_type": "stream",
          "name": "stdout",
          "text": [
            "Ошибка при получении данных для формулы FePd: 404\n",
            "Ошибка при получении данных для формулы 0: 404\n"
          ]
        },
        {
          "output_type": "stream",
          "name": "stderr",
          "text": [
            "\rProcessing compounds:  61%|██████▏   | 1313/2143 [09:11<05:30,  2.51it/s]"
          ]
        },
        {
          "output_type": "stream",
          "name": "stdout",
          "text": [
            "Ошибка при получении данных для формулы FePd: 404\n",
            "Ошибка при получении данных для формулы 0: 404\n"
          ]
        },
        {
          "output_type": "stream",
          "name": "stderr",
          "text": [
            "\rProcessing compounds:  61%|██████▏   | 1314/2143 [09:11<05:29,  2.51it/s]"
          ]
        },
        {
          "output_type": "stream",
          "name": "stdout",
          "text": [
            "Ошибка при получении данных для формулы FePd: 404\n",
            "Ошибка при получении данных для формулы 0: 404\n"
          ]
        },
        {
          "output_type": "stream",
          "name": "stderr",
          "text": [
            "\rProcessing compounds:  61%|██████▏   | 1315/2143 [09:12<05:27,  2.52it/s]"
          ]
        },
        {
          "output_type": "stream",
          "name": "stdout",
          "text": [
            "Ошибка при получении данных для формулы FePd: 404\n",
            "Ошибка при получении данных для формулы 0: 404\n"
          ]
        },
        {
          "output_type": "stream",
          "name": "stderr",
          "text": [
            "\rProcessing compounds:  61%|██████▏   | 1316/2143 [09:12<05:28,  2.52it/s]"
          ]
        },
        {
          "output_type": "stream",
          "name": "stdout",
          "text": [
            "Ошибка при получении данных для формулы FePd: 404\n",
            "Ошибка при получении данных для формулы 0: 404\n"
          ]
        },
        {
          "output_type": "stream",
          "name": "stderr",
          "text": [
            "\rProcessing compounds:  61%|██████▏   | 1317/2143 [09:13<05:27,  2.52it/s]"
          ]
        },
        {
          "output_type": "stream",
          "name": "stdout",
          "text": [
            "Ошибка при получении данных для формулы FePd: 404\n",
            "Ошибка при получении данных для формулы 0: 404\n"
          ]
        },
        {
          "output_type": "stream",
          "name": "stderr",
          "text": [
            "\rProcessing compounds:  62%|██████▏   | 1318/2143 [09:13<05:28,  2.51it/s]"
          ]
        },
        {
          "output_type": "stream",
          "name": "stdout",
          "text": [
            "Ошибка при получении данных для формулы FePd: 404\n",
            "Ошибка при получении данных для формулы 0: 404\n"
          ]
        },
        {
          "output_type": "stream",
          "name": "stderr",
          "text": [
            "\rProcessing compounds:  62%|██████▏   | 1319/2143 [09:13<05:27,  2.52it/s]"
          ]
        },
        {
          "output_type": "stream",
          "name": "stdout",
          "text": [
            "Ошибка при получении данных для формулы FePd: 404\n",
            "Ошибка при получении данных для формулы 0: 404\n"
          ]
        },
        {
          "output_type": "stream",
          "name": "stderr",
          "text": [
            "\rProcessing compounds:  62%|██████▏   | 1320/2143 [09:14<05:26,  2.52it/s]"
          ]
        },
        {
          "output_type": "stream",
          "name": "stdout",
          "text": [
            "Ошибка при получении данных для формулы FePd: 404\n",
            "Ошибка при получении данных для формулы 0: 404\n"
          ]
        },
        {
          "output_type": "stream",
          "name": "stderr",
          "text": [
            "\rProcessing compounds:  62%|██████▏   | 1321/2143 [09:14<05:24,  2.53it/s]"
          ]
        },
        {
          "output_type": "stream",
          "name": "stdout",
          "text": [
            "Ошибка при получении данных для формулы FePd: 404\n",
            "Ошибка при получении данных для формулы 0: 404\n"
          ]
        },
        {
          "output_type": "stream",
          "name": "stderr",
          "text": [
            "\rProcessing compounds:  62%|██████▏   | 1322/2143 [09:15<05:26,  2.52it/s]"
          ]
        },
        {
          "output_type": "stream",
          "name": "stdout",
          "text": [
            "Ошибка при получении данных для формулы FePd: 404\n",
            "Ошибка при получении данных для формулы 0: 404\n",
            "Ошибка при получении данных для формулы FePd: 404\n"
          ]
        },
        {
          "output_type": "stream",
          "name": "stderr",
          "text": [
            "\rProcessing compounds:  62%|██████▏   | 1323/2143 [09:15<05:41,  2.40it/s]"
          ]
        },
        {
          "output_type": "stream",
          "name": "stdout",
          "text": [
            "Ошибка при получении данных для формулы 0: 404\n",
            "Ошибка при получении данных для формулы FePd: 404\n"
          ]
        },
        {
          "output_type": "stream",
          "name": "stderr",
          "text": [
            "\rProcessing compounds:  62%|██████▏   | 1324/2143 [09:15<05:36,  2.44it/s]"
          ]
        },
        {
          "output_type": "stream",
          "name": "stdout",
          "text": [
            "Ошибка при получении данных для формулы 0: 404\n",
            "Ошибка при получении данных для формулы FePd: 404\n"
          ]
        },
        {
          "output_type": "stream",
          "name": "stderr",
          "text": [
            "\rProcessing compounds:  62%|██████▏   | 1325/2143 [09:16<05:31,  2.46it/s]"
          ]
        },
        {
          "output_type": "stream",
          "name": "stdout",
          "text": [
            "Ошибка при получении данных для формулы 0: 404\n",
            "Ошибка при получении данных для формулы FePd: 404\n"
          ]
        },
        {
          "output_type": "stream",
          "name": "stderr",
          "text": [
            "\rProcessing compounds:  62%|██████▏   | 1326/2143 [09:16<05:28,  2.49it/s]"
          ]
        },
        {
          "output_type": "stream",
          "name": "stdout",
          "text": [
            "Ошибка при получении данных для формулы 0: 404\n",
            "Ошибка при получении данных для формулы FePd: 404\n"
          ]
        },
        {
          "output_type": "stream",
          "name": "stderr",
          "text": [
            "\rProcessing compounds:  62%|██████▏   | 1327/2143 [09:17<05:26,  2.50it/s]"
          ]
        },
        {
          "output_type": "stream",
          "name": "stdout",
          "text": [
            "Ошибка при получении данных для формулы 0: 404\n",
            "Ошибка при получении данных для формулы FePd: 404\n"
          ]
        },
        {
          "output_type": "stream",
          "name": "stderr",
          "text": [
            "\rProcessing compounds:  62%|██████▏   | 1328/2143 [09:17<05:44,  2.37it/s]"
          ]
        },
        {
          "output_type": "stream",
          "name": "stdout",
          "text": [
            "Ошибка при получении данных для формулы 0: 404\n",
            "Ошибка при получении данных для формулы FePd: 404\n"
          ]
        },
        {
          "output_type": "stream",
          "name": "stderr",
          "text": [
            "\rProcessing compounds:  62%|██████▏   | 1329/2143 [09:17<05:37,  2.41it/s]"
          ]
        },
        {
          "output_type": "stream",
          "name": "stdout",
          "text": [
            "Ошибка при получении данных для формулы 0: 404\n",
            "Ошибка при получении данных для формулы FePd: 404\n"
          ]
        },
        {
          "output_type": "stream",
          "name": "stderr",
          "text": [
            "\rProcessing compounds:  62%|██████▏   | 1330/2143 [09:18<05:32,  2.45it/s]"
          ]
        },
        {
          "output_type": "stream",
          "name": "stdout",
          "text": [
            "Ошибка при получении данных для формулы 0: 404\n"
          ]
        },
        {
          "output_type": "stream",
          "name": "stderr",
          "text": [
            "\rProcessing compounds:  62%|██████▏   | 1331/2143 [09:19<06:50,  1.98it/s]"
          ]
        },
        {
          "output_type": "stream",
          "name": "stdout",
          "text": [
            "Ошибка при получении данных для формулы FePd: 404\n",
            "Ошибка при получении данных для формулы 0: 404\n",
            "Ошибка при получении данных для формулы FePd: 404\n"
          ]
        },
        {
          "output_type": "stream",
          "name": "stderr",
          "text": [
            "\rProcessing compounds:  62%|██████▏   | 1332/2143 [09:20<11:56,  1.13it/s]"
          ]
        },
        {
          "output_type": "stream",
          "name": "stdout",
          "text": [
            "Ошибка при получении данных для формулы 0: 404\n",
            "Ошибка при получении данных для формулы FePd: 404\n"
          ]
        },
        {
          "output_type": "stream",
          "name": "stderr",
          "text": [
            "\rProcessing compounds:  62%|██████▏   | 1333/2143 [09:21<09:56,  1.36it/s]"
          ]
        },
        {
          "output_type": "stream",
          "name": "stdout",
          "text": [
            "Ошибка при получении данных для формулы 0: 404\n",
            "Ошибка при получении данных для формулы FePd: 404\n"
          ]
        },
        {
          "output_type": "stream",
          "name": "stderr",
          "text": [
            "\rProcessing compounds:  62%|██████▏   | 1334/2143 [09:21<08:32,  1.58it/s]"
          ]
        },
        {
          "output_type": "stream",
          "name": "stdout",
          "text": [
            "Ошибка при получении данных для формулы 0: 404\n",
            "Ошибка при получении данных для формулы FePd: 404\n"
          ]
        },
        {
          "output_type": "stream",
          "name": "stderr",
          "text": [
            "\rProcessing compounds:  62%|██████▏   | 1335/2143 [09:22<07:34,  1.78it/s]"
          ]
        },
        {
          "output_type": "stream",
          "name": "stdout",
          "text": [
            "Ошибка при получении данных для формулы 0: 404\n",
            "Ошибка при получении данных для формулы FePd: 404\n"
          ]
        },
        {
          "output_type": "stream",
          "name": "stderr",
          "text": [
            "\rProcessing compounds:  62%|██████▏   | 1336/2143 [09:22<06:54,  1.95it/s]"
          ]
        },
        {
          "output_type": "stream",
          "name": "stdout",
          "text": [
            "Ошибка при получении данных для формулы 0: 404\n",
            "Ошибка при получении данных для формулы FePd: 404\n"
          ]
        },
        {
          "output_type": "stream",
          "name": "stderr",
          "text": [
            "\rProcessing compounds:  62%|██████▏   | 1337/2143 [09:22<06:25,  2.09it/s]"
          ]
        },
        {
          "output_type": "stream",
          "name": "stdout",
          "text": [
            "Ошибка при получении данных для формулы 0: 404\n",
            "Ошибка при получении данных для формулы FePd: 404\n"
          ]
        },
        {
          "output_type": "stream",
          "name": "stderr",
          "text": [
            "\rProcessing compounds:  62%|██████▏   | 1338/2143 [09:23<06:04,  2.21it/s]"
          ]
        },
        {
          "output_type": "stream",
          "name": "stdout",
          "text": [
            "Ошибка при получении данных для формулы 0: 404\n",
            "Ошибка при получении данных для формулы FePd: 404\n"
          ]
        },
        {
          "output_type": "stream",
          "name": "stderr",
          "text": [
            "\rProcessing compounds:  62%|██████▏   | 1339/2143 [09:23<05:49,  2.30it/s]"
          ]
        },
        {
          "output_type": "stream",
          "name": "stdout",
          "text": [
            "Ошибка при получении данных для формулы 0: 404\n"
          ]
        },
        {
          "output_type": "stream",
          "name": "stderr",
          "text": [
            "\rProcessing compounds:  63%|██████▎   | 1340/2143 [09:24<05:40,  2.36it/s]"
          ]
        },
        {
          "output_type": "stream",
          "name": "stdout",
          "text": [
            "Ошибка при получении данных для формулы FePd: 404\n",
            "Ошибка при получении данных для формулы 0: 404\n"
          ]
        },
        {
          "output_type": "stream",
          "name": "stderr",
          "text": [
            "\rProcessing compounds:  63%|██████▎   | 1341/2143 [09:24<05:33,  2.40it/s]"
          ]
        },
        {
          "output_type": "stream",
          "name": "stdout",
          "text": [
            "Ошибка при получении данных для формулы FePd: 404\n",
            "Ошибка при получении данных для формулы 0: 404\n"
          ]
        },
        {
          "output_type": "stream",
          "name": "stderr",
          "text": [
            "\rProcessing compounds:  63%|██████▎   | 1342/2143 [09:24<05:27,  2.44it/s]"
          ]
        },
        {
          "output_type": "stream",
          "name": "stdout",
          "text": [
            "Ошибка при получении данных для формулы FePd: 404\n",
            "Ошибка при получении данных для формулы 0: 404\n"
          ]
        },
        {
          "output_type": "stream",
          "name": "stderr",
          "text": [
            "\rProcessing compounds:  63%|██████▎   | 1343/2143 [09:25<05:25,  2.46it/s]"
          ]
        },
        {
          "output_type": "stream",
          "name": "stdout",
          "text": [
            "Ошибка при получении данных для формулы FePd: 404\n",
            "Ошибка при получении данных для формулы 0: 404\n",
            "Ошибка при получении данных для формулы FePd: 404\n"
          ]
        },
        {
          "output_type": "stream",
          "name": "stderr",
          "text": [
            "\rProcessing compounds:  63%|██████▎   | 1344/2143 [09:25<05:27,  2.44it/s]"
          ]
        },
        {
          "output_type": "stream",
          "name": "stdout",
          "text": [
            "Ошибка при получении данных для формулы 0: 404\n",
            "Ошибка при получении данных для формулы FePd: 404\n"
          ]
        },
        {
          "output_type": "stream",
          "name": "stderr",
          "text": [
            "\rProcessing compounds:  63%|██████▎   | 1345/2143 [09:26<05:24,  2.46it/s]"
          ]
        },
        {
          "output_type": "stream",
          "name": "stdout",
          "text": [
            "Ошибка при получении данных для формулы 0: 404\n",
            "Ошибка при получении данных для формулы FePd: 404\n"
          ]
        },
        {
          "output_type": "stream",
          "name": "stderr",
          "text": [
            "\rProcessing compounds:  63%|██████▎   | 1346/2143 [09:26<05:20,  2.49it/s]"
          ]
        },
        {
          "output_type": "stream",
          "name": "stdout",
          "text": [
            "Ошибка при получении данных для формулы 0: 404\n",
            "Ошибка при получении данных для формулы FePd: 404\n"
          ]
        },
        {
          "output_type": "stream",
          "name": "stderr",
          "text": [
            "\rProcessing compounds:  63%|██████▎   | 1347/2143 [09:26<05:18,  2.50it/s]"
          ]
        },
        {
          "output_type": "stream",
          "name": "stdout",
          "text": [
            "Ошибка при получении данных для формулы 0: 404\n",
            "Ошибка при получении данных для формулы FePd: 404\n"
          ]
        },
        {
          "output_type": "stream",
          "name": "stderr",
          "text": [
            "\rProcessing compounds:  63%|██████▎   | 1348/2143 [09:27<05:15,  2.52it/s]"
          ]
        },
        {
          "output_type": "stream",
          "name": "stdout",
          "text": [
            "Ошибка при получении данных для формулы 0: 404\n",
            "Ошибка при получении данных для формулы FePd: 404\n"
          ]
        },
        {
          "output_type": "stream",
          "name": "stderr",
          "text": [
            "\rProcessing compounds:  63%|██████▎   | 1349/2143 [09:27<05:15,  2.52it/s]"
          ]
        },
        {
          "output_type": "stream",
          "name": "stdout",
          "text": [
            "Ошибка при получении данных для формулы 0: 404\n",
            "Ошибка при получении данных для формулы CoPt: 404\n"
          ]
        },
        {
          "output_type": "stream",
          "name": "stderr",
          "text": [
            "\rProcessing compounds:  63%|██████▎   | 1350/2143 [09:28<05:13,  2.53it/s]"
          ]
        },
        {
          "output_type": "stream",
          "name": "stdout",
          "text": [
            "Ошибка при получении данных для формулы 0: 404\n",
            "Ошибка при получении данных для формулы CoPt: 404\n"
          ]
        },
        {
          "output_type": "stream",
          "name": "stderr",
          "text": [
            "\rProcessing compounds:  63%|██████▎   | 1351/2143 [09:28<05:13,  2.53it/s]"
          ]
        },
        {
          "output_type": "stream",
          "name": "stdout",
          "text": [
            "Ошибка при получении данных для формулы 0: 404\n",
            "Ошибка при получении данных для формулы CoPt: 404\n"
          ]
        },
        {
          "output_type": "stream",
          "name": "stderr",
          "text": [
            "\rProcessing compounds:  63%|██████▎   | 1352/2143 [09:28<05:12,  2.53it/s]"
          ]
        },
        {
          "output_type": "stream",
          "name": "stdout",
          "text": [
            "Ошибка при получении данных для формулы 0: 404\n"
          ]
        },
        {
          "output_type": "stream",
          "name": "stderr",
          "text": [
            "\rProcessing compounds:  63%|██████▎   | 1353/2143 [09:29<05:24,  2.44it/s]"
          ]
        },
        {
          "output_type": "stream",
          "name": "stdout",
          "text": [
            "Ошибка при получении данных для формулы CoPt: 404\n",
            "Ошибка при получении данных для формулы 0: 404\n",
            "Ошибка при получении данных для формулы CoPt: 404\n"
          ]
        },
        {
          "output_type": "stream",
          "name": "stderr",
          "text": [
            "\rProcessing compounds:  63%|██████▎   | 1354/2143 [09:29<05:20,  2.46it/s]"
          ]
        },
        {
          "output_type": "stream",
          "name": "stdout",
          "text": [
            "Сохранен и добавлен в архив: compound_23954_c2.json\n",
            "Ошибка при получении данных для формулы CoPt: 404\n"
          ]
        },
        {
          "output_type": "stream",
          "name": "stderr",
          "text": [
            "/usr/lib/python3.11/zipfile.py:1567: UserWarning: Duplicate name: 'compound_23954_c2.json'\n",
            "  return self._open_to_write(zinfo, force_zip64=force_zip64)\n",
            "\rProcessing compounds:  63%|██████▎   | 1355/2143 [09:30<05:18,  2.48it/s]"
          ]
        },
        {
          "output_type": "stream",
          "name": "stdout",
          "text": [
            "Сохранен и добавлен в архив: compound_23954_c2.json\n",
            "Ошибка при получении данных для формулы CoPt: 404\n"
          ]
        },
        {
          "output_type": "stream",
          "name": "stderr",
          "text": [
            "\rProcessing compounds:  63%|██████▎   | 1356/2143 [09:30<05:15,  2.49it/s]"
          ]
        },
        {
          "output_type": "stream",
          "name": "stdout",
          "text": [
            "Сохранен и добавлен в архив: compound_23954_c2.json\n",
            "Ошибка при получении данных для формулы CoPt: 404\n"
          ]
        },
        {
          "output_type": "stream",
          "name": "stderr",
          "text": [
            "\rProcessing compounds:  63%|██████▎   | 1357/2143 [09:30<05:15,  2.49it/s]"
          ]
        },
        {
          "output_type": "stream",
          "name": "stdout",
          "text": [
            "Сохранен и добавлен в архив: compound_23954_c2.json\n",
            "Ошибка при получении данных для формулы CoPt: 404\n"
          ]
        },
        {
          "output_type": "stream",
          "name": "stderr",
          "text": [
            "\rProcessing compounds:  63%|██████▎   | 1358/2143 [09:31<05:15,  2.49it/s]"
          ]
        },
        {
          "output_type": "stream",
          "name": "stdout",
          "text": [
            "Сохранен и добавлен в архив: compound_23954_c2.json\n",
            "Ошибка при получении данных для формулы CoPt: 404\n"
          ]
        },
        {
          "output_type": "stream",
          "name": "stderr",
          "text": [
            "\rProcessing compounds:  63%|██████▎   | 1359/2143 [09:31<05:15,  2.49it/s]"
          ]
        },
        {
          "output_type": "stream",
          "name": "stdout",
          "text": [
            "Сохранен и добавлен в архив: compound_23954_c2.json\n",
            "Ошибка при получении данных для формулы Fe2O3: 404\n"
          ]
        },
        {
          "output_type": "stream",
          "name": "stderr",
          "text": [
            "\rProcessing compounds:  63%|██████▎   | 1360/2143 [09:32<05:13,  2.50it/s]"
          ]
        },
        {
          "output_type": "stream",
          "name": "stdout",
          "text": [
            "Ошибка при получении данных для формулы 0: 404\n",
            "Ошибка при получении данных для формулы Fe2O3: 404\n"
          ]
        },
        {
          "output_type": "stream",
          "name": "stderr",
          "text": [
            "\rProcessing compounds:  64%|██████▎   | 1361/2143 [09:32<05:13,  2.50it/s]"
          ]
        },
        {
          "output_type": "stream",
          "name": "stdout",
          "text": [
            "Ошибка при получении данных для формулы 0: 404\n"
          ]
        },
        {
          "output_type": "stream",
          "name": "stderr",
          "text": [
            "\rProcessing compounds:  64%|██████▎   | 1362/2143 [09:32<05:29,  2.37it/s]"
          ]
        },
        {
          "output_type": "stream",
          "name": "stdout",
          "text": [
            "Сохранен и добавлен в архив: compound_23925_c1.json\n",
            "Ошибка при получении данных для формулы 0: 404\n"
          ]
        },
        {
          "output_type": "stream",
          "name": "stderr",
          "text": [
            "\rProcessing compounds:  64%|██████▎   | 1363/2143 [09:33<05:27,  2.38it/s]"
          ]
        },
        {
          "output_type": "stream",
          "name": "stdout",
          "text": [
            "Сохранен и добавлен в архив: compound_23925_c1.json\n",
            "Ошибка при получении данных для формулы 0: 404\n"
          ]
        },
        {
          "output_type": "stream",
          "name": "stderr",
          "text": [
            "\rProcessing compounds:  64%|██████▎   | 1364/2143 [09:33<05:25,  2.39it/s]"
          ]
        },
        {
          "output_type": "stream",
          "name": "stdout",
          "text": [
            "Сохранен и добавлен в архив: compound_23925_c1.json\n",
            "Ошибка при получении данных для формулы 0: 404\n"
          ]
        },
        {
          "output_type": "stream",
          "name": "stderr",
          "text": [
            "\rProcessing compounds:  64%|██████▎   | 1365/2143 [09:34<05:23,  2.40it/s]"
          ]
        },
        {
          "output_type": "stream",
          "name": "stdout",
          "text": [
            "Сохранен и добавлен в архив: compound_23925_c1.json\n",
            "Ошибка при получении данных для формулы 0: 404\n"
          ]
        },
        {
          "output_type": "stream",
          "name": "stderr",
          "text": [
            "\rProcessing compounds:  64%|██████▎   | 1366/2143 [09:34<05:22,  2.41it/s]"
          ]
        },
        {
          "output_type": "stream",
          "name": "stdout",
          "text": [
            "Сохранен и добавлен в архив: compound_23925_c1.json\n",
            "Ошибка при получении данных для формулы 0: 404\n"
          ]
        },
        {
          "output_type": "stream",
          "name": "stderr",
          "text": [
            "\rProcessing compounds:  64%|██████▍   | 1367/2143 [09:34<05:20,  2.42it/s]"
          ]
        },
        {
          "output_type": "stream",
          "name": "stdout",
          "text": [
            "Сохранен и добавлен в архив: compound_23925_c1.json\n",
            "Ошибка при получении данных для формулы 0: 404\n"
          ]
        },
        {
          "output_type": "stream",
          "name": "stderr",
          "text": [
            "\rProcessing compounds:  64%|██████▍   | 1368/2143 [09:35<05:20,  2.42it/s]"
          ]
        },
        {
          "output_type": "stream",
          "name": "stdout",
          "text": [
            "Сохранен и добавлен в архив: compound_23925_c1.json\n",
            "Ошибка при получении данных для формулы 0: 404\n",
            "Сохранен и добавлен в архив: compound_23925_c1.json\n"
          ]
        },
        {
          "output_type": "stream",
          "name": "stderr",
          "text": [
            "\rProcessing compounds:  64%|██████▍   | 1369/2143 [09:35<05:21,  2.41it/s]"
          ]
        },
        {
          "output_type": "stream",
          "name": "stdout",
          "text": [
            "Ошибка при получении данных для формулы 0: 404\n"
          ]
        },
        {
          "output_type": "stream",
          "name": "stderr",
          "text": [
            "\rProcessing compounds:  64%|██████▍   | 1370/2143 [09:36<05:20,  2.41it/s]"
          ]
        },
        {
          "output_type": "stream",
          "name": "stdout",
          "text": [
            "Сохранен и добавлен в архив: compound_23925_c1.json\n",
            "Ошибка при получении данных для формулы 0: 404\n"
          ]
        },
        {
          "output_type": "stream",
          "name": "stderr",
          "text": [
            "\rProcessing compounds:  64%|██████▍   | 1371/2143 [09:36<05:18,  2.42it/s]"
          ]
        },
        {
          "output_type": "stream",
          "name": "stdout",
          "text": [
            "Сохранен и добавлен в архив: compound_104730_c1.json\n",
            "Ошибка при получении данных для формулы 0: 404\n",
            "Сохранен и добавлен в архив: compound_104730_c1.json\n"
          ]
        },
        {
          "output_type": "stream",
          "name": "stderr",
          "text": [
            "\rProcessing compounds:  64%|██████▍   | 1372/2143 [09:37<05:17,  2.42it/s]"
          ]
        },
        {
          "output_type": "stream",
          "name": "stdout",
          "text": [
            "Ошибка при получении данных для формулы 0: 404\n"
          ]
        },
        {
          "output_type": "stream",
          "name": "stderr",
          "text": [
            "\rProcessing compounds:  64%|██████▍   | 1373/2143 [09:37<05:15,  2.44it/s]"
          ]
        },
        {
          "output_type": "stream",
          "name": "stdout",
          "text": [
            "Сохранен и добавлен в архив: compound_104730_c1.json\n",
            "Ошибка при получении данных для формулы 0: 404\n"
          ]
        },
        {
          "output_type": "stream",
          "name": "stderr",
          "text": [
            "\rProcessing compounds:  64%|██████▍   | 1374/2143 [09:37<05:33,  2.31it/s]"
          ]
        },
        {
          "output_type": "stream",
          "name": "stdout",
          "text": [
            "Сохранен и добавлен в архив: compound_104730_c1.json\n",
            "Ошибка при получении данных для формулы 0: 404\n"
          ]
        },
        {
          "output_type": "stream",
          "name": "stderr",
          "text": [
            "\rProcessing compounds:  64%|██████▍   | 1375/2143 [09:38<05:27,  2.35it/s]"
          ]
        },
        {
          "output_type": "stream",
          "name": "stdout",
          "text": [
            "Сохранен и добавлен в архив: compound_104730_c1.json\n",
            "Ошибка при получении данных для формулы 0: 404\n"
          ]
        },
        {
          "output_type": "stream",
          "name": "stderr",
          "text": [
            "\rProcessing compounds:  64%|██████▍   | 1376/2143 [09:38<05:23,  2.37it/s]"
          ]
        },
        {
          "output_type": "stream",
          "name": "stdout",
          "text": [
            "Сохранен и добавлен в архив: compound_935_c1.json\n",
            "Ошибка при получении данных для формулы 0: 404\n"
          ]
        },
        {
          "output_type": "stream",
          "name": "stderr",
          "text": [
            "\rProcessing compounds:  64%|██████▍   | 1377/2143 [09:39<05:20,  2.39it/s]"
          ]
        },
        {
          "output_type": "stream",
          "name": "stdout",
          "text": [
            "Сохранен и добавлен в архив: compound_935_c1.json\n",
            "Ошибка при получении данных для формулы 0: 404\n"
          ]
        },
        {
          "output_type": "stream",
          "name": "stderr",
          "text": [
            "\rProcessing compounds:  64%|██████▍   | 1378/2143 [09:39<05:20,  2.39it/s]"
          ]
        },
        {
          "output_type": "stream",
          "name": "stdout",
          "text": [
            "Сохранен и добавлен в архив: compound_935_c1.json\n",
            "Ошибка при получении данных для формулы 0: 404\n"
          ]
        },
        {
          "output_type": "stream",
          "name": "stderr",
          "text": [
            "\rProcessing compounds:  64%|██████▍   | 1379/2143 [09:40<05:18,  2.40it/s]"
          ]
        },
        {
          "output_type": "stream",
          "name": "stdout",
          "text": [
            "Сохранен и добавлен в архив: compound_935_c1.json\n",
            "Ошибка при получении данных для формулы 0: 404\n"
          ]
        },
        {
          "output_type": "stream",
          "name": "stderr",
          "text": [
            "\rProcessing compounds:  64%|██████▍   | 1380/2143 [09:40<05:16,  2.41it/s]"
          ]
        },
        {
          "output_type": "stream",
          "name": "stdout",
          "text": [
            "Сохранен и добавлен в архив: compound_935_c1.json\n",
            "Ошибка при получении данных для формулы 0: 404\n"
          ]
        },
        {
          "output_type": "stream",
          "name": "stderr",
          "text": [
            "\rProcessing compounds:  64%|██████▍   | 1381/2143 [09:40<05:17,  2.40it/s]"
          ]
        },
        {
          "output_type": "stream",
          "name": "stdout",
          "text": [
            "Сохранен и добавлен в архив: compound_935_c1.json\n",
            "Ошибка при получении данных для формулы 0: 404\n"
          ]
        },
        {
          "output_type": "stream",
          "name": "stderr",
          "text": [
            "\rProcessing compounds:  64%|██████▍   | 1382/2143 [09:41<05:26,  2.33it/s]"
          ]
        },
        {
          "output_type": "stream",
          "name": "stdout",
          "text": [
            "Сохранен и добавлен в архив: compound_935_c1.json\n",
            "Ошибка при получении данных для формулы 0: 404\n"
          ]
        },
        {
          "output_type": "stream",
          "name": "stderr",
          "text": [
            "\rProcessing compounds:  65%|██████▍   | 1383/2143 [09:41<05:21,  2.36it/s]"
          ]
        },
        {
          "output_type": "stream",
          "name": "stdout",
          "text": [
            "Ошибка при получении данных для формулы La1Fe1O3: 404\n",
            "Ошибка при получении данных для формулы 0: 404\n",
            "Ошибка при получении данных для формулы La1Fe1O3: 404\n"
          ]
        },
        {
          "output_type": "stream",
          "name": "stderr",
          "text": [
            "\rProcessing compounds:  65%|██████▍   | 1384/2143 [09:42<06:02,  2.10it/s]"
          ]
        },
        {
          "output_type": "stream",
          "name": "stdout",
          "text": [
            "Ошибка при получении данных для формулы 0: 404\n"
          ]
        },
        {
          "output_type": "stream",
          "name": "stderr",
          "text": [
            "\rProcessing compounds:  65%|██████▍   | 1385/2143 [09:42<05:44,  2.20it/s]"
          ]
        },
        {
          "output_type": "stream",
          "name": "stdout",
          "text": [
            "Ошибка при получении данных для формулы La1Fe1O3: 404\n",
            "Ошибка при получении данных для формулы 0: 404\n",
            "Ошибка при получении данных для формулы La1Fe1O3: 404\n"
          ]
        },
        {
          "output_type": "stream",
          "name": "stderr",
          "text": [
            "\rProcessing compounds:  65%|██████▍   | 1386/2143 [09:43<05:44,  2.20it/s]"
          ]
        },
        {
          "output_type": "stream",
          "name": "stdout",
          "text": [
            "Ошибка при получении данных для формулы 0: 404\n"
          ]
        },
        {
          "output_type": "stream",
          "name": "stderr",
          "text": [
            "\rProcessing compounds:  65%|██████▍   | 1387/2143 [09:43<05:32,  2.28it/s]"
          ]
        },
        {
          "output_type": "stream",
          "name": "stdout",
          "text": [
            "Ошибка при получении данных для формулы La1Fe1O3: 404\n",
            "Ошибка при получении данных для формулы 0: 404\n",
            "Ошибка при получении данных для формулы Bi1Fe1O3: 404\n"
          ]
        },
        {
          "output_type": "stream",
          "name": "stderr",
          "text": [
            "\rProcessing compounds:  65%|██████▍   | 1388/2143 [09:43<05:28,  2.30it/s]"
          ]
        },
        {
          "output_type": "stream",
          "name": "stdout",
          "text": [
            "Ошибка при получении данных для формулы Co1Fe2O4: 404\n",
            "Ошибка при получении данных для формулы Bi1Fe1O3: 404\n"
          ]
        },
        {
          "output_type": "stream",
          "name": "stderr",
          "text": [
            "\rProcessing compounds:  65%|██████▍   | 1389/2143 [09:44<05:21,  2.34it/s]"
          ]
        },
        {
          "output_type": "stream",
          "name": "stdout",
          "text": [
            "Ошибка при получении данных для формулы Co1Fe2O4: 404\n",
            "Ошибка при получении данных для формулы Fe2O3: 404\n"
          ]
        },
        {
          "output_type": "stream",
          "name": "stderr",
          "text": [
            "\rProcessing compounds:  65%|██████▍   | 1390/2143 [09:44<05:16,  2.38it/s]"
          ]
        },
        {
          "output_type": "stream",
          "name": "stdout",
          "text": [
            "Сохранен и добавлен в архив: compound_16211978_c2.json\n",
            "Ошибка при получении данных для формулы Fe2O3: 404\n"
          ]
        },
        {
          "output_type": "stream",
          "name": "stderr",
          "text": [
            "\rProcessing compounds:  65%|██████▍   | 1391/2143 [09:45<05:14,  2.39it/s]"
          ]
        },
        {
          "output_type": "stream",
          "name": "stdout",
          "text": [
            "Сохранен и добавлен в архив: compound_16211978_c2.json\n",
            "Ошибка при получении данных для формулы Fe2O3: 404\n"
          ]
        },
        {
          "output_type": "stream",
          "name": "stderr",
          "text": [
            "\rProcessing compounds:  65%|██████▍   | 1392/2143 [09:45<05:09,  2.42it/s]"
          ]
        },
        {
          "output_type": "stream",
          "name": "stdout",
          "text": [
            "Сохранен и добавлен в архив: compound_16211978_c2.json\n"
          ]
        },
        {
          "output_type": "stream",
          "name": "stderr",
          "text": [
            "\rProcessing compounds:  65%|██████▌   | 1393/2143 [09:46<05:07,  2.44it/s]"
          ]
        },
        {
          "output_type": "stream",
          "name": "stdout",
          "text": [
            "Ошибка при получении данных для формулы Ag0.5Cr2.5O: 404\n",
            "Ошибка при получении данных для формулы 0: 404\n"
          ]
        },
        {
          "output_type": "stream",
          "name": "stderr",
          "text": [
            "\rProcessing compounds:  65%|██████▌   | 1394/2143 [09:46<05:22,  2.32it/s]"
          ]
        },
        {
          "output_type": "stream",
          "name": "stdout",
          "text": [
            "Ошибка при получении данных для формулы AgCrO2: 404\n",
            "Ошибка при получении данных для формулы 0: 404\n",
            "Сохранен и добавлен в архив: compound_23925_c1.json\n"
          ]
        },
        {
          "output_type": "stream",
          "name": "stderr",
          "text": [
            "\rProcessing compounds:  65%|██████▌   | 1395/2143 [09:47<05:53,  2.12it/s]"
          ]
        },
        {
          "output_type": "stream",
          "name": "stdout",
          "text": [
            "Сохранен и добавлен в архив: compound_16211978_c2.json\n",
            "Сохранен и добавлен в архив: compound_23925_c1.json\n"
          ]
        },
        {
          "output_type": "stream",
          "name": "stderr",
          "text": [
            "\rProcessing compounds:  65%|██████▌   | 1396/2143 [09:47<05:42,  2.18it/s]"
          ]
        },
        {
          "output_type": "stream",
          "name": "stdout",
          "text": [
            "Сохранен и добавлен в архив: compound_16211978_c2.json\n"
          ]
        },
        {
          "output_type": "stream",
          "name": "stderr",
          "text": [
            "\rProcessing compounds:  65%|██████▌   | 1397/2143 [09:47<05:32,  2.25it/s]"
          ]
        },
        {
          "output_type": "stream",
          "name": "stdout",
          "text": [
            "Сохранен и добавлен в архив: compound_23925_c1.json\n",
            "Сохранен и добавлен в архив: compound_16211978_c2.json\n"
          ]
        },
        {
          "output_type": "stream",
          "name": "stderr",
          "text": [
            "\rProcessing compounds:  65%|██████▌   | 1398/2143 [09:48<05:25,  2.29it/s]"
          ]
        },
        {
          "output_type": "stream",
          "name": "stdout",
          "text": [
            "Сохранен и добавлен в архив: compound_23925_c1.json\n",
            "Сохранен и добавлен в архив: compound_16211978_c2.json\n",
            "Сохранен и добавлен в архив: compound_23925_c1.json\n"
          ]
        },
        {
          "output_type": "stream",
          "name": "stderr",
          "text": [
            "\rProcessing compounds:  65%|██████▌   | 1399/2143 [09:48<05:23,  2.30it/s]"
          ]
        },
        {
          "output_type": "stream",
          "name": "stdout",
          "text": [
            "Сохранен и добавлен в архив: compound_16211978_c2.json\n"
          ]
        },
        {
          "output_type": "stream",
          "name": "stderr",
          "text": [
            "\rProcessing compounds:  65%|██████▌   | 1400/2143 [09:49<05:20,  2.32it/s]"
          ]
        },
        {
          "output_type": "stream",
          "name": "stdout",
          "text": [
            "Сохранен и добавлен в архив: compound_23925_c1.json\n",
            "Сохранен и добавлен в архив: compound_16211978_c2.json\n"
          ]
        },
        {
          "output_type": "stream",
          "name": "stderr",
          "text": [
            "\rProcessing compounds:  65%|██████▌   | 1401/2143 [09:49<05:27,  2.27it/s]"
          ]
        },
        {
          "output_type": "stream",
          "name": "stdout",
          "text": [
            "Ошибка при получении данных для формулы NiCo2O4: 404\n",
            "Ошибка при получении данных для формулы (CoNi)O: 404\n"
          ]
        },
        {
          "output_type": "stream",
          "name": "stderr",
          "text": [
            "\rProcessing compounds:  65%|██████▌   | 1402/2143 [09:50<05:17,  2.34it/s]"
          ]
        },
        {
          "output_type": "stream",
          "name": "stdout",
          "text": [
            "Ошибка при получении данных для формулы NiCo2O4: 404\n",
            "Ошибка при получении данных для формулы (CoNi)O: 404\n"
          ]
        },
        {
          "output_type": "stream",
          "name": "stderr",
          "text": [
            "\rProcessing compounds:  65%|██████▌   | 1403/2143 [09:50<05:09,  2.39it/s]"
          ]
        },
        {
          "output_type": "stream",
          "name": "stdout",
          "text": [
            "Ошибка при получении данных для формулы NiCo2O4: 404\n",
            "Ошибка при получении данных для формулы (CoNi)O: 404\n"
          ]
        },
        {
          "output_type": "stream",
          "name": "stderr",
          "text": [
            "\rProcessing compounds:  66%|██████▌   | 1404/2143 [09:50<05:04,  2.43it/s]"
          ]
        },
        {
          "output_type": "stream",
          "name": "stdout",
          "text": [
            "Ошибка при получении данных для формулы NiCo2O4: 404\n",
            "Ошибка при получении данных для формулы (CoNi)O: 404\n"
          ]
        },
        {
          "output_type": "stream",
          "name": "stderr",
          "text": [
            "\rProcessing compounds:  66%|██████▌   | 1405/2143 [09:51<05:00,  2.46it/s]"
          ]
        },
        {
          "output_type": "stream",
          "name": "stdout",
          "text": [
            "Ошибка при получении данных для формулы NiCo2O4: 404\n",
            "Ошибка при получении данных для формулы (CoNi)O: 404\n"
          ]
        },
        {
          "output_type": "stream",
          "name": "stderr",
          "text": [
            "\rProcessing compounds:  66%|██████▌   | 1406/2143 [09:51<04:57,  2.48it/s]"
          ]
        },
        {
          "output_type": "stream",
          "name": "stdout",
          "text": [
            "Ошибка при получении данных для формулы NiCo2O4: 404\n",
            "Ошибка при получении данных для формулы (CoNi)O: 404\n"
          ]
        },
        {
          "output_type": "stream",
          "name": "stderr",
          "text": [
            "\rProcessing compounds:  66%|██████▌   | 1407/2143 [09:52<04:55,  2.49it/s]"
          ]
        },
        {
          "output_type": "stream",
          "name": "stdout",
          "text": [
            "Ошибка при получении данных для формулы NiCo2O4: 404\n",
            "Ошибка при получении данных для формулы (CoNi)O: 404\n"
          ]
        },
        {
          "output_type": "stream",
          "name": "stderr",
          "text": [
            "\rProcessing compounds:  66%|██████▌   | 1408/2143 [09:52<04:53,  2.50it/s]"
          ]
        },
        {
          "output_type": "stream",
          "name": "stdout",
          "text": [
            "Ошибка при получении данных для формулы NiCo2O4: 404\n",
            "Ошибка при получении данных для формулы (CoNi)O: 404\n"
          ]
        },
        {
          "output_type": "stream",
          "name": "stderr",
          "text": [
            "\rProcessing compounds:  66%|██████▌   | 1409/2143 [09:52<04:53,  2.50it/s]"
          ]
        },
        {
          "output_type": "stream",
          "name": "stdout",
          "text": [
            "Ошибка при получении данных для формулы NiCo2O4: 404\n",
            "Ошибка при получении данных для формулы (CoNi)O: 404\n"
          ]
        },
        {
          "output_type": "stream",
          "name": "stderr",
          "text": [
            "\rProcessing compounds:  66%|██████▌   | 1410/2143 [09:53<04:53,  2.50it/s]"
          ]
        },
        {
          "output_type": "stream",
          "name": "stdout",
          "text": [
            "Ошибка при получении данных для формулы Fe0.95O: 404\n",
            "Сохранен и добавлен в архив: compound_16211978_c2.json\n"
          ]
        },
        {
          "output_type": "stream",
          "name": "stderr",
          "text": [
            "\rProcessing compounds:  66%|██████▌   | 1411/2143 [09:53<04:53,  2.50it/s]"
          ]
        },
        {
          "output_type": "stream",
          "name": "stdout",
          "text": [
            "Ошибка при получении данных для формулы Co0.3Fe0.7O: 404\n",
            "Ошибка при получении данных для формулы Co0.8Fe2.2O4: 404\n"
          ]
        },
        {
          "output_type": "stream",
          "name": "stderr",
          "text": [
            "\rProcessing compounds:  66%|██████▌   | 1412/2143 [09:54<04:53,  2.49it/s]"
          ]
        },
        {
          "output_type": "stream",
          "name": "stdout",
          "text": [
            "Ошибка при получении данных для формулы Ni0.17Co0.21Fe0.62O: 404\n",
            "Ошибка при получении данных для формулы Ni0.4Co0.3Fe2.3O4: 404\n",
            "Ошибка при получении данных для формулы Fe0.95O: 404\n"
          ]
        },
        {
          "output_type": "stream",
          "name": "stderr",
          "text": [
            "\rProcessing compounds:  66%|██████▌   | 1413/2143 [09:54<04:58,  2.45it/s]"
          ]
        },
        {
          "output_type": "stream",
          "name": "stdout",
          "text": [
            "Сохранен и добавлен в архив: compound_16211978_c2.json\n",
            "Ошибка при получении данных для формулы Co0.3Fe0.7O: 404\n"
          ]
        },
        {
          "output_type": "stream",
          "name": "stderr",
          "text": [
            "\rProcessing compounds:  66%|██████▌   | 1414/2143 [09:54<04:56,  2.46it/s]"
          ]
        },
        {
          "output_type": "stream",
          "name": "stdout",
          "text": [
            "Ошибка при получении данных для формулы Co0.8Fe2.2O4: 404\n",
            "Ошибка при получении данных для формулы Ni0.17Co0.21Fe0.62O: 404\n"
          ]
        },
        {
          "output_type": "stream",
          "name": "stderr",
          "text": [
            "\rProcessing compounds:  66%|██████▌   | 1415/2143 [09:55<04:55,  2.46it/s]"
          ]
        },
        {
          "output_type": "stream",
          "name": "stdout",
          "text": [
            "Ошибка при получении данных для формулы Ni0.4Co0.3Fe2.3O4: 404\n",
            "Ошибка при получении данных для формулы Fe0.95O: 404\n"
          ]
        },
        {
          "output_type": "stream",
          "name": "stderr",
          "text": [
            "\rProcessing compounds:  66%|██████▌   | 1416/2143 [09:55<05:09,  2.35it/s]"
          ]
        },
        {
          "output_type": "stream",
          "name": "stdout",
          "text": [
            "Сохранен и добавлен в архив: compound_16211978_c2.json\n",
            "Ошибка при получении данных для формулы Co0.3Fe0.7O: 404\n"
          ]
        },
        {
          "output_type": "stream",
          "name": "stderr",
          "text": [
            "\rProcessing compounds:  66%|██████▌   | 1417/2143 [09:56<05:02,  2.40it/s]"
          ]
        },
        {
          "output_type": "stream",
          "name": "stdout",
          "text": [
            "Ошибка при получении данных для формулы Co0.8Fe2.2O4: 404\n"
          ]
        },
        {
          "output_type": "stream",
          "name": "stderr",
          "text": [
            "\rProcessing compounds:  66%|██████▌   | 1418/2143 [09:56<04:58,  2.43it/s]"
          ]
        },
        {
          "output_type": "stream",
          "name": "stdout",
          "text": [
            "Ошибка при получении данных для формулы Ni0.17Co0.21Fe0.62O: 404\n",
            "Ошибка при получении данных для формулы Ni0.4Co0.3Fe2.3O4: 404\n"
          ]
        },
        {
          "output_type": "stream",
          "name": "stderr",
          "text": [
            "\rProcessing compounds:  66%|██████▌   | 1419/2143 [09:56<04:57,  2.43it/s]"
          ]
        },
        {
          "output_type": "stream",
          "name": "stdout",
          "text": [
            "Сохранен и добавлен в архив: compound_104730_c1.json\n",
            "Ошибка при получении данных для формулы 0: 404\n"
          ]
        },
        {
          "output_type": "stream",
          "name": "stderr",
          "text": [
            "\rProcessing compounds:  66%|██████▋   | 1420/2143 [09:57<04:56,  2.44it/s]"
          ]
        },
        {
          "output_type": "stream",
          "name": "stdout",
          "text": [
            "Сохранен и добавлен в архив: compound_104730_c1.json\n",
            "Сохранен и добавлен в архив: compound_14786_c2.json\n"
          ]
        },
        {
          "output_type": "stream",
          "name": "stderr",
          "text": [
            "\rProcessing compounds:  66%|██████▋   | 1421/2143 [09:57<04:54,  2.45it/s]"
          ]
        },
        {
          "output_type": "stream",
          "name": "stdout",
          "text": [
            "Сохранен и добавлен в архив: compound_104730_c1.json\n",
            "Ошибка при получении данных для формулы 0: 404\n"
          ]
        },
        {
          "output_type": "stream",
          "name": "stderr",
          "text": [
            "\rProcessing compounds:  66%|██████▋   | 1422/2143 [09:58<04:53,  2.45it/s]"
          ]
        },
        {
          "output_type": "stream",
          "name": "stdout",
          "text": [
            "Сохранен и добавлен в архив: compound_104730_c1.json\n",
            "Сохранен и добавлен в архив: compound_14786_c2.json\n"
          ]
        },
        {
          "output_type": "stream",
          "name": "stderr",
          "text": [
            "\rProcessing compounds:  66%|██████▋   | 1423/2143 [09:58<04:52,  2.46it/s]"
          ]
        },
        {
          "output_type": "stream",
          "name": "stdout",
          "text": [
            "Сохранен и добавлен в архив: compound_104730_c1.json\n",
            "Ошибка при получении данных для формулы 0: 404\n",
            "Сохранен и добавлен в архив: compound_104730_c1.json\n"
          ]
        },
        {
          "output_type": "stream",
          "name": "stderr",
          "text": [
            "\rProcessing compounds:  66%|██████▋   | 1424/2143 [09:58<04:53,  2.45it/s]"
          ]
        },
        {
          "output_type": "stream",
          "name": "stdout",
          "text": [
            "Сохранен и добавлен в архив: compound_14786_c2.json\n"
          ]
        },
        {
          "output_type": "stream",
          "name": "stderr",
          "text": [
            "\rProcessing compounds:  66%|██████▋   | 1425/2143 [09:59<04:52,  2.45it/s]"
          ]
        },
        {
          "output_type": "stream",
          "name": "stdout",
          "text": [
            "Сохранен и добавлен в архив: compound_104730_c1.json\n",
            "Сохранен и добавлен в архив: compound_14786_c2.json\n"
          ]
        },
        {
          "output_type": "stream",
          "name": "stderr",
          "text": [
            "\rProcessing compounds:  67%|██████▋   | 1426/2143 [09:59<04:51,  2.46it/s]"
          ]
        },
        {
          "output_type": "stream",
          "name": "stdout",
          "text": [
            "Сохранен и добавлен в архив: compound_104730_c1.json\n",
            "Сохранен и добавлен в архив: compound_14786_c2.json\n"
          ]
        },
        {
          "output_type": "stream",
          "name": "stderr",
          "text": [
            "\rProcessing compounds:  67%|██████▋   | 1427/2143 [10:00<04:51,  2.46it/s]"
          ]
        },
        {
          "output_type": "stream",
          "name": "stdout",
          "text": [
            "Сохранен и добавлен в архив: compound_104730_c1.json\n",
            "Сохранен и добавлен в архив: compound_14786_c2.json\n"
          ]
        },
        {
          "output_type": "stream",
          "name": "stderr",
          "text": [
            "\rProcessing compounds:  67%|██████▋   | 1428/2143 [10:00<04:50,  2.46it/s]"
          ]
        },
        {
          "output_type": "stream",
          "name": "stdout",
          "text": [
            "Сохранен и добавлен в архив: compound_104730_c1.json\n",
            "Сохранен и добавлен в архив: compound_14786_c2.json\n"
          ]
        },
        {
          "output_type": "stream",
          "name": "stderr",
          "text": [
            "\rProcessing compounds:  67%|██████▋   | 1429/2143 [10:00<04:49,  2.46it/s]"
          ]
        },
        {
          "output_type": "stream",
          "name": "stdout",
          "text": [
            "Сохранен и добавлен в архив: compound_104730_c1.json\n",
            "Ошибка при получении данных для формулы Co3O4: 404\n"
          ]
        },
        {
          "output_type": "stream",
          "name": "stderr",
          "text": [
            "\rProcessing compounds:  67%|██████▋   | 1430/2143 [10:01<04:49,  2.47it/s]"
          ]
        },
        {
          "output_type": "stream",
          "name": "stdout",
          "text": [
            "Сохранен и добавлен в архив: compound_104730_c1.json\n",
            "Ошибка при получении данных для формулы Co3O4: 404\n"
          ]
        },
        {
          "output_type": "stream",
          "name": "stderr",
          "text": [
            "\rProcessing compounds:  67%|██████▋   | 1431/2143 [10:01<04:51,  2.44it/s]"
          ]
        },
        {
          "output_type": "stream",
          "name": "stdout",
          "text": [
            "Сохранен и добавлен в архив: compound_104730_c1.json\n",
            "Ошибка при получении данных для формулы Co3O4: 404\n"
          ]
        },
        {
          "output_type": "stream",
          "name": "stderr",
          "text": [
            "\rProcessing compounds:  67%|██████▋   | 1432/2143 [10:02<05:00,  2.36it/s]"
          ]
        },
        {
          "output_type": "stream",
          "name": "stdout",
          "text": [
            "Сохранен и добавлен в архив: compound_104730_c1.json\n",
            "Ошибка при получении данных для формулы Co3O4: 404\n"
          ]
        },
        {
          "output_type": "stream",
          "name": "stderr",
          "text": [
            "\rProcessing compounds:  67%|██████▋   | 1433/2143 [10:02<04:56,  2.39it/s]"
          ]
        },
        {
          "output_type": "stream",
          "name": "stdout",
          "text": [
            "Сохранен и добавлен в архив: compound_104730_c1.json\n",
            "Ошибка при получении данных для формулы Co3O4: 404\n",
            "Сохранен и добавлен в архив: compound_104730_c1.json\n"
          ]
        },
        {
          "output_type": "stream",
          "name": "stderr",
          "text": [
            "\rProcessing compounds:  67%|██████▋   | 1434/2143 [10:03<05:07,  2.31it/s]"
          ]
        },
        {
          "output_type": "stream",
          "name": "stdout",
          "text": [
            "Сохранен и добавлен в архив: compound_14786_c2.json\n",
            "Сохранен и добавлен в архив: compound_104730_c1.json\n"
          ]
        },
        {
          "output_type": "stream",
          "name": "stderr",
          "text": [
            "\rProcessing compounds:  67%|██████▋   | 1435/2143 [10:03<05:02,  2.34it/s]"
          ]
        },
        {
          "output_type": "stream",
          "name": "stdout",
          "text": [
            "Сохранен и добавлен в архив: compound_14786_c2.json\n",
            "Сохранен и добавлен в архив: compound_104730_c1.json\n"
          ]
        },
        {
          "output_type": "stream",
          "name": "stderr",
          "text": [
            "\rProcessing compounds:  67%|██████▋   | 1436/2143 [10:03<05:03,  2.33it/s]"
          ]
        },
        {
          "output_type": "stream",
          "name": "stdout",
          "text": [
            "Сохранен и добавлен в архив: compound_14786_c2.json\n"
          ]
        },
        {
          "output_type": "stream",
          "name": "stderr",
          "text": [
            "\rProcessing compounds:  67%|██████▋   | 1437/2143 [10:04<04:58,  2.36it/s]"
          ]
        },
        {
          "output_type": "stream",
          "name": "stdout",
          "text": [
            "Сохранен и добавлен в архив: compound_104730_c1.json\n",
            "Ошибка при получении данных для формулы Co3O4: 404\n"
          ]
        },
        {
          "output_type": "stream",
          "name": "stderr",
          "text": [
            "\rProcessing compounds:  67%|██████▋   | 1438/2143 [10:04<04:55,  2.39it/s]"
          ]
        },
        {
          "output_type": "stream",
          "name": "stdout",
          "text": [
            "Сохранен и добавлен в архив: compound_104730_c1.json\n",
            "Ошибка при получении данных для формулы Co3O4: 404\n"
          ]
        },
        {
          "output_type": "stream",
          "name": "stderr",
          "text": [
            "\rProcessing compounds:  67%|██████▋   | 1439/2143 [10:05<04:52,  2.41it/s]"
          ]
        },
        {
          "output_type": "stream",
          "name": "stdout",
          "text": [
            "Сохранен и добавлен в архив: compound_104730_c1.json\n",
            "Ошибка при получении данных для формулы Co3O4: 404\n"
          ]
        },
        {
          "output_type": "stream",
          "name": "stderr",
          "text": [
            "\rProcessing compounds:  67%|██████▋   | 1440/2143 [10:05<04:49,  2.43it/s]"
          ]
        },
        {
          "output_type": "stream",
          "name": "stdout",
          "text": [
            "Сохранен и добавлен в архив: compound_104730_c1.json\n",
            "Ошибка при получении данных для формулы Co3O4: 404\n"
          ]
        },
        {
          "output_type": "stream",
          "name": "stderr",
          "text": [
            "\rProcessing compounds:  67%|██████▋   | 1441/2143 [10:06<04:47,  2.44it/s]"
          ]
        },
        {
          "output_type": "stream",
          "name": "stdout",
          "text": [
            "Сохранен и добавлен в архив: compound_104730_c1.json\n",
            "Ошибка при получении данных для формулы Co3O4: 404\n",
            "Ошибка при получении данных для формулы Co0.14Fe0.86O: 404\n"
          ]
        },
        {
          "output_type": "stream",
          "name": "stderr",
          "text": [
            "\rProcessing compounds:  67%|██████▋   | 1442/2143 [10:06<04:47,  2.44it/s]"
          ]
        },
        {
          "output_type": "stream",
          "name": "stdout",
          "text": [
            "Ошибка при получении данных для формулы Co0.4Fe2.4O4: 404\n",
            "Ошибка при получении данных для формулы Co0.14Fe0.86O: 404\n"
          ]
        },
        {
          "output_type": "stream",
          "name": "stderr",
          "text": [
            "\rProcessing compounds:  67%|██████▋   | 1443/2143 [10:06<04:52,  2.39it/s]"
          ]
        },
        {
          "output_type": "stream",
          "name": "stdout",
          "text": [
            "Ошибка при получении данных для формулы Co0.4Fe2.4O4: 404\n",
            "Ошибка при получении данных для формулы Co0.14Fe0.86O: 404\n"
          ]
        },
        {
          "output_type": "stream",
          "name": "stderr",
          "text": [
            "\rProcessing compounds:  67%|██████▋   | 1444/2143 [10:07<04:53,  2.38it/s]"
          ]
        },
        {
          "output_type": "stream",
          "name": "stdout",
          "text": [
            "Ошибка при получении данных для формулы Co0.4Fe2.4O4: 404\n"
          ]
        },
        {
          "output_type": "stream",
          "name": "stderr",
          "text": [
            "\rProcessing compounds:  67%|██████▋   | 1445/2143 [10:07<04:50,  2.41it/s]"
          ]
        },
        {
          "output_type": "stream",
          "name": "stdout",
          "text": [
            "Сохранен и добавлен в архив: compound_104730_c1.json\n",
            "Ошибка при получении данных для формулы CoFe2O4: 404\n"
          ]
        },
        {
          "output_type": "stream",
          "name": "stderr",
          "text": [
            "\rProcessing compounds:  67%|██████▋   | 1446/2143 [10:08<04:46,  2.43it/s]"
          ]
        },
        {
          "output_type": "stream",
          "name": "stdout",
          "text": [
            "Сохранен и добавлен в архив: compound_14786_c1.json\n",
            "Ошибка при получении данных для формулы MnFe2O4: 404\n"
          ]
        },
        {
          "output_type": "stream",
          "name": "stderr",
          "text": [
            "\rProcessing compounds:  68%|██████▊   | 1447/2143 [10:08<04:48,  2.42it/s]"
          ]
        },
        {
          "output_type": "stream",
          "name": "stdout",
          "text": [
            "Сохранен и добавлен в архив: compound_14786_c1.json\n",
            "Ошибка при получении данных для формулы MnFe2O4: 404\n",
            "Сохранен и добавлен в архив: compound_938_c1.json\n"
          ]
        },
        {
          "output_type": "stream",
          "name": "stderr",
          "text": [
            "\rProcessing compounds:  68%|██████▊   | 1448/2143 [10:08<04:47,  2.42it/s]"
          ]
        },
        {
          "output_type": "stream",
          "name": "stdout",
          "text": [
            "Сохранен и добавлен в архив: compound_24261_c2.json\n",
            "Сохранен и добавлен в архив: compound_938_c1.json\n"
          ]
        },
        {
          "output_type": "stream",
          "name": "stderr",
          "text": [
            "/usr/lib/python3.11/zipfile.py:1567: UserWarning: Duplicate name: 'compound_24261_c2.json'\n",
            "  return self._open_to_write(zinfo, force_zip64=force_zip64)\n",
            "\rProcessing compounds:  68%|██████▊   | 1449/2143 [10:09<04:45,  2.43it/s]"
          ]
        },
        {
          "output_type": "stream",
          "name": "stdout",
          "text": [
            "Сохранен и добавлен в архив: compound_24261_c2.json\n",
            "Сохранен и добавлен в архив: compound_104730_c1.json\n"
          ]
        },
        {
          "output_type": "stream",
          "name": "stderr",
          "text": [
            "\rProcessing compounds:  68%|██████▊   | 1450/2143 [10:09<04:48,  2.40it/s]"
          ]
        },
        {
          "output_type": "stream",
          "name": "stdout",
          "text": [
            "Сохранен и добавлен в архив: compound_14786_c2.json\n",
            "Сохранен и добавлен в архив: compound_104730_c1.json\n"
          ]
        },
        {
          "output_type": "stream",
          "name": "stderr",
          "text": [
            "\rProcessing compounds:  68%|██████▊   | 1451/2143 [10:10<04:47,  2.41it/s]"
          ]
        },
        {
          "output_type": "stream",
          "name": "stdout",
          "text": [
            "Сохранен и добавлен в архив: compound_14786_c2.json\n",
            "Сохранен и добавлен в архив: compound_14786_c1.json\n"
          ]
        },
        {
          "output_type": "stream",
          "name": "stderr",
          "text": [
            "\rProcessing compounds:  68%|██████▊   | 1452/2143 [10:10<04:50,  2.38it/s]"
          ]
        },
        {
          "output_type": "stream",
          "name": "stdout",
          "text": [
            "Сохранен и добавлен в архив: compound_16211978_c2.json\n",
            "Сохранен и добавлен в архив: compound_14786_c1.json\n"
          ]
        },
        {
          "output_type": "stream",
          "name": "stderr",
          "text": [
            "\rProcessing compounds:  68%|██████▊   | 1453/2143 [10:11<06:21,  1.81it/s]"
          ]
        },
        {
          "output_type": "stream",
          "name": "stdout",
          "text": [
            "Ошибка при получении данных для формулы Zn0.25Fe2O4: 404\n",
            "Сохранен и добавлен в архив: compound_14786_c1.json\n"
          ]
        },
        {
          "output_type": "stream",
          "name": "stderr",
          "text": [
            "\rProcessing compounds:  68%|██████▊   | 1454/2143 [10:12<08:15,  1.39it/s]"
          ]
        },
        {
          "output_type": "stream",
          "name": "stdout",
          "text": [
            "Ошибка при получении данных для формулы Zn0.5Fe2O4: 404\n",
            "Сохранен и добавлен в архив: compound_14786_c1.json\n"
          ]
        },
        {
          "output_type": "stream",
          "name": "stderr",
          "text": [
            "\rProcessing compounds:  68%|██████▊   | 1455/2143 [10:13<08:29,  1.35it/s]"
          ]
        },
        {
          "output_type": "stream",
          "name": "stdout",
          "text": [
            "Ошибка при получении данных для формулы Zn0.75Fe2O4: 404\n",
            "Сохранен и добавлен в архив: compound_14786_c1.json\n"
          ]
        },
        {
          "output_type": "stream",
          "name": "stderr",
          "text": [
            "\rProcessing compounds:  68%|██████▊   | 1456/2143 [10:13<07:46,  1.47it/s]"
          ]
        },
        {
          "output_type": "stream",
          "name": "stdout",
          "text": [
            "Сохранен и добавлен в архив: compound_11831558_c2.json\n",
            "Сохранен и добавлен в архив: compound_935_c1.json\n"
          ]
        },
        {
          "output_type": "stream",
          "name": "stderr",
          "text": [
            "\rProcessing compounds:  68%|██████▊   | 1457/2143 [10:14<06:52,  1.66it/s]"
          ]
        },
        {
          "output_type": "stream",
          "name": "stdout",
          "text": [
            "Сохранен и добавлен в архив: compound_938_c2.json\n"
          ]
        },
        {
          "output_type": "stream",
          "name": "stderr",
          "text": [
            "\rProcessing compounds:  68%|██████▊   | 1458/2143 [10:14<06:14,  1.83it/s]"
          ]
        },
        {
          "output_type": "stream",
          "name": "stdout",
          "text": [
            "Сохранен и добавлен в архив: compound_935_c1.json\n",
            "Сохранен и добавлен в архив: compound_938_c2.json\n",
            "Сохранен и добавлен в архив: compound_23925_c1.json\n"
          ]
        },
        {
          "output_type": "stream",
          "name": "stderr",
          "text": [
            "\rProcessing compounds:  68%|██████▊   | 1459/2143 [10:15<06:10,  1.85it/s]"
          ]
        },
        {
          "output_type": "stream",
          "name": "stdout",
          "text": [
            "Ошибка при получении данных для формулы FeO: 404\n",
            "Сохранен и добавлен в архив: compound_23925_c1.json\n"
          ]
        },
        {
          "output_type": "stream",
          "name": "stderr",
          "text": [
            "\rProcessing compounds:  68%|██████▊   | 1460/2143 [10:15<05:50,  1.95it/s]"
          ]
        },
        {
          "output_type": "stream",
          "name": "stdout",
          "text": [
            "Ошибка при получении данных для формулы FeO: 404\n",
            "Сохранен и добавлен в архив: compound_23925_c1.json\n"
          ]
        },
        {
          "output_type": "stream",
          "name": "stderr",
          "text": [
            "\rProcessing compounds:  68%|██████▊   | 1461/2143 [10:16<05:56,  1.91it/s]"
          ]
        },
        {
          "output_type": "stream",
          "name": "stdout",
          "text": [
            "Ошибка при получении данных для формулы FeO: 404\n",
            "Сохранен и добавлен в архив: compound_23925_c1.json\n"
          ]
        },
        {
          "output_type": "stream",
          "name": "stderr",
          "text": [
            "\rProcessing compounds:  68%|██████▊   | 1462/2143 [10:16<05:54,  1.92it/s]"
          ]
        },
        {
          "output_type": "stream",
          "name": "stdout",
          "text": [
            "Ошибка при получении данных для формулы FeO: 404\n",
            "Сохранен и добавлен в архив: compound_23925_c1.json\n"
          ]
        },
        {
          "output_type": "stream",
          "name": "stderr",
          "text": [
            "\rProcessing compounds:  68%|██████▊   | 1463/2143 [10:17<05:37,  2.01it/s]"
          ]
        },
        {
          "output_type": "stream",
          "name": "stdout",
          "text": [
            "Ошибка при получении данных для формулы FeO: 404\n"
          ]
        },
        {
          "output_type": "stream",
          "name": "stderr",
          "text": [
            "\rProcessing compounds:  68%|██████▊   | 1464/2143 [10:17<05:20,  2.12it/s]"
          ]
        },
        {
          "output_type": "stream",
          "name": "stdout",
          "text": [
            "Сохранен и добавлен в архив: compound_23925_c1.json\n",
            "Ошибка при получении данных для формулы FeO: 404\n",
            "Сохранен и добавлен в архив: compound_23925_c1.json\n"
          ]
        },
        {
          "output_type": "stream",
          "name": "stderr",
          "text": [
            "\rProcessing compounds:  68%|██████▊   | 1465/2143 [10:18<06:28,  1.75it/s]"
          ]
        },
        {
          "output_type": "stream",
          "name": "stdout",
          "text": [
            "Ошибка при получении данных для формулы FeO: 404\n",
            "Ошибка при получении данных для формулы CoFe2O4: 404\n"
          ]
        },
        {
          "output_type": "stream",
          "name": "stderr",
          "text": [
            "\rProcessing compounds:  68%|██████▊   | 1466/2143 [10:19<06:47,  1.66it/s]"
          ]
        },
        {
          "output_type": "stream",
          "name": "stdout",
          "text": [
            "Сохранен и добавлен в архив: compound_23954_c2.json\n",
            "Ошибка при получении данных для формулы CoFe2O4: 404\n"
          ]
        },
        {
          "output_type": "stream",
          "name": "stderr",
          "text": [
            "\rProcessing compounds:  68%|██████▊   | 1467/2143 [10:19<06:44,  1.67it/s]"
          ]
        },
        {
          "output_type": "stream",
          "name": "stdout",
          "text": [
            "Сохранен и добавлен в архив: compound_23954_c2.json\n",
            "Ошибка при получении данных для формулы CoFe2O4: 404\n"
          ]
        },
        {
          "output_type": "stream",
          "name": "stderr",
          "text": [
            "\rProcessing compounds:  69%|██████▊   | 1468/2143 [10:20<06:04,  1.85it/s]"
          ]
        },
        {
          "output_type": "stream",
          "name": "stdout",
          "text": [
            "Сохранен и добавлен в архив: compound_23954_c2.json\n",
            "Ошибка при получении данных для формулы CoFe2O4: 404\n"
          ]
        },
        {
          "output_type": "stream",
          "name": "stderr",
          "text": [
            "\rProcessing compounds:  69%|██████▊   | 1469/2143 [10:20<05:36,  2.00it/s]"
          ]
        },
        {
          "output_type": "stream",
          "name": "stdout",
          "text": [
            "Сохранен и добавлен в архив: compound_23954_c2.json\n",
            "Ошибка при получении данных для формулы CoFe2O4: 404\n"
          ]
        },
        {
          "output_type": "stream",
          "name": "stderr",
          "text": [
            "\rProcessing compounds:  69%|██████▊   | 1470/2143 [10:20<05:17,  2.12it/s]"
          ]
        },
        {
          "output_type": "stream",
          "name": "stdout",
          "text": [
            "Сохранен и добавлен в архив: compound_23954_c2.json\n",
            "Ошибка при получении данных для формулы CoFe2O4: 404\n"
          ]
        },
        {
          "output_type": "stream",
          "name": "stderr",
          "text": [
            "\rProcessing compounds:  69%|██████▊   | 1471/2143 [10:21<05:08,  2.18it/s]"
          ]
        },
        {
          "output_type": "stream",
          "name": "stdout",
          "text": [
            "Сохранен и добавлен в архив: compound_23954_c2.json\n",
            "Ошибка при получении данных для формулы CoFe2O4: 404\n"
          ]
        },
        {
          "output_type": "stream",
          "name": "stderr",
          "text": [
            "\rProcessing compounds:  69%|██████▊   | 1472/2143 [10:21<04:56,  2.27it/s]"
          ]
        },
        {
          "output_type": "stream",
          "name": "stdout",
          "text": [
            "Ошибка при получении данных для формулы BaTiO3: 404\n",
            "Ошибка при получении данных для формулы CoFe2O4: 404\n"
          ]
        },
        {
          "output_type": "stream",
          "name": "stderr",
          "text": [
            "\rProcessing compounds:  69%|██████▊   | 1473/2143 [10:22<04:47,  2.33it/s]"
          ]
        },
        {
          "output_type": "stream",
          "name": "stdout",
          "text": [
            "Сохранен и добавлен в архив: compound_938_c2.json\n",
            "Ошибка при получении данных для формулы CoFe2O4: 404\n"
          ]
        },
        {
          "output_type": "stream",
          "name": "stderr",
          "text": [
            "\rProcessing compounds:  69%|██████▉   | 1474/2143 [10:22<04:48,  2.32it/s]"
          ]
        },
        {
          "output_type": "stream",
          "name": "stdout",
          "text": [
            "Сохранен и добавлен в архив: compound_938_c2.json\n",
            "Ошибка при получении данных для формулы CoFe2O4: 404\n"
          ]
        },
        {
          "output_type": "stream",
          "name": "stderr",
          "text": [
            "\rProcessing compounds:  69%|██████▉   | 1475/2143 [10:22<04:41,  2.38it/s]"
          ]
        },
        {
          "output_type": "stream",
          "name": "stdout",
          "text": [
            "Сохранен и добавлен в архив: compound_938_c2.json\n",
            "Ошибка при получении данных для формулы CoFe2O4: 404\n"
          ]
        },
        {
          "output_type": "stream",
          "name": "stderr",
          "text": [
            "\rProcessing compounds:  69%|██████▉   | 1476/2143 [10:23<04:35,  2.42it/s]"
          ]
        },
        {
          "output_type": "stream",
          "name": "stdout",
          "text": [
            "Сохранен и добавлен в архив: compound_938_c2.json\n",
            "Ошибка при получении данных для формулы CoFe2O4: 404\n"
          ]
        },
        {
          "output_type": "stream",
          "name": "stderr",
          "text": [
            "\rProcessing compounds:  69%|██████▉   | 1477/2143 [10:23<04:32,  2.45it/s]"
          ]
        },
        {
          "output_type": "stream",
          "name": "stdout",
          "text": [
            "Сохранен и добавлен в архив: compound_938_c2.json\n",
            "Ошибка при получении данных для формулы CoFe2O4: 404\n"
          ]
        },
        {
          "output_type": "stream",
          "name": "stderr",
          "text": [
            "\rProcessing compounds:  69%|██████▉   | 1478/2143 [10:24<04:29,  2.47it/s]"
          ]
        },
        {
          "output_type": "stream",
          "name": "stdout",
          "text": [
            "Сохранен и добавлен в архив: compound_938_c2.json\n",
            "Ошибка при получении данных для формулы CoFe2O4: 404\n"
          ]
        },
        {
          "output_type": "stream",
          "name": "stderr",
          "text": [
            "\rProcessing compounds:  69%|██████▉   | 1479/2143 [10:24<04:27,  2.48it/s]"
          ]
        },
        {
          "output_type": "stream",
          "name": "stdout",
          "text": [
            "Сохранен и добавлен в архив: compound_938_c2.json\n",
            "Ошибка при получении данных для формулы CoFe2O4: 404\n"
          ]
        },
        {
          "output_type": "stream",
          "name": "stderr",
          "text": [
            "\rProcessing compounds:  69%|██████▉   | 1480/2143 [10:24<04:26,  2.49it/s]"
          ]
        },
        {
          "output_type": "stream",
          "name": "stdout",
          "text": [
            "Сохранен и добавлен в архив: compound_938_c2.json\n"
          ]
        },
        {
          "output_type": "stream",
          "name": "stderr",
          "text": [
            "\rProcessing compounds:  69%|██████▉   | 1481/2143 [10:25<04:25,  2.50it/s]"
          ]
        },
        {
          "output_type": "stream",
          "name": "stdout",
          "text": [
            "Ошибка при получении данных для формулы MnFe2O4: 404\n",
            "Ошибка при получении данных для формулы Fe2O3: 404\n"
          ]
        },
        {
          "output_type": "stream",
          "name": "stderr",
          "text": [
            "\rProcessing compounds:  69%|██████▉   | 1482/2143 [10:25<04:23,  2.50it/s]"
          ]
        },
        {
          "output_type": "stream",
          "name": "stdout",
          "text": [
            "Ошибка при получении данных для формулы MnFe2O4: 404\n",
            "Ошибка при получении данных для формулы Fe2O3: 404\n"
          ]
        },
        {
          "output_type": "stream",
          "name": "stderr",
          "text": [
            "\rProcessing compounds:  69%|██████▉   | 1483/2143 [10:26<04:41,  2.34it/s]"
          ]
        },
        {
          "output_type": "stream",
          "name": "stdout",
          "text": [
            "Ошибка при получении данных для формулы MnFe2O4: 404\n",
            "Ошибка при получении данных для формулы Fe2O3: 404\n"
          ]
        },
        {
          "output_type": "stream",
          "name": "stderr",
          "text": [
            "\rProcessing compounds:  69%|██████▉   | 1484/2143 [10:26<04:34,  2.40it/s]"
          ]
        },
        {
          "output_type": "stream",
          "name": "stdout",
          "text": [
            "Ошибка при получении данных для формулы MnFe2O4: 404\n",
            "Ошибка при получении данных для формулы Fe2O3: 404\n"
          ]
        },
        {
          "output_type": "stream",
          "name": "stderr",
          "text": [
            "\rProcessing compounds:  69%|██████▉   | 1485/2143 [10:27<04:29,  2.44it/s]"
          ]
        },
        {
          "output_type": "stream",
          "name": "stdout",
          "text": [
            "Ошибка при получении данных для формулы MnFe2O4: 404\n",
            "Ошибка при получении данных для формулы Fe2O3: 404\n"
          ]
        },
        {
          "output_type": "stream",
          "name": "stderr",
          "text": [
            "\rProcessing compounds:  69%|██████▉   | 1486/2143 [10:27<04:26,  2.46it/s]"
          ]
        },
        {
          "output_type": "stream",
          "name": "stdout",
          "text": [
            "Ошибка при получении данных для формулы MnFe2O4: 404\n",
            "Ошибка при получении данных для формулы Fe2O3: 404\n",
            "Ошибка при получении данных для формулы MnFe2O4: 404\n"
          ]
        },
        {
          "output_type": "stream",
          "name": "stderr",
          "text": [
            "\rProcessing compounds:  69%|██████▉   | 1487/2143 [10:27<04:25,  2.47it/s]"
          ]
        },
        {
          "output_type": "stream",
          "name": "stdout",
          "text": [
            "Ошибка при получении данных для формулы Fe2O3: 404\n",
            "Ошибка при получении данных для формулы MnFe2O4: 404\n"
          ]
        },
        {
          "output_type": "stream",
          "name": "stderr",
          "text": [
            "\rProcessing compounds:  69%|██████▉   | 1488/2143 [10:28<04:22,  2.49it/s]"
          ]
        },
        {
          "output_type": "stream",
          "name": "stdout",
          "text": [
            "Ошибка при получении данных для формулы Fe2O3: 404\n",
            "Сохранен и добавлен в архив: compound_104730_c1.json\n"
          ]
        },
        {
          "output_type": "stream",
          "name": "stderr",
          "text": [
            "\rProcessing compounds:  69%|██████▉   | 1489/2143 [10:28<04:23,  2.48it/s]"
          ]
        },
        {
          "output_type": "stream",
          "name": "stdout",
          "text": [
            "Сохранен и добавлен в архив: compound_23976_c2.json\n",
            "Сохранен и добавлен в архив: compound_104730_c1.json\n"
          ]
        },
        {
          "output_type": "stream",
          "name": "stderr",
          "text": [
            "/usr/lib/python3.11/zipfile.py:1567: UserWarning: Duplicate name: 'compound_23976_c2.json'\n",
            "  return self._open_to_write(zinfo, force_zip64=force_zip64)\n",
            "\rProcessing compounds:  70%|██████▉   | 1490/2143 [10:29<04:27,  2.45it/s]"
          ]
        },
        {
          "output_type": "stream",
          "name": "stdout",
          "text": [
            "Сохранен и добавлен в архив: compound_23976_c2.json\n"
          ]
        },
        {
          "output_type": "stream",
          "name": "stderr",
          "text": [
            "\rProcessing compounds:  70%|██████▉   | 1491/2143 [10:29<04:26,  2.45it/s]"
          ]
        },
        {
          "output_type": "stream",
          "name": "stdout",
          "text": [
            "Сохранен и добавлен в архив: compound_104730_c1.json\n",
            "Сохранен и добавлен в архив: compound_23976_c2.json\n",
            "Сохранен и добавлен в архив: compound_104730_c1.json\n"
          ]
        },
        {
          "output_type": "stream",
          "name": "stderr",
          "text": [
            "\rProcessing compounds:  70%|██████▉   | 1492/2143 [10:29<04:30,  2.40it/s]"
          ]
        },
        {
          "output_type": "stream",
          "name": "stdout",
          "text": [
            "Сохранен и добавлен в архив: compound_23976_c2.json\n",
            "Ошибка при получении данных для формулы Zn0.2Ni0.8Gd0.05 Fe1.95O4: 404\n"
          ]
        },
        {
          "output_type": "stream",
          "name": "stderr",
          "text": [
            "\rProcessing compounds:  70%|██████▉   | 1493/2143 [10:30<04:26,  2.44it/s]"
          ]
        },
        {
          "output_type": "stream",
          "name": "stdout",
          "text": [
            "Ошибка при получении данных для формулы 0: 404\n",
            "Ошибка при получении данных для формулы Zn0.2Ni0.8Gd0.05 Fe1.95O4: 404\n"
          ]
        },
        {
          "output_type": "stream",
          "name": "stderr",
          "text": [
            "\rProcessing compounds:  70%|██████▉   | 1494/2143 [10:30<04:33,  2.37it/s]"
          ]
        },
        {
          "output_type": "stream",
          "name": "stdout",
          "text": [
            "Ошибка при получении данных для формулы 0: 404\n",
            "Ошибка при получении данных для формулы Zn0.2Ni0.8Gd0.05 Fe1.95O4: 404\n"
          ]
        },
        {
          "output_type": "stream",
          "name": "stderr",
          "text": [
            "\rProcessing compounds:  70%|██████▉   | 1495/2143 [10:31<04:29,  2.40it/s]"
          ]
        },
        {
          "output_type": "stream",
          "name": "stdout",
          "text": [
            "Ошибка при получении данных для формулы 0: 404\n",
            "Ошибка при получении данных для формулы Zn0.2Ni0.8Gd0.05 Fe1.95O4: 404\n"
          ]
        },
        {
          "output_type": "stream",
          "name": "stderr",
          "text": [
            "\rProcessing compounds:  70%|██████▉   | 1496/2143 [10:31<04:27,  2.42it/s]"
          ]
        },
        {
          "output_type": "stream",
          "name": "stdout",
          "text": [
            "Ошибка при получении данных для формулы 0: 404\n",
            "Ошибка при получении данных для формулы Zn0.2Ni0.8Gd0.05 Fe1.95O4: 404\n"
          ]
        },
        {
          "output_type": "stream",
          "name": "stderr",
          "text": [
            "\rProcessing compounds:  70%|██████▉   | 1497/2143 [10:32<04:36,  2.34it/s]"
          ]
        },
        {
          "output_type": "stream",
          "name": "stdout",
          "text": [
            "Ошибка при получении данных для формулы 0: 404\n",
            "Ошибка при получении данных для формулы Zn0.2Ni0.8Gd0.05 Fe1.95O4: 404\n"
          ]
        },
        {
          "output_type": "stream",
          "name": "stderr",
          "text": [
            "\rProcessing compounds:  70%|██████▉   | 1498/2143 [10:32<04:30,  2.38it/s]"
          ]
        },
        {
          "output_type": "stream",
          "name": "stdout",
          "text": [
            "Ошибка при получении данных для формулы 0: 404\n",
            "Ошибка при получении данных для формулы Zn0.2Ni0.8Gd0.05 Fe1.95O4: 404\n"
          ]
        },
        {
          "output_type": "stream",
          "name": "stderr",
          "text": [
            "\rProcessing compounds:  70%|██████▉   | 1499/2143 [10:32<04:27,  2.41it/s]"
          ]
        },
        {
          "output_type": "stream",
          "name": "stdout",
          "text": [
            "Ошибка при получении данных для формулы 0: 404\n",
            "Сохранен и добавлен в архив: compound_935_c1.json\n"
          ]
        },
        {
          "output_type": "stream",
          "name": "stderr",
          "text": [
            "\rProcessing compounds:  70%|██████▉   | 1500/2143 [10:33<04:39,  2.30it/s]"
          ]
        },
        {
          "output_type": "stream",
          "name": "stdout",
          "text": [
            "Ошибка при получении данных для формулы LaFeO3: 404\n"
          ]
        },
        {
          "output_type": "stream",
          "name": "stderr",
          "text": [
            "\rProcessing compounds:  70%|███████   | 1501/2143 [10:33<04:34,  2.34it/s]"
          ]
        },
        {
          "output_type": "stream",
          "name": "stdout",
          "text": [
            "Сохранен и добавлен в архив: compound_935_c1.json\n",
            "Ошибка при получении данных для формулы LaFeO3: 404\n"
          ]
        },
        {
          "output_type": "stream",
          "name": "stderr",
          "text": [
            "\rProcessing compounds:  70%|███████   | 1502/2143 [10:34<04:30,  2.37it/s]"
          ]
        },
        {
          "output_type": "stream",
          "name": "stdout",
          "text": [
            "Сохранен и добавлен в архив: compound_935_c1.json\n",
            "Ошибка при получении данных для формулы LaFeO3: 404\n"
          ]
        },
        {
          "output_type": "stream",
          "name": "stderr",
          "text": [
            "\rProcessing compounds:  70%|███████   | 1503/2143 [10:34<04:28,  2.38it/s]"
          ]
        },
        {
          "output_type": "stream",
          "name": "stdout",
          "text": [
            "Сохранен и добавлен в архив: compound_935_c1.json\n",
            "Ошибка при получении данных для формулы LaFeO3: 404\n"
          ]
        },
        {
          "output_type": "stream",
          "name": "stderr",
          "text": [
            "\rProcessing compounds:  70%|███████   | 1504/2143 [10:34<04:28,  2.38it/s]"
          ]
        },
        {
          "output_type": "stream",
          "name": "stdout",
          "text": [
            "Сохранен и добавлен в архив: compound_935_c1.json\n",
            "Ошибка при получении данных для формулы LaFeO3: 404\n"
          ]
        },
        {
          "output_type": "stream",
          "name": "stderr",
          "text": [
            "\rProcessing compounds:  70%|███████   | 1505/2143 [10:35<04:34,  2.33it/s]"
          ]
        },
        {
          "output_type": "stream",
          "name": "stdout",
          "text": [
            "Сохранен и добавлен в архив: compound_935_c1.json\n",
            "Ошибка при получении данных для формулы LaFeO3: 404\n"
          ]
        },
        {
          "output_type": "stream",
          "name": "stderr",
          "text": [
            "\rProcessing compounds:  70%|███████   | 1506/2143 [10:35<04:30,  2.36it/s]"
          ]
        },
        {
          "output_type": "stream",
          "name": "stdout",
          "text": [
            "Сохранен и добавлен в архив: compound_935_c1.json\n",
            "Ошибка при получении данных для формулы LaFeO3: 404\n"
          ]
        },
        {
          "output_type": "stream",
          "name": "stderr",
          "text": [
            "\rProcessing compounds:  70%|███████   | 1507/2143 [10:36<04:27,  2.38it/s]"
          ]
        },
        {
          "output_type": "stream",
          "name": "stdout",
          "text": [
            "Сохранен и добавлен в архив: compound_935_c1.json\n",
            "Ошибка при получении данных для формулы LaFeO3: 404\n"
          ]
        },
        {
          "output_type": "stream",
          "name": "stderr",
          "text": [
            "\rProcessing compounds:  70%|███████   | 1508/2143 [10:36<04:21,  2.43it/s]"
          ]
        },
        {
          "output_type": "stream",
          "name": "stdout",
          "text": [
            "Ошибка при получении данных для формулы BiFe0.5Sc0.5O3: 404\n",
            "Ошибка при получении данных для формулы BiFe0.5Sc0.5O3: 404\n"
          ]
        },
        {
          "output_type": "stream",
          "name": "stderr",
          "text": [
            "\rProcessing compounds:  70%|███████   | 1509/2143 [10:37<04:18,  2.45it/s]"
          ]
        },
        {
          "output_type": "stream",
          "name": "stdout",
          "text": [
            "Ошибка при получении данных для формулы BiFe0.5Sc0.5O3: 404\n",
            "Ошибка при получении данных для формулы BiFe0.5Sc0.5O3: 404\n",
            "Ошибка при получении данных для формулы BiFe0.5Sc0.5O3: 404\n"
          ]
        },
        {
          "output_type": "stream",
          "name": "stderr",
          "text": [
            "\rProcessing compounds:  70%|███████   | 1510/2143 [10:37<04:17,  2.46it/s]"
          ]
        },
        {
          "output_type": "stream",
          "name": "stdout",
          "text": [
            "Ошибка при получении данных для формулы BiFe0.5Sc0.5O3: 404\n",
            "Ошибка при получении данных для формулы BiFe0.5Sc0.5O3: 404\n"
          ]
        },
        {
          "output_type": "stream",
          "name": "stderr",
          "text": [
            "\rProcessing compounds:  71%|███████   | 1511/2143 [10:37<04:14,  2.48it/s]"
          ]
        },
        {
          "output_type": "stream",
          "name": "stdout",
          "text": [
            "Ошибка при получении данных для формулы BiFe0.5Sc0.5O3: 404\n",
            "Ошибка при получении данных для формулы BiFe0.5Sc0.5O3: 404\n"
          ]
        },
        {
          "output_type": "stream",
          "name": "stderr",
          "text": [
            "\rProcessing compounds:  71%|███████   | 1512/2143 [10:38<04:13,  2.49it/s]"
          ]
        },
        {
          "output_type": "stream",
          "name": "stdout",
          "text": [
            "Ошибка при получении данных для формулы BiFe0.5Sc0.5O3: 404\n",
            "Ошибка при получении данных для формулы BiFe0.5Sc0.5O3: 404\n"
          ]
        },
        {
          "output_type": "stream",
          "name": "stderr",
          "text": [
            "\rProcessing compounds:  71%|███████   | 1513/2143 [10:38<04:12,  2.50it/s]"
          ]
        },
        {
          "output_type": "stream",
          "name": "stdout",
          "text": [
            "Ошибка при получении данных для формулы BiFe0.5Sc0.5O3: 404\n",
            "Ошибка при получении данных для формулы BiFe0.5Sc0.5O3: 404\n"
          ]
        },
        {
          "output_type": "stream",
          "name": "stderr",
          "text": [
            "\rProcessing compounds:  71%|███████   | 1514/2143 [10:39<04:10,  2.51it/s]"
          ]
        },
        {
          "output_type": "stream",
          "name": "stdout",
          "text": [
            "Ошибка при получении данных для формулы BiFe0.5Sc0.5O3: 404\n",
            "Сохранен и добавлен в архив: compound_16211978_c1.json\n"
          ]
        },
        {
          "output_type": "stream",
          "name": "stderr",
          "text": [
            "\rProcessing compounds:  71%|███████   | 1515/2143 [10:39<04:09,  2.51it/s]"
          ]
        },
        {
          "output_type": "stream",
          "name": "stdout",
          "text": [
            "Ошибка при получении данных для формулы 0: 404\n"
          ]
        },
        {
          "output_type": "stream",
          "name": "stderr",
          "text": [
            "\rProcessing compounds:  71%|███████   | 1516/2143 [10:39<04:09,  2.51it/s]"
          ]
        },
        {
          "output_type": "stream",
          "name": "stdout",
          "text": [
            "Сохранен и добавлен в архив: compound_16211978_c1.json\n",
            "Ошибка при получении данных для формулы 0: 404\n"
          ]
        },
        {
          "output_type": "stream",
          "name": "stderr",
          "text": [
            "\rProcessing compounds:  71%|███████   | 1517/2143 [10:40<04:09,  2.51it/s]"
          ]
        },
        {
          "output_type": "stream",
          "name": "stdout",
          "text": [
            "Сохранен и добавлен в архив: compound_16211978_c1.json\n",
            "Ошибка при получении данных для формулы 0: 404\n",
            "Сохранен и добавлен в архив: compound_16211978_c1.json\n"
          ]
        },
        {
          "output_type": "stream",
          "name": "stderr",
          "text": [
            "\rProcessing compounds:  71%|███████   | 1518/2143 [10:40<04:09,  2.50it/s]"
          ]
        },
        {
          "output_type": "stream",
          "name": "stdout",
          "text": [
            "Ошибка при получении данных для формулы 0: 404\n",
            "Сохранен и добавлен в архив: compound_16211978_c1.json\n"
          ]
        },
        {
          "output_type": "stream",
          "name": "stderr",
          "text": [
            "\rProcessing compounds:  71%|███████   | 1519/2143 [10:41<04:10,  2.49it/s]"
          ]
        },
        {
          "output_type": "stream",
          "name": "stdout",
          "text": [
            "Ошибка при получении данных для формулы 0: 404\n",
            "Сохранен и добавлен в архив: compound_16211978_c1.json\n"
          ]
        },
        {
          "output_type": "stream",
          "name": "stderr",
          "text": [
            "\rProcessing compounds:  71%|███████   | 1520/2143 [10:41<04:09,  2.50it/s]"
          ]
        },
        {
          "output_type": "stream",
          "name": "stdout",
          "text": [
            "Ошибка при получении данных для формулы 0: 404\n"
          ]
        },
        {
          "output_type": "stream",
          "name": "stderr",
          "text": [
            "\rProcessing compounds:  71%|███████   | 1521/2143 [10:41<04:09,  2.49it/s]"
          ]
        },
        {
          "output_type": "stream",
          "name": "stdout",
          "text": [
            "Сохранен и добавлен в архив: compound_16211978_c1.json\n",
            "Ошибка при получении данных для формулы 0: 404\n"
          ]
        },
        {
          "output_type": "stream",
          "name": "stderr",
          "text": [
            "\rProcessing compounds:  71%|███████   | 1522/2143 [10:42<04:11,  2.47it/s]"
          ]
        },
        {
          "output_type": "stream",
          "name": "stdout",
          "text": [
            "Сохранен и добавлен в архив: compound_935_c1.json\n",
            "Сохранен и добавлен в архив: compound_24261_c2.json\n"
          ]
        },
        {
          "output_type": "stream",
          "name": "stderr",
          "text": [
            "\rProcessing compounds:  71%|███████   | 1523/2143 [10:42<04:13,  2.45it/s]"
          ]
        },
        {
          "output_type": "stream",
          "name": "stdout",
          "text": [
            "Сохранен и добавлен в архив: compound_935_c1.json\n",
            "Сохранен и добавлен в архив: compound_24261_c2.json\n",
            "Сохранен и добавлен в архив: compound_935_c1.json\n"
          ]
        },
        {
          "output_type": "stream",
          "name": "stderr",
          "text": [
            "\rProcessing compounds:  71%|███████   | 1524/2143 [10:43<04:15,  2.42it/s]"
          ]
        },
        {
          "output_type": "stream",
          "name": "stdout",
          "text": [
            "Сохранен и добавлен в архив: compound_24261_c2.json\n",
            "Сохранен и добавлен в архив: compound_935_c1.json\n"
          ]
        },
        {
          "output_type": "stream",
          "name": "stderr",
          "text": [
            "\rProcessing compounds:  71%|███████   | 1525/2143 [10:43<04:20,  2.38it/s]"
          ]
        },
        {
          "output_type": "stream",
          "name": "stdout",
          "text": [
            "Сохранен и добавлен в архив: compound_24261_c2.json\n",
            "Сохранен и добавлен в архив: compound_935_c1.json\n"
          ]
        },
        {
          "output_type": "stream",
          "name": "stderr",
          "text": [
            "\rProcessing compounds:  71%|███████   | 1526/2143 [10:43<04:20,  2.37it/s]"
          ]
        },
        {
          "output_type": "stream",
          "name": "stdout",
          "text": [
            "Сохранен и добавлен в архив: compound_938_c2.json\n",
            "Сохранен и добавлен в архив: compound_935_c1.json\n"
          ]
        },
        {
          "output_type": "stream",
          "name": "stderr",
          "text": [
            "\rProcessing compounds:  71%|███████▏  | 1527/2143 [10:44<04:19,  2.38it/s]"
          ]
        },
        {
          "output_type": "stream",
          "name": "stdout",
          "text": [
            "Сохранен и добавлен в архив: compound_938_c2.json\n"
          ]
        },
        {
          "output_type": "stream",
          "name": "stderr",
          "text": [
            "\rProcessing compounds:  71%|███████▏  | 1528/2143 [10:44<04:15,  2.41it/s]"
          ]
        },
        {
          "output_type": "stream",
          "name": "stdout",
          "text": [
            "Сохранен и добавлен в архив: compound_16211978_c1.json\n",
            "Ошибка при получении данных для формулы Fe2O3: 404\n"
          ]
        },
        {
          "output_type": "stream",
          "name": "stderr",
          "text": [
            "\rProcessing compounds:  71%|███████▏  | 1529/2143 [10:45<04:12,  2.43it/s]"
          ]
        },
        {
          "output_type": "stream",
          "name": "stdout",
          "text": [
            "Сохранен и добавлен в архив: compound_16211978_c1.json\n",
            "Ошибка при получении данных для формулы Fe2O3: 404\n"
          ]
        },
        {
          "output_type": "stream",
          "name": "stderr",
          "text": [
            "\rProcessing compounds:  71%|███████▏  | 1530/2143 [10:45<04:09,  2.45it/s]"
          ]
        },
        {
          "output_type": "stream",
          "name": "stdout",
          "text": [
            "Сохранен и добавлен в архив: compound_16211978_c1.json\n",
            "Ошибка при получении данных для формулы Fe2O3: 404\n",
            "Сохранен и добавлен в архив: compound_16211978_c1.json\n"
          ]
        },
        {
          "output_type": "stream",
          "name": "stderr",
          "text": [
            "\rProcessing compounds:  71%|███████▏  | 1531/2143 [10:45<04:10,  2.44it/s]"
          ]
        },
        {
          "output_type": "stream",
          "name": "stdout",
          "text": [
            "Ошибка при получении данных для формулы Fe2O3: 404\n"
          ]
        },
        {
          "output_type": "stream",
          "name": "stderr",
          "text": [
            "\rProcessing compounds:  71%|███████▏  | 1532/2143 [10:46<04:12,  2.42it/s]"
          ]
        },
        {
          "output_type": "stream",
          "name": "stdout",
          "text": [
            "Ошибка при получении данных для формулы SmMnO3: 404\n",
            "Ошибка при получении данных для формулы Mn2O3: 404\n",
            "Ошибка при получении данных для формулы SmMnO3: 404\n"
          ]
        },
        {
          "output_type": "stream",
          "name": "stderr",
          "text": [
            "\rProcessing compounds:  72%|███████▏  | 1533/2143 [10:46<04:12,  2.41it/s]"
          ]
        },
        {
          "output_type": "stream",
          "name": "stdout",
          "text": [
            "Ошибка при получении данных для формулы Mn2O3: 404\n",
            "Ошибка при получении данных для формулы SmMnO3: 404\n"
          ]
        },
        {
          "output_type": "stream",
          "name": "stderr",
          "text": [
            "\rProcessing compounds:  72%|███████▏  | 1534/2143 [10:47<04:08,  2.45it/s]"
          ]
        },
        {
          "output_type": "stream",
          "name": "stdout",
          "text": [
            "Ошибка при получении данных для формулы Mn2O3: 404\n",
            "Ошибка при получении данных для формулы SmMnO3: 404\n"
          ]
        },
        {
          "output_type": "stream",
          "name": "stderr",
          "text": [
            "\rProcessing compounds:  72%|███████▏  | 1535/2143 [10:47<04:06,  2.47it/s]"
          ]
        },
        {
          "output_type": "stream",
          "name": "stdout",
          "text": [
            "Ошибка при получении данных для формулы Mn2O3: 404\n"
          ]
        },
        {
          "output_type": "stream",
          "name": "stderr",
          "text": [
            "\rProcessing compounds:  72%|███████▏  | 1536/2143 [10:48<04:04,  2.48it/s]"
          ]
        },
        {
          "output_type": "stream",
          "name": "stdout",
          "text": [
            "Ошибка при получении данных для формулы SmMnO3: 404\n",
            "Ошибка при получении данных для формулы Mn2O3: 404\n"
          ]
        },
        {
          "output_type": "stream",
          "name": "stderr",
          "text": [
            "\rProcessing compounds:  72%|███████▏  | 1537/2143 [10:48<04:02,  2.49it/s]"
          ]
        },
        {
          "output_type": "stream",
          "name": "stdout",
          "text": [
            "Ошибка при получении данных для формулы SmMnO3: 404\n",
            "Ошибка при получении данных для формулы Mn2O3: 404\n"
          ]
        },
        {
          "output_type": "stream",
          "name": "stderr",
          "text": [
            "\rProcessing compounds:  72%|███████▏  | 1538/2143 [10:48<04:24,  2.29it/s]"
          ]
        },
        {
          "output_type": "stream",
          "name": "stdout",
          "text": [
            "Ошибка при получении данных для формулы SmMnO3: 404\n",
            "Ошибка при получении данных для формулы Mn2O3: 404\n"
          ]
        },
        {
          "output_type": "stream",
          "name": "stderr",
          "text": [
            "\rProcessing compounds:  72%|███████▏  | 1539/2143 [10:49<04:18,  2.33it/s]"
          ]
        },
        {
          "output_type": "stream",
          "name": "stdout",
          "text": [
            "Ошибка при получении данных для формулы SmMnO3: 404\n",
            "Ошибка при получении данных для формулы Mn2O3: 404\n"
          ]
        },
        {
          "output_type": "stream",
          "name": "stderr",
          "text": [
            "\rProcessing compounds:  72%|███████▏  | 1540/2143 [10:49<04:12,  2.38it/s]"
          ]
        },
        {
          "output_type": "stream",
          "name": "stdout",
          "text": [
            "Ошибка при получении данных для формулы SmMnO3: 404\n",
            "Ошибка при получении данных для формулы Mn2O3: 404\n",
            "Ошибка при получении данных для формулы SmMnO3: 404\n"
          ]
        },
        {
          "output_type": "stream",
          "name": "stderr",
          "text": [
            "\rProcessing compounds:  72%|███████▏  | 1541/2143 [10:50<04:14,  2.37it/s]"
          ]
        },
        {
          "output_type": "stream",
          "name": "stdout",
          "text": [
            "Ошибка при получении данных для формулы Mn2O3: 404\n",
            "Ошибка при получении данных для формулы SmMnO3: 404\n"
          ]
        },
        {
          "output_type": "stream",
          "name": "stderr",
          "text": [
            "\rProcessing compounds:  72%|███████▏  | 1542/2143 [10:50<04:08,  2.42it/s]"
          ]
        },
        {
          "output_type": "stream",
          "name": "stdout",
          "text": [
            "Ошибка при получении данных для формулы Mn2O3: 404\n",
            "Ошибка при получении данных для формулы SmMnO3: 404\n"
          ]
        },
        {
          "output_type": "stream",
          "name": "stderr",
          "text": [
            "\rProcessing compounds:  72%|███████▏  | 1543/2143 [10:50<04:05,  2.45it/s]"
          ]
        },
        {
          "output_type": "stream",
          "name": "stdout",
          "text": [
            "Ошибка при получении данных для формулы Mn2O3: 404\n",
            "Ошибка при получении данных для формулы SmMnO3: 404\n"
          ]
        },
        {
          "output_type": "stream",
          "name": "stderr",
          "text": [
            "\rProcessing compounds:  72%|███████▏  | 1544/2143 [10:51<04:02,  2.47it/s]"
          ]
        },
        {
          "output_type": "stream",
          "name": "stdout",
          "text": [
            "Ошибка при получении данных для формулы Mn2O3: 404\n"
          ]
        },
        {
          "output_type": "stream",
          "name": "stderr",
          "text": [
            "\rProcessing compounds:  72%|███████▏  | 1545/2143 [10:51<04:00,  2.48it/s]"
          ]
        },
        {
          "output_type": "stream",
          "name": "stdout",
          "text": [
            "Ошибка при получении данных для формулы SmMnO3: 404\n",
            "Ошибка при получении данных для формулы Mn2O3: 404\n"
          ]
        },
        {
          "output_type": "stream",
          "name": "stderr",
          "text": [
            "\rProcessing compounds:  72%|███████▏  | 1546/2143 [10:52<03:58,  2.50it/s]"
          ]
        },
        {
          "output_type": "stream",
          "name": "stdout",
          "text": [
            "Ошибка при получении данных для формулы SmMnO3: 404\n",
            "Ошибка при получении данных для формулы Mn2O3: 404\n"
          ]
        },
        {
          "output_type": "stream",
          "name": "stderr",
          "text": [
            "\rProcessing compounds:  72%|███████▏  | 1547/2143 [10:52<03:58,  2.50it/s]"
          ]
        },
        {
          "output_type": "stream",
          "name": "stdout",
          "text": [
            "Ошибка при получении данных для формулы SmMnO3: 404\n",
            "Ошибка при получении данных для формулы Mn2O3: 404\n"
          ]
        },
        {
          "output_type": "stream",
          "name": "stderr",
          "text": [
            "\rProcessing compounds:  72%|███████▏  | 1548/2143 [10:52<03:57,  2.51it/s]"
          ]
        },
        {
          "output_type": "stream",
          "name": "stdout",
          "text": [
            "Ошибка при получении данных для формулы SmMnO3: 404\n",
            "Ошибка при получении данных для формулы Mn2O3: 404\n"
          ]
        },
        {
          "output_type": "stream",
          "name": "stderr",
          "text": [
            "\rProcessing compounds:  72%|███████▏  | 1549/2143 [10:53<03:57,  2.50it/s]"
          ]
        },
        {
          "output_type": "stream",
          "name": "stdout",
          "text": [
            "Ошибка при получении данных для формулы SmMnO3: 404\n",
            "Ошибка при получении данных для формулы Mn2O3: 404\n"
          ]
        },
        {
          "output_type": "stream",
          "name": "stderr",
          "text": [
            "\rProcessing compounds:  72%|███████▏  | 1550/2143 [10:53<03:56,  2.51it/s]"
          ]
        },
        {
          "output_type": "stream",
          "name": "stdout",
          "text": [
            "Ошибка при получении данных для формулы SmMnO3: 404\n",
            "Ошибка при получении данных для формулы Mn2O3: 404\n",
            "Ошибка при получении данных для формулы SmMnO3: 404\n"
          ]
        },
        {
          "output_type": "stream",
          "name": "stderr",
          "text": [
            "\rProcessing compounds:  72%|███████▏  | 1551/2143 [10:54<04:00,  2.46it/s]"
          ]
        },
        {
          "output_type": "stream",
          "name": "stdout",
          "text": [
            "Ошибка при получении данных для формулы Mn2O3: 404\n",
            "Ошибка при получении данных для формулы SmMnO3: 404\n"
          ]
        },
        {
          "output_type": "stream",
          "name": "stderr",
          "text": [
            "\rProcessing compounds:  72%|███████▏  | 1552/2143 [10:54<03:57,  2.48it/s]"
          ]
        },
        {
          "output_type": "stream",
          "name": "stdout",
          "text": [
            "Ошибка при получении данных для формулы Mn2O3: 404\n",
            "Ошибка при получении данных для формулы SmMnO3: 404\n"
          ]
        },
        {
          "output_type": "stream",
          "name": "stderr",
          "text": [
            "\rProcessing compounds:  72%|███████▏  | 1553/2143 [10:54<03:56,  2.50it/s]"
          ]
        },
        {
          "output_type": "stream",
          "name": "stdout",
          "text": [
            "Ошибка при получении данных для формулы Mn2O3: 404\n",
            "Ошибка при получении данных для формулы NiEr0.06Fe0.14O4: 404\n"
          ]
        },
        {
          "output_type": "stream",
          "name": "stderr",
          "text": [
            "\rProcessing compounds:  73%|███████▎  | 1554/2143 [10:55<03:59,  2.46it/s]"
          ]
        },
        {
          "output_type": "stream",
          "name": "stdout",
          "text": [
            "Ошибка при получении данных для формулы 0: 404\n"
          ]
        },
        {
          "output_type": "stream",
          "name": "stderr",
          "text": [
            "\rProcessing compounds:  73%|███████▎  | 1555/2143 [10:55<03:58,  2.47it/s]"
          ]
        },
        {
          "output_type": "stream",
          "name": "stdout",
          "text": [
            "Ошибка при получении данных для формулы NiEr0.12Fe0.08O4: 404\n",
            "Ошибка при получении данных для формулы 0: 404\n"
          ]
        },
        {
          "output_type": "stream",
          "name": "stderr",
          "text": [
            "\rProcessing compounds:  73%|███████▎  | 1556/2143 [10:56<03:58,  2.46it/s]"
          ]
        },
        {
          "output_type": "stream",
          "name": "stdout",
          "text": [
            "Ошибка при получении данных для формулы NiEr0.18Fe0.02O4: 404\n",
            "Ошибка при получении данных для формулы 0: 404\n",
            "Сохранен и добавлен в архив: compound_938_c1.json\n"
          ]
        },
        {
          "output_type": "stream",
          "name": "stderr",
          "text": [
            "\rProcessing compounds:  73%|███████▎  | 1557/2143 [10:56<04:01,  2.43it/s]"
          ]
        },
        {
          "output_type": "stream",
          "name": "stdout",
          "text": [
            "Сохранен и добавлен в архив: compound_122164822_c2.json\n",
            "Сохранен и добавлен в архив: compound_938_c1.json\n"
          ]
        },
        {
          "output_type": "stream",
          "name": "stderr",
          "text": [
            "\rProcessing compounds:  73%|███████▎  | 1558/2143 [10:57<04:00,  2.44it/s]"
          ]
        },
        {
          "output_type": "stream",
          "name": "stdout",
          "text": [
            "Сохранен и добавлен в архив: compound_122164822_c2.json\n"
          ]
        },
        {
          "output_type": "stream",
          "name": "stderr",
          "text": [
            "\rProcessing compounds:  73%|███████▎  | 1559/2143 [10:57<03:58,  2.45it/s]"
          ]
        },
        {
          "output_type": "stream",
          "name": "stdout",
          "text": [
            "Сохранен и добавлен в архив: compound_938_c1.json\n",
            "Сохранен и добавлен в архив: compound_122164822_c2.json\n"
          ]
        },
        {
          "output_type": "stream",
          "name": "stderr",
          "text": [
            "\rProcessing compounds:  73%|███████▎  | 1560/2143 [10:57<03:56,  2.46it/s]"
          ]
        },
        {
          "output_type": "stream",
          "name": "stdout",
          "text": [
            "Сохранен и добавлен в архив: compound_938_c1.json\n",
            "Сохранен и добавлен в архив: compound_122164822_c2.json\n",
            "Сохранен и добавлен в архив: compound_938_c1.json\n"
          ]
        },
        {
          "output_type": "stream",
          "name": "stderr",
          "text": [
            "\rProcessing compounds:  73%|███████▎  | 1561/2143 [10:58<04:07,  2.35it/s]"
          ]
        },
        {
          "output_type": "stream",
          "name": "stdout",
          "text": [
            "Сохранен и добавлен в архив: compound_122164822_c2.json\n"
          ]
        },
        {
          "output_type": "stream",
          "name": "stderr",
          "text": [
            "\rProcessing compounds:  73%|███████▎  | 1562/2143 [10:58<04:03,  2.39it/s]"
          ]
        },
        {
          "output_type": "stream",
          "name": "stdout",
          "text": [
            "Сохранен и добавлен в архив: compound_938_c1.json\n",
            "Сохранен и добавлен в архив: compound_122164822_c2.json\n"
          ]
        },
        {
          "output_type": "stream",
          "name": "stderr",
          "text": [
            "\rProcessing compounds:  73%|███████▎  | 1563/2143 [10:59<03:58,  2.43it/s]"
          ]
        },
        {
          "output_type": "stream",
          "name": "stdout",
          "text": [
            "Ошибка при получении данных для формулы BiFeO3: 404\n",
            "Ошибка при получении данных для формулы 0: 404\n"
          ]
        },
        {
          "output_type": "stream",
          "name": "stderr",
          "text": [
            "\rProcessing compounds:  73%|███████▎  | 1564/2143 [10:59<03:55,  2.45it/s]"
          ]
        },
        {
          "output_type": "stream",
          "name": "stdout",
          "text": [
            "Ошибка при получении данных для формулы BiFeO3: 404\n",
            "Ошибка при получении данных для формулы 0: 404\n"
          ]
        },
        {
          "output_type": "stream",
          "name": "stderr",
          "text": [
            "\rProcessing compounds:  73%|███████▎  | 1565/2143 [10:59<03:55,  2.46it/s]"
          ]
        },
        {
          "output_type": "stream",
          "name": "stdout",
          "text": [
            "Ошибка при получении данных для формулы BiFeO3: 404\n",
            "Ошибка при получении данных для формулы 0: 404\n"
          ]
        },
        {
          "output_type": "stream",
          "name": "stderr",
          "text": [
            "\rProcessing compounds:  73%|███████▎  | 1566/2143 [11:00<03:52,  2.48it/s]"
          ]
        },
        {
          "output_type": "stream",
          "name": "stdout",
          "text": [
            "Ошибка при получении данных для формулы BiFeO3: 404\n",
            "Ошибка при получении данных для формулы 0: 404\n",
            "Ошибка при получении данных для формулы BiFeO3: 404\n"
          ]
        },
        {
          "output_type": "stream",
          "name": "stderr",
          "text": [
            "\rProcessing compounds:  73%|███████▎  | 1567/2143 [11:00<03:54,  2.45it/s]"
          ]
        },
        {
          "output_type": "stream",
          "name": "stdout",
          "text": [
            "Ошибка при получении данных для формулы 0: 404\n",
            "Ошибка при получении данных для формулы BiFeO3: 404\n"
          ]
        },
        {
          "output_type": "stream",
          "name": "stderr",
          "text": [
            "\rProcessing compounds:  73%|███████▎  | 1568/2143 [11:01<04:05,  2.35it/s]"
          ]
        },
        {
          "output_type": "stream",
          "name": "stdout",
          "text": [
            "Ошибка при получении данных для формулы 0: 404\n"
          ]
        },
        {
          "output_type": "stream",
          "name": "stderr",
          "text": [
            "\rProcessing compounds:  73%|███████▎  | 1569/2143 [11:01<04:02,  2.37it/s]"
          ]
        },
        {
          "output_type": "stream",
          "name": "stdout",
          "text": [
            "Ошибка при получении данных для формулы BiFeO3: 404\n",
            "Ошибка при получении данных для формулы 0: 404\n"
          ]
        },
        {
          "output_type": "stream",
          "name": "stderr",
          "text": [
            "\rProcessing compounds:  73%|███████▎  | 1570/2143 [11:01<03:56,  2.42it/s]"
          ]
        },
        {
          "output_type": "stream",
          "name": "stdout",
          "text": [
            "Ошибка при получении данных для формулы BiFeO3: 404\n",
            "Ошибка при получении данных для формулы 0: 404\n"
          ]
        },
        {
          "output_type": "stream",
          "name": "stderr",
          "text": [
            "\rProcessing compounds:  73%|███████▎  | 1571/2143 [11:02<03:53,  2.45it/s]"
          ]
        },
        {
          "output_type": "stream",
          "name": "stdout",
          "text": [
            "Сохранен и добавлен в архив: compound_16211978_c1.json\n",
            "Ошибка при получении данных для формулы CoFe2O4: 404\n"
          ]
        },
        {
          "output_type": "stream",
          "name": "stderr",
          "text": [
            "\rProcessing compounds:  73%|███████▎  | 1572/2143 [11:02<03:51,  2.47it/s]"
          ]
        },
        {
          "output_type": "stream",
          "name": "stdout",
          "text": [
            "Ошибка при получении данных для формулы CoFe2O4: 404\n",
            "Ошибка при получении данных для формулы 0: 404\n"
          ]
        },
        {
          "output_type": "stream",
          "name": "stderr",
          "text": [
            "\rProcessing compounds:  73%|███████▎  | 1573/2143 [11:03<03:54,  2.43it/s]"
          ]
        },
        {
          "output_type": "stream",
          "name": "stdout",
          "text": [
            "Сохранен и добавлен в архив: compound_14786_c1.json\n",
            "Ошибка при получении данных для формулы 0: 404\n"
          ]
        },
        {
          "output_type": "stream",
          "name": "stderr",
          "text": [
            "\rProcessing compounds:  73%|███████▎  | 1574/2143 [11:03<03:52,  2.45it/s]"
          ]
        },
        {
          "output_type": "stream",
          "name": "stdout",
          "text": [
            "Сохранен и добавлен в архив: compound_14786_c1.json\n",
            "Ошибка при получении данных для формулы 0: 404\n",
            "Сохранен и добавлен в архив: compound_14786_c1.json\n"
          ]
        },
        {
          "output_type": "stream",
          "name": "stderr",
          "text": [
            "\rProcessing compounds:  73%|███████▎  | 1575/2143 [11:04<03:51,  2.45it/s]"
          ]
        },
        {
          "output_type": "stream",
          "name": "stdout",
          "text": [
            "Ошибка при получении данных для формулы MnFe2O4: 404\n",
            "Сохранен и добавлен в архив: compound_14786_c1.json\n"
          ]
        },
        {
          "output_type": "stream",
          "name": "stderr",
          "text": [
            "\rProcessing compounds:  74%|███████▎  | 1576/2143 [11:04<04:05,  2.31it/s]"
          ]
        },
        {
          "output_type": "stream",
          "name": "stdout",
          "text": [
            "Ошибка при получении данных для формулы MnFe2O4: 404\n"
          ]
        },
        {
          "output_type": "stream",
          "name": "stderr",
          "text": [
            "\rProcessing compounds:  74%|███████▎  | 1577/2143 [11:04<03:59,  2.37it/s]"
          ]
        },
        {
          "output_type": "stream",
          "name": "stdout",
          "text": [
            "Сохранен и добавлен в архив: compound_14786_c1.json\n",
            "Ошибка при получении данных для формулы CoFe2O4: 404\n"
          ]
        },
        {
          "output_type": "stream",
          "name": "stderr",
          "text": [
            "\rProcessing compounds:  74%|███████▎  | 1578/2143 [11:05<03:54,  2.41it/s]"
          ]
        },
        {
          "output_type": "stream",
          "name": "stdout",
          "text": [
            "Сохранен и добавлен в архив: compound_14786_c1.json\n",
            "Ошибка при получении данных для формулы CoFe2O4: 404\n"
          ]
        },
        {
          "output_type": "stream",
          "name": "stderr",
          "text": [
            "\rProcessing compounds:  74%|███████▎  | 1579/2143 [11:05<03:51,  2.44it/s]"
          ]
        },
        {
          "output_type": "stream",
          "name": "stdout",
          "text": [
            "Сохранен и добавлен в архив: compound_14786_c1.json\n",
            "Ошибка при получении данных для формулы 0: 404\n"
          ]
        },
        {
          "output_type": "stream",
          "name": "stderr",
          "text": [
            "\rProcessing compounds:  74%|███████▎  | 1580/2143 [11:06<03:48,  2.46it/s]"
          ]
        },
        {
          "output_type": "stream",
          "name": "stdout",
          "text": [
            "Сохранен и добавлен в архив: compound_14786_c1.json\n",
            "Ошибка при получении данных для формулы MnFe2O4: 404\n"
          ]
        },
        {
          "output_type": "stream",
          "name": "stderr",
          "text": [
            "\rProcessing compounds:  74%|███████▍  | 1581/2143 [11:06<03:46,  2.48it/s]"
          ]
        },
        {
          "output_type": "stream",
          "name": "stdout",
          "text": [
            "Сохранен и добавлен в архив: compound_14786_c1.json\n",
            "Ошибка при получении данных для формулы CoFe2O4: 404\n"
          ]
        },
        {
          "output_type": "stream",
          "name": "stderr",
          "text": [
            "\rProcessing compounds:  74%|███████▍  | 1582/2143 [11:06<03:45,  2.49it/s]"
          ]
        },
        {
          "output_type": "stream",
          "name": "stdout",
          "text": [
            "Сохранен и добавлен в архив: compound_938_c1.json\n",
            "Ошибка при получении данных для формулы 0: 404\n",
            "Сохранен и добавлен в архив: compound_23982_c1.json\n"
          ]
        },
        {
          "output_type": "stream",
          "name": "stderr",
          "text": [
            "\rProcessing compounds:  74%|███████▍  | 1583/2143 [11:07<03:53,  2.40it/s]"
          ]
        },
        {
          "output_type": "stream",
          "name": "stdout",
          "text": [
            "Сохранен и добавлен в архив: compound_938_c2.json\n"
          ]
        },
        {
          "output_type": "stream",
          "name": "stderr",
          "text": [
            "\rProcessing compounds:  74%|███████▍  | 1584/2143 [11:07<03:50,  2.42it/s]"
          ]
        },
        {
          "output_type": "stream",
          "name": "stdout",
          "text": [
            "Сохранен и добавлен в архив: compound_938_c1.json\n",
            "Ошибка при получении данных для формулы 0: 404\n"
          ]
        },
        {
          "output_type": "stream",
          "name": "stderr",
          "text": [
            "\rProcessing compounds:  74%|███████▍  | 1585/2143 [11:08<03:50,  2.42it/s]"
          ]
        },
        {
          "output_type": "stream",
          "name": "stdout",
          "text": [
            "Ошибка при получении данных для формулы Ni0.99Zn0.01O: 404\n",
            "Ошибка при получении данных для формулы 0: 404\n",
            "Ошибка при получении данных для формулы Ni0.97Zn0.03O: 404\n"
          ]
        },
        {
          "output_type": "stream",
          "name": "stderr",
          "text": [
            "\rProcessing compounds:  74%|███████▍  | 1586/2143 [11:08<03:57,  2.34it/s]"
          ]
        },
        {
          "output_type": "stream",
          "name": "stdout",
          "text": [
            "Ошибка при получении данных для формулы 0: 404\n"
          ]
        },
        {
          "output_type": "stream",
          "name": "stderr",
          "text": [
            "\rProcessing compounds:  74%|███████▍  | 1587/2143 [11:09<03:53,  2.38it/s]"
          ]
        },
        {
          "output_type": "stream",
          "name": "stdout",
          "text": [
            "Ошибка при получении данных для формулы Ni0.95Zn0.05O: 404\n",
            "Ошибка при получении данных для формулы 0: 404\n",
            "Сохранен и добавлен в архив: compound_938_c1.json\n"
          ]
        },
        {
          "output_type": "stream",
          "name": "stderr",
          "text": [
            "\rProcessing compounds:  74%|███████▍  | 1588/2143 [11:09<04:09,  2.22it/s]"
          ]
        },
        {
          "output_type": "stream",
          "name": "stdout",
          "text": [
            "Ошибка при получении данных для формулы 0: 404\n"
          ]
        },
        {
          "output_type": "stream",
          "name": "stderr",
          "text": [
            "\rProcessing compounds:  74%|███████▍  | 1589/2143 [11:09<04:01,  2.30it/s]"
          ]
        },
        {
          "output_type": "stream",
          "name": "stdout",
          "text": [
            "Ошибка при получении данных для формулы Ni0.99Zn0.01O: 404\n",
            "Ошибка при получении данных для формулы 0: 404\n"
          ]
        },
        {
          "output_type": "stream",
          "name": "stderr",
          "text": [
            "\rProcessing compounds:  74%|███████▍  | 1590/2143 [11:10<03:55,  2.35it/s]"
          ]
        },
        {
          "output_type": "stream",
          "name": "stdout",
          "text": [
            "Ошибка при получении данных для формулы Ni0.97Zn0.03O: 404\n",
            "Ошибка при получении данных для формулы 0: 404\n"
          ]
        },
        {
          "output_type": "stream",
          "name": "stderr",
          "text": [
            "\rProcessing compounds:  74%|███████▍  | 1591/2143 [11:10<03:51,  2.39it/s]"
          ]
        },
        {
          "output_type": "stream",
          "name": "stdout",
          "text": [
            "Ошибка при получении данных для формулы Ni0.95Zn0.05O: 404\n",
            "Ошибка при получении данных для формулы 0: 404\n",
            "Сохранен и добавлен в архив: compound_14786_c1.json\n"
          ]
        },
        {
          "output_type": "stream",
          "name": "stderr",
          "text": [
            "\rProcessing compounds:  74%|███████▍  | 1592/2143 [11:11<03:52,  2.37it/s]"
          ]
        },
        {
          "output_type": "stream",
          "name": "stdout",
          "text": [
            "Сохранен и добавлен в архив: compound_16211978_c2.json\n"
          ]
        },
        {
          "output_type": "stream",
          "name": "stderr",
          "text": [
            "\rProcessing compounds:  74%|███████▍  | 1593/2143 [11:11<03:48,  2.40it/s]"
          ]
        },
        {
          "output_type": "stream",
          "name": "stdout",
          "text": [
            "Сохранен и добавлен в архив: compound_14786_c1.json\n",
            "Сохранен и добавлен в архив: compound_16211978_c2.json\n"
          ]
        },
        {
          "output_type": "stream",
          "name": "stderr",
          "text": [
            "\rProcessing compounds:  74%|███████▍  | 1594/2143 [11:11<03:45,  2.43it/s]"
          ]
        },
        {
          "output_type": "stream",
          "name": "stdout",
          "text": [
            "Сохранен и добавлен в архив: compound_14786_c1.json\n",
            "Сохранен и добавлен в архив: compound_16211978_c2.json\n",
            "Сохранен и добавлен в архив: compound_14786_c1.json\n"
          ]
        },
        {
          "output_type": "stream",
          "name": "stderr",
          "text": [
            "\rProcessing compounds:  74%|███████▍  | 1595/2143 [11:12<03:44,  2.44it/s]"
          ]
        },
        {
          "output_type": "stream",
          "name": "stdout",
          "text": [
            "Сохранен и добавлен в архив: compound_16211978_c2.json\n"
          ]
        },
        {
          "output_type": "stream",
          "name": "stderr",
          "text": [
            "\rProcessing compounds:  74%|███████▍  | 1596/2143 [11:12<03:44,  2.44it/s]"
          ]
        },
        {
          "output_type": "stream",
          "name": "stdout",
          "text": [
            "Сохранен и добавлен в архив: compound_14786_c1.json\n",
            "Сохранен и добавлен в архив: compound_16211978_c2.json\n"
          ]
        },
        {
          "output_type": "stream",
          "name": "stderr",
          "text": [
            "\rProcessing compounds:  75%|███████▍  | 1597/2143 [11:13<03:42,  2.45it/s]"
          ]
        },
        {
          "output_type": "stream",
          "name": "stdout",
          "text": [
            "Сохранен и добавлен в архив: compound_14786_c1.json\n",
            "Сохранен и добавлен в архив: compound_16211978_c2.json\n"
          ]
        },
        {
          "output_type": "stream",
          "name": "stderr",
          "text": [
            "\rProcessing compounds:  75%|███████▍  | 1598/2143 [11:13<03:40,  2.47it/s]"
          ]
        },
        {
          "output_type": "stream",
          "name": "stdout",
          "text": [
            "Сохранен и добавлен в архив: compound_14786_c1.json\n",
            "Сохранен и добавлен в архив: compound_16211978_c2.json\n"
          ]
        },
        {
          "output_type": "stream",
          "name": "stderr",
          "text": [
            "\rProcessing compounds:  75%|███████▍  | 1599/2143 [11:13<03:39,  2.48it/s]"
          ]
        },
        {
          "output_type": "stream",
          "name": "stdout",
          "text": [
            "Сохранен и добавлен в архив: compound_14786_c1.json\n",
            "Сохранен и добавлен в архив: compound_16211978_c2.json\n"
          ]
        },
        {
          "output_type": "stream",
          "name": "stderr",
          "text": [
            "\rProcessing compounds:  75%|███████▍  | 1600/2143 [11:14<03:38,  2.49it/s]"
          ]
        },
        {
          "output_type": "stream",
          "name": "stdout",
          "text": [
            "Сохранен и добавлен в архив: compound_14786_c1.json\n",
            "Сохранен и добавлен в архив: compound_16211978_c2.json\n"
          ]
        },
        {
          "output_type": "stream",
          "name": "stderr",
          "text": [
            "\rProcessing compounds:  75%|███████▍  | 1601/2143 [11:14<03:37,  2.49it/s]"
          ]
        },
        {
          "output_type": "stream",
          "name": "stdout",
          "text": [
            "Сохранен и добавлен в архив: compound_14786_c1.json\n",
            "Сохранен и добавлен в архив: compound_16211978_c2.json\n"
          ]
        },
        {
          "output_type": "stream",
          "name": "stderr",
          "text": [
            "\rProcessing compounds:  75%|███████▍  | 1602/2143 [11:15<03:37,  2.49it/s]"
          ]
        },
        {
          "output_type": "stream",
          "name": "stdout",
          "text": [
            "Сохранен и добавлен в архив: compound_14786_c1.json\n",
            "Сохранен и добавлен в архив: compound_16211978_c2.json\n"
          ]
        },
        {
          "output_type": "stream",
          "name": "stderr",
          "text": [
            "\rProcessing compounds:  75%|███████▍  | 1603/2143 [11:15<03:36,  2.49it/s]"
          ]
        },
        {
          "output_type": "stream",
          "name": "stdout",
          "text": [
            "Сохранен и добавлен в архив: compound_14786_c1.json\n",
            "Сохранен и добавлен в архив: compound_16211978_c2.json\n"
          ]
        },
        {
          "output_type": "stream",
          "name": "stderr",
          "text": [
            "\rProcessing compounds:  75%|███████▍  | 1604/2143 [11:15<03:36,  2.49it/s]"
          ]
        },
        {
          "output_type": "stream",
          "name": "stdout",
          "text": [
            "Сохранен и добавлен в архив: compound_14786_c1.json\n",
            "Сохранен и добавлен в архив: compound_16211978_c2.json\n"
          ]
        },
        {
          "output_type": "stream",
          "name": "stderr",
          "text": [
            "\rProcessing compounds:  75%|███████▍  | 1605/2143 [11:16<03:35,  2.49it/s]"
          ]
        },
        {
          "output_type": "stream",
          "name": "stdout",
          "text": [
            "Сохранен и добавлен в архив: compound_14786_c1.json\n",
            "Сохранен и добавлен в архив: compound_16211978_c2.json\n"
          ]
        },
        {
          "output_type": "stream",
          "name": "stderr",
          "text": [
            "\rProcessing compounds:  75%|███████▍  | 1606/2143 [11:16<03:36,  2.49it/s]"
          ]
        },
        {
          "output_type": "stream",
          "name": "stdout",
          "text": [
            "Сохранен и добавлен в архив: compound_14786_c1.json\n",
            "Сохранен и добавлен в архив: compound_16211978_c2.json\n"
          ]
        },
        {
          "output_type": "stream",
          "name": "stderr",
          "text": [
            "\rProcessing compounds:  75%|███████▍  | 1607/2143 [11:17<03:35,  2.49it/s]"
          ]
        },
        {
          "output_type": "stream",
          "name": "stdout",
          "text": [
            "Сохранен и добавлен в архив: compound_14786_c1.json\n",
            "Сохранен и добавлен в архив: compound_16211978_c2.json\n"
          ]
        },
        {
          "output_type": "stream",
          "name": "stderr",
          "text": [
            "\rProcessing compounds:  75%|███████▌  | 1608/2143 [11:17<03:34,  2.49it/s]"
          ]
        },
        {
          "output_type": "stream",
          "name": "stdout",
          "text": [
            "Сохранен и добавлен в архив: compound_14786_c1.json\n",
            "Сохранен и добавлен в архив: compound_16211978_c2.json\n",
            "Сохранен и добавлен в архив: compound_14786_c1.json\n"
          ]
        },
        {
          "output_type": "stream",
          "name": "stderr",
          "text": [
            "\rProcessing compounds:  75%|███████▌  | 1609/2143 [11:18<03:36,  2.47it/s]"
          ]
        },
        {
          "output_type": "stream",
          "name": "stdout",
          "text": [
            "Сохранен и добавлен в архив: compound_16211978_c2.json\n"
          ]
        },
        {
          "output_type": "stream",
          "name": "stderr",
          "text": [
            "\rProcessing compounds:  75%|███████▌  | 1610/2143 [11:18<03:35,  2.47it/s]"
          ]
        },
        {
          "output_type": "stream",
          "name": "stdout",
          "text": [
            "Сохранен и добавлен в архив: compound_14786_c1.json\n",
            "Сохранен и добавлен в архив: compound_16211978_c2.json\n",
            "Сохранен и добавлен в архив: compound_14786_c1.json\n"
          ]
        },
        {
          "output_type": "stream",
          "name": "stderr",
          "text": [
            "\rProcessing compounds:  75%|███████▌  | 1611/2143 [11:18<03:40,  2.42it/s]"
          ]
        },
        {
          "output_type": "stream",
          "name": "stdout",
          "text": [
            "Сохранен и добавлен в архив: compound_16211978_c2.json\n",
            "Сохранен и добавлен в архив: compound_14786_c1.json\n"
          ]
        },
        {
          "output_type": "stream",
          "name": "stderr",
          "text": [
            "\rProcessing compounds:  75%|███████▌  | 1612/2143 [11:19<03:37,  2.44it/s]"
          ]
        },
        {
          "output_type": "stream",
          "name": "stdout",
          "text": [
            "Сохранен и добавлен в архив: compound_16211978_c2.json\n",
            "Сохранен и добавлен в архив: compound_14786_c1.json\n"
          ]
        },
        {
          "output_type": "stream",
          "name": "stderr",
          "text": [
            "\rProcessing compounds:  75%|███████▌  | 1613/2143 [11:19<03:42,  2.38it/s]"
          ]
        },
        {
          "output_type": "stream",
          "name": "stdout",
          "text": [
            "Сохранен и добавлен в архив: compound_16211978_c2.json\n",
            "Сохранен и добавлен в архив: compound_14786_c1.json\n"
          ]
        },
        {
          "output_type": "stream",
          "name": "stderr",
          "text": [
            "\rProcessing compounds:  75%|███████▌  | 1614/2143 [11:20<03:39,  2.41it/s]"
          ]
        },
        {
          "output_type": "stream",
          "name": "stdout",
          "text": [
            "Сохранен и добавлен в архив: compound_16211978_c2.json\n",
            "Сохранен и добавлен в архив: compound_14786_c1.json\n"
          ]
        },
        {
          "output_type": "stream",
          "name": "stderr",
          "text": [
            "\rProcessing compounds:  75%|███████▌  | 1615/2143 [11:20<03:37,  2.43it/s]"
          ]
        },
        {
          "output_type": "stream",
          "name": "stdout",
          "text": [
            "Сохранен и добавлен в архив: compound_16211978_c2.json\n",
            "Сохранен и добавлен в архив: compound_14786_c1.json\n"
          ]
        },
        {
          "output_type": "stream",
          "name": "stderr",
          "text": [
            "\rProcessing compounds:  75%|███████▌  | 1616/2143 [11:20<03:36,  2.44it/s]"
          ]
        },
        {
          "output_type": "stream",
          "name": "stdout",
          "text": [
            "Сохранен и добавлен в архив: compound_16211978_c2.json\n",
            "Сохранен и добавлен в архив: compound_14786_c1.json\n"
          ]
        },
        {
          "output_type": "stream",
          "name": "stderr",
          "text": [
            "\rProcessing compounds:  75%|███████▌  | 1617/2143 [11:21<03:35,  2.44it/s]"
          ]
        },
        {
          "output_type": "stream",
          "name": "stdout",
          "text": [
            "Сохранен и добавлен в архив: compound_16211978_c2.json\n",
            "Сохранен и добавлен в архив: compound_14786_c1.json\n"
          ]
        },
        {
          "output_type": "stream",
          "name": "stderr",
          "text": [
            "\rProcessing compounds:  76%|███████▌  | 1618/2143 [11:21<03:35,  2.43it/s]"
          ]
        },
        {
          "output_type": "stream",
          "name": "stdout",
          "text": [
            "Сохранен и добавлен в архив: compound_16211978_c2.json\n",
            "Сохранен и добавлен в архив: compound_14786_c1.json\n"
          ]
        },
        {
          "output_type": "stream",
          "name": "stderr",
          "text": [
            "\rProcessing compounds:  76%|███████▌  | 1619/2143 [11:22<03:33,  2.45it/s]"
          ]
        },
        {
          "output_type": "stream",
          "name": "stdout",
          "text": [
            "Сохранен и добавлен в архив: compound_16211978_c2.json\n",
            "Сохранен и добавлен в архив: compound_14786_c1.json\n"
          ]
        },
        {
          "output_type": "stream",
          "name": "stderr",
          "text": [
            "\rProcessing compounds:  76%|███████▌  | 1620/2143 [11:22<03:32,  2.46it/s]"
          ]
        },
        {
          "output_type": "stream",
          "name": "stdout",
          "text": [
            "Сохранен и добавлен в архив: compound_16211978_c2.json\n"
          ]
        },
        {
          "output_type": "stream",
          "name": "stderr",
          "text": [
            "\rProcessing compounds:  76%|███████▌  | 1621/2143 [11:22<03:31,  2.47it/s]"
          ]
        },
        {
          "output_type": "stream",
          "name": "stdout",
          "text": [
            "Сохранен и добавлен в архив: compound_14786_c1.json\n",
            "Сохранен и добавлен в архив: compound_16211978_c2.json\n",
            "Сохранен и добавлен в архив: compound_14786_c1.json\n"
          ]
        },
        {
          "output_type": "stream",
          "name": "stderr",
          "text": [
            "\rProcessing compounds:  76%|███████▌  | 1622/2143 [11:23<03:42,  2.34it/s]"
          ]
        },
        {
          "output_type": "stream",
          "name": "stdout",
          "text": [
            "Сохранен и добавлен в архив: compound_16211978_c2.json\n",
            "Сохранен и добавлен в архив: compound_14786_c1.json\n"
          ]
        },
        {
          "output_type": "stream",
          "name": "stderr",
          "text": [
            "\rProcessing compounds:  76%|███████▌  | 1623/2143 [11:23<03:37,  2.39it/s]"
          ]
        },
        {
          "output_type": "stream",
          "name": "stdout",
          "text": [
            "Сохранен и добавлен в архив: compound_16211978_c2.json\n",
            "Сохранен и добавлен в архив: compound_14786_c1.json\n"
          ]
        },
        {
          "output_type": "stream",
          "name": "stderr",
          "text": [
            "\rProcessing compounds:  76%|███████▌  | 1624/2143 [11:24<03:34,  2.42it/s]"
          ]
        },
        {
          "output_type": "stream",
          "name": "stdout",
          "text": [
            "Сохранен и добавлен в архив: compound_16211978_c2.json\n",
            "Сохранен и добавлен в архив: compound_14786_c1.json\n"
          ]
        },
        {
          "output_type": "stream",
          "name": "stderr",
          "text": [
            "\rProcessing compounds:  76%|███████▌  | 1625/2143 [11:24<03:32,  2.44it/s]"
          ]
        },
        {
          "output_type": "stream",
          "name": "stdout",
          "text": [
            "Сохранен и добавлен в архив: compound_16211978_c2.json\n"
          ]
        },
        {
          "output_type": "stream",
          "name": "stderr",
          "text": [
            "\rProcessing compounds:  76%|███████▌  | 1626/2143 [11:25<03:30,  2.45it/s]"
          ]
        },
        {
          "output_type": "stream",
          "name": "stdout",
          "text": [
            "Сохранен и добавлен в архив: compound_14786_c1.json\n",
            "Сохранен и добавлен в архив: compound_16211978_c2.json\n",
            "Сохранен и добавлен в архив: compound_14786_c1.json\n"
          ]
        },
        {
          "output_type": "stream",
          "name": "stderr",
          "text": [
            "\rProcessing compounds:  76%|███████▌  | 1627/2143 [11:25<03:29,  2.46it/s]"
          ]
        },
        {
          "output_type": "stream",
          "name": "stdout",
          "text": [
            "Сохранен и добавлен в архив: compound_16211978_c2.json\n",
            "Сохранен и добавлен в архив: compound_14786_c1.json\n",
            "Сохранен и добавлен в архив: compound_16211978_c2.json\n"
          ]
        },
        {
          "output_type": "stream",
          "name": "stderr",
          "text": [
            "\rProcessing compounds:  76%|███████▌  | 1628/2143 [11:25<03:30,  2.45it/s]"
          ]
        },
        {
          "output_type": "stream",
          "name": "stdout",
          "text": [
            "Сохранен и добавлен в архив: compound_14786_c1.json\n"
          ]
        },
        {
          "output_type": "stream",
          "name": "stderr",
          "text": [
            "\rProcessing compounds:  76%|███████▌  | 1629/2143 [11:26<04:17,  1.99it/s]"
          ]
        },
        {
          "output_type": "stream",
          "name": "stdout",
          "text": [
            "Сохранен и добавлен в архив: compound_16211978_c2.json\n",
            "Сохранен и добавлен в архив: compound_14786_c1.json\n"
          ]
        },
        {
          "output_type": "stream",
          "name": "stderr",
          "text": [
            "\rProcessing compounds:  76%|███████▌  | 1630/2143 [11:27<04:43,  1.81it/s]"
          ]
        },
        {
          "output_type": "stream",
          "name": "stdout",
          "text": [
            "Сохранен и добавлен в архив: compound_16211978_c2.json\n",
            "Сохранен и добавлен в архив: compound_14786_c1.json\n"
          ]
        },
        {
          "output_type": "stream",
          "name": "stderr",
          "text": [
            "\rProcessing compounds:  76%|███████▌  | 1631/2143 [11:27<04:19,  1.97it/s]"
          ]
        },
        {
          "output_type": "stream",
          "name": "stdout",
          "text": [
            "Ошибка при получении данных для формулы Ni0.5Co0.5Fe2O4: 404\n",
            "Сохранен и добавлен в архив: compound_14786_c1.json\n"
          ]
        },
        {
          "output_type": "stream",
          "name": "stderr",
          "text": [
            "\rProcessing compounds:  76%|███████▌  | 1632/2143 [11:28<04:03,  2.10it/s]"
          ]
        },
        {
          "output_type": "stream",
          "name": "stdout",
          "text": [
            "Ошибка при получении данных для формулы Ni0.5Co0.5Fe2O4: 404\n",
            "Ошибка при получении данных для формулы CoFe2O4: 404\n"
          ]
        },
        {
          "output_type": "stream",
          "name": "stderr",
          "text": [
            "\rProcessing compounds:  76%|███████▌  | 1633/2143 [11:28<03:51,  2.20it/s]"
          ]
        },
        {
          "output_type": "stream",
          "name": "stdout",
          "text": [
            "Ошибка при получении данных для формулы CoFe2: 404\n",
            "Ошибка при получении данных для формулы CoFe2O4: 404\n"
          ]
        },
        {
          "output_type": "stream",
          "name": "stderr",
          "text": [
            "\rProcessing compounds:  76%|███████▌  | 1634/2143 [11:28<03:41,  2.29it/s]"
          ]
        },
        {
          "output_type": "stream",
          "name": "stdout",
          "text": [
            "Ошибка при получении данных для формулы CoFe2: 404\n",
            "Ошибка при получении данных для формулы CoFe2O4: 404\n"
          ]
        },
        {
          "output_type": "stream",
          "name": "stderr",
          "text": [
            "\rProcessing compounds:  76%|███████▋  | 1635/2143 [11:29<03:35,  2.36it/s]"
          ]
        },
        {
          "output_type": "stream",
          "name": "stdout",
          "text": [
            "Ошибка при получении данных для формулы CoFe2: 404\n",
            "Ошибка при получении данных для формулы CoFe2O4: 404\n"
          ]
        },
        {
          "output_type": "stream",
          "name": "stderr",
          "text": [
            "\rProcessing compounds:  76%|███████▋  | 1636/2143 [11:29<03:30,  2.41it/s]"
          ]
        },
        {
          "output_type": "stream",
          "name": "stdout",
          "text": [
            "Ошибка при получении данных для формулы CoFe2: 404\n",
            "Ошибка при получении данных для формулы CoFe2O4: 404\n"
          ]
        },
        {
          "output_type": "stream",
          "name": "stderr",
          "text": [
            "\rProcessing compounds:  76%|███████▋  | 1637/2143 [11:30<03:27,  2.44it/s]"
          ]
        },
        {
          "output_type": "stream",
          "name": "stdout",
          "text": [
            "Ошибка при получении данных для формулы CoFe2: 404\n"
          ]
        },
        {
          "output_type": "stream",
          "name": "stderr",
          "text": [
            "\rProcessing compounds:  76%|███████▋  | 1638/2143 [11:30<03:26,  2.44it/s]"
          ]
        },
        {
          "output_type": "stream",
          "name": "stdout",
          "text": [
            "Сохранен и добавлен в архив: compound_104730_c1.json\n",
            "Ошибка при получении данных для формулы 0: 404\n"
          ]
        },
        {
          "output_type": "stream",
          "name": "stderr",
          "text": [
            "\rProcessing compounds:  76%|███████▋  | 1639/2143 [11:30<03:24,  2.47it/s]"
          ]
        },
        {
          "output_type": "stream",
          "name": "stdout",
          "text": [
            "Ошибка при получении данных для формулы FeCo: 404\n",
            "Ошибка при получении данных для формулы CoFe2O4: 404\n"
          ]
        },
        {
          "output_type": "stream",
          "name": "stderr",
          "text": [
            "\rProcessing compounds:  77%|███████▋  | 1640/2143 [11:31<03:27,  2.43it/s]"
          ]
        },
        {
          "output_type": "stream",
          "name": "stdout",
          "text": [
            "Ошибка при получении данных для формулы Fe2Co: 404\n",
            "Ошибка при получении данных для формулы CoFe2O4: 404\n"
          ]
        },
        {
          "output_type": "stream",
          "name": "stderr",
          "text": [
            "\rProcessing compounds:  77%|███████▋  | 1641/2143 [11:31<03:26,  2.43it/s]"
          ]
        },
        {
          "output_type": "stream",
          "name": "stdout",
          "text": [
            "Сохранен и добавлен в архив: compound_104730_c1.json\n",
            "Ошибка при получении данных для формулы 0: 404\n"
          ]
        },
        {
          "output_type": "stream",
          "name": "stderr",
          "text": [
            "\rProcessing compounds:  77%|███████▋  | 1642/2143 [11:32<03:24,  2.46it/s]"
          ]
        },
        {
          "output_type": "stream",
          "name": "stdout",
          "text": [
            "Ошибка при получении данных для формулы FeCo: 404\n",
            "Ошибка при получении данных для формулы CoFe2O4: 404\n"
          ]
        },
        {
          "output_type": "stream",
          "name": "stderr",
          "text": [
            "\rProcessing compounds:  77%|███████▋  | 1643/2143 [11:32<03:23,  2.46it/s]"
          ]
        },
        {
          "output_type": "stream",
          "name": "stdout",
          "text": [
            "Ошибка при получении данных для формулы Fe2Co: 404\n",
            "Ошибка при получении данных для формулы CoFe2O4: 404\n"
          ]
        },
        {
          "output_type": "stream",
          "name": "stderr",
          "text": [
            "\rProcessing compounds:  77%|███████▋  | 1644/2143 [11:32<03:21,  2.47it/s]"
          ]
        },
        {
          "output_type": "stream",
          "name": "stdout",
          "text": [
            "Ошибка при получении данных для формулы BiFeO3: 404\n",
            "Ошибка при получении данных для формулы CoFe2O4: 404\n"
          ]
        },
        {
          "output_type": "stream",
          "name": "stderr",
          "text": [
            "\rProcessing compounds:  77%|███████▋  | 1645/2143 [11:33<03:21,  2.47it/s]"
          ]
        },
        {
          "output_type": "stream",
          "name": "stdout",
          "text": [
            "Ошибка при получении данных для формулы BiFeO3: 404\n",
            "Ошибка при получении данных для формулы CoFe2O4: 404\n"
          ]
        },
        {
          "output_type": "stream",
          "name": "stderr",
          "text": [
            "\rProcessing compounds:  77%|███████▋  | 1646/2143 [11:33<03:21,  2.46it/s]"
          ]
        },
        {
          "output_type": "stream",
          "name": "stdout",
          "text": [
            "Сохранен и добавлен в архив: compound_23925_c1.json\n",
            "Ошибка при получении данных для формулы Fe2O3: 404\n",
            "Сохранен и добавлен в архив: compound_23925_c1.json\n"
          ]
        },
        {
          "output_type": "stream",
          "name": "stderr",
          "text": [
            "\rProcessing compounds:  77%|███████▋  | 1647/2143 [11:34<03:31,  2.34it/s]"
          ]
        },
        {
          "output_type": "stream",
          "name": "stdout",
          "text": [
            "Ошибка при получении данных для формулы Fe2O3: 404\n"
          ]
        },
        {
          "output_type": "stream",
          "name": "stderr",
          "text": [
            "\rProcessing compounds:  77%|███████▋  | 1648/2143 [11:34<03:29,  2.36it/s]"
          ]
        },
        {
          "output_type": "stream",
          "name": "stdout",
          "text": [
            "Сохранен и добавлен в архив: compound_23925_c1.json\n",
            "Ошибка при получении данных для формулы Fe2O3: 404\n",
            "Сохранен и добавлен в архив: compound_23925_c1.json\n",
            "Ошибка при получении данных для формулы Fe2O3: 404\n"
          ]
        },
        {
          "output_type": "stream",
          "name": "stderr",
          "text": [
            "Processing compounds:  77%|███████▋  | 1650/2143 [11:35<03:25,  2.40it/s]"
          ]
        },
        {
          "output_type": "stream",
          "name": "stdout",
          "text": [
            "Сохранен и добавлен в архив: compound_938_c1.json\n",
            "Сохранен и добавлен в архив: compound_938_c2.json\n"
          ]
        },
        {
          "output_type": "stream",
          "name": "stderr",
          "text": [
            "\rProcessing compounds:  77%|███████▋  | 1651/2143 [11:35<03:26,  2.38it/s]"
          ]
        },
        {
          "output_type": "stream",
          "name": "stdout",
          "text": [
            "Сохранен и добавлен в архив: compound_938_c1.json\n",
            "Сохранен и добавлен в архив: compound_938_c2.json\n",
            "Сохранен и добавлен в архив: compound_938_c1.json\n"
          ]
        },
        {
          "output_type": "stream",
          "name": "stderr",
          "text": [
            "\rProcessing compounds:  77%|███████▋  | 1652/2143 [11:36<03:24,  2.41it/s]"
          ]
        },
        {
          "output_type": "stream",
          "name": "stdout",
          "text": [
            "Сохранен и добавлен в архив: compound_938_c2.json\n",
            "Сохранен и добавлен в архив: compound_938_c1.json\n"
          ]
        },
        {
          "output_type": "stream",
          "name": "stderr",
          "text": [
            "\rProcessing compounds:  77%|███████▋  | 1653/2143 [11:36<03:22,  2.42it/s]"
          ]
        },
        {
          "output_type": "stream",
          "name": "stdout",
          "text": [
            "Сохранен и добавлен в архив: compound_938_c2.json\n",
            "Сохранен и добавлен в архив: compound_938_c1.json\n"
          ]
        },
        {
          "output_type": "stream",
          "name": "stderr",
          "text": [
            "\rProcessing compounds:  77%|███████▋  | 1654/2143 [11:37<03:20,  2.44it/s]"
          ]
        },
        {
          "output_type": "stream",
          "name": "stdout",
          "text": [
            "Сохранен и добавлен в архив: compound_938_c2.json\n",
            "Сохранен и добавлен в архив: compound_938_c1.json\n"
          ]
        },
        {
          "output_type": "stream",
          "name": "stderr",
          "text": [
            "\rProcessing compounds:  77%|███████▋  | 1655/2143 [11:37<03:19,  2.45it/s]"
          ]
        },
        {
          "output_type": "stream",
          "name": "stdout",
          "text": [
            "Сохранен и добавлен в архив: compound_938_c2.json\n",
            "Сохранен и добавлен в архив: compound_938_c1.json\n"
          ]
        },
        {
          "output_type": "stream",
          "name": "stderr",
          "text": [
            "\rProcessing compounds:  77%|███████▋  | 1656/2143 [11:37<03:19,  2.45it/s]"
          ]
        },
        {
          "output_type": "stream",
          "name": "stdout",
          "text": [
            "Сохранен и добавлен в архив: compound_938_c2.json\n",
            "Сохранен и добавлен в архив: compound_938_c1.json\n"
          ]
        },
        {
          "output_type": "stream",
          "name": "stderr",
          "text": [
            "\rProcessing compounds:  77%|███████▋  | 1657/2143 [11:38<03:18,  2.45it/s]"
          ]
        },
        {
          "output_type": "stream",
          "name": "stdout",
          "text": [
            "Сохранен и добавлен в архив: compound_938_c2.json\n",
            "Сохранен и добавлен в архив: compound_938_c1.json\n"
          ]
        },
        {
          "output_type": "stream",
          "name": "stderr",
          "text": [
            "\rProcessing compounds:  77%|███████▋  | 1658/2143 [11:38<03:17,  2.46it/s]"
          ]
        },
        {
          "output_type": "stream",
          "name": "stdout",
          "text": [
            "Сохранен и добавлен в архив: compound_938_c2.json\n"
          ]
        },
        {
          "output_type": "stream",
          "name": "stderr",
          "text": [
            "\rProcessing compounds:  77%|███████▋  | 1659/2143 [11:39<03:25,  2.35it/s]"
          ]
        },
        {
          "output_type": "stream",
          "name": "stdout",
          "text": [
            "Сохранен и добавлен в архив: compound_938_c1.json\n",
            "Сохранен и добавлен в архив: compound_938_c2.json\n",
            "Сохранен и добавлен в архив: compound_938_c1.json\n"
          ]
        },
        {
          "output_type": "stream",
          "name": "stderr",
          "text": [
            "\rProcessing compounds:  77%|███████▋  | 1660/2143 [11:39<03:22,  2.39it/s]"
          ]
        },
        {
          "output_type": "stream",
          "name": "stdout",
          "text": [
            "Сохранен и добавлен в архив: compound_938_c2.json\n",
            "Сохранен и добавлен в архив: compound_938_c1.json\n"
          ]
        },
        {
          "output_type": "stream",
          "name": "stderr",
          "text": [
            "\rProcessing compounds:  78%|███████▊  | 1661/2143 [11:39<03:21,  2.40it/s]"
          ]
        },
        {
          "output_type": "stream",
          "name": "stdout",
          "text": [
            "Сохранен и добавлен в архив: compound_938_c2.json\n",
            "Ошибка при получении данных для формулы Fe2O3: 404\n"
          ]
        },
        {
          "output_type": "stream",
          "name": "stderr",
          "text": [
            "\rProcessing compounds:  78%|███████▊  | 1662/2143 [11:40<03:18,  2.43it/s]"
          ]
        },
        {
          "output_type": "stream",
          "name": "stdout",
          "text": [
            "Сохранен и добавлен в архив: compound_16211978_c2.json\n",
            "Ошибка при получении данных для формулы Fe2O3: 404\n"
          ]
        },
        {
          "output_type": "stream",
          "name": "stderr",
          "text": [
            "\rProcessing compounds:  78%|███████▊  | 1663/2143 [11:40<03:15,  2.45it/s]"
          ]
        },
        {
          "output_type": "stream",
          "name": "stdout",
          "text": [
            "Сохранен и добавлен в архив: compound_16211978_c2.json\n",
            "Ошибка при получении данных для формулы Fe2O3: 404\n"
          ]
        },
        {
          "output_type": "stream",
          "name": "stderr",
          "text": [
            "\rProcessing compounds:  78%|███████▊  | 1664/2143 [11:41<03:14,  2.46it/s]"
          ]
        },
        {
          "output_type": "stream",
          "name": "stdout",
          "text": [
            "Сохранен и добавлен в архив: compound_16211978_c2.json\n",
            "Ошибка при получении данных для формулы Fe2O3: 404\n"
          ]
        },
        {
          "output_type": "stream",
          "name": "stderr",
          "text": [
            "\rProcessing compounds:  78%|███████▊  | 1665/2143 [11:41<03:12,  2.48it/s]"
          ]
        },
        {
          "output_type": "stream",
          "name": "stdout",
          "text": [
            "Сохранен и добавлен в архив: compound_16211978_c2.json\n",
            "Ошибка при получении данных для формулы Fe2O3: 404\n"
          ]
        },
        {
          "output_type": "stream",
          "name": "stderr",
          "text": [
            "\rProcessing compounds:  78%|███████▊  | 1666/2143 [11:41<03:11,  2.49it/s]"
          ]
        },
        {
          "output_type": "stream",
          "name": "stdout",
          "text": [
            "Сохранен и добавлен в архив: compound_16211978_c2.json\n",
            "Ошибка при получении данных для формулы Fe2O3: 404\n"
          ]
        },
        {
          "output_type": "stream",
          "name": "stderr",
          "text": [
            "\rProcessing compounds:  78%|███████▊  | 1667/2143 [11:42<03:12,  2.48it/s]"
          ]
        },
        {
          "output_type": "stream",
          "name": "stdout",
          "text": [
            "Сохранен и добавлен в архив: compound_16211978_c2.json\n",
            "Ошибка при получении данных для формулы Fe2O3: 404\n"
          ]
        },
        {
          "output_type": "stream",
          "name": "stderr",
          "text": [
            "\rProcessing compounds:  78%|███████▊  | 1668/2143 [11:42<03:13,  2.46it/s]"
          ]
        },
        {
          "output_type": "stream",
          "name": "stdout",
          "text": [
            "Сохранен и добавлен в архив: compound_16211978_c2.json\n",
            "Ошибка при получении данных для формулы Fe2O3: 404\n"
          ]
        },
        {
          "output_type": "stream",
          "name": "stderr",
          "text": [
            "\rProcessing compounds:  78%|███████▊  | 1669/2143 [11:43<03:41,  2.14it/s]"
          ]
        },
        {
          "output_type": "stream",
          "name": "stdout",
          "text": [
            "Сохранен и добавлен в архив: compound_16211978_c2.json\n",
            "Ошибка при получении данных для формулы Fe2O3: 404\n"
          ]
        },
        {
          "output_type": "stream",
          "name": "stderr",
          "text": [
            "\rProcessing compounds:  78%|███████▊  | 1670/2143 [11:44<04:31,  1.74it/s]"
          ]
        },
        {
          "output_type": "stream",
          "name": "stdout",
          "text": [
            "Сохранен и добавлен в архив: compound_16211978_c2.json\n",
            "Ошибка при получении данных для формулы Fe2O3: 404\n"
          ]
        },
        {
          "output_type": "stream",
          "name": "stderr",
          "text": [
            "\rProcessing compounds:  78%|███████▊  | 1671/2143 [11:44<04:06,  1.91it/s]"
          ]
        },
        {
          "output_type": "stream",
          "name": "stdout",
          "text": [
            "Сохранен и добавлен в архив: compound_16211978_c2.json\n",
            "Сохранен и добавлен в архив: compound_23925_c1.json\n"
          ]
        },
        {
          "output_type": "stream",
          "name": "stderr",
          "text": [
            "\rProcessing compounds:  78%|███████▊  | 1672/2143 [11:45<03:58,  1.97it/s]"
          ]
        },
        {
          "output_type": "stream",
          "name": "stdout",
          "text": [
            "Сохранен и добавлен в архив: compound_16211978_c2.json\n"
          ]
        },
        {
          "output_type": "stream",
          "name": "stderr",
          "text": [
            "\rProcessing compounds:  78%|███████▊  | 1673/2143 [11:45<03:45,  2.08it/s]"
          ]
        },
        {
          "output_type": "stream",
          "name": "stdout",
          "text": [
            "Сохранен и добавлен в архив: compound_23925_c1.json\n",
            "Сохранен и добавлен в архив: compound_16211978_c2.json\n"
          ]
        },
        {
          "output_type": "stream",
          "name": "stderr",
          "text": [
            "\rProcessing compounds:  78%|███████▊  | 1674/2143 [11:45<03:49,  2.05it/s]"
          ]
        },
        {
          "output_type": "stream",
          "name": "stdout",
          "text": [
            "Сохранен и добавлен в архив: compound_23925_c1.json\n",
            "Сохранен и добавлен в архив: compound_16211978_c2.json\n"
          ]
        },
        {
          "output_type": "stream",
          "name": "stderr",
          "text": [
            "\rProcessing compounds:  78%|███████▊  | 1675/2143 [11:46<03:38,  2.14it/s]"
          ]
        },
        {
          "output_type": "stream",
          "name": "stdout",
          "text": [
            "Сохранен и добавлен в архив: compound_23925_c1.json\n",
            "Сохранен и добавлен в архив: compound_16211978_c2.json\n"
          ]
        },
        {
          "output_type": "stream",
          "name": "stderr",
          "text": [
            "\rProcessing compounds:  78%|███████▊  | 1676/2143 [11:46<03:31,  2.21it/s]"
          ]
        },
        {
          "output_type": "stream",
          "name": "stdout",
          "text": [
            "Сохранен и добавлен в архив: compound_23925_c1.json\n",
            "Сохранен и добавлен в архив: compound_16211978_c2.json\n",
            "Сохранен и добавлен в архив: compound_23925_c1.json\n",
            "Сохранен и добавлен в архив: compound_16211978_c2.json\n"
          ]
        },
        {
          "output_type": "stream",
          "name": "stderr",
          "text": [
            "Processing compounds:  78%|███████▊  | 1678/2143 [11:47<03:21,  2.31it/s]"
          ]
        },
        {
          "output_type": "stream",
          "name": "stdout",
          "text": [
            "Сохранен и добавлен в архив: compound_23925_c1.json\n",
            "Сохранен и добавлен в архив: compound_16211978_c2.json\n"
          ]
        },
        {
          "output_type": "stream",
          "name": "stderr",
          "text": [
            "\rProcessing compounds:  78%|███████▊  | 1679/2143 [11:48<03:18,  2.33it/s]"
          ]
        },
        {
          "output_type": "stream",
          "name": "stdout",
          "text": [
            "Сохранен и добавлен в архив: compound_23925_c1.json\n",
            "Сохранен и добавлен в архив: compound_16211978_c2.json\n"
          ]
        },
        {
          "output_type": "stream",
          "name": "stderr",
          "text": [
            "\rProcessing compounds:  78%|███████▊  | 1680/2143 [11:48<03:15,  2.36it/s]"
          ]
        },
        {
          "output_type": "stream",
          "name": "stdout",
          "text": [
            "Сохранен и добавлен в архив: compound_23925_c1.json\n",
            "Сохранен и добавлен в архив: compound_16211978_c2.json\n"
          ]
        },
        {
          "output_type": "stream",
          "name": "stderr",
          "text": [
            "\rProcessing compounds:  78%|███████▊  | 1681/2143 [11:48<03:14,  2.38it/s]"
          ]
        },
        {
          "output_type": "stream",
          "name": "stdout",
          "text": [
            "Сохранен и добавлен в архив: compound_23925_c1.json\n",
            "Сохранен и добавлен в архив: compound_16211978_c2.json\n",
            "Сохранен и добавлен в архив: compound_23925_c1.json\n",
            "Сохранен и добавлен в архив: compound_16211978_c2.json\n"
          ]
        },
        {
          "output_type": "stream",
          "name": "stderr",
          "text": [
            "Processing compounds:  79%|███████▊  | 1683/2143 [11:49<03:11,  2.40it/s]"
          ]
        },
        {
          "output_type": "stream",
          "name": "stdout",
          "text": [
            "Сохранен и добавлен в архив: compound_23925_c1.json\n",
            "Сохранен и добавлен в архив: compound_16211978_c2.json\n"
          ]
        },
        {
          "output_type": "stream",
          "name": "stderr",
          "text": [
            "\rProcessing compounds:  79%|███████▊  | 1684/2143 [11:50<03:11,  2.40it/s]"
          ]
        },
        {
          "output_type": "stream",
          "name": "stdout",
          "text": [
            "Сохранен и добавлен в архив: compound_23925_c1.json\n",
            "Сохранен и добавлен в архив: compound_16211978_c2.json\n"
          ]
        },
        {
          "output_type": "stream",
          "name": "stderr",
          "text": [
            "\rProcessing compounds:  79%|███████▊  | 1685/2143 [11:50<03:10,  2.40it/s]"
          ]
        },
        {
          "output_type": "stream",
          "name": "stdout",
          "text": [
            "Сохранен и добавлен в архив: compound_23925_c1.json\n",
            "Сохранен и добавлен в архив: compound_16211978_c2.json\n"
          ]
        },
        {
          "output_type": "stream",
          "name": "stderr",
          "text": [
            "\rProcessing compounds:  79%|███████▊  | 1686/2143 [11:50<03:09,  2.41it/s]"
          ]
        },
        {
          "output_type": "stream",
          "name": "stdout",
          "text": [
            "Сохранен и добавлен в архив: compound_23925_c1.json\n",
            "Сохранен и добавлен в архив: compound_16211978_c2.json\n"
          ]
        },
        {
          "output_type": "stream",
          "name": "stderr",
          "text": [
            "\rProcessing compounds:  79%|███████▊  | 1687/2143 [11:51<03:06,  2.44it/s]"
          ]
        },
        {
          "output_type": "stream",
          "name": "stdout",
          "text": [
            "Ошибка при получении данных для формулы ZnO: 404\n",
            "Ошибка при получении данных для формулы 0: 404\n"
          ]
        },
        {
          "output_type": "stream",
          "name": "stderr",
          "text": [
            "\rProcessing compounds:  79%|███████▉  | 1688/2143 [11:51<03:04,  2.46it/s]"
          ]
        },
        {
          "output_type": "stream",
          "name": "stdout",
          "text": [
            "Сохранен и добавлен в архив: compound_5359268_c1.json\n",
            "Ошибка при получении данных для формулы ZnO: 404\n"
          ]
        },
        {
          "output_type": "stream",
          "name": "stderr",
          "text": [
            "/usr/lib/python3.11/zipfile.py:1567: UserWarning: Duplicate name: 'compound_5359268_c1.json'\n",
            "  return self._open_to_write(zinfo, force_zip64=force_zip64)\n",
            "\rProcessing compounds:  79%|███████▉  | 1689/2143 [11:52<03:03,  2.48it/s]"
          ]
        },
        {
          "output_type": "stream",
          "name": "stdout",
          "text": [
            "Сохранен и добавлен в архив: compound_5359268_c1.json\n",
            "Ошибка при получении данных для формулы ZnO: 404\n",
            "Сохранен и добавлен в архив: compound_5359268_c1.json\n"
          ]
        },
        {
          "output_type": "stream",
          "name": "stderr",
          "text": [
            "\rProcessing compounds:  79%|███████▉  | 1690/2143 [11:52<03:13,  2.34it/s]"
          ]
        },
        {
          "output_type": "stream",
          "name": "stdout",
          "text": [
            "Ошибка при получении данных для формулы ZnO: 404\n",
            "Сохранен и добавлен в архив: compound_5359268_c1.json\n"
          ]
        },
        {
          "output_type": "stream",
          "name": "stderr",
          "text": [
            "\rProcessing compounds:  79%|███████▉  | 1691/2143 [11:53<03:29,  2.16it/s]"
          ]
        },
        {
          "output_type": "stream",
          "name": "stdout",
          "text": [
            "Ошибка при получении данных для формулы ZnO: 404\n"
          ]
        },
        {
          "output_type": "stream",
          "name": "stderr",
          "text": [
            "\rProcessing compounds:  79%|███████▉  | 1692/2143 [11:53<03:32,  2.12it/s]"
          ]
        },
        {
          "output_type": "stream",
          "name": "stdout",
          "text": [
            "Сохранен и добавлен в архив: compound_5359268_c1.json\n",
            "Ошибка при получении данных для формулы ZnO: 404\n"
          ]
        },
        {
          "output_type": "stream",
          "name": "stderr",
          "text": [
            "\rProcessing compounds:  79%|███████▉  | 1693/2143 [11:54<03:27,  2.17it/s]"
          ]
        },
        {
          "output_type": "stream",
          "name": "stdout",
          "text": [
            "Сохранен и добавлен в архив: compound_5359268_c1.json\n",
            "Ошибка при получении данных для формулы ZnO: 404\n"
          ]
        },
        {
          "output_type": "stream",
          "name": "stderr",
          "text": [
            "\rProcessing compounds:  79%|███████▉  | 1694/2143 [11:54<03:18,  2.26it/s]"
          ]
        },
        {
          "output_type": "stream",
          "name": "stdout",
          "text": [
            "Сохранен и добавлен в архив: compound_5359268_c1.json\n",
            "Ошибка при получении данных для формулы ZnO: 404\n"
          ]
        },
        {
          "output_type": "stream",
          "name": "stderr",
          "text": [
            "\rProcessing compounds:  79%|███████▉  | 1695/2143 [11:54<03:12,  2.33it/s]"
          ]
        },
        {
          "output_type": "stream",
          "name": "stdout",
          "text": [
            "Сохранен и добавлен в архив: compound_5359268_c1.json\n",
            "Ошибка при получении данных для формулы ZnO: 404\n"
          ]
        },
        {
          "output_type": "stream",
          "name": "stderr",
          "text": [
            "\rProcessing compounds:  79%|███████▉  | 1696/2143 [11:55<03:08,  2.38it/s]"
          ]
        },
        {
          "output_type": "stream",
          "name": "stdout",
          "text": [
            "Сохранен и добавлен в архив: compound_5359268_c1.json\n",
            "Ошибка при получении данных для формулы ZnO: 404\n"
          ]
        },
        {
          "output_type": "stream",
          "name": "stderr",
          "text": [
            "\rProcessing compounds:  79%|███████▉  | 1697/2143 [11:55<03:05,  2.40it/s]"
          ]
        },
        {
          "output_type": "stream",
          "name": "stdout",
          "text": [
            "Сохранен и добавлен в архив: compound_5359268_c1.json\n",
            "Ошибка при получении данных для формулы ZnO: 404\n"
          ]
        },
        {
          "output_type": "stream",
          "name": "stderr",
          "text": [
            "\rProcessing compounds:  79%|███████▉  | 1698/2143 [11:56<03:03,  2.42it/s]"
          ]
        },
        {
          "output_type": "stream",
          "name": "stdout",
          "text": [
            "Сохранен и добавлен в архив: compound_5360835_c1.json\n",
            "Ошибка при получении данных для формулы Fe2O3: 404\n"
          ]
        },
        {
          "output_type": "stream",
          "name": "stderr",
          "text": [
            "/usr/lib/python3.11/zipfile.py:1567: UserWarning: Duplicate name: 'compound_5360835_c1.json'\n",
            "  return self._open_to_write(zinfo, force_zip64=force_zip64)\n",
            "\rProcessing compounds:  79%|███████▉  | 1699/2143 [11:56<03:02,  2.43it/s]"
          ]
        },
        {
          "output_type": "stream",
          "name": "stdout",
          "text": [
            "Сохранен и добавлен в архив: compound_5360835_c1.json\n",
            "Ошибка при получении данных для формулы Fe2O3: 404\n"
          ]
        },
        {
          "output_type": "stream",
          "name": "stderr",
          "text": [
            "\rProcessing compounds:  79%|███████▉  | 1700/2143 [11:56<03:01,  2.44it/s]"
          ]
        },
        {
          "output_type": "stream",
          "name": "stdout",
          "text": [
            "Сохранен и добавлен в архив: compound_5360835_c1.json\n",
            "Ошибка при получении данных для формулы Fe2O3: 404\n"
          ]
        },
        {
          "output_type": "stream",
          "name": "stderr",
          "text": [
            "\rProcessing compounds:  79%|███████▉  | 1701/2143 [11:57<03:00,  2.45it/s]"
          ]
        },
        {
          "output_type": "stream",
          "name": "stdout",
          "text": [
            "Сохранен и добавлен в архив: compound_5360835_c1.json\n",
            "Ошибка при получении данных для формулы Fe2O3: 404\n"
          ]
        },
        {
          "output_type": "stream",
          "name": "stderr",
          "text": [
            "\rProcessing compounds:  79%|███████▉  | 1702/2143 [11:57<02:58,  2.47it/s]"
          ]
        },
        {
          "output_type": "stream",
          "name": "stdout",
          "text": [
            "Сохранен и добавлен в архив: compound_5360835_c1.json\n",
            "Ошибка при получении данных для формулы Fe2O3: 404\n",
            "Сохранен и добавлен в архив: compound_5360835_c1.json\n"
          ]
        },
        {
          "output_type": "stream",
          "name": "stderr",
          "text": [
            "\rProcessing compounds:  79%|███████▉  | 1703/2143 [11:58<02:59,  2.45it/s]"
          ]
        },
        {
          "output_type": "stream",
          "name": "stdout",
          "text": [
            "Ошибка при получении данных для формулы Fe2O3: 404\n",
            "Сохранен и добавлен в архив: compound_5360835_c1.json\n"
          ]
        },
        {
          "output_type": "stream",
          "name": "stderr",
          "text": [
            "\rProcessing compounds:  80%|███████▉  | 1704/2143 [11:58<02:57,  2.47it/s]"
          ]
        },
        {
          "output_type": "stream",
          "name": "stdout",
          "text": [
            "Ошибка при получении данных для формулы Fe2O3: 404\n",
            "Сохранен и добавлен в архив: compound_5360835_c1.json\n"
          ]
        },
        {
          "output_type": "stream",
          "name": "stderr",
          "text": [
            "\rProcessing compounds:  80%|███████▉  | 1705/2143 [11:58<03:01,  2.42it/s]"
          ]
        },
        {
          "output_type": "stream",
          "name": "stdout",
          "text": [
            "Ошибка при получении данных для формулы Fe2O3: 404\n",
            "Сохранен и добавлен в архив: compound_935_c1.json\n"
          ]
        },
        {
          "output_type": "stream",
          "name": "stderr",
          "text": [
            "\rProcessing compounds:  80%|███████▉  | 1706/2143 [11:59<03:01,  2.41it/s]"
          ]
        },
        {
          "output_type": "stream",
          "name": "stdout",
          "text": [
            "Ошибка при получении данных для формулы NiO2H2: 404\n"
          ]
        },
        {
          "output_type": "stream",
          "name": "stderr",
          "text": [
            "\rProcessing compounds:  80%|███████▉  | 1707/2143 [11:59<03:03,  2.38it/s]"
          ]
        },
        {
          "output_type": "stream",
          "name": "stdout",
          "text": [
            "Сохранен и добавлен в архив: compound_935_c1.json\n",
            "Ошибка при получении данных для формулы NiO2H2: 404\n"
          ]
        },
        {
          "output_type": "stream",
          "name": "stderr",
          "text": [
            "\rProcessing compounds:  80%|███████▉  | 1708/2143 [12:00<03:00,  2.41it/s]"
          ]
        },
        {
          "output_type": "stream",
          "name": "stdout",
          "text": [
            "Сохранен и добавлен в архив: compound_23985_c1.json\n",
            "Сохранен и добавлен в архив: compound_16211978_c2.json\n"
          ]
        },
        {
          "output_type": "stream",
          "name": "stderr",
          "text": [
            "\rProcessing compounds:  80%|███████▉  | 1709/2143 [12:00<02:59,  2.41it/s]"
          ]
        },
        {
          "output_type": "stream",
          "name": "stdout",
          "text": [
            "Сохранен и добавлен в архив: compound_23985_c1.json\n",
            "Сохранен и добавлен в архив: compound_16211978_c2.json\n"
          ]
        },
        {
          "output_type": "stream",
          "name": "stderr",
          "text": [
            "\rProcessing compounds:  80%|███████▉  | 1710/2143 [12:01<02:57,  2.43it/s]"
          ]
        },
        {
          "output_type": "stream",
          "name": "stdout",
          "text": [
            "Сохранен и добавлен в архив: compound_23985_c1.json\n",
            "Сохранен и добавлен в архив: compound_16211978_c2.json\n"
          ]
        },
        {
          "output_type": "stream",
          "name": "stderr",
          "text": [
            "\rProcessing compounds:  80%|███████▉  | 1711/2143 [12:01<02:55,  2.46it/s]"
          ]
        },
        {
          "output_type": "stream",
          "name": "stdout",
          "text": [
            "Ошибка при получении данных для формулы Mn2O3: 404\n",
            "Ошибка при получении данных для формулы 0: 404\n"
          ]
        },
        {
          "output_type": "stream",
          "name": "stderr",
          "text": [
            "\rProcessing compounds:  80%|███████▉  | 1712/2143 [12:01<02:53,  2.49it/s]"
          ]
        },
        {
          "output_type": "stream",
          "name": "stdout",
          "text": [
            "Ошибка при получении данных для формулы Mn2O3: 404\n",
            "Ошибка при получении данных для формулы 0: 404\n",
            "Ошибка при получении данных для формулы Mn2O3: 404\n"
          ]
        },
        {
          "output_type": "stream",
          "name": "stderr",
          "text": [
            "\rProcessing compounds:  80%|███████▉  | 1713/2143 [12:02<03:00,  2.38it/s]"
          ]
        },
        {
          "output_type": "stream",
          "name": "stdout",
          "text": [
            "Ошибка при получении данных для формулы 0: 404\n"
          ]
        },
        {
          "output_type": "stream",
          "name": "stderr",
          "text": [
            "\rProcessing compounds:  80%|███████▉  | 1714/2143 [12:02<03:13,  2.21it/s]"
          ]
        },
        {
          "output_type": "stream",
          "name": "stdout",
          "text": [
            "Ошибка при получении данных для формулы Mn2O3: 404\n",
            "Ошибка при получении данных для формулы 0: 404\n"
          ]
        },
        {
          "output_type": "stream",
          "name": "stderr",
          "text": [
            "\rProcessing compounds:  80%|████████  | 1715/2143 [12:03<03:22,  2.11it/s]"
          ]
        },
        {
          "output_type": "stream",
          "name": "stdout",
          "text": [
            "Ошибка при получении данных для формулы Mn2O3: 404\n",
            "Ошибка при получении данных для формулы 0: 404\n"
          ]
        },
        {
          "output_type": "stream",
          "name": "stderr",
          "text": [
            "\rProcessing compounds:  80%|████████  | 1716/2143 [12:03<03:12,  2.22it/s]"
          ]
        },
        {
          "output_type": "stream",
          "name": "stdout",
          "text": [
            "Ошибка при получении данных для формулы Mn2O3: 404\n",
            "Ошибка при получении данных для формулы 0: 404\n",
            "Ошибка при получении данных для формулы Mn2O3: 404\n"
          ]
        },
        {
          "output_type": "stream",
          "name": "stderr",
          "text": [
            "\rProcessing compounds:  80%|████████  | 1717/2143 [12:04<03:12,  2.21it/s]"
          ]
        },
        {
          "output_type": "stream",
          "name": "stdout",
          "text": [
            "Ошибка при получении данных для формулы 0: 404\n",
            "Сохранен и добавлен в архив: compound_938_c1.json\n"
          ]
        },
        {
          "output_type": "stream",
          "name": "stderr",
          "text": [
            "\rProcessing compounds:  80%|████████  | 1718/2143 [12:04<03:05,  2.29it/s]"
          ]
        },
        {
          "output_type": "stream",
          "name": "stdout",
          "text": [
            "Ошибка при получении данных для формулы Ni0.05Mn0.95O: 404\n"
          ]
        },
        {
          "output_type": "stream",
          "name": "stderr",
          "text": [
            "\rProcessing compounds:  80%|████████  | 1719/2143 [12:05<03:00,  2.35it/s]"
          ]
        },
        {
          "output_type": "stream",
          "name": "stdout",
          "text": [
            "Сохранен и добавлен в архив: compound_938_c1.json\n",
            "Ошибка при получении данных для формулы Ni0.065Mn0.935O: 404\n",
            "Сохранен и добавлен в архив: compound_938_c1.json\n"
          ]
        },
        {
          "output_type": "stream",
          "name": "stderr",
          "text": [
            "\rProcessing compounds:  80%|████████  | 1720/2143 [12:05<02:56,  2.39it/s]"
          ]
        },
        {
          "output_type": "stream",
          "name": "stdout",
          "text": [
            "Ошибка при получении данных для формулы Ni0.08Mn0.92O: 404\n",
            "Сохранен и добавлен в архив: compound_938_c1.json\n"
          ]
        },
        {
          "output_type": "stream",
          "name": "stderr",
          "text": [
            "\rProcessing compounds:  80%|████████  | 1721/2143 [12:05<02:56,  2.38it/s]"
          ]
        },
        {
          "output_type": "stream",
          "name": "stdout",
          "text": [
            "Ошибка при получении данных для формулы Ni0.09Mn0.91O: 404\n",
            "Сохранен и добавлен в архив: compound_938_c1.json\n"
          ]
        },
        {
          "output_type": "stream",
          "name": "stderr",
          "text": [
            "\rProcessing compounds:  80%|████████  | 1722/2143 [12:06<02:54,  2.41it/s]"
          ]
        },
        {
          "output_type": "stream",
          "name": "stdout",
          "text": [
            "Ошибка при получении данных для формулы Ni0.1Mn0.9O: 404\n",
            "Ошибка при получении данных для формулы FeO: 404\n"
          ]
        },
        {
          "output_type": "stream",
          "name": "stderr",
          "text": [
            "\rProcessing compounds:  80%|████████  | 1723/2143 [12:06<02:52,  2.44it/s]"
          ]
        },
        {
          "output_type": "stream",
          "name": "stdout",
          "text": [
            "Сохранен и добавлен в архив: compound_16211978_c2.json\n",
            "Ошибка при получении данных для формулы FeO: 404\n"
          ]
        },
        {
          "output_type": "stream",
          "name": "stderr",
          "text": [
            "\rProcessing compounds:  80%|████████  | 1724/2143 [12:07<02:50,  2.46it/s]"
          ]
        },
        {
          "output_type": "stream",
          "name": "stdout",
          "text": [
            "Сохранен и добавлен в архив: compound_16211978_c2.json\n",
            "Сохранен и добавлен в архив: compound_517277_c1.json\n"
          ]
        },
        {
          "output_type": "stream",
          "name": "stderr",
          "text": [
            "\rProcessing compounds:  80%|████████  | 1725/2143 [12:07<02:58,  2.35it/s]"
          ]
        },
        {
          "output_type": "stream",
          "name": "stdout",
          "text": [
            "Ошибка при получении данных для формулы Fe2O3: 404\n"
          ]
        },
        {
          "output_type": "stream",
          "name": "stderr",
          "text": [
            "/usr/lib/python3.11/zipfile.py:1567: UserWarning: Duplicate name: 'compound_517277_c1.json'\n",
            "  return self._open_to_write(zinfo, force_zip64=force_zip64)\n",
            "\rProcessing compounds:  81%|████████  | 1726/2143 [12:07<02:55,  2.38it/s]"
          ]
        },
        {
          "output_type": "stream",
          "name": "stdout",
          "text": [
            "Сохранен и добавлен в архив: compound_517277_c1.json\n",
            "Ошибка при получении данных для формулы Fe2O3: 404\n"
          ]
        },
        {
          "output_type": "stream",
          "name": "stderr",
          "text": [
            "\rProcessing compounds:  81%|████████  | 1727/2143 [12:08<03:01,  2.29it/s]"
          ]
        },
        {
          "output_type": "stream",
          "name": "stdout",
          "text": [
            "Сохранен и добавлен в архив: compound_517277_c1.json\n",
            "Ошибка при получении данных для формулы Fe2O3: 404\n"
          ]
        },
        {
          "output_type": "stream",
          "name": "stderr",
          "text": [
            "\rProcessing compounds:  81%|████████  | 1728/2143 [12:08<02:56,  2.35it/s]"
          ]
        },
        {
          "output_type": "stream",
          "name": "stdout",
          "text": [
            "Сохранен и добавлен в архив: compound_517277_c1.json\n",
            "Ошибка при получении данных для формулы Fe2O3: 404\n",
            "Сохранен и добавлен в архив: compound_517277_c1.json\n"
          ]
        },
        {
          "output_type": "stream",
          "name": "stderr",
          "text": [
            "\rProcessing compounds:  81%|████████  | 1729/2143 [12:09<03:02,  2.26it/s]"
          ]
        },
        {
          "output_type": "stream",
          "name": "stdout",
          "text": [
            "Ошибка при получении данных для формулы Fe2O3: 404\n",
            "Сохранен и добавлен в архив: compound_23963_c1.json\n"
          ]
        },
        {
          "output_type": "stream",
          "name": "stderr",
          "text": [
            "\rProcessing compounds:  81%|████████  | 1730/2143 [12:09<03:06,  2.22it/s]"
          ]
        },
        {
          "output_type": "stream",
          "name": "stdout",
          "text": [
            "Ошибка при получении данных для формулы Fe2O3: 404\n",
            "Сохранен и добавлен в архив: compound_23963_c1.json\n"
          ]
        },
        {
          "output_type": "stream",
          "name": "stderr",
          "text": [
            "/usr/lib/python3.11/zipfile.py:1567: UserWarning: Duplicate name: 'compound_23963_c1.json'\n",
            "  return self._open_to_write(zinfo, force_zip64=force_zip64)\n",
            "Processing compounds:  81%|████████  | 1731/2143 [12:10<02:59,  2.30it/s]"
          ]
        },
        {
          "output_type": "stream",
          "name": "stdout",
          "text": [
            "Ошибка при получении данных для формулы Fe2O3: 404\n"
          ]
        },
        {
          "output_type": "stream",
          "name": "stderr",
          "text": [
            "\rProcessing compounds:  81%|████████  | 1732/2143 [12:10<02:55,  2.34it/s]"
          ]
        },
        {
          "output_type": "stream",
          "name": "stdout",
          "text": [
            "Сохранен и добавлен в архив: compound_23963_c1.json\n",
            "Ошибка при получении данных для формулы Fe2O3: 404\n"
          ]
        },
        {
          "output_type": "stream",
          "name": "stderr",
          "text": [
            "\rProcessing compounds:  81%|████████  | 1733/2143 [12:10<02:51,  2.39it/s]"
          ]
        },
        {
          "output_type": "stream",
          "name": "stdout",
          "text": [
            "Сохранен и добавлен в архив: compound_23963_c1.json\n",
            "Ошибка при получении данных для формулы Fe2O3: 404\n"
          ]
        },
        {
          "output_type": "stream",
          "name": "stderr",
          "text": [
            "\rProcessing compounds:  81%|████████  | 1734/2143 [12:11<02:47,  2.44it/s]"
          ]
        },
        {
          "output_type": "stream",
          "name": "stdout",
          "text": [
            "Ошибка при получении данных для формулы CoFe2O4: 404\n",
            "Ошибка при получении данных для формулы 0: 404\n"
          ]
        },
        {
          "output_type": "stream",
          "name": "stderr",
          "text": [
            "\rProcessing compounds:  81%|████████  | 1735/2143 [12:11<02:45,  2.46it/s]"
          ]
        },
        {
          "output_type": "stream",
          "name": "stdout",
          "text": [
            "Ошибка при получении данных для формулы CoFe2O4: 404\n",
            "Сохранен и добавлен в архив: compound_122164822_c2.json\n",
            "Ошибка при получении данных для формулы CoFe2O4: 404\n",
            "Сохранен и добавлен в архив: compound_938_c2.json\n"
          ]
        },
        {
          "output_type": "stream",
          "name": "stderr",
          "text": [
            "Processing compounds:  81%|████████  | 1737/2143 [12:12<02:45,  2.46it/s]"
          ]
        },
        {
          "output_type": "stream",
          "name": "stdout",
          "text": [
            "Сохранен и добавлен в архив: compound_935_c1.json\n",
            "Ошибка при получении данных для формулы BaTiO3: 404\n",
            "Сохранен и добавлен в архив: compound_935_c1.json\n"
          ]
        },
        {
          "output_type": "stream",
          "name": "stderr",
          "text": [
            "\rProcessing compounds:  81%|████████  | 1738/2143 [12:12<02:47,  2.41it/s]"
          ]
        },
        {
          "output_type": "stream",
          "name": "stdout",
          "text": [
            "Ошибка при получении данных для формулы BaTiO3: 404\n",
            "Сохранен и добавлен в архив: compound_517277_c1.json\n"
          ]
        },
        {
          "output_type": "stream",
          "name": "stderr",
          "text": [
            "\rProcessing compounds:  81%|████████  | 1739/2143 [12:13<02:47,  2.41it/s]"
          ]
        },
        {
          "output_type": "stream",
          "name": "stdout",
          "text": [
            "Ошибка при получении данных для формулы CoFe2O4: 404\n"
          ]
        },
        {
          "output_type": "stream",
          "name": "stderr",
          "text": [
            "\rProcessing compounds:  81%|████████  | 1740/2143 [12:13<02:45,  2.44it/s]"
          ]
        },
        {
          "output_type": "stream",
          "name": "stdout",
          "text": [
            "Сохранен и добавлен в архив: compound_517277_c1.json\n",
            "Ошибка при получении данных для формулы CoFe2O4: 404\n"
          ]
        },
        {
          "output_type": "stream",
          "name": "stderr",
          "text": [
            "\rProcessing compounds:  81%|████████  | 1741/2143 [12:14<02:43,  2.46it/s]"
          ]
        },
        {
          "output_type": "stream",
          "name": "stdout",
          "text": [
            "Сохранен и добавлен в архив: compound_517277_c1.json\n",
            "Ошибка при получении данных для формулы CoFe2O4: 404\n"
          ]
        },
        {
          "output_type": "stream",
          "name": "stderr",
          "text": [
            "\rProcessing compounds:  81%|████████▏ | 1742/2143 [12:14<02:41,  2.48it/s]"
          ]
        },
        {
          "output_type": "stream",
          "name": "stdout",
          "text": [
            "Сохранен и добавлен в архив: compound_517277_c1.json\n",
            "Ошибка при получении данных для формулы CoFe2O4: 404\n"
          ]
        },
        {
          "output_type": "stream",
          "name": "stderr",
          "text": [
            "\rProcessing compounds:  81%|████████▏ | 1743/2143 [12:15<02:47,  2.39it/s]"
          ]
        },
        {
          "output_type": "stream",
          "name": "stdout",
          "text": [
            "Сохранен и добавлен в архив: compound_517277_c1.json\n",
            "Ошибка при получении данных для формулы CoFe2O4: 404\n",
            "Сохранен и добавлен в архив: compound_517277_c1.json\n"
          ]
        },
        {
          "output_type": "stream",
          "name": "stderr",
          "text": [
            "\rProcessing compounds:  81%|████████▏ | 1744/2143 [12:15<02:53,  2.30it/s]"
          ]
        },
        {
          "output_type": "stream",
          "name": "stdout",
          "text": [
            "Ошибка при получении данных для формулы CoFe2O4: 404\n",
            "Сохранен и добавлен в архив: compound_517277_c1.json\n"
          ]
        },
        {
          "output_type": "stream",
          "name": "stderr",
          "text": [
            "\rProcessing compounds:  81%|████████▏ | 1745/2143 [12:15<02:56,  2.26it/s]"
          ]
        },
        {
          "output_type": "stream",
          "name": "stdout",
          "text": [
            "Ошибка при получении данных для формулы CoFe2O4: 404\n"
          ]
        },
        {
          "output_type": "stream",
          "name": "stderr",
          "text": [
            "\rProcessing compounds:  81%|████████▏ | 1746/2143 [12:16<02:55,  2.26it/s]"
          ]
        },
        {
          "output_type": "stream",
          "name": "stdout",
          "text": [
            "Сохранен и добавлен в архив: compound_517277_c1.json\n",
            "Ошибка при получении данных для формулы CoFe2O4: 404\n"
          ]
        },
        {
          "output_type": "stream",
          "name": "stderr",
          "text": [
            "\rProcessing compounds:  82%|████████▏ | 1747/2143 [12:16<02:49,  2.33it/s]"
          ]
        },
        {
          "output_type": "stream",
          "name": "stdout",
          "text": [
            "Ошибка при получении данных для формулы Co2.25Fe0.75O: 404\n",
            "Ошибка при получении данных для формулы Fe2O3: 404\n",
            "Ошибка при получении данных для формулы Co2.45Fe0.55O4: 404\n"
          ]
        },
        {
          "output_type": "stream",
          "name": "stderr",
          "text": [
            "\rProcessing compounds:  82%|████████▏ | 1748/2143 [12:17<02:47,  2.35it/s]"
          ]
        },
        {
          "output_type": "stream",
          "name": "stdout",
          "text": [
            "Ошибка при получении данных для формулы Co1.52Fe1.48O4: 404\n",
            "Ошибка при получении данных для формулы Co0.96Fe0.04: 404\n"
          ]
        },
        {
          "output_type": "stream",
          "name": "stderr",
          "text": [
            "\rProcessing compounds:  82%|████████▏ | 1749/2143 [12:17<02:46,  2.37it/s]"
          ]
        },
        {
          "output_type": "stream",
          "name": "stdout",
          "text": [
            "Ошибка при получении данных для формулы Co1.59Fe0.41O4: 404\n",
            "Ошибка при получении данных для формулы Co0.96Fe0.04: 404\n"
          ]
        },
        {
          "output_type": "stream",
          "name": "stderr",
          "text": [
            "\rProcessing compounds:  82%|████████▏ | 1750/2143 [12:18<02:42,  2.41it/s]"
          ]
        },
        {
          "output_type": "stream",
          "name": "stdout",
          "text": [
            "Ошибка при получении данных для формулы Co1.59Fe0.41O4: 404\n",
            "Ошибка при получении данных для формулы Co0.96Fe0.04: 404\n"
          ]
        },
        {
          "output_type": "stream",
          "name": "stderr",
          "text": [
            "\rProcessing compounds:  82%|████████▏ | 1751/2143 [12:18<02:40,  2.45it/s]"
          ]
        },
        {
          "output_type": "stream",
          "name": "stdout",
          "text": [
            "Ошибка при получении данных для формулы Co0.99Fe1.01O4: 404\n"
          ]
        },
        {
          "output_type": "stream",
          "name": "stderr",
          "text": [
            "\rProcessing compounds:  82%|████████▏ | 1752/2143 [12:18<02:40,  2.44it/s]"
          ]
        },
        {
          "output_type": "stream",
          "name": "stdout",
          "text": [
            "Ошибка при получении данных для формулы Co0.96Fe0.04: 404\n",
            "Ошибка при получении данных для формулы Co0.99Fe1.01O4: 404\n",
            "Ошибка при получении данных для формулы Co0.76Fe0.24: 404\n"
          ]
        },
        {
          "output_type": "stream",
          "name": "stderr",
          "text": [
            "\rProcessing compounds:  82%|████████▏ | 1753/2143 [12:19<02:40,  2.42it/s]"
          ]
        },
        {
          "output_type": "stream",
          "name": "stdout",
          "text": [
            "Ошибка при получении данных для формулы Co1.3Fe0.7O4: 404\n",
            "Ошибка при получении данных для формулы Co0.76Fe0.24: 404\n"
          ]
        },
        {
          "output_type": "stream",
          "name": "stderr",
          "text": [
            "\rProcessing compounds:  82%|████████▏ | 1754/2143 [12:19<02:39,  2.44it/s]"
          ]
        },
        {
          "output_type": "stream",
          "name": "stdout",
          "text": [
            "Ошибка при получении данных для формулы Co1.3Fe0.7O4: 404\n"
          ]
        },
        {
          "output_type": "stream",
          "name": "stderr",
          "text": [
            "\rProcessing compounds:  82%|████████▏ | 1755/2143 [12:20<02:41,  2.40it/s]"
          ]
        },
        {
          "output_type": "stream",
          "name": "stdout",
          "text": [
            "Сохранен и добавлен в архив: compound_445063_c1.json\n",
            "Ошибка при получении данных для формулы 0: 404\n"
          ]
        },
        {
          "output_type": "stream",
          "name": "stderr",
          "text": [
            "/usr/lib/python3.11/zipfile.py:1567: UserWarning: Duplicate name: 'compound_445063_c1.json'\n",
            "  return self._open_to_write(zinfo, force_zip64=force_zip64)\n",
            "\rProcessing compounds:  82%|████████▏ | 1756/2143 [12:20<02:54,  2.22it/s]"
          ]
        },
        {
          "output_type": "stream",
          "name": "stdout",
          "text": [
            "Сохранен и добавлен в архив: compound_445063_c1.json\n",
            "Ошибка при получении данных для формулы 0: 404\n",
            "Ошибка при получении данных для формулы Co0.77Fe0.23: 404\n"
          ]
        },
        {
          "output_type": "stream",
          "name": "stderr",
          "text": [
            "\rProcessing compounds:  82%|████████▏ | 1757/2143 [12:21<02:54,  2.21it/s]"
          ]
        },
        {
          "output_type": "stream",
          "name": "stdout",
          "text": [
            "Ошибка при получении данных для формулы Co1.3Fe0.7O4: 404\n"
          ]
        },
        {
          "output_type": "stream",
          "name": "stderr",
          "text": [
            "\rProcessing compounds:  82%|████████▏ | 1758/2143 [12:21<02:48,  2.29it/s]"
          ]
        },
        {
          "output_type": "stream",
          "name": "stdout",
          "text": [
            "Ошибка при получении данных для формулы Co0.77Fe0.23: 404\n",
            "Ошибка при получении данных для формулы Co1.3Fe0.7O4: 404\n"
          ]
        },
        {
          "output_type": "stream",
          "name": "stderr",
          "text": [
            "\rProcessing compounds:  82%|████████▏ | 1759/2143 [12:21<02:42,  2.36it/s]"
          ]
        },
        {
          "output_type": "stream",
          "name": "stdout",
          "text": [
            "Ошибка при получении данных для формулы Co0.96Fe0.04: 404\n",
            "Ошибка при получении данных для формулы Co1.59Fe0.41O4: 404\n",
            "Ошибка при получении данных для формулы Co0.96Fe0.04: 404\n"
          ]
        },
        {
          "output_type": "stream",
          "name": "stderr",
          "text": [
            "\rProcessing compounds:  82%|████████▏ | 1760/2143 [12:22<02:40,  2.39it/s]"
          ]
        },
        {
          "output_type": "stream",
          "name": "stdout",
          "text": [
            "Ошибка при получении данных для формулы Co1.59Fe0.41O4: 404\n",
            "Ошибка при получении данных для формулы Co0.96Fe0.04: 404\n"
          ]
        },
        {
          "output_type": "stream",
          "name": "stderr",
          "text": [
            "\rProcessing compounds:  82%|████████▏ | 1761/2143 [12:22<02:36,  2.44it/s]"
          ]
        },
        {
          "output_type": "stream",
          "name": "stdout",
          "text": [
            "Ошибка при получении данных для формулы Co1.59Fe0.41O4: 404\n",
            "Ошибка при получении данных для формулы Co0.96Fe0.04: 404\n"
          ]
        },
        {
          "output_type": "stream",
          "name": "stderr",
          "text": [
            "\rProcessing compounds:  82%|████████▏ | 1762/2143 [12:23<02:34,  2.46it/s]"
          ]
        },
        {
          "output_type": "stream",
          "name": "stdout",
          "text": [
            "Ошибка при получении данных для формулы Co0.99Fe1.01O4: 404\n",
            "Ошибка при получении данных для формулы Co0.96Fe0.04: 404\n"
          ]
        },
        {
          "output_type": "stream",
          "name": "stderr",
          "text": [
            "\rProcessing compounds:  82%|████████▏ | 1763/2143 [12:23<02:40,  2.36it/s]"
          ]
        },
        {
          "output_type": "stream",
          "name": "stdout",
          "text": [
            "Ошибка при получении данных для формулы Co0.99Fe1.01O4: 404\n",
            "Ошибка при получении данных для формулы Co0.96Fe0.04: 404\n"
          ]
        },
        {
          "output_type": "stream",
          "name": "stderr",
          "text": [
            "\rProcessing compounds:  82%|████████▏ | 1764/2143 [12:23<02:37,  2.41it/s]"
          ]
        },
        {
          "output_type": "stream",
          "name": "stdout",
          "text": [
            "Ошибка при получении данных для формулы Co0.99Fe1.01O4: 404\n"
          ]
        },
        {
          "output_type": "stream",
          "name": "stderr",
          "text": [
            "\rProcessing compounds:  82%|████████▏ | 1765/2143 [12:24<02:36,  2.41it/s]"
          ]
        },
        {
          "output_type": "stream",
          "name": "stdout",
          "text": [
            "Ошибка при получении данных для формулы Co0.96Fe0.04: 404\n",
            "Ошибка при получении данных для формулы Co0.99Fe1.01O4: 404\n",
            "Ошибка при получении данных для формулы Co0.96Fe0.04: 404\n"
          ]
        },
        {
          "output_type": "stream",
          "name": "stderr",
          "text": [
            "\rProcessing compounds:  82%|████████▏ | 1766/2143 [12:24<02:45,  2.28it/s]"
          ]
        },
        {
          "output_type": "stream",
          "name": "stdout",
          "text": [
            "Ошибка при получении данных для формулы Co0.99Fe1.01O4: 404\n",
            "Ошибка при получении данных для формулы Co0.96Fe0.04: 404\n"
          ]
        },
        {
          "output_type": "stream",
          "name": "stderr",
          "text": [
            "\rProcessing compounds:  82%|████████▏ | 1767/2143 [12:25<02:40,  2.35it/s]"
          ]
        },
        {
          "output_type": "stream",
          "name": "stdout",
          "text": [
            "Ошибка при получении данных для формулы Co0.99Fe1.01O4: 404\n",
            "Сохранен и добавлен в архив: compound_5460341_c1.json\n"
          ]
        },
        {
          "output_type": "stream",
          "name": "stderr",
          "text": [
            "\rProcessing compounds:  83%|████████▎ | 1768/2143 [12:25<02:47,  2.24it/s]"
          ]
        },
        {
          "output_type": "stream",
          "name": "stdout",
          "text": [
            "Ошибка при получении данных для формулы La2CoMnO6: 404\n"
          ]
        },
        {
          "output_type": "stream",
          "name": "stderr",
          "text": [
            "/usr/lib/python3.11/zipfile.py:1567: UserWarning: Duplicate name: 'compound_5460341_c1.json'\n",
            "  return self._open_to_write(zinfo, force_zip64=force_zip64)\n",
            "Processing compounds:  83%|████████▎ | 1769/2143 [12:26<02:41,  2.31it/s]"
          ]
        },
        {
          "output_type": "stream",
          "name": "stdout",
          "text": [
            "Сохранен и добавлен в архив: compound_5460341_c1.json\n",
            "Ошибка при получении данных для формулы La2CoMnO6: 404\n",
            "Сохранен и добавлен в архив: compound_5460341_c1.json\n"
          ]
        },
        {
          "output_type": "stream",
          "name": "stderr",
          "text": [
            "\rProcessing compounds:  83%|████████▎ | 1770/2143 [12:26<02:52,  2.16it/s]"
          ]
        },
        {
          "output_type": "stream",
          "name": "stdout",
          "text": [
            "Ошибка при получении данных для формулы La2CoMnO6: 404\n"
          ]
        },
        {
          "output_type": "stream",
          "name": "stderr",
          "text": [
            "\rProcessing compounds:  83%|████████▎ | 1771/2143 [12:27<03:03,  2.03it/s]"
          ]
        },
        {
          "output_type": "stream",
          "name": "stdout",
          "text": [
            "Сохранен и добавлен в архив: compound_5460341_c1.json\n",
            "Ошибка при получении данных для формулы La2CoMnO6: 404\n"
          ]
        },
        {
          "output_type": "stream",
          "name": "stderr",
          "text": [
            "\rProcessing compounds:  83%|████████▎ | 1772/2143 [12:27<02:58,  2.08it/s]"
          ]
        },
        {
          "output_type": "stream",
          "name": "stdout",
          "text": [
            "Сохранен и добавлен в архив: compound_5460341_c1.json\n",
            "Ошибка при получении данных для формулы La2CoMnO6: 404\n"
          ]
        },
        {
          "output_type": "stream",
          "name": "stderr",
          "text": [
            "\rProcessing compounds:  83%|████████▎ | 1773/2143 [12:28<02:48,  2.19it/s]"
          ]
        },
        {
          "output_type": "stream",
          "name": "stdout",
          "text": [
            "Сохранен и добавлен в архив: compound_5460341_c1.json\n",
            "Ошибка при получении данных для формулы La2CoMnO6: 404\n",
            "Ошибка при получении данных для формулы Sm0.5Ca0.5MnO3: 404\n"
          ]
        },
        {
          "output_type": "stream",
          "name": "stderr",
          "text": [
            "\rProcessing compounds:  83%|████████▎ | 1774/2143 [12:28<02:42,  2.27it/s]"
          ]
        },
        {
          "output_type": "stream",
          "name": "stdout",
          "text": [
            "Сохранен и добавлен в архив: compound_104730_c2.json\n",
            "Ошибка при получении данных для формулы Sm0.5Ca0.5MnO3: 404\n"
          ]
        },
        {
          "output_type": "stream",
          "name": "stderr",
          "text": [
            "\rProcessing compounds:  83%|████████▎ | 1775/2143 [12:28<02:41,  2.27it/s]"
          ]
        },
        {
          "output_type": "stream",
          "name": "stdout",
          "text": [
            "Сохранен и добавлен в архив: compound_104730_c2.json\n",
            "Ошибка при получении данных для формулы Sm0.5Ca0.5MnO3: 404\n"
          ]
        },
        {
          "output_type": "stream",
          "name": "stderr",
          "text": [
            "\rProcessing compounds:  83%|████████▎ | 1776/2143 [12:29<02:44,  2.23it/s]"
          ]
        },
        {
          "output_type": "stream",
          "name": "stdout",
          "text": [
            "Сохранен и добавлен в архив: compound_104730_c2.json\n",
            "Ошибка при получении данных для формулы Sm0.5Ca0.5MnO3: 404\n"
          ]
        },
        {
          "output_type": "stream",
          "name": "stderr",
          "text": [
            "\rProcessing compounds:  83%|████████▎ | 1777/2143 [12:29<02:39,  2.30it/s]"
          ]
        },
        {
          "output_type": "stream",
          "name": "stdout",
          "text": [
            "Сохранен и добавлен в архив: compound_104730_c2.json\n",
            "Ошибка при получении данных для формулы Sm0.5Ca0.5MnO3: 404\n"
          ]
        },
        {
          "output_type": "stream",
          "name": "stderr",
          "text": [
            "\rProcessing compounds:  83%|████████▎ | 1778/2143 [12:30<02:35,  2.35it/s]"
          ]
        },
        {
          "output_type": "stream",
          "name": "stdout",
          "text": [
            "Сохранен и добавлен в архив: compound_104730_c2.json\n",
            "Ошибка при получении данных для формулы Sm0.5Ca0.5MnO3: 404\n"
          ]
        },
        {
          "output_type": "stream",
          "name": "stderr",
          "text": [
            "\rProcessing compounds:  83%|████████▎ | 1779/2143 [12:30<02:33,  2.38it/s]"
          ]
        },
        {
          "output_type": "stream",
          "name": "stdout",
          "text": [
            "Сохранен и добавлен в архив: compound_104730_c2.json\n",
            "Ошибка при получении данных для формулы Sm0.5Ca0.5MnO3: 404\n"
          ]
        },
        {
          "output_type": "stream",
          "name": "stderr",
          "text": [
            "\rProcessing compounds:  83%|████████▎ | 1780/2143 [12:31<02:30,  2.41it/s]"
          ]
        },
        {
          "output_type": "stream",
          "name": "stdout",
          "text": [
            "Сохранен и добавлен в архив: compound_104730_c2.json\n",
            "Ошибка при получении данных для формулы Sm0.5Ca0.5MnO3: 404\n"
          ]
        },
        {
          "output_type": "stream",
          "name": "stderr",
          "text": [
            "\rProcessing compounds:  83%|████████▎ | 1781/2143 [12:31<02:44,  2.21it/s]"
          ]
        },
        {
          "output_type": "stream",
          "name": "stdout",
          "text": [
            "Сохранен и добавлен в архив: compound_104730_c2.json\n",
            "Ошибка при получении данных для формулы Sm0.5Ca0.5MnO3: 404\n"
          ]
        },
        {
          "output_type": "stream",
          "name": "stderr",
          "text": [
            "\rProcessing compounds:  83%|████████▎ | 1782/2143 [12:32<03:00,  2.00it/s]"
          ]
        },
        {
          "output_type": "stream",
          "name": "stdout",
          "text": [
            "Сохранен и добавлен в архив: compound_104730_c2.json\n",
            "Ошибка при получении данных для формулы Sm0.5Ca0.5MnO3: 404\n"
          ]
        },
        {
          "output_type": "stream",
          "name": "stderr",
          "text": [
            "\rProcessing compounds:  83%|████████▎ | 1783/2143 [12:32<02:59,  2.00it/s]"
          ]
        },
        {
          "output_type": "stream",
          "name": "stdout",
          "text": [
            "Сохранен и добавлен в архив: compound_104730_c2.json\n",
            "Ошибка при получении данных для формулы Sm0.5Ca0.5MnO3: 404\n"
          ]
        },
        {
          "output_type": "stream",
          "name": "stderr",
          "text": [
            "\rProcessing compounds:  83%|████████▎ | 1784/2143 [12:33<03:03,  1.96it/s]"
          ]
        },
        {
          "output_type": "stream",
          "name": "stdout",
          "text": [
            "Сохранен и добавлен в архив: compound_104730_c2.json\n",
            "Ошибка при получении данных для формулы Sm0.5Ca0.5MnO3: 404\n"
          ]
        },
        {
          "output_type": "stream",
          "name": "stderr",
          "text": [
            "\rProcessing compounds:  83%|████████▎ | 1785/2143 [12:33<03:00,  1.98it/s]"
          ]
        },
        {
          "output_type": "stream",
          "name": "stdout",
          "text": [
            "Сохранен и добавлен в архив: compound_104730_c2.json\n",
            "Ошибка при получении данных для формулы Sm0.5Ca0.5MnO3: 404\n"
          ]
        },
        {
          "output_type": "stream",
          "name": "stderr",
          "text": [
            "\rProcessing compounds:  83%|████████▎ | 1786/2143 [12:34<02:55,  2.03it/s]"
          ]
        },
        {
          "output_type": "stream",
          "name": "stdout",
          "text": [
            "Сохранен и добавлен в архив: compound_104730_c2.json\n",
            "Ошибка при получении данных для формулы Sm0.5Ca0.5MnO3: 404\n"
          ]
        },
        {
          "output_type": "stream",
          "name": "stderr",
          "text": [
            "\rProcessing compounds:  83%|████████▎ | 1787/2143 [12:34<02:45,  2.15it/s]"
          ]
        },
        {
          "output_type": "stream",
          "name": "stdout",
          "text": [
            "Сохранен и добавлен в архив: compound_104730_c2.json\n",
            "Ошибка при получении данных для формулы Sm0.5Ca0.5MnO3: 404\n"
          ]
        },
        {
          "output_type": "stream",
          "name": "stderr",
          "text": [
            "\rProcessing compounds:  83%|████████▎ | 1788/2143 [12:34<02:39,  2.23it/s]"
          ]
        },
        {
          "output_type": "stream",
          "name": "stdout",
          "text": [
            "Сохранен и добавлен в архив: compound_104730_c2.json\n",
            "Ошибка при получении данных для формулы Sm0.5Ca0.5MnO3: 404\n"
          ]
        },
        {
          "output_type": "stream",
          "name": "stderr",
          "text": [
            "\rProcessing compounds:  83%|████████▎ | 1789/2143 [12:35<02:41,  2.19it/s]"
          ]
        },
        {
          "output_type": "stream",
          "name": "stdout",
          "text": [
            "Сохранен и добавлен в архив: compound_104730_c2.json\n",
            "Ошибка при получении данных для формулы Sm0.5Ca0.5MnO3: 404\n"
          ]
        },
        {
          "output_type": "stream",
          "name": "stderr",
          "text": [
            "\rProcessing compounds:  84%|████████▎ | 1790/2143 [12:35<02:35,  2.27it/s]"
          ]
        },
        {
          "output_type": "stream",
          "name": "stdout",
          "text": [
            "Сохранен и добавлен в архив: compound_104730_c2.json\n"
          ]
        },
        {
          "output_type": "stream",
          "name": "stderr",
          "text": [
            "\rProcessing compounds:  84%|████████▎ | 1791/2143 [12:36<02:31,  2.32it/s]"
          ]
        },
        {
          "output_type": "stream",
          "name": "stdout",
          "text": [
            "Сохранен и добавлен в архив: compound_16211978_c1.json\n",
            "Сохранен и добавлен в архив: compound_14786_c2.json\n",
            "Сохранен и добавлен в архив: compound_16211978_c1.json\n"
          ]
        },
        {
          "output_type": "stream",
          "name": "stderr",
          "text": [
            "\rProcessing compounds:  84%|████████▎ | 1792/2143 [12:36<02:37,  2.23it/s]"
          ]
        },
        {
          "output_type": "stream",
          "name": "stdout",
          "text": [
            "Сохранен и добавлен в архив: compound_14786_c2.json\n"
          ]
        },
        {
          "output_type": "stream",
          "name": "stderr",
          "text": [
            "\rProcessing compounds:  84%|████████▎ | 1793/2143 [12:37<02:44,  2.12it/s]"
          ]
        },
        {
          "output_type": "stream",
          "name": "stdout",
          "text": [
            "Сохранен и добавлен в архив: compound_16211978_c1.json\n",
            "Сохранен и добавлен в архив: compound_14786_c2.json\n"
          ]
        },
        {
          "output_type": "stream",
          "name": "stderr",
          "text": [
            "\rProcessing compounds:  84%|████████▎ | 1794/2143 [12:37<02:39,  2.19it/s]"
          ]
        },
        {
          "output_type": "stream",
          "name": "stdout",
          "text": [
            "Сохранен и добавлен в архив: compound_16211978_c1.json\n",
            "Сохранен и добавлен в архив: compound_14786_c2.json\n"
          ]
        },
        {
          "output_type": "stream",
          "name": "stderr",
          "text": [
            "\rProcessing compounds:  84%|████████▍ | 1795/2143 [12:38<02:32,  2.28it/s]"
          ]
        },
        {
          "output_type": "stream",
          "name": "stdout",
          "text": [
            "Сохранен и добавлен в архив: compound_16211978_c1.json\n",
            "Сохранен и добавлен в архив: compound_14786_c2.json\n"
          ]
        },
        {
          "output_type": "stream",
          "name": "stderr",
          "text": [
            "\rProcessing compounds:  84%|████████▍ | 1796/2143 [12:38<02:28,  2.34it/s]"
          ]
        },
        {
          "output_type": "stream",
          "name": "stdout",
          "text": [
            "Сохранен и добавлен в архив: compound_16211978_c1.json\n",
            "Сохранен и добавлен в архив: compound_14786_c2.json\n"
          ]
        },
        {
          "output_type": "stream",
          "name": "stderr",
          "text": [
            "\rProcessing compounds:  84%|████████▍ | 1797/2143 [12:38<02:25,  2.38it/s]"
          ]
        },
        {
          "output_type": "stream",
          "name": "stdout",
          "text": [
            "Сохранен и добавлен в архив: compound_16211978_c1.json\n",
            "Сохранен и добавлен в архив: compound_14786_c2.json\n"
          ]
        },
        {
          "output_type": "stream",
          "name": "stderr",
          "text": [
            "\rProcessing compounds:  84%|████████▍ | 1798/2143 [12:39<02:22,  2.42it/s]"
          ]
        },
        {
          "output_type": "stream",
          "name": "stdout",
          "text": [
            "Сохранен и добавлен в архив: compound_16211978_c1.json\n",
            "Сохранен и добавлен в архив: compound_14786_c2.json\n"
          ]
        },
        {
          "output_type": "stream",
          "name": "stderr",
          "text": [
            "\rProcessing compounds:  84%|████████▍ | 1799/2143 [12:39<02:20,  2.44it/s]"
          ]
        },
        {
          "output_type": "stream",
          "name": "stdout",
          "text": [
            "Сохранен и добавлен в архив: compound_16211978_c1.json\n",
            "Сохранен и добавлен в архив: compound_14786_c2.json\n"
          ]
        },
        {
          "output_type": "stream",
          "name": "stderr",
          "text": [
            "\rProcessing compounds:  84%|████████▍ | 1800/2143 [12:40<02:19,  2.46it/s]"
          ]
        },
        {
          "output_type": "stream",
          "name": "stdout",
          "text": [
            "Сохранен и добавлен в архив: compound_16211978_c1.json\n",
            "Сохранен и добавлен в архив: compound_14786_c2.json\n"
          ]
        },
        {
          "output_type": "stream",
          "name": "stderr",
          "text": [
            "\rProcessing compounds:  84%|████████▍ | 1801/2143 [12:40<02:18,  2.48it/s]"
          ]
        },
        {
          "output_type": "stream",
          "name": "stdout",
          "text": [
            "Ошибка при получении данных для формулы FeO: 404\n",
            "Сохранен и добавлен в архив: compound_16211978_c2.json\n"
          ]
        },
        {
          "output_type": "stream",
          "name": "stderr",
          "text": [
            "\rProcessing compounds:  84%|████████▍ | 1802/2143 [12:40<02:16,  2.49it/s]"
          ]
        },
        {
          "output_type": "stream",
          "name": "stdout",
          "text": [
            "Ошибка при получении данных для формулы FeO: 404\n",
            "Сохранен и добавлен в архив: compound_16211978_c2.json\n"
          ]
        },
        {
          "output_type": "stream",
          "name": "stderr",
          "text": [
            "\rProcessing compounds:  84%|████████▍ | 1803/2143 [12:41<02:15,  2.50it/s]"
          ]
        },
        {
          "output_type": "stream",
          "name": "stdout",
          "text": [
            "Ошибка при получении данных для формулы FeO: 404\n",
            "Сохранен и добавлен в архив: compound_16211978_c2.json\n",
            "Ошибка при получении данных для формулы FeO: 404\n"
          ]
        },
        {
          "output_type": "stream",
          "name": "stderr",
          "text": [
            "\rProcessing compounds:  84%|████████▍ | 1804/2143 [12:41<02:32,  2.22it/s]"
          ]
        },
        {
          "output_type": "stream",
          "name": "stdout",
          "text": [
            "Сохранен и добавлен в архив: compound_16211978_c2.json\n",
            "Ошибка при получении данных для формулы FeO: 404\n"
          ]
        },
        {
          "output_type": "stream",
          "name": "stderr",
          "text": [
            "\rProcessing compounds:  84%|████████▍ | 1805/2143 [12:42<02:27,  2.30it/s]"
          ]
        },
        {
          "output_type": "stream",
          "name": "stdout",
          "text": [
            "Сохранен и добавлен в архив: compound_16211978_c2.json\n",
            "Ошибка при получении данных для формулы FeO: 404\n"
          ]
        },
        {
          "output_type": "stream",
          "name": "stderr",
          "text": [
            "\rProcessing compounds:  84%|████████▍ | 1806/2143 [12:42<02:22,  2.36it/s]"
          ]
        },
        {
          "output_type": "stream",
          "name": "stdout",
          "text": [
            "Сохранен и добавлен в архив: compound_16211978_c2.json\n"
          ]
        },
        {
          "output_type": "stream",
          "name": "stderr",
          "text": [
            "\rProcessing compounds:  84%|████████▍ | 1807/2143 [12:43<02:25,  2.31it/s]"
          ]
        },
        {
          "output_type": "stream",
          "name": "stdout",
          "text": [
            "Ошибка при получении данных для формулы FeO: 404\n",
            "Сохранен и добавлен в архив: compound_16211978_c2.json\n"
          ]
        },
        {
          "output_type": "stream",
          "name": "stderr",
          "text": [
            "\rProcessing compounds:  84%|████████▍ | 1808/2143 [12:43<02:21,  2.37it/s]"
          ]
        },
        {
          "output_type": "stream",
          "name": "stdout",
          "text": [
            "Ошибка при получении данных для формулы FeO: 404\n",
            "Сохранен и добавлен в архив: compound_16211978_c2.json\n",
            "Ошибка при получении данных для формулы FeO: 404\n"
          ]
        },
        {
          "output_type": "stream",
          "name": "stderr",
          "text": [
            "\rProcessing compounds:  84%|████████▍ | 1809/2143 [12:43<02:18,  2.40it/s]"
          ]
        },
        {
          "output_type": "stream",
          "name": "stdout",
          "text": [
            "Сохранен и добавлен в архив: compound_16211978_c2.json\n"
          ]
        },
        {
          "output_type": "stream",
          "name": "stderr",
          "text": [
            "/usr/lib/python3.11/zipfile.py:1567: UserWarning: Duplicate name: 'compound_14801_c1.json'\n",
            "  return self._open_to_write(zinfo, force_zip64=force_zip64)\n",
            "\rProcessing compounds:  84%|████████▍ | 1810/2143 [12:44<02:17,  2.42it/s]"
          ]
        },
        {
          "output_type": "stream",
          "name": "stdout",
          "text": [
            "Сохранен и добавлен в архив: compound_14801_c1.json\n",
            "Ошибка при получении данных для формулы 0: 404\n"
          ]
        },
        {
          "output_type": "stream",
          "name": "stderr",
          "text": [
            "\rProcessing compounds:  85%|████████▍ | 1811/2143 [12:44<02:16,  2.44it/s]"
          ]
        },
        {
          "output_type": "stream",
          "name": "stdout",
          "text": [
            "Сохранен и добавлен в архив: compound_14801_c1.json\n",
            "Ошибка при получении данных для формулы 0: 404\n"
          ]
        },
        {
          "output_type": "stream",
          "name": "stderr",
          "text": [
            "\rProcessing compounds:  85%|████████▍ | 1812/2143 [12:45<02:15,  2.45it/s]"
          ]
        },
        {
          "output_type": "stream",
          "name": "stdout",
          "text": [
            "Сохранен и добавлен в архив: compound_14801_c1.json\n",
            "Ошибка при получении данных для формулы 0: 404\n"
          ]
        },
        {
          "output_type": "stream",
          "name": "stderr",
          "text": [
            "\rProcessing compounds:  85%|████████▍ | 1813/2143 [12:45<02:14,  2.46it/s]"
          ]
        },
        {
          "output_type": "stream",
          "name": "stdout",
          "text": [
            "Сохранен и добавлен в архив: compound_14801_c1.json\n",
            "Ошибка при получении данных для формулы 0: 404\n"
          ]
        },
        {
          "output_type": "stream",
          "name": "stderr",
          "text": [
            "\rProcessing compounds:  85%|████████▍ | 1814/2143 [12:45<02:12,  2.48it/s]"
          ]
        },
        {
          "output_type": "stream",
          "name": "stdout",
          "text": [
            "Сохранен и добавлен в архив: compound_14801_c1.json\n",
            "Ошибка при получении данных для формулы 0: 404\n"
          ]
        },
        {
          "output_type": "stream",
          "name": "stderr",
          "text": [
            "\rProcessing compounds:  85%|████████▍ | 1815/2143 [12:46<02:11,  2.49it/s]"
          ]
        },
        {
          "output_type": "stream",
          "name": "stdout",
          "text": [
            "Сохранен и добавлен в архив: compound_14801_c1.json\n",
            "Ошибка при получении данных для формулы 0: 404\n"
          ]
        },
        {
          "output_type": "stream",
          "name": "stderr",
          "text": [
            "\rProcessing compounds:  85%|████████▍ | 1816/2143 [12:46<02:11,  2.48it/s]"
          ]
        },
        {
          "output_type": "stream",
          "name": "stdout",
          "text": [
            "Сохранен и добавлен в архив: compound_14801_c1.json\n",
            "Ошибка при получении данных для формулы 0: 404\n"
          ]
        },
        {
          "output_type": "stream",
          "name": "stderr",
          "text": [
            "\rProcessing compounds:  85%|████████▍ | 1817/2143 [12:47<02:10,  2.49it/s]"
          ]
        },
        {
          "output_type": "stream",
          "name": "stdout",
          "text": [
            "Сохранен и добавлен в архив: compound_14801_c1.json\n",
            "Ошибка при получении данных для формулы 0: 404\n"
          ]
        },
        {
          "output_type": "stream",
          "name": "stderr",
          "text": [
            "\rProcessing compounds:  85%|████████▍ | 1818/2143 [12:47<02:10,  2.50it/s]"
          ]
        },
        {
          "output_type": "stream",
          "name": "stdout",
          "text": [
            "Сохранен и добавлен в архив: compound_14801_c1.json\n",
            "Ошибка при получении данных для формулы 0: 404\n"
          ]
        },
        {
          "output_type": "stream",
          "name": "stderr",
          "text": [
            "\rProcessing compounds:  85%|████████▍ | 1819/2143 [12:47<02:09,  2.51it/s]"
          ]
        },
        {
          "output_type": "stream",
          "name": "stdout",
          "text": [
            "Сохранен и добавлен в архив: compound_14801_c1.json\n",
            "Ошибка при получении данных для формулы 0: 404\n",
            "Ошибка при получении данных для формулы Mn3O4: 404\n"
          ]
        },
        {
          "output_type": "stream",
          "name": "stderr",
          "text": [
            "\rProcessing compounds:  85%|████████▍ | 1820/2143 [12:48<02:23,  2.25it/s]"
          ]
        },
        {
          "output_type": "stream",
          "name": "stdout",
          "text": [
            "Сохранен и добавлен в архив: compound_444604_c2.json\n",
            "Ошибка при получении данных для формулы Mn3O4: 404\n"
          ]
        },
        {
          "output_type": "stream",
          "name": "stderr",
          "text": [
            "\rProcessing compounds:  85%|████████▍ | 1821/2143 [12:49<02:41,  1.99it/s]"
          ]
        },
        {
          "output_type": "stream",
          "name": "stdout",
          "text": [
            "Сохранен и добавлен в архив: compound_444604_c2.json\n",
            "Ошибка при получении данных для формулы Mn3O4: 404\n"
          ]
        },
        {
          "output_type": "stream",
          "name": "stderr",
          "text": [
            "\rProcessing compounds:  85%|████████▌ | 1822/2143 [12:49<02:36,  2.06it/s]"
          ]
        },
        {
          "output_type": "stream",
          "name": "stdout",
          "text": [
            "Сохранен и добавлен в архив: compound_444604_c2.json\n",
            "Ошибка при получении данных для формулы FeCo: 404\n"
          ]
        },
        {
          "output_type": "stream",
          "name": "stderr",
          "text": [
            "\rProcessing compounds:  85%|████████▌ | 1823/2143 [12:49<02:26,  2.18it/s]"
          ]
        },
        {
          "output_type": "stream",
          "name": "stdout",
          "text": [
            "Ошибка при получении данных для формулы MgO: 404\n",
            "Ошибка при получении данных для формулы FeCo: 404\n"
          ]
        },
        {
          "output_type": "stream",
          "name": "stderr",
          "text": [
            "\rProcessing compounds:  85%|████████▌ | 1824/2143 [12:50<02:23,  2.23it/s]"
          ]
        },
        {
          "output_type": "stream",
          "name": "stdout",
          "text": [
            "Ошибка при получении данных для формулы MgO: 404\n",
            "Ошибка при получении данных для формулы FeCo: 404\n"
          ]
        },
        {
          "output_type": "stream",
          "name": "stderr",
          "text": [
            "\rProcessing compounds:  85%|████████▌ | 1825/2143 [12:50<02:26,  2.16it/s]"
          ]
        },
        {
          "output_type": "stream",
          "name": "stdout",
          "text": [
            "Ошибка при получении данных для формулы MgO: 404\n",
            "Ошибка при получении данных для формулы MgO: 404\n"
          ]
        },
        {
          "output_type": "stream",
          "name": "stderr",
          "text": [
            "\rProcessing compounds:  85%|████████▌ | 1826/2143 [12:51<02:28,  2.14it/s]"
          ]
        },
        {
          "output_type": "stream",
          "name": "stdout",
          "text": [
            "Ошибка при получении данных для формулы MgCo: 404\n",
            "Сохранен и добавлен в архив: compound_935_c1.json\n"
          ]
        },
        {
          "output_type": "stream",
          "name": "stderr",
          "text": [
            "\rProcessing compounds:  85%|████████▌ | 1827/2143 [12:51<02:23,  2.20it/s]"
          ]
        },
        {
          "output_type": "stream",
          "name": "stdout",
          "text": [
            "Сохранен и добавлен в архив: compound_938_c2.json\n",
            "Сохранен и добавлен в архив: compound_935_c1.json\n"
          ]
        },
        {
          "output_type": "stream",
          "name": "stderr",
          "text": [
            "\rProcessing compounds:  85%|████████▌ | 1828/2143 [12:52<02:30,  2.09it/s]"
          ]
        },
        {
          "output_type": "stream",
          "name": "stdout",
          "text": [
            "Сохранен и добавлен в архив: compound_938_c2.json\n"
          ]
        },
        {
          "output_type": "stream",
          "name": "stderr",
          "text": [
            "\rProcessing compounds:  85%|████████▌ | 1829/2143 [12:52<02:37,  1.99it/s]"
          ]
        },
        {
          "output_type": "stream",
          "name": "stdout",
          "text": [
            "Сохранен и добавлен в архив: compound_935_c1.json\n",
            "Сохранен и добавлен в архив: compound_938_c2.json\n",
            "Сохранен и добавлен в архив: compound_935_c1.json\n"
          ]
        },
        {
          "output_type": "stream",
          "name": "stderr",
          "text": [
            "\rProcessing compounds:  85%|████████▌ | 1830/2143 [12:53<02:29,  2.10it/s]"
          ]
        },
        {
          "output_type": "stream",
          "name": "stdout",
          "text": [
            "Сохранен и добавлен в архив: compound_938_c2.json\n"
          ]
        },
        {
          "output_type": "stream",
          "name": "stderr",
          "text": [
            "\rProcessing compounds:  85%|████████▌ | 1831/2143 [12:53<02:23,  2.17it/s]"
          ]
        },
        {
          "output_type": "stream",
          "name": "stdout",
          "text": [
            "Сохранен и добавлен в архив: compound_935_c1.json\n",
            "Сохранен и добавлен в архив: compound_938_c2.json\n",
            "Сохранен и добавлен в архив: compound_935_c1.json\n"
          ]
        },
        {
          "output_type": "stream",
          "name": "stderr",
          "text": [
            "\rProcessing compounds:  85%|████████▌ | 1832/2143 [12:54<02:19,  2.23it/s]"
          ]
        },
        {
          "output_type": "stream",
          "name": "stdout",
          "text": [
            "Сохранен и добавлен в архив: compound_938_c2.json\n",
            "Сохранен и добавлен в архив: compound_935_c1.json\n"
          ]
        },
        {
          "output_type": "stream",
          "name": "stderr",
          "text": [
            "\rProcessing compounds:  86%|████████▌ | 1833/2143 [12:54<02:28,  2.08it/s]"
          ]
        },
        {
          "output_type": "stream",
          "name": "stdout",
          "text": [
            "Сохранен и добавлен в архив: compound_938_c2.json\n",
            "Сохранен и добавлен в архив: compound_935_c1.json\n"
          ]
        },
        {
          "output_type": "stream",
          "name": "stderr",
          "text": [
            "\rProcessing compounds:  86%|████████▌ | 1834/2143 [12:55<02:22,  2.16it/s]"
          ]
        },
        {
          "output_type": "stream",
          "name": "stdout",
          "text": [
            "Сохранен и добавлен в архив: compound_938_c2.json\n",
            "Ошибка при получении данных для формулы Ni3Al: 404\n"
          ]
        },
        {
          "output_type": "stream",
          "name": "stderr",
          "text": [
            "\rProcessing compounds:  86%|████████▌ | 1835/2143 [12:55<02:17,  2.24it/s]"
          ]
        },
        {
          "output_type": "stream",
          "name": "stdout",
          "text": [
            "Сохранен и добавлен в архив: compound_938_c2.json\n",
            "Ошибка при получении данных для формулы Ni3Al: 404\n"
          ]
        },
        {
          "output_type": "stream",
          "name": "stderr",
          "text": [
            "\rProcessing compounds:  86%|████████▌ | 1836/2143 [12:55<02:13,  2.30it/s]"
          ]
        },
        {
          "output_type": "stream",
          "name": "stdout",
          "text": [
            "Сохранен и добавлен в архив: compound_938_c2.json\n"
          ]
        },
        {
          "output_type": "stream",
          "name": "stderr",
          "text": [
            "\rProcessing compounds:  86%|████████▌ | 1837/2143 [12:56<02:09,  2.36it/s]"
          ]
        },
        {
          "output_type": "stream",
          "name": "stdout",
          "text": [
            "Ошибка при получении данных для формулы Co0.3Fe0.7O: 404\n",
            "Ошибка при получении данных для формулы Co0.6Fe2.4O4: 404\n"
          ]
        },
        {
          "output_type": "stream",
          "name": "stderr",
          "text": [
            "\rProcessing compounds:  86%|████████▌ | 1838/2143 [12:56<02:06,  2.40it/s]"
          ]
        },
        {
          "output_type": "stream",
          "name": "stdout",
          "text": [
            "Ошибка при получении данных для формулы Co0.3Fe0.7O: 404\n",
            "Ошибка при получении данных для формулы Co0.6Fe2.4O4: 404\n",
            "Ошибка при получении данных для формулы Co0.3Fe0.7O: 404\n"
          ]
        },
        {
          "output_type": "stream",
          "name": "stderr",
          "text": [
            "\rProcessing compounds:  86%|████████▌ | 1839/2143 [12:57<02:05,  2.43it/s]"
          ]
        },
        {
          "output_type": "stream",
          "name": "stdout",
          "text": [
            "Ошибка при получении данных для формулы Co0.6Fe2.4O4: 404\n",
            "Ошибка при получении данных для формулы Co0.3Fe0.7O: 404\n"
          ]
        },
        {
          "output_type": "stream",
          "name": "stderr",
          "text": [
            "\rProcessing compounds:  86%|████████▌ | 1840/2143 [12:57<02:06,  2.39it/s]"
          ]
        },
        {
          "output_type": "stream",
          "name": "stdout",
          "text": [
            "Ошибка при получении данных для формулы Co0.6Fe2.4O4: 404\n",
            "Ошибка при получении данных для формулы Co0.3Fe0.7O: 404\n"
          ]
        },
        {
          "output_type": "stream",
          "name": "stderr",
          "text": [
            "\rProcessing compounds:  86%|████████▌ | 1841/2143 [12:57<02:04,  2.43it/s]"
          ]
        },
        {
          "output_type": "stream",
          "name": "stdout",
          "text": [
            "Ошибка при получении данных для формулы Co0.6Fe2.4O4: 404\n",
            "Ошибка при получении данных для формулы Co0.3Fe0.7O: 404\n"
          ]
        },
        {
          "output_type": "stream",
          "name": "stderr",
          "text": [
            "\rProcessing compounds:  86%|████████▌ | 1842/2143 [12:58<02:02,  2.46it/s]"
          ]
        },
        {
          "output_type": "stream",
          "name": "stdout",
          "text": [
            "Ошибка при получении данных для формулы Co0.6Fe2.4O4: 404\n"
          ]
        },
        {
          "output_type": "stream",
          "name": "stderr",
          "text": [
            "\rProcessing compounds:  86%|████████▌ | 1843/2143 [12:58<02:03,  2.42it/s]"
          ]
        },
        {
          "output_type": "stream",
          "name": "stdout",
          "text": [
            "Ошибка при получении данных для формулы Co0.3Fe0.7O: 404\n",
            "Ошибка при получении данных для формулы Co0.6Fe2.4O4: 404\n"
          ]
        },
        {
          "output_type": "stream",
          "name": "stderr",
          "text": [
            "\rProcessing compounds:  86%|████████▌ | 1844/2143 [12:59<02:03,  2.43it/s]"
          ]
        },
        {
          "output_type": "stream",
          "name": "stdout",
          "text": [
            "Ошибка при получении данных для формулы Co0.3Fe0.7O: 404\n",
            "Ошибка при получении данных для формулы Co0.6Fe2.4O4: 404\n"
          ]
        },
        {
          "output_type": "stream",
          "name": "stderr",
          "text": [
            "\rProcessing compounds:  86%|████████▌ | 1845/2143 [12:59<02:01,  2.46it/s]"
          ]
        },
        {
          "output_type": "stream",
          "name": "stdout",
          "text": [
            "Сохранен и добавлен в архив: compound_938_c1.json\n",
            "Ошибка при получении данных для формулы CoFe2O4: 404\n"
          ]
        },
        {
          "output_type": "stream",
          "name": "stderr",
          "text": [
            "\rProcessing compounds:  86%|████████▌ | 1846/2143 [12:59<01:59,  2.48it/s]"
          ]
        },
        {
          "output_type": "stream",
          "name": "stdout",
          "text": [
            "Сохранен и добавлен в архив: compound_938_c1.json\n",
            "Ошибка при получении данных для формулы CoFe2O4: 404\n"
          ]
        },
        {
          "output_type": "stream",
          "name": "stderr",
          "text": [
            "\rProcessing compounds:  86%|████████▌ | 1847/2143 [13:00<01:59,  2.49it/s]"
          ]
        },
        {
          "output_type": "stream",
          "name": "stdout",
          "text": [
            "Сохранен и добавлен в архив: compound_938_c1.json\n",
            "Ошибка при получении данных для формулы CoFe2O4: 404\n"
          ]
        },
        {
          "output_type": "stream",
          "name": "stderr",
          "text": [
            "\rProcessing compounds:  86%|████████▌ | 1848/2143 [13:00<01:58,  2.49it/s]"
          ]
        },
        {
          "output_type": "stream",
          "name": "stdout",
          "text": [
            "Сохранен и добавлен в архив: compound_938_c1.json\n",
            "Ошибка при получении данных для формулы CoFe2O4: 404\n"
          ]
        },
        {
          "output_type": "stream",
          "name": "stderr",
          "text": [
            "\rProcessing compounds:  86%|████████▋ | 1849/2143 [13:01<01:57,  2.50it/s]"
          ]
        },
        {
          "output_type": "stream",
          "name": "stdout",
          "text": [
            "Сохранен и добавлен в архив: compound_938_c1.json\n",
            "Ошибка при получении данных для формулы CoFe2O4: 404\n"
          ]
        },
        {
          "output_type": "stream",
          "name": "stderr",
          "text": [
            "\rProcessing compounds:  86%|████████▋ | 1850/2143 [13:01<01:57,  2.50it/s]"
          ]
        },
        {
          "output_type": "stream",
          "name": "stdout",
          "text": [
            "Сохранен и добавлен в архив: compound_938_c1.json\n",
            "Ошибка при получении данных для формулы CoFe2O4: 404\n"
          ]
        },
        {
          "output_type": "stream",
          "name": "stderr",
          "text": [
            "\rProcessing compounds:  86%|████████▋ | 1851/2143 [13:01<01:56,  2.50it/s]"
          ]
        },
        {
          "output_type": "stream",
          "name": "stdout",
          "text": [
            "Сохранен и добавлен в архив: compound_517277_c1.json\n",
            "Ошибка при получении данных для формулы Mn0.30Cr1.7O3: 404\n"
          ]
        },
        {
          "output_type": "stream",
          "name": "stderr",
          "text": [
            "\rProcessing compounds:  86%|████████▋ | 1852/2143 [13:02<01:56,  2.50it/s]"
          ]
        },
        {
          "output_type": "stream",
          "name": "stdout",
          "text": [
            "Сохранен и добавлен в архив: compound_517277_c1.json\n",
            "Ошибка при получении данных для формулы Mn0.30Cr1.7O3: 404\n",
            "Сохранен и добавлен в архив: compound_938_c1.json\n"
          ]
        },
        {
          "output_type": "stream",
          "name": "stderr",
          "text": [
            "\rProcessing compounds:  86%|████████▋ | 1853/2143 [13:02<01:57,  2.47it/s]"
          ]
        },
        {
          "output_type": "stream",
          "name": "stdout",
          "text": [
            "Сохранен и добавлен в архив: compound_935_c2.json\n",
            "Сохранен и добавлен в архив: compound_938_c1.json\n"
          ]
        },
        {
          "output_type": "stream",
          "name": "stderr",
          "text": [
            "/usr/lib/python3.11/zipfile.py:1567: UserWarning: Duplicate name: 'compound_935_c2.json'\n",
            "  return self._open_to_write(zinfo, force_zip64=force_zip64)\n",
            "\rProcessing compounds:  87%|████████▋ | 1854/2143 [13:03<01:58,  2.44it/s]"
          ]
        },
        {
          "output_type": "stream",
          "name": "stdout",
          "text": [
            "Сохранен и добавлен в архив: compound_935_c2.json\n",
            "Сохранен и добавлен в архив: compound_938_c1.json\n"
          ]
        },
        {
          "output_type": "stream",
          "name": "stderr",
          "text": [
            "\rProcessing compounds:  87%|████████▋ | 1855/2143 [13:03<02:02,  2.35it/s]"
          ]
        },
        {
          "output_type": "stream",
          "name": "stdout",
          "text": [
            "Сохранен и добавлен в архив: compound_935_c2.json\n",
            "Ошибка при получении данных для формулы Fe0.95O3: 404\n"
          ]
        },
        {
          "output_type": "stream",
          "name": "stderr",
          "text": [
            "\rProcessing compounds:  87%|████████▋ | 1856/2143 [13:04<02:00,  2.38it/s]"
          ]
        },
        {
          "output_type": "stream",
          "name": "stdout",
          "text": [
            "Ошибка при получении данных для формулы Mn0.05: 404\n",
            "Ошибка при получении данных для формулы Fe0.95O3: 404\n"
          ]
        },
        {
          "output_type": "stream",
          "name": "stderr",
          "text": [
            "\rProcessing compounds:  87%|████████▋ | 1857/2143 [13:04<02:09,  2.20it/s]"
          ]
        },
        {
          "output_type": "stream",
          "name": "stdout",
          "text": [
            "Ошибка при получении данных для формулы Mn0.05: 404\n",
            "Ошибка при получении данных для формулы Fe0.85O3: 404\n"
          ]
        },
        {
          "output_type": "stream",
          "name": "stderr",
          "text": [
            "\rProcessing compounds:  87%|████████▋ | 1858/2143 [13:05<02:09,  2.20it/s]"
          ]
        },
        {
          "output_type": "stream",
          "name": "stdout",
          "text": [
            "Ошибка при получении данных для формулы Mn0.15: 404\n",
            "Ошибка при получении данных для формулы Fe0.85O3: 404\n"
          ]
        },
        {
          "output_type": "stream",
          "name": "stderr",
          "text": [
            "\rProcessing compounds:  87%|████████▋ | 1859/2143 [13:05<02:09,  2.19it/s]"
          ]
        },
        {
          "output_type": "stream",
          "name": "stdout",
          "text": [
            "Ошибка при получении данных для формулы Mn0.15: 404\n",
            "Ошибка при получении данных для формулы Fe0.75O3: 404\n"
          ]
        },
        {
          "output_type": "stream",
          "name": "stderr",
          "text": [
            "\rProcessing compounds:  87%|████████▋ | 1860/2143 [13:06<02:22,  1.99it/s]"
          ]
        },
        {
          "output_type": "stream",
          "name": "stdout",
          "text": [
            "Ошибка при получении данных для формулы Mn0.25: 404\n"
          ]
        },
        {
          "output_type": "stream",
          "name": "stderr",
          "text": [
            "\rProcessing compounds:  87%|████████▋ | 1861/2143 [13:06<02:19,  2.03it/s]"
          ]
        },
        {
          "output_type": "stream",
          "name": "stdout",
          "text": [
            "Ошибка при получении данных для формулы Fe0.75O3: 404\n",
            "Ошибка при получении данных для формулы Mn0.25: 404\n",
            "Ошибка при получении данных для формулы Fe0.75O3: 404\n"
          ]
        },
        {
          "output_type": "stream",
          "name": "stderr",
          "text": [
            "\rProcessing compounds:  87%|████████▋ | 1862/2143 [13:07<02:18,  2.03it/s]"
          ]
        },
        {
          "output_type": "stream",
          "name": "stdout",
          "text": [
            "Ошибка при получении данных для формулы Mn0.25: 404\n",
            "Ошибка при получении данных для формулы Fe0.75O3: 404\n"
          ]
        },
        {
          "output_type": "stream",
          "name": "stderr",
          "text": [
            "\rProcessing compounds:  87%|████████▋ | 1863/2143 [13:07<02:26,  1.91it/s]"
          ]
        },
        {
          "output_type": "stream",
          "name": "stdout",
          "text": [
            "Ошибка при получении данных для формулы Mn0.25: 404\n",
            "Ошибка при получении данных для формулы Fe0.75O3: 404\n"
          ]
        },
        {
          "output_type": "stream",
          "name": "stderr",
          "text": [
            "\rProcessing compounds:  87%|████████▋ | 1864/2143 [13:08<02:38,  1.76it/s]"
          ]
        },
        {
          "output_type": "stream",
          "name": "stdout",
          "text": [
            "Ошибка при получении данных для формулы Mn0.25: 404\n"
          ]
        },
        {
          "output_type": "stream",
          "name": "stderr",
          "text": [
            "\rProcessing compounds:  87%|████████▋ | 1865/2143 [13:08<02:36,  1.78it/s]"
          ]
        },
        {
          "output_type": "stream",
          "name": "stdout",
          "text": [
            "Ошибка при получении данных для формулы Fe0.75O3: 404\n",
            "Ошибка при получении данных для формулы Mn0.25: 404\n",
            "Ошибка при получении данных для формулы Fe0.7O3: 404\n"
          ]
        },
        {
          "output_type": "stream",
          "name": "stderr",
          "text": [
            "\rProcessing compounds:  87%|████████▋ | 1866/2143 [13:09<02:39,  1.73it/s]"
          ]
        },
        {
          "output_type": "stream",
          "name": "stdout",
          "text": [
            "Ошибка при получении данных для формулы Mn0.3: 404\n",
            "Ошибка при получении данных для формулы Fe0.7O3: 404\n"
          ]
        },
        {
          "output_type": "stream",
          "name": "stderr",
          "text": [
            "\rProcessing compounds:  87%|████████▋ | 1867/2143 [13:09<02:24,  1.91it/s]"
          ]
        },
        {
          "output_type": "stream",
          "name": "stdout",
          "text": [
            "Ошибка при получении данных для формулы Mn0.3: 404\n",
            "Ошибка при получении данных для формулы Fe0.7O3: 404\n"
          ]
        },
        {
          "output_type": "stream",
          "name": "stderr",
          "text": [
            "\rProcessing compounds:  87%|████████▋ | 1868/2143 [13:10<02:18,  1.99it/s]"
          ]
        },
        {
          "output_type": "stream",
          "name": "stdout",
          "text": [
            "Ошибка при получении данных для формулы Mn0.3: 404\n"
          ]
        },
        {
          "output_type": "stream",
          "name": "stderr",
          "text": [
            "\rProcessing compounds:  87%|████████▋ | 1869/2143 [13:10<02:13,  2.06it/s]"
          ]
        },
        {
          "output_type": "stream",
          "name": "stdout",
          "text": [
            "Ошибка при получении данных для формулы Fe0.7O3: 404\n",
            "Ошибка при получении данных для формулы Mn0.3: 404\n"
          ]
        },
        {
          "output_type": "stream",
          "name": "stderr",
          "text": [
            "\rProcessing compounds:  87%|████████▋ | 1870/2143 [13:11<02:05,  2.18it/s]"
          ]
        },
        {
          "output_type": "stream",
          "name": "stdout",
          "text": [
            "Ошибка при получении данных для формулы Fe0.7O3: 404\n",
            "Ошибка при получении данных для формулы Mn0.3: 404\n"
          ]
        },
        {
          "output_type": "stream",
          "name": "stderr",
          "text": [
            "\rProcessing compounds:  87%|████████▋ | 1871/2143 [13:11<01:59,  2.28it/s]"
          ]
        },
        {
          "output_type": "stream",
          "name": "stdout",
          "text": [
            "Ошибка при получении данных для формулы Fe0.7O3: 404\n",
            "Ошибка при получении данных для формулы Mn0.3: 404\n"
          ]
        },
        {
          "output_type": "stream",
          "name": "stderr",
          "text": [
            "\rProcessing compounds:  87%|████████▋ | 1872/2143 [13:12<01:56,  2.32it/s]"
          ]
        },
        {
          "output_type": "stream",
          "name": "stdout",
          "text": [
            "Сохранен и добавлен в архив: compound_11770311_c1.json\n",
            "Сохранен и добавлен в архив: compound_517277_c2.json\n"
          ]
        },
        {
          "output_type": "stream",
          "name": "stderr",
          "text": [
            "/usr/lib/python3.11/zipfile.py:1567: UserWarning: Duplicate name: 'compound_11770311_c1.json'\n",
            "  return self._open_to_write(zinfo, force_zip64=force_zip64)\n",
            "/usr/lib/python3.11/zipfile.py:1567: UserWarning: Duplicate name: 'compound_517277_c2.json'\n",
            "  return self._open_to_write(zinfo, force_zip64=force_zip64)\n",
            "\rProcessing compounds:  87%|████████▋ | 1873/2143 [13:12<01:53,  2.37it/s]"
          ]
        },
        {
          "output_type": "stream",
          "name": "stdout",
          "text": [
            "Сохранен и добавлен в архив: compound_11770311_c1.json\n",
            "Сохранен и добавлен в архив: compound_517277_c2.json\n"
          ]
        },
        {
          "output_type": "stream",
          "name": "stderr",
          "text": [
            "\rProcessing compounds:  87%|████████▋ | 1874/2143 [13:12<01:51,  2.42it/s]"
          ]
        },
        {
          "output_type": "stream",
          "name": "stdout",
          "text": [
            "Сохранен и добавлен в архив: compound_16211978_c1.json\n",
            "Ошибка при получении данных для формулы 0: 404\n"
          ]
        },
        {
          "output_type": "stream",
          "name": "stderr",
          "text": [
            "\rProcessing compounds:  87%|████████▋ | 1875/2143 [13:13<01:50,  2.43it/s]"
          ]
        },
        {
          "output_type": "stream",
          "name": "stdout",
          "text": [
            "Сохранен и добавлен в архив: compound_16211978_c1.json\n",
            "Ошибка при получении данных для формулы Zn0.4Co0.6Fe2O4: 404\n",
            "Сохранен и добавлен в архив: compound_16211978_c1.json\n"
          ]
        },
        {
          "output_type": "stream",
          "name": "stderr",
          "text": [
            "\rProcessing compounds:  88%|████████▊ | 1876/2143 [13:13<01:48,  2.45it/s]"
          ]
        },
        {
          "output_type": "stream",
          "name": "stdout",
          "text": [
            "Ошибка при получении данных для формулы Zn0.5Co0.5Fe2O4: 404\n",
            "Сохранен и добавлен в архив: compound_16211978_c1.json\n"
          ]
        },
        {
          "output_type": "stream",
          "name": "stderr",
          "text": [
            "\rProcessing compounds:  88%|████████▊ | 1877/2143 [13:14<01:47,  2.46it/s]"
          ]
        },
        {
          "output_type": "stream",
          "name": "stdout",
          "text": [
            "Ошибка при получении данных для формулы Zn0.6Co0.4Fe2O4: 404\n",
            "Сохранен и добавлен в архив: compound_16211978_c1.json\n",
            "Ошибка при получении данных для формулы Zn0.68Co0.32Fe2O4: 404\n"
          ]
        },
        {
          "output_type": "stream",
          "name": "stderr",
          "text": [
            "Processing compounds:  88%|████████▊ | 1879/2143 [13:14<01:46,  2.48it/s]"
          ]
        },
        {
          "output_type": "stream",
          "name": "stdout",
          "text": [
            "Сохранен и добавлен в архив: compound_16211978_c1.json\n",
            "Ошибка при получении данных для формулы Zn0.75Co0.25Fe2O4: 404\n"
          ]
        },
        {
          "output_type": "stream",
          "name": "stderr",
          "text": [
            "\rProcessing compounds:  88%|████████▊ | 1880/2143 [13:15<01:45,  2.48it/s]"
          ]
        },
        {
          "output_type": "stream",
          "name": "stdout",
          "text": [
            "Сохранен и добавлен в архив: compound_16211978_c1.json\n",
            "Ошибка при получении данных для формулы Zn0.82Co0.18Fe2O4: 404\n"
          ]
        },
        {
          "output_type": "stream",
          "name": "stderr",
          "text": [
            "\rProcessing compounds:  88%|████████▊ | 1881/2143 [13:15<01:45,  2.48it/s]"
          ]
        },
        {
          "output_type": "stream",
          "name": "stdout",
          "text": [
            "Сохранен и добавлен в архив: compound_16211978_c1.json\n",
            "Сохранен и добавлен в архив: compound_23954_c2.json\n"
          ]
        },
        {
          "output_type": "stream",
          "name": "stderr",
          "text": [
            "\rProcessing compounds:  88%|████████▊ | 1882/2143 [13:16<01:44,  2.50it/s]"
          ]
        },
        {
          "output_type": "stream",
          "name": "stdout",
          "text": [
            "Ошибка при получении данных для формулы Fe2O3: 404\n",
            "Ошибка при получении данных для формулы Fe2O3: 404\n"
          ]
        },
        {
          "output_type": "stream",
          "name": "stderr",
          "text": [
            "\rProcessing compounds:  88%|████████▊ | 1883/2143 [13:16<01:43,  2.50it/s]"
          ]
        },
        {
          "output_type": "stream",
          "name": "stdout",
          "text": [
            "Ошибка при получении данных для формулы Fe2O3: 404\n",
            "Ошибка при получении данных для формулы Fe2O3: 404\n",
            "Ошибка при получении данных для формулы Fe2O3: 404\n"
          ]
        },
        {
          "output_type": "stream",
          "name": "stderr",
          "text": [
            "\rProcessing compounds:  88%|████████▊ | 1884/2143 [13:16<01:44,  2.48it/s]"
          ]
        },
        {
          "output_type": "stream",
          "name": "stdout",
          "text": [
            "Ошибка при получении данных для формулы Fe2O3: 404\n"
          ]
        },
        {
          "output_type": "stream",
          "name": "stderr",
          "text": [
            "\rProcessing compounds:  88%|████████▊ | 1885/2143 [13:17<01:44,  2.47it/s]"
          ]
        },
        {
          "output_type": "stream",
          "name": "stdout",
          "text": [
            "Ошибка при получении данных для формулы Fe2O3: 404\n",
            "Ошибка при получении данных для формулы Fe2O3: 404\n"
          ]
        },
        {
          "output_type": "stream",
          "name": "stderr",
          "text": [
            "\rProcessing compounds:  88%|████████▊ | 1886/2143 [13:17<01:43,  2.49it/s]"
          ]
        },
        {
          "output_type": "stream",
          "name": "stdout",
          "text": [
            "Ошибка при получении данных для формулы Fe2O3: 404\n",
            "Ошибка при получении данных для формулы Fe2O3: 404\n"
          ]
        },
        {
          "output_type": "stream",
          "name": "stderr",
          "text": [
            "\rProcessing compounds:  88%|████████▊ | 1887/2143 [13:18<01:42,  2.51it/s]"
          ]
        },
        {
          "output_type": "stream",
          "name": "stdout",
          "text": [
            "Ошибка при получении данных для формулы Fe2O3: 404\n",
            "Ошибка при получении данных для формулы Fe2O3: 404\n"
          ]
        },
        {
          "output_type": "stream",
          "name": "stderr",
          "text": [
            "\rProcessing compounds:  88%|████████▊ | 1888/2143 [13:18<01:41,  2.51it/s]"
          ]
        },
        {
          "output_type": "stream",
          "name": "stdout",
          "text": [
            "Ошибка при получении данных для формулы Fe2O3: 404\n",
            "Ошибка при получении данных для формулы Fe2O3: 404\n"
          ]
        },
        {
          "output_type": "stream",
          "name": "stderr",
          "text": [
            "\rProcessing compounds:  88%|████████▊ | 1889/2143 [13:18<01:40,  2.52it/s]"
          ]
        },
        {
          "output_type": "stream",
          "name": "stdout",
          "text": [
            "Ошибка при получении данных для формулы Fe2O3: 404\n",
            "Ошибка при получении данных для формулы Fe2O3: 404\n"
          ]
        },
        {
          "output_type": "stream",
          "name": "stderr",
          "text": [
            "\rProcessing compounds:  88%|████████▊ | 1890/2143 [13:19<01:40,  2.52it/s]"
          ]
        },
        {
          "output_type": "stream",
          "name": "stdout",
          "text": [
            "Ошибка при получении данных для формулы Fe2O3: 404\n",
            "Ошибка при получении данных для формулы Fe2O3: 404\n",
            "Ошибка при получении данных для формулы Fe2O3: 404\n"
          ]
        },
        {
          "output_type": "stream",
          "name": "stderr",
          "text": [
            "\rProcessing compounds:  88%|████████▊ | 1891/2143 [13:19<01:42,  2.47it/s]"
          ]
        },
        {
          "output_type": "stream",
          "name": "stdout",
          "text": [
            "Ошибка при получении данных для формулы Fe2O3: 404\n",
            "Сохранен и добавлен в архив: compound_16211978_c1.json\n"
          ]
        },
        {
          "output_type": "stream",
          "name": "stderr",
          "text": [
            "\rProcessing compounds:  88%|████████▊ | 1892/2143 [13:20<01:41,  2.46it/s]"
          ]
        },
        {
          "output_type": "stream",
          "name": "stdout",
          "text": [
            "Сохранен и добавлен в архив: compound_938_c2.json\n",
            "Сохранен и добавлен в архив: compound_16211978_c1.json\n"
          ]
        },
        {
          "output_type": "stream",
          "name": "stderr",
          "text": [
            "\rProcessing compounds:  88%|████████▊ | 1893/2143 [13:20<01:41,  2.46it/s]"
          ]
        },
        {
          "output_type": "stream",
          "name": "stdout",
          "text": [
            "Сохранен и добавлен в архив: compound_938_c2.json\n",
            "Сохранен и добавлен в архив: compound_16211978_c1.json\n"
          ]
        },
        {
          "output_type": "stream",
          "name": "stderr",
          "text": [
            "\rProcessing compounds:  88%|████████▊ | 1894/2143 [13:20<01:41,  2.46it/s]"
          ]
        },
        {
          "output_type": "stream",
          "name": "stdout",
          "text": [
            "Сохранен и добавлен в архив: compound_938_c2.json\n",
            "Сохранен и добавлен в архив: compound_16211978_c1.json\n"
          ]
        },
        {
          "output_type": "stream",
          "name": "stderr",
          "text": [
            "\rProcessing compounds:  88%|████████▊ | 1895/2143 [13:21<01:41,  2.45it/s]"
          ]
        },
        {
          "output_type": "stream",
          "name": "stdout",
          "text": [
            "Сохранен и добавлен в архив: compound_938_c2.json\n"
          ]
        },
        {
          "output_type": "stream",
          "name": "stderr",
          "text": [
            "\rProcessing compounds:  88%|████████▊ | 1896/2143 [13:21<01:40,  2.46it/s]"
          ]
        },
        {
          "output_type": "stream",
          "name": "stdout",
          "text": [
            "Сохранен и добавлен в архив: compound_16211978_c1.json\n",
            "Сохранен и добавлен в архив: compound_938_c2.json\n"
          ]
        },
        {
          "output_type": "stream",
          "name": "stderr",
          "text": [
            "\rProcessing compounds:  89%|████████▊ | 1897/2143 [13:22<01:39,  2.47it/s]"
          ]
        },
        {
          "output_type": "stream",
          "name": "stdout",
          "text": [
            "Сохранен и добавлен в архив: compound_16211978_c1.json\n",
            "Сохранен и добавлен в архив: compound_938_c2.json\n"
          ]
        },
        {
          "output_type": "stream",
          "name": "stderr",
          "text": [
            "\rProcessing compounds:  89%|████████▊ | 1898/2143 [13:22<01:38,  2.49it/s]"
          ]
        },
        {
          "output_type": "stream",
          "name": "stdout",
          "text": [
            "Ошибка при получении данных для формулы FeCo: 404\n",
            "Ошибка при получении данных для формулы Fe2O3: 404\n"
          ]
        },
        {
          "output_type": "stream",
          "name": "stderr",
          "text": [
            "\rProcessing compounds:  89%|████████▊ | 1899/2143 [13:22<01:37,  2.50it/s]"
          ]
        },
        {
          "output_type": "stream",
          "name": "stdout",
          "text": [
            "Ошибка при получении данных для формулы FeCo: 404\n",
            "Ошибка при получении данных для формулы Fe2O3: 404\n"
          ]
        },
        {
          "output_type": "stream",
          "name": "stderr",
          "text": [
            "\rProcessing compounds:  89%|████████▊ | 1900/2143 [13:23<01:36,  2.52it/s]"
          ]
        },
        {
          "output_type": "stream",
          "name": "stdout",
          "text": [
            "Ошибка при получении данных для формулы FeCo: 404\n",
            "Ошибка при получении данных для формулы Fe2O3: 404\n"
          ]
        },
        {
          "output_type": "stream",
          "name": "stderr",
          "text": [
            "\rProcessing compounds:  89%|████████▊ | 1901/2143 [13:23<01:35,  2.52it/s]"
          ]
        },
        {
          "output_type": "stream",
          "name": "stdout",
          "text": [
            "Ошибка при получении данных для формулы FeCo: 404\n",
            "Ошибка при получении данных для формулы Fe2O3: 404\n"
          ]
        },
        {
          "output_type": "stream",
          "name": "stderr",
          "text": [
            "\rProcessing compounds:  89%|████████▉ | 1902/2143 [13:24<01:38,  2.45it/s]"
          ]
        },
        {
          "output_type": "stream",
          "name": "stdout",
          "text": [
            "Ошибка при получении данных для формулы FeCo: 404\n",
            "Ошибка при получении данных для формулы Fe2O3: 404\n"
          ]
        },
        {
          "output_type": "stream",
          "name": "stderr",
          "text": [
            "\rProcessing compounds:  89%|████████▉ | 1903/2143 [13:24<01:37,  2.47it/s]"
          ]
        },
        {
          "output_type": "stream",
          "name": "stdout",
          "text": [
            "Ошибка при получении данных для формулы FeCo: 404\n",
            "Ошибка при получении данных для формулы Fe2O3: 404\n"
          ]
        },
        {
          "output_type": "stream",
          "name": "stderr",
          "text": [
            "\rProcessing compounds:  89%|████████▉ | 1904/2143 [13:24<01:35,  2.49it/s]"
          ]
        },
        {
          "output_type": "stream",
          "name": "stdout",
          "text": [
            "Ошибка при получении данных для формулы FeCo: 404\n",
            "Ошибка при получении данных для формулы Fe2O3: 404\n"
          ]
        },
        {
          "output_type": "stream",
          "name": "stderr",
          "text": [
            "\rProcessing compounds:  89%|████████▉ | 1905/2143 [13:25<01:34,  2.51it/s]"
          ]
        },
        {
          "output_type": "stream",
          "name": "stdout",
          "text": [
            "Ошибка при получении данных для формулы FeCo: 404\n",
            "Ошибка при получении данных для формулы Fe2O3: 404\n"
          ]
        },
        {
          "output_type": "stream",
          "name": "stderr",
          "text": [
            "\rProcessing compounds:  89%|████████▉ | 1906/2143 [13:25<01:34,  2.50it/s]"
          ]
        },
        {
          "output_type": "stream",
          "name": "stdout",
          "text": [
            "Сохранен и добавлен в архив: compound_938_c1.json\n",
            "Ошибка при получении данных для формулы Mn3O4: 404\n"
          ]
        },
        {
          "output_type": "stream",
          "name": "stderr",
          "text": [
            "\rProcessing compounds:  89%|████████▉ | 1907/2143 [13:26<01:34,  2.50it/s]"
          ]
        },
        {
          "output_type": "stream",
          "name": "stdout",
          "text": [
            "Сохранен и добавлен в архив: compound_938_c1.json\n",
            "Ошибка при получении данных для формулы Mn3O4: 404\n"
          ]
        },
        {
          "output_type": "stream",
          "name": "stderr",
          "text": [
            "\rProcessing compounds:  89%|████████▉ | 1908/2143 [13:26<01:33,  2.50it/s]"
          ]
        },
        {
          "output_type": "stream",
          "name": "stdout",
          "text": [
            "Сохранен и добавлен в архив: compound_938_c1.json\n",
            "Ошибка при получении данных для формулы Mn3O4: 404\n"
          ]
        },
        {
          "output_type": "stream",
          "name": "stderr",
          "text": [
            "\rProcessing compounds:  89%|████████▉ | 1909/2143 [13:26<01:33,  2.50it/s]"
          ]
        },
        {
          "output_type": "stream",
          "name": "stdout",
          "text": [
            "Сохранен и добавлен в архив: compound_938_c1.json\n",
            "Ошибка при получении данных для формулы Mn3O4: 404\n"
          ]
        },
        {
          "output_type": "stream",
          "name": "stderr",
          "text": [
            "\rProcessing compounds:  89%|████████▉ | 1910/2143 [13:27<01:32,  2.51it/s]"
          ]
        },
        {
          "output_type": "stream",
          "name": "stdout",
          "text": [
            "Сохранен и добавлен в архив: compound_938_c1.json\n",
            "Ошибка при получении данных для формулы Mn3O4: 404\n"
          ]
        },
        {
          "output_type": "stream",
          "name": "stderr",
          "text": [
            "\rProcessing compounds:  89%|████████▉ | 1911/2143 [13:27<01:32,  2.51it/s]"
          ]
        },
        {
          "output_type": "stream",
          "name": "stdout",
          "text": [
            "Сохранен и добавлен в архив: compound_938_c1.json\n",
            "Ошибка при получении данных для формулы Mn3O4: 404\n",
            "Сохранен и добавлен в архив: compound_938_c1.json\n"
          ]
        },
        {
          "output_type": "stream",
          "name": "stderr",
          "text": [
            "\rProcessing compounds:  89%|████████▉ | 1912/2143 [13:28<01:32,  2.49it/s]"
          ]
        },
        {
          "output_type": "stream",
          "name": "stdout",
          "text": [
            "Ошибка при получении данных для формулы Mn3O4: 404\n"
          ]
        },
        {
          "output_type": "stream",
          "name": "stderr",
          "text": [
            "\rProcessing compounds:  89%|████████▉ | 1913/2143 [13:28<01:32,  2.49it/s]"
          ]
        },
        {
          "output_type": "stream",
          "name": "stdout",
          "text": [
            "Сохранен и добавлен в архив: compound_938_c1.json\n",
            "Ошибка при получении данных для формулы Mn3O4: 404\n"
          ]
        },
        {
          "output_type": "stream",
          "name": "stderr",
          "text": [
            "\rProcessing compounds:  89%|████████▉ | 1914/2143 [13:28<01:37,  2.36it/s]"
          ]
        },
        {
          "output_type": "stream",
          "name": "stdout",
          "text": [
            "Сохранен и добавлен в архив: compound_935_c1.json\n",
            "Ошибка при получении данных для формулы La2MnO6: 404\n"
          ]
        },
        {
          "output_type": "stream",
          "name": "stderr",
          "text": [
            "\rProcessing compounds:  89%|████████▉ | 1915/2143 [13:29<01:36,  2.37it/s]"
          ]
        },
        {
          "output_type": "stream",
          "name": "stdout",
          "text": [
            "Сохранен и добавлен в архив: compound_935_c1.json\n",
            "Ошибка при получении данных для формулы La2MnO6: 404\n"
          ]
        },
        {
          "output_type": "stream",
          "name": "stderr",
          "text": [
            "\rProcessing compounds:  89%|████████▉ | 1916/2143 [13:29<01:35,  2.38it/s]"
          ]
        },
        {
          "output_type": "stream",
          "name": "stdout",
          "text": [
            "Сохранен и добавлен в архив: compound_935_c1.json\n",
            "Ошибка при получении данных для формулы La2MnO6: 404\n"
          ]
        },
        {
          "output_type": "stream",
          "name": "stderr",
          "text": [
            "\rProcessing compounds:  89%|████████▉ | 1917/2143 [13:30<01:34,  2.40it/s]"
          ]
        },
        {
          "output_type": "stream",
          "name": "stdout",
          "text": [
            "Сохранен и добавлен в архив: compound_23974_c1.json\n",
            "Ошибка при получении данных для формулы FeCr0.5O3: 404\n"
          ]
        },
        {
          "output_type": "stream",
          "name": "stderr",
          "text": [
            "\rProcessing compounds:  90%|████████▉ | 1918/2143 [13:30<01:33,  2.41it/s]"
          ]
        },
        {
          "output_type": "stream",
          "name": "stdout",
          "text": [
            "Сохранен и добавлен в архив: compound_23942_c1.json\n",
            "Ошибка при получении данных для формулы FeCr0.5O3: 404\n"
          ]
        },
        {
          "output_type": "stream",
          "name": "stderr",
          "text": [
            "\rProcessing compounds:  90%|████████▉ | 1919/2143 [13:31<01:36,  2.31it/s]"
          ]
        },
        {
          "output_type": "stream",
          "name": "stdout",
          "text": [
            "Сохранен и добавлен в архив: compound_23934_c1.json\n",
            "Ошибка при получении данных для формулы FeCr0.5O3: 404\n",
            "Сохранен и добавлен в архив: compound_23951_c1.json\n"
          ]
        },
        {
          "output_type": "stream",
          "name": "stderr",
          "text": [
            "\rProcessing compounds:  90%|████████▉ | 1920/2143 [13:31<01:37,  2.29it/s]"
          ]
        },
        {
          "output_type": "stream",
          "name": "stdout",
          "text": [
            "Ошибка при получении данных для формулы FeCr0.5O3: 404\n",
            "Ошибка при получении данных для формулы FeO: 404\n"
          ]
        },
        {
          "output_type": "stream",
          "name": "stderr",
          "text": [
            "\rProcessing compounds:  90%|████████▉ | 1921/2143 [13:31<01:34,  2.35it/s]"
          ]
        },
        {
          "output_type": "stream",
          "name": "stdout",
          "text": [
            "Сохранен и добавлен в архив: compound_16211978_c2.json\n",
            "Ошибка при получении данных для формулы CoFeO: 404\n"
          ]
        },
        {
          "output_type": "stream",
          "name": "stderr",
          "text": [
            "\rProcessing compounds:  90%|████████▉ | 1922/2143 [13:32<01:32,  2.38it/s]"
          ]
        },
        {
          "output_type": "stream",
          "name": "stdout",
          "text": [
            "Сохранен и добавлен в архив: compound_16211978_c2.json\n",
            "Ошибка при получении данных для формулы NiCoFeO: 404\n"
          ]
        },
        {
          "output_type": "stream",
          "name": "stderr",
          "text": [
            "\rProcessing compounds:  90%|████████▉ | 1923/2143 [13:32<01:31,  2.41it/s]"
          ]
        },
        {
          "output_type": "stream",
          "name": "stdout",
          "text": [
            "Сохранен и добавлен в архив: compound_16211978_c2.json\n",
            "Ошибка при получении данных для формулы FeO: 404\n"
          ]
        },
        {
          "output_type": "stream",
          "name": "stderr",
          "text": [
            "\rProcessing compounds:  90%|████████▉ | 1924/2143 [13:33<01:30,  2.42it/s]"
          ]
        },
        {
          "output_type": "stream",
          "name": "stdout",
          "text": [
            "Сохранен и добавлен в архив: compound_16211978_c2.json\n",
            "Ошибка при получении данных для формулы CoFeO: 404\n"
          ]
        },
        {
          "output_type": "stream",
          "name": "stderr",
          "text": [
            "\rProcessing compounds:  90%|████████▉ | 1925/2143 [13:33<01:29,  2.43it/s]"
          ]
        },
        {
          "output_type": "stream",
          "name": "stdout",
          "text": [
            "Сохранен и добавлен в архив: compound_16211978_c2.json\n",
            "Ошибка при получении данных для формулы NiCoFeO: 404\n"
          ]
        },
        {
          "output_type": "stream",
          "name": "stderr",
          "text": [
            "\rProcessing compounds:  90%|████████▉ | 1926/2143 [13:33<01:31,  2.38it/s]"
          ]
        },
        {
          "output_type": "stream",
          "name": "stdout",
          "text": [
            "Сохранен и добавлен в архив: compound_16211978_c2.json\n",
            "Сохранен и добавлен в архив: compound_14786_c1.json\n"
          ]
        },
        {
          "output_type": "stream",
          "name": "stderr",
          "text": [
            "\rProcessing compounds:  90%|████████▉ | 1927/2143 [13:34<01:29,  2.42it/s]"
          ]
        },
        {
          "output_type": "stream",
          "name": "stdout",
          "text": [
            "Ошибка при получении данных для формулы CoFe: 404\n",
            "Сохранен и добавлен в архив: compound_14786_c1.json\n"
          ]
        },
        {
          "output_type": "stream",
          "name": "stderr",
          "text": [
            "\rProcessing compounds:  90%|████████▉ | 1928/2143 [13:34<01:34,  2.27it/s]"
          ]
        },
        {
          "output_type": "stream",
          "name": "stdout",
          "text": [
            "Ошибка при получении данных для формулы CoFe: 404\n"
          ]
        },
        {
          "output_type": "stream",
          "name": "stderr",
          "text": [
            "\rProcessing compounds:  90%|█████████ | 1929/2143 [13:35<01:31,  2.34it/s]"
          ]
        },
        {
          "output_type": "stream",
          "name": "stdout",
          "text": [
            "Сохранен и добавлен в архив: compound_14786_c1.json\n",
            "Ошибка при получении данных для формулы CoFe: 404\n"
          ]
        },
        {
          "output_type": "stream",
          "name": "stderr",
          "text": [
            "\rProcessing compounds:  90%|█████████ | 1930/2143 [13:35<01:30,  2.35it/s]"
          ]
        },
        {
          "output_type": "stream",
          "name": "stdout",
          "text": [
            "Сохранен и добавлен в архив: compound_16211978_c1.json\n",
            "Сохранен и добавлен в архив: compound_14786_c2.json\n"
          ]
        },
        {
          "output_type": "stream",
          "name": "stderr",
          "text": [
            "\rProcessing compounds:  90%|█████████ | 1931/2143 [13:36<01:28,  2.39it/s]"
          ]
        },
        {
          "output_type": "stream",
          "name": "stdout",
          "text": [
            "Сохранен и добавлен в архив: compound_16211978_c1.json\n",
            "Сохранен и добавлен в архив: compound_14786_c2.json\n"
          ]
        },
        {
          "output_type": "stream",
          "name": "stderr",
          "text": [
            "\rProcessing compounds:  90%|█████████ | 1932/2143 [13:36<01:26,  2.43it/s]"
          ]
        },
        {
          "output_type": "stream",
          "name": "stdout",
          "text": [
            "Сохранен и добавлен в архив: compound_16211978_c1.json\n",
            "Сохранен и добавлен в архив: compound_14786_c2.json\n"
          ]
        },
        {
          "output_type": "stream",
          "name": "stderr",
          "text": [
            "\rProcessing compounds:  90%|█████████ | 1933/2143 [13:36<01:26,  2.44it/s]"
          ]
        },
        {
          "output_type": "stream",
          "name": "stdout",
          "text": [
            "Сохранен и добавлен в архив: compound_16211978_c1.json\n",
            "Сохранен и добавлен в архив: compound_14786_c2.json\n",
            "Ошибка при получении данных для формулы CrO2: 404\n",
            "Сохранен и добавлен в архив: compound_517277_c2.json\n"
          ]
        },
        {
          "output_type": "stream",
          "name": "stderr",
          "text": [
            "Processing compounds:  90%|█████████ | 1935/2143 [13:37<01:25,  2.42it/s]"
          ]
        },
        {
          "output_type": "stream",
          "name": "stdout",
          "text": [
            "Сохранен и добавлен в архив: compound_14915_c1.json\n",
            "Ошибка при получении данных для формулы Cr2O4: 404\n"
          ]
        },
        {
          "output_type": "stream",
          "name": "stderr",
          "text": [
            "\rProcessing compounds:  90%|█████████ | 1936/2143 [13:38<01:24,  2.45it/s]"
          ]
        },
        {
          "output_type": "stream",
          "name": "stdout",
          "text": [
            "Ошибка при получении данных для формулы Fe2O3: 404\n",
            "Ошибка при получении данных для формулы 0: 404\n"
          ]
        },
        {
          "output_type": "stream",
          "name": "stderr",
          "text": [
            "\rProcessing compounds:  90%|█████████ | 1937/2143 [13:38<01:23,  2.48it/s]"
          ]
        },
        {
          "output_type": "stream",
          "name": "stdout",
          "text": [
            "Ошибка при получении данных для формулы Fe2O3: 404\n",
            "Ошибка при получении данных для формулы 0: 404\n"
          ]
        },
        {
          "output_type": "stream",
          "name": "stderr",
          "text": [
            "\rProcessing compounds:  90%|█████████ | 1938/2143 [13:38<01:22,  2.49it/s]"
          ]
        },
        {
          "output_type": "stream",
          "name": "stdout",
          "text": [
            "Ошибка при получении данных для формулы Fe2O3: 404\n",
            "Ошибка при получении данных для формулы 0: 404\n"
          ]
        },
        {
          "output_type": "stream",
          "name": "stderr",
          "text": [
            "\rProcessing compounds:  90%|█████████ | 1939/2143 [13:39<01:21,  2.51it/s]"
          ]
        },
        {
          "output_type": "stream",
          "name": "stdout",
          "text": [
            "Ошибка при получении данных для формулы Fe2O3: 404\n",
            "Ошибка при получении данных для формулы 0: 404\n"
          ]
        },
        {
          "output_type": "stream",
          "name": "stderr",
          "text": [
            "\rProcessing compounds:  91%|█████████ | 1940/2143 [13:39<01:20,  2.52it/s]"
          ]
        },
        {
          "output_type": "stream",
          "name": "stdout",
          "text": [
            "Ошибка при получении данных для формулы Fe2O3: 404\n",
            "Ошибка при получении данных для формулы 0: 404\n"
          ]
        },
        {
          "output_type": "stream",
          "name": "stderr",
          "text": [
            "\rProcessing compounds:  91%|█████████ | 1941/2143 [13:40<01:20,  2.52it/s]"
          ]
        },
        {
          "output_type": "stream",
          "name": "stdout",
          "text": [
            "Ошибка при получении данных для формулы Fe2O3: 404\n",
            "Ошибка при получении данных для формулы 0: 404\n"
          ]
        },
        {
          "output_type": "stream",
          "name": "stderr",
          "text": [
            "\rProcessing compounds:  91%|█████████ | 1942/2143 [13:40<01:19,  2.53it/s]"
          ]
        },
        {
          "output_type": "stream",
          "name": "stdout",
          "text": [
            "Ошибка при получении данных для формулы Fe2O3: 404\n",
            "Ошибка при получении данных для формулы 0: 404\n"
          ]
        },
        {
          "output_type": "stream",
          "name": "stderr",
          "text": [
            "\rProcessing compounds:  91%|█████████ | 1943/2143 [13:40<01:20,  2.49it/s]"
          ]
        },
        {
          "output_type": "stream",
          "name": "stdout",
          "text": [
            "Ошибка при получении данных для формулы Fe2O3: 404\n",
            "Ошибка при получении данных для формулы 0: 404\n"
          ]
        },
        {
          "output_type": "stream",
          "name": "stderr",
          "text": [
            "\rProcessing compounds:  91%|█████████ | 1944/2143 [13:41<01:19,  2.51it/s]"
          ]
        },
        {
          "output_type": "stream",
          "name": "stdout",
          "text": [
            "Ошибка при получении данных для формулы Fe2O3: 404\n",
            "Ошибка при получении данных для формулы 0: 404\n"
          ]
        },
        {
          "output_type": "stream",
          "name": "stderr",
          "text": [
            "\rProcessing compounds:  91%|█████████ | 1945/2143 [13:41<01:19,  2.49it/s]"
          ]
        },
        {
          "output_type": "stream",
          "name": "stdout",
          "text": [
            "Сохранен и добавлен в архив: compound_14801_c1.json\n",
            "Ошибка при получении данных для формулы NiCo2O4: 404\n"
          ]
        },
        {
          "output_type": "stream",
          "name": "stderr",
          "text": [
            "\rProcessing compounds:  91%|█████████ | 1946/2143 [13:42<01:18,  2.50it/s]"
          ]
        },
        {
          "output_type": "stream",
          "name": "stdout",
          "text": [
            "Сохранен и добавлен в архив: compound_14801_c1.json\n",
            "Ошибка при получении данных для формулы NiCo2O4: 404\n"
          ]
        },
        {
          "output_type": "stream",
          "name": "stderr",
          "text": [
            "\rProcessing compounds:  91%|█████████ | 1947/2143 [13:42<01:18,  2.50it/s]"
          ]
        },
        {
          "output_type": "stream",
          "name": "stdout",
          "text": [
            "Сохранен и добавлен в архив: compound_14801_c1.json\n",
            "Ошибка при получении данных для формулы NiCo2O4: 404\n"
          ]
        },
        {
          "output_type": "stream",
          "name": "stderr",
          "text": [
            "\rProcessing compounds:  91%|█████████ | 1948/2143 [13:42<01:17,  2.51it/s]"
          ]
        },
        {
          "output_type": "stream",
          "name": "stdout",
          "text": [
            "Сохранен и добавлен в архив: compound_14801_c1.json\n",
            "Ошибка при получении данных для формулы NiCo2O4: 404\n"
          ]
        },
        {
          "output_type": "stream",
          "name": "stderr",
          "text": [
            "\rProcessing compounds:  91%|█████████ | 1949/2143 [13:43<01:17,  2.51it/s]"
          ]
        },
        {
          "output_type": "stream",
          "name": "stdout",
          "text": [
            "Сохранен и добавлен в архив: compound_16211978_c1.json\n",
            "Ошибка при получении данных для формулы Fe2O3: 404\n"
          ]
        },
        {
          "output_type": "stream",
          "name": "stderr",
          "text": [
            "\rProcessing compounds:  91%|█████████ | 1950/2143 [13:43<01:16,  2.51it/s]"
          ]
        },
        {
          "output_type": "stream",
          "name": "stdout",
          "text": [
            "Сохранен и добавлен в архив: compound_16211978_c1.json\n",
            "Ошибка при получении данных для формулы Fe2O3: 404\n"
          ]
        },
        {
          "output_type": "stream",
          "name": "stderr",
          "text": [
            "\rProcessing compounds:  91%|█████████ | 1951/2143 [13:44<01:16,  2.50it/s]"
          ]
        },
        {
          "output_type": "stream",
          "name": "stdout",
          "text": [
            "Сохранен и добавлен в архив: compound_16211978_c1.json\n",
            "Ошибка при получении данных для формулы Fe2O3: 404\n"
          ]
        },
        {
          "output_type": "stream",
          "name": "stderr",
          "text": [
            "\rProcessing compounds:  91%|█████████ | 1952/2143 [13:44<01:16,  2.49it/s]"
          ]
        },
        {
          "output_type": "stream",
          "name": "stdout",
          "text": [
            "Сохранен и добавлен в архив: compound_16211978_c1.json\n",
            "Ошибка при получении данных для формулы Fe2O3: 404\n"
          ]
        },
        {
          "output_type": "stream",
          "name": "stderr",
          "text": [
            "\rProcessing compounds:  91%|█████████ | 1953/2143 [13:44<01:16,  2.48it/s]"
          ]
        },
        {
          "output_type": "stream",
          "name": "stdout",
          "text": [
            "Сохранен и добавлен в архив: compound_16211978_c1.json\n",
            "Ошибка при получении данных для формулы Fe2O3: 404\n"
          ]
        },
        {
          "output_type": "stream",
          "name": "stderr",
          "text": [
            "\rProcessing compounds:  91%|█████████ | 1954/2143 [13:45<01:16,  2.48it/s]"
          ]
        },
        {
          "output_type": "stream",
          "name": "stdout",
          "text": [
            "Сохранен и добавлен в архив: compound_16211978_c1.json\n",
            "Ошибка при получении данных для формулы Fe2O3: 404\n",
            "Сохранен и добавлен в архив: compound_104730_c1.json\n"
          ]
        },
        {
          "output_type": "stream",
          "name": "stderr",
          "text": [
            "\rProcessing compounds:  91%|█████████ | 1955/2143 [13:45<01:17,  2.41it/s]"
          ]
        },
        {
          "output_type": "stream",
          "name": "stdout",
          "text": [
            "Сохранен и добавлен в архив: compound_24528_c2.json\n",
            "Сохранен и добавлен в архив: compound_104730_c1.json\n"
          ]
        },
        {
          "output_type": "stream",
          "name": "stderr",
          "text": [
            "/usr/lib/python3.11/zipfile.py:1567: UserWarning: Duplicate name: 'compound_24528_c2.json'\n",
            "  return self._open_to_write(zinfo, force_zip64=force_zip64)\n",
            "\rProcessing compounds:  91%|█████████▏| 1956/2143 [13:46<01:23,  2.24it/s]"
          ]
        },
        {
          "output_type": "stream",
          "name": "stdout",
          "text": [
            "Сохранен и добавлен в архив: compound_24528_c2.json\n",
            "Ошибка при получении данных для формулы GeMnTe: 404\n"
          ]
        },
        {
          "output_type": "stream",
          "name": "stderr",
          "text": [
            "\rProcessing compounds:  91%|█████████▏| 1957/2143 [13:46<01:20,  2.30it/s]"
          ]
        },
        {
          "output_type": "stream",
          "name": "stdout",
          "text": [
            "Сохранен и добавлен в архив: compound_444604_c2.json\n",
            "Ошибка при получении данных для формулы GeMnTe: 404\n"
          ]
        },
        {
          "output_type": "stream",
          "name": "stderr",
          "text": [
            "\rProcessing compounds:  91%|█████████▏| 1958/2143 [13:47<01:18,  2.35it/s]"
          ]
        },
        {
          "output_type": "stream",
          "name": "stdout",
          "text": [
            "Сохранен и добавлен в архив: compound_444604_c2.json\n",
            "Ошибка при получении данных для формулы GeMnTe: 404\n"
          ]
        },
        {
          "output_type": "stream",
          "name": "stderr",
          "text": [
            "\rProcessing compounds:  91%|█████████▏| 1959/2143 [13:47<01:17,  2.39it/s]"
          ]
        },
        {
          "output_type": "stream",
          "name": "stdout",
          "text": [
            "Сохранен и добавлен в архив: compound_444604_c2.json\n",
            "Сохранен и добавлен в архив: compound_104730_c1.json\n"
          ]
        },
        {
          "output_type": "stream",
          "name": "stderr",
          "text": [
            "\rProcessing compounds:  91%|█████████▏| 1960/2143 [13:47<01:17,  2.37it/s]"
          ]
        },
        {
          "output_type": "stream",
          "name": "stdout",
          "text": [
            "Сохранен и добавлен в архив: compound_935_c2.json\n",
            "Сохранен и добавлен в архив: compound_104730_c1.json\n"
          ]
        },
        {
          "output_type": "stream",
          "name": "stderr",
          "text": [
            "\rProcessing compounds:  92%|█████████▏| 1961/2143 [13:48<01:17,  2.35it/s]"
          ]
        },
        {
          "output_type": "stream",
          "name": "stdout",
          "text": [
            "Сохранен и добавлен в архив: compound_935_c2.json\n",
            "Сохранен и добавлен в архив: compound_104730_c1.json\n"
          ]
        },
        {
          "output_type": "stream",
          "name": "stderr",
          "text": [
            "\rProcessing compounds:  92%|█████████▏| 1962/2143 [13:48<01:16,  2.36it/s]"
          ]
        },
        {
          "output_type": "stream",
          "name": "stdout",
          "text": [
            "Сохранен и добавлен в архив: compound_935_c2.json\n",
            "Ошибка при получении данных для формулы Fe2O3: 404\n"
          ]
        },
        {
          "output_type": "stream",
          "name": "stderr",
          "text": [
            "\rProcessing compounds:  92%|█████████▏| 1963/2143 [13:49<01:14,  2.41it/s]"
          ]
        },
        {
          "output_type": "stream",
          "name": "stdout",
          "text": [
            "Сохранен и добавлен в архив: compound_16211978_c2.json\n",
            "Ошибка при получении данных для формулы Fe2O3: 404\n"
          ]
        },
        {
          "output_type": "stream",
          "name": "stderr",
          "text": [
            "\rProcessing compounds:  92%|█████████▏| 1964/2143 [13:49<01:13,  2.44it/s]"
          ]
        },
        {
          "output_type": "stream",
          "name": "stdout",
          "text": [
            "Сохранен и добавлен в архив: compound_16211978_c2.json\n",
            "Ошибка при получении данных для формулы Mn3O4: 404\n"
          ]
        },
        {
          "output_type": "stream",
          "name": "stderr",
          "text": [
            "\rProcessing compounds:  92%|█████████▏| 1965/2143 [13:50<01:15,  2.37it/s]"
          ]
        },
        {
          "output_type": "stream",
          "name": "stdout",
          "text": [
            "Сохранен и добавлен в архив: compound_23930_c2.json\n"
          ]
        },
        {
          "output_type": "stream",
          "name": "stderr",
          "text": [
            "\rProcessing compounds:  92%|█████████▏| 1966/2143 [13:50<01:14,  2.39it/s]"
          ]
        },
        {
          "output_type": "stream",
          "name": "stdout",
          "text": [
            "Сохранен и добавлен в архив: compound_104730_c1.json\n",
            "Сохранен и добавлен в архив: compound_14786_c2.json\n",
            "Сохранен и добавлен в архив: compound_104730_c1.json\n"
          ]
        },
        {
          "output_type": "stream",
          "name": "stderr",
          "text": [
            "\rProcessing compounds:  92%|█████████▏| 1967/2143 [13:50<01:13,  2.40it/s]"
          ]
        },
        {
          "output_type": "stream",
          "name": "stdout",
          "text": [
            "Сохранен и добавлен в архив: compound_14786_c2.json\n"
          ]
        },
        {
          "output_type": "stream",
          "name": "stderr",
          "text": [
            "\rProcessing compounds:  92%|█████████▏| 1968/2143 [13:51<01:12,  2.41it/s]"
          ]
        },
        {
          "output_type": "stream",
          "name": "stdout",
          "text": [
            "Сохранен и добавлен в архив: compound_104730_c1.json\n",
            "Сохранен и добавлен в архив: compound_14786_c2.json\n"
          ]
        },
        {
          "output_type": "stream",
          "name": "stderr",
          "text": [
            "\rProcessing compounds:  92%|█████████▏| 1969/2143 [13:51<01:11,  2.43it/s]"
          ]
        },
        {
          "output_type": "stream",
          "name": "stdout",
          "text": [
            "Сохранен и добавлен в архив: compound_104730_c1.json\n",
            "Сохранен и добавлен в архив: compound_14786_c2.json\n"
          ]
        },
        {
          "output_type": "stream",
          "name": "stderr",
          "text": [
            "\rProcessing compounds:  92%|█████████▏| 1970/2143 [13:52<01:11,  2.43it/s]"
          ]
        },
        {
          "output_type": "stream",
          "name": "stdout",
          "text": [
            "Сохранен и добавлен в архив: compound_104730_c1.json\n",
            "Сохранен и добавлен в архив: compound_517277_c2.json\n"
          ]
        },
        {
          "output_type": "stream",
          "name": "stderr",
          "text": [
            "\rProcessing compounds:  92%|█████████▏| 1971/2143 [13:52<01:10,  2.44it/s]"
          ]
        },
        {
          "output_type": "stream",
          "name": "stdout",
          "text": [
            "Сохранен и добавлен в архив: compound_104730_c1.json\n",
            "Сохранен и добавлен в архив: compound_517277_c2.json\n"
          ]
        },
        {
          "output_type": "stream",
          "name": "stderr",
          "text": [
            "\rProcessing compounds:  92%|█████████▏| 1972/2143 [13:52<01:09,  2.44it/s]"
          ]
        },
        {
          "output_type": "stream",
          "name": "stdout",
          "text": [
            "Сохранен и добавлен в архив: compound_104730_c1.json\n",
            "Сохранен и добавлен в архив: compound_517277_c2.json\n"
          ]
        },
        {
          "output_type": "stream",
          "name": "stderr",
          "text": [
            "\rProcessing compounds:  92%|█████████▏| 1973/2143 [13:53<01:09,  2.45it/s]"
          ]
        },
        {
          "output_type": "stream",
          "name": "stdout",
          "text": [
            "Сохранен и добавлен в архив: compound_104730_c1.json\n",
            "Сохранен и добавлен в архив: compound_517277_c2.json\n"
          ]
        },
        {
          "output_type": "stream",
          "name": "stderr",
          "text": [
            "\rProcessing compounds:  92%|█████████▏| 1974/2143 [13:53<01:08,  2.45it/s]"
          ]
        },
        {
          "output_type": "stream",
          "name": "stdout",
          "text": [
            "Сохранен и добавлен в архив: compound_104730_c1.json\n",
            "Сохранен и добавлен в архив: compound_517277_c2.json\n",
            "Сохранен и добавлен в архив: compound_104730_c1.json\n"
          ]
        },
        {
          "output_type": "stream",
          "name": "stderr",
          "text": [
            "\rProcessing compounds:  92%|█████████▏| 1975/2143 [13:54<01:13,  2.30it/s]"
          ]
        },
        {
          "output_type": "stream",
          "name": "stdout",
          "text": [
            "Сохранен и добавлен в архив: compound_517277_c2.json\n",
            "Ошибка при получении данных для формулы CoFe2O4: 404\n"
          ]
        },
        {
          "output_type": "stream",
          "name": "stderr",
          "text": [
            "\rProcessing compounds:  92%|█████████▏| 1976/2143 [13:54<01:13,  2.26it/s]"
          ]
        },
        {
          "output_type": "stream",
          "name": "stdout",
          "text": [
            "Ошибка при получении данных для формулы 0: 404\n",
            "Сохранен и добавлен в архив: compound_104730_c1.json\n"
          ]
        },
        {
          "output_type": "stream",
          "name": "stderr",
          "text": [
            "\rProcessing compounds:  92%|█████████▏| 1977/2143 [13:55<01:12,  2.27it/s]"
          ]
        },
        {
          "output_type": "stream",
          "name": "stdout",
          "text": [
            "Сохранен и добавлен в архив: compound_517277_c2.json\n",
            "Сохранен и добавлен в архив: compound_104730_c1.json\n"
          ]
        },
        {
          "output_type": "stream",
          "name": "stderr",
          "text": [
            "\rProcessing compounds:  92%|█████████▏| 1978/2143 [13:55<01:11,  2.32it/s]"
          ]
        },
        {
          "output_type": "stream",
          "name": "stdout",
          "text": [
            "Сохранен и добавлен в архив: compound_517277_c2.json\n",
            "Сохранен и добавлен в архив: compound_104730_c1.json\n"
          ]
        },
        {
          "output_type": "stream",
          "name": "stderr",
          "text": [
            "\rProcessing compounds:  92%|█████████▏| 1979/2143 [13:55<01:14,  2.21it/s]"
          ]
        },
        {
          "output_type": "stream",
          "name": "stdout",
          "text": [
            "Сохранен и добавлен в архив: compound_517277_c2.json\n",
            "Сохранен и добавлен в архив: compound_104730_c1.json\n"
          ]
        },
        {
          "output_type": "stream",
          "name": "stderr",
          "text": [
            "\rProcessing compounds:  92%|█████████▏| 1980/2143 [13:56<01:11,  2.27it/s]"
          ]
        },
        {
          "output_type": "stream",
          "name": "stdout",
          "text": [
            "Сохранен и добавлен в архив: compound_517277_c2.json\n",
            "Сохранен и добавлен в архив: compound_104730_c1.json\n"
          ]
        },
        {
          "output_type": "stream",
          "name": "stderr",
          "text": [
            "\rProcessing compounds:  92%|█████████▏| 1981/2143 [13:56<01:14,  2.18it/s]"
          ]
        },
        {
          "output_type": "stream",
          "name": "stdout",
          "text": [
            "Сохранен и добавлен в архив: compound_517277_c2.json\n",
            "Ошибка при получении данных для формулы Fe2O3: 404\n"
          ]
        },
        {
          "output_type": "stream",
          "name": "stderr",
          "text": [
            "\rProcessing compounds:  92%|█████████▏| 1982/2143 [13:57<01:11,  2.26it/s]"
          ]
        },
        {
          "output_type": "stream",
          "name": "stdout",
          "text": [
            "Сохранен и добавлен в архив: compound_14786_c2.json\n"
          ]
        },
        {
          "output_type": "stream",
          "name": "stderr",
          "text": [
            "\rProcessing compounds:  93%|█████████▎| 1983/2143 [13:57<01:08,  2.33it/s]"
          ]
        },
        {
          "output_type": "stream",
          "name": "stdout",
          "text": [
            "Сохранен и добавлен в архив: compound_14786_c1.json\n",
            "Ошибка при получении данных для формулы Fe2O3: 404\n"
          ]
        },
        {
          "output_type": "stream",
          "name": "stderr",
          "text": [
            "\rProcessing compounds:  93%|█████████▎| 1984/2143 [13:58<01:07,  2.35it/s]"
          ]
        },
        {
          "output_type": "stream",
          "name": "stdout",
          "text": [
            "Сохранен и добавлен в архив: compound_14829_c1.json\n",
            "Ошибка при получении данных для формулы 0: 404\n",
            "Сохранен и добавлен в архив: compound_938_c1.json\n"
          ]
        },
        {
          "output_type": "stream",
          "name": "stderr",
          "text": [
            "\rProcessing compounds:  93%|█████████▎| 1985/2143 [13:58<01:07,  2.33it/s]"
          ]
        },
        {
          "output_type": "stream",
          "name": "stdout",
          "text": [
            "Сохранен и добавлен в архив: compound_104730_c2.json\n",
            "Сохранен и добавлен в архив: compound_16211978_c1.json\n"
          ]
        },
        {
          "output_type": "stream",
          "name": "stderr",
          "text": [
            "\rProcessing compounds:  93%|█████████▎| 1986/2143 [13:59<01:12,  2.15it/s]"
          ]
        },
        {
          "output_type": "stream",
          "name": "stdout",
          "text": [
            "Ошибка при получении данных для формулы Fe2O3: 404\n"
          ]
        },
        {
          "output_type": "stream",
          "name": "stderr",
          "text": [
            "\rProcessing compounds:  93%|█████████▎| 1987/2143 [13:59<01:09,  2.25it/s]"
          ]
        },
        {
          "output_type": "stream",
          "name": "stdout",
          "text": [
            "Сохранен и добавлен в архив: compound_16211978_c1.json\n",
            "Ошибка при получении данных для формулы Fe2O3: 404\n",
            "Сохранен и добавлен в архив: compound_14786_c1.json\n"
          ]
        },
        {
          "output_type": "stream",
          "name": "stderr",
          "text": [
            "\rProcessing compounds:  93%|█████████▎| 1988/2143 [14:00<01:19,  1.96it/s]"
          ]
        },
        {
          "output_type": "stream",
          "name": "stdout",
          "text": [
            "Сохранен и добавлен в архив: compound_23985_c2.json\n",
            "Сохранен и добавлен в архив: compound_14786_c1.json\n"
          ]
        },
        {
          "output_type": "stream",
          "name": "stderr",
          "text": [
            "/usr/lib/python3.11/zipfile.py:1567: UserWarning: Duplicate name: 'compound_23985_c2.json'\n",
            "  return self._open_to_write(zinfo, force_zip64=force_zip64)\n",
            "\rProcessing compounds:  93%|█████████▎| 1989/2143 [14:00<01:19,  1.95it/s]"
          ]
        },
        {
          "output_type": "stream",
          "name": "stdout",
          "text": [
            "Сохранен и добавлен в архив: compound_23985_c2.json\n"
          ]
        },
        {
          "output_type": "stream",
          "name": "stderr",
          "text": [
            "\rProcessing compounds:  93%|█████████▎| 1990/2143 [14:01<01:16,  1.99it/s]"
          ]
        },
        {
          "output_type": "stream",
          "name": "stdout",
          "text": [
            "Сохранен и добавлен в архив: compound_14786_c1.json\n",
            "Сохранен и добавлен в архив: compound_23985_c2.json\n",
            "Сохранен и добавлен в архив: compound_14786_c1.json\n"
          ]
        },
        {
          "output_type": "stream",
          "name": "stderr",
          "text": [
            "\rProcessing compounds:  93%|█████████▎| 1991/2143 [14:01<01:11,  2.12it/s]"
          ]
        },
        {
          "output_type": "stream",
          "name": "stdout",
          "text": [
            "Сохранен и добавлен в архив: compound_23985_c2.json\n",
            "Сохранен и добавлен в архив: compound_517277_c1.json\n"
          ]
        },
        {
          "output_type": "stream",
          "name": "stderr",
          "text": [
            "\rProcessing compounds:  93%|█████████▎| 1992/2143 [14:01<01:08,  2.20it/s]"
          ]
        },
        {
          "output_type": "stream",
          "name": "stdout",
          "text": [
            "Сохранен и добавлен в архив: compound_104730_c2.json\n",
            "Сохранен и добавлен в архив: compound_517277_c1.json\n"
          ]
        },
        {
          "output_type": "stream",
          "name": "stderr",
          "text": [
            "\rProcessing compounds:  93%|█████████▎| 1993/2143 [14:02<01:06,  2.26it/s]"
          ]
        },
        {
          "output_type": "stream",
          "name": "stdout",
          "text": [
            "Сохранен и добавлен в архив: compound_104730_c2.json\n",
            "Сохранен и добавлен в архив: compound_517277_c1.json\n"
          ]
        },
        {
          "output_type": "stream",
          "name": "stderr",
          "text": [
            "\rProcessing compounds:  93%|█████████▎| 1994/2143 [14:02<01:04,  2.31it/s]"
          ]
        },
        {
          "output_type": "stream",
          "name": "stdout",
          "text": [
            "Сохранен и добавлен в архив: compound_104730_c2.json\n",
            "Сохранен и добавлен в архив: compound_517277_c1.json\n"
          ]
        },
        {
          "output_type": "stream",
          "name": "stderr",
          "text": [
            "\rProcessing compounds:  93%|█████████▎| 1995/2143 [14:03<01:02,  2.35it/s]"
          ]
        },
        {
          "output_type": "stream",
          "name": "stdout",
          "text": [
            "Сохранен и добавлен в архив: compound_104730_c2.json\n",
            "Сохранен и добавлен в архив: compound_517277_c1.json\n"
          ]
        },
        {
          "output_type": "stream",
          "name": "stderr",
          "text": [
            "\rProcessing compounds:  93%|█████████▎| 1996/2143 [14:03<01:01,  2.38it/s]"
          ]
        },
        {
          "output_type": "stream",
          "name": "stdout",
          "text": [
            "Сохранен и добавлен в архив: compound_104730_c2.json\n",
            "Сохранен и добавлен в архив: compound_517277_c1.json\n"
          ]
        },
        {
          "output_type": "stream",
          "name": "stderr",
          "text": [
            "\rProcessing compounds:  93%|█████████▎| 1997/2143 [14:04<01:01,  2.39it/s]"
          ]
        },
        {
          "output_type": "stream",
          "name": "stdout",
          "text": [
            "Сохранен и добавлен в архив: compound_104730_c2.json\n",
            "Сохранен и добавлен в архив: compound_517277_c1.json\n"
          ]
        },
        {
          "output_type": "stream",
          "name": "stderr",
          "text": [
            "\rProcessing compounds:  93%|█████████▎| 1998/2143 [14:04<01:00,  2.40it/s]"
          ]
        },
        {
          "output_type": "stream",
          "name": "stdout",
          "text": [
            "Сохранен и добавлен в архив: compound_104730_c2.json\n",
            "Сохранен и добавлен в архив: compound_517277_c1.json\n"
          ]
        },
        {
          "output_type": "stream",
          "name": "stderr",
          "text": [
            "\rProcessing compounds:  93%|█████████▎| 1999/2143 [14:04<01:02,  2.31it/s]"
          ]
        },
        {
          "output_type": "stream",
          "name": "stdout",
          "text": [
            "Сохранен и добавлен в архив: compound_104730_c2.json\n",
            "Сохранен и добавлен в архив: compound_517277_c1.json\n"
          ]
        },
        {
          "output_type": "stream",
          "name": "stderr",
          "text": [
            "\rProcessing compounds:  93%|█████████▎| 2000/2143 [14:05<01:00,  2.35it/s]"
          ]
        },
        {
          "output_type": "stream",
          "name": "stdout",
          "text": [
            "Сохранен и добавлен в архив: compound_104730_c2.json\n"
          ]
        },
        {
          "output_type": "stream",
          "name": "stderr",
          "text": [
            "\rProcessing compounds:  93%|█████████▎| 2001/2143 [14:05<00:59,  2.39it/s]"
          ]
        },
        {
          "output_type": "stream",
          "name": "stdout",
          "text": [
            "Сохранен и добавлен в архив: compound_444604_c1.json\n",
            "Ошибка при получении данных для формулы Mn3O4: 404\n"
          ]
        },
        {
          "output_type": "stream",
          "name": "stderr",
          "text": [
            "\rProcessing compounds:  93%|█████████▎| 2002/2143 [14:06<00:58,  2.41it/s]"
          ]
        },
        {
          "output_type": "stream",
          "name": "stdout",
          "text": [
            "Сохранен и добавлен в архив: compound_444604_c1.json\n",
            "Ошибка при получении данных для формулы Mn3O4: 404\n"
          ]
        },
        {
          "output_type": "stream",
          "name": "stderr",
          "text": [
            "\rProcessing compounds:  93%|█████████▎| 2003/2143 [14:06<00:57,  2.43it/s]"
          ]
        },
        {
          "output_type": "stream",
          "name": "stdout",
          "text": [
            "Сохранен и добавлен в архив: compound_444604_c1.json\n",
            "Ошибка при получении данных для формулы Mn3O4: 404\n"
          ]
        },
        {
          "output_type": "stream",
          "name": "stderr",
          "text": [
            "\rProcessing compounds:  94%|█████████▎| 2004/2143 [14:06<00:56,  2.46it/s]"
          ]
        },
        {
          "output_type": "stream",
          "name": "stdout",
          "text": [
            "Сохранен и добавлен в архив: compound_444604_c1.json\n",
            "Ошибка при получении данных для формулы Mn3O4: 404\n"
          ]
        },
        {
          "output_type": "stream",
          "name": "stderr",
          "text": [
            "\rProcessing compounds:  94%|█████████▎| 2005/2143 [14:07<00:55,  2.47it/s]"
          ]
        },
        {
          "output_type": "stream",
          "name": "stdout",
          "text": [
            "Сохранен и добавлен в архив: compound_444604_c1.json\n",
            "Ошибка при получении данных для формулы Mn3O4: 404\n"
          ]
        },
        {
          "output_type": "stream",
          "name": "stderr",
          "text": [
            "\rProcessing compounds:  94%|█████████▎| 2006/2143 [14:07<00:55,  2.47it/s]"
          ]
        },
        {
          "output_type": "stream",
          "name": "stdout",
          "text": [
            "Сохранен и добавлен в архив: compound_444604_c1.json\n",
            "Ошибка при получении данных для формулы Mn3O4: 404\n",
            "Сохранен и добавлен в архив: compound_444604_c1.json\n"
          ]
        },
        {
          "output_type": "stream",
          "name": "stderr",
          "text": [
            "\rProcessing compounds:  94%|█████████▎| 2007/2143 [14:08<01:00,  2.25it/s]"
          ]
        },
        {
          "output_type": "stream",
          "name": "stdout",
          "text": [
            "Ошибка при получении данных для формулы Mn3O4: 404\n",
            "Сохранен и добавлен в архив: compound_444604_c1.json\n"
          ]
        },
        {
          "output_type": "stream",
          "name": "stderr",
          "text": [
            "\rProcessing compounds:  94%|█████████▎| 2008/2143 [14:08<01:03,  2.12it/s]"
          ]
        },
        {
          "output_type": "stream",
          "name": "stdout",
          "text": [
            "Ошибка при получении данных для формулы Mn3O4: 404\n",
            "Ошибка при получении данных для формулы Sm0.5Ca0.5: 404\n"
          ]
        },
        {
          "output_type": "stream",
          "name": "stderr",
          "text": [
            "\rProcessing compounds:  94%|█████████▎| 2009/2143 [14:09<01:02,  2.13it/s]"
          ]
        },
        {
          "output_type": "stream",
          "name": "stdout",
          "text": [
            "Ошибка при получении данных для формулы MnO3: 404\n",
            "Ошибка при получении данных для формулы Sm0.5Ca0.5: 404\n"
          ]
        },
        {
          "output_type": "stream",
          "name": "stderr",
          "text": [
            "\rProcessing compounds:  94%|█████████▍| 2010/2143 [14:09<00:59,  2.22it/s]"
          ]
        },
        {
          "output_type": "stream",
          "name": "stdout",
          "text": [
            "Ошибка при получении данных для формулы MnO3: 404\n",
            "Ошибка при получении данных для формулы Sm0.5Ca0.5: 404\n"
          ]
        },
        {
          "output_type": "stream",
          "name": "stderr",
          "text": [
            "\rProcessing compounds:  94%|█████████▍| 2011/2143 [14:10<00:57,  2.29it/s]"
          ]
        },
        {
          "output_type": "stream",
          "name": "stdout",
          "text": [
            "Ошибка при получении данных для формулы MnO3: 404\n",
            "Ошибка при получении данных для формулы Sm0.5Ca0.5: 404\n",
            "Ошибка при получении данных для формулы MnO3: 404\n"
          ]
        },
        {
          "output_type": "stream",
          "name": "stderr",
          "text": [
            "\rProcessing compounds:  94%|█████████▍| 2012/2143 [14:10<00:55,  2.35it/s]"
          ]
        },
        {
          "output_type": "stream",
          "name": "stdout",
          "text": [
            "Ошибка при получении данных для формулы CaMnO3: 404\n"
          ]
        },
        {
          "output_type": "stream",
          "name": "stderr",
          "text": [
            "\rProcessing compounds:  94%|█████████▍| 2013/2143 [14:10<00:54,  2.39it/s]"
          ]
        },
        {
          "output_type": "stream",
          "name": "stdout",
          "text": [
            "Сохранен и добавлен в архив: compound_56951717_c2.json\n",
            "Ошибка при получении данных для формулы CaMnO3: 404\n"
          ]
        },
        {
          "output_type": "stream",
          "name": "stderr",
          "text": [
            "/usr/lib/python3.11/zipfile.py:1567: UserWarning: Duplicate name: 'compound_56951717_c2.json'\n",
            "  return self._open_to_write(zinfo, force_zip64=force_zip64)\n",
            "\rProcessing compounds:  94%|█████████▍| 2014/2143 [14:11<00:53,  2.42it/s]"
          ]
        },
        {
          "output_type": "stream",
          "name": "stdout",
          "text": [
            "Сохранен и добавлен в архив: compound_56951717_c2.json\n",
            "Ошибка при получении данных для формулы CaMnO3: 404\n"
          ]
        },
        {
          "output_type": "stream",
          "name": "stderr",
          "text": [
            "\rProcessing compounds:  94%|█████████▍| 2015/2143 [14:11<00:52,  2.45it/s]"
          ]
        },
        {
          "output_type": "stream",
          "name": "stdout",
          "text": [
            "Сохранен и добавлен в архив: compound_56951717_c2.json\n",
            "Ошибка при получении данных для формулы CaMnO3: 404\n"
          ]
        },
        {
          "output_type": "stream",
          "name": "stderr",
          "text": [
            "\rProcessing compounds:  94%|█████████▍| 2016/2143 [14:12<00:51,  2.46it/s]"
          ]
        },
        {
          "output_type": "stream",
          "name": "stdout",
          "text": [
            "Сохранен и добавлен в архив: compound_56951717_c2.json\n",
            "Ошибка при получении данных для формулы CaMnO3: 404\n"
          ]
        },
        {
          "output_type": "stream",
          "name": "stderr",
          "text": [
            "\rProcessing compounds:  94%|█████████▍| 2017/2143 [14:12<00:51,  2.46it/s]"
          ]
        },
        {
          "output_type": "stream",
          "name": "stdout",
          "text": [
            "Сохранен и добавлен в архив: compound_56951717_c2.json\n",
            "Ошибка при получении данных для формулы CaMnO3: 404\n"
          ]
        },
        {
          "output_type": "stream",
          "name": "stderr",
          "text": [
            "\rProcessing compounds:  94%|█████████▍| 2018/2143 [14:12<00:51,  2.45it/s]"
          ]
        },
        {
          "output_type": "stream",
          "name": "stdout",
          "text": [
            "Сохранен и добавлен в архив: compound_56951717_c2.json\n",
            "Ошибка при получении данных для формулы CaMnO3: 404\n"
          ]
        },
        {
          "output_type": "stream",
          "name": "stderr",
          "text": [
            "\rProcessing compounds:  94%|█████████▍| 2019/2143 [14:13<00:50,  2.45it/s]"
          ]
        },
        {
          "output_type": "stream",
          "name": "stdout",
          "text": [
            "Сохранен и добавлен в архив: compound_56951717_c2.json\n",
            "Ошибка при получении данных для формулы CaMnO3: 404\n"
          ]
        },
        {
          "output_type": "stream",
          "name": "stderr",
          "text": [
            "\rProcessing compounds:  94%|█████████▍| 2020/2143 [14:13<00:49,  2.46it/s]"
          ]
        },
        {
          "output_type": "stream",
          "name": "stdout",
          "text": [
            "Сохранен и добавлен в архив: compound_56951717_c2.json\n",
            "Ошибка при получении данных для формулы CaMnO3: 404\n"
          ]
        },
        {
          "output_type": "stream",
          "name": "stderr",
          "text": [
            "\rProcessing compounds:  94%|█████████▍| 2021/2143 [14:14<00:49,  2.48it/s]"
          ]
        },
        {
          "output_type": "stream",
          "name": "stdout",
          "text": [
            "Сохранен и добавлен в архив: compound_56951717_c2.json\n",
            "Сохранен и добавлен в архив: compound_938_c1.json\n"
          ]
        },
        {
          "output_type": "stream",
          "name": "stderr",
          "text": [
            "\rProcessing compounds:  94%|█████████▍| 2022/2143 [14:14<00:48,  2.48it/s]"
          ]
        },
        {
          "output_type": "stream",
          "name": "stdout",
          "text": [
            "Сохранен и добавлен в архив: compound_122164822_c2.json\n",
            "Ошибка при получении данных для формулы Nd0.5Ca0.5MnO3: 404\n",
            "Сохранен и добавлен в архив: compound_56951717_c2.json\n"
          ]
        },
        {
          "output_type": "stream",
          "name": "stderr",
          "text": [
            "\rProcessing compounds:  94%|█████████▍| 2023/2143 [14:14<00:48,  2.48it/s]"
          ]
        },
        {
          "output_type": "stream",
          "name": "stdout",
          "text": [
            "Сохранен и добавлен в архив: compound_104730_c1.json\n"
          ]
        },
        {
          "output_type": "stream",
          "name": "stderr",
          "text": [
            "\rProcessing compounds:  94%|█████████▍| 2024/2143 [14:15<00:48,  2.47it/s]"
          ]
        },
        {
          "output_type": "stream",
          "name": "stdout",
          "text": [
            "Сохранен и добавлен в архив: compound_14786_c2.json\n",
            "Сохранен и добавлен в архив: compound_6438343_c1.json\n"
          ]
        },
        {
          "output_type": "stream",
          "name": "stderr",
          "text": [
            "\rProcessing compounds:  94%|█████████▍| 2025/2143 [14:15<00:48,  2.42it/s]"
          ]
        },
        {
          "output_type": "stream",
          "name": "stdout",
          "text": [
            "Сохранен и добавлен в архив: compound_104730_c2.json\n"
          ]
        },
        {
          "output_type": "stream",
          "name": "stderr",
          "text": [
            "\rProcessing compounds:  95%|█████████▍| 2026/2143 [14:16<00:48,  2.41it/s]"
          ]
        },
        {
          "output_type": "stream",
          "name": "stdout",
          "text": [
            "Сохранен и добавлен в архив: compound_23925_c1.json\n",
            "Сохранен и добавлен в архив: compound_517277_c2.json\n"
          ]
        },
        {
          "output_type": "stream",
          "name": "stderr",
          "text": [
            "\rProcessing compounds:  95%|█████████▍| 2027/2143 [14:16<00:48,  2.41it/s]"
          ]
        },
        {
          "output_type": "stream",
          "name": "stdout",
          "text": [
            "Сохранен и добавлен в архив: compound_23925_c1.json\n",
            "Сохранен и добавлен в архив: compound_14801_c2.json\n"
          ]
        },
        {
          "output_type": "stream",
          "name": "stderr",
          "text": [
            "\rProcessing compounds:  95%|█████████▍| 2028/2143 [14:17<00:47,  2.41it/s]"
          ]
        },
        {
          "output_type": "stream",
          "name": "stdout",
          "text": [
            "Сохранен и добавлен в архив: compound_23925_c1.json\n",
            "Сохранен и добавлен в архив: compound_14801_c2.json\n"
          ]
        },
        {
          "output_type": "stream",
          "name": "stderr",
          "text": [
            "\rProcessing compounds:  95%|█████████▍| 2029/2143 [14:17<00:47,  2.40it/s]"
          ]
        },
        {
          "output_type": "stream",
          "name": "stdout",
          "text": [
            "Сохранен и добавлен в архив: compound_23925_c1.json\n",
            "Сохранен и добавлен в архив: compound_14801_c2.json\n",
            "Сохранен и добавлен в архив: compound_938_c1.json\n"
          ]
        },
        {
          "output_type": "stream",
          "name": "stderr",
          "text": [
            "\rProcessing compounds:  95%|█████████▍| 2030/2143 [14:17<00:46,  2.42it/s]"
          ]
        },
        {
          "output_type": "stream",
          "name": "stdout",
          "text": [
            "Сохранен и добавлен в архив: compound_16217788_c2.json\n",
            "Сохранен и добавлен в архив: compound_938_c1.json\n"
          ]
        },
        {
          "output_type": "stream",
          "name": "stderr",
          "text": [
            "\rProcessing compounds:  95%|█████████▍| 2031/2143 [14:18<00:46,  2.43it/s]"
          ]
        },
        {
          "output_type": "stream",
          "name": "stdout",
          "text": [
            "Сохранен и добавлен в архив: compound_122164822_c2.json\n",
            "Сохранен и добавлен в архив: compound_938_c1.json\n"
          ]
        },
        {
          "output_type": "stream",
          "name": "stderr",
          "text": [
            "\rProcessing compounds:  95%|█████████▍| 2032/2143 [14:18<00:45,  2.44it/s]"
          ]
        },
        {
          "output_type": "stream",
          "name": "stdout",
          "text": [
            "Сохранен и добавлен в архив: compound_122164822_c2.json\n",
            "Ошибка при получении данных для формулы (NiCo)O: 404\n"
          ]
        },
        {
          "output_type": "stream",
          "name": "stderr",
          "text": [
            "\rProcessing compounds:  95%|█████████▍| 2033/2143 [14:19<00:45,  2.39it/s]"
          ]
        },
        {
          "output_type": "stream",
          "name": "stdout",
          "text": [
            "Сохранен и добавлен в архив: compound_938_c2.json\n",
            "Ошибка при получении данных для формулы (NiCo)O: 404\n"
          ]
        },
        {
          "output_type": "stream",
          "name": "stderr",
          "text": [
            "\rProcessing compounds:  95%|█████████▍| 2034/2143 [14:19<00:45,  2.40it/s]"
          ]
        },
        {
          "output_type": "stream",
          "name": "stdout",
          "text": [
            "Сохранен и добавлен в архив: compound_938_c2.json\n",
            "Ошибка при получении данных для формулы (NiCo)O: 404\n"
          ]
        },
        {
          "output_type": "stream",
          "name": "stderr",
          "text": [
            "\rProcessing compounds:  95%|█████████▍| 2035/2143 [14:19<00:44,  2.43it/s]"
          ]
        },
        {
          "output_type": "stream",
          "name": "stdout",
          "text": [
            "Сохранен и добавлен в архив: compound_938_c2.json\n",
            "Ошибка при получении данных для формулы (NiCo)O: 404\n"
          ]
        },
        {
          "output_type": "stream",
          "name": "stderr",
          "text": [
            "\rProcessing compounds:  95%|█████████▌| 2036/2143 [14:20<00:43,  2.44it/s]"
          ]
        },
        {
          "output_type": "stream",
          "name": "stdout",
          "text": [
            "Сохранен и добавлен в архив: compound_938_c2.json\n",
            "Ошибка при получении данных для формулы (NiCo)O: 404\n"
          ]
        },
        {
          "output_type": "stream",
          "name": "stderr",
          "text": [
            "\rProcessing compounds:  95%|█████████▌| 2037/2143 [14:20<00:43,  2.46it/s]"
          ]
        },
        {
          "output_type": "stream",
          "name": "stdout",
          "text": [
            "Сохранен и добавлен в архив: compound_938_c2.json\n",
            "Ошибка при получении данных для формулы (NiCo)O: 404\n"
          ]
        },
        {
          "output_type": "stream",
          "name": "stderr",
          "text": [
            "\rProcessing compounds:  95%|█████████▌| 2038/2143 [14:21<00:43,  2.41it/s]"
          ]
        },
        {
          "output_type": "stream",
          "name": "stdout",
          "text": [
            "Сохранен и добавлен в архив: compound_938_c2.json\n",
            "Ошибка при получении данных для формулы (NiCo)O: 404\n"
          ]
        },
        {
          "output_type": "stream",
          "name": "stderr",
          "text": [
            "\rProcessing compounds:  95%|█████████▌| 2039/2143 [14:21<00:42,  2.43it/s]"
          ]
        },
        {
          "output_type": "stream",
          "name": "stdout",
          "text": [
            "Сохранен и добавлен в архив: compound_938_c2.json\n",
            "Ошибка при получении данных для формулы (NiCo)O: 404\n"
          ]
        },
        {
          "output_type": "stream",
          "name": "stderr",
          "text": [
            "\rProcessing compounds:  95%|█████████▌| 2040/2143 [14:21<00:42,  2.44it/s]"
          ]
        },
        {
          "output_type": "stream",
          "name": "stdout",
          "text": [
            "Сохранен и добавлен в архив: compound_938_c2.json\n",
            "Ошибка при получении данных для формулы (NiCo)O: 404\n"
          ]
        },
        {
          "output_type": "stream",
          "name": "stderr",
          "text": [
            "\rProcessing compounds:  95%|█████████▌| 2041/2143 [14:22<00:41,  2.45it/s]"
          ]
        },
        {
          "output_type": "stream",
          "name": "stdout",
          "text": [
            "Сохранен и добавлен в архив: compound_938_c2.json\n"
          ]
        },
        {
          "output_type": "stream",
          "name": "stderr",
          "text": [
            "\rProcessing compounds:  95%|█████████▌| 2042/2143 [14:22<00:41,  2.45it/s]"
          ]
        },
        {
          "output_type": "stream",
          "name": "stdout",
          "text": [
            "Сохранен и добавлен в архив: compound_23925_c1.json\n",
            "Ошибка при получении данных для формулы FeO: 404\n",
            "Сохранен и добавлен в архив: compound_23925_c1.json\n"
          ]
        },
        {
          "output_type": "stream",
          "name": "stderr",
          "text": [
            "\rProcessing compounds:  95%|█████████▌| 2043/2143 [14:23<00:42,  2.37it/s]"
          ]
        },
        {
          "output_type": "stream",
          "name": "stdout",
          "text": [
            "Ошибка при получении данных для формулы FeO: 404\n"
          ]
        },
        {
          "output_type": "stream",
          "name": "stderr",
          "text": [
            "\rProcessing compounds:  95%|█████████▌| 2044/2143 [14:23<00:41,  2.38it/s]"
          ]
        },
        {
          "output_type": "stream",
          "name": "stdout",
          "text": [
            "Сохранен и добавлен в архив: compound_23925_c1.json\n",
            "Ошибка при получении данных для формулы FeO: 404\n",
            "Сохранен и добавлен в архив: compound_23925_c1.json\n"
          ]
        },
        {
          "output_type": "stream",
          "name": "stderr",
          "text": [
            "\rProcessing compounds:  95%|█████████▌| 2045/2143 [14:24<00:41,  2.36it/s]"
          ]
        },
        {
          "output_type": "stream",
          "name": "stdout",
          "text": [
            "Ошибка при получении данных для формулы FeO: 404\n"
          ]
        },
        {
          "output_type": "stream",
          "name": "stderr",
          "text": [
            "\rProcessing compounds:  95%|█████████▌| 2046/2143 [14:24<00:40,  2.37it/s]"
          ]
        },
        {
          "output_type": "stream",
          "name": "stdout",
          "text": [
            "Сохранен и добавлен в архив: compound_23925_c1.json\n",
            "Ошибка при получении данных для формулы FeO: 404\n"
          ]
        },
        {
          "output_type": "stream",
          "name": "stderr",
          "text": [
            "\rProcessing compounds:  96%|█████████▌| 2047/2143 [14:24<00:40,  2.39it/s]"
          ]
        },
        {
          "output_type": "stream",
          "name": "stdout",
          "text": [
            "Сохранен и добавлен в архив: compound_23925_c1.json\n",
            "Ошибка при получении данных для формулы FeO: 404\n"
          ]
        },
        {
          "output_type": "stream",
          "name": "stderr",
          "text": [
            "\rProcessing compounds:  96%|█████████▌| 2048/2143 [14:25<00:39,  2.39it/s]"
          ]
        },
        {
          "output_type": "stream",
          "name": "stdout",
          "text": [
            "Сохранен и добавлен в архив: compound_23925_c1.json\n",
            "Ошибка при получении данных для формулы FeO: 404\n",
            "Ошибка при получении данных для формулы Fe2O3: 404\n"
          ]
        },
        {
          "output_type": "stream",
          "name": "stderr",
          "text": [
            "\rProcessing compounds:  96%|█████████▌| 2049/2143 [14:25<00:38,  2.42it/s]"
          ]
        },
        {
          "output_type": "stream",
          "name": "stdout",
          "text": [
            "Сохранен и добавлен в архив: compound_16211978_c2.json\n"
          ]
        },
        {
          "output_type": "stream",
          "name": "stderr",
          "text": [
            "\rProcessing compounds:  96%|█████████▌| 2050/2143 [14:26<00:38,  2.44it/s]"
          ]
        },
        {
          "output_type": "stream",
          "name": "stdout",
          "text": [
            "Ошибка при получении данных для формулы Fe2O3: 404\n",
            "Сохранен и добавлен в архив: compound_16211978_c2.json\n",
            "Ошибка при получении данных для формулы Fe2O3: 404\n"
          ]
        },
        {
          "output_type": "stream",
          "name": "stderr",
          "text": [
            "\rProcessing compounds:  96%|█████████▌| 2051/2143 [14:26<00:39,  2.35it/s]"
          ]
        },
        {
          "output_type": "stream",
          "name": "stdout",
          "text": [
            "Сохранен и добавлен в архив: compound_16211978_c2.json\n",
            "Ошибка при получении данных для формулы Fe2O3: 404\n"
          ]
        },
        {
          "output_type": "stream",
          "name": "stderr",
          "text": [
            "\rProcessing compounds:  96%|█████████▌| 2052/2143 [14:26<00:38,  2.38it/s]"
          ]
        },
        {
          "output_type": "stream",
          "name": "stdout",
          "text": [
            "Сохранен и добавлен в архив: compound_16211978_c2.json\n"
          ]
        },
        {
          "output_type": "stream",
          "name": "stderr",
          "text": [
            "\rProcessing compounds:  96%|█████████▌| 2053/2143 [14:27<00:37,  2.40it/s]"
          ]
        },
        {
          "output_type": "stream",
          "name": "stdout",
          "text": [
            "Сохранен и добавлен в архив: compound_104730_c1.json\n",
            "Сохранен и добавлен в архив: compound_14786_c2.json\n"
          ]
        },
        {
          "output_type": "stream",
          "name": "stderr",
          "text": [
            "\rProcessing compounds:  96%|█████████▌| 2054/2143 [14:27<00:37,  2.36it/s]"
          ]
        },
        {
          "output_type": "stream",
          "name": "stdout",
          "text": [
            "Ошибка при получении данных для формулы PtMn: 404\n",
            "Ошибка при получении данных для формулы 0: 404\n"
          ]
        },
        {
          "output_type": "stream",
          "name": "stderr",
          "text": [
            "\rProcessing compounds:  96%|█████████▌| 2055/2143 [14:28<00:36,  2.39it/s]"
          ]
        },
        {
          "output_type": "stream",
          "name": "stdout",
          "text": [
            "Ошибка при получении данных для формулы PtMn: 404\n",
            "Ошибка при получении данных для формулы 0: 404\n"
          ]
        },
        {
          "output_type": "stream",
          "name": "stderr",
          "text": [
            "\rProcessing compounds:  96%|█████████▌| 2056/2143 [14:28<00:36,  2.40it/s]"
          ]
        },
        {
          "output_type": "stream",
          "name": "stdout",
          "text": [
            "Ошибка при получении данных для формулы PtMn: 404\n",
            "Ошибка при получении данных для формулы 0: 404\n"
          ]
        },
        {
          "output_type": "stream",
          "name": "stderr",
          "text": [
            "\rProcessing compounds:  96%|█████████▌| 2057/2143 [14:29<00:35,  2.40it/s]"
          ]
        },
        {
          "output_type": "stream",
          "name": "stdout",
          "text": [
            "Сохранен и добавлен в архив: compound_935_c1.json\n",
            "Сохранен и добавлен в архив: compound_938_c2.json\n",
            "Сохранен и добавлен в архив: compound_935_c1.json\n"
          ]
        },
        {
          "output_type": "stream",
          "name": "stderr",
          "text": [
            "\rProcessing compounds:  96%|█████████▌| 2058/2143 [14:29<00:35,  2.39it/s]"
          ]
        },
        {
          "output_type": "stream",
          "name": "stdout",
          "text": [
            "Сохранен и добавлен в архив: compound_938_c2.json\n",
            "Ошибка при получении данных для формулы Mn2O3: 404\n"
          ]
        },
        {
          "output_type": "stream",
          "name": "stderr",
          "text": [
            "\rProcessing compounds:  96%|█████████▌| 2059/2143 [14:29<00:35,  2.37it/s]"
          ]
        },
        {
          "output_type": "stream",
          "name": "stdout",
          "text": [
            "Ошибка при получении данных для формулы Mn3O4: 404\n",
            "Ошибка при получении данных для формулы Mn2O3: 404\n"
          ]
        },
        {
          "output_type": "stream",
          "name": "stderr",
          "text": [
            "\rProcessing compounds:  96%|█████████▌| 2060/2143 [14:30<00:34,  2.39it/s]"
          ]
        },
        {
          "output_type": "stream",
          "name": "stdout",
          "text": [
            "Ошибка при получении данных для формулы Mn3O4: 404\n",
            "Ошибка при получении данных для формулы Mn2O3: 404\n"
          ]
        },
        {
          "output_type": "stream",
          "name": "stderr",
          "text": [
            "\rProcessing compounds:  96%|█████████▌| 2061/2143 [14:30<00:35,  2.32it/s]"
          ]
        },
        {
          "output_type": "stream",
          "name": "stdout",
          "text": [
            "Ошибка при получении данных для формулы Mn3O4: 404\n"
          ]
        },
        {
          "output_type": "stream",
          "name": "stderr",
          "text": [
            "\rProcessing compounds:  96%|█████████▌| 2062/2143 [14:31<00:34,  2.37it/s]"
          ]
        },
        {
          "output_type": "stream",
          "name": "stdout",
          "text": [
            "Сохранен и добавлен в архив: compound_16211978_c1.json\n",
            "Сохранен и добавлен в архив: compound_517277_c2.json\n"
          ]
        },
        {
          "output_type": "stream",
          "name": "stderr",
          "text": [
            "\rProcessing compounds:  96%|█████████▋| 2063/2143 [14:31<00:34,  2.29it/s]"
          ]
        },
        {
          "output_type": "stream",
          "name": "stdout",
          "text": [
            "Сохранен и добавлен в архив: compound_16211978_c1.json\n",
            "Сохранен и добавлен в архив: compound_517277_c2.json\n",
            "Ошибка при получении данных для формулы Fe2O3: 404\n"
          ]
        },
        {
          "output_type": "stream",
          "name": "stderr",
          "text": [
            "\rProcessing compounds:  96%|█████████▋| 2064/2143 [14:32<00:33,  2.34it/s]"
          ]
        },
        {
          "output_type": "stream",
          "name": "stdout",
          "text": [
            "Сохранен и добавлен в архив: compound_16211978_c2.json\n",
            "Ошибка при получении данных для формулы Fe2O3: 404\n"
          ]
        },
        {
          "output_type": "stream",
          "name": "stderr",
          "text": [
            "\rProcessing compounds:  96%|█████████▋| 2065/2143 [14:32<00:32,  2.37it/s]"
          ]
        },
        {
          "output_type": "stream",
          "name": "stdout",
          "text": [
            "Сохранен и добавлен в архив: compound_16211978_c2.json\n",
            "Ошибка при получении данных для формулы Fe2O3: 404\n"
          ]
        },
        {
          "output_type": "stream",
          "name": "stderr",
          "text": [
            "\rProcessing compounds:  96%|█████████▋| 2066/2143 [14:32<00:32,  2.38it/s]"
          ]
        },
        {
          "output_type": "stream",
          "name": "stdout",
          "text": [
            "Сохранен и добавлен в архив: compound_16211978_c2.json\n",
            "Ошибка при получении данных для формулы Fe2O3: 404\n"
          ]
        },
        {
          "output_type": "stream",
          "name": "stderr",
          "text": [
            "\rProcessing compounds:  96%|█████████▋| 2067/2143 [14:33<00:32,  2.36it/s]"
          ]
        },
        {
          "output_type": "stream",
          "name": "stdout",
          "text": [
            "Сохранен и добавлен в архив: compound_16211978_c2.json\n",
            "Ошибка при получении данных для формулы Fe2O3: 404\n"
          ]
        },
        {
          "output_type": "stream",
          "name": "stderr",
          "text": [
            "\rProcessing compounds:  97%|█████████▋| 2068/2143 [14:33<00:31,  2.39it/s]"
          ]
        },
        {
          "output_type": "stream",
          "name": "stdout",
          "text": [
            "Сохранен и добавлен в архив: compound_16211978_c2.json\n",
            "Ошибка при получении данных для формулы Fe2O3: 404\n"
          ]
        },
        {
          "output_type": "stream",
          "name": "stderr",
          "text": [
            "\rProcessing compounds:  97%|█████████▋| 2069/2143 [14:34<00:30,  2.40it/s]"
          ]
        },
        {
          "output_type": "stream",
          "name": "stdout",
          "text": [
            "Сохранен и добавлен в архив: compound_16211978_c2.json\n",
            "Ошибка при получении данных для формулы Fe2O3: 404\n"
          ]
        },
        {
          "output_type": "stream",
          "name": "stderr",
          "text": [
            "\rProcessing compounds:  97%|█████████▋| 2070/2143 [14:34<00:30,  2.43it/s]"
          ]
        },
        {
          "output_type": "stream",
          "name": "stdout",
          "text": [
            "Сохранен и добавлен в архив: compound_16211978_c2.json\n",
            "Ошибка при получении данных для формулы Fe2O3: 404\n"
          ]
        },
        {
          "output_type": "stream",
          "name": "stderr",
          "text": [
            "\rProcessing compounds:  97%|█████████▋| 2071/2143 [14:34<00:29,  2.45it/s]"
          ]
        },
        {
          "output_type": "stream",
          "name": "stdout",
          "text": [
            "Сохранен и добавлен в архив: compound_16211978_c2.json\n",
            "Ошибка при получении данных для формулы Co3O4: 404\n"
          ]
        },
        {
          "output_type": "stream",
          "name": "stderr",
          "text": [
            "\rProcessing compounds:  97%|█████████▋| 2072/2143 [14:35<00:30,  2.35it/s]"
          ]
        },
        {
          "output_type": "stream",
          "name": "stdout",
          "text": [
            "Ошибка при получении данных для формулы 0: 404\n",
            "Ошибка при получении данных для формулы CoNi: 404\n"
          ]
        },
        {
          "output_type": "stream",
          "name": "stderr",
          "text": [
            "\rProcessing compounds:  97%|█████████▋| 2073/2143 [14:35<00:29,  2.40it/s]"
          ]
        },
        {
          "output_type": "stream",
          "name": "stdout",
          "text": [
            "Ошибка при получении данных для формулы 0: 404\n",
            "Ошибка при получении данных для формулы CoNi: 404\n"
          ]
        },
        {
          "output_type": "stream",
          "name": "stderr",
          "text": [
            "\rProcessing compounds:  97%|█████████▋| 2074/2143 [14:36<00:28,  2.43it/s]"
          ]
        },
        {
          "output_type": "stream",
          "name": "stdout",
          "text": [
            "Ошибка при получении данных для формулы 0: 404\n",
            "Ошибка при получении данных для формулы Fe2O3: 404\n"
          ]
        },
        {
          "output_type": "stream",
          "name": "stderr",
          "text": [
            "\rProcessing compounds:  97%|█████████▋| 2075/2143 [14:36<00:27,  2.46it/s]"
          ]
        },
        {
          "output_type": "stream",
          "name": "stdout",
          "text": [
            "Сохранен и добавлен в архив: compound_938_c2.json\n",
            "Ошибка при получении данных для формулы Fe2O3: 404\n"
          ]
        },
        {
          "output_type": "stream",
          "name": "stderr",
          "text": [
            "\rProcessing compounds:  97%|█████████▋| 2076/2143 [14:37<00:27,  2.48it/s]"
          ]
        },
        {
          "output_type": "stream",
          "name": "stdout",
          "text": [
            "Сохранен и добавлен в архив: compound_938_c2.json\n",
            "Ошибка при получении данных для формулы Fe2O3: 404\n"
          ]
        },
        {
          "output_type": "stream",
          "name": "stderr",
          "text": [
            "\rProcessing compounds:  97%|█████████▋| 2077/2143 [14:37<00:26,  2.48it/s]"
          ]
        },
        {
          "output_type": "stream",
          "name": "stdout",
          "text": [
            "Сохранен и добавлен в архив: compound_938_c2.json\n",
            "Ошибка при получении данных для формулы Fe2O3: 404\n"
          ]
        },
        {
          "output_type": "stream",
          "name": "stderr",
          "text": [
            "\rProcessing compounds:  97%|█████████▋| 2078/2143 [14:37<00:26,  2.49it/s]"
          ]
        },
        {
          "output_type": "stream",
          "name": "stdout",
          "text": [
            "Сохранен и добавлен в архив: compound_938_c2.json\n",
            "Ошибка при получении данных для формулы Fe2O3: 404\n"
          ]
        },
        {
          "output_type": "stream",
          "name": "stderr",
          "text": [
            "\rProcessing compounds:  97%|█████████▋| 2079/2143 [14:38<00:25,  2.48it/s]"
          ]
        },
        {
          "output_type": "stream",
          "name": "stdout",
          "text": [
            "Сохранен и добавлен в архив: compound_938_c2.json\n",
            "Ошибка при получении данных для формулы Fe2O3: 404\n"
          ]
        },
        {
          "output_type": "stream",
          "name": "stderr",
          "text": [
            "\rProcessing compounds:  97%|█████████▋| 2080/2143 [14:38<00:25,  2.49it/s]"
          ]
        },
        {
          "output_type": "stream",
          "name": "stdout",
          "text": [
            "Сохранен и добавлен в архив: compound_938_c2.json\n",
            "Сохранен и добавлен в архив: compound_16211978_c1.json\n"
          ]
        },
        {
          "output_type": "stream",
          "name": "stderr",
          "text": [
            "\rProcessing compounds:  97%|█████████▋| 2081/2143 [14:40<00:44,  1.41it/s]"
          ]
        },
        {
          "output_type": "stream",
          "name": "stdout",
          "text": [
            "Ошибка при получении данных для формулы Fe2O3: 404\n"
          ]
        },
        {
          "output_type": "stream",
          "name": "stderr",
          "text": [
            "\rProcessing compounds:  97%|█████████▋| 2082/2143 [14:40<00:37,  1.62it/s]"
          ]
        },
        {
          "output_type": "stream",
          "name": "stdout",
          "text": [
            "Сохранен и добавлен в архив: compound_16211978_c1.json\n",
            "Ошибка при получении данных для формулы Fe2O3: 404\n"
          ]
        },
        {
          "output_type": "stream",
          "name": "stderr",
          "text": [
            "\rProcessing compounds:  97%|█████████▋| 2083/2143 [14:40<00:33,  1.81it/s]"
          ]
        },
        {
          "output_type": "stream",
          "name": "stdout",
          "text": [
            "Сохранен и добавлен в архив: compound_16211978_c1.json\n",
            "Ошибка при получении данных для формулы Fe2O3: 404\n"
          ]
        },
        {
          "output_type": "stream",
          "name": "stderr",
          "text": [
            "\rProcessing compounds:  97%|█████████▋| 2084/2143 [14:41<00:29,  1.97it/s]"
          ]
        },
        {
          "output_type": "stream",
          "name": "stdout",
          "text": [
            "Сохранен и добавлен в архив: compound_16211978_c1.json\n",
            "Ошибка при получении данных для формулы Fe2O3: 404\n",
            "Сохранен и добавлен в архив: compound_935_c1.json\n"
          ]
        },
        {
          "output_type": "stream",
          "name": "stderr",
          "text": [
            "\rProcessing compounds:  97%|█████████▋| 2085/2143 [14:41<00:27,  2.08it/s]"
          ]
        },
        {
          "output_type": "stream",
          "name": "stdout",
          "text": [
            "Сохранен и добавлен в архив: compound_938_c2.json\n"
          ]
        },
        {
          "output_type": "stream",
          "name": "stderr",
          "text": [
            "\rProcessing compounds:  97%|█████████▋| 2086/2143 [14:42<00:26,  2.15it/s]"
          ]
        },
        {
          "output_type": "stream",
          "name": "stdout",
          "text": [
            "Сохранен и добавлен в архив: compound_935_c1.json\n",
            "Сохранен и добавлен в архив: compound_938_c2.json\n"
          ]
        },
        {
          "output_type": "stream",
          "name": "stderr",
          "text": [
            "\rProcessing compounds:  97%|█████████▋| 2087/2143 [14:42<00:25,  2.22it/s]"
          ]
        },
        {
          "output_type": "stream",
          "name": "stdout",
          "text": [
            "Сохранен и добавлен в архив: compound_935_c1.json\n",
            "Сохранен и добавлен в архив: compound_938_c2.json\n",
            "Сохранен и добавлен в архив: compound_935_c1.json\n",
            "Сохранен и добавлен в архив: compound_938_c2.json\n"
          ]
        },
        {
          "output_type": "stream",
          "name": "stderr",
          "text": [
            "\rProcessing compounds:  97%|█████████▋| 2088/2143 [14:42<00:24,  2.26it/s]"
          ]
        },
        {
          "output_type": "stream",
          "name": "stdout",
          "text": [
            "Сохранен и добавлен в архив: compound_935_c1.json\n"
          ]
        },
        {
          "output_type": "stream",
          "name": "stderr",
          "text": [
            "\rProcessing compounds:  97%|█████████▋| 2089/2143 [14:43<00:24,  2.24it/s]"
          ]
        },
        {
          "output_type": "stream",
          "name": "stdout",
          "text": [
            "Сохранен и добавлен в архив: compound_938_c2.json\n",
            "Сохранен и добавлен в архив: compound_935_c1.json\n"
          ]
        },
        {
          "output_type": "stream",
          "name": "stderr",
          "text": [
            "\rProcessing compounds:  98%|█████████▊| 2090/2143 [14:43<00:23,  2.28it/s]"
          ]
        },
        {
          "output_type": "stream",
          "name": "stdout",
          "text": [
            "Сохранен и добавлен в архив: compound_938_c2.json\n",
            "Ошибка при получении данных для формулы Co0.14Fe0.86O: 404\n"
          ]
        },
        {
          "output_type": "stream",
          "name": "stderr",
          "text": [
            "\rProcessing compounds:  98%|█████████▊| 2091/2143 [14:44<00:22,  2.34it/s]"
          ]
        },
        {
          "output_type": "stream",
          "name": "stdout",
          "text": [
            "Ошибка при получении данных для формулы Co0.4Fe2.4O4: 404\n",
            "Ошибка при получении данных для формулы Co0.14Fe0.86O: 404\n"
          ]
        },
        {
          "output_type": "stream",
          "name": "stderr",
          "text": [
            "\rProcessing compounds:  98%|█████████▊| 2092/2143 [14:44<00:21,  2.38it/s]"
          ]
        },
        {
          "output_type": "stream",
          "name": "stdout",
          "text": [
            "Ошибка при получении данных для формулы Co0.4Fe2.4O4: 404\n",
            "Ошибка при получении данных для формулы Co0.08Fe0.92O: 404\n"
          ]
        },
        {
          "output_type": "stream",
          "name": "stderr",
          "text": [
            "\rProcessing compounds:  98%|█████████▊| 2093/2143 [14:45<00:20,  2.40it/s]"
          ]
        },
        {
          "output_type": "stream",
          "name": "stdout",
          "text": [
            "Ошибка при получении данных для формулы Co0.58Fe2.28O4: 404\n"
          ]
        },
        {
          "output_type": "stream",
          "name": "stderr",
          "text": [
            "\rProcessing compounds:  98%|█████████▊| 2094/2143 [14:45<00:20,  2.42it/s]"
          ]
        },
        {
          "output_type": "stream",
          "name": "stdout",
          "text": [
            "Ошибка при получении данных для формулы LaFeO3: 404\n",
            "Ошибка при получении данных для формулы 0: 404\n",
            "Ошибка при получении данных для формулы Eu0.3: 404\n"
          ]
        },
        {
          "output_type": "stream",
          "name": "stderr",
          "text": [
            "\rProcessing compounds:  98%|█████████▊| 2095/2143 [14:45<00:19,  2.43it/s]"
          ]
        },
        {
          "output_type": "stream",
          "name": "stdout",
          "text": [
            "Ошибка при получении данных для формулы La0.7FeO3: 404\n",
            "Ошибка при получении данных для формулы Eu0.3: 404\n"
          ]
        },
        {
          "output_type": "stream",
          "name": "stderr",
          "text": [
            "\rProcessing compounds:  98%|█████████▊| 2096/2143 [14:46<00:19,  2.39it/s]"
          ]
        },
        {
          "output_type": "stream",
          "name": "stdout",
          "text": [
            "Ошибка при получении данных для формулы La0.7Fe0.95Cr0.05O3: 404\n"
          ]
        },
        {
          "output_type": "stream",
          "name": "stderr",
          "text": [
            "\rProcessing compounds:  98%|█████████▊| 2097/2143 [14:47<00:33,  1.37it/s]"
          ]
        },
        {
          "output_type": "stream",
          "name": "stdout",
          "text": [
            "Ошибка при получении данных для формулы LiFe3O4: 404\n",
            "Сохранен и добавлен в архив: compound_16211978_c2.json\n"
          ]
        },
        {
          "output_type": "stream",
          "name": "stderr",
          "text": [
            "\rProcessing compounds:  98%|█████████▊| 2098/2143 [14:48<00:28,  1.59it/s]"
          ]
        },
        {
          "output_type": "stream",
          "name": "stdout",
          "text": [
            "Ошибка при получении данных для формулы Li1.5Fe3O4: 404\n",
            "Сохранен и добавлен в архив: compound_16211978_c2.json\n",
            "Ошибка при получении данных для формулы FeO: 404\n"
          ]
        },
        {
          "output_type": "stream",
          "name": "stderr",
          "text": [
            "\rProcessing compounds:  98%|█████████▊| 2099/2143 [14:48<00:24,  1.78it/s]"
          ]
        },
        {
          "output_type": "stream",
          "name": "stdout",
          "text": [
            "Ошибка при получении данных для формулы FeZnO: 404\n",
            "Ошибка при получении данных для формулы FeO: 404\n"
          ]
        },
        {
          "output_type": "stream",
          "name": "stderr",
          "text": [
            "\rProcessing compounds:  98%|█████████▊| 2100/2143 [14:48<00:22,  1.95it/s]"
          ]
        },
        {
          "output_type": "stream",
          "name": "stdout",
          "text": [
            "Ошибка при получении данных для формулы FeZnO: 404\n",
            "Ошибка при получении данных для формулы FeO: 404\n"
          ]
        },
        {
          "output_type": "stream",
          "name": "stderr",
          "text": [
            "\rProcessing compounds:  98%|█████████▊| 2101/2143 [14:49<00:20,  2.10it/s]"
          ]
        },
        {
          "output_type": "stream",
          "name": "stdout",
          "text": [
            "Ошибка при получении данных для формулы FeZnO: 404\n",
            "Ошибка при получении данных для формулы FeO: 404\n"
          ]
        },
        {
          "output_type": "stream",
          "name": "stderr",
          "text": [
            "\rProcessing compounds:  98%|█████████▊| 2102/2143 [14:49<00:18,  2.21it/s]"
          ]
        },
        {
          "output_type": "stream",
          "name": "stdout",
          "text": [
            "Ошибка при получении данных для формулы FeZnO: 404\n",
            "Сохранен и добавлен в архив: compound_938_c1.json\n"
          ]
        },
        {
          "output_type": "stream",
          "name": "stderr",
          "text": [
            "\rProcessing compounds:  98%|█████████▊| 2103/2143 [14:50<00:18,  2.21it/s]"
          ]
        },
        {
          "output_type": "stream",
          "name": "stdout",
          "text": [
            "Сохранен и добавлен в архив: compound_122164822_c2.json\n"
          ]
        },
        {
          "output_type": "stream",
          "name": "stderr",
          "text": [
            "\rProcessing compounds:  98%|█████████▊| 2104/2143 [14:50<00:17,  2.28it/s]"
          ]
        },
        {
          "output_type": "stream",
          "name": "stdout",
          "text": [
            "Сохранен и добавлен в архив: compound_938_c1.json\n",
            "Сохранен и добавлен в архив: compound_122164822_c2.json\n",
            "Сохранен и добавлен в архив: compound_938_c1.json\n"
          ]
        },
        {
          "output_type": "stream",
          "name": "stderr",
          "text": [
            "\rProcessing compounds:  98%|█████████▊| 2105/2143 [14:50<00:16,  2.33it/s]"
          ]
        },
        {
          "output_type": "stream",
          "name": "stdout",
          "text": [
            "Сохранен и добавлен в архив: compound_122164822_c2.json\n",
            "Сохранен и добавлен в архив: compound_938_c1.json\n"
          ]
        },
        {
          "output_type": "stream",
          "name": "stderr",
          "text": [
            "\rProcessing compounds:  98%|█████████▊| 2106/2143 [14:51<00:15,  2.37it/s]"
          ]
        },
        {
          "output_type": "stream",
          "name": "stdout",
          "text": [
            "Сохранен и добавлен в архив: compound_122164822_c2.json\n"
          ]
        },
        {
          "output_type": "stream",
          "name": "stderr",
          "text": [
            "\rProcessing compounds:  98%|█████████▊| 2107/2143 [14:51<00:15,  2.33it/s]"
          ]
        },
        {
          "output_type": "stream",
          "name": "stdout",
          "text": [
            "Ошибка при получении данных для формулы Cr2Te3: 404\n",
            "Ошибка при получении данных для формулы FeTe: 404\n",
            "Ошибка при получении данных для формулы Cr2Te3: 404\n"
          ]
        },
        {
          "output_type": "stream",
          "name": "stderr",
          "text": [
            "\rProcessing compounds:  98%|█████████▊| 2108/2143 [14:52<00:15,  2.26it/s]"
          ]
        },
        {
          "output_type": "stream",
          "name": "stdout",
          "text": [
            "Ошибка при получении данных для формулы FeTe0.395: 404\n",
            "Ошибка при получении данных для формулы Cr2Te3: 404\n"
          ]
        },
        {
          "output_type": "stream",
          "name": "stderr",
          "text": [
            "\rProcessing compounds:  98%|█████████▊| 2109/2143 [14:52<00:15,  2.23it/s]"
          ]
        },
        {
          "output_type": "stream",
          "name": "stdout",
          "text": [
            "Ошибка при получении данных для формулы FeTe0.252: 404\n",
            "Ошибка при получении данных для формулы Cr2Te3: 404\n"
          ]
        },
        {
          "output_type": "stream",
          "name": "stderr",
          "text": [
            "\rProcessing compounds:  98%|█████████▊| 2110/2143 [14:53<00:14,  2.30it/s]"
          ]
        },
        {
          "output_type": "stream",
          "name": "stdout",
          "text": [
            "Ошибка при получении данных для формулы FeTe1.125: 404\n",
            "Ошибка при получении данных для формулы Cr2Te3: 404\n"
          ]
        },
        {
          "output_type": "stream",
          "name": "stderr",
          "text": [
            "\rProcessing compounds:  99%|█████████▊| 2111/2143 [14:53<00:13,  2.34it/s]"
          ]
        },
        {
          "output_type": "stream",
          "name": "stdout",
          "text": [
            "Ошибка при получении данных для формулы FeTe2: 404\n",
            "Ошибка при получении данных для формулы LaFeO3: 404\n"
          ]
        },
        {
          "output_type": "stream",
          "name": "stderr",
          "text": [
            "\rProcessing compounds:  99%|█████████▊| 2112/2143 [14:53<00:12,  2.39it/s]"
          ]
        },
        {
          "output_type": "stream",
          "name": "stdout",
          "text": [
            "Ошибка при получении данных для формулы 0: 404\n"
          ]
        },
        {
          "output_type": "stream",
          "name": "stderr",
          "text": [
            "\rProcessing compounds:  99%|█████████▊| 2113/2143 [14:54<00:12,  2.40it/s]"
          ]
        },
        {
          "output_type": "stream",
          "name": "stdout",
          "text": [
            "Ошибка при получении данных для формулы PrFeO3: 404\n",
            "Ошибка при получении данных для формулы 0: 404\n",
            "Ошибка при получении данных для формулы NdFeO3: 404\n"
          ]
        },
        {
          "output_type": "stream",
          "name": "stderr",
          "text": [
            "\rProcessing compounds:  99%|█████████▊| 2114/2143 [14:54<00:12,  2.37it/s]"
          ]
        },
        {
          "output_type": "stream",
          "name": "stdout",
          "text": [
            "Ошибка при получении данных для формулы 0: 404\n",
            "Ошибка при получении данных для формулы SmFeO3: 404\n"
          ]
        },
        {
          "output_type": "stream",
          "name": "stderr",
          "text": [
            "\rProcessing compounds:  99%|█████████▊| 2115/2143 [14:55<00:11,  2.39it/s]"
          ]
        },
        {
          "output_type": "stream",
          "name": "stdout",
          "text": [
            "Ошибка при получении данных для формулы 0: 404\n",
            "Сохранен и добавлен в архив: compound_122164822_c1.json\n"
          ]
        },
        {
          "output_type": "stream",
          "name": "stderr",
          "text": [
            "\rProcessing compounds:  99%|█████████▊| 2116/2143 [14:55<00:11,  2.33it/s]"
          ]
        },
        {
          "output_type": "stream",
          "name": "stdout",
          "text": [
            "Ошибка при получении данных для формулы BiFeO3: 404\n",
            "Ошибка при получении данных для формулы BiFeO3: 404\n"
          ]
        },
        {
          "output_type": "stream",
          "name": "stderr",
          "text": [
            "\rProcessing compounds:  99%|█████████▉| 2117/2143 [14:56<00:10,  2.39it/s]"
          ]
        },
        {
          "output_type": "stream",
          "name": "stdout",
          "text": [
            "Ошибка при получении данных для формулы 0: 404\n",
            "Ошибка при получении данных для формулы BiFeO3: 404\n"
          ]
        },
        {
          "output_type": "stream",
          "name": "stderr",
          "text": [
            "\rProcessing compounds:  99%|█████████▉| 2118/2143 [14:56<00:10,  2.42it/s]"
          ]
        },
        {
          "output_type": "stream",
          "name": "stdout",
          "text": [
            "Ошибка при получении данных для формулы 0: 404\n"
          ]
        },
        {
          "output_type": "stream",
          "name": "stderr",
          "text": [
            "\rProcessing compounds:  99%|█████████▉| 2119/2143 [14:56<00:09,  2.44it/s]"
          ]
        },
        {
          "output_type": "stream",
          "name": "stdout",
          "text": [
            "Ошибка при получении данных для формулы BiFeO3: 404\n",
            "Ошибка при получении данных для формулы 0: 404\n",
            "Ошибка при получении данных для формулы NiCo2O4: 404\n"
          ]
        },
        {
          "output_type": "stream",
          "name": "stderr",
          "text": [
            "\rProcessing compounds:  99%|█████████▉| 2120/2143 [14:57<00:09,  2.45it/s]"
          ]
        },
        {
          "output_type": "stream",
          "name": "stdout",
          "text": [
            "Сохранен и добавлен в архив: compound_938_c2.json\n",
            "Ошибка при получении данных для формулы NiCo2O4: 404\n"
          ]
        },
        {
          "output_type": "stream",
          "name": "stderr",
          "text": [
            "\rProcessing compounds:  99%|█████████▉| 2121/2143 [14:57<00:08,  2.46it/s]"
          ]
        },
        {
          "output_type": "stream",
          "name": "stdout",
          "text": [
            "Сохранен и добавлен в архив: compound_938_c2.json\n",
            "Ошибка при получении данных для формулы NiCo2O4: 404\n"
          ]
        },
        {
          "output_type": "stream",
          "name": "stderr",
          "text": [
            "\rProcessing compounds:  99%|█████████▉| 2122/2143 [14:58<00:08,  2.46it/s]"
          ]
        },
        {
          "output_type": "stream",
          "name": "stdout",
          "text": [
            "Сохранен и добавлен в архив: compound_938_c2.json\n",
            "Ошибка при получении данных для формулы CoFe2O4: 404\n"
          ]
        },
        {
          "output_type": "stream",
          "name": "stderr",
          "text": [
            "\rProcessing compounds:  99%|█████████▉| 2123/2143 [14:58<00:08,  2.48it/s]"
          ]
        },
        {
          "output_type": "stream",
          "name": "stdout",
          "text": [
            "Ошибка при получении данных для формулы 0: 404\n"
          ]
        },
        {
          "output_type": "stream",
          "name": "stderr",
          "text": [
            "\rProcessing compounds:  99%|█████████▉| 2124/2143 [14:58<00:07,  2.42it/s]"
          ]
        },
        {
          "output_type": "stream",
          "name": "stdout",
          "text": [
            "Ошибка при получении данных для формулы CoFe2O4: 404\n",
            "Ошибка при получении данных для формулы 0: 404\n"
          ]
        },
        {
          "output_type": "stream",
          "name": "stderr",
          "text": [
            "\rProcessing compounds:  99%|█████████▉| 2125/2143 [14:59<00:07,  2.45it/s]"
          ]
        },
        {
          "output_type": "stream",
          "name": "stdout",
          "text": [
            "Ошибка при получении данных для формулы CoFe2O4: 404\n",
            "Ошибка при получении данных для формулы 0: 404\n"
          ]
        },
        {
          "output_type": "stream",
          "name": "stderr",
          "text": [
            "\rProcessing compounds:  99%|█████████▉| 2126/2143 [14:59<00:06,  2.48it/s]"
          ]
        },
        {
          "output_type": "stream",
          "name": "stdout",
          "text": [
            "Ошибка при получении данных для формулы CoFe2O4: 404\n",
            "Ошибка при получении данных для формулы 0: 404\n"
          ]
        },
        {
          "output_type": "stream",
          "name": "stderr",
          "text": [
            "\rProcessing compounds:  99%|█████████▉| 2127/2143 [15:00<00:06,  2.50it/s]"
          ]
        },
        {
          "output_type": "stream",
          "name": "stdout",
          "text": [
            "Ошибка при получении данных для формулы CoFe2O4: 404\n",
            "Ошибка при получении данных для формулы 0: 404\n"
          ]
        },
        {
          "output_type": "stream",
          "name": "stderr",
          "text": [
            "\rProcessing compounds:  99%|█████████▉| 2128/2143 [15:00<00:06,  2.48it/s]"
          ]
        },
        {
          "output_type": "stream",
          "name": "stdout",
          "text": [
            "Ошибка при получении данных для формулы CoFe2O4: 404\n",
            "Ошибка при получении данных для формулы 0: 404\n"
          ]
        },
        {
          "output_type": "stream",
          "name": "stderr",
          "text": [
            "\rProcessing compounds:  99%|█████████▉| 2129/2143 [15:00<00:05,  2.49it/s]"
          ]
        },
        {
          "output_type": "stream",
          "name": "stdout",
          "text": [
            "Ошибка при получении данных для формулы CoFe2O4: 404\n",
            "Ошибка при получении данных для формулы 0: 404\n"
          ]
        },
        {
          "output_type": "stream",
          "name": "stderr",
          "text": [
            "\rProcessing compounds:  99%|█████████▉| 2130/2143 [15:01<00:05,  2.50it/s]"
          ]
        },
        {
          "output_type": "stream",
          "name": "stdout",
          "text": [
            "Ошибка при получении данных для формулы MnFe2O4: 404\n",
            "Ошибка при получении данных для формулы 0: 404\n"
          ]
        },
        {
          "output_type": "stream",
          "name": "stderr",
          "text": [
            "\rProcessing compounds:  99%|█████████▉| 2131/2143 [15:01<00:04,  2.52it/s]"
          ]
        },
        {
          "output_type": "stream",
          "name": "stdout",
          "text": [
            "Ошибка при получении данных для формулы MnFe2O4: 404\n",
            "Ошибка при получении данных для формулы 0: 404\n"
          ]
        },
        {
          "output_type": "stream",
          "name": "stderr",
          "text": [
            "\rProcessing compounds:  99%|█████████▉| 2132/2143 [15:02<00:04,  2.52it/s]"
          ]
        },
        {
          "output_type": "stream",
          "name": "stdout",
          "text": [
            "Ошибка при получении данных для формулы MnFe2O4: 404\n",
            "Ошибка при получении данных для формулы 0: 404\n"
          ]
        },
        {
          "output_type": "stream",
          "name": "stderr",
          "text": [
            "\rProcessing compounds: 100%|█████████▉| 2133/2143 [15:02<00:03,  2.52it/s]"
          ]
        },
        {
          "output_type": "stream",
          "name": "stdout",
          "text": [
            "Ошибка при получении данных для формулы MnFe2O4: 404\n",
            "Ошибка при получении данных для формулы 0: 404\n"
          ]
        },
        {
          "output_type": "stream",
          "name": "stderr",
          "text": [
            "\rProcessing compounds: 100%|█████████▉| 2134/2143 [15:02<00:03,  2.52it/s]"
          ]
        },
        {
          "output_type": "stream",
          "name": "stdout",
          "text": [
            "Ошибка при получении данных для формулы MnFe2O4: 404\n",
            "Ошибка при получении данных для формулы 0: 404\n"
          ]
        },
        {
          "output_type": "stream",
          "name": "stderr",
          "text": [
            "\rProcessing compounds: 100%|█████████▉| 2135/2143 [15:03<00:03,  2.52it/s]"
          ]
        },
        {
          "output_type": "stream",
          "name": "stdout",
          "text": [
            "Ошибка при получении данных для формулы MnFe2O4: 404\n",
            "Ошибка при получении данных для формулы 0: 404\n",
            "Ошибка при получении данных для формулы MnFe2O4: 404\n"
          ]
        },
        {
          "output_type": "stream",
          "name": "stderr",
          "text": [
            "\rProcessing compounds: 100%|█████████▉| 2136/2143 [15:03<00:02,  2.41it/s]"
          ]
        },
        {
          "output_type": "stream",
          "name": "stdout",
          "text": [
            "Ошибка при получении данных для формулы 0: 404\n"
          ]
        },
        {
          "output_type": "stream",
          "name": "stderr",
          "text": [
            "\rProcessing compounds: 100%|█████████▉| 2137/2143 [15:04<00:02,  2.39it/s]"
          ]
        },
        {
          "output_type": "stream",
          "name": "stdout",
          "text": [
            "Ошибка при получении данных для формулы MnFe2O4: 404\n",
            "Ошибка при получении данных для формулы 0: 404\n"
          ]
        },
        {
          "output_type": "stream",
          "name": "stderr",
          "text": [
            "\rProcessing compounds: 100%|█████████▉| 2138/2143 [15:04<00:02,  2.40it/s]"
          ]
        },
        {
          "output_type": "stream",
          "name": "stdout",
          "text": [
            "Сохранен и добавлен в архив: compound_11831558_c1.json\n",
            "Ошибка при получении данных для формулы 0: 404\n"
          ]
        },
        {
          "output_type": "stream",
          "name": "stderr",
          "text": [
            "\rProcessing compounds: 100%|█████████▉| 2139/2143 [15:04<00:01,  2.43it/s]"
          ]
        },
        {
          "output_type": "stream",
          "name": "stdout",
          "text": [
            "Сохранен и добавлен в архив: compound_11831558_c1.json\n",
            "Ошибка при получении данных для формулы 0: 404\n"
          ]
        },
        {
          "output_type": "stream",
          "name": "stderr",
          "text": [
            "\rProcessing compounds: 100%|█████████▉| 2140/2143 [15:05<00:01,  2.35it/s]"
          ]
        },
        {
          "output_type": "stream",
          "name": "stdout",
          "text": [
            "Сохранен и добавлен в архив: compound_11831558_c1.json\n",
            "Ошибка при получении данных для формулы 0: 404\n"
          ]
        },
        {
          "output_type": "stream",
          "name": "stderr",
          "text": [
            "\rProcessing compounds: 100%|█████████▉| 2141/2143 [15:06<00:01,  1.39it/s]"
          ]
        },
        {
          "output_type": "stream",
          "name": "stdout",
          "text": [
            "Сохранен и добавлен в архив: compound_11831558_c1.json\n",
            "Ошибка при получении данных для формулы 0: 404\n"
          ]
        },
        {
          "output_type": "stream",
          "name": "stderr",
          "text": [
            "\rProcessing compounds: 100%|█████████▉| 2142/2143 [15:07<00:00,  1.60it/s]"
          ]
        },
        {
          "output_type": "stream",
          "name": "stdout",
          "text": [
            "Сохранен и добавлен в архив: compound_11831558_c1.json\n",
            "Ошибка при получении данных для формулы 0: 404\n"
          ]
        },
        {
          "output_type": "stream",
          "name": "stderr",
          "text": [
            "Processing compounds: 100%|██████████| 2143/2143 [15:07<00:00,  2.36it/s]"
          ]
        },
        {
          "output_type": "stream",
          "name": "stdout",
          "text": [
            "Сохранен и добавлен в архив: compound_11831558_c1.json\n",
            "Ошибка при получении данных для формулы 0: 404\n",
            "CSV сохранен: /content/Megy_with_json_files.csv\n"
          ]
        },
        {
          "output_type": "stream",
          "name": "stderr",
          "text": [
            "\n"
          ]
        },
        {
          "output_type": "error",
          "ename": "FileNotFoundError",
          "evalue": "[Errno 2] No such file or directory: 'compound_935_c1.json'",
          "traceback": [
            "\u001b[0;31m---------------------------------------------------------------------------\u001b[0m",
            "\u001b[0;31mFileNotFoundError\u001b[0m                         Traceback (most recent call last)",
            "\u001b[0;32m<ipython-input-10-d1d4d625b905>\u001b[0m in \u001b[0;36m<cell line: 0>\u001b[0;34m()\u001b[0m\n\u001b[1;32m     84\u001b[0m \u001b[0;31m# Удаляем временные JSON-файлы после закрытия архива\u001b[0m\u001b[0;34m\u001b[0m\u001b[0;34m\u001b[0m\u001b[0m\n\u001b[1;32m     85\u001b[0m \u001b[0;32mfor\u001b[0m \u001b[0mfile\u001b[0m \u001b[0;32min\u001b[0m \u001b[0mjson_files\u001b[0m\u001b[0;34m:\u001b[0m\u001b[0;34m\u001b[0m\u001b[0;34m\u001b[0m\u001b[0m\n\u001b[0;32m---> 86\u001b[0;31m     \u001b[0mos\u001b[0m\u001b[0;34m.\u001b[0m\u001b[0mremove\u001b[0m\u001b[0;34m(\u001b[0m\u001b[0mfile\u001b[0m\u001b[0;34m)\u001b[0m\u001b[0;34m\u001b[0m\u001b[0;34m\u001b[0m\u001b[0m\n\u001b[0m\u001b[1;32m     87\u001b[0m \u001b[0;34m\u001b[0m\u001b[0m\n\u001b[1;32m     88\u001b[0m \u001b[0mprint\u001b[0m\u001b[0;34m(\u001b[0m\u001b[0;34mf\"Все файлы сохранены в архив: {zip_filename}\"\u001b[0m\u001b[0;34m)\u001b[0m\u001b[0;34m\u001b[0m\u001b[0;34m\u001b[0m\u001b[0m\n",
            "\u001b[0;31mFileNotFoundError\u001b[0m: [Errno 2] No such file or directory: 'compound_935_c1.json'"
          ]
        }
      ],
      "source": [
        "import pandas as pd\n",
        "import requests\n",
        "import json\n",
        "import zipfile\n",
        "from tqdm import tqdm\n",
        "import os\n",
        "\n",
        "# Чтение данных из CSV\n",
        "df = pd.read_csv('/content/Megy_final.csv')\n",
        "\n",
        "# Функция для получения информации о химическом веществе через PubChem API\n",
        "def get_pubchem_data(formula):\n",
        "    base_url = 'https://pubchem.ncbi.nlm.nih.gov/rest/pug/compound/'\n",
        "    url = f'{base_url}name/{formula}/JSON'\n",
        "    response = requests.get(url)\n",
        "\n",
        "    if response.status_code == 200:\n",
        "        return response.json()\n",
        "    else:\n",
        "        print(f\"Ошибка при получении данных для формулы {formula}: {response.status_code}\")\n",
        "        return None\n",
        "\n",
        "# Функция для сохранения данных в JSON файл\n",
        "def save_to_json(data, filename):\n",
        "    with open(filename, 'w') as json_file:\n",
        "        json.dump(data, json_file, indent=4)\n",
        "\n",
        "# Создание архива\n",
        "zip_filename = '/content/a_compounds_data.zip'\n",
        "file_names_c1 = []\n",
        "file_names_c2 = []\n",
        "json_files = []  # Список для последующего удаления файлов\n",
        "\n",
        "with zipfile.ZipFile(zip_filename, 'w', zipfile.ZIP_DEFLATED) as zipf:\n",
        "    for index, row in tqdm(df.iterrows(), total=len(df), desc=\"Processing compounds\"):\n",
        "        formula_c1 = row['orig_c1']\n",
        "        formula_c2 = row['orig_c2']\n",
        "\n",
        "        # Обработка формулы c1\n",
        "        data_c1 = get_pubchem_data(formula_c1)\n",
        "        if data_c1 and 'PC_Compounds' in data_c1:\n",
        "            compound_id_c1 = data_c1['PC_Compounds'][0]['id']['id']['cid']\n",
        "            file_c1 = f'compound_{compound_id_c1}_c1.json'\n",
        "            save_to_json(data_c1, file_c1)\n",
        "\n",
        "            if os.path.exists(file_c1):  # Проверяем, что файл действительно создан\n",
        "                zipf.write(file_c1)\n",
        "                json_files.append(file_c1)  # Добавляем в список для удаления\n",
        "                file_names_c1.append(file_c1)\n",
        "                print(f\"Сохранен и добавлен в архив: {file_c1}\")\n",
        "            else:\n",
        "                file_names_c1.append('0')\n",
        "\n",
        "        else:\n",
        "            file_names_c1.append('0')\n",
        "\n",
        "        # Обработка формулы c2\n",
        "        data_c2 = get_pubchem_data(formula_c2)\n",
        "        if data_c2 and 'PC_Compounds' in data_c2:\n",
        "            compound_id_c2 = data_c2['PC_Compounds'][0]['id']['id']['cid']\n",
        "            file_c2 = f'compound_{compound_id_c2}_c2.json'\n",
        "            save_to_json(data_c2, file_c2)\n",
        "\n",
        "            if os.path.exists(file_c2):  # Проверяем, что файл действительно создан\n",
        "                zipf.write(file_c2)\n",
        "                json_files.append(file_c2)\n",
        "                file_names_c2.append(file_c2)\n",
        "                print(f\"Сохранен и добавлен в архив: {file_c2}\")\n",
        "            else:\n",
        "                file_names_c2.append('0')\n",
        "\n",
        "        else:\n",
        "            file_names_c2.append('0')\n",
        "\n",
        "# Добавляем столбцы с именами файлов в DataFrame\n",
        "df['json_files_c1'] = file_names_c1\n",
        "df['json_files_c2'] = file_names_c2\n",
        "\n",
        "# Сохранение DataFrame в новый CSV\n",
        "csv_output_path = '/content/Megy_json_files.csv'\n",
        "df.to_csv(csv_output_path, index=False)\n",
        "print(f\"CSV сохранен: {csv_output_path}\")\n",
        "\n",
        "\n",
        "print(f\"Все файлы сохранены в архив: {zip_filename}\")"
      ]
    },
    {
      "cell_type": "code",
      "source": [
        "from google.colab import drive\n",
        "drive.mount('/content/drive')"
      ],
      "metadata": {
        "colab": {
          "base_uri": "https://localhost:8080/"
        },
        "id": "-Hm0T54MjWdR",
        "outputId": "9edc04c6-7582-4309-d340-a51b4a755316"
      },
      "execution_count": null,
      "outputs": [
        {
          "output_type": "stream",
          "name": "stdout",
          "text": [
            "Drive already mounted at /content/drive; to attempt to forcibly remount, call drive.mount(\"/content/drive\", force_remount=True).\n"
          ]
        }
      ]
    }
  ]
}